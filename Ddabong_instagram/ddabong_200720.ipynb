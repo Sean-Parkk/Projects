{
 "cells": [
  {
   "cell_type": "code",
   "execution_count": 1,
   "metadata": {},
   "outputs": [],
   "source": [
    "from bs4 import BeautifulSoup\n",
    "from selenium import webdriver\n",
    "import time"
   ]
  },
  {
   "cell_type": "code",
   "execution_count": 10,
   "metadata": {},
   "outputs": [
    {
     "name": "stdout",
     "output_type": "stream",
     "text": [
      "인스타그램에서 검색할 키워드를 입력하세요: \n",
      "인스타그램 id를 입력하세요: \n",
      "인스타그램 비밀번호를 입력하세요: \n",
      "몇 개의 게시물에 따봉을 누를까요?: \n"
     ]
    },
    {
     "ename": "ValueError",
     "evalue": "invalid literal for int() with base 10: ''",
     "output_type": "error",
     "traceback": [
      "\u001b[0;31m---------------------------------------------------------------------------\u001b[0m",
      "\u001b[0;31mValueError\u001b[0m                                Traceback (most recent call last)",
      "\u001b[0;32m<ipython-input-10-1dbde575651b>\u001b[0m in \u001b[0;36m<module>\u001b[0;34m\u001b[0m\n\u001b[1;32m      2\u001b[0m \u001b[0mid_\u001b[0m \u001b[0;34m=\u001b[0m \u001b[0minput\u001b[0m\u001b[0;34m(\u001b[0m\u001b[0;34m'인스타그램 id를 입력하세요: '\u001b[0m\u001b[0;34m)\u001b[0m\u001b[0;34m\u001b[0m\u001b[0;34m\u001b[0m\u001b[0m\n\u001b[1;32m      3\u001b[0m \u001b[0mpw_\u001b[0m \u001b[0;34m=\u001b[0m \u001b[0minput\u001b[0m\u001b[0;34m(\u001b[0m\u001b[0;34m'인스타그램 비밀번호를 입력하세요: '\u001b[0m\u001b[0;34m)\u001b[0m\u001b[0;34m\u001b[0m\u001b[0;34m\u001b[0m\u001b[0m\n\u001b[0;32m----> 4\u001b[0;31m \u001b[0mcount\u001b[0m \u001b[0;34m=\u001b[0m \u001b[0mint\u001b[0m\u001b[0;34m(\u001b[0m\u001b[0minput\u001b[0m\u001b[0;34m(\u001b[0m\u001b[0;34m'몇 개의 게시물에 따봉을 누를까요?: '\u001b[0m\u001b[0;34m)\u001b[0m\u001b[0;34m)\u001b[0m\u001b[0;34m\u001b[0m\u001b[0;34m\u001b[0m\u001b[0m\n\u001b[0m",
      "\u001b[0;31mValueError\u001b[0m: invalid literal for int() with base 10: ''"
     ]
    }
   ],
   "source": [
    "keyword = input('인스타그램에서 검색할 키워드를 입력하세요: ')\n",
    "id_ = input('인스타그램 id를 입력하세요: ')\n",
    "pw_ = input('인스타그램 비밀번호를 입력하세요: ')\n",
    "count = int(input('몇 개의 게시물에 따봉을 누를까요?: '))\n",
    "comment_ = input('어떤 댓글을 남길건가요?(이모지 사용 불가): ')"
   ]
  },
  {
   "cell_type": "code",
   "execution_count": 3,
   "metadata": {},
   "outputs": [],
   "source": [
    "# 드라이버 실행 및 인스타그램 접속\n",
    "driver = webdriver.Chrome('/Users/estherhong/Downloads/chromedriver')\n",
    "driver.get('https://www.instagram.com/explore/tags/{}/'.format(keyword))\n",
    "driver.implicitly_wait(10)\n",
    "# 로그인 버튼 클릭\n",
    "driver.find_element_by_css_selector('#react-root > section > \\\n",
    "nav > div._8MQSO.Cx7Bp > div > div > div.ctQZg > div > span > a:nth-child(1) > button').click()\n",
    "# id 입력\n",
    "driver.find_element_by_css_selector('#react-root > section > main > div > article > div > \\\n",
    "div:nth-child(1) > div > form > div:nth-child(2) > div > label > input').send_keys(id_)\n",
    "# pw 입력\n",
    "driver.find_element_by_css_selector('#react-root > section > main > div > article > div > \\\n",
    "div:nth-child(1) > div > form > div:nth-child(3) > div > label > input').send_keys(pw_)\n",
    "# 로그인 클릭\n",
    "driver.find_element_by_css_selector('#react-root > section > main > div > article > div > \\\n",
    "div:nth-child(1) > div > form > div:nth-child(4)').click()\n",
    "driver.implicitly_wait(10)\n",
    "time.sleep(2)\n",
    "# 로그인 정보 기억하냐고 묻는 페이지 스킵\n",
    "try:\n",
    "    driver.find_element_by_css_selector('#react-root > section > \\\n",
    "    main > div > div > div > div > button').click()\n",
    "except:\n",
    "    pass\n",
    "driver.implicitly_wait(10)\n",
    "time.sleep(2)\n",
    "# 첫 이미지 클릭\n",
    "driver.find_element_by_css_selector('#react-root > section > main > article > div:nth-child(3) > \\\n",
    "div > div:nth-child(1) > div:nth-child(1) > a > div').click()"
   ]
  },
  {
   "cell_type": "code",
   "execution_count": 4,
   "metadata": {},
   "outputs": [],
   "source": [
    "def like_and_next(like=True, t=3):\n",
    "    # click like button\n",
    "    if like:\n",
    "        driver.find_element_by_css_selector('body > div._2dDPU.CkGkG > div.zZYga > \\\n",
    "        div > article > div.eo2As > section.ltpMr.Slqrh > span.fr66n > button > div > svg').click()\n",
    "        time.sleep(t)\n",
    "    \n",
    "    # click next button\n",
    "    next_click = driver.find_element_by_css_selector('body > div._2dDPU.CkGkG > div.EfHg9 > \\\n",
    "    div > div > a._65Bje.coreSpriteRightPaginationArrow').click()\n",
    "    time.sleep(t)"
   ]
  },
  {
   "cell_type": "code",
   "execution_count": 108,
   "metadata": {},
   "outputs": [
    {
     "name": "stdout",
     "output_type": "stream",
     "text": [
      "오잉\n",
      "오잉\n",
      "오잉\n",
      "오잉\n",
      "오잉\n",
      "오잉\n",
      "오잉\n",
      "오잉\n",
      "2 개 좋아요 완료\n"
     ]
    }
   ],
   "source": [
    "# 테스트\n",
    "c = 0\n",
    "for i in range(count):\n",
    "    time.sleep(1)\n",
    "    soup = driver.page_source\n",
    "    b = BeautifulSoup(soup, 'lxml')\n",
    "    # 좋아요가 이미 눌러져있으면 다음 게시물로 이동\n",
    "    if str(b.find_all('button')).find('좋아요 취소') > 0:\n",
    "        like_and_next(like=False)\n",
    "        continue\n",
    "    try:# 댓글창 선택\n",
    "        driver.find_element_by_css_selector('body > div._2dDPU.CkGkG > div.zZYga > div > article > div.eo2As > \\\n",
    "        section.ltpMr.Slqrh > span._15y0l > button > div > svg').click()\n",
    "        # 댓글 쓰기\n",
    "        driver.find_element_by_css_selector('body > div._2dDPU.CkGkG > div.zZYga > div > \\\n",
    "        article > div.eo2As > section.sH9wk._JgwE > div > form > textarea').send_keys(comment_)\n",
    "        time.sleep(1)\n",
    "        # 댓글 등록\n",
    "        driver.find_element_by_css_selector('body > div._2dDPU.CkGkG > div.zZYga > div > \\\n",
    "        article > div.eo2As > section.sH9wk._JgwE > div > form > button').click()\n",
    "        driver.implicitly_wait(10)\n",
    "        time.sleep(2)\n",
    "    except:\n",
    "        pass\n",
    "    # 좋아요 누르고 다음으로 넘어가기\n",
    "    like_and_next()\n",
    "    c += 1\n",
    "print(c,'개 좋아요 완료')"
   ]
  }
 ],
 "metadata": {
  "kernelspec": {
   "display_name": "Python 3",
   "language": "python",
   "name": "python3"
  },
  "language_info": {
   "codemirror_mode": {
    "name": "ipython",
    "version": 3
   },
   "file_extension": ".py",
   "mimetype": "text/x-python",
   "name": "python",
   "nbconvert_exporter": "python",
   "pygments_lexer": "ipython3",
   "version": "3.7.6"
  }
 },
 "nbformat": 4,
 "nbformat_minor": 4
}
