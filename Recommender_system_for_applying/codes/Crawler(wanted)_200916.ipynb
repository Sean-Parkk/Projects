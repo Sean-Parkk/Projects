{
 "cells": [
  {
   "cell_type": "markdown",
   "metadata": {},
   "source": [
    "# 큐펭 크롤러\n",
    "* Wanted에서 데이터 분석가 공고 크롤링하기"
   ]
  },
  {
   "cell_type": "markdown",
   "metadata": {
    "toc": true
   },
   "source": [
    "<h1>Table of Contents<span class=\"tocSkip\"></span></h1>\n",
    "<div class=\"toc\"><ul class=\"toc-item\"></ul></div>"
   ]
  },
  {
   "cell_type": "code",
   "execution_count": 1,
   "metadata": {
    "ExecuteTime": {
     "end_time": "2020-09-16T08:11:22.163201Z",
     "start_time": "2020-09-16T08:11:19.815119Z"
    }
   },
   "outputs": [],
   "source": [
    "import pandas as pd\n",
    "from selenium import webdriver\n",
    "from bs4 import BeautifulSoup\n",
    "import re\n",
    "from tqdm import tqdm_notebook\n",
    "import time"
   ]
  },
  {
   "cell_type": "code",
   "execution_count": 14,
   "metadata": {
    "ExecuteTime": {
     "end_time": "2020-09-16T08:20:23.798932Z",
     "start_time": "2020-09-16T08:20:19.982952Z"
    }
   },
   "outputs": [],
   "source": [
    "driver = webdriver.Chrome('chromedriver/chromedriver.exe')"
   ]
  },
  {
   "cell_type": "code",
   "execution_count": 15,
   "metadata": {
    "ExecuteTime": {
     "end_time": "2020-09-16T08:20:23.830834Z",
     "start_time": "2020-09-16T08:20:23.802909Z"
    }
   },
   "outputs": [],
   "source": [
    "# 함수 지정\n",
    "\n",
    "# 주요업무, 자격요건, 우대사항 가져오기\n",
    "def FindElements(keyword, b):\n",
    "    b = str(b)\n",
    "    start = b.find('<h6>{}</h6>'.format(keyword))+22    # +22: header태그와 p, span 태그 제거\n",
    "    end = b[start:].find('</p>')-7    # span태그 제거\n",
    "    str_ = b[start:start+end].replace('<br/>', '\\n')\n",
    "    return str_\n",
    "\n",
    "# 스크롤 끝까지 내리기\n",
    "def ScrollToBottom(t=0.5):\n",
    "    # Get scroll height\n",
    "    last_height = driver.execute_script(\"return document.body.scrollHeight\")\n",
    "    while True:\n",
    "        # Scroll down to bottom\n",
    "        driver.execute_script(\"window.scrollTo(0, document.body.scrollHeight);\")\n",
    "\n",
    "        # Wait to load page\n",
    "        time.sleep(t)\n",
    "\n",
    "        # Calculate new scroll height and compare with last scroll height\n",
    "        new_height = driver.execute_script(\"return document.body.scrollHeight\")\n",
    "        if new_height == last_height:\n",
    "            break\n",
    "        last_height = new_height"
   ]
  },
  {
   "cell_type": "code",
   "execution_count": 16,
   "metadata": {
    "ExecuteTime": {
     "end_time": "2020-09-16T08:20:34.822935Z",
     "start_time": "2020-09-16T08:20:23.836817Z"
    }
   },
   "outputs": [],
   "source": [
    "# 사람인 페이지 접속\n",
    "driver.get('https://www.wanted.co.kr/wdlist/507/656?country=kr&\\\n",
    "            job_sort=job.latest_order&years=-1&locations=all')\n",
    "ScrollToBottom()\n",
    "driver.implicitly_wait(10)\n",
    "driver.execute_script(\"window.scrollTo(0, 0);\")"
   ]
  },
  {
   "cell_type": "code",
   "execution_count": 17,
   "metadata": {
    "ExecuteTime": {
     "end_time": "2020-09-16T08:20:34.853853Z",
     "start_time": "2020-09-16T08:20:34.830925Z"
    }
   },
   "outputs": [],
   "source": [
    "# dict 선언\n",
    "jd = {'name': [], 'position': [], 'wanted_cat': [], 'about': [], 'roll': [], 'qual': [],\n",
    "      'pref': [], 'category': [], 'tags': [], 'link': []}"
   ]
  },
  {
   "cell_type": "code",
   "execution_count": 18,
   "metadata": {
    "ExecuteTime": {
     "end_time": "2020-09-16T08:20:34.900729Z",
     "start_time": "2020-09-16T08:20:34.857844Z"
    }
   },
   "outputs": [],
   "source": [
    "dict_url = {'머신러닝 엔지니어': 'https://www.wanted.co.kr/wdlist/518/1634?country=kr&job_sort=job.latest_order&years=-1&locations=all',\n",
    "            '데이터 엔지니어': 'https://www.wanted.co.kr/wdlist/518/655?country=kr&job_sort=job.latest_order&years=-1&locations=all',\n",
    "            '데이터 사이언티스트': 'https://www.wanted.co.kr/wdlist/518/1024?country=kr&job_sort=job.latest_order&years=-1&locations=all',\n",
    "            '데이터 분석가': 'https://www.wanted.co.kr/wdlist/507/656?country=kr&job_sort=job.latest_order&years=-1&locations=all'}"
   ]
  },
  {
   "cell_type": "code",
   "execution_count": 19,
   "metadata": {
    "ExecuteTime": {
     "end_time": "2020-09-16T09:26:45.800653Z",
     "start_time": "2020-09-16T08:20:34.905714Z"
    }
   },
   "outputs": [
    {
     "name": "stderr",
     "output_type": "stream",
     "text": [
      "C:\\Users\\samsung\\Anaconda3\\lib\\site-packages\\ipykernel_launcher.py:20: TqdmDeprecationWarning: This function will be removed in tqdm==5.0.0\n",
      "Please use `tqdm.notebook.tqdm` instead of `tqdm.tqdm_notebook`\n"
     ]
    },
    {
     "data": {
      "application/vnd.jupyter.widget-view+json": {
       "model_id": "041ea11a6d8c4af1843be990ee1990b4",
       "version_major": 2,
       "version_minor": 0
      },
      "text/plain": [
       "HBox(children=(FloatProgress(value=0.0, max=124.0), HTML(value='')))"
      ]
     },
     "metadata": {},
     "output_type": "display_data"
    },
    {
     "name": "stdout",
     "output_type": "stream",
     "text": [
      "\n"
     ]
    },
    {
     "data": {
      "application/vnd.jupyter.widget-view+json": {
       "model_id": "9421208196e442f391603add804fb841",
       "version_major": 2,
       "version_minor": 0
      },
      "text/plain": [
       "HBox(children=(FloatProgress(value=0.0, max=183.0), HTML(value='')))"
      ]
     },
     "metadata": {},
     "output_type": "display_data"
    },
    {
     "name": "stdout",
     "output_type": "stream",
     "text": [
      "\n"
     ]
    },
    {
     "data": {
      "application/vnd.jupyter.widget-view+json": {
       "model_id": "7f60c665e9794f708f0bfeb34c633391",
       "version_major": 2,
       "version_minor": 0
      },
      "text/plain": [
       "HBox(children=(FloatProgress(value=0.0, max=140.0), HTML(value='')))"
      ]
     },
     "metadata": {},
     "output_type": "display_data"
    },
    {
     "name": "stdout",
     "output_type": "stream",
     "text": [
      "\n"
     ]
    },
    {
     "data": {
      "application/vnd.jupyter.widget-view+json": {
       "model_id": "51df460d045a450886ef6173ba0a7c3e",
       "version_major": 2,
       "version_minor": 0
      },
      "text/plain": [
       "HBox(children=(FloatProgress(value=0.0, max=92.0), HTML(value='')))"
      ]
     },
     "metadata": {},
     "output_type": "display_data"
    },
    {
     "name": "stdout",
     "output_type": "stream",
     "text": [
      "\n"
     ]
    }
   ],
   "source": [
    "for wanted_cat, url in zip(dict_url.keys(), dict_url.values()):\n",
    "    # 사람인 페이지 접속\n",
    "    driver.get(url)\n",
    "    for _ in range(10):\n",
    "        ScrollToBottom()\n",
    "        driver.implicitly_wait(10)\n",
    "        time.sleep(1)\n",
    "        \n",
    "    driver.execute_script(\"window.scrollTo(0, 0);\")\n",
    "    \n",
    "    # 포지션 수 찾기\n",
    "    soup = driver.page_source\n",
    "    b = BeautifulSoup(soup, 'lxml')\n",
    "    count_position = len(str(b.find_all('ul', 'clearfix')).split('<li>'))-1\n",
    "\n",
    "    driver.implicitly_wait(10)\n",
    "    time.sleep(2)\n",
    "\n",
    "    # 크롤링 시작\n",
    "    for num in tqdm_notebook(range(1, count_position+1)):\n",
    "        # 스크롤 내리기\n",
    "        try:\n",
    "            driver.find_element_by_css_selector('#__next > div > div._1yHloYOs_bDD0E-s121Oaa > \\\n",
    "            div._2y4sIVmvSrf6Iy63okz9Qh > div > ul > li:nth-child({}) > div > a > header'.format(num)).click()\n",
    "        except:\n",
    "            driver.execute_script(\"window.scrollTo(0, document.body.scrollHeight);\")# 공고 클릭\n",
    "\n",
    "        # 페이지 로딩 대기\n",
    "        driver.implicitly_wait(10)\n",
    "        time.sleep(3)\n",
    "        # 페이지 소스 가져오기\n",
    "        soup = driver.page_source\n",
    "        b = BeautifulSoup(soup, 'lxml')\n",
    "        time.sleep(1)\n",
    "        # -------------------------------------------\n",
    "        # ----------------크롤링 시작----------------\n",
    "\n",
    "        # 회사소개\n",
    "        jd['about'].append(driver.find_element_by_css_selector('#__next > div > div._37L2cip40tqu3zm3KC4dAa > div._17tolBMfrAeoPmo6I9pA1P > div._1FVm15xN253istI2zLF_Ax > div > div._31EtVNPZ-KwYCXvVZ3927g > section._1LnfhLPc7hiSZaaXxRv11H > p:nth-child(1) > span').text)\n",
    "        # 주요업무, 자격요건, 우대사항\n",
    "        jd['roll'].append(FindElements('주요업무', b))\n",
    "        jd['qual'].append(FindElements('자격요건', b))\n",
    "        jd['pref'].append(FindElements('우대사항', b))\n",
    "\n",
    "        # 회사명, 회사 카테고리, 직무명, 링크, 원티드 카테고리\n",
    "        jd['name'].append(b.find_all('h6')[0].text)\n",
    "        jd['category'].append(b.find_all('h6')[-1].text)\n",
    "        jd['position'].append(b.find_all('h2')[0].text)\n",
    "        jd['link'].append(driver.current_url)\n",
    "        jd['wanted_cat'].append(wanted_cat)\n",
    "\n",
    "        # 태그\n",
    "        p = re.compile('#{1}[\\w,\\s]*')\n",
    "        hashtags = str(b.find_all('div', 'ObubI7m2AFE5fxlR8Va9t', 'li'))    # 해시태그 찾아내기\n",
    "        jd['tags'].append(list(map(lambda x: x[1:], p.findall(hashtags))))    # 해시태그에서 '#' 지우기\n",
    "        # ----------------크롤링 끝----------------\n",
    "        # -----------------------------------------\n",
    "\n",
    "        # 매크로 방지\n",
    "        time.sleep(1)\n",
    "\n",
    "        # 뒤로 가기\n",
    "        driver.back()\n",
    "        driver.implicitly_wait(10)"
   ]
  },
  {
   "cell_type": "code",
   "execution_count": 20,
   "metadata": {
    "ExecuteTime": {
     "end_time": "2020-09-16T09:27:05.261833Z",
     "start_time": "2020-09-16T09:27:05.211971Z"
    },
    "scrolled": true
   },
   "outputs": [],
   "source": [
    "df = pd.DataFrame(jd)"
   ]
  },
  {
   "cell_type": "code",
   "execution_count": 24,
   "metadata": {
    "ExecuteTime": {
     "end_time": "2020-09-16T09:27:30.474425Z",
     "start_time": "2020-09-16T09:27:30.276951Z"
    }
   },
   "outputs": [],
   "source": [
    "df.to_csv('source/cute_penguins_1/wanted_raw.csv', index=False)"
   ]
  },
  {
   "cell_type": "code",
   "execution_count": 22,
   "metadata": {
    "ExecuteTime": {
     "end_time": "2020-09-16T09:27:08.963935Z",
     "start_time": "2020-09-16T09:27:08.918058Z"
    }
   },
   "outputs": [
    {
     "data": {
      "text/html": [
       "<div>\n",
       "<style scoped>\n",
       "    .dataframe tbody tr th:only-of-type {\n",
       "        vertical-align: middle;\n",
       "    }\n",
       "\n",
       "    .dataframe tbody tr th {\n",
       "        vertical-align: top;\n",
       "    }\n",
       "\n",
       "    .dataframe thead th {\n",
       "        text-align: right;\n",
       "    }\n",
       "</style>\n",
       "<table border=\"1\" class=\"dataframe\">\n",
       "  <thead>\n",
       "    <tr style=\"text-align: right;\">\n",
       "      <th></th>\n",
       "      <th>name</th>\n",
       "      <th>position</th>\n",
       "      <th>wanted_cat</th>\n",
       "      <th>about</th>\n",
       "      <th>roll</th>\n",
       "      <th>qual</th>\n",
       "      <th>pref</th>\n",
       "      <th>category</th>\n",
       "      <th>tags</th>\n",
       "      <th>link</th>\n",
       "    </tr>\n",
       "  </thead>\n",
       "  <tbody>\n",
       "    <tr>\n",
       "      <td>0</td>\n",
       "      <td>룩인바디</td>\n",
       "      <td>[인바디 앱] Data Scientist</td>\n",
       "      <td>머신러닝 엔지니어</td>\n",
       "      <td>인바디에서 2018년 분사 후, \\n200만+ 사용자, 2,500만+ 인바디데이터의...</td>\n",
       "      <td>- 데이터 파이프라인 중 개선이 필요한 사항이 무엇인지 검토하고 개선안을 도출하여 ...</td>\n",
       "      <td>- 데이터 관련 업무를 1년 이상 수행하신 분\\n- 주도적인 문제 해결의 경험이 있...</td>\n",
       "      <td>- 룩인바디와 함께 성장하길 희망하며, 다양한 역할 수행에 대해 열려있는 분\\n- ...</td>\n",
       "      <td>IT, 컨텐츠</td>\n",
       "      <td>[연봉업계평균이상, 인원급성장, 50명이하, 설립3년이하, 성과급, 생일선물, 결혼...</td>\n",
       "      <td>https://www.wanted.co.kr/wd/34549</td>\n",
       "    </tr>\n",
       "    <tr>\n",
       "      <td>1</td>\n",
       "      <td>투블럭에이아이</td>\n",
       "      <td>AI 자연어처리 관련 서비스 개발</td>\n",
       "      <td>머신러닝 엔지니어</td>\n",
       "      <td>최신 Deep NLP 기술의 현실 업무 적용의 경험을 통해서 인공지능과 업무자동화의...</td>\n",
       "      <td>NLP 관련 기술개발 \\nNER , MRC 등 Task 모듈 개발 \\n데이터 정제 ...</td>\n",
       "      <td>• NP 관련 기술 Stack 보유자 (단순히 자연어처리에 관심이 있으신 분은 거절...</td>\n",
       "      <td>• 전산학 석사 이상, 자연어처리 전공자 우대, 검색 포탈 경력자 우대\\n• 유관 ...</td>\n",
       "      <td>IT, 컨텐츠</td>\n",
       "      <td>[인원급성장, 50명이하, 설립3년이하, 인공지능, IT, 컨텐츠]</td>\n",
       "      <td>https://www.wanted.co.kr/wd/44279</td>\n",
       "    </tr>\n",
       "    <tr>\n",
       "      <td>2</td>\n",
       "      <td>뉴로핏(NEUROPHET)</td>\n",
       "      <td>의료영상 인공지능 엔지니어</td>\n",
       "      <td>머신러닝 엔지니어</td>\n",
       "      <td>뉴로핏은 뛰어난 뇌공학, 의료인공지능 기술을 실제 의료현장에 적용하여 의료진의 불편...</td>\n",
       "      <td>• 의료영상 기반 분석방법론(신경망 포함) 개발, 검증, 업데이트\\n• 의료영상을 ...</td>\n",
       "      <td>• 신경망관련 연구 2년 이상\\n• Tensorflow 사용 능력 (중급)\\n• P...</td>\n",
       "      <td>• 의료 인공지능 구현 경험자 (segmentation/classification)...</td>\n",
       "      <td>전문, 과학기술</td>\n",
       "      <td>[연봉상위20, 인원급성장, 50명이하, 설립3년이하, 스타트업, 커피, 재택근무,...</td>\n",
       "      <td>https://www.wanted.co.kr/wd/18473</td>\n",
       "    </tr>\n",
       "  </tbody>\n",
       "</table>\n",
       "</div>"
      ],
      "text/plain": [
       "             name                position wanted_cat  \\\n",
       "0            룩인바디  [인바디 앱] Data Scientist  머신러닝 엔지니어   \n",
       "1         투블럭에이아이      AI 자연어처리 관련 서비스 개발  머신러닝 엔지니어   \n",
       "2  뉴로핏(NEUROPHET)          의료영상 인공지능 엔지니어  머신러닝 엔지니어   \n",
       "\n",
       "                                               about  \\\n",
       "0  인바디에서 2018년 분사 후, \\n200만+ 사용자, 2,500만+ 인바디데이터의...   \n",
       "1  최신 Deep NLP 기술의 현실 업무 적용의 경험을 통해서 인공지능과 업무자동화의...   \n",
       "2  뉴로핏은 뛰어난 뇌공학, 의료인공지능 기술을 실제 의료현장에 적용하여 의료진의 불편...   \n",
       "\n",
       "                                                roll  \\\n",
       "0  - 데이터 파이프라인 중 개선이 필요한 사항이 무엇인지 검토하고 개선안을 도출하여 ...   \n",
       "1  NLP 관련 기술개발 \\nNER , MRC 등 Task 모듈 개발 \\n데이터 정제 ...   \n",
       "2  • 의료영상 기반 분석방법론(신경망 포함) 개발, 검증, 업데이트\\n• 의료영상을 ...   \n",
       "\n",
       "                                                qual  \\\n",
       "0  - 데이터 관련 업무를 1년 이상 수행하신 분\\n- 주도적인 문제 해결의 경험이 있...   \n",
       "1  • NP 관련 기술 Stack 보유자 (단순히 자연어처리에 관심이 있으신 분은 거절...   \n",
       "2  • 신경망관련 연구 2년 이상\\n• Tensorflow 사용 능력 (중급)\\n• P...   \n",
       "\n",
       "                                                pref  category  \\\n",
       "0  - 룩인바디와 함께 성장하길 희망하며, 다양한 역할 수행에 대해 열려있는 분\\n- ...   IT, 컨텐츠   \n",
       "1  • 전산학 석사 이상, 자연어처리 전공자 우대, 검색 포탈 경력자 우대\\n• 유관 ...   IT, 컨텐츠   \n",
       "2  • 의료 인공지능 구현 경험자 (segmentation/classification)...  전문, 과학기술   \n",
       "\n",
       "                                                tags  \\\n",
       "0  [연봉업계평균이상, 인원급성장, 50명이하, 설립3년이하, 성과급, 생일선물, 결혼...   \n",
       "1              [인원급성장, 50명이하, 설립3년이하, 인공지능, IT, 컨텐츠]   \n",
       "2  [연봉상위20, 인원급성장, 50명이하, 설립3년이하, 스타트업, 커피, 재택근무,...   \n",
       "\n",
       "                                link  \n",
       "0  https://www.wanted.co.kr/wd/34549  \n",
       "1  https://www.wanted.co.kr/wd/44279  \n",
       "2  https://www.wanted.co.kr/wd/18473  "
      ]
     },
     "execution_count": 22,
     "metadata": {},
     "output_type": "execute_result"
    }
   ],
   "source": [
    "df.head(3)"
   ]
  },
  {
   "cell_type": "code",
   "execution_count": 23,
   "metadata": {
    "ExecuteTime": {
     "end_time": "2020-09-16T09:27:19.739125Z",
     "start_time": "2020-09-16T09:27:19.693249Z"
    },
    "scrolled": true
   },
   "outputs": [
    {
     "data": {
      "text/html": [
       "<div>\n",
       "<style scoped>\n",
       "    .dataframe tbody tr th:only-of-type {\n",
       "        vertical-align: middle;\n",
       "    }\n",
       "\n",
       "    .dataframe tbody tr th {\n",
       "        vertical-align: top;\n",
       "    }\n",
       "\n",
       "    .dataframe thead th {\n",
       "        text-align: right;\n",
       "    }\n",
       "</style>\n",
       "<table border=\"1\" class=\"dataframe\">\n",
       "  <thead>\n",
       "    <tr style=\"text-align: right;\">\n",
       "      <th></th>\n",
       "      <th>name</th>\n",
       "      <th>position</th>\n",
       "      <th>wanted_cat</th>\n",
       "      <th>about</th>\n",
       "      <th>roll</th>\n",
       "      <th>qual</th>\n",
       "      <th>pref</th>\n",
       "      <th>category</th>\n",
       "      <th>tags</th>\n",
       "      <th>link</th>\n",
       "    </tr>\n",
       "  </thead>\n",
       "  <tbody>\n",
       "    <tr>\n",
       "      <td>536</td>\n",
       "      <td>윙블링</td>\n",
       "      <td>데이터분석, 그로스해킹, PM</td>\n",
       "      <td>데이터 분석가</td>\n",
       "      <td>윙블링 소개 \\n\\n\u0003윙블링은 '아름다움에 날개를달다'라는 미션과 함께 빠르게 성장...</td>\n",
       "      <td>• 데이터분석 및 시각화 (자사몰, Paid Marketing 채널, SCM 등)\\...</td>\n",
       "      <td>• 커머스 분야 퍼포먼스 마케팅, 자사몰 데이터 분석, UX/UI 기획 경험\\n• ...</td>\n",
       "      <td>• 기술적으로 부족한 카페24 기능을 바탕으로 데이터를 고도화하여 분석해보신 분\\n...</td>\n",
       "      <td>판매, 유통</td>\n",
       "      <td>[간식, 50명이하, 설립10년미만, 퇴사율5, 스타트업, 커피, 판매, 유통]</td>\n",
       "      <td>https://www.wanted.co.kr/wd/34773</td>\n",
       "    </tr>\n",
       "    <tr>\n",
       "      <td>537</td>\n",
       "      <td>여기어때컴퍼니</td>\n",
       "      <td>VC전략팀 시니어</td>\n",
       "      <td>데이터 분석가</td>\n",
       "      <td>좋은 숙소에서 행복한 시간을!\\n\\n위드이노베이션은 숙박 여정의 불편함을 해결하고 ...</td>\n",
       "      <td>- 전사 전략 수립 및 핵심 지표 관리\\n- 전사 및 사업부 단위 프로젝트(Valu...</td>\n",
       "      <td>- 경영/전략 컨설팅 경력 5~8년 이상 또는 플랫폼 사업 전략기획 경력 5~8년 ...</td>\n",
       "      <td>- 국내외 메이저 경영 및 전략 컨설팅펌 근무 경력\\n- IT/커머스/O2O 전략/...</td>\n",
       "      <td>IT, 컨텐츠</td>\n",
       "      <td>[연봉상위20, 1,000명이하, 설립10년미만, 퇴사율5, 누적투자100억이상, ...</td>\n",
       "      <td>https://www.wanted.co.kr/wd/30399</td>\n",
       "    </tr>\n",
       "    <tr>\n",
       "      <td>538</td>\n",
       "      <td>루나소프트</td>\n",
       "      <td>플랫폼 기획자</td>\n",
       "      <td>데이터 분석가</td>\n",
       "      <td>루나소프트는 카카오와 네이버 플랫폼을 활용한 챗봇 구축과 독자 기술을 활용한 CTI...</td>\n",
       "      <td>• 플랫폼 서비스 기획\\n• 시스템 설계 초안 디자인 및 문서화\\n• UI 기획서 ...</td>\n",
       "      <td>• 프로젝트 관리 경험\\n• 데이터 관점의 구조적 사고가 가능한 분\\n• 논리적 사...</td>\n",
       "      <td>• Database Modeling 가능하신 분\\n• 개발자에서 기획자로 전향 하고...</td>\n",
       "      <td>IT, 컨텐츠</td>\n",
       "      <td>[연봉상위20, 인원급성장, 300명이하, 설립10년미만, 상여금, 조식제공, 식비...</td>\n",
       "      <td>https://www.wanted.co.kr/wd/19416</td>\n",
       "    </tr>\n",
       "  </tbody>\n",
       "</table>\n",
       "</div>"
      ],
      "text/plain": [
       "        name          position wanted_cat  \\\n",
       "536      윙블링  데이터분석, 그로스해킹, PM    데이터 분석가   \n",
       "537  여기어때컴퍼니         VC전략팀 시니어    데이터 분석가   \n",
       "538    루나소프트           플랫폼 기획자    데이터 분석가   \n",
       "\n",
       "                                                 about  \\\n",
       "536  윙블링 소개 \\n\\n\u0003윙블링은 '아름다움에 날개를달다'라는 미션과 함께 빠르게 성장...   \n",
       "537  좋은 숙소에서 행복한 시간을!\\n\\n위드이노베이션은 숙박 여정의 불편함을 해결하고 ...   \n",
       "538  루나소프트는 카카오와 네이버 플랫폼을 활용한 챗봇 구축과 독자 기술을 활용한 CTI...   \n",
       "\n",
       "                                                  roll  \\\n",
       "536  • 데이터분석 및 시각화 (자사몰, Paid Marketing 채널, SCM 등)\\...   \n",
       "537  - 전사 전략 수립 및 핵심 지표 관리\\n- 전사 및 사업부 단위 프로젝트(Valu...   \n",
       "538  • 플랫폼 서비스 기획\\n• 시스템 설계 초안 디자인 및 문서화\\n• UI 기획서 ...   \n",
       "\n",
       "                                                  qual  \\\n",
       "536  • 커머스 분야 퍼포먼스 마케팅, 자사몰 데이터 분석, UX/UI 기획 경험\\n• ...   \n",
       "537  - 경영/전략 컨설팅 경력 5~8년 이상 또는 플랫폼 사업 전략기획 경력 5~8년 ...   \n",
       "538  • 프로젝트 관리 경험\\n• 데이터 관점의 구조적 사고가 가능한 분\\n• 논리적 사...   \n",
       "\n",
       "                                                  pref category  \\\n",
       "536  • 기술적으로 부족한 카페24 기능을 바탕으로 데이터를 고도화하여 분석해보신 분\\n...   판매, 유통   \n",
       "537  - 국내외 메이저 경영 및 전략 컨설팅펌 근무 경력\\n- IT/커머스/O2O 전략/...  IT, 컨텐츠   \n",
       "538  • Database Modeling 가능하신 분\\n• 개발자에서 기획자로 전향 하고...  IT, 컨텐츠   \n",
       "\n",
       "                                                  tags  \\\n",
       "536       [간식, 50명이하, 설립10년미만, 퇴사율5, 스타트업, 커피, 판매, 유통]   \n",
       "537  [연봉상위20, 1,000명이하, 설립10년미만, 퇴사율5, 누적투자100억이상, ...   \n",
       "538  [연봉상위20, 인원급성장, 300명이하, 설립10년미만, 상여금, 조식제공, 식비...   \n",
       "\n",
       "                                  link  \n",
       "536  https://www.wanted.co.kr/wd/34773  \n",
       "537  https://www.wanted.co.kr/wd/30399  \n",
       "538  https://www.wanted.co.kr/wd/19416  "
      ]
     },
     "execution_count": 23,
     "metadata": {},
     "output_type": "execute_result"
    }
   ],
   "source": [
    "df.tail(3)"
   ]
  },
  {
   "cell_type": "code",
   "execution_count": 25,
   "metadata": {
    "ExecuteTime": {
     "end_time": "2020-09-16T09:27:34.605378Z",
     "start_time": "2020-09-16T09:27:34.585431Z"
    }
   },
   "outputs": [
    {
     "data": {
      "text/plain": [
       "(539, 10)"
      ]
     },
     "execution_count": 25,
     "metadata": {},
     "output_type": "execute_result"
    }
   ],
   "source": [
    "df.shape"
   ]
  }
 ],
 "metadata": {
  "kernelspec": {
   "display_name": "Python 3",
   "language": "python",
   "name": "python3"
  },
  "language_info": {
   "codemirror_mode": {
    "name": "ipython",
    "version": 3
   },
   "file_extension": ".py",
   "mimetype": "text/x-python",
   "name": "python",
   "nbconvert_exporter": "python",
   "pygments_lexer": "ipython3",
   "version": "3.7.4"
  },
  "toc": {
   "base_numbering": 1,
   "nav_menu": {},
   "number_sections": false,
   "sideBar": true,
   "skip_h1_title": true,
   "title_cell": "Table of Contents",
   "title_sidebar": "Contents",
   "toc_cell": true,
   "toc_position": {},
   "toc_section_display": true,
   "toc_window_display": false
  }
 },
 "nbformat": 4,
 "nbformat_minor": 2
}
