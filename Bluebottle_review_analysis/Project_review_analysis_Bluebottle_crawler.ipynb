{
 "cells": [
  {
   "cell_type": "markdown",
   "metadata": {},
   "source": [
    "# Review analysis of Blue Bottle (1) - 데이터 수집\n",
    "20.05.07\n",
    "* 데이터 분석을 위한 크롤러 만들기\n",
    "    * 카카오맵에서 블루보틀 각 지점별 리뷰 가져오기"
   ]
  },
  {
   "cell_type": "markdown",
   "metadata": {
    "toc": true
   },
   "source": [
    "<h1>Table of Contents<span class=\"tocSkip\"></span></h1>\n",
    "<div class=\"toc\"><ul class=\"toc-item\"><li><span><a href=\"#1.-데이터-크롤링\" data-toc-modified-id=\"1.-데이터-크롤링-1\">1. 데이터 크롤링</a></span></li><li><span><a href=\"#2.-데이터-확인\" data-toc-modified-id=\"2.-데이터-확인-2\">2. 데이터 확인</a></span></li><li><span><a href=\"#3.-중복값-확인해보기\" data-toc-modified-id=\"3.-중복값-확인해보기-3\">3. 중복값 확인해보기</a></span></li><li><span><a href=\"#4.-데이터-저장\" data-toc-modified-id=\"4.-데이터-저장-4\">4. 데이터 저장</a></span></li></ul></div>"
   ]
  },
  {
   "cell_type": "markdown",
   "metadata": {},
   "source": [
    "## 1. 데이터 크롤링\n",
    "* selenium, BeautifulSoup 사용"
   ]
  },
  {
   "cell_type": "code",
   "execution_count": 1,
   "metadata": {
    "ExecuteTime": {
     "end_time": "2020-05-08T00:29:18.413600Z",
     "start_time": "2020-05-08T00:29:14.399430Z"
    }
   },
   "outputs": [],
   "source": [
    "import pandas as pd\n",
    "import matplotlib.pyplot as plt\n",
    "import seaborn as sns\n",
    "plt.style.use('seaborn-whitegrid')\n",
    "import warnings\n",
    "warnings.filterwarnings('ignore')\n",
    "from bs4 import BeautifulSoup\n",
    "from selenium import webdriver\n",
    "import time"
   ]
  },
  {
   "cell_type": "code",
   "execution_count": 2,
   "metadata": {
    "ExecuteTime": {
     "end_time": "2020-05-08T00:29:18.421546Z",
     "start_time": "2020-05-08T00:29:18.416561Z"
    }
   },
   "outputs": [],
   "source": [
    "plt.rc('font', family='NanumGothic')\n",
    "plt.rc('font', size=13)"
   ]
  },
  {
   "cell_type": "code",
   "execution_count": 96,
   "metadata": {
    "ExecuteTime": {
     "end_time": "2020-05-08T02:19:57.228129Z",
     "start_time": "2020-05-08T02:19:51.297760Z"
    }
   },
   "outputs": [],
   "source": []
  },
  {
   "cell_type": "code",
   "execution_count": 124,
   "metadata": {
    "ExecuteTime": {
     "end_time": "2020-05-08T02:44:32.277691Z",
     "start_time": "2020-05-08T02:37:43.701273Z"
    }
   },
   "outputs": [
    {
     "name": "stdout",
     "output_type": "stream",
     "text": [
      "끝!\n",
      "끝!\n",
      "끝!\n",
      "끝!\n",
      "끝!\n",
      "끝!\n",
      "페이지 초과: 1\n"
     ]
    }
   ],
   "source": [
    "driver = webdriver.Chrome('./chromedriver/chromedriver.exe')\n",
    "driver.implicitly_wait(5)\n",
    "# 지도에서 키워드 검색\n",
    "keyword = '블루보틀'\n",
    "\n",
    "driver.get('https://map.kakao.com/')\n",
    "driver.implicitly_wait(3)\n",
    "time.sleep(2)\n",
    "try:\n",
    "    driver.find_element_by_xpath('/html/body/div[10]/div/div/div/p').click()\n",
    "except:\n",
    "    pass\n",
    "driver.find_element_by_id('search.keyword.query').send_keys(keyword)\n",
    "time.sleep(1)\n",
    "driver.find_element_by_id('search.keyword.submit').click()\n",
    "driver.implicitly_wait(3)\n",
    "time.sleep(3)\n",
    "\n",
    "\n",
    "# driver.find_element_by_xpath(\n",
    "#     '//*[@id=\"info.search.place.list\"]/li[2]/div[4]/span[1]/a').click()\n",
    "\n",
    "data = {'cafe': [], 'review': [], 'score': []}\n",
    "map_pagenum = 0\n",
    "\n",
    "try:\n",
    "    map_pagenum += 1\n",
    "    # 페이지 이동 버튼의 id넘버가 5의 나머지로 되어있다. (1페이지 = p1, 6페이지 = p1, 7페이지 = p2 ...)\n",
    "    map_page = map_pagenum % 5\n",
    "\n",
    "    # 각 카페들의 리뷰 조회\n",
    "    try:\n",
    "        for cafenum in range(15):\n",
    "            pagenum = 0\n",
    "            # 리뷰 크롤링 시작\n",
    "            try:\n",
    "                driver.find_element_by_xpath(\n",
    "                    '//*[@id=\"info.search.place.list\"]/li[{}]/div[4]/span[1]/a'.format(cafenum+1)).click()\n",
    "                driver.implicitly_wait(3)\n",
    "                time.sleep(3)\n",
    "\n",
    "                window_name = driver.window_handles[1]\n",
    "                driver.switch_to.window(window_name=window_name)\n",
    "                while True:\n",
    "                    try:\n",
    "                        pagenum += 1    # 페이지넘버 카운트\n",
    "                        soup = BeautifulSoup(driver.page_source, 'lxml')\n",
    "                        # 리뷰가 몇 개 있는지 카운트\n",
    "                        count = len(soup.find_all('p', 'txt_comment'))\n",
    "                        for i in range(count):\n",
    "                            data['cafe'].append(soup.find('title').text[:-7])\n",
    "                            data['review'].append(\n",
    "                                soup.find_all('p', 'txt_comment')[i].text)\n",
    "                            data['score'].append(soup.find_all(\n",
    "                                'em', 'num_rate')[i+2].text)\n",
    "                            time.sleep(1)\n",
    "\n",
    "                        if pagenum % 5 != 0:\n",
    "                            if pagenum <= 5:\n",
    "                                driver.find_element_by_xpath(\n",
    "                                    '//*[@id=\"mArticle\"]/div[4]/div[4]/div/a[{}]'.format(pagenum)).click()\n",
    "                            else:\n",
    "                                driver.find_element_by_xpath(\n",
    "                                    '//*[@id=\"mArticle\"]/div[4]/div[4]/div/a[{}]'.format((pagenum % 5)+1)).click()\n",
    "                        else:\n",
    "                            driver.find_element_by_class_name(\n",
    "                                'btn_next').click()\n",
    "\n",
    "                        driver.implicitly_wait(3)\n",
    "                        time.sleep(2)\n",
    "\n",
    "                    except:\n",
    "                        print('끝!')\n",
    "                        break\n",
    "                driver.close()\n",
    "                first_tab = driver.window_handles[0]\n",
    "                driver.switch_to.window(window_name=first_tab)\n",
    "                time.sleep(2)\n",
    "            # 페이지가 5페이지씩 나뉘어져있는데(1-5, 6-10..), 마지막 페이지(5의 배수 페이지)에 도착했을 경우, 다음 버튼 클릭\n",
    "            except:\n",
    "                pass\n",
    "    except:\n",
    "        print('{}페이지의 카페 수가 15개 미만'.format(map_pagenum))\n",
    "    if map_page == 0:\n",
    "        driver.find_element_by_id('info.search.page.next').click()\n",
    "    else:\n",
    "        driver.find_element_by_id(\n",
    "            'info.search.page.no{}'.format(map_page+1)).click()\n",
    "    time.sleep(1)\n",
    "except:\n",
    "    print('마지막 페이지: {}'.format(map_pagenum))"
   ]
  },
  {
   "cell_type": "markdown",
   "metadata": {},
   "source": [
    "## 2. 데이터 확인"
   ]
  },
  {
   "cell_type": "code",
   "execution_count": 125,
   "metadata": {
    "ExecuteTime": {
     "end_time": "2020-05-08T02:44:38.919647Z",
     "start_time": "2020-05-08T02:44:38.911685Z"
    }
   },
   "outputs": [
    {
     "data": {
      "text/plain": [
       "(204, 204, 204)"
      ]
     },
     "execution_count": 125,
     "metadata": {},
     "output_type": "execute_result"
    }
   ],
   "source": [
    "len(data['cafe']), len(data['review']), len(data['score'])"
   ]
  },
  {
   "cell_type": "code",
   "execution_count": 138,
   "metadata": {
    "ExecuteTime": {
     "end_time": "2020-05-08T02:51:09.406103Z",
     "start_time": "2020-05-08T02:51:09.398089Z"
    }
   },
   "outputs": [
    {
     "data": {
      "text/plain": [
       "['불친절해요. 배가 불렀는듯더보기',\n",
       " '아메리카노도 맛있고 놀라플로트도 맛있어요!! 사람만 안많으면 자주오고싶어요더보기',\n",
       " '좋습니다더보기',\n",
       " '쏘쏘. 그냥 테이크아웃하기 좋음더보기',\n",
       " '편히 머물 수 있는 공간은 아닌. 커피는 우유들어간건 맛있어요.. 디저트는 메종엠오더보기',\n",
       " '이슈가 많길래 호기심에 가봤는데 커피가 생각 외로 맛도 없고;; 또 불친절해서 놀랐어요. 그리고 가격 너무 비싸서 좀 황당할정도... ㅎ위치도 별로고... 양도 적고... 더보기',\n",
       " '에티오피아 리무 두로미나 워시드 드립 생두 단가를 고려할때 가격은 적당. 추출자체도 준수하게 잘됨.  가격대비 퀄리티는 브랜드값 떼고도 괜찮다고 생각한다. 적어도 내가 본 직원은 친절했음. 다만 여길 밖까지 줄서서 마실 정도는 아니다.  그냥 괜찮은 카페일뿐.  내가 갔을 땐 줄이 없었고. 실내 좌석수가 많지는 않다. 단층이고 테이크아웃 위주로 고려하고 만...더보기',\n",
       " '스벅은 별이라도 준다. 더보기',\n",
       " '최고예요더보기',\n",
       " '갈때마다 미소로 반겨주는 직원들에 맛있는 커피까지.. 역시 기대했던 만큼 만족스러웠어요. 또 가고 싶습니다. 더보기']"
      ]
     },
     "execution_count": 138,
     "metadata": {},
     "output_type": "execute_result"
    }
   ],
   "source": [
    "data['review'][:10]"
   ]
  },
  {
   "cell_type": "code",
   "execution_count": 140,
   "metadata": {
    "ExecuteTime": {
     "end_time": "2020-05-08T02:51:32.175938Z",
     "start_time": "2020-05-08T02:51:32.167958Z"
    }
   },
   "outputs": [
    {
     "data": {
      "text/plain": [
       "['파란병이던데요.... 빨대도..더보기',\n",
       " '간판찍고옴더보기',\n",
       " '한 여름 대낮에 줄을 서서 커피를 마신다는 것이 얼마나 열정이 있어야 하는 일인지... 오후 5시쯤 되니 오히려 줄이 줄었다.   층마다 바리스타가 있고, 굉장히 기능에 집중 한 공간.  그리고, 점점 높아져가는 커피가격. 더보기',\n",
       " '인테리어가 멋졌어요더보기',\n",
       " '성수점보다 훌륭한 건축과 인테리어 마감. 아이덴티티. 한옥과의 조화.. 개방감.. 더보기',\n",
       " '사람들이 다 한방향으로 달려가길래 나는 무슨 연예인이 온 줄 알았다 이 땡볕에도 간판과 사진을 찍기 위해 그리고 가게 안으로 들어가기 위해 줄을 서있다 대한민국사람들 정말 위대하다더보기',\n",
       " '나가지도 않았는데 잔부터 치워버리는건 무슨 생각이지...? 옆에 짐도 버젓히 놔뒀는데..? 다마셨으면 빨리 나가란 건가?더보기',\n",
       " '최고예요더보기',\n",
       " '내 입맛은 뉴요커가 아닌가봐요더보기',\n",
       " '드디어 카카오 맵에 장소 등록됐네요.. 삼청 한옥점이랑은 다릅니다.더보기']"
      ]
     },
     "execution_count": 140,
     "metadata": {},
     "output_type": "execute_result"
    }
   ],
   "source": [
    "data['review'][-10:]"
   ]
  },
  {
   "cell_type": "markdown",
   "metadata": {},
   "source": [
    "* 긁어온 리뷰 마지막에 '더보기' 라는 텍스트를 같이 가져왔다.\n",
    "* 해당 텍스트 삭제하자."
   ]
  },
  {
   "cell_type": "code",
   "execution_count": 151,
   "metadata": {
    "ExecuteTime": {
     "end_time": "2020-05-08T05:24:50.535966Z",
     "start_time": "2020-05-08T05:24:50.523998Z"
    }
   },
   "outputs": [
    {
     "data": {
      "text/plain": [
       "'불친절해요. 배가 불렀는듯'"
      ]
     },
     "execution_count": 151,
     "metadata": {},
     "output_type": "execute_result"
    }
   ],
   "source": [
    "data['review'][0]"
   ]
  },
  {
   "cell_type": "code",
   "execution_count": 149,
   "metadata": {
    "ExecuteTime": {
     "end_time": "2020-05-08T02:54:09.337515Z",
     "start_time": "2020-05-08T02:54:09.330537Z"
    }
   },
   "outputs": [
    {
     "data": {
      "text/plain": [
       "'불친절해요. 배가 불렀는듯'"
      ]
     },
     "execution_count": 149,
     "metadata": {},
     "output_type": "execute_result"
    }
   ],
   "source": [
    "data['review'] = [s[:-3] for s in data['review']]\n",
    "data['review'][0]"
   ]
  },
  {
   "cell_type": "markdown",
   "metadata": {},
   "source": [
    "* 텍스트 삭제 성공!"
   ]
  },
  {
   "cell_type": "markdown",
   "metadata": {},
   "source": [
    "## 3. 중복값 확인해보기\n",
    "* 웹 크롤링 중에 time.sleep을 적절하게 사용하지 않으면, 값이 밀려서 저장되는 경우가 있다.\n",
    "* 위와 같은 오류가 생기면 중복값이 자주 생긴다.\n",
    "    * 여기서 말하는 중복값은 실제 값은 [A, B, C]인데, [A, A, A]라고 내용을 저장해버리는 것.\n",
    "    * 실제 값도 [A, A, A]인데, [A, A, A]라고 저장되는 것은 에러가 아니니까 위의 경우만 확인해주면 됨.\n",
    "* 이런 이슈가 없는지 확인해보자."
   ]
  },
  {
   "cell_type": "code",
   "execution_count": 156,
   "metadata": {
    "ExecuteTime": {
     "end_time": "2020-05-08T05:26:14.302936Z",
     "start_time": "2020-05-08T05:26:14.286980Z"
    }
   },
   "outputs": [
    {
     "data": {
      "text/html": [
       "<div>\n",
       "<style scoped>\n",
       "    .dataframe tbody tr th:only-of-type {\n",
       "        vertical-align: middle;\n",
       "    }\n",
       "\n",
       "    .dataframe tbody tr th {\n",
       "        vertical-align: top;\n",
       "    }\n",
       "\n",
       "    .dataframe thead th {\n",
       "        text-align: right;\n",
       "    }\n",
       "</style>\n",
       "<table border=\"1\" class=\"dataframe\">\n",
       "  <thead>\n",
       "    <tr style=\"text-align: right;\">\n",
       "      <th></th>\n",
       "      <th>cafe</th>\n",
       "      <th>review</th>\n",
       "      <th>score</th>\n",
       "    </tr>\n",
       "  </thead>\n",
       "  <tbody>\n",
       "    <tr>\n",
       "      <td>0</td>\n",
       "      <td>블루보틀 역삼점</td>\n",
       "      <td>불친절해요. 배가 불렀는듯</td>\n",
       "      <td>2점</td>\n",
       "    </tr>\n",
       "    <tr>\n",
       "      <td>1</td>\n",
       "      <td>블루보틀 역삼점</td>\n",
       "      <td>아메리카노도 맛있고 놀라플로트도 맛있어요!! 사람만 안많으면 자주오고싶어요</td>\n",
       "      <td>5점</td>\n",
       "    </tr>\n",
       "    <tr>\n",
       "      <td>2</td>\n",
       "      <td>블루보틀 역삼점</td>\n",
       "      <td>좋습니다</td>\n",
       "      <td>5점</td>\n",
       "    </tr>\n",
       "    <tr>\n",
       "      <td>3</td>\n",
       "      <td>블루보틀 역삼점</td>\n",
       "      <td>쏘쏘. 그냥 테이크아웃하기 좋음</td>\n",
       "      <td>3점</td>\n",
       "    </tr>\n",
       "    <tr>\n",
       "      <td>4</td>\n",
       "      <td>블루보틀 역삼점</td>\n",
       "      <td>편히 머물 수 있는 공간은 아닌. 커피는 우유들어간건 맛있어요.. 디저트는 메종엠오</td>\n",
       "      <td>2점</td>\n",
       "    </tr>\n",
       "  </tbody>\n",
       "</table>\n",
       "</div>"
      ],
      "text/plain": [
       "       cafe                                          review score\n",
       "0  블루보틀 역삼점                                  불친절해요. 배가 불렀는듯    2점\n",
       "1  블루보틀 역삼점       아메리카노도 맛있고 놀라플로트도 맛있어요!! 사람만 안많으면 자주오고싶어요    5점\n",
       "2  블루보틀 역삼점                                            좋습니다    5점\n",
       "3  블루보틀 역삼점                               쏘쏘. 그냥 테이크아웃하기 좋음    3점\n",
       "4  블루보틀 역삼점  편히 머물 수 있는 공간은 아닌. 커피는 우유들어간건 맛있어요.. 디저트는 메종엠오    2점"
      ]
     },
     "execution_count": 156,
     "metadata": {},
     "output_type": "execute_result"
    }
   ],
   "source": [
    "df = pd.DataFrame(data)\n",
    "df.head()"
   ]
  },
  {
   "cell_type": "code",
   "execution_count": 155,
   "metadata": {
    "ExecuteTime": {
     "end_time": "2020-05-08T05:25:21.518105Z",
     "start_time": "2020-05-08T05:25:21.496162Z"
    }
   },
   "outputs": [
    {
     "data": {
      "text/html": [
       "<div>\n",
       "<style scoped>\n",
       "    .dataframe tbody tr th:only-of-type {\n",
       "        vertical-align: middle;\n",
       "    }\n",
       "\n",
       "    .dataframe tbody tr th {\n",
       "        vertical-align: top;\n",
       "    }\n",
       "\n",
       "    .dataframe thead th {\n",
       "        text-align: right;\n",
       "    }\n",
       "</style>\n",
       "<table border=\"1\" class=\"dataframe\">\n",
       "  <thead>\n",
       "    <tr style=\"text-align: right;\">\n",
       "      <th></th>\n",
       "      <th>cafe</th>\n",
       "      <th>review</th>\n",
       "      <th>score</th>\n",
       "    </tr>\n",
       "  </thead>\n",
       "  <tbody>\n",
       "    <tr>\n",
       "      <td>15</td>\n",
       "      <td>블루보틀 역삼점</td>\n",
       "      <td>조금 아쉬워요</td>\n",
       "      <td>2점</td>\n",
       "    </tr>\n",
       "    <tr>\n",
       "      <td>26</td>\n",
       "      <td>블루보틀 압구정점</td>\n",
       "      <td>별로예요</td>\n",
       "      <td>1점</td>\n",
       "    </tr>\n",
       "    <tr>\n",
       "      <td>54</td>\n",
       "      <td>블루보틀 성수점</td>\n",
       "      <td>보통이에요</td>\n",
       "      <td>3점</td>\n",
       "    </tr>\n",
       "    <tr>\n",
       "      <td>63</td>\n",
       "      <td>블루보틀 성수점</td>\n",
       "      <td>보통이에요</td>\n",
       "      <td>3점</td>\n",
       "    </tr>\n",
       "    <tr>\n",
       "      <td>65</td>\n",
       "      <td>블루보틀 성수점</td>\n",
       "      <td>보통이에요</td>\n",
       "      <td>3점</td>\n",
       "    </tr>\n",
       "    <tr>\n",
       "      <td>66</td>\n",
       "      <td>블루보틀 성수점</td>\n",
       "      <td>보통이에요</td>\n",
       "      <td>3점</td>\n",
       "    </tr>\n",
       "    <tr>\n",
       "      <td>78</td>\n",
       "      <td>블루보틀 성수점</td>\n",
       "      <td>보통이에요</td>\n",
       "      <td>3점</td>\n",
       "    </tr>\n",
       "    <tr>\n",
       "      <td>84</td>\n",
       "      <td>블루보틀 성수점</td>\n",
       "      <td>보통이에요</td>\n",
       "      <td>3점</td>\n",
       "    </tr>\n",
       "    <tr>\n",
       "      <td>100</td>\n",
       "      <td>블루보틀 성수점</td>\n",
       "      <td>최고예요</td>\n",
       "      <td>5점</td>\n",
       "    </tr>\n",
       "    <tr>\n",
       "      <td>132</td>\n",
       "      <td>블루보틀 성수점</td>\n",
       "      <td>최고예요</td>\n",
       "      <td>5점</td>\n",
       "    </tr>\n",
       "    <tr>\n",
       "      <td>135</td>\n",
       "      <td>블루보틀 성수점</td>\n",
       "      <td>최고예요</td>\n",
       "      <td>5점</td>\n",
       "    </tr>\n",
       "    <tr>\n",
       "      <td>141</td>\n",
       "      <td>블루보틀 삼청한옥</td>\n",
       "      <td>최고예요</td>\n",
       "      <td>5점</td>\n",
       "    </tr>\n",
       "    <tr>\n",
       "      <td>147</td>\n",
       "      <td>블루보틀 삼청한옥</td>\n",
       "      <td>조금 아쉬워요</td>\n",
       "      <td>2점</td>\n",
       "    </tr>\n",
       "    <tr>\n",
       "      <td>149</td>\n",
       "      <td>블루보틀 삼청한옥</td>\n",
       "      <td>좋아요</td>\n",
       "      <td>4점</td>\n",
       "    </tr>\n",
       "    <tr>\n",
       "      <td>157</td>\n",
       "      <td>블루보틀 삼청한옥</td>\n",
       "      <td>보통이에요</td>\n",
       "      <td>3점</td>\n",
       "    </tr>\n",
       "    <tr>\n",
       "      <td>160</td>\n",
       "      <td>블루보틀 삼청한옥</td>\n",
       "      <td>조금 아쉬워요</td>\n",
       "      <td>2점</td>\n",
       "    </tr>\n",
       "    <tr>\n",
       "      <td>173</td>\n",
       "      <td>블루보틀 삼청한옥</td>\n",
       "      <td>별로예요</td>\n",
       "      <td>1점</td>\n",
       "    </tr>\n",
       "    <tr>\n",
       "      <td>180</td>\n",
       "      <td>블루보틀 삼청한옥</td>\n",
       "      <td>보통이에요</td>\n",
       "      <td>3점</td>\n",
       "    </tr>\n",
       "    <tr>\n",
       "      <td>201</td>\n",
       "      <td>블루보틀 삼청한옥</td>\n",
       "      <td>최고예요</td>\n",
       "      <td>5점</td>\n",
       "    </tr>\n",
       "  </tbody>\n",
       "</table>\n",
       "</div>"
      ],
      "text/plain": [
       "          cafe   review score\n",
       "15    블루보틀 역삼점  조금 아쉬워요    2점\n",
       "26   블루보틀 압구정점     별로예요    1점\n",
       "54    블루보틀 성수점    보통이에요    3점\n",
       "63    블루보틀 성수점    보통이에요    3점\n",
       "65    블루보틀 성수점    보통이에요    3점\n",
       "66    블루보틀 성수점    보통이에요    3점\n",
       "78    블루보틀 성수점    보통이에요    3점\n",
       "84    블루보틀 성수점    보통이에요    3점\n",
       "100   블루보틀 성수점     최고예요    5점\n",
       "132   블루보틀 성수점     최고예요    5점\n",
       "135   블루보틀 성수점     최고예요    5점\n",
       "141  블루보틀 삼청한옥     최고예요    5점\n",
       "147  블루보틀 삼청한옥  조금 아쉬워요    2점\n",
       "149  블루보틀 삼청한옥      좋아요    4점\n",
       "157  블루보틀 삼청한옥    보통이에요    3점\n",
       "160  블루보틀 삼청한옥  조금 아쉬워요    2점\n",
       "173  블루보틀 삼청한옥     별로예요    1점\n",
       "180  블루보틀 삼청한옥    보통이에요    3점\n",
       "201  블루보틀 삼청한옥     최고예요    5점"
      ]
     },
     "execution_count": 155,
     "metadata": {},
     "output_type": "execute_result"
    }
   ],
   "source": [
    "df[df['review'].duplicated()]"
   ]
  },
  {
   "cell_type": "markdown",
   "metadata": {},
   "source": [
    "* 중복값이 있긴 한데, 일반적으로 많이 남기는 리뷰이긴 하다.\n",
    "* 실제로 리뷰들을 확인해보니, 에러로 인한 중복이 아니었으므로 조정해줄 필요가 없다."
   ]
  },
  {
   "cell_type": "markdown",
   "metadata": {},
   "source": [
    "## 4. 데이터 저장\n",
    "* 이제 데이터를 저장하고, 분석해보자."
   ]
  },
  {
   "cell_type": "code",
   "execution_count": 157,
   "metadata": {
    "ExecuteTime": {
     "end_time": "2020-05-08T05:26:17.336819Z",
     "start_time": "2020-05-08T05:26:17.322856Z"
    }
   },
   "outputs": [],
   "source": [
    "df.to_csv('source/Bluebottle_review/data.csv')"
   ]
  }
 ],
 "metadata": {
  "kernelspec": {
   "display_name": "Python 3",
   "language": "python",
   "name": "python3"
  },
  "language_info": {
   "codemirror_mode": {
    "name": "ipython",
    "version": 3
   },
   "file_extension": ".py",
   "mimetype": "text/x-python",
   "name": "python",
   "nbconvert_exporter": "python",
   "pygments_lexer": "ipython3",
   "version": "3.7.4"
  },
  "toc": {
   "base_numbering": 1,
   "nav_menu": {},
   "number_sections": false,
   "sideBar": true,
   "skip_h1_title": true,
   "title_cell": "Table of Contents",
   "title_sidebar": "Contents",
   "toc_cell": true,
   "toc_position": {},
   "toc_section_display": true,
   "toc_window_display": false
  }
 },
 "nbformat": 4,
 "nbformat_minor": 2
}
