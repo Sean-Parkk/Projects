{
 "cells": [
  {
   "cell_type": "markdown",
   "metadata": {},
   "source": [
    "# 귀펭 (귀여운 펭귄처럼) 미니 프로젝트\n",
    "* 목적: 남부터미널 근처의 괜찮은 음식점 찾아보기"
   ]
  },
  {
   "cell_type": "markdown",
   "metadata": {
    "toc": true
   },
   "source": [
    "<h1>Table of Contents<span class=\"tocSkip\"></span></h1>\n",
    "<div class=\"toc\"><ul class=\"toc-item\"><li><span><a href=\"#1.-데이터-불러오기\" data-toc-modified-id=\"1.-데이터-불러오기-1\">1. 데이터 불러오기</a></span></li><li><span><a href=\"#2.-데이터-전처리\" data-toc-modified-id=\"2.-데이터-전처리-2\">2. 데이터 전처리</a></span><ul class=\"toc-item\"><li><span><a href=\"#2.1-컬럼명-통일\" data-toc-modified-id=\"2.1-컬럼명-통일-2.1\">2.1 컬럼명 통일</a></span></li><li><span><a href=\"#2.2-결측값-처리\" data-toc-modified-id=\"2.2-결측값-처리-2.2\">2.2 결측값 처리</a></span></li><li><span><a href=\"#2.2-address-컬럼\" data-toc-modified-id=\"2.2-address-컬럼-2.3\">2.2 address 컬럼</a></span></li><li><span><a href=\"#2.3-eval_cnt,-review_cnt\" data-toc-modified-id=\"2.3-eval_cnt,-review_cnt-2.4\">2.3 eval_cnt, review_cnt</a></span><ul class=\"toc-item\"><li><span><a href=\"#2.3.1-eval_cnt\" data-toc-modified-id=\"2.3.1-eval_cnt-2.4.1\">2.3.1 eval_cnt</a></span></li><li><span><a href=\"#2.3.2-review_cnt\" data-toc-modified-id=\"2.3.2-review_cnt-2.4.2\">2.3.2 review_cnt</a></span></li><li><span><a href=\"#2.3.3-컬럼-데이터-형식-변경\" data-toc-modified-id=\"2.3.3-컬럼-데이터-형식-변경-2.4.3\">2.3.3 컬럼 데이터 형식 변경</a></span></li></ul></li><li><span><a href=\"#2.4-join\" data-toc-modified-id=\"2.4-join-2.5\">2.4 join</a></span></li><li><span><a href=\"#2.4-저장하기\" data-toc-modified-id=\"2.4-저장하기-2.6\">2.4 저장하기</a></span></li></ul></li><li><span><a href=\"#3.-데이터-살펴보기\" data-toc-modified-id=\"3.-데이터-살펴보기-3\">3. 데이터 살펴보기</a></span><ul class=\"toc-item\"><li><span><a href=\"#3.1-데이터-분포\" data-toc-modified-id=\"3.1-데이터-분포-3.1\">3.1 데이터 분포</a></span></li><li><span><a href=\"#3.2-카테고리-확인\" data-toc-modified-id=\"3.2-카테고리-확인-3.2\">3.2 카테고리 확인</a></span></li></ul></li></ul></div>"
   ]
  },
  {
   "cell_type": "markdown",
   "metadata": {},
   "source": [
    "## 1. 데이터 불러오기"
   ]
  },
  {
   "cell_type": "code",
   "execution_count": 1,
   "metadata": {
    "ExecuteTime": {
     "end_time": "2020-06-29T05:21:58.002936Z",
     "start_time": "2020-06-29T05:21:40.202548Z"
    }
   },
   "outputs": [],
   "source": [
    "import pandas as pd\n",
    "import matplotlib.pyplot as plt\n",
    "%matplotlib inline\n",
    "plt.style.use('seaborn-whitegrid')\n",
    "import seaborn as sns\n",
    "import warnings\n",
    "warnings.filterwarnings('ignore')\n",
    "import folium\n",
    "from tqdm import tqdm_notebook"
   ]
  },
  {
   "cell_type": "code",
   "execution_count": 2,
   "metadata": {
    "ExecuteTime": {
     "end_time": "2020-06-29T05:21:58.006923Z",
     "start_time": "2020-06-29T05:21:58.003929Z"
    }
   },
   "outputs": [],
   "source": [
    "plt.rc('font', size=13)\n",
    "plt.rc('font', family='NanumGothic')"
   ]
  },
  {
   "cell_type": "code",
   "execution_count": 121,
   "metadata": {
    "ExecuteTime": {
     "end_time": "2020-06-29T07:53:23.397873Z",
     "start_time": "2020-06-29T07:53:23.379918Z"
    }
   },
   "outputs": [
    {
     "data": {
      "text/html": [
       "<div>\n",
       "<style scoped>\n",
       "    .dataframe tbody tr th:only-of-type {\n",
       "        vertical-align: middle;\n",
       "    }\n",
       "\n",
       "    .dataframe tbody tr th {\n",
       "        vertical-align: top;\n",
       "    }\n",
       "\n",
       "    .dataframe thead th {\n",
       "        text-align: right;\n",
       "    }\n",
       "</style>\n",
       "<table border=\"1\" class=\"dataframe\">\n",
       "  <thead>\n",
       "    <tr style=\"text-align: right;\">\n",
       "      <th></th>\n",
       "      <th>name</th>\n",
       "      <th>category</th>\n",
       "      <th>address</th>\n",
       "      <th>score</th>\n",
       "      <th>eval_cnt</th>\n",
       "      <th>review_cnt</th>\n",
       "    </tr>\n",
       "  </thead>\n",
       "  <tbody>\n",
       "    <tr>\n",
       "      <td>0</td>\n",
       "      <td>루엘드파리</td>\n",
       "      <td>제과,베이커리</td>\n",
       "      <td>(지번) 서초동 1445-13</td>\n",
       "      <td>3.9</td>\n",
       "      <td>72건</td>\n",
       "      <td>리뷰 267</td>\n",
       "    </tr>\n",
       "    <tr>\n",
       "      <td>1</td>\n",
       "      <td>봉산옥 서초동본점</td>\n",
       "      <td>국수</td>\n",
       "      <td>(지번) 서초3동 1451-9</td>\n",
       "      <td>3.7</td>\n",
       "      <td>79건</td>\n",
       "      <td>리뷰 146</td>\n",
       "    </tr>\n",
       "    <tr>\n",
       "      <td>2</td>\n",
       "      <td>장꼬방</td>\n",
       "      <td>찌개,전골</td>\n",
       "      <td>(지번) 서초동 1438-8</td>\n",
       "      <td>3.2</td>\n",
       "      <td>299건</td>\n",
       "      <td>리뷰 124</td>\n",
       "    </tr>\n",
       "    <tr>\n",
       "      <td>3</td>\n",
       "      <td>해담채 남부터미널점</td>\n",
       "      <td>해물,생선</td>\n",
       "      <td>(지번) 서초동 1600-9</td>\n",
       "      <td>3.1</td>\n",
       "      <td>10건</td>\n",
       "      <td>리뷰 47</td>\n",
       "    </tr>\n",
       "    <tr>\n",
       "      <td>4</td>\n",
       "      <td>카페로비</td>\n",
       "      <td>디저트카페</td>\n",
       "      <td>(지번) 서초동 1564-4</td>\n",
       "      <td>3.9</td>\n",
       "      <td>15건</td>\n",
       "      <td>리뷰 126</td>\n",
       "    </tr>\n",
       "  </tbody>\n",
       "</table>\n",
       "</div>"
      ],
      "text/plain": [
       "         name category           address  score eval_cnt review_cnt\n",
       "0       루엘드파리  제과,베이커리  (지번) 서초동 1445-13    3.9      72건     리뷰 267\n",
       "1   봉산옥 서초동본점       국수  (지번) 서초3동 1451-9    3.7      79건     리뷰 146\n",
       "2         장꼬방    찌개,전골   (지번) 서초동 1438-8    3.2     299건     리뷰 124\n",
       "3  해담채 남부터미널점    해물,생선   (지번) 서초동 1600-9    3.1      10건      리뷰 47\n",
       "4        카페로비    디저트카페   (지번) 서초동 1564-4    3.9      15건     리뷰 126"
      ]
     },
     "execution_count": 121,
     "metadata": {},
     "output_type": "execute_result"
    }
   ],
   "source": [
    "# 내가 크롤링한 데이터\n",
    "df = pd.read_csv('source/restaurant_raw.csv', index_col=0)\n",
    "df.head()"
   ]
  },
  {
   "cell_type": "code",
   "execution_count": 122,
   "metadata": {
    "ExecuteTime": {
     "end_time": "2020-06-29T07:53:23.598335Z",
     "start_time": "2020-06-29T07:53:23.580358Z"
    }
   },
   "outputs": [
    {
     "data": {
      "text/html": [
       "<div>\n",
       "<style scoped>\n",
       "    .dataframe tbody tr th:only-of-type {\n",
       "        vertical-align: middle;\n",
       "    }\n",
       "\n",
       "    .dataframe tbody tr th {\n",
       "        vertical-align: top;\n",
       "    }\n",
       "\n",
       "    .dataframe thead th {\n",
       "        text-align: right;\n",
       "    }\n",
       "</style>\n",
       "<table border=\"1\" class=\"dataframe\">\n",
       "  <thead>\n",
       "    <tr style=\"text-align: right;\">\n",
       "      <th></th>\n",
       "      <th>name</th>\n",
       "      <th>category</th>\n",
       "      <th>star</th>\n",
       "      <th>star_count</th>\n",
       "      <th>review</th>\n",
       "      <th>address</th>\n",
       "      <th>위도</th>\n",
       "      <th>경도</th>\n",
       "    </tr>\n",
       "  </thead>\n",
       "  <tbody>\n",
       "    <tr>\n",
       "      <td>0</td>\n",
       "      <td>루엘드파리</td>\n",
       "      <td>제과,베이커리</td>\n",
       "      <td>3.9</td>\n",
       "      <td>72건</td>\n",
       "      <td>267</td>\n",
       "      <td>서울 서초구 서초중앙로 18 112호</td>\n",
       "      <td>37.484048</td>\n",
       "      <td>127.017349</td>\n",
       "    </tr>\n",
       "    <tr>\n",
       "      <td>1</td>\n",
       "      <td>공미학</td>\n",
       "      <td>커피전문점</td>\n",
       "      <td>3.5</td>\n",
       "      <td>12건</td>\n",
       "      <td>147</td>\n",
       "      <td>서울 서초구 서초대로48길 101 1층</td>\n",
       "      <td>37.488622</td>\n",
       "      <td>127.012470</td>\n",
       "    </tr>\n",
       "    <tr>\n",
       "      <td>2</td>\n",
       "      <td>봉산옥 서초동본점</td>\n",
       "      <td>국수</td>\n",
       "      <td>3.7</td>\n",
       "      <td>79건</td>\n",
       "      <td>146</td>\n",
       "      <td>서울 서초구 반포대로8길 5-6</td>\n",
       "      <td>37.483382</td>\n",
       "      <td>127.012453</td>\n",
       "    </tr>\n",
       "    <tr>\n",
       "      <td>3</td>\n",
       "      <td>장꼬방</td>\n",
       "      <td>찌개,전골</td>\n",
       "      <td>3.2</td>\n",
       "      <td>299건</td>\n",
       "      <td>124</td>\n",
       "      <td>서울 서초구 효령로 364</td>\n",
       "      <td>37.486893</td>\n",
       "      <td>127.023663</td>\n",
       "    </tr>\n",
       "    <tr>\n",
       "      <td>4</td>\n",
       "      <td>해담채 남부터미널점</td>\n",
       "      <td>해물,생선</td>\n",
       "      <td>3.1</td>\n",
       "      <td>10건</td>\n",
       "      <td>47</td>\n",
       "      <td>서울 서초구 서초중앙로5길 10-8 쁘띠오피스텔 지하1층</td>\n",
       "      <td>37.485865</td>\n",
       "      <td>127.015100</td>\n",
       "    </tr>\n",
       "  </tbody>\n",
       "</table>\n",
       "</div>"
      ],
      "text/plain": [
       "         name category  star star_count  review  \\\n",
       "0       루엘드파리  제과,베이커리   3.9        72건     267   \n",
       "1         공미학    커피전문점   3.5        12건     147   \n",
       "2   봉산옥 서초동본점       국수   3.7        79건     146   \n",
       "3         장꼬방    찌개,전골   3.2       299건     124   \n",
       "4  해담채 남부터미널점    해물,생선   3.1        10건      47   \n",
       "\n",
       "                           address         위도          경도  \n",
       "0             서울 서초구 서초중앙로 18 112호  37.484048  127.017349  \n",
       "1            서울 서초구 서초대로48길 101 1층  37.488622  127.012470  \n",
       "2                서울 서초구 반포대로8길 5-6  37.483382  127.012453  \n",
       "3                   서울 서초구 효령로 364  37.486893  127.023663  \n",
       "4  서울 서초구 서초중앙로5길 10-8 쁘띠오피스텔 지하1층  37.485865  127.015100  "
      ]
     },
     "execution_count": 122,
     "metadata": {},
     "output_type": "execute_result"
    }
   ],
   "source": [
    "# 윤성님이 크롤링한 데이터\n",
    "df_2 = pd.read_csv('source/restaurant_raw_ys.csv', index_col=0)\n",
    "df_2.head()"
   ]
  },
  {
   "cell_type": "code",
   "execution_count": 123,
   "metadata": {
    "ExecuteTime": {
     "end_time": "2020-06-29T07:53:23.768853Z",
     "start_time": "2020-06-29T07:53:23.764890Z"
    }
   },
   "outputs": [
    {
     "data": {
      "text/plain": [
       "(515, 6)"
      ]
     },
     "execution_count": 123,
     "metadata": {},
     "output_type": "execute_result"
    }
   ],
   "source": [
    "df.shape"
   ]
  },
  {
   "cell_type": "code",
   "execution_count": 124,
   "metadata": {
    "ExecuteTime": {
     "end_time": "2020-06-29T07:53:23.911501Z",
     "start_time": "2020-06-29T07:53:23.907512Z"
    }
   },
   "outputs": [
    {
     "data": {
      "text/plain": [
       "(500, 8)"
      ]
     },
     "execution_count": 124,
     "metadata": {},
     "output_type": "execute_result"
    }
   ],
   "source": [
    "df_2.shape"
   ]
  },
  {
   "cell_type": "markdown",
   "metadata": {},
   "source": [
    "## 2. 데이터 전처리\n",
    "* 결측값 확인하기\n",
    "* 불필요한 문자 지우기\n",
    "* 숫자 데이터는 숫자로 형식 바꿔주기\n",
    "* 두 데이터 합치기"
   ]
  },
  {
   "cell_type": "markdown",
   "metadata": {},
   "source": [
    "### 2.1 컬럼명 통일\n",
    "* 일단 두 데이터의 컬럼명부터 통일시키자."
   ]
  },
  {
   "cell_type": "code",
   "execution_count": 125,
   "metadata": {
    "ExecuteTime": {
     "end_time": "2020-06-29T07:53:24.311433Z",
     "start_time": "2020-06-29T07:53:24.307437Z"
    }
   },
   "outputs": [
    {
     "data": {
      "text/plain": [
       "Index(['name', 'category', 'address', 'score', 'eval_cnt', 'review_cnt'], dtype='object')"
      ]
     },
     "execution_count": 125,
     "metadata": {},
     "output_type": "execute_result"
    }
   ],
   "source": [
    "df.columns"
   ]
  },
  {
   "cell_type": "code",
   "execution_count": 126,
   "metadata": {
    "ExecuteTime": {
     "end_time": "2020-06-29T07:53:24.472997Z",
     "start_time": "2020-06-29T07:53:24.468008Z"
    }
   },
   "outputs": [
    {
     "data": {
      "text/plain": [
       "Index(['name', 'category', 'star', 'star_count', 'review', 'address', '위도',\n",
       "       '경도'],\n",
       "      dtype='object')"
      ]
     },
     "execution_count": 126,
     "metadata": {},
     "output_type": "execute_result"
    }
   ],
   "source": [
    "df_2.columns"
   ]
  },
  {
   "cell_type": "code",
   "execution_count": 127,
   "metadata": {
    "ExecuteTime": {
     "end_time": "2020-06-29T07:53:25.934062Z",
     "start_time": "2020-06-29T07:53:25.924117Z"
    }
   },
   "outputs": [
    {
     "data": {
      "text/html": [
       "<div>\n",
       "<style scoped>\n",
       "    .dataframe tbody tr th:only-of-type {\n",
       "        vertical-align: middle;\n",
       "    }\n",
       "\n",
       "    .dataframe tbody tr th {\n",
       "        vertical-align: top;\n",
       "    }\n",
       "\n",
       "    .dataframe thead th {\n",
       "        text-align: right;\n",
       "    }\n",
       "</style>\n",
       "<table border=\"1\" class=\"dataframe\">\n",
       "  <thead>\n",
       "    <tr style=\"text-align: right;\">\n",
       "      <th></th>\n",
       "      <th>name</th>\n",
       "      <th>category</th>\n",
       "      <th>score</th>\n",
       "      <th>eval_cnt</th>\n",
       "      <th>review_cnt</th>\n",
       "      <th>address</th>\n",
       "      <th>lat</th>\n",
       "      <th>lng</th>\n",
       "    </tr>\n",
       "  </thead>\n",
       "  <tbody>\n",
       "    <tr>\n",
       "      <td>0</td>\n",
       "      <td>루엘드파리</td>\n",
       "      <td>제과,베이커리</td>\n",
       "      <td>3.9</td>\n",
       "      <td>72건</td>\n",
       "      <td>267</td>\n",
       "      <td>서울 서초구 서초중앙로 18 112호</td>\n",
       "      <td>37.484048</td>\n",
       "      <td>127.017349</td>\n",
       "    </tr>\n",
       "    <tr>\n",
       "      <td>1</td>\n",
       "      <td>공미학</td>\n",
       "      <td>커피전문점</td>\n",
       "      <td>3.5</td>\n",
       "      <td>12건</td>\n",
       "      <td>147</td>\n",
       "      <td>서울 서초구 서초대로48길 101 1층</td>\n",
       "      <td>37.488622</td>\n",
       "      <td>127.012470</td>\n",
       "    </tr>\n",
       "  </tbody>\n",
       "</table>\n",
       "</div>"
      ],
      "text/plain": [
       "    name category  score eval_cnt  review_cnt                address  \\\n",
       "0  루엘드파리  제과,베이커리    3.9      72건         267   서울 서초구 서초중앙로 18 112호   \n",
       "1    공미학    커피전문점    3.5      12건         147  서울 서초구 서초대로48길 101 1층   \n",
       "\n",
       "         lat         lng  \n",
       "0  37.484048  127.017349  \n",
       "1  37.488622  127.012470  "
      ]
     },
     "execution_count": 127,
     "metadata": {},
     "output_type": "execute_result"
    }
   ],
   "source": [
    "df_2.rename(columns={'star': 'score',\n",
    "                     'star_count': 'eval_cnt',\n",
    "                     'review': 'review_cnt',\n",
    "                     '위도': 'lat',\n",
    "                     '경도': 'lng'},\n",
    "            inplace=True)\n",
    "df_2.head(2)"
   ]
  },
  {
   "cell_type": "markdown",
   "metadata": {},
   "source": [
    "### 2.2 결측값 처리"
   ]
  },
  {
   "cell_type": "code",
   "execution_count": 128,
   "metadata": {
    "ExecuteTime": {
     "end_time": "2020-06-29T07:53:26.549443Z",
     "start_time": "2020-06-29T07:53:26.212317Z"
    }
   },
   "outputs": [
    {
     "data": {
      "text/plain": [
       "<matplotlib.axes._subplots.AxesSubplot at 0x2a487008248>"
      ]
     },
     "execution_count": 128,
     "metadata": {},
     "output_type": "execute_result"
    },
    {
     "data": {
      "image/png": "[encoded data removed]",
      "text/plain": [
       "<Figure size 504x216 with 3 Axes>"
      ]
     },
     "metadata": {
      "needs_background": "light"
     },
     "output_type": "display_data"
    }
   ],
   "source": [
    "import missingno as msno\n",
    "msno.bar(df, figsize=(7, 3))"
   ]
  },
  {
   "cell_type": "code",
   "execution_count": 129,
   "metadata": {
    "ExecuteTime": {
     "end_time": "2020-06-29T07:53:26.941397Z",
     "start_time": "2020-06-29T07:53:26.550413Z"
    }
   },
   "outputs": [
    {
     "data": {
      "text/plain": [
       "<matplotlib.axes._subplots.AxesSubplot at 0x2a4fd230b48>"
      ]
     },
     "execution_count": 129,
     "metadata": {},
     "output_type": "execute_result"
    },
    {
     "data": {
      "image/png": "[encoded data removed]",
      "text/plain": [
       "<Figure size 504x216 with 3 Axes>"
      ]
     },
     "metadata": {
      "needs_background": "light"
     },
     "output_type": "display_data"
    }
   ],
   "source": [
    "msno.bar(df_2, figsize=(7, 3))"
   ]
  },
  {
   "cell_type": "markdown",
   "metadata": {},
   "source": [
    "* df의 address 에서 5개의 레코드가 빠져있다."
   ]
  },
  {
   "cell_type": "code",
   "execution_count": 130,
   "metadata": {
    "ExecuteTime": {
     "end_time": "2020-06-29T07:53:28.348630Z",
     "start_time": "2020-06-29T07:53:28.340649Z"
    }
   },
   "outputs": [
    {
     "data": {
      "text/html": [
       "<div>\n",
       "<style scoped>\n",
       "    .dataframe tbody tr th:only-of-type {\n",
       "        vertical-align: middle;\n",
       "    }\n",
       "\n",
       "    .dataframe tbody tr th {\n",
       "        vertical-align: top;\n",
       "    }\n",
       "\n",
       "    .dataframe thead th {\n",
       "        text-align: right;\n",
       "    }\n",
       "</style>\n",
       "<table border=\"1\" class=\"dataframe\">\n",
       "  <thead>\n",
       "    <tr style=\"text-align: right;\">\n",
       "      <th></th>\n",
       "      <th>name</th>\n",
       "      <th>category</th>\n",
       "      <th>address</th>\n",
       "      <th>score</th>\n",
       "      <th>eval_cnt</th>\n",
       "      <th>review_cnt</th>\n",
       "    </tr>\n",
       "  </thead>\n",
       "  <tbody>\n",
       "    <tr>\n",
       "      <td>183</td>\n",
       "      <td>커피829 남부터미널점</td>\n",
       "      <td>커피전문점</td>\n",
       "      <td>NaN</td>\n",
       "      <td>5.0</td>\n",
       "      <td>1건</td>\n",
       "      <td>리뷰 11</td>\n",
       "    </tr>\n",
       "    <tr>\n",
       "      <td>293</td>\n",
       "      <td>전주콩나물해장국밥</td>\n",
       "      <td>국밥</td>\n",
       "      <td>NaN</td>\n",
       "      <td>0.0</td>\n",
       "      <td>0건</td>\n",
       "      <td>리뷰 0</td>\n",
       "    </tr>\n",
       "    <tr>\n",
       "      <td>333</td>\n",
       "      <td>왕솥뚜껑생삼겹살</td>\n",
       "      <td>한식</td>\n",
       "      <td>NaN</td>\n",
       "      <td>0.0</td>\n",
       "      <td>0건</td>\n",
       "      <td>리뷰 0</td>\n",
       "    </tr>\n",
       "    <tr>\n",
       "      <td>339</td>\n",
       "      <td>만랩커피 남부터미널점</td>\n",
       "      <td>커피전문점</td>\n",
       "      <td>NaN</td>\n",
       "      <td>0.0</td>\n",
       "      <td>0건</td>\n",
       "      <td>리뷰 0</td>\n",
       "    </tr>\n",
       "    <tr>\n",
       "      <td>467</td>\n",
       "      <td>몽돌바당</td>\n",
       "      <td>일식</td>\n",
       "      <td>NaN</td>\n",
       "      <td>0.0</td>\n",
       "      <td>0건</td>\n",
       "      <td>리뷰 0</td>\n",
       "    </tr>\n",
       "  </tbody>\n",
       "</table>\n",
       "</div>"
      ],
      "text/plain": [
       "             name category address  score eval_cnt review_cnt\n",
       "183  커피829 남부터미널점    커피전문점     NaN    5.0       1건      리뷰 11\n",
       "293     전주콩나물해장국밥       국밥     NaN    0.0       0건       리뷰 0\n",
       "333      왕솥뚜껑생삼겹살       한식     NaN    0.0       0건       리뷰 0\n",
       "339   만랩커피 남부터미널점    커피전문점     NaN    0.0       0건       리뷰 0\n",
       "467          몽돌바당       일식     NaN    0.0       0건       리뷰 0"
      ]
     },
     "execution_count": 130,
     "metadata": {},
     "output_type": "execute_result"
    }
   ],
   "source": [
    "df[df.address.isnull()]"
   ]
  },
  {
   "cell_type": "code",
   "execution_count": 131,
   "metadata": {
    "ExecuteTime": {
     "end_time": "2020-06-29T07:53:28.506209Z",
     "start_time": "2020-06-29T07:53:28.500197Z"
    }
   },
   "outputs": [],
   "source": [
    "for idx, index in enumerate(df[df.address.isnull()].index):\n",
    "    df.loc[index, 'address'] = ['서초동 1588-8', '서초구 서초동 1428-4',\n",
    "                                '서초동 1428-4', '서초동 1446-11', '서초동 1603-3'][idx]"
   ]
  },
  {
   "cell_type": "markdown",
   "metadata": {},
   "source": [
    "* 직접 찾아서 주소 정보 넣어주기"
   ]
  },
  {
   "cell_type": "code",
   "execution_count": 132,
   "metadata": {
    "ExecuteTime": {
     "end_time": "2020-06-29T07:53:28.810391Z",
     "start_time": "2020-06-29T07:53:28.806378Z"
    }
   },
   "outputs": [
    {
     "data": {
      "text/plain": [
       "name          커피829 남부터미널점\n",
       "category             커피전문점\n",
       "address         서초동 1588-8\n",
       "score                    5\n",
       "eval_cnt                1건\n",
       "review_cnt           리뷰 11\n",
       "Name: 183, dtype: object"
      ]
     },
     "execution_count": 132,
     "metadata": {},
     "output_type": "execute_result"
    }
   ],
   "source": [
    "df.iloc[183]"
   ]
  },
  {
   "cell_type": "markdown",
   "metadata": {},
   "source": [
    "* 주소가 잘 들어가있다."
   ]
  },
  {
   "cell_type": "code",
   "execution_count": 133,
   "metadata": {
    "ExecuteTime": {
     "end_time": "2020-06-29T07:53:30.122856Z",
     "start_time": "2020-06-29T07:53:30.115876Z"
    }
   },
   "outputs": [
    {
     "data": {
      "text/html": [
       "<div>\n",
       "<style scoped>\n",
       "    .dataframe tbody tr th:only-of-type {\n",
       "        vertical-align: middle;\n",
       "    }\n",
       "\n",
       "    .dataframe tbody tr th {\n",
       "        vertical-align: top;\n",
       "    }\n",
       "\n",
       "    .dataframe thead th {\n",
       "        text-align: right;\n",
       "    }\n",
       "</style>\n",
       "<table border=\"1\" class=\"dataframe\">\n",
       "  <thead>\n",
       "    <tr style=\"text-align: right;\">\n",
       "      <th></th>\n",
       "      <th>name</th>\n",
       "      <th>category</th>\n",
       "      <th>address</th>\n",
       "      <th>score</th>\n",
       "      <th>eval_cnt</th>\n",
       "      <th>review_cnt</th>\n",
       "    </tr>\n",
       "  </thead>\n",
       "  <tbody>\n",
       "  </tbody>\n",
       "</table>\n",
       "</div>"
      ],
      "text/plain": [
       "Empty DataFrame\n",
       "Columns: [name, category, address, score, eval_cnt, review_cnt]\n",
       "Index: []"
      ]
     },
     "execution_count": 133,
     "metadata": {},
     "output_type": "execute_result"
    }
   ],
   "source": [
    "df[df.address.isnull()]"
   ]
  },
  {
   "cell_type": "markdown",
   "metadata": {},
   "source": [
    "* 결측값이 모두 처리되었다."
   ]
  },
  {
   "cell_type": "markdown",
   "metadata": {},
   "source": [
    "### 2.2 address 컬럼\n",
    "* 앞부분에 '(지번) '이 불필요하게 들어가있다. 이를 삭제하자.\n",
    "* 단, 결측값 처리 시에는 (지번)을 함께 기재하지 않았으므로, 조건문으로 필터링!"
   ]
  },
  {
   "cell_type": "code",
   "execution_count": 134,
   "metadata": {
    "ExecuteTime": {
     "end_time": "2020-06-29T07:53:30.642494Z",
     "start_time": "2020-06-29T07:53:30.580656Z"
    }
   },
   "outputs": [
    {
     "data": {
      "text/html": [
       "<div>\n",
       "<style scoped>\n",
       "    .dataframe tbody tr th:only-of-type {\n",
       "        vertical-align: middle;\n",
       "    }\n",
       "\n",
       "    .dataframe tbody tr th {\n",
       "        vertical-align: top;\n",
       "    }\n",
       "\n",
       "    .dataframe thead th {\n",
       "        text-align: right;\n",
       "    }\n",
       "</style>\n",
       "<table border=\"1\" class=\"dataframe\">\n",
       "  <thead>\n",
       "    <tr style=\"text-align: right;\">\n",
       "      <th></th>\n",
       "      <th>name</th>\n",
       "      <th>category</th>\n",
       "      <th>address</th>\n",
       "      <th>score</th>\n",
       "      <th>eval_cnt</th>\n",
       "      <th>review_cnt</th>\n",
       "    </tr>\n",
       "  </thead>\n",
       "  <tbody>\n",
       "    <tr>\n",
       "      <td>0</td>\n",
       "      <td>루엘드파리</td>\n",
       "      <td>제과,베이커리</td>\n",
       "      <td>서초동 1445-13</td>\n",
       "      <td>3.9</td>\n",
       "      <td>72건</td>\n",
       "      <td>리뷰 267</td>\n",
       "    </tr>\n",
       "    <tr>\n",
       "      <td>1</td>\n",
       "      <td>봉산옥 서초동본점</td>\n",
       "      <td>국수</td>\n",
       "      <td>서초3동 1451-9</td>\n",
       "      <td>3.7</td>\n",
       "      <td>79건</td>\n",
       "      <td>리뷰 146</td>\n",
       "    </tr>\n",
       "    <tr>\n",
       "      <td>2</td>\n",
       "      <td>장꼬방</td>\n",
       "      <td>찌개,전골</td>\n",
       "      <td>서초동 1438-8</td>\n",
       "      <td>3.2</td>\n",
       "      <td>299건</td>\n",
       "      <td>리뷰 124</td>\n",
       "    </tr>\n",
       "    <tr>\n",
       "      <td>3</td>\n",
       "      <td>해담채 남부터미널점</td>\n",
       "      <td>해물,생선</td>\n",
       "      <td>서초동 1600-9</td>\n",
       "      <td>3.1</td>\n",
       "      <td>10건</td>\n",
       "      <td>리뷰 47</td>\n",
       "    </tr>\n",
       "    <tr>\n",
       "      <td>4</td>\n",
       "      <td>카페로비</td>\n",
       "      <td>디저트카페</td>\n",
       "      <td>서초동 1564-4</td>\n",
       "      <td>3.9</td>\n",
       "      <td>15건</td>\n",
       "      <td>리뷰 126</td>\n",
       "    </tr>\n",
       "  </tbody>\n",
       "</table>\n",
       "</div>"
      ],
      "text/plain": [
       "         name category      address  score eval_cnt review_cnt\n",
       "0       루엘드파리  제과,베이커리  서초동 1445-13    3.9      72건     리뷰 267\n",
       "1   봉산옥 서초동본점       국수  서초3동 1451-9    3.7      79건     리뷰 146\n",
       "2         장꼬방    찌개,전골   서초동 1438-8    3.2     299건     리뷰 124\n",
       "3  해담채 남부터미널점    해물,생선   서초동 1600-9    3.1      10건      리뷰 47\n",
       "4        카페로비    디저트카페   서초동 1564-4    3.9      15건     리뷰 126"
      ]
     },
     "execution_count": 134,
     "metadata": {},
     "output_type": "execute_result"
    }
   ],
   "source": [
    "for row in df.index:\n",
    "    if df.address[row][:5] == '(지번) ':\n",
    "        df.address[row] = df.address[row][5:]\n",
    "df.head()"
   ]
  },
  {
   "cell_type": "markdown",
   "metadata": {},
   "source": [
    "### 2.3 eval_cnt, review_cnt\n",
    "* 숫자와 섞여있는 문자를 삭제하고\n",
    "* 컬럼을 int형식으로 변경하자"
   ]
  },
  {
   "cell_type": "code",
   "execution_count": 135,
   "metadata": {
    "ExecuteTime": {
     "end_time": "2020-06-29T07:53:30.915764Z",
     "start_time": "2020-06-29T07:53:30.907781Z"
    }
   },
   "outputs": [
    {
     "data": {
      "text/html": [
       "<div>\n",
       "<style scoped>\n",
       "    .dataframe tbody tr th:only-of-type {\n",
       "        vertical-align: middle;\n",
       "    }\n",
       "\n",
       "    .dataframe tbody tr th {\n",
       "        vertical-align: top;\n",
       "    }\n",
       "\n",
       "    .dataframe thead th {\n",
       "        text-align: right;\n",
       "    }\n",
       "</style>\n",
       "<table border=\"1\" class=\"dataframe\">\n",
       "  <thead>\n",
       "    <tr style=\"text-align: right;\">\n",
       "      <th></th>\n",
       "      <th>name</th>\n",
       "      <th>category</th>\n",
       "      <th>address</th>\n",
       "      <th>score</th>\n",
       "      <th>eval_cnt</th>\n",
       "      <th>review_cnt</th>\n",
       "    </tr>\n",
       "  </thead>\n",
       "  <tbody>\n",
       "    <tr>\n",
       "      <td>0</td>\n",
       "      <td>루엘드파리</td>\n",
       "      <td>제과,베이커리</td>\n",
       "      <td>서초동 1445-13</td>\n",
       "      <td>3.9</td>\n",
       "      <td>72건</td>\n",
       "      <td>리뷰 267</td>\n",
       "    </tr>\n",
       "  </tbody>\n",
       "</table>\n",
       "</div>"
      ],
      "text/plain": [
       "    name category      address  score eval_cnt review_cnt\n",
       "0  루엘드파리  제과,베이커리  서초동 1445-13    3.9      72건     리뷰 267"
      ]
     },
     "execution_count": 135,
     "metadata": {},
     "output_type": "execute_result"
    }
   ],
   "source": [
    "df.head(1)"
   ]
  },
  {
   "cell_type": "code",
   "execution_count": 136,
   "metadata": {
    "ExecuteTime": {
     "end_time": "2020-06-29T07:53:31.093285Z",
     "start_time": "2020-06-29T07:53:31.085306Z"
    }
   },
   "outputs": [
    {
     "data": {
      "text/html": [
       "<div>\n",
       "<style scoped>\n",
       "    .dataframe tbody tr th:only-of-type {\n",
       "        vertical-align: middle;\n",
       "    }\n",
       "\n",
       "    .dataframe tbody tr th {\n",
       "        vertical-align: top;\n",
       "    }\n",
       "\n",
       "    .dataframe thead th {\n",
       "        text-align: right;\n",
       "    }\n",
       "</style>\n",
       "<table border=\"1\" class=\"dataframe\">\n",
       "  <thead>\n",
       "    <tr style=\"text-align: right;\">\n",
       "      <th></th>\n",
       "      <th>name</th>\n",
       "      <th>category</th>\n",
       "      <th>score</th>\n",
       "      <th>eval_cnt</th>\n",
       "      <th>review_cnt</th>\n",
       "      <th>address</th>\n",
       "      <th>lat</th>\n",
       "      <th>lng</th>\n",
       "    </tr>\n",
       "  </thead>\n",
       "  <tbody>\n",
       "    <tr>\n",
       "      <td>0</td>\n",
       "      <td>루엘드파리</td>\n",
       "      <td>제과,베이커리</td>\n",
       "      <td>3.9</td>\n",
       "      <td>72건</td>\n",
       "      <td>267</td>\n",
       "      <td>서울 서초구 서초중앙로 18 112호</td>\n",
       "      <td>37.484048</td>\n",
       "      <td>127.017349</td>\n",
       "    </tr>\n",
       "  </tbody>\n",
       "</table>\n",
       "</div>"
      ],
      "text/plain": [
       "    name category  score eval_cnt  review_cnt               address  \\\n",
       "0  루엘드파리  제과,베이커리    3.9      72건         267  서울 서초구 서초중앙로 18 112호   \n",
       "\n",
       "         lat         lng  \n",
       "0  37.484048  127.017349  "
      ]
     },
     "execution_count": 136,
     "metadata": {},
     "output_type": "execute_result"
    }
   ],
   "source": [
    "df_2.head(1)"
   ]
  },
  {
   "cell_type": "markdown",
   "metadata": {},
   "source": [
    "* eval_cnt는 df, df_2 둘 다,\n",
    "* review_cnt는 df만 처리하면 됨"
   ]
  },
  {
   "cell_type": "markdown",
   "metadata": {},
   "source": [
    "#### 2.3.1 eval_cnt\n",
    "* 뒤의 '건'을 삭제하자.\n",
    "* 삭제 전, 해당 컬럼의 모든 레코드가 '건' 이라는 글자로 끝나는지 확인하자"
   ]
  },
  {
   "cell_type": "code",
   "execution_count": 137,
   "metadata": {
    "ExecuteTime": {
     "end_time": "2020-06-29T07:53:31.622844Z",
     "start_time": "2020-06-29T07:53:31.611899Z"
    }
   },
   "outputs": [
    {
     "name": "stdout",
     "output_type": "stream",
     "text": [
      "df:\n",
      " 건    515\n",
      "Name: eval_cnt, dtype: int64 \n",
      " df_2:\n",
      " 건    500\n",
      "Name: eval_cnt, dtype: int64\n"
     ]
    }
   ],
   "source": [
    "print('df:\\n', df['eval_cnt'].apply(lambda x: str(x)[-1]).value_counts(), '\\n',\n",
    "      'df_2:\\n', df_2['eval_cnt'].apply(lambda x: str(x)[-1]).value_counts())"
   ]
  },
  {
   "cell_type": "markdown",
   "metadata": {},
   "source": [
    "* 확인 완료!"
   ]
  },
  {
   "cell_type": "code",
   "execution_count": 138,
   "metadata": {
    "ExecuteTime": {
     "end_time": "2020-06-29T07:53:32.005820Z",
     "start_time": "2020-06-29T07:53:31.996867Z"
    }
   },
   "outputs": [
    {
     "data": {
      "text/html": [
       "<div>\n",
       "<style scoped>\n",
       "    .dataframe tbody tr th:only-of-type {\n",
       "        vertical-align: middle;\n",
       "    }\n",
       "\n",
       "    .dataframe tbody tr th {\n",
       "        vertical-align: top;\n",
       "    }\n",
       "\n",
       "    .dataframe thead th {\n",
       "        text-align: right;\n",
       "    }\n",
       "</style>\n",
       "<table border=\"1\" class=\"dataframe\">\n",
       "  <thead>\n",
       "    <tr style=\"text-align: right;\">\n",
       "      <th></th>\n",
       "      <th>name</th>\n",
       "      <th>category</th>\n",
       "      <th>address</th>\n",
       "      <th>score</th>\n",
       "      <th>eval_cnt</th>\n",
       "      <th>review_cnt</th>\n",
       "    </tr>\n",
       "  </thead>\n",
       "  <tbody>\n",
       "    <tr>\n",
       "      <td>0</td>\n",
       "      <td>루엘드파리</td>\n",
       "      <td>제과,베이커리</td>\n",
       "      <td>서초동 1445-13</td>\n",
       "      <td>3.9</td>\n",
       "      <td>72</td>\n",
       "      <td>리뷰 267</td>\n",
       "    </tr>\n",
       "    <tr>\n",
       "      <td>1</td>\n",
       "      <td>봉산옥 서초동본점</td>\n",
       "      <td>국수</td>\n",
       "      <td>서초3동 1451-9</td>\n",
       "      <td>3.7</td>\n",
       "      <td>79</td>\n",
       "      <td>리뷰 146</td>\n",
       "    </tr>\n",
       "    <tr>\n",
       "      <td>2</td>\n",
       "      <td>장꼬방</td>\n",
       "      <td>찌개,전골</td>\n",
       "      <td>서초동 1438-8</td>\n",
       "      <td>3.2</td>\n",
       "      <td>299</td>\n",
       "      <td>리뷰 124</td>\n",
       "    </tr>\n",
       "  </tbody>\n",
       "</table>\n",
       "</div>"
      ],
      "text/plain": [
       "        name category      address  score eval_cnt review_cnt\n",
       "0      루엘드파리  제과,베이커리  서초동 1445-13    3.9       72     리뷰 267\n",
       "1  봉산옥 서초동본점       국수  서초3동 1451-9    3.7       79     리뷰 146\n",
       "2        장꼬방    찌개,전골   서초동 1438-8    3.2      299     리뷰 124"
      ]
     },
     "execution_count": 138,
     "metadata": {},
     "output_type": "execute_result"
    }
   ],
   "source": [
    "df['eval_cnt'] = df['eval_cnt'].apply(lambda x: str(x)[:-1])\n",
    "df.head(3)"
   ]
  },
  {
   "cell_type": "code",
   "execution_count": 139,
   "metadata": {
    "ExecuteTime": {
     "end_time": "2020-06-29T07:53:32.182387Z",
     "start_time": "2020-06-29T07:53:32.173372Z"
    }
   },
   "outputs": [
    {
     "data": {
      "text/html": [
       "<div>\n",
       "<style scoped>\n",
       "    .dataframe tbody tr th:only-of-type {\n",
       "        vertical-align: middle;\n",
       "    }\n",
       "\n",
       "    .dataframe tbody tr th {\n",
       "        vertical-align: top;\n",
       "    }\n",
       "\n",
       "    .dataframe thead th {\n",
       "        text-align: right;\n",
       "    }\n",
       "</style>\n",
       "<table border=\"1\" class=\"dataframe\">\n",
       "  <thead>\n",
       "    <tr style=\"text-align: right;\">\n",
       "      <th></th>\n",
       "      <th>name</th>\n",
       "      <th>category</th>\n",
       "      <th>score</th>\n",
       "      <th>eval_cnt</th>\n",
       "      <th>review_cnt</th>\n",
       "      <th>address</th>\n",
       "      <th>lat</th>\n",
       "      <th>lng</th>\n",
       "    </tr>\n",
       "  </thead>\n",
       "  <tbody>\n",
       "    <tr>\n",
       "      <td>0</td>\n",
       "      <td>루엘드파리</td>\n",
       "      <td>제과,베이커리</td>\n",
       "      <td>3.9</td>\n",
       "      <td>72</td>\n",
       "      <td>267</td>\n",
       "      <td>서울 서초구 서초중앙로 18 112호</td>\n",
       "      <td>37.484048</td>\n",
       "      <td>127.017349</td>\n",
       "    </tr>\n",
       "    <tr>\n",
       "      <td>1</td>\n",
       "      <td>공미학</td>\n",
       "      <td>커피전문점</td>\n",
       "      <td>3.5</td>\n",
       "      <td>12</td>\n",
       "      <td>147</td>\n",
       "      <td>서울 서초구 서초대로48길 101 1층</td>\n",
       "      <td>37.488622</td>\n",
       "      <td>127.012470</td>\n",
       "    </tr>\n",
       "    <tr>\n",
       "      <td>2</td>\n",
       "      <td>봉산옥 서초동본점</td>\n",
       "      <td>국수</td>\n",
       "      <td>3.7</td>\n",
       "      <td>79</td>\n",
       "      <td>146</td>\n",
       "      <td>서울 서초구 반포대로8길 5-6</td>\n",
       "      <td>37.483382</td>\n",
       "      <td>127.012453</td>\n",
       "    </tr>\n",
       "  </tbody>\n",
       "</table>\n",
       "</div>"
      ],
      "text/plain": [
       "        name category  score eval_cnt  review_cnt                address  \\\n",
       "0      루엘드파리  제과,베이커리    3.9       72         267   서울 서초구 서초중앙로 18 112호   \n",
       "1        공미학    커피전문점    3.5       12         147  서울 서초구 서초대로48길 101 1층   \n",
       "2  봉산옥 서초동본점       국수    3.7       79         146      서울 서초구 반포대로8길 5-6   \n",
       "\n",
       "         lat         lng  \n",
       "0  37.484048  127.017349  \n",
       "1  37.488622  127.012470  \n",
       "2  37.483382  127.012453  "
      ]
     },
     "execution_count": 139,
     "metadata": {},
     "output_type": "execute_result"
    }
   ],
   "source": [
    "df_2['eval_cnt'] = df_2['eval_cnt'].apply(lambda x: str(x)[:-1])\n",
    "df_2.head(3)"
   ]
  },
  {
   "cell_type": "markdown",
   "metadata": {},
   "source": [
    "#### 2.3.2 review_cnt\n",
    "* 이 컬럼에서는 앞에 문자열이 붙어있다. 해당 문자를 삭제하자.\n",
    "* 역시 모든 레코드의 첫 두 글자가 '리뷰'로 시작하는지 먼저 확인"
   ]
  },
  {
   "cell_type": "code",
   "execution_count": 140,
   "metadata": {
    "ExecuteTime": {
     "end_time": "2020-06-29T07:53:32.841608Z",
     "start_time": "2020-06-29T07:53:32.836622Z"
    }
   },
   "outputs": [
    {
     "data": {
      "text/plain": [
       "리뷰    515\n",
       "Name: review_cnt, dtype: int64"
      ]
     },
     "execution_count": 140,
     "metadata": {},
     "output_type": "execute_result"
    }
   ],
   "source": [
    "df.review_cnt.apply(lambda x:str(x)[:2]).value_counts()"
   ]
  },
  {
   "cell_type": "code",
   "execution_count": 141,
   "metadata": {
    "ExecuteTime": {
     "end_time": "2020-06-29T07:53:33.972597Z",
     "start_time": "2020-06-29T07:53:33.964605Z"
    }
   },
   "outputs": [
    {
     "data": {
      "text/html": [
       "<div>\n",
       "<style scoped>\n",
       "    .dataframe tbody tr th:only-of-type {\n",
       "        vertical-align: middle;\n",
       "    }\n",
       "\n",
       "    .dataframe tbody tr th {\n",
       "        vertical-align: top;\n",
       "    }\n",
       "\n",
       "    .dataframe thead th {\n",
       "        text-align: right;\n",
       "    }\n",
       "</style>\n",
       "<table border=\"1\" class=\"dataframe\">\n",
       "  <thead>\n",
       "    <tr style=\"text-align: right;\">\n",
       "      <th></th>\n",
       "      <th>name</th>\n",
       "      <th>category</th>\n",
       "      <th>address</th>\n",
       "      <th>score</th>\n",
       "      <th>eval_cnt</th>\n",
       "      <th>review_cnt</th>\n",
       "    </tr>\n",
       "  </thead>\n",
       "  <tbody>\n",
       "    <tr>\n",
       "      <td>0</td>\n",
       "      <td>루엘드파리</td>\n",
       "      <td>제과,베이커리</td>\n",
       "      <td>서초동 1445-13</td>\n",
       "      <td>3.9</td>\n",
       "      <td>72</td>\n",
       "      <td>267</td>\n",
       "    </tr>\n",
       "    <tr>\n",
       "      <td>1</td>\n",
       "      <td>봉산옥 서초동본점</td>\n",
       "      <td>국수</td>\n",
       "      <td>서초3동 1451-9</td>\n",
       "      <td>3.7</td>\n",
       "      <td>79</td>\n",
       "      <td>146</td>\n",
       "    </tr>\n",
       "    <tr>\n",
       "      <td>2</td>\n",
       "      <td>장꼬방</td>\n",
       "      <td>찌개,전골</td>\n",
       "      <td>서초동 1438-8</td>\n",
       "      <td>3.2</td>\n",
       "      <td>299</td>\n",
       "      <td>124</td>\n",
       "    </tr>\n",
       "  </tbody>\n",
       "</table>\n",
       "</div>"
      ],
      "text/plain": [
       "        name category      address  score eval_cnt review_cnt\n",
       "0      루엘드파리  제과,베이커리  서초동 1445-13    3.9       72        267\n",
       "1  봉산옥 서초동본점       국수  서초3동 1451-9    3.7       79        146\n",
       "2        장꼬방    찌개,전골   서초동 1438-8    3.2      299        124"
      ]
     },
     "execution_count": 141,
     "metadata": {},
     "output_type": "execute_result"
    }
   ],
   "source": [
    "df.review_cnt = df.review_cnt.apply(lambda x: str(x)[3:])\n",
    "df.head(3)"
   ]
  },
  {
   "cell_type": "markdown",
   "metadata": {},
   "source": [
    "#### 2.3.3 컬럼 데이터 형식 변경\n",
    "* object to int32"
   ]
  },
  {
   "cell_type": "code",
   "execution_count": 142,
   "metadata": {
    "ExecuteTime": {
     "end_time": "2020-06-29T07:53:37.162027Z",
     "start_time": "2020-06-29T07:53:37.156043Z"
    }
   },
   "outputs": [
    {
     "name": "stdout",
     "output_type": "stream",
     "text": [
      "<class 'pandas.core.frame.DataFrame'>\n",
      "Int64Index: 515 entries, 0 to 514\n",
      "Data columns (total 6 columns):\n",
      "name          515 non-null object\n",
      "category      515 non-null object\n",
      "address       515 non-null object\n",
      "score         515 non-null float64\n",
      "eval_cnt      515 non-null object\n",
      "review_cnt    515 non-null object\n",
      "dtypes: float64(1), object(5)\n",
      "memory usage: 48.2+ KB\n"
     ]
    }
   ],
   "source": [
    "df.info()"
   ]
  },
  {
   "cell_type": "code",
   "execution_count": 143,
   "metadata": {
    "ExecuteTime": {
     "end_time": "2020-06-29T07:53:37.809320Z",
     "start_time": "2020-06-29T07:53:37.804310Z"
    }
   },
   "outputs": [
    {
     "name": "stdout",
     "output_type": "stream",
     "text": [
      "<class 'pandas.core.frame.DataFrame'>\n",
      "Int64Index: 500 entries, 0 to 499\n",
      "Data columns (total 8 columns):\n",
      "name          500 non-null object\n",
      "category      500 non-null object\n",
      "score         500 non-null float64\n",
      "eval_cnt      500 non-null object\n",
      "review_cnt    500 non-null int64\n",
      "address       500 non-null object\n",
      "lat           500 non-null float64\n",
      "lng           500 non-null float64\n",
      "dtypes: float64(3), int64(1), object(4)\n",
      "memory usage: 35.2+ KB\n"
     ]
    }
   ],
   "source": [
    "df_2.info()"
   ]
  },
  {
   "cell_type": "code",
   "execution_count": 144,
   "metadata": {
    "ExecuteTime": {
     "end_time": "2020-06-29T07:53:40.369447Z",
     "start_time": "2020-06-29T07:53:40.364486Z"
    }
   },
   "outputs": [],
   "source": [
    "# 중간에 오류가 나서 확인해보니 na 값(object)이 있어 수정\n",
    "for row in df[df.eval_cnt == 'na'].index:\n",
    "    df.loc[row, 'eval_cnt'] = 0"
   ]
  },
  {
   "cell_type": "code",
   "execution_count": 145,
   "metadata": {
    "ExecuteTime": {
     "end_time": "2020-06-29T07:53:40.655805Z",
     "start_time": "2020-06-29T07:53:40.651789Z"
    }
   },
   "outputs": [],
   "source": [
    "for row in df_2[df_2.eval_cnt == 'na'].index:\n",
    "    df_2.loc[row, 'eval_cnt'] = 0"
   ]
  },
  {
   "cell_type": "code",
   "execution_count": 146,
   "metadata": {
    "ExecuteTime": {
     "end_time": "2020-06-29T07:53:40.716614Z",
     "start_time": "2020-06-29T07:53:40.707639Z"
    }
   },
   "outputs": [
    {
     "name": "stdout",
     "output_type": "stream",
     "text": [
      "<class 'pandas.core.frame.DataFrame'>\n",
      "Int64Index: 515 entries, 0 to 514\n",
      "Data columns (total 6 columns):\n",
      "name          515 non-null object\n",
      "category      515 non-null object\n",
      "address       515 non-null object\n",
      "score         515 non-null float64\n",
      "eval_cnt      515 non-null int32\n",
      "review_cnt    515 non-null int32\n",
      "dtypes: float64(1), int32(2), object(3)\n",
      "memory usage: 44.1+ KB\n"
     ]
    }
   ],
   "source": [
    "# df\n",
    "df['eval_cnt'] = df['eval_cnt'].astype(int)\n",
    "df['review_cnt'] = df['review_cnt'].astype(int)\n",
    "# df_2\n",
    "df['eval_cnt'] = df['eval_cnt'].astype(int)\n",
    "df.info()"
   ]
  },
  {
   "cell_type": "code",
   "execution_count": 147,
   "metadata": {
    "ExecuteTime": {
     "end_time": "2020-06-29T07:53:40.937050Z",
     "start_time": "2020-06-29T07:53:40.932062Z"
    }
   },
   "outputs": [
    {
     "name": "stdout",
     "output_type": "stream",
     "text": [
      "<class 'pandas.core.frame.DataFrame'>\n",
      "Int64Index: 500 entries, 0 to 499\n",
      "Data columns (total 8 columns):\n",
      "name          500 non-null object\n",
      "category      500 non-null object\n",
      "score         500 non-null float64\n",
      "eval_cnt      500 non-null object\n",
      "review_cnt    500 non-null int64\n",
      "address       500 non-null object\n",
      "lat           500 non-null float64\n",
      "lng           500 non-null float64\n",
      "dtypes: float64(3), int64(1), object(4)\n",
      "memory usage: 35.2+ KB\n"
     ]
    }
   ],
   "source": [
    "df_2.info()"
   ]
  },
  {
   "cell_type": "markdown",
   "metadata": {},
   "source": [
    "### 2.4 join\n",
    "* 전처리를 완료했으니 두 데이터를 join시키자.\n",
    "* 일단 df_2에 있는 위치정보는 무시하고, df에 join시키자."
   ]
  },
  {
   "cell_type": "code",
   "execution_count": 148,
   "metadata": {
    "ExecuteTime": {
     "end_time": "2020-06-29T07:53:50.544327Z",
     "start_time": "2020-06-29T07:53:50.531389Z"
    }
   },
   "outputs": [
    {
     "data": {
      "text/html": [
       "<div>\n",
       "<style scoped>\n",
       "    .dataframe tbody tr th:only-of-type {\n",
       "        vertical-align: middle;\n",
       "    }\n",
       "\n",
       "    .dataframe tbody tr th {\n",
       "        vertical-align: top;\n",
       "    }\n",
       "\n",
       "    .dataframe thead th {\n",
       "        text-align: right;\n",
       "    }\n",
       "</style>\n",
       "<table border=\"1\" class=\"dataframe\">\n",
       "  <thead>\n",
       "    <tr style=\"text-align: right;\">\n",
       "      <th></th>\n",
       "      <th>address</th>\n",
       "      <th>category</th>\n",
       "      <th>eval_cnt</th>\n",
       "      <th>name</th>\n",
       "      <th>review_cnt</th>\n",
       "      <th>score</th>\n",
       "    </tr>\n",
       "  </thead>\n",
       "  <tbody>\n",
       "    <tr>\n",
       "      <td>1012</td>\n",
       "      <td>서울 서초구 사임당로 25</td>\n",
       "      <td>술집</td>\n",
       "      <td>0</td>\n",
       "      <td>오키드</td>\n",
       "      <td>0</td>\n",
       "      <td>0.0</td>\n",
       "    </tr>\n",
       "    <tr>\n",
       "      <td>1013</td>\n",
       "      <td>서울 서초구 서초중앙로5길 10-8</td>\n",
       "      <td>카페</td>\n",
       "      <td>0</td>\n",
       "      <td>아이비</td>\n",
       "      <td>0</td>\n",
       "      <td>0.0</td>\n",
       "    </tr>\n",
       "    <tr>\n",
       "      <td>1014</td>\n",
       "      <td>서울 서초구 사임당로 58 제일빌딩</td>\n",
       "      <td>분식</td>\n",
       "      <td>0</td>\n",
       "      <td>맛나스넥</td>\n",
       "      <td>0</td>\n",
       "      <td>0.0</td>\n",
       "    </tr>\n",
       "  </tbody>\n",
       "</table>\n",
       "</div>"
      ],
      "text/plain": [
       "                  address category eval_cnt  name  review_cnt  score\n",
       "1012       서울 서초구 사임당로 25       술집        0   오키드           0    0.0\n",
       "1013  서울 서초구 서초중앙로5길 10-8       카페        0   아이비           0    0.0\n",
       "1014  서울 서초구 사임당로 58 제일빌딩       분식        0  맛나스넥           0    0.0"
      ]
     },
     "execution_count": 148,
     "metadata": {},
     "output_type": "execute_result"
    }
   ],
   "source": [
    "# 일단 두 데이터를 합치기\n",
    "df = pd.concat([df, df_2.drop(['lat', 'lng'], axis=1)]).reset_index(drop=True)\n",
    "df.tail(3)"
   ]
  },
  {
   "cell_type": "code",
   "execution_count": 164,
   "metadata": {
    "ExecuteTime": {
     "end_time": "2020-06-29T07:56:06.613260Z",
     "start_time": "2020-06-29T07:56:06.604256Z"
    }
   },
   "outputs": [
    {
     "data": {
      "text/html": [
       "<div>\n",
       "<style scoped>\n",
       "    .dataframe tbody tr th:only-of-type {\n",
       "        vertical-align: middle;\n",
       "    }\n",
       "\n",
       "    .dataframe tbody tr th {\n",
       "        vertical-align: top;\n",
       "    }\n",
       "\n",
       "    .dataframe thead th {\n",
       "        text-align: right;\n",
       "    }\n",
       "</style>\n",
       "<table border=\"1\" class=\"dataframe\">\n",
       "  <thead>\n",
       "    <tr style=\"text-align: right;\">\n",
       "      <th></th>\n",
       "      <th>address</th>\n",
       "      <th>category</th>\n",
       "      <th>eval_cnt</th>\n",
       "      <th>name</th>\n",
       "      <th>review_cnt</th>\n",
       "      <th>score</th>\n",
       "    </tr>\n",
       "  </thead>\n",
       "  <tbody>\n",
       "    <tr>\n",
       "      <td>0</td>\n",
       "      <td>서초동 1445-13</td>\n",
       "      <td>제과,베이커리</td>\n",
       "      <td>72</td>\n",
       "      <td>루엘드파리</td>\n",
       "      <td>267</td>\n",
       "      <td>3.9</td>\n",
       "    </tr>\n",
       "    <tr>\n",
       "      <td>1</td>\n",
       "      <td>서초3동 1451-9</td>\n",
       "      <td>국수</td>\n",
       "      <td>79</td>\n",
       "      <td>봉산옥 서초동본점</td>\n",
       "      <td>146</td>\n",
       "      <td>3.7</td>\n",
       "    </tr>\n",
       "  </tbody>\n",
       "</table>\n",
       "</div>"
      ],
      "text/plain": [
       "       address category eval_cnt       name  review_cnt  score\n",
       "0  서초동 1445-13  제과,베이커리       72      루엘드파리         267    3.9\n",
       "1  서초3동 1451-9       국수       79  봉산옥 서초동본점         146    3.7"
      ]
     },
     "execution_count": 164,
     "metadata": {},
     "output_type": "execute_result"
    }
   ],
   "source": [
    "df.drop(df[df.name.duplicated()].index, inplace=True)\n",
    "df.reset_index(inplace=True, drop=True)\n",
    "df.head(2)"
   ]
  },
  {
   "cell_type": "code",
   "execution_count": 166,
   "metadata": {
    "ExecuteTime": {
     "end_time": "2020-06-29T07:56:17.476174Z",
     "start_time": "2020-06-29T07:56:17.468221Z"
    }
   },
   "outputs": [
    {
     "data": {
      "text/html": [
       "<div>\n",
       "<style scoped>\n",
       "    .dataframe tbody tr th:only-of-type {\n",
       "        vertical-align: middle;\n",
       "    }\n",
       "\n",
       "    .dataframe tbody tr th {\n",
       "        vertical-align: top;\n",
       "    }\n",
       "\n",
       "    .dataframe thead th {\n",
       "        text-align: right;\n",
       "    }\n",
       "</style>\n",
       "<table border=\"1\" class=\"dataframe\">\n",
       "  <thead>\n",
       "    <tr style=\"text-align: right;\">\n",
       "      <th></th>\n",
       "      <th>address</th>\n",
       "      <th>category</th>\n",
       "      <th>eval_cnt</th>\n",
       "      <th>name</th>\n",
       "      <th>review_cnt</th>\n",
       "      <th>score</th>\n",
       "    </tr>\n",
       "  </thead>\n",
       "  <tbody>\n",
       "    <tr>\n",
       "      <td>516</td>\n",
       "      <td>서울 서초구 사임당로 21</td>\n",
       "      <td>실내포장마차</td>\n",
       "      <td>0</td>\n",
       "      <td>진심야식당</td>\n",
       "      <td>0</td>\n",
       "      <td>0.0</td>\n",
       "    </tr>\n",
       "    <tr>\n",
       "      <td>517</td>\n",
       "      <td>서울 서초구 사임당로 58 제일빌딩</td>\n",
       "      <td>분식</td>\n",
       "      <td>0</td>\n",
       "      <td>맛나스넥</td>\n",
       "      <td>0</td>\n",
       "      <td>0.0</td>\n",
       "    </tr>\n",
       "  </tbody>\n",
       "</table>\n",
       "</div>"
      ],
      "text/plain": [
       "                 address category eval_cnt   name  review_cnt  score\n",
       "516       서울 서초구 사임당로 21   실내포장마차        0  진심야식당           0    0.0\n",
       "517  서울 서초구 사임당로 58 제일빌딩       분식        0   맛나스넥           0    0.0"
      ]
     },
     "execution_count": 166,
     "metadata": {},
     "output_type": "execute_result"
    }
   ],
   "source": [
    "df.tail(2)"
   ]
  },
  {
   "cell_type": "code",
   "execution_count": 167,
   "metadata": {
    "ExecuteTime": {
     "end_time": "2020-06-29T07:56:20.367464Z",
     "start_time": "2020-06-29T07:56:20.363475Z"
    }
   },
   "outputs": [
    {
     "data": {
      "text/plain": [
       "(518, 6)"
      ]
     },
     "execution_count": 167,
     "metadata": {},
     "output_type": "execute_result"
    }
   ],
   "source": [
    "df.shape"
   ]
  },
  {
   "cell_type": "markdown",
   "metadata": {},
   "source": [
    "* 두 데이터에서 중복되지 않는 곳을 걸렀더니, 518곳이 필터링되었다.\n",
    "* 실질적으로 안 겹친 음식점은 3곳이었던 것이네.. (ㅡㅡ...)"
   ]
  },
  {
   "cell_type": "markdown",
   "metadata": {
    "ExecuteTime": {
     "end_time": "2020-06-23T10:05:23.004842Z",
     "start_time": "2020-06-23T10:05:22.989885Z"
    }
   },
   "source": [
    "### 2.4 저장하기\n",
    "* 전처리가 완료되었으니, 이제 저장을 하자!"
   ]
  },
  {
   "cell_type": "code",
   "execution_count": 168,
   "metadata": {
    "ExecuteTime": {
     "end_time": "2020-06-29T07:57:42.525762Z",
     "start_time": "2020-06-29T07:57:42.475802Z"
    }
   },
   "outputs": [],
   "source": [
    "df.to_csv('./source/restaurant_preprocessed(merged).csv')"
   ]
  },
  {
   "cell_type": "markdown",
   "metadata": {},
   "source": [
    "## 3. 데이터 살펴보기"
   ]
  },
  {
   "cell_type": "code",
   "execution_count": 169,
   "metadata": {
    "ExecuteTime": {
     "end_time": "2020-06-29T07:57:45.781983Z",
     "start_time": "2020-06-29T07:57:45.776971Z"
    }
   },
   "outputs": [
    {
     "name": "stdout",
     "output_type": "stream",
     "text": [
      "<class 'pandas.core.frame.DataFrame'>\n",
      "RangeIndex: 518 entries, 0 to 517\n",
      "Data columns (total 6 columns):\n",
      "address       518 non-null object\n",
      "category      518 non-null object\n",
      "eval_cnt      518 non-null object\n",
      "name          518 non-null object\n",
      "review_cnt    518 non-null int64\n",
      "score         518 non-null float64\n",
      "dtypes: float64(1), int64(1), object(4)\n",
      "memory usage: 24.4+ KB\n"
     ]
    }
   ],
   "source": [
    "df.info()"
   ]
  },
  {
   "cell_type": "code",
   "execution_count": 178,
   "metadata": {
    "ExecuteTime": {
     "end_time": "2020-06-29T08:03:38.866090Z",
     "start_time": "2020-06-29T08:03:38.852127Z"
    }
   },
   "outputs": [
    {
     "data": {
      "text/html": [
       "<div>\n",
       "<style scoped>\n",
       "    .dataframe tbody tr th:only-of-type {\n",
       "        vertical-align: middle;\n",
       "    }\n",
       "\n",
       "    .dataframe tbody tr th {\n",
       "        vertical-align: top;\n",
       "    }\n",
       "\n",
       "    .dataframe thead th {\n",
       "        text-align: right;\n",
       "    }\n",
       "</style>\n",
       "<table border=\"1\" class=\"dataframe\">\n",
       "  <thead>\n",
       "    <tr style=\"text-align: right;\">\n",
       "      <th></th>\n",
       "      <th>eval_cnt</th>\n",
       "      <th>review_cnt</th>\n",
       "      <th>score</th>\n",
       "    </tr>\n",
       "  </thead>\n",
       "  <tbody>\n",
       "    <tr>\n",
       "      <td>count</td>\n",
       "      <td>518.000000</td>\n",
       "      <td>518.000000</td>\n",
       "      <td>518.000000</td>\n",
       "    </tr>\n",
       "    <tr>\n",
       "      <td>mean</td>\n",
       "      <td>4.880309</td>\n",
       "      <td>10.212355</td>\n",
       "      <td>2.134170</td>\n",
       "    </tr>\n",
       "    <tr>\n",
       "      <td>std</td>\n",
       "      <td>15.854182</td>\n",
       "      <td>27.517135</td>\n",
       "      <td>1.949679</td>\n",
       "    </tr>\n",
       "    <tr>\n",
       "      <td>min</td>\n",
       "      <td>0.000000</td>\n",
       "      <td>0.000000</td>\n",
       "      <td>0.000000</td>\n",
       "    </tr>\n",
       "    <tr>\n",
       "      <td>25%</td>\n",
       "      <td>0.000000</td>\n",
       "      <td>0.000000</td>\n",
       "      <td>0.000000</td>\n",
       "    </tr>\n",
       "    <tr>\n",
       "      <td>50%</td>\n",
       "      <td>1.000000</td>\n",
       "      <td>1.000000</td>\n",
       "      <td>2.500000</td>\n",
       "    </tr>\n",
       "    <tr>\n",
       "      <td>75%</td>\n",
       "      <td>5.000000</td>\n",
       "      <td>7.000000</td>\n",
       "      <td>4.000000</td>\n",
       "    </tr>\n",
       "    <tr>\n",
       "      <td>max</td>\n",
       "      <td>299.000000</td>\n",
       "      <td>274.000000</td>\n",
       "      <td>5.000000</td>\n",
       "    </tr>\n",
       "  </tbody>\n",
       "</table>\n",
       "</div>"
      ],
      "text/plain": [
       "         eval_cnt  review_cnt       score\n",
       "count  518.000000  518.000000  518.000000\n",
       "mean     4.880309   10.212355    2.134170\n",
       "std     15.854182   27.517135    1.949679\n",
       "min      0.000000    0.000000    0.000000\n",
       "25%      0.000000    0.000000    0.000000\n",
       "50%      1.000000    1.000000    2.500000\n",
       "75%      5.000000    7.000000    4.000000\n",
       "max    299.000000  274.000000    5.000000"
      ]
     },
     "execution_count": 178,
     "metadata": {},
     "output_type": "execute_result"
    }
   ],
   "source": [
    "df.describe()"
   ]
  },
  {
   "cell_type": "markdown",
   "metadata": {},
   "source": [
    "* 왜 또다시 eval_cnt가 object로 변한것일까..?"
   ]
  },
  {
   "cell_type": "code",
   "execution_count": 177,
   "metadata": {
    "ExecuteTime": {
     "end_time": "2020-06-29T08:03:36.622120Z",
     "start_time": "2020-06-29T08:03:36.619128Z"
    }
   },
   "outputs": [],
   "source": [
    "df.eval_cnt = df.eval_cnt.astype('int')"
   ]
  },
  {
   "cell_type": "markdown",
   "metadata": {},
   "source": [
    "### 3.1 데이터 분포\n",
    "* 수치형 데이터들의 분포를 알아보자."
   ]
  },
  {
   "cell_type": "code",
   "execution_count": 183,
   "metadata": {
    "ExecuteTime": {
     "end_time": "2020-06-29T09:08:35.947165Z",
     "start_time": "2020-06-29T09:08:35.933202Z"
    }
   },
   "outputs": [
    {
     "data": {
      "text/html": [
       "<div>\n",
       "<style scoped>\n",
       "    .dataframe tbody tr th:only-of-type {\n",
       "        vertical-align: middle;\n",
       "    }\n",
       "\n",
       "    .dataframe tbody tr th {\n",
       "        vertical-align: top;\n",
       "    }\n",
       "\n",
       "    .dataframe thead th {\n",
       "        text-align: right;\n",
       "    }\n",
       "</style>\n",
       "<table border=\"1\" class=\"dataframe\">\n",
       "  <thead>\n",
       "    <tr style=\"text-align: right;\">\n",
       "      <th></th>\n",
       "      <th>eval_cnt</th>\n",
       "      <th>review_cnt</th>\n",
       "      <th>score</th>\n",
       "    </tr>\n",
       "  </thead>\n",
       "  <tbody>\n",
       "    <tr>\n",
       "      <td>count</td>\n",
       "      <td>518.000000</td>\n",
       "      <td>518.000000</td>\n",
       "      <td>518.000000</td>\n",
       "    </tr>\n",
       "    <tr>\n",
       "      <td>mean</td>\n",
       "      <td>4.880309</td>\n",
       "      <td>10.212355</td>\n",
       "      <td>2.134170</td>\n",
       "    </tr>\n",
       "    <tr>\n",
       "      <td>std</td>\n",
       "      <td>15.854182</td>\n",
       "      <td>27.517135</td>\n",
       "      <td>1.949679</td>\n",
       "    </tr>\n",
       "    <tr>\n",
       "      <td>min</td>\n",
       "      <td>0.000000</td>\n",
       "      <td>0.000000</td>\n",
       "      <td>0.000000</td>\n",
       "    </tr>\n",
       "    <tr>\n",
       "      <td>25%</td>\n",
       "      <td>0.000000</td>\n",
       "      <td>0.000000</td>\n",
       "      <td>0.000000</td>\n",
       "    </tr>\n",
       "    <tr>\n",
       "      <td>50%</td>\n",
       "      <td>1.000000</td>\n",
       "      <td>1.000000</td>\n",
       "      <td>2.500000</td>\n",
       "    </tr>\n",
       "    <tr>\n",
       "      <td>75%</td>\n",
       "      <td>5.000000</td>\n",
       "      <td>7.000000</td>\n",
       "      <td>4.000000</td>\n",
       "    </tr>\n",
       "    <tr>\n",
       "      <td>max</td>\n",
       "      <td>299.000000</td>\n",
       "      <td>274.000000</td>\n",
       "      <td>5.000000</td>\n",
       "    </tr>\n",
       "  </tbody>\n",
       "</table>\n",
       "</div>"
      ],
      "text/plain": [
       "         eval_cnt  review_cnt       score\n",
       "count  518.000000  518.000000  518.000000\n",
       "mean     4.880309   10.212355    2.134170\n",
       "std     15.854182   27.517135    1.949679\n",
       "min      0.000000    0.000000    0.000000\n",
       "25%      0.000000    0.000000    0.000000\n",
       "50%      1.000000    1.000000    2.500000\n",
       "75%      5.000000    7.000000    4.000000\n",
       "max    299.000000  274.000000    5.000000"
      ]
     },
     "execution_count": 183,
     "metadata": {},
     "output_type": "execute_result"
    }
   ],
   "source": [
    "df.describe()"
   ]
  },
  {
   "cell_type": "markdown",
   "metadata": {},
   "source": [
    "* 별점은 평균 2.1점이다.\n",
    "    * 3점에 아까울 줄 알았는데,생각보다는 낮다.\n",
    "* 별점 평가는 평균 약 5건으로, 많지는 않다.\n",
    "* 리뷰(블로그 등)의 수가 평균 10건으로 오히려 별점 평가 수보다 더 많았다.\n",
    "    * 카카오맵 내에서 제공되는 리뷰는 다음, 네이버 등 다른 도메인의 리뷰도 함께 카운트되기 때문에 그럴것이다."
   ]
  },
  {
   "cell_type": "code",
   "execution_count": 201,
   "metadata": {
    "ExecuteTime": {
     "end_time": "2020-06-29T09:36:19.738429Z",
     "start_time": "2020-06-29T09:36:19.730478Z"
    }
   },
   "outputs": [],
   "source": [
    "def numeric_plot(df, col):\n",
    "    f, ax = plt.subplots(1, 2, figsize=(15, 4))\n",
    "    sns.boxplot(df[col], ax=ax[0])\n",
    "    ax[0].set_title('Boxplot of {}'.format(col))\n",
    "    \n",
    "    sns.distplot(df[col], ax=ax[1])\n",
    "    ax[1].set_title('Histplot of {}'.format(col))    "
   ]
  },
  {
   "cell_type": "code",
   "execution_count": 202,
   "metadata": {
    "ExecuteTime": {
     "end_time": "2020-06-29T09:36:21.627682Z",
     "start_time": "2020-06-29T09:36:20.904042Z"
    }
   },
   "outputs": [
    {
     "data": {
      "image/png": "[encoded data removed]",
      "text/plain": [
       "<Figure size 1080x288 with 2 Axes>"
      ]
     },
     "metadata": {
      "needs_background": "light"
     },
     "output_type": "display_data"
    },
    {
     "data": {
      "image/png": "[encoded data removed]",
      "text/plain": [
       "<Figure size 1080x288 with 2 Axes>"
      ]
     },
     "metadata": {
      "needs_background": "light"
     },
     "output_type": "display_data"
    },
    {
     "data": {
      "image/png": "[encoded data removed]",
      "text/plain": [
       "<Figure size 1080x288 with 2 Axes>"
      ]
     },
     "metadata": {
      "needs_background": "light"
     },
     "output_type": "display_data"
    }
   ],
   "source": [
    "for col in ['eval_cnt', 'review_cnt', 'score']:\n",
    "    numeric_plot(df, col)"
   ]
  },
  {
   "cell_type": "markdown",
   "metadata": {},
   "source": [
    "* 0 혹은 0과 가까운 데이터들이 많은 것을 알 수 있다.\n",
    "    * 실제로 평가가 아직 안 되거나 적게 된 곳이 많다는 의미\n",
    "* 평가가 적게 된 곳도 많으므로, 좋은 음식점을 가려낼 때 '평점만' 고려하면 안 되겠다.\n",
    "    * 평가가 특정 수 이상 되는 음식점만 고르는 등의 필터링을 거쳐야할 듯."
   ]
  },
  {
   "cell_type": "markdown",
   "metadata": {},
   "source": [
    "* 일단 맛보기로, 평가가 10회 이상 이뤄진 음식점을 추려 다시 분포를 그려보자."
   ]
  },
  {
   "cell_type": "code",
   "execution_count": 217,
   "metadata": {
    "ExecuteTime": {
     "end_time": "2020-06-29T09:56:40.844394Z",
     "start_time": "2020-06-29T09:56:40.839408Z"
    }
   },
   "outputs": [
    {
     "data": {
      "text/plain": [
       "(102, 6)"
      ]
     },
     "execution_count": 217,
     "metadata": {},
     "output_type": "execute_result"
    }
   ],
   "source": [
    "df_cnt_over_10 = df[df.review_cnt >= 10]\n",
    "df_cnt_over_10.shape"
   ]
  },
  {
   "cell_type": "code",
   "execution_count": 218,
   "metadata": {
    "ExecuteTime": {
     "end_time": "2020-06-29T09:57:37.104168Z",
     "start_time": "2020-06-29T09:57:36.431866Z"
    }
   },
   "outputs": [
    {
     "data": {
      "image/png": "[encoded data removed]",
      "text/plain": [
       "<Figure size 1080x288 with 2 Axes>"
      ]
     },
     "metadata": {
      "needs_background": "light"
     },
     "output_type": "display_data"
    },
    {
     "data": {
      "image/png": "[encoded data removed]",
      "text/plain": [
       "<Figure size 1080x288 with 2 Axes>"
      ]
     },
     "metadata": {
      "needs_background": "light"
     },
     "output_type": "display_data"
    },
    {
     "data": {
      "image/png": "[encoded data removed]",
      "text/plain": [
       "<Figure size 1080x288 with 2 Axes>"
      ]
     },
     "metadata": {
      "needs_background": "light"
     },
     "output_type": "display_data"
    }
   ],
   "source": [
    "for col in ['eval_cnt', 'review_cnt', 'score']:\n",
    "    numeric_plot(df_cnt_over_10, col)"
   ]
  },
  {
   "cell_type": "markdown",
   "metadata": {},
   "source": [
    "* review_cnt와 eval_cnt는 여전히 왼쪽으로 쏠린 분포이다.\n",
    "* 하지만, score는 오른쪽 쏠림 분포로 이동하였고, \n",
    "    * 3점 이상 받은 음식점이 많은 것을 알 수 있다."
   ]
  },
  {
   "cell_type": "code",
   "execution_count": 219,
   "metadata": {
    "ExecuteTime": {
     "end_time": "2020-06-29T10:00:41.875654Z",
     "start_time": "2020-06-29T10:00:41.871690Z"
    }
   },
   "outputs": [],
   "source": [
    "df_eval = df[df.eval_cnt>0]"
   ]
  },
  {
   "cell_type": "markdown",
   "metadata": {},
   "source": [
    "* 일단 평가를 1회 이상 받은 곳은 따로 저장해두자."
   ]
  },
  {
   "cell_type": "code",
   "execution_count": 185,
   "metadata": {
    "ExecuteTime": {
     "end_time": "2020-06-29T09:17:27.950703Z",
     "start_time": "2020-06-29T09:17:27.945828Z"
    }
   },
   "outputs": [],
   "source": [
    "# 컬럼 순서 변경\n",
    "df = df[['name', 'category', 'score', 'eval_cnt', 'review_cnt', 'address']]"
   ]
  },
  {
   "cell_type": "markdown",
   "metadata": {},
   "source": [
    "### 3.2 카테고리 확인\n",
    "* 음식점을 카테고리별로 확인하면, 좋은 인사이트가 나올 것 같다.\n",
    "* 어떤 카테고리를 가진 음식점이 많은지 확인해보자."
   ]
  },
  {
   "cell_type": "code",
   "execution_count": 103,
   "metadata": {
    "ExecuteTime": {
     "end_time": "2020-06-23T10:12:00.697374Z",
     "start_time": "2020-06-23T10:12:00.207638Z"
    }
   },
   "outputs": [
    {
     "data": {
      "text/plain": [
       "<matplotlib.axes._subplots.AxesSubplot at 0x1d630b50fc8>"
      ]
     },
     "execution_count": 103,
     "metadata": {},
     "output_type": "execute_result"
    },
    {
     "data": {
      "image/png": "[encoded data removed]",
      "text/plain": [
       "<Figure size 720x720 with 1 Axes>"
      ]
     },
     "metadata": {},
     "output_type": "display_data"
    }
   ],
   "source": [
    "df.category.value_counts().sort_values(ascending=False)[:20].plot('barh', figsize=(10, 10))"
   ]
  }
 ],
 "metadata": {
  "kernelspec": {
   "display_name": "Python 3",
   "language": "python",
   "name": "python3"
  },
  "language_info": {
   "codemirror_mode": {
    "name": "ipython",
    "version": 3
   },
   "file_extension": ".py",
   "mimetype": "text/x-python",
   "name": "python",
   "nbconvert_exporter": "python",
   "pygments_lexer": "ipython3",
   "version": "3.7.4"
  },
  "toc": {
   "base_numbering": 1,
   "nav_menu": {},
   "number_sections": false,
   "sideBar": true,
   "skip_h1_title": true,
   "title_cell": "Table of Contents",
   "title_sidebar": "Contents",
   "toc_cell": true,
   "toc_position": {
    "height": "740px",
    "left": "1717px",
    "top": "178px",
    "width": "203px"
   },
   "toc_section_display": true,
   "toc_window_display": true
  }
 },
 "nbformat": 4,
 "nbformat_minor": 2
}
