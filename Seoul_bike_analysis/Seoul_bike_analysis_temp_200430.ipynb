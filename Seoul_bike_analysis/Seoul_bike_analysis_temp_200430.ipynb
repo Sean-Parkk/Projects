{
 "cells": [
  {
   "cell_type": "markdown",
   "metadata": {},
   "source": [
    "# 빌릴 땐 마음대로지만 반납할 땐 아니란다\n",
    "by Sean Park, 20-04-16  \n",
    "[블로그]()  \n",
    "[Github](https://github.com/Sean-Parkk)\n",
    "> *성수동에는 따릉이가 정말 많다.*  \n",
    "카페 거리, 서울숲 산책, 한강 자전거길 등 주변에 자전거로 즐길 콘텐츠가 많아서 일 것이다.  \n",
    "반면, 성수동에서 따릉이를 타고 본가인 쌍문동까지 가면, 따릉이를 반납할 곳이 참 없다고 느꼈었다.  \n",
    "**지역마다 따릉이 분포가 어떤지** 살펴보고, **어느 구역에 확충하면 좋을 지** 살펴보자.\n",
    "\n",
    "* 목적: 서울 지역 따릉이 분포 분석하기"
   ]
  },
  {
   "cell_type": "markdown",
   "metadata": {
    "toc": true
   },
   "source": [
    "<h1>Table of Contents<span class=\"tocSkip\"></span></h1>\n",
    "<div class=\"toc\"><ul class=\"toc-item\"><li><span><a href=\"#1.-데이터-가져오기\" data-toc-modified-id=\"1.-데이터-가져오기-1\">1. 데이터 가져오기</a></span></li><li><span><a href=\"#2.-데이터-전처리\" data-toc-modified-id=\"2.-데이터-전처리-2\">2. 데이터 전처리</a></span><ul class=\"toc-item\"><li><span><a href=\"#2-2.-데이터-형식-변경,-컬럼-추가\" data-toc-modified-id=\"2-2.-데이터-형식-변경,-컬럼-추가-2.1\">2-2. 데이터 형식 변경, 컬럼 추가</a></span></li></ul></li></ul></div>"
   ]
  },
  {
   "cell_type": "markdown",
   "metadata": {},
   "source": [
    "## 1. 데이터 가져오기\n",
    "* 대여소 정보: [링크](https://data.seoul.go.kr/dataList/OA-13252/F/1/datasetView.do)\n",
    "    * 19.12.09 기준 데이터를 사용\n",
    "* 이용 정보: [링크](https://data.seoul.go.kr/dataList/OA-15249/F/1/datasetView.do)\n",
    "    * 18.12~19.11 간 데이터를 사용 (두 개의 파일 사용)"
   ]
  },
  {
   "cell_type": "code",
   "execution_count": 1,
   "metadata": {
    "ExecuteTime": {
     "end_time": "2020-04-30T14:52:28.259282Z",
     "start_time": "2020-04-30T14:52:24.016710Z"
    }
   },
   "outputs": [],
   "source": [
    "import pandas as pd\n",
    "import matplotlib.pyplot as plt\n",
    "import seaborn as sns\n",
    "plt.style.use('seaborn-whitegrid')\n",
    "import folium\n",
    "import googlemaps\n",
    "import warnings\n",
    "warnings.filterwarnings('ignore')"
   ]
  },
  {
   "cell_type": "code",
   "execution_count": 2,
   "metadata": {
    "ExecuteTime": {
     "end_time": "2020-04-30T14:52:28.268260Z",
     "start_time": "2020-04-30T14:52:28.262275Z"
    }
   },
   "outputs": [],
   "source": [
    "plt.rc('font', size=14)\n",
    "plt.rc('font', family='NanumGothic')"
   ]
  },
  {
   "cell_type": "code",
   "execution_count": 3,
   "metadata": {
    "ExecuteTime": {
     "end_time": "2020-04-30T14:52:37.165465Z",
     "start_time": "2020-04-30T14:52:28.271253Z"
    }
   },
   "outputs": [],
   "source": [
    "# 파일 불러오기\n",
    "df_rent1 = pd.read_excel('source/Seoulbike/공공자전거 대여소별 이용정보_201906_201911.xlsx', sheet_name='대여')\n",
    "df_rent2 = pd.read_excel('source/Seoulbike/공공자전거 대여소별 이용정보_201812_201905.xlsx', sheet_name='대여')\n",
    "df_return1 = pd.read_excel('source/Seoulbike/공공자전거 대여소별 이용정보_201906_201911.xlsx', sheet_name='반납')\n",
    "df_return2 = pd.read_excel('source/Seoulbike/공공자전거 대여소별 이용정보_201812_201905.xlsx', sheet_name='반납')\n",
    "df_station = pd.read_excel('source/Seoulbike/서울특별시 공공자전거 대여소 정보(19.12.9).xlsx')"
   ]
  },
  {
   "cell_type": "code",
   "execution_count": 4,
   "metadata": {
    "ExecuteTime": {
     "end_time": "2020-04-30T14:52:37.209352Z",
     "start_time": "2020-04-30T14:52:37.169455Z"
    }
   },
   "outputs": [
    {
     "data": {
      "text/html": [
       "<div>\n",
       "<style scoped>\n",
       "    .dataframe tbody tr th:only-of-type {\n",
       "        vertical-align: middle;\n",
       "    }\n",
       "\n",
       "    .dataframe tbody tr th {\n",
       "        vertical-align: top;\n",
       "    }\n",
       "\n",
       "    .dataframe thead th {\n",
       "        text-align: right;\n",
       "    }\n",
       "</style>\n",
       "<table border=\"1\" class=\"dataframe\">\n",
       "  <thead>\n",
       "    <tr style=\"text-align: right;\">\n",
       "      <th></th>\n",
       "      <th>대여소 그룹</th>\n",
       "      <th>대여소 명</th>\n",
       "      <th>대여 일자 / 월</th>\n",
       "      <th>대여 건수</th>\n",
       "    </tr>\n",
       "  </thead>\n",
       "  <tbody>\n",
       "    <tr>\n",
       "      <td>0</td>\n",
       "      <td>강남구</td>\n",
       "      <td>2301. 현대고등학교 건너편</td>\n",
       "      <td>201906</td>\n",
       "      <td>3909</td>\n",
       "    </tr>\n",
       "    <tr>\n",
       "      <td>1</td>\n",
       "      <td>강남구</td>\n",
       "      <td>2302. 교보타워 버스정류장(신논현역 3번출구 후면)</td>\n",
       "      <td>201906</td>\n",
       "      <td>2432</td>\n",
       "    </tr>\n",
       "    <tr>\n",
       "      <td>2</td>\n",
       "      <td>강남구</td>\n",
       "      <td>2303. 논현역 7번출구</td>\n",
       "      <td>201906</td>\n",
       "      <td>1567</td>\n",
       "    </tr>\n",
       "  </tbody>\n",
       "</table>\n",
       "</div>"
      ],
      "text/plain": [
       "  대여소 그룹                           대여소 명  대여 일자 / 월  대여 건수\n",
       "0    강남구                2301. 현대고등학교 건너편     201906   3909\n",
       "1    강남구  2302. 교보타워 버스정류장(신논현역 3번출구 후면)     201906   2432\n",
       "2    강남구                  2303. 논현역 7번출구     201906   1567"
      ]
     },
     "execution_count": 4,
     "metadata": {},
     "output_type": "execute_result"
    }
   ],
   "source": [
    "df_rent1.head(3)"
   ]
  },
  {
   "cell_type": "code",
   "execution_count": 5,
   "metadata": {
    "ExecuteTime": {
     "end_time": "2020-04-30T14:52:37.234282Z",
     "start_time": "2020-04-30T14:52:37.214335Z"
    }
   },
   "outputs": [
    {
     "data": {
      "text/html": [
       "<div>\n",
       "<style scoped>\n",
       "    .dataframe tbody tr th:only-of-type {\n",
       "        vertical-align: middle;\n",
       "    }\n",
       "\n",
       "    .dataframe tbody tr th {\n",
       "        vertical-align: top;\n",
       "    }\n",
       "\n",
       "    .dataframe thead th {\n",
       "        text-align: right;\n",
       "    }\n",
       "</style>\n",
       "<table border=\"1\" class=\"dataframe\">\n",
       "  <thead>\n",
       "    <tr style=\"text-align: right;\">\n",
       "      <th></th>\n",
       "      <th>대여소 그룹</th>\n",
       "      <th>대여소 명</th>\n",
       "      <th>대여 일자 / 월</th>\n",
       "      <th>대여 건수</th>\n",
       "    </tr>\n",
       "  </thead>\n",
       "  <tbody>\n",
       "    <tr>\n",
       "      <td>9269</td>\n",
       "      <td>중랑구</td>\n",
       "      <td>1457. 동원사거리</td>\n",
       "      <td>201911</td>\n",
       "      <td>577</td>\n",
       "    </tr>\n",
       "    <tr>\n",
       "      <td>9270</td>\n",
       "      <td>중랑구</td>\n",
       "      <td>1458. 상봉터미널2</td>\n",
       "      <td>201911</td>\n",
       "      <td>1243</td>\n",
       "    </tr>\n",
       "    <tr>\n",
       "      <td>9271</td>\n",
       "      <td>중랑구</td>\n",
       "      <td>1459. 용마한신아파트사거리</td>\n",
       "      <td>201911</td>\n",
       "      <td>339</td>\n",
       "    </tr>\n",
       "  </tbody>\n",
       "</table>\n",
       "</div>"
      ],
      "text/plain": [
       "     대여소 그룹             대여소 명  대여 일자 / 월  대여 건수\n",
       "9269    중랑구       1457. 동원사거리     201911    577\n",
       "9270    중랑구      1458. 상봉터미널2     201911   1243\n",
       "9271    중랑구  1459. 용마한신아파트사거리     201911    339"
      ]
     },
     "execution_count": 5,
     "metadata": {},
     "output_type": "execute_result"
    }
   ],
   "source": [
    "df_rent1.tail(3)"
   ]
  },
  {
   "cell_type": "code",
   "execution_count": 6,
   "metadata": {
    "ExecuteTime": {
     "end_time": "2020-04-30T14:52:37.262207Z",
     "start_time": "2020-04-30T14:52:37.240266Z"
    }
   },
   "outputs": [
    {
     "data": {
      "text/html": [
       "<div>\n",
       "<style scoped>\n",
       "    .dataframe tbody tr th:only-of-type {\n",
       "        vertical-align: middle;\n",
       "    }\n",
       "\n",
       "    .dataframe tbody tr th {\n",
       "        vertical-align: top;\n",
       "    }\n",
       "\n",
       "    .dataframe thead th {\n",
       "        text-align: right;\n",
       "    }\n",
       "</style>\n",
       "<table border=\"1\" class=\"dataframe\">\n",
       "  <thead>\n",
       "    <tr style=\"text-align: right;\">\n",
       "      <th></th>\n",
       "      <th>구분</th>\n",
       "      <th>대여소명</th>\n",
       "      <th>대여일자</th>\n",
       "      <th>대여건수</th>\n",
       "    </tr>\n",
       "  </thead>\n",
       "  <tbody>\n",
       "    <tr>\n",
       "      <td>0</td>\n",
       "      <td>강남구</td>\n",
       "      <td>2301. 현대고등학교 건너편</td>\n",
       "      <td>201812.0</td>\n",
       "      <td>364.0</td>\n",
       "    </tr>\n",
       "    <tr>\n",
       "      <td>1</td>\n",
       "      <td>강남구</td>\n",
       "      <td>2302. 교보타워 버스정류장(신논현역 3번출구 후면)</td>\n",
       "      <td>201812.0</td>\n",
       "      <td>500.0</td>\n",
       "    </tr>\n",
       "    <tr>\n",
       "      <td>2</td>\n",
       "      <td>강남구</td>\n",
       "      <td>2303. 논현역 7번출구</td>\n",
       "      <td>201812.0</td>\n",
       "      <td>286.0</td>\n",
       "    </tr>\n",
       "  </tbody>\n",
       "</table>\n",
       "</div>"
      ],
      "text/plain": [
       "    구분                            대여소명      대여일자   대여건수\n",
       "0  강남구                2301. 현대고등학교 건너편  201812.0  364.0\n",
       "1  강남구  2302. 교보타워 버스정류장(신논현역 3번출구 후면)  201812.0  500.0\n",
       "2  강남구                  2303. 논현역 7번출구  201812.0  286.0"
      ]
     },
     "execution_count": 6,
     "metadata": {},
     "output_type": "execute_result"
    }
   ],
   "source": [
    "df_rent2.head(3)"
   ]
  },
  {
   "cell_type": "code",
   "execution_count": 7,
   "metadata": {
    "ExecuteTime": {
     "end_time": "2020-04-30T14:52:37.298111Z",
     "start_time": "2020-04-30T14:52:37.270184Z"
    }
   },
   "outputs": [
    {
     "data": {
      "text/html": [
       "<div>\n",
       "<style scoped>\n",
       "    .dataframe tbody tr th:only-of-type {\n",
       "        vertical-align: middle;\n",
       "    }\n",
       "\n",
       "    .dataframe tbody tr th {\n",
       "        vertical-align: top;\n",
       "    }\n",
       "\n",
       "    .dataframe thead th {\n",
       "        text-align: right;\n",
       "    }\n",
       "</style>\n",
       "<table border=\"1\" class=\"dataframe\">\n",
       "  <thead>\n",
       "    <tr style=\"text-align: right;\">\n",
       "      <th></th>\n",
       "      <th>구분</th>\n",
       "      <th>대여소명</th>\n",
       "      <th>대여일자</th>\n",
       "      <th>대여건수</th>\n",
       "    </tr>\n",
       "  </thead>\n",
       "  <tbody>\n",
       "    <tr>\n",
       "      <td>9186</td>\n",
       "      <td>중랑구</td>\n",
       "      <td>1457. 동원사거리</td>\n",
       "      <td>201905.0</td>\n",
       "      <td>827.0</td>\n",
       "    </tr>\n",
       "    <tr>\n",
       "      <td>9187</td>\n",
       "      <td>중랑구</td>\n",
       "      <td>1458. 상봉터미널2</td>\n",
       "      <td>201905.0</td>\n",
       "      <td>1421.0</td>\n",
       "    </tr>\n",
       "    <tr>\n",
       "      <td>9188</td>\n",
       "      <td>중랑구</td>\n",
       "      <td>1459. 용마한신아파트사거리</td>\n",
       "      <td>201905.0</td>\n",
       "      <td>447.0</td>\n",
       "    </tr>\n",
       "  </tbody>\n",
       "</table>\n",
       "</div>"
      ],
      "text/plain": [
       "       구분              대여소명      대여일자    대여건수\n",
       "9186  중랑구       1457. 동원사거리  201905.0   827.0\n",
       "9187  중랑구      1458. 상봉터미널2  201905.0  1421.0\n",
       "9188  중랑구  1459. 용마한신아파트사거리  201905.0   447.0"
      ]
     },
     "execution_count": 7,
     "metadata": {},
     "output_type": "execute_result"
    }
   ],
   "source": [
    "df_rent2.tail(3)"
   ]
  },
  {
   "cell_type": "code",
   "execution_count": 8,
   "metadata": {
    "ExecuteTime": {
     "end_time": "2020-04-30T14:52:37.329026Z",
     "start_time": "2020-04-30T14:52:37.303098Z"
    }
   },
   "outputs": [
    {
     "data": {
      "text/html": [
       "<div>\n",
       "<style scoped>\n",
       "    .dataframe tbody tr th:only-of-type {\n",
       "        vertical-align: middle;\n",
       "    }\n",
       "\n",
       "    .dataframe tbody tr th {\n",
       "        vertical-align: top;\n",
       "    }\n",
       "\n",
       "    .dataframe thead th {\n",
       "        text-align: right;\n",
       "    }\n",
       "</style>\n",
       "<table border=\"1\" class=\"dataframe\">\n",
       "  <thead>\n",
       "    <tr style=\"text-align: right;\">\n",
       "      <th></th>\n",
       "      <th>대여소 그룹</th>\n",
       "      <th>대여소 명</th>\n",
       "      <th>반납 일자 / 월</th>\n",
       "      <th>반납 건수</th>\n",
       "    </tr>\n",
       "  </thead>\n",
       "  <tbody>\n",
       "    <tr>\n",
       "      <td>0</td>\n",
       "      <td>강남구</td>\n",
       "      <td>2301. 현대고등학교 건너편</td>\n",
       "      <td>201906</td>\n",
       "      <td>4072</td>\n",
       "    </tr>\n",
       "    <tr>\n",
       "      <td>1</td>\n",
       "      <td>강남구</td>\n",
       "      <td>2302. 교보타워 버스정류장(신논현역 3번출구 후면)</td>\n",
       "      <td>201906</td>\n",
       "      <td>2382</td>\n",
       "    </tr>\n",
       "    <tr>\n",
       "      <td>2</td>\n",
       "      <td>강남구</td>\n",
       "      <td>2303. 논현역 7번출구</td>\n",
       "      <td>201906</td>\n",
       "      <td>1402</td>\n",
       "    </tr>\n",
       "  </tbody>\n",
       "</table>\n",
       "</div>"
      ],
      "text/plain": [
       "  대여소 그룹                           대여소 명  반납 일자 / 월  반납 건수\n",
       "0    강남구                2301. 현대고등학교 건너편     201906   4072\n",
       "1    강남구  2302. 교보타워 버스정류장(신논현역 3번출구 후면)     201906   2382\n",
       "2    강남구                  2303. 논현역 7번출구     201906   1402"
      ]
     },
     "execution_count": 8,
     "metadata": {},
     "output_type": "execute_result"
    }
   ],
   "source": [
    "df_return1.head(3)"
   ]
  },
  {
   "cell_type": "code",
   "execution_count": 9,
   "metadata": {
    "ExecuteTime": {
     "end_time": "2020-04-30T14:52:37.354958Z",
     "start_time": "2020-04-30T14:52:37.334014Z"
    }
   },
   "outputs": [
    {
     "data": {
      "text/html": [
       "<div>\n",
       "<style scoped>\n",
       "    .dataframe tbody tr th:only-of-type {\n",
       "        vertical-align: middle;\n",
       "    }\n",
       "\n",
       "    .dataframe tbody tr th {\n",
       "        vertical-align: top;\n",
       "    }\n",
       "\n",
       "    .dataframe thead th {\n",
       "        text-align: right;\n",
       "    }\n",
       "</style>\n",
       "<table border=\"1\" class=\"dataframe\">\n",
       "  <thead>\n",
       "    <tr style=\"text-align: right;\">\n",
       "      <th></th>\n",
       "      <th>대여소 그룹</th>\n",
       "      <th>대여소 명</th>\n",
       "      <th>반납 일자 / 월</th>\n",
       "      <th>반납 건수</th>\n",
       "    </tr>\n",
       "  </thead>\n",
       "  <tbody>\n",
       "    <tr>\n",
       "      <td>9270</td>\n",
       "      <td>중랑구</td>\n",
       "      <td>1457. 동원사거리</td>\n",
       "      <td>201911</td>\n",
       "      <td>572</td>\n",
       "    </tr>\n",
       "    <tr>\n",
       "      <td>9271</td>\n",
       "      <td>중랑구</td>\n",
       "      <td>1458. 상봉터미널2</td>\n",
       "      <td>201911</td>\n",
       "      <td>1305</td>\n",
       "    </tr>\n",
       "    <tr>\n",
       "      <td>9272</td>\n",
       "      <td>중랑구</td>\n",
       "      <td>1459. 용마한신아파트사거리</td>\n",
       "      <td>201911</td>\n",
       "      <td>316</td>\n",
       "    </tr>\n",
       "  </tbody>\n",
       "</table>\n",
       "</div>"
      ],
      "text/plain": [
       "     대여소 그룹             대여소 명  반납 일자 / 월  반납 건수\n",
       "9270    중랑구       1457. 동원사거리     201911    572\n",
       "9271    중랑구      1458. 상봉터미널2     201911   1305\n",
       "9272    중랑구  1459. 용마한신아파트사거리     201911    316"
      ]
     },
     "execution_count": 9,
     "metadata": {},
     "output_type": "execute_result"
    }
   ],
   "source": [
    "df_return1.tail(3)"
   ]
  },
  {
   "cell_type": "code",
   "execution_count": 10,
   "metadata": {
    "ExecuteTime": {
     "end_time": "2020-04-30T14:52:37.380888Z",
     "start_time": "2020-04-30T14:52:37.358946Z"
    }
   },
   "outputs": [
    {
     "data": {
      "text/html": [
       "<div>\n",
       "<style scoped>\n",
       "    .dataframe tbody tr th:only-of-type {\n",
       "        vertical-align: middle;\n",
       "    }\n",
       "\n",
       "    .dataframe tbody tr th {\n",
       "        vertical-align: top;\n",
       "    }\n",
       "\n",
       "    .dataframe thead th {\n",
       "        text-align: right;\n",
       "    }\n",
       "</style>\n",
       "<table border=\"1\" class=\"dataframe\">\n",
       "  <thead>\n",
       "    <tr style=\"text-align: right;\">\n",
       "      <th></th>\n",
       "      <th>구분</th>\n",
       "      <th>대여소명</th>\n",
       "      <th>반납일자</th>\n",
       "      <th>반납건수</th>\n",
       "    </tr>\n",
       "  </thead>\n",
       "  <tbody>\n",
       "    <tr>\n",
       "      <td>0</td>\n",
       "      <td>강남구</td>\n",
       "      <td>2301. 현대고등학교 건너편</td>\n",
       "      <td>201812.0</td>\n",
       "      <td>437.0</td>\n",
       "    </tr>\n",
       "    <tr>\n",
       "      <td>1</td>\n",
       "      <td>강남구</td>\n",
       "      <td>2302. 교보타워 버스정류장(신논현역 3번출구 후면)</td>\n",
       "      <td>201812.0</td>\n",
       "      <td>556.0</td>\n",
       "    </tr>\n",
       "    <tr>\n",
       "      <td>2</td>\n",
       "      <td>강남구</td>\n",
       "      <td>2303. 논현역 7번출구</td>\n",
       "      <td>201812.0</td>\n",
       "      <td>273.0</td>\n",
       "    </tr>\n",
       "  </tbody>\n",
       "</table>\n",
       "</div>"
      ],
      "text/plain": [
       "    구분                            대여소명      반납일자   반납건수\n",
       "0  강남구                2301. 현대고등학교 건너편  201812.0  437.0\n",
       "1  강남구  2302. 교보타워 버스정류장(신논현역 3번출구 후면)  201812.0  556.0\n",
       "2  강남구                  2303. 논현역 7번출구  201812.0  273.0"
      ]
     },
     "execution_count": 10,
     "metadata": {},
     "output_type": "execute_result"
    }
   ],
   "source": [
    "df_return2.head(3)"
   ]
  },
  {
   "cell_type": "code",
   "execution_count": 11,
   "metadata": {
    "ExecuteTime": {
     "end_time": "2020-04-30T14:52:37.398841Z",
     "start_time": "2020-04-30T14:52:37.383881Z"
    }
   },
   "outputs": [
    {
     "data": {
      "text/html": [
       "<div>\n",
       "<style scoped>\n",
       "    .dataframe tbody tr th:only-of-type {\n",
       "        vertical-align: middle;\n",
       "    }\n",
       "\n",
       "    .dataframe tbody tr th {\n",
       "        vertical-align: top;\n",
       "    }\n",
       "\n",
       "    .dataframe thead th {\n",
       "        text-align: right;\n",
       "    }\n",
       "</style>\n",
       "<table border=\"1\" class=\"dataframe\">\n",
       "  <thead>\n",
       "    <tr style=\"text-align: right;\">\n",
       "      <th></th>\n",
       "      <th>구분</th>\n",
       "      <th>대여소명</th>\n",
       "      <th>반납일자</th>\n",
       "      <th>반납건수</th>\n",
       "    </tr>\n",
       "  </thead>\n",
       "  <tbody>\n",
       "    <tr>\n",
       "      <td>9186</td>\n",
       "      <td>중랑구</td>\n",
       "      <td>1457. 동원사거리</td>\n",
       "      <td>201905.0</td>\n",
       "      <td>749.0</td>\n",
       "    </tr>\n",
       "    <tr>\n",
       "      <td>9187</td>\n",
       "      <td>중랑구</td>\n",
       "      <td>1458. 상봉터미널2</td>\n",
       "      <td>201905.0</td>\n",
       "      <td>1492.0</td>\n",
       "    </tr>\n",
       "    <tr>\n",
       "      <td>9188</td>\n",
       "      <td>중랑구</td>\n",
       "      <td>1459. 용마한신아파트사거리</td>\n",
       "      <td>201905.0</td>\n",
       "      <td>320.0</td>\n",
       "    </tr>\n",
       "  </tbody>\n",
       "</table>\n",
       "</div>"
      ],
      "text/plain": [
       "       구분              대여소명      반납일자    반납건수\n",
       "9186  중랑구       1457. 동원사거리  201905.0   749.0\n",
       "9187  중랑구      1458. 상봉터미널2  201905.0  1492.0\n",
       "9188  중랑구  1459. 용마한신아파트사거리  201905.0   320.0"
      ]
     },
     "execution_count": 11,
     "metadata": {},
     "output_type": "execute_result"
    }
   ],
   "source": [
    "df_return2.tail(3)"
   ]
  },
  {
   "cell_type": "code",
   "execution_count": 12,
   "metadata": {
    "ExecuteTime": {
     "end_time": "2020-04-30T14:52:37.428760Z",
     "start_time": "2020-04-30T14:52:37.401833Z"
    }
   },
   "outputs": [
    {
     "data": {
      "text/html": [
       "<div>\n",
       "<style scoped>\n",
       "    .dataframe tbody tr th:only-of-type {\n",
       "        vertical-align: middle;\n",
       "    }\n",
       "\n",
       "    .dataframe tbody tr th {\n",
       "        vertical-align: top;\n",
       "    }\n",
       "\n",
       "    .dataframe thead th {\n",
       "        text-align: right;\n",
       "    }\n",
       "</style>\n",
       "<table border=\"1\" class=\"dataframe\">\n",
       "  <thead>\n",
       "    <tr style=\"text-align: right;\">\n",
       "      <th></th>\n",
       "      <th>대여소_구</th>\n",
       "      <th>대여소ID</th>\n",
       "      <th>대여소명</th>\n",
       "      <th>대여소주소</th>\n",
       "      <th>위도</th>\n",
       "      <th>경도</th>\n",
       "      <th>기준시작일자</th>\n",
       "      <th>거치대수</th>\n",
       "    </tr>\n",
       "  </thead>\n",
       "  <tbody>\n",
       "    <tr>\n",
       "      <td>0</td>\n",
       "      <td>마포구</td>\n",
       "      <td>101.0</td>\n",
       "      <td>101. (구)합정동 주민센터</td>\n",
       "      <td>서울특별시 마포구 동교로8길 58</td>\n",
       "      <td>37.549561</td>\n",
       "      <td>126.905754</td>\n",
       "      <td>2015-09-06 23:40:56</td>\n",
       "      <td>5</td>\n",
       "    </tr>\n",
       "    <tr>\n",
       "      <td>1</td>\n",
       "      <td>마포구</td>\n",
       "      <td>102.0</td>\n",
       "      <td>102. 망원역 1번출구 앞</td>\n",
       "      <td>서울특별시 마포구 월드컵로 72</td>\n",
       "      <td>37.555649</td>\n",
       "      <td>126.910629</td>\n",
       "      <td>2015-09-06 23:42:06</td>\n",
       "      <td>20</td>\n",
       "    </tr>\n",
       "    <tr>\n",
       "      <td>2</td>\n",
       "      <td>마포구</td>\n",
       "      <td>103.0</td>\n",
       "      <td>103. 망원역 2번출구 앞</td>\n",
       "      <td>서울특별시 마포구 월드컵로 79</td>\n",
       "      <td>37.554951</td>\n",
       "      <td>126.910835</td>\n",
       "      <td>2015-09-06 23:43:13</td>\n",
       "      <td>14</td>\n",
       "    </tr>\n",
       "  </tbody>\n",
       "</table>\n",
       "</div>"
      ],
      "text/plain": [
       "  대여소_구  대여소ID              대여소명               대여소주소         위도          경도  \\\n",
       "0   마포구  101.0  101. (구)합정동 주민센터  서울특별시 마포구 동교로8길 58  37.549561  126.905754   \n",
       "1   마포구  102.0   102. 망원역 1번출구 앞   서울특별시 마포구 월드컵로 72  37.555649  126.910629   \n",
       "2   마포구  103.0   103. 망원역 2번출구 앞   서울특별시 마포구 월드컵로 79  37.554951  126.910835   \n",
       "\n",
       "                기준시작일자  거치대수  \n",
       "0  2015-09-06 23:40:56     5  \n",
       "1  2015-09-06 23:42:06    20  \n",
       "2  2015-09-06 23:43:13    14  "
      ]
     },
     "execution_count": 12,
     "metadata": {},
     "output_type": "execute_result"
    }
   ],
   "source": [
    "df_station.head(3)"
   ]
  },
  {
   "cell_type": "code",
   "execution_count": 13,
   "metadata": {
    "ExecuteTime": {
     "end_time": "2020-04-30T14:52:37.451699Z",
     "start_time": "2020-04-30T14:52:37.431753Z"
    }
   },
   "outputs": [
    {
     "data": {
      "text/html": [
       "<div>\n",
       "<style scoped>\n",
       "    .dataframe tbody tr th:only-of-type {\n",
       "        vertical-align: middle;\n",
       "    }\n",
       "\n",
       "    .dataframe tbody tr th {\n",
       "        vertical-align: top;\n",
       "    }\n",
       "\n",
       "    .dataframe thead th {\n",
       "        text-align: right;\n",
       "    }\n",
       "</style>\n",
       "<table border=\"1\" class=\"dataframe\">\n",
       "  <thead>\n",
       "    <tr style=\"text-align: right;\">\n",
       "      <th></th>\n",
       "      <th>대여소_구</th>\n",
       "      <th>대여소ID</th>\n",
       "      <th>대여소명</th>\n",
       "      <th>대여소주소</th>\n",
       "      <th>위도</th>\n",
       "      <th>경도</th>\n",
       "      <th>기준시작일자</th>\n",
       "      <th>거치대수</th>\n",
       "    </tr>\n",
       "  </thead>\n",
       "  <tbody>\n",
       "    <tr>\n",
       "      <td>1538</td>\n",
       "      <td>종로구</td>\n",
       "      <td>465.0</td>\n",
       "      <td>465. 삼청공원 앞</td>\n",
       "      <td>서울특별시 종로구 삼청동 25-32</td>\n",
       "      <td>37.587605</td>\n",
       "      <td>126.983597</td>\n",
       "      <td>2019.11.20</td>\n",
       "      <td>5</td>\n",
       "    </tr>\n",
       "    <tr>\n",
       "      <td>1539</td>\n",
       "      <td>종로구</td>\n",
       "      <td>664.0</td>\n",
       "      <td>서울시립대 대학본부</td>\n",
       "      <td>동대문구 서울시립대로 163 서울시립대학교</td>\n",
       "      <td>37.584129</td>\n",
       "      <td>127.057938</td>\n",
       "      <td>2019.11.20</td>\n",
       "      <td>10</td>\n",
       "    </tr>\n",
       "    <tr>\n",
       "      <td>1540</td>\n",
       "      <td>합계</td>\n",
       "      <td>NaN</td>\n",
       "      <td>1540</td>\n",
       "      <td>NaN</td>\n",
       "      <td>NaN</td>\n",
       "      <td>NaN</td>\n",
       "      <td>NaN</td>\n",
       "      <td>19545</td>\n",
       "    </tr>\n",
       "  </tbody>\n",
       "</table>\n",
       "</div>"
      ],
      "text/plain": [
       "     대여소_구  대여소ID         대여소명                    대여소주소         위도  \\\n",
       "1538   종로구  465.0  465. 삼청공원 앞      서울특별시 종로구 삼청동 25-32  37.587605   \n",
       "1539   종로구  664.0   서울시립대 대학본부  동대문구 서울시립대로 163 서울시립대학교  37.584129   \n",
       "1540    합계    NaN         1540                      NaN        NaN   \n",
       "\n",
       "              경도      기준시작일자   거치대수  \n",
       "1538  126.983597  2019.11.20      5  \n",
       "1539  127.057938  2019.11.20     10  \n",
       "1540         NaN         NaN  19545  "
      ]
     },
     "execution_count": 13,
     "metadata": {},
     "output_type": "execute_result"
    }
   ],
   "source": [
    "df_station.tail(3)"
   ]
  },
  {
   "cell_type": "markdown",
   "metadata": {},
   "source": [
    "* station 마지막 레코드인 합계를 지워주자."
   ]
  },
  {
   "cell_type": "code",
   "execution_count": 14,
   "metadata": {
    "ExecuteTime": {
     "end_time": "2020-04-30T14:52:37.464665Z",
     "start_time": "2020-04-30T14:52:37.455689Z"
    }
   },
   "outputs": [],
   "source": [
    "df_station.drop(1540, axis=0, inplace=True)"
   ]
  },
  {
   "cell_type": "markdown",
   "metadata": {},
   "source": [
    "## 2. 데이터 전처리"
   ]
  },
  {
   "cell_type": "markdown",
   "metadata": {},
   "source": [
    "* 서로 컬럼명이 다름, 병합을 위해 컬럼명을 맞춰줘야함\n",
    "* 코딩 편의를 위해 컬럼명 영어로 통일하기!\n",
    "    * 한글명은 한영키를 한 번 더 눌러줘야해서 오타 확률이 더 높은듯"
   ]
  },
  {
   "cell_type": "code",
   "execution_count": 15,
   "metadata": {
    "ExecuteTime": {
     "end_time": "2020-04-30T14:52:37.477629Z",
     "start_time": "2020-04-30T14:52:37.468653Z"
    }
   },
   "outputs": [
    {
     "name": "stdout",
     "output_type": "stream",
     "text": [
      "(9272, 4) \n",
      " (9189, 4)\n"
     ]
    }
   ],
   "source": [
    "# 데이터 형태 출력\n",
    "print(df_rent1.shape,'\\n',df_rent2.shape)"
   ]
  },
  {
   "cell_type": "code",
   "execution_count": 16,
   "metadata": {
    "ExecuteTime": {
     "end_time": "2020-04-30T14:52:37.504559Z",
     "start_time": "2020-04-30T14:52:37.480622Z"
    }
   },
   "outputs": [
    {
     "name": "stdout",
     "output_type": "stream",
     "text": [
      "(18461, 4)\n"
     ]
    },
    {
     "data": {
      "text/html": [
       "<div>\n",
       "<style scoped>\n",
       "    .dataframe tbody tr th:only-of-type {\n",
       "        vertical-align: middle;\n",
       "    }\n",
       "\n",
       "    .dataframe tbody tr th {\n",
       "        vertical-align: top;\n",
       "    }\n",
       "\n",
       "    .dataframe thead th {\n",
       "        text-align: right;\n",
       "    }\n",
       "</style>\n",
       "<table border=\"1\" class=\"dataframe\">\n",
       "  <thead>\n",
       "    <tr style=\"text-align: right;\">\n",
       "      <th></th>\n",
       "      <th>district</th>\n",
       "      <th>station</th>\n",
       "      <th>date</th>\n",
       "      <th>count</th>\n",
       "    </tr>\n",
       "  </thead>\n",
       "  <tbody>\n",
       "    <tr>\n",
       "      <td>0</td>\n",
       "      <td>강남구</td>\n",
       "      <td>2301. 현대고등학교 건너편</td>\n",
       "      <td>201906.0</td>\n",
       "      <td>3909.0</td>\n",
       "    </tr>\n",
       "    <tr>\n",
       "      <td>1</td>\n",
       "      <td>강남구</td>\n",
       "      <td>2302. 교보타워 버스정류장(신논현역 3번출구 후면)</td>\n",
       "      <td>201906.0</td>\n",
       "      <td>2432.0</td>\n",
       "    </tr>\n",
       "    <tr>\n",
       "      <td>2</td>\n",
       "      <td>강남구</td>\n",
       "      <td>2303. 논현역 7번출구</td>\n",
       "      <td>201906.0</td>\n",
       "      <td>1567.0</td>\n",
       "    </tr>\n",
       "    <tr>\n",
       "      <td>3</td>\n",
       "      <td>강남구</td>\n",
       "      <td>2304. 신영 ROYAL PALACE 앞</td>\n",
       "      <td>201906.0</td>\n",
       "      <td>559.0</td>\n",
       "    </tr>\n",
       "    <tr>\n",
       "      <td>4</td>\n",
       "      <td>강남구</td>\n",
       "      <td>2305. MCM 본사 직영점 앞</td>\n",
       "      <td>201906.0</td>\n",
       "      <td>730.0</td>\n",
       "    </tr>\n",
       "  </tbody>\n",
       "</table>\n",
       "</div>"
      ],
      "text/plain": [
       "  district                         station      date   count\n",
       "0      강남구                2301. 현대고등학교 건너편  201906.0  3909.0\n",
       "1      강남구  2302. 교보타워 버스정류장(신논현역 3번출구 후면)  201906.0  2432.0\n",
       "2      강남구                  2303. 논현역 7번출구  201906.0  1567.0\n",
       "3      강남구         2304. 신영 ROYAL PALACE 앞  201906.0   559.0\n",
       "4      강남구              2305. MCM 본사 직영점 앞  201906.0   730.0"
      ]
     },
     "execution_count": 16,
     "metadata": {},
     "output_type": "execute_result"
    }
   ],
   "source": [
    "# 컬럼명 변경, 데이터 합치기\n",
    "df_rent1.columns=['district','station','date','count']\n",
    "df_rent2.columns=['district','station','date','count']\n",
    "df_rent = pd.concat([df_rent1, df_rent2])\n",
    "print(df_rent.shape)\n",
    "df_rent.head()"
   ]
  },
  {
   "cell_type": "markdown",
   "metadata": {},
   "source": [
    "* 이번엔 반납 데이터를 확인해보자!"
   ]
  },
  {
   "cell_type": "code",
   "execution_count": 17,
   "metadata": {
    "ExecuteTime": {
     "end_time": "2020-04-30T14:52:37.525501Z",
     "start_time": "2020-04-30T14:52:37.507551Z"
    }
   },
   "outputs": [
    {
     "data": {
      "text/html": [
       "<div>\n",
       "<style scoped>\n",
       "    .dataframe tbody tr th:only-of-type {\n",
       "        vertical-align: middle;\n",
       "    }\n",
       "\n",
       "    .dataframe tbody tr th {\n",
       "        vertical-align: top;\n",
       "    }\n",
       "\n",
       "    .dataframe thead th {\n",
       "        text-align: right;\n",
       "    }\n",
       "</style>\n",
       "<table border=\"1\" class=\"dataframe\">\n",
       "  <thead>\n",
       "    <tr style=\"text-align: right;\">\n",
       "      <th></th>\n",
       "      <th>대여소 그룹</th>\n",
       "      <th>대여소 명</th>\n",
       "      <th>반납 일자 / 월</th>\n",
       "      <th>반납 건수</th>\n",
       "    </tr>\n",
       "  </thead>\n",
       "  <tbody>\n",
       "    <tr>\n",
       "      <td>0</td>\n",
       "      <td>강남구</td>\n",
       "      <td>2301. 현대고등학교 건너편</td>\n",
       "      <td>201906</td>\n",
       "      <td>4072</td>\n",
       "    </tr>\n",
       "    <tr>\n",
       "      <td>1</td>\n",
       "      <td>강남구</td>\n",
       "      <td>2302. 교보타워 버스정류장(신논현역 3번출구 후면)</td>\n",
       "      <td>201906</td>\n",
       "      <td>2382</td>\n",
       "    </tr>\n",
       "    <tr>\n",
       "      <td>2</td>\n",
       "      <td>강남구</td>\n",
       "      <td>2303. 논현역 7번출구</td>\n",
       "      <td>201906</td>\n",
       "      <td>1402</td>\n",
       "    </tr>\n",
       "    <tr>\n",
       "      <td>3</td>\n",
       "      <td>강남구</td>\n",
       "      <td>2304. 신영 ROYAL PALACE 앞</td>\n",
       "      <td>201906</td>\n",
       "      <td>207</td>\n",
       "    </tr>\n",
       "    <tr>\n",
       "      <td>4</td>\n",
       "      <td>강남구</td>\n",
       "      <td>2305. MCM 본사 직영점 앞</td>\n",
       "      <td>201906</td>\n",
       "      <td>905</td>\n",
       "    </tr>\n",
       "  </tbody>\n",
       "</table>\n",
       "</div>"
      ],
      "text/plain": [
       "  대여소 그룹                           대여소 명  반납 일자 / 월  반납 건수\n",
       "0    강남구                2301. 현대고등학교 건너편     201906   4072\n",
       "1    강남구  2302. 교보타워 버스정류장(신논현역 3번출구 후면)     201906   2382\n",
       "2    강남구                  2303. 논현역 7번출구     201906   1402\n",
       "3    강남구         2304. 신영 ROYAL PALACE 앞     201906    207\n",
       "4    강남구              2305. MCM 본사 직영점 앞     201906    905"
      ]
     },
     "execution_count": 17,
     "metadata": {},
     "output_type": "execute_result"
    }
   ],
   "source": [
    "df_return1.head()"
   ]
  },
  {
   "cell_type": "code",
   "execution_count": 18,
   "metadata": {
    "ExecuteTime": {
     "end_time": "2020-04-30T14:52:37.546447Z",
     "start_time": "2020-04-30T14:52:37.528495Z"
    }
   },
   "outputs": [
    {
     "data": {
      "text/html": [
       "<div>\n",
       "<style scoped>\n",
       "    .dataframe tbody tr th:only-of-type {\n",
       "        vertical-align: middle;\n",
       "    }\n",
       "\n",
       "    .dataframe tbody tr th {\n",
       "        vertical-align: top;\n",
       "    }\n",
       "\n",
       "    .dataframe thead th {\n",
       "        text-align: right;\n",
       "    }\n",
       "</style>\n",
       "<table border=\"1\" class=\"dataframe\">\n",
       "  <thead>\n",
       "    <tr style=\"text-align: right;\">\n",
       "      <th></th>\n",
       "      <th>구분</th>\n",
       "      <th>대여소명</th>\n",
       "      <th>반납일자</th>\n",
       "      <th>반납건수</th>\n",
       "    </tr>\n",
       "  </thead>\n",
       "  <tbody>\n",
       "    <tr>\n",
       "      <td>0</td>\n",
       "      <td>강남구</td>\n",
       "      <td>2301. 현대고등학교 건너편</td>\n",
       "      <td>201812.0</td>\n",
       "      <td>437.0</td>\n",
       "    </tr>\n",
       "    <tr>\n",
       "      <td>1</td>\n",
       "      <td>강남구</td>\n",
       "      <td>2302. 교보타워 버스정류장(신논현역 3번출구 후면)</td>\n",
       "      <td>201812.0</td>\n",
       "      <td>556.0</td>\n",
       "    </tr>\n",
       "    <tr>\n",
       "      <td>2</td>\n",
       "      <td>강남구</td>\n",
       "      <td>2303. 논현역 7번출구</td>\n",
       "      <td>201812.0</td>\n",
       "      <td>273.0</td>\n",
       "    </tr>\n",
       "    <tr>\n",
       "      <td>3</td>\n",
       "      <td>강남구</td>\n",
       "      <td>2304. 신영 ROYAL PALACE 앞</td>\n",
       "      <td>201812.0</td>\n",
       "      <td>62.0</td>\n",
       "    </tr>\n",
       "    <tr>\n",
       "      <td>4</td>\n",
       "      <td>강남구</td>\n",
       "      <td>2305. MCM 본사 직영점 앞</td>\n",
       "      <td>201812.0</td>\n",
       "      <td>218.0</td>\n",
       "    </tr>\n",
       "  </tbody>\n",
       "</table>\n",
       "</div>"
      ],
      "text/plain": [
       "    구분                            대여소명      반납일자   반납건수\n",
       "0  강남구                2301. 현대고등학교 건너편  201812.0  437.0\n",
       "1  강남구  2302. 교보타워 버스정류장(신논현역 3번출구 후면)  201812.0  556.0\n",
       "2  강남구                  2303. 논현역 7번출구  201812.0  273.0\n",
       "3  강남구         2304. 신영 ROYAL PALACE 앞  201812.0   62.0\n",
       "4  강남구              2305. MCM 본사 직영점 앞  201812.0  218.0"
      ]
     },
     "execution_count": 18,
     "metadata": {},
     "output_type": "execute_result"
    }
   ],
   "source": [
    "df_return2.head()"
   ]
  },
  {
   "cell_type": "code",
   "execution_count": 19,
   "metadata": {
    "ExecuteTime": {
     "end_time": "2020-04-30T14:52:37.561405Z",
     "start_time": "2020-04-30T14:52:37.549436Z"
    }
   },
   "outputs": [],
   "source": [
    "# 컬럼명 통일, 데이터 합치기\n",
    "df_return1.columns = ['district', 'station', 'date', 'count']\n",
    "df_return2.columns = ['district', 'station', 'date', 'count']\n",
    "\n",
    "df_return = pd.concat([df_return1, df_return2])"
   ]
  },
  {
   "cell_type": "code",
   "execution_count": 20,
   "metadata": {
    "ExecuteTime": {
     "end_time": "2020-04-30T14:52:37.587336Z",
     "start_time": "2020-04-30T14:52:37.564399Z"
    }
   },
   "outputs": [
    {
     "name": "stdout",
     "output_type": "stream",
     "text": [
      "(9273, 4) (9189, 4)\n",
      "총 레코드 수: 18462\n",
      "(18462, 4)\n"
     ]
    },
    {
     "data": {
      "text/html": [
       "<div>\n",
       "<style scoped>\n",
       "    .dataframe tbody tr th:only-of-type {\n",
       "        vertical-align: middle;\n",
       "    }\n",
       "\n",
       "    .dataframe tbody tr th {\n",
       "        vertical-align: top;\n",
       "    }\n",
       "\n",
       "    .dataframe thead th {\n",
       "        text-align: right;\n",
       "    }\n",
       "</style>\n",
       "<table border=\"1\" class=\"dataframe\">\n",
       "  <thead>\n",
       "    <tr style=\"text-align: right;\">\n",
       "      <th></th>\n",
       "      <th>district</th>\n",
       "      <th>station</th>\n",
       "      <th>date</th>\n",
       "      <th>count</th>\n",
       "    </tr>\n",
       "  </thead>\n",
       "  <tbody>\n",
       "    <tr>\n",
       "      <td>0</td>\n",
       "      <td>강남구</td>\n",
       "      <td>2301. 현대고등학교 건너편</td>\n",
       "      <td>201906.0</td>\n",
       "      <td>4072.0</td>\n",
       "    </tr>\n",
       "    <tr>\n",
       "      <td>1</td>\n",
       "      <td>강남구</td>\n",
       "      <td>2302. 교보타워 버스정류장(신논현역 3번출구 후면)</td>\n",
       "      <td>201906.0</td>\n",
       "      <td>2382.0</td>\n",
       "    </tr>\n",
       "    <tr>\n",
       "      <td>2</td>\n",
       "      <td>강남구</td>\n",
       "      <td>2303. 논현역 7번출구</td>\n",
       "      <td>201906.0</td>\n",
       "      <td>1402.0</td>\n",
       "    </tr>\n",
       "    <tr>\n",
       "      <td>3</td>\n",
       "      <td>강남구</td>\n",
       "      <td>2304. 신영 ROYAL PALACE 앞</td>\n",
       "      <td>201906.0</td>\n",
       "      <td>207.0</td>\n",
       "    </tr>\n",
       "    <tr>\n",
       "      <td>4</td>\n",
       "      <td>강남구</td>\n",
       "      <td>2305. MCM 본사 직영점 앞</td>\n",
       "      <td>201906.0</td>\n",
       "      <td>905.0</td>\n",
       "    </tr>\n",
       "    <tr>\n",
       "      <td>...</td>\n",
       "      <td>...</td>\n",
       "      <td>...</td>\n",
       "      <td>...</td>\n",
       "      <td>...</td>\n",
       "    </tr>\n",
       "    <tr>\n",
       "      <td>9184</td>\n",
       "      <td>중랑구</td>\n",
       "      <td>1455. 상봉역 2번 출구</td>\n",
       "      <td>201905.0</td>\n",
       "      <td>1300.0</td>\n",
       "    </tr>\n",
       "    <tr>\n",
       "      <td>9185</td>\n",
       "      <td>중랑구</td>\n",
       "      <td>1456. 상아빌딩(우림시장 교차로)</td>\n",
       "      <td>201905.0</td>\n",
       "      <td>867.0</td>\n",
       "    </tr>\n",
       "    <tr>\n",
       "      <td>9186</td>\n",
       "      <td>중랑구</td>\n",
       "      <td>1457. 동원사거리</td>\n",
       "      <td>201905.0</td>\n",
       "      <td>749.0</td>\n",
       "    </tr>\n",
       "    <tr>\n",
       "      <td>9187</td>\n",
       "      <td>중랑구</td>\n",
       "      <td>1458. 상봉터미널2</td>\n",
       "      <td>201905.0</td>\n",
       "      <td>1492.0</td>\n",
       "    </tr>\n",
       "    <tr>\n",
       "      <td>9188</td>\n",
       "      <td>중랑구</td>\n",
       "      <td>1459. 용마한신아파트사거리</td>\n",
       "      <td>201905.0</td>\n",
       "      <td>320.0</td>\n",
       "    </tr>\n",
       "  </tbody>\n",
       "</table>\n",
       "<p>18462 rows × 4 columns</p>\n",
       "</div>"
      ],
      "text/plain": [
       "     district                         station      date   count\n",
       "0         강남구                2301. 현대고등학교 건너편  201906.0  4072.0\n",
       "1         강남구  2302. 교보타워 버스정류장(신논현역 3번출구 후면)  201906.0  2382.0\n",
       "2         강남구                  2303. 논현역 7번출구  201906.0  1402.0\n",
       "3         강남구         2304. 신영 ROYAL PALACE 앞  201906.0   207.0\n",
       "4         강남구              2305. MCM 본사 직영점 앞  201906.0   905.0\n",
       "...       ...                             ...       ...     ...\n",
       "9184      중랑구                 1455. 상봉역 2번 출구  201905.0  1300.0\n",
       "9185      중랑구            1456. 상아빌딩(우림시장 교차로)  201905.0   867.0\n",
       "9186      중랑구                     1457. 동원사거리  201905.0   749.0\n",
       "9187      중랑구                    1458. 상봉터미널2  201905.0  1492.0\n",
       "9188      중랑구                1459. 용마한신아파트사거리  201905.0   320.0\n",
       "\n",
       "[18462 rows x 4 columns]"
      ]
     },
     "execution_count": 20,
     "metadata": {},
     "output_type": "execute_result"
    }
   ],
   "source": [
    "# 제대로 합쳐졌는지 확인하기!\n",
    "print(df_return1.shape, df_return2.shape)\n",
    "print('총 레코드 수: {}'.format(df_return1.shape[0] + df_return2.shape[0]))\n",
    "print(df_return.shape)\n",
    "df_return"
   ]
  },
  {
   "cell_type": "markdown",
   "metadata": {},
   "source": [
    "* Null값이 있는지 확인해보자."
   ]
  },
  {
   "cell_type": "code",
   "execution_count": 21,
   "metadata": {
    "ExecuteTime": {
     "end_time": "2020-04-30T14:52:41.032123Z",
     "start_time": "2020-04-30T14:52:37.590329Z"
    }
   },
   "outputs": [
    {
     "data": {
      "text/plain": [
       "<matplotlib.axes._subplots.AxesSubplot at 0x268ee774408>"
      ]
     },
     "execution_count": 21,
     "metadata": {},
     "output_type": "execute_result"
    },
    {
     "data": {
      "image/png": "[encoded data removed]",
      "text/plain": [
       "<Figure size 864x1440 with 9 Axes>"
      ]
     },
     "metadata": {
      "needs_background": "light"
     },
     "output_type": "display_data"
    }
   ],
   "source": [
    "import missingno as msno\n",
    "f, ax = plt.subplots(3, 1, figsize=(12, 20))\n",
    "msno.bar(df_rent, ax=ax[0])\n",
    "msno.bar(df_return, ax=ax[1])\n",
    "msno.bar(df_station, ax=ax[2])"
   ]
  },
  {
   "cell_type": "code",
   "execution_count": 22,
   "metadata": {
    "ExecuteTime": {
     "end_time": "2020-04-30T14:52:41.067037Z",
     "start_time": "2020-04-30T14:52:41.045091Z"
    }
   },
   "outputs": [
    {
     "data": {
      "text/html": [
       "<div>\n",
       "<style scoped>\n",
       "    .dataframe tbody tr th:only-of-type {\n",
       "        vertical-align: middle;\n",
       "    }\n",
       "\n",
       "    .dataframe tbody tr th {\n",
       "        vertical-align: top;\n",
       "    }\n",
       "\n",
       "    .dataframe thead th {\n",
       "        text-align: right;\n",
       "    }\n",
       "</style>\n",
       "<table border=\"1\" class=\"dataframe\">\n",
       "  <thead>\n",
       "    <tr style=\"text-align: right;\">\n",
       "      <th></th>\n",
       "      <th>district</th>\n",
       "      <th>station</th>\n",
       "      <th>date</th>\n",
       "      <th>count</th>\n",
       "    </tr>\n",
       "  </thead>\n",
       "  <tbody>\n",
       "    <tr>\n",
       "      <td>1523</td>\n",
       "      <td>NaN</td>\n",
       "      <td>NaN</td>\n",
       "      <td>NaN</td>\n",
       "      <td>NaN</td>\n",
       "    </tr>\n",
       "    <tr>\n",
       "      <td>3052</td>\n",
       "      <td>NaN</td>\n",
       "      <td>NaN</td>\n",
       "      <td>NaN</td>\n",
       "      <td>NaN</td>\n",
       "    </tr>\n",
       "    <tr>\n",
       "      <td>4579</td>\n",
       "      <td>NaN</td>\n",
       "      <td>NaN</td>\n",
       "      <td>NaN</td>\n",
       "      <td>NaN</td>\n",
       "    </tr>\n",
       "    <tr>\n",
       "      <td>6116</td>\n",
       "      <td>NaN</td>\n",
       "      <td>NaN</td>\n",
       "      <td>NaN</td>\n",
       "      <td>NaN</td>\n",
       "    </tr>\n",
       "    <tr>\n",
       "      <td>7652</td>\n",
       "      <td>NaN</td>\n",
       "      <td>NaN</td>\n",
       "      <td>NaN</td>\n",
       "      <td>NaN</td>\n",
       "    </tr>\n",
       "  </tbody>\n",
       "</table>\n",
       "</div>"
      ],
      "text/plain": [
       "     district station  date  count\n",
       "1523      NaN     NaN   NaN    NaN\n",
       "3052      NaN     NaN   NaN    NaN\n",
       "4579      NaN     NaN   NaN    NaN\n",
       "6116      NaN     NaN   NaN    NaN\n",
       "7652      NaN     NaN   NaN    NaN"
      ]
     },
     "execution_count": 22,
     "metadata": {},
     "output_type": "execute_result"
    }
   ],
   "source": [
    "df_return[df_return['count'].isnull()]"
   ]
  },
  {
   "cell_type": "code",
   "execution_count": 23,
   "metadata": {
    "ExecuteTime": {
     "end_time": "2020-04-30T14:52:41.092964Z",
     "start_time": "2020-04-30T14:52:41.073016Z"
    }
   },
   "outputs": [
    {
     "data": {
      "text/html": [
       "<div>\n",
       "<style scoped>\n",
       "    .dataframe tbody tr th:only-of-type {\n",
       "        vertical-align: middle;\n",
       "    }\n",
       "\n",
       "    .dataframe tbody tr th {\n",
       "        vertical-align: top;\n",
       "    }\n",
       "\n",
       "    .dataframe thead th {\n",
       "        text-align: right;\n",
       "    }\n",
       "</style>\n",
       "<table border=\"1\" class=\"dataframe\">\n",
       "  <thead>\n",
       "    <tr style=\"text-align: right;\">\n",
       "      <th></th>\n",
       "      <th>district</th>\n",
       "      <th>station</th>\n",
       "      <th>date</th>\n",
       "      <th>count</th>\n",
       "    </tr>\n",
       "  </thead>\n",
       "  <tbody>\n",
       "    <tr>\n",
       "      <td>1523</td>\n",
       "      <td>NaN</td>\n",
       "      <td>NaN</td>\n",
       "      <td>NaN</td>\n",
       "      <td>NaN</td>\n",
       "    </tr>\n",
       "    <tr>\n",
       "      <td>3052</td>\n",
       "      <td>NaN</td>\n",
       "      <td>NaN</td>\n",
       "      <td>NaN</td>\n",
       "      <td>NaN</td>\n",
       "    </tr>\n",
       "    <tr>\n",
       "      <td>4579</td>\n",
       "      <td>NaN</td>\n",
       "      <td>NaN</td>\n",
       "      <td>NaN</td>\n",
       "      <td>NaN</td>\n",
       "    </tr>\n",
       "    <tr>\n",
       "      <td>6116</td>\n",
       "      <td>NaN</td>\n",
       "      <td>NaN</td>\n",
       "      <td>NaN</td>\n",
       "      <td>NaN</td>\n",
       "    </tr>\n",
       "    <tr>\n",
       "      <td>7652</td>\n",
       "      <td>NaN</td>\n",
       "      <td>NaN</td>\n",
       "      <td>NaN</td>\n",
       "      <td>NaN</td>\n",
       "    </tr>\n",
       "  </tbody>\n",
       "</table>\n",
       "</div>"
      ],
      "text/plain": [
       "     district station  date  count\n",
       "1523      NaN     NaN   NaN    NaN\n",
       "3052      NaN     NaN   NaN    NaN\n",
       "4579      NaN     NaN   NaN    NaN\n",
       "6116      NaN     NaN   NaN    NaN\n",
       "7652      NaN     NaN   NaN    NaN"
      ]
     },
     "execution_count": 23,
     "metadata": {},
     "output_type": "execute_result"
    }
   ],
   "source": [
    "df_rent[df_rent['count'].isnull()]"
   ]
  },
  {
   "cell_type": "markdown",
   "metadata": {},
   "source": [
    "* 모든 컬럼이 null값인 레코드들이다. 삭제해주자"
   ]
  },
  {
   "cell_type": "code",
   "execution_count": 24,
   "metadata": {
    "ExecuteTime": {
     "end_time": "2020-04-30T14:52:41.118890Z",
     "start_time": "2020-04-30T14:52:41.095953Z"
    }
   },
   "outputs": [],
   "source": [
    "df_return.dropna(inplace=True)\n",
    "df_rent.dropna(inplace=True)"
   ]
  },
  {
   "cell_type": "code",
   "execution_count": 25,
   "metadata": {
    "ExecuteTime": {
     "end_time": "2020-04-30T14:52:41.146818Z",
     "start_time": "2020-04-30T14:52:41.122883Z"
    }
   },
   "outputs": [
    {
     "data": {
      "text/html": [
       "<div>\n",
       "<style scoped>\n",
       "    .dataframe tbody tr th:only-of-type {\n",
       "        vertical-align: middle;\n",
       "    }\n",
       "\n",
       "    .dataframe tbody tr th {\n",
       "        vertical-align: top;\n",
       "    }\n",
       "\n",
       "    .dataframe thead th {\n",
       "        text-align: right;\n",
       "    }\n",
       "</style>\n",
       "<table border=\"1\" class=\"dataframe\">\n",
       "  <thead>\n",
       "    <tr style=\"text-align: right;\">\n",
       "      <th></th>\n",
       "      <th>district</th>\n",
       "      <th>station</th>\n",
       "      <th>date</th>\n",
       "      <th>count</th>\n",
       "    </tr>\n",
       "  </thead>\n",
       "  <tbody>\n",
       "    <tr>\n",
       "      <td>9184</td>\n",
       "      <td>중랑구</td>\n",
       "      <td>1455. 상봉역 2번 출구</td>\n",
       "      <td>201905.0</td>\n",
       "      <td>1362.0</td>\n",
       "    </tr>\n",
       "    <tr>\n",
       "      <td>9185</td>\n",
       "      <td>중랑구</td>\n",
       "      <td>1456. 상아빌딩(우림시장 교차로)</td>\n",
       "      <td>201905.0</td>\n",
       "      <td>826.0</td>\n",
       "    </tr>\n",
       "    <tr>\n",
       "      <td>9186</td>\n",
       "      <td>중랑구</td>\n",
       "      <td>1457. 동원사거리</td>\n",
       "      <td>201905.0</td>\n",
       "      <td>827.0</td>\n",
       "    </tr>\n",
       "    <tr>\n",
       "      <td>9187</td>\n",
       "      <td>중랑구</td>\n",
       "      <td>1458. 상봉터미널2</td>\n",
       "      <td>201905.0</td>\n",
       "      <td>1421.0</td>\n",
       "    </tr>\n",
       "    <tr>\n",
       "      <td>9188</td>\n",
       "      <td>중랑구</td>\n",
       "      <td>1459. 용마한신아파트사거리</td>\n",
       "      <td>201905.0</td>\n",
       "      <td>447.0</td>\n",
       "    </tr>\n",
       "  </tbody>\n",
       "</table>\n",
       "</div>"
      ],
      "text/plain": [
       "     district               station      date   count\n",
       "9184      중랑구       1455. 상봉역 2번 출구  201905.0  1362.0\n",
       "9185      중랑구  1456. 상아빌딩(우림시장 교차로)  201905.0   826.0\n",
       "9186      중랑구           1457. 동원사거리  201905.0   827.0\n",
       "9187      중랑구          1458. 상봉터미널2  201905.0  1421.0\n",
       "9188      중랑구      1459. 용마한신아파트사거리  201905.0   447.0"
      ]
     },
     "execution_count": 25,
     "metadata": {},
     "output_type": "execute_result"
    }
   ],
   "source": [
    "df_rent.tail()"
   ]
  },
  {
   "cell_type": "markdown",
   "metadata": {},
   "source": [
    "* 그런데, index가 중복되어있다. 인덱스를 다시 설정해주자."
   ]
  },
  {
   "cell_type": "code",
   "execution_count": 26,
   "metadata": {
    "ExecuteTime": {
     "end_time": "2020-04-30T14:52:41.157792Z",
     "start_time": "2020-04-30T14:52:41.149810Z"
    }
   },
   "outputs": [],
   "source": [
    "df_return.reset_index(drop=True, inplace=True)\n",
    "df_rent.reset_index(drop=True, inplace=True)"
   ]
  },
  {
   "cell_type": "code",
   "execution_count": 27,
   "metadata": {
    "ExecuteTime": {
     "end_time": "2020-04-30T14:52:41.183718Z",
     "start_time": "2020-04-30T14:52:41.160779Z"
    }
   },
   "outputs": [
    {
     "data": {
      "text/html": [
       "<div>\n",
       "<style scoped>\n",
       "    .dataframe tbody tr th:only-of-type {\n",
       "        vertical-align: middle;\n",
       "    }\n",
       "\n",
       "    .dataframe tbody tr th {\n",
       "        vertical-align: top;\n",
       "    }\n",
       "\n",
       "    .dataframe thead th {\n",
       "        text-align: right;\n",
       "    }\n",
       "</style>\n",
       "<table border=\"1\" class=\"dataframe\">\n",
       "  <thead>\n",
       "    <tr style=\"text-align: right;\">\n",
       "      <th></th>\n",
       "      <th>대여소_구</th>\n",
       "      <th>대여소ID</th>\n",
       "      <th>대여소명</th>\n",
       "      <th>대여소주소</th>\n",
       "      <th>위도</th>\n",
       "      <th>경도</th>\n",
       "      <th>기준시작일자</th>\n",
       "      <th>거치대수</th>\n",
       "    </tr>\n",
       "  </thead>\n",
       "  <tbody>\n",
       "    <tr>\n",
       "      <td>0</td>\n",
       "      <td>마포구</td>\n",
       "      <td>101.0</td>\n",
       "      <td>101. (구)합정동 주민센터</td>\n",
       "      <td>서울특별시 마포구 동교로8길 58</td>\n",
       "      <td>37.549561</td>\n",
       "      <td>126.905754</td>\n",
       "      <td>2015-09-06 23:40:56</td>\n",
       "      <td>5</td>\n",
       "    </tr>\n",
       "    <tr>\n",
       "      <td>1</td>\n",
       "      <td>마포구</td>\n",
       "      <td>102.0</td>\n",
       "      <td>102. 망원역 1번출구 앞</td>\n",
       "      <td>서울특별시 마포구 월드컵로 72</td>\n",
       "      <td>37.555649</td>\n",
       "      <td>126.910629</td>\n",
       "      <td>2015-09-06 23:42:06</td>\n",
       "      <td>20</td>\n",
       "    </tr>\n",
       "    <tr>\n",
       "      <td>2</td>\n",
       "      <td>마포구</td>\n",
       "      <td>103.0</td>\n",
       "      <td>103. 망원역 2번출구 앞</td>\n",
       "      <td>서울특별시 마포구 월드컵로 79</td>\n",
       "      <td>37.554951</td>\n",
       "      <td>126.910835</td>\n",
       "      <td>2015-09-06 23:43:13</td>\n",
       "      <td>14</td>\n",
       "    </tr>\n",
       "    <tr>\n",
       "      <td>3</td>\n",
       "      <td>마포구</td>\n",
       "      <td>104.0</td>\n",
       "      <td>104. 합정역 1번출구 앞</td>\n",
       "      <td>서울특별시 마포구 양화로 59</td>\n",
       "      <td>37.550629</td>\n",
       "      <td>126.914986</td>\n",
       "      <td>2015-09-06 23:44:31</td>\n",
       "      <td>13</td>\n",
       "    </tr>\n",
       "    <tr>\n",
       "      <td>4</td>\n",
       "      <td>마포구</td>\n",
       "      <td>105.0</td>\n",
       "      <td>105. 합정역 5번출구 앞</td>\n",
       "      <td>서울특별시 마포구 양화로 48</td>\n",
       "      <td>37.550007</td>\n",
       "      <td>126.914825</td>\n",
       "      <td>2015-09-06 23:45:30</td>\n",
       "      <td>5</td>\n",
       "    </tr>\n",
       "  </tbody>\n",
       "</table>\n",
       "</div>"
      ],
      "text/plain": [
       "  대여소_구  대여소ID              대여소명               대여소주소         위도          경도  \\\n",
       "0   마포구  101.0  101. (구)합정동 주민센터  서울특별시 마포구 동교로8길 58  37.549561  126.905754   \n",
       "1   마포구  102.0   102. 망원역 1번출구 앞   서울특별시 마포구 월드컵로 72  37.555649  126.910629   \n",
       "2   마포구  103.0   103. 망원역 2번출구 앞   서울특별시 마포구 월드컵로 79  37.554951  126.910835   \n",
       "3   마포구  104.0   104. 합정역 1번출구 앞    서울특별시 마포구 양화로 59  37.550629  126.914986   \n",
       "4   마포구  105.0   105. 합정역 5번출구 앞    서울특별시 마포구 양화로 48  37.550007  126.914825   \n",
       "\n",
       "                기준시작일자  거치대수  \n",
       "0  2015-09-06 23:40:56     5  \n",
       "1  2015-09-06 23:42:06    20  \n",
       "2  2015-09-06 23:43:13    14  \n",
       "3  2015-09-06 23:44:31    13  \n",
       "4  2015-09-06 23:45:30     5  "
      ]
     },
     "execution_count": 27,
     "metadata": {},
     "output_type": "execute_result"
    }
   ],
   "source": [
    "df_station.head()"
   ]
  },
  {
   "cell_type": "code",
   "execution_count": 28,
   "metadata": {
    "ExecuteTime": {
     "end_time": "2020-04-30T14:52:41.194689Z",
     "start_time": "2020-04-30T14:52:41.188705Z"
    }
   },
   "outputs": [],
   "source": [
    "# 컬럼명 영어로 변경!\n",
    "df_station.columns = ['district', 'id', 'station',\n",
    "                      'address', 'lat', 'lng', 'date', 'count']"
   ]
  },
  {
   "cell_type": "markdown",
   "metadata": {},
   "source": [
    "### 2-2. 데이터 형식 변경, 컬럼 추가"
   ]
  },
  {
   "cell_type": "code",
   "execution_count": 29,
   "metadata": {
    "ExecuteTime": {
     "end_time": "2020-04-30T14:52:41.215632Z",
     "start_time": "2020-04-30T14:52:41.197683Z"
    }
   },
   "outputs": [
    {
     "name": "stdout",
     "output_type": "stream",
     "text": [
      "<class 'pandas.core.frame.DataFrame'>\n",
      "RangeIndex: 18456 entries, 0 to 18455\n",
      "Data columns (total 4 columns):\n",
      "district    18456 non-null object\n",
      "station     18456 non-null object\n",
      "date        18456 non-null float64\n",
      "count       18456 non-null float64\n",
      "dtypes: float64(2), object(2)\n",
      "memory usage: 576.9+ KB\n"
     ]
    }
   ],
   "source": [
    "df_rent.info()"
   ]
  },
  {
   "cell_type": "code",
   "execution_count": 30,
   "metadata": {
    "ExecuteTime": {
     "end_time": "2020-04-30T14:52:41.238576Z",
     "start_time": "2020-04-30T14:52:41.219623Z"
    }
   },
   "outputs": [
    {
     "data": {
      "text/html": [
       "<div>\n",
       "<style scoped>\n",
       "    .dataframe tbody tr th:only-of-type {\n",
       "        vertical-align: middle;\n",
       "    }\n",
       "\n",
       "    .dataframe tbody tr th {\n",
       "        vertical-align: top;\n",
       "    }\n",
       "\n",
       "    .dataframe thead th {\n",
       "        text-align: right;\n",
       "    }\n",
       "</style>\n",
       "<table border=\"1\" class=\"dataframe\">\n",
       "  <thead>\n",
       "    <tr style=\"text-align: right;\">\n",
       "      <th></th>\n",
       "      <th>district</th>\n",
       "      <th>station</th>\n",
       "      <th>date</th>\n",
       "      <th>count</th>\n",
       "    </tr>\n",
       "  </thead>\n",
       "  <tbody>\n",
       "    <tr>\n",
       "      <td>0</td>\n",
       "      <td>강남구</td>\n",
       "      <td>2301. 현대고등학교 건너편</td>\n",
       "      <td>201906.0</td>\n",
       "      <td>3909.0</td>\n",
       "    </tr>\n",
       "    <tr>\n",
       "      <td>1</td>\n",
       "      <td>강남구</td>\n",
       "      <td>2302. 교보타워 버스정류장(신논현역 3번출구 후면)</td>\n",
       "      <td>201906.0</td>\n",
       "      <td>2432.0</td>\n",
       "    </tr>\n",
       "    <tr>\n",
       "      <td>2</td>\n",
       "      <td>강남구</td>\n",
       "      <td>2303. 논현역 7번출구</td>\n",
       "      <td>201906.0</td>\n",
       "      <td>1567.0</td>\n",
       "    </tr>\n",
       "  </tbody>\n",
       "</table>\n",
       "</div>"
      ],
      "text/plain": [
       "  district                         station      date   count\n",
       "0      강남구                2301. 현대고등학교 건너편  201906.0  3909.0\n",
       "1      강남구  2302. 교보타워 버스정류장(신논현역 3번출구 후면)  201906.0  2432.0\n",
       "2      강남구                  2303. 논현역 7번출구  201906.0  1567.0"
      ]
     },
     "execution_count": 30,
     "metadata": {},
     "output_type": "execute_result"
    }
   ],
   "source": [
    "df_rent.head(3)"
   ]
  },
  {
   "cell_type": "markdown",
   "metadata": {},
   "source": [
    "* 대여소 이름을 보면, [id. 대여소명]으로 되어있다.\n",
    "* 이것을 [id], [대여소명]으로 변경하면, 나중에 station 데이터의 id컬럼과 연결 시 편리할 것으로 보인다"
   ]
  },
  {
   "cell_type": "code",
   "execution_count": 31,
   "metadata": {
    "ExecuteTime": {
     "end_time": "2020-04-30T14:52:41.268491Z",
     "start_time": "2020-04-30T14:52:41.242561Z"
    }
   },
   "outputs": [
    {
     "data": {
      "text/html": [
       "<div>\n",
       "<style scoped>\n",
       "    .dataframe tbody tr th:only-of-type {\n",
       "        vertical-align: middle;\n",
       "    }\n",
       "\n",
       "    .dataframe tbody tr th {\n",
       "        vertical-align: top;\n",
       "    }\n",
       "\n",
       "    .dataframe thead th {\n",
       "        text-align: right;\n",
       "    }\n",
       "</style>\n",
       "<table border=\"1\" class=\"dataframe\">\n",
       "  <thead>\n",
       "    <tr style=\"text-align: right;\">\n",
       "      <th></th>\n",
       "      <th>district</th>\n",
       "      <th>station</th>\n",
       "      <th>date</th>\n",
       "      <th>count</th>\n",
       "    </tr>\n",
       "  </thead>\n",
       "  <tbody>\n",
       "    <tr>\n",
       "      <td>1380</td>\n",
       "      <td>정비센터</td>\n",
       "      <td>9998. 영남주차장 정비센터</td>\n",
       "      <td>201906.0</td>\n",
       "      <td>5.0</td>\n",
       "    </tr>\n",
       "    <tr>\n",
       "      <td>1381</td>\n",
       "      <td>정비센터</td>\n",
       "      <td>상암센터 정비실</td>\n",
       "      <td>201906.0</td>\n",
       "      <td>2.0</td>\n",
       "    </tr>\n",
       "    <tr>\n",
       "      <td>1382</td>\n",
       "      <td>정비센터</td>\n",
       "      <td>중랑센터</td>\n",
       "      <td>201906.0</td>\n",
       "      <td>36.0</td>\n",
       "    </tr>\n",
       "    <tr>\n",
       "      <td>1383</td>\n",
       "      <td>종로구</td>\n",
       "      <td>301. 경복궁역 7번출구 앞</td>\n",
       "      <td>201906.0</td>\n",
       "      <td>1312.0</td>\n",
       "    </tr>\n",
       "    <tr>\n",
       "      <td>1384</td>\n",
       "      <td>종로구</td>\n",
       "      <td>302. 경복궁역 4번출구 뒤</td>\n",
       "      <td>201906.0</td>\n",
       "      <td>2446.0</td>\n",
       "    </tr>\n",
       "    <tr>\n",
       "      <td>1385</td>\n",
       "      <td>종로구</td>\n",
       "      <td>303. 광화문역 1번출구 앞</td>\n",
       "      <td>201906.0</td>\n",
       "      <td>1386.0</td>\n",
       "    </tr>\n",
       "    <tr>\n",
       "      <td>1386</td>\n",
       "      <td>종로구</td>\n",
       "      <td>304. 광화문역 2번출구 앞</td>\n",
       "      <td>201906.0</td>\n",
       "      <td>1010.0</td>\n",
       "    </tr>\n",
       "    <tr>\n",
       "      <td>1387</td>\n",
       "      <td>종로구</td>\n",
       "      <td>305. 종로구청 옆</td>\n",
       "      <td>201906.0</td>\n",
       "      <td>2018.0</td>\n",
       "    </tr>\n",
       "    <tr>\n",
       "      <td>1388</td>\n",
       "      <td>종로구</td>\n",
       "      <td>306. 광화문역 7번출구 앞</td>\n",
       "      <td>201906.0</td>\n",
       "      <td>1159.0</td>\n",
       "    </tr>\n",
       "    <tr>\n",
       "      <td>1389</td>\n",
       "      <td>종로구</td>\n",
       "      <td>307. 서울역사박물관 앞</td>\n",
       "      <td>201906.0</td>\n",
       "      <td>1335.0</td>\n",
       "    </tr>\n",
       "    <tr>\n",
       "      <td>1390</td>\n",
       "      <td>종로구</td>\n",
       "      <td>308. 광화문 S타워 앞</td>\n",
       "      <td>201906.0</td>\n",
       "      <td>1561.0</td>\n",
       "    </tr>\n",
       "    <tr>\n",
       "      <td>1391</td>\n",
       "      <td>종로구</td>\n",
       "      <td>309. 광화문역 6번출구 옆</td>\n",
       "      <td>201906.0</td>\n",
       "      <td>981.0</td>\n",
       "    </tr>\n",
       "    <tr>\n",
       "      <td>1392</td>\n",
       "      <td>종로구</td>\n",
       "      <td>314. 국립현대미술관</td>\n",
       "      <td>201906.0</td>\n",
       "      <td>1393.0</td>\n",
       "    </tr>\n",
       "    <tr>\n",
       "      <td>1393</td>\n",
       "      <td>종로구</td>\n",
       "      <td>315. 신한은행 안국역지점 옆</td>\n",
       "      <td>201906.0</td>\n",
       "      <td>1562.0</td>\n",
       "    </tr>\n",
       "    <tr>\n",
       "      <td>1394</td>\n",
       "      <td>종로구</td>\n",
       "      <td>316. 종각역 1번출구 앞</td>\n",
       "      <td>201906.0</td>\n",
       "      <td>2498.0</td>\n",
       "    </tr>\n",
       "    <tr>\n",
       "      <td>1395</td>\n",
       "      <td>종로구</td>\n",
       "      <td>326. 안국역 5번출구 앞</td>\n",
       "      <td>201906.0</td>\n",
       "      <td>1754.0</td>\n",
       "    </tr>\n",
       "    <tr>\n",
       "      <td>1396</td>\n",
       "      <td>종로구</td>\n",
       "      <td>327. 낙원상가 옆</td>\n",
       "      <td>201906.0</td>\n",
       "      <td>1537.0</td>\n",
       "    </tr>\n",
       "    <tr>\n",
       "      <td>1397</td>\n",
       "      <td>종로구</td>\n",
       "      <td>328. 탑골공원 앞</td>\n",
       "      <td>201906.0</td>\n",
       "      <td>1609.0</td>\n",
       "    </tr>\n",
       "    <tr>\n",
       "      <td>1398</td>\n",
       "      <td>종로구</td>\n",
       "      <td>329. 청계2가 사거리 옆</td>\n",
       "      <td>201906.0</td>\n",
       "      <td>1920.0</td>\n",
       "    </tr>\n",
       "    <tr>\n",
       "      <td>1399</td>\n",
       "      <td>종로구</td>\n",
       "      <td>334. 종로3가역 2번출구 뒤</td>\n",
       "      <td>201906.0</td>\n",
       "      <td>2291.0</td>\n",
       "    </tr>\n",
       "  </tbody>\n",
       "</table>\n",
       "</div>"
      ],
      "text/plain": [
       "     district            station      date   count\n",
       "1380     정비센터   9998. 영남주차장 정비센터  201906.0     5.0\n",
       "1381     정비센터           상암센터 정비실  201906.0     2.0\n",
       "1382     정비센터               중랑센터  201906.0    36.0\n",
       "1383      종로구   301. 경복궁역 7번출구 앞  201906.0  1312.0\n",
       "1384      종로구   302. 경복궁역 4번출구 뒤  201906.0  2446.0\n",
       "1385      종로구   303. 광화문역 1번출구 앞  201906.0  1386.0\n",
       "1386      종로구   304. 광화문역 2번출구 앞  201906.0  1010.0\n",
       "1387      종로구        305. 종로구청 옆  201906.0  2018.0\n",
       "1388      종로구   306. 광화문역 7번출구 앞  201906.0  1159.0\n",
       "1389      종로구     307. 서울역사박물관 앞  201906.0  1335.0\n",
       "1390      종로구     308. 광화문 S타워 앞  201906.0  1561.0\n",
       "1391      종로구   309. 광화문역 6번출구 옆  201906.0   981.0\n",
       "1392      종로구       314. 국립현대미술관  201906.0  1393.0\n",
       "1393      종로구  315. 신한은행 안국역지점 옆  201906.0  1562.0\n",
       "1394      종로구    316. 종각역 1번출구 앞  201906.0  2498.0\n",
       "1395      종로구    326. 안국역 5번출구 앞  201906.0  1754.0\n",
       "1396      종로구        327. 낙원상가 옆  201906.0  1537.0\n",
       "1397      종로구        328. 탑골공원 앞  201906.0  1609.0\n",
       "1398      종로구    329. 청계2가 사거리 옆  201906.0  1920.0\n",
       "1399      종로구  334. 종로3가역 2번출구 뒤  201906.0  2291.0"
      ]
     },
     "execution_count": 31,
     "metadata": {},
     "output_type": "execute_result"
    }
   ],
   "source": [
    "df_rent[1380:1400]"
   ]
  },
  {
   "cell_type": "code",
   "execution_count": 32,
   "metadata": {
    "ExecuteTime": {
     "end_time": "2020-04-30T14:53:52.355382Z",
     "start_time": "2020-04-30T14:52:41.272481Z"
    }
   },
   "outputs": [
    {
     "data": {
      "application/vnd.jupyter.widget-view+json": {
       "model_id": "557fc6da93e94e38ba5c40fd7a8a6fe4",
       "version_major": 2,
       "version_minor": 0
      },
      "text/plain": [
       "HBox(children=(IntProgress(value=0, max=18456), HTML(value='')))"
      ]
     },
     "metadata": {},
     "output_type": "display_data"
    },
    {
     "name": "stdout",
     "output_type": "stream",
     "text": [
      "\n"
     ]
    }
   ],
   "source": [
    "import re\n",
    "from tqdm import tqdm_notebook\n",
    "p1 = re.compile('\\d+')\n",
    "p2 = re.compile('\\d+[. ]')\n",
    "error_row = []\n",
    "for row in tqdm_notebook(df_rent.index):\n",
    "    try:\n",
    "        m = p1.match(df_rent.loc[row, 'station'])\n",
    "        df_rent.loc[row, 'id'] = m.group()\n",
    "    except:\n",
    "        df_rent.loc[row, 'id'] = 'None'\n",
    "        error_row.append(row)    # 에러행 저장해놓기\n",
    "    try:\n",
    "        df_rent.loc[row, 'station'] = p2.sub('', df_rent.loc[row, 'station'])\n",
    "    except:\n",
    "        error_row.append(row)    # 에러행 저장해놓기"
   ]
  },
  {
   "cell_type": "code",
   "execution_count": 33,
   "metadata": {
    "ExecuteTime": {
     "end_time": "2020-04-30T14:53:52.369345Z",
     "start_time": "2020-04-30T14:53:52.358374Z"
    }
   },
   "outputs": [
    {
     "data": {
      "text/plain": [
       "[1381,\n",
       " 1382,\n",
       " 1543,\n",
       " 1544,\n",
       " 2926,\n",
       " 2927,\n",
       " 3088,\n",
       " 4466,\n",
       " 4467,\n",
       " 4468,\n",
       " 4631,\n",
       " 6013,\n",
       " 6014,\n",
       " 6015,\n",
       " 6178,\n",
       " 6179,\n",
       " 7563,\n",
       " 7564,\n",
       " 7725,\n",
       " 9109,\n",
       " 9110]"
      ]
     },
     "execution_count": 33,
     "metadata": {},
     "output_type": "execute_result"
    }
   ],
   "source": [
    "error_row"
   ]
  },
  {
   "cell_type": "code",
   "execution_count": 34,
   "metadata": {
    "ExecuteTime": {
     "end_time": "2020-04-30T14:53:52.387297Z",
     "start_time": "2020-04-30T14:53:52.373334Z"
    }
   },
   "outputs": [
    {
     "data": {
      "text/plain": [
       "<bound method Series.unique of 1381    상암센터 정비실\n",
       "1382        중랑센터\n",
       "1543     대여소명 없음\n",
       "1544     대여소명 없음\n",
       "2926    상암센터 정비실\n",
       "2927        중랑센터\n",
       "3088     대여소명 없음\n",
       "4466    상암센터 정비실\n",
       "4467      시스템관리팀\n",
       "4468        중랑센터\n",
       "4631     대여소명 없음\n",
       "6013    상암센터 정비실\n",
       "6014      시스템관리팀\n",
       "6015        중랑센터\n",
       "6178     대여소명 없음\n",
       "6179     대여소명 없음\n",
       "7563    상암센터 정비실\n",
       "7564        중랑센터\n",
       "7725     대여소명 없음\n",
       "9109    상암센터 정비실\n",
       "9110        중랑센터\n",
       "Name: station, dtype: object>"
      ]
     },
     "execution_count": 34,
     "metadata": {},
     "output_type": "execute_result"
    }
   ],
   "source": [
    "df_rent.loc[error_row,:].station.unique"
   ]
  },
  {
   "cell_type": "markdown",
   "metadata": {},
   "source": [
    "* 정비센터이거나, 그룹명이 없는 경우가 있다. "
   ]
  },
  {
   "cell_type": "code",
   "execution_count": 35,
   "metadata": {
    "ExecuteTime": {
     "end_time": "2020-04-30T14:55:02.980990Z",
     "start_time": "2020-04-30T14:53:52.390288Z"
    }
   },
   "outputs": [
    {
     "data": {
      "application/vnd.jupyter.widget-view+json": {
       "model_id": "45b6561f46e94918981f008cbecd9952",
       "version_major": 2,
       "version_minor": 0
      },
      "text/plain": [
       "HBox(children=(IntProgress(value=0, max=18456), HTML(value='')))"
      ]
     },
     "metadata": {},
     "output_type": "display_data"
    },
    {
     "name": "stdout",
     "output_type": "stream",
     "text": [
      "\n"
     ]
    }
   ],
   "source": [
    "p1 = re.compile('\\d+')\n",
    "p2 = re.compile('\\d+[. ]')\n",
    "error_row_return = []\n",
    "for row in tqdm_notebook(df_rent.index):\n",
    "    try:\n",
    "        m = p1.match(df_return.loc[row, 'station'])\n",
    "        df_return.loc[row, 'id'] = m.group()\n",
    "    except:\n",
    "        df_return.loc[row, 'id'] = 'None'\n",
    "        error_row_return.append(row)    # 에러행 저장해놓기\n",
    "    try:\n",
    "        df_return.loc[row, 'station'] = p2.sub('', df_return.loc[row, 'station'])\n",
    "    except:\n",
    "        error_row_return.append(row)    # 에러행 저장해놓기"
   ]
  },
  {
   "cell_type": "code",
   "execution_count": 36,
   "metadata": {
    "ExecuteTime": {
     "end_time": "2020-04-30T14:55:02.990963Z",
     "start_time": "2020-04-30T14:55:02.983979Z"
    }
   },
   "outputs": [
    {
     "data": {
      "text/plain": [
       "22"
      ]
     },
     "execution_count": 36,
     "metadata": {},
     "output_type": "execute_result"
    }
   ],
   "source": [
    "len(error_row_return)"
   ]
  },
  {
   "cell_type": "code",
   "execution_count": 37,
   "metadata": {
    "ExecuteTime": {
     "end_time": "2020-04-30T14:55:03.019883Z",
     "start_time": "2020-04-30T14:55:02.994949Z"
    }
   },
   "outputs": [
    {
     "data": {
      "text/html": [
       "<div>\n",
       "<style scoped>\n",
       "    .dataframe tbody tr th:only-of-type {\n",
       "        vertical-align: middle;\n",
       "    }\n",
       "\n",
       "    .dataframe tbody tr th {\n",
       "        vertical-align: top;\n",
       "    }\n",
       "\n",
       "    .dataframe thead th {\n",
       "        text-align: right;\n",
       "    }\n",
       "</style>\n",
       "<table border=\"1\" class=\"dataframe\">\n",
       "  <thead>\n",
       "    <tr style=\"text-align: right;\">\n",
       "      <th></th>\n",
       "      <th>district</th>\n",
       "      <th>station</th>\n",
       "      <th>date</th>\n",
       "      <th>count</th>\n",
       "      <th>id</th>\n",
       "    </tr>\n",
       "  </thead>\n",
       "  <tbody>\n",
       "    <tr>\n",
       "      <td>1381</td>\n",
       "      <td>정비센터</td>\n",
       "      <td>상암센터 정비실</td>\n",
       "      <td>201906.0</td>\n",
       "      <td>9.0</td>\n",
       "      <td>None</td>\n",
       "    </tr>\n",
       "    <tr>\n",
       "      <td>1382</td>\n",
       "      <td>정비센터</td>\n",
       "      <td>중랑센터</td>\n",
       "      <td>201906.0</td>\n",
       "      <td>24.0</td>\n",
       "      <td>None</td>\n",
       "    </tr>\n",
       "    <tr>\n",
       "      <td>1543</td>\n",
       "      <td>그룹명 없음</td>\n",
       "      <td>대여소명 없음</td>\n",
       "      <td>201906.0</td>\n",
       "      <td>12644.0</td>\n",
       "      <td>None</td>\n",
       "    </tr>\n",
       "    <tr>\n",
       "      <td>1544</td>\n",
       "      <td>그룹명 없음</td>\n",
       "      <td>대여소명 없음</td>\n",
       "      <td>201907.0</td>\n",
       "      <td>1.0</td>\n",
       "      <td>None</td>\n",
       "    </tr>\n",
       "    <tr>\n",
       "      <td>1545</td>\n",
       "      <td>그룹명 없음</td>\n",
       "      <td>대여소명 없음</td>\n",
       "      <td>201907.0</td>\n",
       "      <td>12537.0</td>\n",
       "      <td>None</td>\n",
       "    </tr>\n",
       "    <tr>\n",
       "      <td>2927</td>\n",
       "      <td>정비센터</td>\n",
       "      <td>상암센터 정비실</td>\n",
       "      <td>201907.0</td>\n",
       "      <td>11.0</td>\n",
       "      <td>None</td>\n",
       "    </tr>\n",
       "    <tr>\n",
       "      <td>2928</td>\n",
       "      <td>정비센터</td>\n",
       "      <td>중랑센터</td>\n",
       "      <td>201907.0</td>\n",
       "      <td>34.0</td>\n",
       "      <td>None</td>\n",
       "    </tr>\n",
       "    <tr>\n",
       "      <td>3089</td>\n",
       "      <td>그룹명 없음</td>\n",
       "      <td>대여소명 없음</td>\n",
       "      <td>201908.0</td>\n",
       "      <td>12188.0</td>\n",
       "      <td>None</td>\n",
       "    </tr>\n",
       "    <tr>\n",
       "      <td>4467</td>\n",
       "      <td>정비센터</td>\n",
       "      <td>상암센터 정비실</td>\n",
       "      <td>201908.0</td>\n",
       "      <td>13.0</td>\n",
       "      <td>None</td>\n",
       "    </tr>\n",
       "    <tr>\n",
       "      <td>4468</td>\n",
       "      <td>정비센터</td>\n",
       "      <td>시스템관리팀</td>\n",
       "      <td>201908.0</td>\n",
       "      <td>2.0</td>\n",
       "      <td>None</td>\n",
       "    </tr>\n",
       "    <tr>\n",
       "      <td>4469</td>\n",
       "      <td>정비센터</td>\n",
       "      <td>중랑센터</td>\n",
       "      <td>201908.0</td>\n",
       "      <td>28.0</td>\n",
       "      <td>None</td>\n",
       "    </tr>\n",
       "    <tr>\n",
       "      <td>4632</td>\n",
       "      <td>그룹명 없음</td>\n",
       "      <td>대여소명 없음</td>\n",
       "      <td>201909.0</td>\n",
       "      <td>10902.0</td>\n",
       "      <td>None</td>\n",
       "    </tr>\n",
       "    <tr>\n",
       "      <td>6014</td>\n",
       "      <td>정비센터</td>\n",
       "      <td>상암센터 정비실</td>\n",
       "      <td>201909.0</td>\n",
       "      <td>2.0</td>\n",
       "      <td>None</td>\n",
       "    </tr>\n",
       "    <tr>\n",
       "      <td>6015</td>\n",
       "      <td>정비센터</td>\n",
       "      <td>시스템관리팀</td>\n",
       "      <td>201909.0</td>\n",
       "      <td>1.0</td>\n",
       "      <td>None</td>\n",
       "    </tr>\n",
       "    <tr>\n",
       "      <td>6016</td>\n",
       "      <td>정비센터</td>\n",
       "      <td>중랑센터</td>\n",
       "      <td>201909.0</td>\n",
       "      <td>33.0</td>\n",
       "      <td>None</td>\n",
       "    </tr>\n",
       "    <tr>\n",
       "      <td>6179</td>\n",
       "      <td>그룹명 없음</td>\n",
       "      <td>대여소명 없음</td>\n",
       "      <td>201910.0</td>\n",
       "      <td>11726.0</td>\n",
       "      <td>None</td>\n",
       "    </tr>\n",
       "    <tr>\n",
       "      <td>6180</td>\n",
       "      <td>그룹명 없음</td>\n",
       "      <td>대여소명 없음</td>\n",
       "      <td>201910.0</td>\n",
       "      <td>1.0</td>\n",
       "      <td>None</td>\n",
       "    </tr>\n",
       "    <tr>\n",
       "      <td>7564</td>\n",
       "      <td>정비센터</td>\n",
       "      <td>상암센터 정비실</td>\n",
       "      <td>201910.0</td>\n",
       "      <td>2.0</td>\n",
       "      <td>None</td>\n",
       "    </tr>\n",
       "    <tr>\n",
       "      <td>7565</td>\n",
       "      <td>정비센터</td>\n",
       "      <td>중랑센터</td>\n",
       "      <td>201910.0</td>\n",
       "      <td>31.0</td>\n",
       "      <td>None</td>\n",
       "    </tr>\n",
       "    <tr>\n",
       "      <td>7726</td>\n",
       "      <td>그룹명 없음</td>\n",
       "      <td>대여소명 없음</td>\n",
       "      <td>201911.0</td>\n",
       "      <td>8799.0</td>\n",
       "      <td>None</td>\n",
       "    </tr>\n",
       "    <tr>\n",
       "      <td>9110</td>\n",
       "      <td>정비센터</td>\n",
       "      <td>상암센터 정비실</td>\n",
       "      <td>201911.0</td>\n",
       "      <td>8.0</td>\n",
       "      <td>None</td>\n",
       "    </tr>\n",
       "    <tr>\n",
       "      <td>9111</td>\n",
       "      <td>정비센터</td>\n",
       "      <td>중랑센터</td>\n",
       "      <td>201911.0</td>\n",
       "      <td>30.0</td>\n",
       "      <td>None</td>\n",
       "    </tr>\n",
       "  </tbody>\n",
       "</table>\n",
       "</div>"
      ],
      "text/plain": [
       "     district   station      date    count    id\n",
       "1381     정비센터  상암센터 정비실  201906.0      9.0  None\n",
       "1382     정비센터      중랑센터  201906.0     24.0  None\n",
       "1543   그룹명 없음   대여소명 없음  201906.0  12644.0  None\n",
       "1544   그룹명 없음   대여소명 없음  201907.0      1.0  None\n",
       "1545   그룹명 없음   대여소명 없음  201907.0  12537.0  None\n",
       "2927     정비센터  상암센터 정비실  201907.0     11.0  None\n",
       "2928     정비센터      중랑센터  201907.0     34.0  None\n",
       "3089   그룹명 없음   대여소명 없음  201908.0  12188.0  None\n",
       "4467     정비센터  상암센터 정비실  201908.0     13.0  None\n",
       "4468     정비센터    시스템관리팀  201908.0      2.0  None\n",
       "4469     정비센터      중랑센터  201908.0     28.0  None\n",
       "4632   그룹명 없음   대여소명 없음  201909.0  10902.0  None\n",
       "6014     정비센터  상암센터 정비실  201909.0      2.0  None\n",
       "6015     정비센터    시스템관리팀  201909.0      1.0  None\n",
       "6016     정비센터      중랑센터  201909.0     33.0  None\n",
       "6179   그룹명 없음   대여소명 없음  201910.0  11726.0  None\n",
       "6180   그룹명 없음   대여소명 없음  201910.0      1.0  None\n",
       "7564     정비센터  상암센터 정비실  201910.0      2.0  None\n",
       "7565     정비센터      중랑센터  201910.0     31.0  None\n",
       "7726   그룹명 없음   대여소명 없음  201911.0   8799.0  None\n",
       "9110     정비센터  상암센터 정비실  201911.0      8.0  None\n",
       "9111     정비센터      중랑센터  201911.0     30.0  None"
      ]
     },
     "execution_count": 37,
     "metadata": {},
     "output_type": "execute_result"
    }
   ],
   "source": [
    "df_return.loc[error_row_return]"
   ]
  },
  {
   "cell_type": "markdown",
   "metadata": {},
   "source": [
    "* return데이터에도 역시 정비소거나 그룹명이 없는 경우가 존재한다.\n",
    "* station데이터에서 해당 대여소에 대한 정보가 있는지 우선 찾아보자."
   ]
  },
  {
   "cell_type": "code",
   "execution_count": 38,
   "metadata": {
    "ExecuteTime": {
     "end_time": "2020-04-30T14:55:03.073740Z",
     "start_time": "2020-04-30T14:55:03.023871Z"
    }
   },
   "outputs": [
    {
     "data": {
      "text/html": [
       "<div>\n",
       "<style scoped>\n",
       "    .dataframe tbody tr th:only-of-type {\n",
       "        vertical-align: middle;\n",
       "    }\n",
       "\n",
       "    .dataframe tbody tr th {\n",
       "        vertical-align: top;\n",
       "    }\n",
       "\n",
       "    .dataframe thead th {\n",
       "        text-align: right;\n",
       "    }\n",
       "</style>\n",
       "<table border=\"1\" class=\"dataframe\">\n",
       "  <thead>\n",
       "    <tr style=\"text-align: right;\">\n",
       "      <th></th>\n",
       "      <th>district</th>\n",
       "      <th>id</th>\n",
       "      <th>station</th>\n",
       "      <th>address</th>\n",
       "      <th>lat</th>\n",
       "      <th>lng</th>\n",
       "      <th>date</th>\n",
       "      <th>count</th>\n",
       "    </tr>\n",
       "  </thead>\n",
       "  <tbody>\n",
       "    <tr>\n",
       "      <td>0</td>\n",
       "      <td>마포구</td>\n",
       "      <td>101.0</td>\n",
       "      <td>101. (구)합정동 주민센터</td>\n",
       "      <td>서울특별시 마포구 동교로8길 58</td>\n",
       "      <td>37.549561</td>\n",
       "      <td>126.905754</td>\n",
       "      <td>2015-09-06 23:40:56</td>\n",
       "      <td>5</td>\n",
       "    </tr>\n",
       "    <tr>\n",
       "      <td>1</td>\n",
       "      <td>마포구</td>\n",
       "      <td>102.0</td>\n",
       "      <td>102. 망원역 1번출구 앞</td>\n",
       "      <td>서울특별시 마포구 월드컵로 72</td>\n",
       "      <td>37.555649</td>\n",
       "      <td>126.910629</td>\n",
       "      <td>2015-09-06 23:42:06</td>\n",
       "      <td>20</td>\n",
       "    </tr>\n",
       "    <tr>\n",
       "      <td>2</td>\n",
       "      <td>마포구</td>\n",
       "      <td>103.0</td>\n",
       "      <td>103. 망원역 2번출구 앞</td>\n",
       "      <td>서울특별시 마포구 월드컵로 79</td>\n",
       "      <td>37.554951</td>\n",
       "      <td>126.910835</td>\n",
       "      <td>2015-09-06 23:43:13</td>\n",
       "      <td>14</td>\n",
       "    </tr>\n",
       "    <tr>\n",
       "      <td>3</td>\n",
       "      <td>마포구</td>\n",
       "      <td>104.0</td>\n",
       "      <td>104. 합정역 1번출구 앞</td>\n",
       "      <td>서울특별시 마포구 양화로 59</td>\n",
       "      <td>37.550629</td>\n",
       "      <td>126.914986</td>\n",
       "      <td>2015-09-06 23:44:31</td>\n",
       "      <td>13</td>\n",
       "    </tr>\n",
       "    <tr>\n",
       "      <td>4</td>\n",
       "      <td>마포구</td>\n",
       "      <td>105.0</td>\n",
       "      <td>105. 합정역 5번출구 앞</td>\n",
       "      <td>서울특별시 마포구 양화로 48</td>\n",
       "      <td>37.550007</td>\n",
       "      <td>126.914825</td>\n",
       "      <td>2015-09-06 23:45:30</td>\n",
       "      <td>5</td>\n",
       "    </tr>\n",
       "  </tbody>\n",
       "</table>\n",
       "</div>"
      ],
      "text/plain": [
       "  district     id           station             address        lat  \\\n",
       "0      마포구  101.0  101. (구)합정동 주민센터  서울특별시 마포구 동교로8길 58  37.549561   \n",
       "1      마포구  102.0   102. 망원역 1번출구 앞   서울특별시 마포구 월드컵로 72  37.555649   \n",
       "2      마포구  103.0   103. 망원역 2번출구 앞   서울특별시 마포구 월드컵로 79  37.554951   \n",
       "3      마포구  104.0   104. 합정역 1번출구 앞    서울특별시 마포구 양화로 59  37.550629   \n",
       "4      마포구  105.0   105. 합정역 5번출구 앞    서울특별시 마포구 양화로 48  37.550007   \n",
       "\n",
       "          lng                 date  count  \n",
       "0  126.905754  2015-09-06 23:40:56      5  \n",
       "1  126.910629  2015-09-06 23:42:06     20  \n",
       "2  126.910835  2015-09-06 23:43:13     14  \n",
       "3  126.914986  2015-09-06 23:44:31     13  \n",
       "4  126.914825  2015-09-06 23:45:30      5  "
      ]
     },
     "execution_count": 38,
     "metadata": {},
     "output_type": "execute_result"
    }
   ],
   "source": [
    "df_station.head()"
   ]
  },
  {
   "cell_type": "code",
   "execution_count": 39,
   "metadata": {
    "ExecuteTime": {
     "end_time": "2020-04-30T14:55:04.388532Z",
     "start_time": "2020-04-30T14:55:03.077740Z"
    }
   },
   "outputs": [],
   "source": [
    "p = re.compile('\\d+[. ]')\n",
    "for row in df_station.index:\n",
    "    try:\n",
    "        df_station.loc[row, 'station'] = p2.sub('', df_station.loc[row, 'station'])\n",
    "    except:\n",
    "        print(row)"
   ]
  },
  {
   "cell_type": "code",
   "execution_count": 40,
   "metadata": {
    "ExecuteTime": {
     "end_time": "2020-04-30T14:55:04.427426Z",
     "start_time": "2020-04-30T14:55:04.395512Z"
    }
   },
   "outputs": [
    {
     "data": {
      "text/html": [
       "<div>\n",
       "<style scoped>\n",
       "    .dataframe tbody tr th:only-of-type {\n",
       "        vertical-align: middle;\n",
       "    }\n",
       "\n",
       "    .dataframe tbody tr th {\n",
       "        vertical-align: top;\n",
       "    }\n",
       "\n",
       "    .dataframe thead th {\n",
       "        text-align: right;\n",
       "    }\n",
       "</style>\n",
       "<table border=\"1\" class=\"dataframe\">\n",
       "  <thead>\n",
       "    <tr style=\"text-align: right;\">\n",
       "      <th></th>\n",
       "      <th>district</th>\n",
       "      <th>id</th>\n",
       "      <th>station</th>\n",
       "      <th>address</th>\n",
       "      <th>lat</th>\n",
       "      <th>lng</th>\n",
       "      <th>date</th>\n",
       "      <th>count</th>\n",
       "    </tr>\n",
       "  </thead>\n",
       "  <tbody>\n",
       "    <tr>\n",
       "      <td>0</td>\n",
       "      <td>마포구</td>\n",
       "      <td>101.0</td>\n",
       "      <td>(구)합정동 주민센터</td>\n",
       "      <td>서울특별시 마포구 동교로8길 58</td>\n",
       "      <td>37.549561</td>\n",
       "      <td>126.905754</td>\n",
       "      <td>2015-09-06 23:40:56</td>\n",
       "      <td>5</td>\n",
       "    </tr>\n",
       "    <tr>\n",
       "      <td>1</td>\n",
       "      <td>마포구</td>\n",
       "      <td>102.0</td>\n",
       "      <td>망원역 1번출구 앞</td>\n",
       "      <td>서울특별시 마포구 월드컵로 72</td>\n",
       "      <td>37.555649</td>\n",
       "      <td>126.910629</td>\n",
       "      <td>2015-09-06 23:42:06</td>\n",
       "      <td>20</td>\n",
       "    </tr>\n",
       "    <tr>\n",
       "      <td>2</td>\n",
       "      <td>마포구</td>\n",
       "      <td>103.0</td>\n",
       "      <td>망원역 2번출구 앞</td>\n",
       "      <td>서울특별시 마포구 월드컵로 79</td>\n",
       "      <td>37.554951</td>\n",
       "      <td>126.910835</td>\n",
       "      <td>2015-09-06 23:43:13</td>\n",
       "      <td>14</td>\n",
       "    </tr>\n",
       "    <tr>\n",
       "      <td>3</td>\n",
       "      <td>마포구</td>\n",
       "      <td>104.0</td>\n",
       "      <td>합정역 1번출구 앞</td>\n",
       "      <td>서울특별시 마포구 양화로 59</td>\n",
       "      <td>37.550629</td>\n",
       "      <td>126.914986</td>\n",
       "      <td>2015-09-06 23:44:31</td>\n",
       "      <td>13</td>\n",
       "    </tr>\n",
       "    <tr>\n",
       "      <td>4</td>\n",
       "      <td>마포구</td>\n",
       "      <td>105.0</td>\n",
       "      <td>합정역 5번출구 앞</td>\n",
       "      <td>서울특별시 마포구 양화로 48</td>\n",
       "      <td>37.550007</td>\n",
       "      <td>126.914825</td>\n",
       "      <td>2015-09-06 23:45:30</td>\n",
       "      <td>5</td>\n",
       "    </tr>\n",
       "  </tbody>\n",
       "</table>\n",
       "</div>"
      ],
      "text/plain": [
       "  district     id       station             address        lat         lng  \\\n",
       "0      마포구  101.0   (구)합정동 주민센터  서울특별시 마포구 동교로8길 58  37.549561  126.905754   \n",
       "1      마포구  102.0    망원역 1번출구 앞   서울특별시 마포구 월드컵로 72  37.555649  126.910629   \n",
       "2      마포구  103.0    망원역 2번출구 앞   서울특별시 마포구 월드컵로 79  37.554951  126.910835   \n",
       "3      마포구  104.0    합정역 1번출구 앞    서울특별시 마포구 양화로 59  37.550629  126.914986   \n",
       "4      마포구  105.0    합정역 5번출구 앞    서울특별시 마포구 양화로 48  37.550007  126.914825   \n",
       "\n",
       "                  date  count  \n",
       "0  2015-09-06 23:40:56      5  \n",
       "1  2015-09-06 23:42:06     20  \n",
       "2  2015-09-06 23:43:13     14  \n",
       "3  2015-09-06 23:44:31     13  \n",
       "4  2015-09-06 23:45:30      5  "
      ]
     },
     "execution_count": 40,
     "metadata": {},
     "output_type": "execute_result"
    }
   ],
   "source": [
    "df_station.head()"
   ]
  }
 ],
 "metadata": {
  "kernelspec": {
   "display_name": "Python 3",
   "language": "python",
   "name": "python3"
  },
  "language_info": {
   "codemirror_mode": {
    "name": "ipython",
    "version": 3
   },
   "file_extension": ".py",
   "mimetype": "text/x-python",
   "name": "python",
   "nbconvert_exporter": "python",
   "pygments_lexer": "ipython3",
   "version": "3.7.4"
  },
  "toc": {
   "base_numbering": 1,
   "nav_menu": {},
   "number_sections": false,
   "sideBar": true,
   "skip_h1_title": true,
   "title_cell": "Table of Contents",
   "title_sidebar": "Contents",
   "toc_cell": true,
   "toc_position": {},
   "toc_section_display": true,
   "toc_window_display": true
  }
 },
 "nbformat": 4,
 "nbformat_minor": 2
}
