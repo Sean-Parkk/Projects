{
 "cells": [
  {
   "attachments": {},
   "cell_type": "markdown",
   "metadata": {},
   "source": [
    "# 빌릴 땐 마음대로지만 반납할 땐 아니란다\n",
    "by Sean Park, 20-04-16  \n",
    "[블로그](https://sean-parkk.github.io?utm_source=nbviewer&utm_medium=referral&utm_content=home)  \n",
    "[Github](https://github.com/Sean-Parkk)\n",
    "> *성수동에는 따릉이가 정말 많다.*  \n",
    "카페 거리, 서울숲 산책, 한강 자전거길 등 주변에 자전거로 즐길 콘텐츠가 많아서 일 것이다.  \n",
    "반면, 성수동에서 따릉이를 타고 본가인 쌍문동까지 가면, 따릉이를 반납할 곳이 참 없다고 느꼈었다.  \n",
    "**지역마다 따릉이 분포가 어떤지** 살펴보고, **어느 구역에 확충하면 좋을 지** 살펴보자.\n",
    "\n",
    "* 목적: 구별 따릉이 분포 분석하기"
   ]
  },
  {
   "cell_type": "markdown",
   "metadata": {
    "toc": true
   },
   "source": [
    "<h1>Table of Contents<span class=\"tocSkip\"></span></h1>\n",
    "<div class=\"toc\"><ul class=\"toc-item\"><li><span><a href=\"#1.-데이터-가져오기\" data-toc-modified-id=\"1.-데이터-가져오기-1\">1. 데이터 가져오기</a></span></li><li><span><a href=\"#2.-데이터-전처리\" data-toc-modified-id=\"2.-데이터-전처리-2\">2. 데이터 전처리</a></span><ul class=\"toc-item\"><li><span><a href=\"#2-1.-데이터-병합\" data-toc-modified-id=\"2-1.-데이터-병합-2.1\">2-1. 데이터 병합</a></span></li><li><span><a href=\"#2-2.-결측값-처리\" data-toc-modified-id=\"2-2.-결측값-처리-2.2\">2-2. 결측값 처리</a></span></li><li><span><a href=\"#2-3.-station컬럼-처리,-id컬럼-추가\" data-toc-modified-id=\"2-3.-station컬럼-처리,-id컬럼-추가-2.3\">2-3. station컬럼 처리, id컬럼 추가</a></span></li><li><span><a href=\"#2-4.-컬럼-형식-변경\" data-toc-modified-id=\"2-4.-컬럼-형식-변경-2.4\">2-4. 컬럼 형식 변경</a></span><ul class=\"toc-item\"><li><span><a href=\"#2-4-1.-df_bike\" data-toc-modified-id=\"2-4-1.-df_bike-2.4.1\">2-4-1. df_bike</a></span></li><li><span><a href=\"#2-4-2.-df_station\" data-toc-modified-id=\"2-4-2.-df_station-2.4.2\">2-4-2. df_station</a></span></li><li><span><a href=\"#2-4-3.-컬럼-순서-변경\" data-toc-modified-id=\"2-4-3.-컬럼-순서-변경-2.4.3\">2-4-3. 컬럼 순서 변경</a></span></li></ul></li></ul></li><li><span><a href=\"#3.-데이터-분석\" data-toc-modified-id=\"3.-데이터-분석-3\">3. 데이터 분석</a></span><ul class=\"toc-item\"><li><span><a href=\"#3-1.-따릉이가-많이-배치된-지역-찾기\" data-toc-modified-id=\"3-1.-따릉이가-많이-배치된-지역-찾기-3.1\">3-1. 따릉이가 많이 배치된 지역 찾기</a></span><ul class=\"toc-item\"><li><span><a href=\"#3-1-1.-가장-따릉이가-많이-배치된-대여소는?\" data-toc-modified-id=\"3-1-1.-가장-따릉이가-많이-배치된-대여소는?-3.1.1\">3-1-1. 가장 따릉이가 많이 배치된 대여소는?</a></span></li><li><span><a href=\"#3-1-2.-성동구-내-따릉이-분포-확인해보기\" data-toc-modified-id=\"3-1-2.-성동구-내-따릉이-분포-확인해보기-3.1.2\">3-1-2. 성동구 내 따릉이 분포 확인해보기</a></span></li></ul></li><li><span><a href=\"#3-2.-따릉이를-많이-대여,반납하는-지역-찾기\" data-toc-modified-id=\"3-2.-따릉이를-많이-대여,반납하는-지역-찾기-3.2\">3-2. 따릉이를 많이 대여,반납하는 지역 찾기</a></span><ul class=\"toc-item\"><li><span><a href=\"#3-2-1.-따릉이를-많이-대여하는-구역은?\" data-toc-modified-id=\"3-2-1.-따릉이를-많이-대여하는-구역은?-3.2.1\">3-2-1. 따릉이를 많이 대여하는 구역은?</a></span></li><li><span><a href=\"#3-2-2.-대여가-많으면-반납도-많을까?\" data-toc-modified-id=\"3-2-2.-대여가-많으면-반납도-많을까?-3.2.2\">3-2-2. 대여가 많으면 반납도 많을까?</a></span></li><li><span><a href=\"#3-2-3.-반납-대비-대여가-높은-대여소는?\" data-toc-modified-id=\"3-2-3.-반납-대비-대여가-높은-대여소는?-3.2.3\">3-2-3. 반납 대비 대여가 높은 대여소는?</a></span></li><li><span><a href=\"#3-2-3.-대여가-많은-지역-시각화하기\" data-toc-modified-id=\"3-2-3.-대여가-많은-지역-시각화하기-3.2.4\">3-2-3. 대여가 많은 지역 시각화하기</a></span><ul class=\"toc-item\"><li><span><a href=\"#3-2-3-1.-df_bike-+-df_station\" data-toc-modified-id=\"3-2-3-1.-df_bike-+-df_station-3.2.4.1\">3-2-3-1. df_bike + df_station</a></span></li><li><span><a href=\"#3-2-3-2.-시각화\" data-toc-modified-id=\"3-2-3-2.-시각화-3.2.4.2\">3-2-3-2. 시각화</a></span></li></ul></li></ul></li></ul></li><li><span><a href=\"#4.-결론\" data-toc-modified-id=\"4.-결론-4\">4. 결론</a></span></li></ul></div>"
   ]
  },
  {
   "cell_type": "markdown",
   "metadata": {},
   "source": [
    "## 1. 데이터 가져오기\n",
    "* 대여소 정보: [링크](https://data.seoul.go.kr/dataList/OA-13252/F/1/datasetView.do)\n",
    "    * 19.12.09 기준 데이터를 사용\n",
    "* 이용 정보: [링크](https://data.seoul.go.kr/dataList/OA-15249/F/1/datasetView.do)\n",
    "    * 18.12~19.11 간 데이터를 사용 (두 개의 파일 사용)"
   ]
  },
  {
   "cell_type": "code",
   "execution_count": 1,
   "metadata": {
    "ExecuteTime": {
     "end_time": "2020-05-04T04:27:31.062651Z",
     "start_time": "2020-05-04T04:27:22.548178Z"
    }
   },
   "outputs": [],
   "source": [
    "import pandas as pd\n",
    "import numpy as np\n",
    "import matplotlib.pyplot as plt\n",
    "import seaborn as sns\n",
    "plt.style.use('seaborn-whitegrid')\n",
    "import folium\n",
    "import googlemaps\n",
    "import warnings\n",
    "warnings.filterwarnings('ignore')"
   ]
  },
  {
   "cell_type": "code",
   "execution_count": 2,
   "metadata": {
    "ExecuteTime": {
     "end_time": "2020-05-04T04:27:31.066614Z",
     "start_time": "2020-05-04T04:27:31.063622Z"
    }
   },
   "outputs": [],
   "source": [
    "plt.rc('font', size=14)\n",
    "plt.rc('font', family='NanumGothic')"
   ]
  },
  {
   "cell_type": "code",
   "execution_count": 3,
   "metadata": {
    "ExecuteTime": {
     "end_time": "2020-05-04T04:27:34.691997Z",
     "start_time": "2020-05-04T04:27:31.068609Z"
    }
   },
   "outputs": [],
   "source": [
    "# 파일 불러오기\n",
    "df_rent1 = pd.read_excel('source/Seoulbike/공공자전거 대여소별 이용정보_201906_201911.xlsx', sheet_name='대여')\n",
    "df_rent2 = pd.read_excel('source/Seoulbike/공공자전거 대여소별 이용정보_201812_201905.xlsx', sheet_name='대여')\n",
    "df_return1 = pd.read_excel('source/Seoulbike/공공자전거 대여소별 이용정보_201906_201911.xlsx', sheet_name='반납')\n",
    "df_return2 = pd.read_excel('source/Seoulbike/공공자전거 대여소별 이용정보_201812_201905.xlsx', sheet_name='반납')\n",
    "df_station = pd.read_excel('source/Seoulbike/서울특별시 공공자전거 대여소 정보(19.12.9).xlsx')"
   ]
  },
  {
   "cell_type": "code",
   "execution_count": 4,
   "metadata": {
    "ExecuteTime": {
     "end_time": "2020-05-04T04:27:34.724840Z",
     "start_time": "2020-05-04T04:27:34.692896Z"
    }
   },
   "outputs": [
    {
     "data": {
      "text/html": [
       "<div>\n",
       "<style scoped>\n",
       "    .dataframe tbody tr th:only-of-type {\n",
       "        vertical-align: middle;\n",
       "    }\n",
       "\n",
       "    .dataframe tbody tr th {\n",
       "        vertical-align: top;\n",
       "    }\n",
       "\n",
       "    .dataframe thead th {\n",
       "        text-align: right;\n",
       "    }\n",
       "</style>\n",
       "<table border=\"1\" class=\"dataframe\">\n",
       "  <thead>\n",
       "    <tr style=\"text-align: right;\">\n",
       "      <th></th>\n",
       "      <th>대여소 그룹</th>\n",
       "      <th>대여소 명</th>\n",
       "      <th>대여 일자 / 월</th>\n",
       "      <th>대여 건수</th>\n",
       "    </tr>\n",
       "  </thead>\n",
       "  <tbody>\n",
       "    <tr>\n",
       "      <td>0</td>\n",
       "      <td>강남구</td>\n",
       "      <td>2301. 현대고등학교 건너편</td>\n",
       "      <td>201906</td>\n",
       "      <td>3909</td>\n",
       "    </tr>\n",
       "    <tr>\n",
       "      <td>1</td>\n",
       "      <td>강남구</td>\n",
       "      <td>2302. 교보타워 버스정류장(신논현역 3번출구 후면)</td>\n",
       "      <td>201906</td>\n",
       "      <td>2432</td>\n",
       "    </tr>\n",
       "    <tr>\n",
       "      <td>2</td>\n",
       "      <td>강남구</td>\n",
       "      <td>2303. 논현역 7번출구</td>\n",
       "      <td>201906</td>\n",
       "      <td>1567</td>\n",
       "    </tr>\n",
       "  </tbody>\n",
       "</table>\n",
       "</div>"
      ],
      "text/plain": [
       "  대여소 그룹                           대여소 명  대여 일자 / 월  대여 건수\n",
       "0    강남구                2301. 현대고등학교 건너편     201906   3909\n",
       "1    강남구  2302. 교보타워 버스정류장(신논현역 3번출구 후면)     201906   2432\n",
       "2    강남구                  2303. 논현역 7번출구     201906   1567"
      ]
     },
     "execution_count": 4,
     "metadata": {},
     "output_type": "execute_result"
    }
   ],
   "source": [
    "df_rent1.head(3)"
   ]
  },
  {
   "cell_type": "code",
   "execution_count": 5,
   "metadata": {
    "ExecuteTime": {
     "end_time": "2020-05-04T04:27:34.732790Z",
     "start_time": "2020-05-04T04:27:34.725809Z"
    }
   },
   "outputs": [
    {
     "data": {
      "text/html": [
       "<div>\n",
       "<style scoped>\n",
       "    .dataframe tbody tr th:only-of-type {\n",
       "        vertical-align: middle;\n",
       "    }\n",
       "\n",
       "    .dataframe tbody tr th {\n",
       "        vertical-align: top;\n",
       "    }\n",
       "\n",
       "    .dataframe thead th {\n",
       "        text-align: right;\n",
       "    }\n",
       "</style>\n",
       "<table border=\"1\" class=\"dataframe\">\n",
       "  <thead>\n",
       "    <tr style=\"text-align: right;\">\n",
       "      <th></th>\n",
       "      <th>대여소 그룹</th>\n",
       "      <th>대여소 명</th>\n",
       "      <th>대여 일자 / 월</th>\n",
       "      <th>대여 건수</th>\n",
       "    </tr>\n",
       "  </thead>\n",
       "  <tbody>\n",
       "    <tr>\n",
       "      <td>9269</td>\n",
       "      <td>중랑구</td>\n",
       "      <td>1457. 동원사거리</td>\n",
       "      <td>201911</td>\n",
       "      <td>577</td>\n",
       "    </tr>\n",
       "    <tr>\n",
       "      <td>9270</td>\n",
       "      <td>중랑구</td>\n",
       "      <td>1458. 상봉터미널2</td>\n",
       "      <td>201911</td>\n",
       "      <td>1243</td>\n",
       "    </tr>\n",
       "    <tr>\n",
       "      <td>9271</td>\n",
       "      <td>중랑구</td>\n",
       "      <td>1459. 용마한신아파트사거리</td>\n",
       "      <td>201911</td>\n",
       "      <td>339</td>\n",
       "    </tr>\n",
       "  </tbody>\n",
       "</table>\n",
       "</div>"
      ],
      "text/plain": [
       "     대여소 그룹             대여소 명  대여 일자 / 월  대여 건수\n",
       "9269    중랑구       1457. 동원사거리     201911    577\n",
       "9270    중랑구      1458. 상봉터미널2     201911   1243\n",
       "9271    중랑구  1459. 용마한신아파트사거리     201911    339"
      ]
     },
     "execution_count": 5,
     "metadata": {},
     "output_type": "execute_result"
    }
   ],
   "source": [
    "df_rent1.tail(3)"
   ]
  },
  {
   "cell_type": "code",
   "execution_count": 6,
   "metadata": {
    "ExecuteTime": {
     "end_time": "2020-05-04T04:27:34.742763Z",
     "start_time": "2020-05-04T04:27:34.734785Z"
    }
   },
   "outputs": [
    {
     "data": {
      "text/html": [
       "<div>\n",
       "<style scoped>\n",
       "    .dataframe tbody tr th:only-of-type {\n",
       "        vertical-align: middle;\n",
       "    }\n",
       "\n",
       "    .dataframe tbody tr th {\n",
       "        vertical-align: top;\n",
       "    }\n",
       "\n",
       "    .dataframe thead th {\n",
       "        text-align: right;\n",
       "    }\n",
       "</style>\n",
       "<table border=\"1\" class=\"dataframe\">\n",
       "  <thead>\n",
       "    <tr style=\"text-align: right;\">\n",
       "      <th></th>\n",
       "      <th>구분</th>\n",
       "      <th>대여소명</th>\n",
       "      <th>대여일자</th>\n",
       "      <th>대여건수</th>\n",
       "    </tr>\n",
       "  </thead>\n",
       "  <tbody>\n",
       "    <tr>\n",
       "      <td>0</td>\n",
       "      <td>강남구</td>\n",
       "      <td>2301. 현대고등학교 건너편</td>\n",
       "      <td>201812.0</td>\n",
       "      <td>364.0</td>\n",
       "    </tr>\n",
       "    <tr>\n",
       "      <td>1</td>\n",
       "      <td>강남구</td>\n",
       "      <td>2302. 교보타워 버스정류장(신논현역 3번출구 후면)</td>\n",
       "      <td>201812.0</td>\n",
       "      <td>500.0</td>\n",
       "    </tr>\n",
       "    <tr>\n",
       "      <td>2</td>\n",
       "      <td>강남구</td>\n",
       "      <td>2303. 논현역 7번출구</td>\n",
       "      <td>201812.0</td>\n",
       "      <td>286.0</td>\n",
       "    </tr>\n",
       "  </tbody>\n",
       "</table>\n",
       "</div>"
      ],
      "text/plain": [
       "    구분                            대여소명      대여일자   대여건수\n",
       "0  강남구                2301. 현대고등학교 건너편  201812.0  364.0\n",
       "1  강남구  2302. 교보타워 버스정류장(신논현역 3번출구 후면)  201812.0  500.0\n",
       "2  강남구                  2303. 논현역 7번출구  201812.0  286.0"
      ]
     },
     "execution_count": 6,
     "metadata": {},
     "output_type": "execute_result"
    }
   ],
   "source": [
    "df_rent2.head(3)"
   ]
  },
  {
   "cell_type": "code",
   "execution_count": 7,
   "metadata": {
    "ExecuteTime": {
     "end_time": "2020-05-04T04:27:34.754731Z",
     "start_time": "2020-05-04T04:27:34.743761Z"
    }
   },
   "outputs": [
    {
     "data": {
      "text/html": [
       "<div>\n",
       "<style scoped>\n",
       "    .dataframe tbody tr th:only-of-type {\n",
       "        vertical-align: middle;\n",
       "    }\n",
       "\n",
       "    .dataframe tbody tr th {\n",
       "        vertical-align: top;\n",
       "    }\n",
       "\n",
       "    .dataframe thead th {\n",
       "        text-align: right;\n",
       "    }\n",
       "</style>\n",
       "<table border=\"1\" class=\"dataframe\">\n",
       "  <thead>\n",
       "    <tr style=\"text-align: right;\">\n",
       "      <th></th>\n",
       "      <th>구분</th>\n",
       "      <th>대여소명</th>\n",
       "      <th>대여일자</th>\n",
       "      <th>대여건수</th>\n",
       "    </tr>\n",
       "  </thead>\n",
       "  <tbody>\n",
       "    <tr>\n",
       "      <td>9186</td>\n",
       "      <td>중랑구</td>\n",
       "      <td>1457. 동원사거리</td>\n",
       "      <td>201905.0</td>\n",
       "      <td>827.0</td>\n",
       "    </tr>\n",
       "    <tr>\n",
       "      <td>9187</td>\n",
       "      <td>중랑구</td>\n",
       "      <td>1458. 상봉터미널2</td>\n",
       "      <td>201905.0</td>\n",
       "      <td>1421.0</td>\n",
       "    </tr>\n",
       "    <tr>\n",
       "      <td>9188</td>\n",
       "      <td>중랑구</td>\n",
       "      <td>1459. 용마한신아파트사거리</td>\n",
       "      <td>201905.0</td>\n",
       "      <td>447.0</td>\n",
       "    </tr>\n",
       "  </tbody>\n",
       "</table>\n",
       "</div>"
      ],
      "text/plain": [
       "       구분              대여소명      대여일자    대여건수\n",
       "9186  중랑구       1457. 동원사거리  201905.0   827.0\n",
       "9187  중랑구      1458. 상봉터미널2  201905.0  1421.0\n",
       "9188  중랑구  1459. 용마한신아파트사거리  201905.0   447.0"
      ]
     },
     "execution_count": 7,
     "metadata": {},
     "output_type": "execute_result"
    }
   ],
   "source": [
    "df_rent2.tail(3)"
   ]
  },
  {
   "cell_type": "code",
   "execution_count": 8,
   "metadata": {
    "ExecuteTime": {
     "end_time": "2020-05-04T04:27:34.762738Z",
     "start_time": "2020-05-04T04:27:34.756726Z"
    }
   },
   "outputs": [
    {
     "data": {
      "text/html": [
       "<div>\n",
       "<style scoped>\n",
       "    .dataframe tbody tr th:only-of-type {\n",
       "        vertical-align: middle;\n",
       "    }\n",
       "\n",
       "    .dataframe tbody tr th {\n",
       "        vertical-align: top;\n",
       "    }\n",
       "\n",
       "    .dataframe thead th {\n",
       "        text-align: right;\n",
       "    }\n",
       "</style>\n",
       "<table border=\"1\" class=\"dataframe\">\n",
       "  <thead>\n",
       "    <tr style=\"text-align: right;\">\n",
       "      <th></th>\n",
       "      <th>대여소 그룹</th>\n",
       "      <th>대여소 명</th>\n",
       "      <th>반납 일자 / 월</th>\n",
       "      <th>반납 건수</th>\n",
       "    </tr>\n",
       "  </thead>\n",
       "  <tbody>\n",
       "    <tr>\n",
       "      <td>0</td>\n",
       "      <td>강남구</td>\n",
       "      <td>2301. 현대고등학교 건너편</td>\n",
       "      <td>201906</td>\n",
       "      <td>4072</td>\n",
       "    </tr>\n",
       "    <tr>\n",
       "      <td>1</td>\n",
       "      <td>강남구</td>\n",
       "      <td>2302. 교보타워 버스정류장(신논현역 3번출구 후면)</td>\n",
       "      <td>201906</td>\n",
       "      <td>2382</td>\n",
       "    </tr>\n",
       "    <tr>\n",
       "      <td>2</td>\n",
       "      <td>강남구</td>\n",
       "      <td>2303. 논현역 7번출구</td>\n",
       "      <td>201906</td>\n",
       "      <td>1402</td>\n",
       "    </tr>\n",
       "  </tbody>\n",
       "</table>\n",
       "</div>"
      ],
      "text/plain": [
       "  대여소 그룹                           대여소 명  반납 일자 / 월  반납 건수\n",
       "0    강남구                2301. 현대고등학교 건너편     201906   4072\n",
       "1    강남구  2302. 교보타워 버스정류장(신논현역 3번출구 후면)     201906   2382\n",
       "2    강남구                  2303. 논현역 7번출구     201906   1402"
      ]
     },
     "execution_count": 8,
     "metadata": {},
     "output_type": "execute_result"
    }
   ],
   "source": [
    "df_return1.head(3)"
   ]
  },
  {
   "cell_type": "code",
   "execution_count": 9,
   "metadata": {
    "ExecuteTime": {
     "end_time": "2020-05-04T04:27:34.771686Z",
     "start_time": "2020-05-04T04:27:34.763708Z"
    }
   },
   "outputs": [
    {
     "data": {
      "text/html": [
       "<div>\n",
       "<style scoped>\n",
       "    .dataframe tbody tr th:only-of-type {\n",
       "        vertical-align: middle;\n",
       "    }\n",
       "\n",
       "    .dataframe tbody tr th {\n",
       "        vertical-align: top;\n",
       "    }\n",
       "\n",
       "    .dataframe thead th {\n",
       "        text-align: right;\n",
       "    }\n",
       "</style>\n",
       "<table border=\"1\" class=\"dataframe\">\n",
       "  <thead>\n",
       "    <tr style=\"text-align: right;\">\n",
       "      <th></th>\n",
       "      <th>대여소 그룹</th>\n",
       "      <th>대여소 명</th>\n",
       "      <th>반납 일자 / 월</th>\n",
       "      <th>반납 건수</th>\n",
       "    </tr>\n",
       "  </thead>\n",
       "  <tbody>\n",
       "    <tr>\n",
       "      <td>9270</td>\n",
       "      <td>중랑구</td>\n",
       "      <td>1457. 동원사거리</td>\n",
       "      <td>201911</td>\n",
       "      <td>572</td>\n",
       "    </tr>\n",
       "    <tr>\n",
       "      <td>9271</td>\n",
       "      <td>중랑구</td>\n",
       "      <td>1458. 상봉터미널2</td>\n",
       "      <td>201911</td>\n",
       "      <td>1305</td>\n",
       "    </tr>\n",
       "    <tr>\n",
       "      <td>9272</td>\n",
       "      <td>중랑구</td>\n",
       "      <td>1459. 용마한신아파트사거리</td>\n",
       "      <td>201911</td>\n",
       "      <td>316</td>\n",
       "    </tr>\n",
       "  </tbody>\n",
       "</table>\n",
       "</div>"
      ],
      "text/plain": [
       "     대여소 그룹             대여소 명  반납 일자 / 월  반납 건수\n",
       "9270    중랑구       1457. 동원사거리     201911    572\n",
       "9271    중랑구      1458. 상봉터미널2     201911   1305\n",
       "9272    중랑구  1459. 용마한신아파트사거리     201911    316"
      ]
     },
     "execution_count": 9,
     "metadata": {},
     "output_type": "execute_result"
    }
   ],
   "source": [
    "df_return1.tail(3)"
   ]
  },
  {
   "cell_type": "code",
   "execution_count": 10,
   "metadata": {
    "ExecuteTime": {
     "end_time": "2020-05-04T04:27:34.780662Z",
     "start_time": "2020-05-04T04:27:34.772684Z"
    }
   },
   "outputs": [
    {
     "data": {
      "text/html": [
       "<div>\n",
       "<style scoped>\n",
       "    .dataframe tbody tr th:only-of-type {\n",
       "        vertical-align: middle;\n",
       "    }\n",
       "\n",
       "    .dataframe tbody tr th {\n",
       "        vertical-align: top;\n",
       "    }\n",
       "\n",
       "    .dataframe thead th {\n",
       "        text-align: right;\n",
       "    }\n",
       "</style>\n",
       "<table border=\"1\" class=\"dataframe\">\n",
       "  <thead>\n",
       "    <tr style=\"text-align: right;\">\n",
       "      <th></th>\n",
       "      <th>구분</th>\n",
       "      <th>대여소명</th>\n",
       "      <th>반납일자</th>\n",
       "      <th>반납건수</th>\n",
       "    </tr>\n",
       "  </thead>\n",
       "  <tbody>\n",
       "    <tr>\n",
       "      <td>0</td>\n",
       "      <td>강남구</td>\n",
       "      <td>2301. 현대고등학교 건너편</td>\n",
       "      <td>201812.0</td>\n",
       "      <td>437.0</td>\n",
       "    </tr>\n",
       "    <tr>\n",
       "      <td>1</td>\n",
       "      <td>강남구</td>\n",
       "      <td>2302. 교보타워 버스정류장(신논현역 3번출구 후면)</td>\n",
       "      <td>201812.0</td>\n",
       "      <td>556.0</td>\n",
       "    </tr>\n",
       "    <tr>\n",
       "      <td>2</td>\n",
       "      <td>강남구</td>\n",
       "      <td>2303. 논현역 7번출구</td>\n",
       "      <td>201812.0</td>\n",
       "      <td>273.0</td>\n",
       "    </tr>\n",
       "  </tbody>\n",
       "</table>\n",
       "</div>"
      ],
      "text/plain": [
       "    구분                            대여소명      반납일자   반납건수\n",
       "0  강남구                2301. 현대고등학교 건너편  201812.0  437.0\n",
       "1  강남구  2302. 교보타워 버스정류장(신논현역 3번출구 후면)  201812.0  556.0\n",
       "2  강남구                  2303. 논현역 7번출구  201812.0  273.0"
      ]
     },
     "execution_count": 10,
     "metadata": {},
     "output_type": "execute_result"
    }
   ],
   "source": [
    "df_return2.head(3)"
   ]
  },
  {
   "cell_type": "code",
   "execution_count": 11,
   "metadata": {
    "ExecuteTime": {
     "end_time": "2020-05-04T04:27:34.789638Z",
     "start_time": "2020-05-04T04:27:34.781659Z"
    }
   },
   "outputs": [
    {
     "data": {
      "text/html": [
       "<div>\n",
       "<style scoped>\n",
       "    .dataframe tbody tr th:only-of-type {\n",
       "        vertical-align: middle;\n",
       "    }\n",
       "\n",
       "    .dataframe tbody tr th {\n",
       "        vertical-align: top;\n",
       "    }\n",
       "\n",
       "    .dataframe thead th {\n",
       "        text-align: right;\n",
       "    }\n",
       "</style>\n",
       "<table border=\"1\" class=\"dataframe\">\n",
       "  <thead>\n",
       "    <tr style=\"text-align: right;\">\n",
       "      <th></th>\n",
       "      <th>구분</th>\n",
       "      <th>대여소명</th>\n",
       "      <th>반납일자</th>\n",
       "      <th>반납건수</th>\n",
       "    </tr>\n",
       "  </thead>\n",
       "  <tbody>\n",
       "    <tr>\n",
       "      <td>9186</td>\n",
       "      <td>중랑구</td>\n",
       "      <td>1457. 동원사거리</td>\n",
       "      <td>201905.0</td>\n",
       "      <td>749.0</td>\n",
       "    </tr>\n",
       "    <tr>\n",
       "      <td>9187</td>\n",
       "      <td>중랑구</td>\n",
       "      <td>1458. 상봉터미널2</td>\n",
       "      <td>201905.0</td>\n",
       "      <td>1492.0</td>\n",
       "    </tr>\n",
       "    <tr>\n",
       "      <td>9188</td>\n",
       "      <td>중랑구</td>\n",
       "      <td>1459. 용마한신아파트사거리</td>\n",
       "      <td>201905.0</td>\n",
       "      <td>320.0</td>\n",
       "    </tr>\n",
       "  </tbody>\n",
       "</table>\n",
       "</div>"
      ],
      "text/plain": [
       "       구분              대여소명      반납일자    반납건수\n",
       "9186  중랑구       1457. 동원사거리  201905.0   749.0\n",
       "9187  중랑구      1458. 상봉터미널2  201905.0  1492.0\n",
       "9188  중랑구  1459. 용마한신아파트사거리  201905.0   320.0"
      ]
     },
     "execution_count": 11,
     "metadata": {},
     "output_type": "execute_result"
    }
   ],
   "source": [
    "df_return2.tail(3)"
   ]
  },
  {
   "cell_type": "code",
   "execution_count": 12,
   "metadata": {
    "ExecuteTime": {
     "end_time": "2020-05-04T04:27:34.800609Z",
     "start_time": "2020-05-04T04:27:34.790635Z"
    }
   },
   "outputs": [
    {
     "data": {
      "text/html": [
       "<div>\n",
       "<style scoped>\n",
       "    .dataframe tbody tr th:only-of-type {\n",
       "        vertical-align: middle;\n",
       "    }\n",
       "\n",
       "    .dataframe tbody tr th {\n",
       "        vertical-align: top;\n",
       "    }\n",
       "\n",
       "    .dataframe thead th {\n",
       "        text-align: right;\n",
       "    }\n",
       "</style>\n",
       "<table border=\"1\" class=\"dataframe\">\n",
       "  <thead>\n",
       "    <tr style=\"text-align: right;\">\n",
       "      <th></th>\n",
       "      <th>대여소_구</th>\n",
       "      <th>대여소ID</th>\n",
       "      <th>대여소명</th>\n",
       "      <th>대여소주소</th>\n",
       "      <th>위도</th>\n",
       "      <th>경도</th>\n",
       "      <th>기준시작일자</th>\n",
       "      <th>거치대수</th>\n",
       "    </tr>\n",
       "  </thead>\n",
       "  <tbody>\n",
       "    <tr>\n",
       "      <td>0</td>\n",
       "      <td>마포구</td>\n",
       "      <td>101.0</td>\n",
       "      <td>101. (구)합정동 주민센터</td>\n",
       "      <td>서울특별시 마포구 동교로8길 58</td>\n",
       "      <td>37.549561</td>\n",
       "      <td>126.905754</td>\n",
       "      <td>2015-09-06 23:40:56</td>\n",
       "      <td>5</td>\n",
       "    </tr>\n",
       "    <tr>\n",
       "      <td>1</td>\n",
       "      <td>마포구</td>\n",
       "      <td>102.0</td>\n",
       "      <td>102. 망원역 1번출구 앞</td>\n",
       "      <td>서울특별시 마포구 월드컵로 72</td>\n",
       "      <td>37.555649</td>\n",
       "      <td>126.910629</td>\n",
       "      <td>2015-09-06 23:42:06</td>\n",
       "      <td>20</td>\n",
       "    </tr>\n",
       "    <tr>\n",
       "      <td>2</td>\n",
       "      <td>마포구</td>\n",
       "      <td>103.0</td>\n",
       "      <td>103. 망원역 2번출구 앞</td>\n",
       "      <td>서울특별시 마포구 월드컵로 79</td>\n",
       "      <td>37.554951</td>\n",
       "      <td>126.910835</td>\n",
       "      <td>2015-09-06 23:43:13</td>\n",
       "      <td>14</td>\n",
       "    </tr>\n",
       "  </tbody>\n",
       "</table>\n",
       "</div>"
      ],
      "text/plain": [
       "  대여소_구  대여소ID              대여소명               대여소주소         위도          경도  \\\n",
       "0   마포구  101.0  101. (구)합정동 주민센터  서울특별시 마포구 동교로8길 58  37.549561  126.905754   \n",
       "1   마포구  102.0   102. 망원역 1번출구 앞   서울특별시 마포구 월드컵로 72  37.555649  126.910629   \n",
       "2   마포구  103.0   103. 망원역 2번출구 앞   서울특별시 마포구 월드컵로 79  37.554951  126.910835   \n",
       "\n",
       "                기준시작일자  거치대수  \n",
       "0  2015-09-06 23:40:56     5  \n",
       "1  2015-09-06 23:42:06    20  \n",
       "2  2015-09-06 23:43:13    14  "
      ]
     },
     "execution_count": 12,
     "metadata": {},
     "output_type": "execute_result"
    }
   ],
   "source": [
    "df_station.head(3)"
   ]
  },
  {
   "cell_type": "code",
   "execution_count": 13,
   "metadata": {
    "ExecuteTime": {
     "end_time": "2020-05-04T04:27:34.811579Z",
     "start_time": "2020-05-04T04:27:34.802603Z"
    }
   },
   "outputs": [
    {
     "data": {
      "text/html": [
       "<div>\n",
       "<style scoped>\n",
       "    .dataframe tbody tr th:only-of-type {\n",
       "        vertical-align: middle;\n",
       "    }\n",
       "\n",
       "    .dataframe tbody tr th {\n",
       "        vertical-align: top;\n",
       "    }\n",
       "\n",
       "    .dataframe thead th {\n",
       "        text-align: right;\n",
       "    }\n",
       "</style>\n",
       "<table border=\"1\" class=\"dataframe\">\n",
       "  <thead>\n",
       "    <tr style=\"text-align: right;\">\n",
       "      <th></th>\n",
       "      <th>대여소_구</th>\n",
       "      <th>대여소ID</th>\n",
       "      <th>대여소명</th>\n",
       "      <th>대여소주소</th>\n",
       "      <th>위도</th>\n",
       "      <th>경도</th>\n",
       "      <th>기준시작일자</th>\n",
       "      <th>거치대수</th>\n",
       "    </tr>\n",
       "  </thead>\n",
       "  <tbody>\n",
       "    <tr>\n",
       "      <td>1538</td>\n",
       "      <td>종로구</td>\n",
       "      <td>465.0</td>\n",
       "      <td>465. 삼청공원 앞</td>\n",
       "      <td>서울특별시 종로구 삼청동 25-32</td>\n",
       "      <td>37.587605</td>\n",
       "      <td>126.983597</td>\n",
       "      <td>2019.11.20</td>\n",
       "      <td>5</td>\n",
       "    </tr>\n",
       "    <tr>\n",
       "      <td>1539</td>\n",
       "      <td>종로구</td>\n",
       "      <td>664.0</td>\n",
       "      <td>서울시립대 대학본부</td>\n",
       "      <td>동대문구 서울시립대로 163 서울시립대학교</td>\n",
       "      <td>37.584129</td>\n",
       "      <td>127.057938</td>\n",
       "      <td>2019.11.20</td>\n",
       "      <td>10</td>\n",
       "    </tr>\n",
       "    <tr>\n",
       "      <td>1540</td>\n",
       "      <td>합계</td>\n",
       "      <td>NaN</td>\n",
       "      <td>1540</td>\n",
       "      <td>NaN</td>\n",
       "      <td>NaN</td>\n",
       "      <td>NaN</td>\n",
       "      <td>NaN</td>\n",
       "      <td>19545</td>\n",
       "    </tr>\n",
       "  </tbody>\n",
       "</table>\n",
       "</div>"
      ],
      "text/plain": [
       "     대여소_구  대여소ID         대여소명                    대여소주소         위도  \\\n",
       "1538   종로구  465.0  465. 삼청공원 앞      서울특별시 종로구 삼청동 25-32  37.587605   \n",
       "1539   종로구  664.0   서울시립대 대학본부  동대문구 서울시립대로 163 서울시립대학교  37.584129   \n",
       "1540    합계    NaN         1540                      NaN        NaN   \n",
       "\n",
       "              경도      기준시작일자   거치대수  \n",
       "1538  126.983597  2019.11.20      5  \n",
       "1539  127.057938  2019.11.20     10  \n",
       "1540         NaN         NaN  19545  "
      ]
     },
     "execution_count": 13,
     "metadata": {},
     "output_type": "execute_result"
    }
   ],
   "source": [
    "df_station.tail(3)"
   ]
  },
  {
   "cell_type": "markdown",
   "metadata": {},
   "source": [
    "* station 마지막 레코드인 합계를 지워주자."
   ]
  },
  {
   "cell_type": "code",
   "execution_count": 14,
   "metadata": {
    "ExecuteTime": {
     "end_time": "2020-05-04T04:27:34.817563Z",
     "start_time": "2020-05-04T04:27:34.813574Z"
    }
   },
   "outputs": [],
   "source": [
    "df_station.drop(1540, axis=0, inplace=True)"
   ]
  },
  {
   "cell_type": "markdown",
   "metadata": {},
   "source": [
    "## 2. 데이터 전처리"
   ]
  },
  {
   "cell_type": "markdown",
   "metadata": {},
   "source": [
    "### 2-1. 데이터 병합"
   ]
  },
  {
   "cell_type": "markdown",
   "metadata": {},
   "source": [
    "* 서로 컬럼명이 다름, 병합을 위해 컬럼명을 맞춰줘야함\n",
    "* 코딩 편의를 위해 컬럼명 영어로 통일하기!\n",
    "    * 한글명은 한영키를 한 번 더 눌러줘야해서 오타 확률이 더 높은듯"
   ]
  },
  {
   "cell_type": "code",
   "execution_count": 15,
   "metadata": {
    "ExecuteTime": {
     "end_time": "2020-05-04T04:27:34.822550Z",
     "start_time": "2020-05-04T04:27:34.818561Z"
    }
   },
   "outputs": [
    {
     "name": "stdout",
     "output_type": "stream",
     "text": [
      "(9272, 4) \n",
      " (9189, 4)\n"
     ]
    }
   ],
   "source": [
    "# 데이터 형태 출력\n",
    "print(df_rent1.shape,'\\n',df_rent2.shape)"
   ]
  },
  {
   "cell_type": "code",
   "execution_count": 16,
   "metadata": {
    "ExecuteTime": {
     "end_time": "2020-05-04T04:27:34.834518Z",
     "start_time": "2020-05-04T04:27:34.823547Z"
    }
   },
   "outputs": [
    {
     "name": "stdout",
     "output_type": "stream",
     "text": [
      "(18461, 4)\n"
     ]
    },
    {
     "data": {
      "text/html": [
       "<div>\n",
       "<style scoped>\n",
       "    .dataframe tbody tr th:only-of-type {\n",
       "        vertical-align: middle;\n",
       "    }\n",
       "\n",
       "    .dataframe tbody tr th {\n",
       "        vertical-align: top;\n",
       "    }\n",
       "\n",
       "    .dataframe thead th {\n",
       "        text-align: right;\n",
       "    }\n",
       "</style>\n",
       "<table border=\"1\" class=\"dataframe\">\n",
       "  <thead>\n",
       "    <tr style=\"text-align: right;\">\n",
       "      <th></th>\n",
       "      <th>district</th>\n",
       "      <th>station</th>\n",
       "      <th>date</th>\n",
       "      <th>count</th>\n",
       "    </tr>\n",
       "  </thead>\n",
       "  <tbody>\n",
       "    <tr>\n",
       "      <td>0</td>\n",
       "      <td>강남구</td>\n",
       "      <td>2301. 현대고등학교 건너편</td>\n",
       "      <td>201906.0</td>\n",
       "      <td>3909.0</td>\n",
       "    </tr>\n",
       "    <tr>\n",
       "      <td>1</td>\n",
       "      <td>강남구</td>\n",
       "      <td>2302. 교보타워 버스정류장(신논현역 3번출구 후면)</td>\n",
       "      <td>201906.0</td>\n",
       "      <td>2432.0</td>\n",
       "    </tr>\n",
       "    <tr>\n",
       "      <td>2</td>\n",
       "      <td>강남구</td>\n",
       "      <td>2303. 논현역 7번출구</td>\n",
       "      <td>201906.0</td>\n",
       "      <td>1567.0</td>\n",
       "    </tr>\n",
       "    <tr>\n",
       "      <td>3</td>\n",
       "      <td>강남구</td>\n",
       "      <td>2304. 신영 ROYAL PALACE 앞</td>\n",
       "      <td>201906.0</td>\n",
       "      <td>559.0</td>\n",
       "    </tr>\n",
       "    <tr>\n",
       "      <td>4</td>\n",
       "      <td>강남구</td>\n",
       "      <td>2305. MCM 본사 직영점 앞</td>\n",
       "      <td>201906.0</td>\n",
       "      <td>730.0</td>\n",
       "    </tr>\n",
       "  </tbody>\n",
       "</table>\n",
       "</div>"
      ],
      "text/plain": [
       "  district                         station      date   count\n",
       "0      강남구                2301. 현대고등학교 건너편  201906.0  3909.0\n",
       "1      강남구  2302. 교보타워 버스정류장(신논현역 3번출구 후면)  201906.0  2432.0\n",
       "2      강남구                  2303. 논현역 7번출구  201906.0  1567.0\n",
       "3      강남구         2304. 신영 ROYAL PALACE 앞  201906.0   559.0\n",
       "4      강남구              2305. MCM 본사 직영점 앞  201906.0   730.0"
      ]
     },
     "execution_count": 16,
     "metadata": {},
     "output_type": "execute_result"
    }
   ],
   "source": [
    "# 컬럼명 변경, 데이터 합치기\n",
    "df_rent1.columns=['district','station','date','count']\n",
    "df_rent2.columns=['district','station','date','count']\n",
    "df_rent = pd.concat([df_rent1, df_rent2])\n",
    "print(df_rent.shape)\n",
    "df_rent.head()"
   ]
  },
  {
   "cell_type": "markdown",
   "metadata": {},
   "source": [
    "* 이번엔 반납 데이터를 확인해보자!"
   ]
  },
  {
   "cell_type": "code",
   "execution_count": 17,
   "metadata": {
    "ExecuteTime": {
     "end_time": "2020-05-04T04:27:34.842496Z",
     "start_time": "2020-05-04T04:27:34.835515Z"
    }
   },
   "outputs": [
    {
     "data": {
      "text/html": [
       "<div>\n",
       "<style scoped>\n",
       "    .dataframe tbody tr th:only-of-type {\n",
       "        vertical-align: middle;\n",
       "    }\n",
       "\n",
       "    .dataframe tbody tr th {\n",
       "        vertical-align: top;\n",
       "    }\n",
       "\n",
       "    .dataframe thead th {\n",
       "        text-align: right;\n",
       "    }\n",
       "</style>\n",
       "<table border=\"1\" class=\"dataframe\">\n",
       "  <thead>\n",
       "    <tr style=\"text-align: right;\">\n",
       "      <th></th>\n",
       "      <th>대여소 그룹</th>\n",
       "      <th>대여소 명</th>\n",
       "      <th>반납 일자 / 월</th>\n",
       "      <th>반납 건수</th>\n",
       "    </tr>\n",
       "  </thead>\n",
       "  <tbody>\n",
       "    <tr>\n",
       "      <td>0</td>\n",
       "      <td>강남구</td>\n",
       "      <td>2301. 현대고등학교 건너편</td>\n",
       "      <td>201906</td>\n",
       "      <td>4072</td>\n",
       "    </tr>\n",
       "    <tr>\n",
       "      <td>1</td>\n",
       "      <td>강남구</td>\n",
       "      <td>2302. 교보타워 버스정류장(신논현역 3번출구 후면)</td>\n",
       "      <td>201906</td>\n",
       "      <td>2382</td>\n",
       "    </tr>\n",
       "    <tr>\n",
       "      <td>2</td>\n",
       "      <td>강남구</td>\n",
       "      <td>2303. 논현역 7번출구</td>\n",
       "      <td>201906</td>\n",
       "      <td>1402</td>\n",
       "    </tr>\n",
       "    <tr>\n",
       "      <td>3</td>\n",
       "      <td>강남구</td>\n",
       "      <td>2304. 신영 ROYAL PALACE 앞</td>\n",
       "      <td>201906</td>\n",
       "      <td>207</td>\n",
       "    </tr>\n",
       "    <tr>\n",
       "      <td>4</td>\n",
       "      <td>강남구</td>\n",
       "      <td>2305. MCM 본사 직영점 앞</td>\n",
       "      <td>201906</td>\n",
       "      <td>905</td>\n",
       "    </tr>\n",
       "  </tbody>\n",
       "</table>\n",
       "</div>"
      ],
      "text/plain": [
       "  대여소 그룹                           대여소 명  반납 일자 / 월  반납 건수\n",
       "0    강남구                2301. 현대고등학교 건너편     201906   4072\n",
       "1    강남구  2302. 교보타워 버스정류장(신논현역 3번출구 후면)     201906   2382\n",
       "2    강남구                  2303. 논현역 7번출구     201906   1402\n",
       "3    강남구         2304. 신영 ROYAL PALACE 앞     201906    207\n",
       "4    강남구              2305. MCM 본사 직영점 앞     201906    905"
      ]
     },
     "execution_count": 17,
     "metadata": {},
     "output_type": "execute_result"
    }
   ],
   "source": [
    "df_return1.head()"
   ]
  },
  {
   "cell_type": "code",
   "execution_count": 18,
   "metadata": {
    "ExecuteTime": {
     "end_time": "2020-05-04T04:27:34.851472Z",
     "start_time": "2020-05-04T04:27:34.843494Z"
    }
   },
   "outputs": [
    {
     "data": {
      "text/html": [
       "<div>\n",
       "<style scoped>\n",
       "    .dataframe tbody tr th:only-of-type {\n",
       "        vertical-align: middle;\n",
       "    }\n",
       "\n",
       "    .dataframe tbody tr th {\n",
       "        vertical-align: top;\n",
       "    }\n",
       "\n",
       "    .dataframe thead th {\n",
       "        text-align: right;\n",
       "    }\n",
       "</style>\n",
       "<table border=\"1\" class=\"dataframe\">\n",
       "  <thead>\n",
       "    <tr style=\"text-align: right;\">\n",
       "      <th></th>\n",
       "      <th>구분</th>\n",
       "      <th>대여소명</th>\n",
       "      <th>반납일자</th>\n",
       "      <th>반납건수</th>\n",
       "    </tr>\n",
       "  </thead>\n",
       "  <tbody>\n",
       "    <tr>\n",
       "      <td>0</td>\n",
       "      <td>강남구</td>\n",
       "      <td>2301. 현대고등학교 건너편</td>\n",
       "      <td>201812.0</td>\n",
       "      <td>437.0</td>\n",
       "    </tr>\n",
       "    <tr>\n",
       "      <td>1</td>\n",
       "      <td>강남구</td>\n",
       "      <td>2302. 교보타워 버스정류장(신논현역 3번출구 후면)</td>\n",
       "      <td>201812.0</td>\n",
       "      <td>556.0</td>\n",
       "    </tr>\n",
       "    <tr>\n",
       "      <td>2</td>\n",
       "      <td>강남구</td>\n",
       "      <td>2303. 논현역 7번출구</td>\n",
       "      <td>201812.0</td>\n",
       "      <td>273.0</td>\n",
       "    </tr>\n",
       "    <tr>\n",
       "      <td>3</td>\n",
       "      <td>강남구</td>\n",
       "      <td>2304. 신영 ROYAL PALACE 앞</td>\n",
       "      <td>201812.0</td>\n",
       "      <td>62.0</td>\n",
       "    </tr>\n",
       "    <tr>\n",
       "      <td>4</td>\n",
       "      <td>강남구</td>\n",
       "      <td>2305. MCM 본사 직영점 앞</td>\n",
       "      <td>201812.0</td>\n",
       "      <td>218.0</td>\n",
       "    </tr>\n",
       "  </tbody>\n",
       "</table>\n",
       "</div>"
      ],
      "text/plain": [
       "    구분                            대여소명      반납일자   반납건수\n",
       "0  강남구                2301. 현대고등학교 건너편  201812.0  437.0\n",
       "1  강남구  2302. 교보타워 버스정류장(신논현역 3번출구 후면)  201812.0  556.0\n",
       "2  강남구                  2303. 논현역 7번출구  201812.0  273.0\n",
       "3  강남구         2304. 신영 ROYAL PALACE 앞  201812.0   62.0\n",
       "4  강남구              2305. MCM 본사 직영점 앞  201812.0  218.0"
      ]
     },
     "execution_count": 18,
     "metadata": {},
     "output_type": "execute_result"
    }
   ],
   "source": [
    "df_return2.head()"
   ]
  },
  {
   "cell_type": "code",
   "execution_count": 19,
   "metadata": {
    "ExecuteTime": {
     "end_time": "2020-05-04T04:27:34.858453Z",
     "start_time": "2020-05-04T04:27:34.852469Z"
    }
   },
   "outputs": [],
   "source": [
    "# 컬럼명 통일, 데이터 합치기\n",
    "df_return1.columns = ['district', 'station', 'date', 'count']\n",
    "df_return2.columns = ['district', 'station', 'date', 'count']\n",
    "\n",
    "df_return = pd.concat([df_return1, df_return2])"
   ]
  },
  {
   "cell_type": "code",
   "execution_count": 20,
   "metadata": {
    "ExecuteTime": {
     "end_time": "2020-05-04T04:27:34.868427Z",
     "start_time": "2020-05-04T04:27:34.859451Z"
    }
   },
   "outputs": [
    {
     "name": "stdout",
     "output_type": "stream",
     "text": [
      "(9273, 4) (9189, 4)\n",
      "총 레코드 수: 18462\n",
      "(18462, 4)\n"
     ]
    },
    {
     "data": {
      "text/html": [
       "<div>\n",
       "<style scoped>\n",
       "    .dataframe tbody tr th:only-of-type {\n",
       "        vertical-align: middle;\n",
       "    }\n",
       "\n",
       "    .dataframe tbody tr th {\n",
       "        vertical-align: top;\n",
       "    }\n",
       "\n",
       "    .dataframe thead th {\n",
       "        text-align: right;\n",
       "    }\n",
       "</style>\n",
       "<table border=\"1\" class=\"dataframe\">\n",
       "  <thead>\n",
       "    <tr style=\"text-align: right;\">\n",
       "      <th></th>\n",
       "      <th>district</th>\n",
       "      <th>station</th>\n",
       "      <th>date</th>\n",
       "      <th>count</th>\n",
       "    </tr>\n",
       "  </thead>\n",
       "  <tbody>\n",
       "    <tr>\n",
       "      <td>0</td>\n",
       "      <td>강남구</td>\n",
       "      <td>2301. 현대고등학교 건너편</td>\n",
       "      <td>201906.0</td>\n",
       "      <td>4072.0</td>\n",
       "    </tr>\n",
       "    <tr>\n",
       "      <td>1</td>\n",
       "      <td>강남구</td>\n",
       "      <td>2302. 교보타워 버스정류장(신논현역 3번출구 후면)</td>\n",
       "      <td>201906.0</td>\n",
       "      <td>2382.0</td>\n",
       "    </tr>\n",
       "    <tr>\n",
       "      <td>2</td>\n",
       "      <td>강남구</td>\n",
       "      <td>2303. 논현역 7번출구</td>\n",
       "      <td>201906.0</td>\n",
       "      <td>1402.0</td>\n",
       "    </tr>\n",
       "    <tr>\n",
       "      <td>3</td>\n",
       "      <td>강남구</td>\n",
       "      <td>2304. 신영 ROYAL PALACE 앞</td>\n",
       "      <td>201906.0</td>\n",
       "      <td>207.0</td>\n",
       "    </tr>\n",
       "    <tr>\n",
       "      <td>4</td>\n",
       "      <td>강남구</td>\n",
       "      <td>2305. MCM 본사 직영점 앞</td>\n",
       "      <td>201906.0</td>\n",
       "      <td>905.0</td>\n",
       "    </tr>\n",
       "  </tbody>\n",
       "</table>\n",
       "</div>"
      ],
      "text/plain": [
       "  district                         station      date   count\n",
       "0      강남구                2301. 현대고등학교 건너편  201906.0  4072.0\n",
       "1      강남구  2302. 교보타워 버스정류장(신논현역 3번출구 후면)  201906.0  2382.0\n",
       "2      강남구                  2303. 논현역 7번출구  201906.0  1402.0\n",
       "3      강남구         2304. 신영 ROYAL PALACE 앞  201906.0   207.0\n",
       "4      강남구              2305. MCM 본사 직영점 앞  201906.0   905.0"
      ]
     },
     "execution_count": 20,
     "metadata": {},
     "output_type": "execute_result"
    }
   ],
   "source": [
    "# 제대로 합쳐졌는지 확인하기!\n",
    "print(df_return1.shape, df_return2.shape)\n",
    "print('총 레코드 수: {}'.format(df_return1.shape[0] + df_return2.shape[0]))\n",
    "print(df_return.shape)\n",
    "df_return.head()"
   ]
  },
  {
   "cell_type": "markdown",
   "metadata": {},
   "source": [
    "* 그런데, return, rent 데이터를 보면 동일한 district와 station을 갖고있는 것 같다.\n",
    "* station을 키로 두고 join하여 하나의 데이터프레임으로 병합하자."
   ]
  },
  {
   "cell_type": "code",
   "execution_count": 21,
   "metadata": {
    "ExecuteTime": {
     "end_time": "2020-05-04T04:27:34.907323Z",
     "start_time": "2020-05-04T04:27:34.869425Z"
    }
   },
   "outputs": [
    {
     "name": "stdout",
     "output_type": "stream",
     "text": [
      "(18485, 5)\n"
     ]
    },
    {
     "data": {
      "text/html": [
       "<div>\n",
       "<style scoped>\n",
       "    .dataframe tbody tr th:only-of-type {\n",
       "        vertical-align: middle;\n",
       "    }\n",
       "\n",
       "    .dataframe tbody tr th {\n",
       "        vertical-align: top;\n",
       "    }\n",
       "\n",
       "    .dataframe thead th {\n",
       "        text-align: right;\n",
       "    }\n",
       "</style>\n",
       "<table border=\"1\" class=\"dataframe\">\n",
       "  <thead>\n",
       "    <tr style=\"text-align: right;\">\n",
       "      <th></th>\n",
       "      <th>district</th>\n",
       "      <th>station</th>\n",
       "      <th>date</th>\n",
       "      <th>count_x</th>\n",
       "      <th>count_y</th>\n",
       "    </tr>\n",
       "  </thead>\n",
       "  <tbody>\n",
       "    <tr>\n",
       "      <td>0</td>\n",
       "      <td>강남구</td>\n",
       "      <td>2301. 현대고등학교 건너편</td>\n",
       "      <td>201906.0</td>\n",
       "      <td>3909.0</td>\n",
       "      <td>4072.0</td>\n",
       "    </tr>\n",
       "    <tr>\n",
       "      <td>1</td>\n",
       "      <td>강남구</td>\n",
       "      <td>2302. 교보타워 버스정류장(신논현역 3번출구 후면)</td>\n",
       "      <td>201906.0</td>\n",
       "      <td>2432.0</td>\n",
       "      <td>2382.0</td>\n",
       "    </tr>\n",
       "    <tr>\n",
       "      <td>2</td>\n",
       "      <td>강남구</td>\n",
       "      <td>2303. 논현역 7번출구</td>\n",
       "      <td>201906.0</td>\n",
       "      <td>1567.0</td>\n",
       "      <td>1402.0</td>\n",
       "    </tr>\n",
       "    <tr>\n",
       "      <td>3</td>\n",
       "      <td>강남구</td>\n",
       "      <td>2304. 신영 ROYAL PALACE 앞</td>\n",
       "      <td>201906.0</td>\n",
       "      <td>559.0</td>\n",
       "      <td>207.0</td>\n",
       "    </tr>\n",
       "    <tr>\n",
       "      <td>4</td>\n",
       "      <td>강남구</td>\n",
       "      <td>2305. MCM 본사 직영점 앞</td>\n",
       "      <td>201906.0</td>\n",
       "      <td>730.0</td>\n",
       "      <td>905.0</td>\n",
       "    </tr>\n",
       "  </tbody>\n",
       "</table>\n",
       "</div>"
      ],
      "text/plain": [
       "  district                         station      date  count_x  count_y\n",
       "0      강남구                2301. 현대고등학교 건너편  201906.0   3909.0   4072.0\n",
       "1      강남구  2302. 교보타워 버스정류장(신논현역 3번출구 후면)  201906.0   2432.0   2382.0\n",
       "2      강남구                  2303. 논현역 7번출구  201906.0   1567.0   1402.0\n",
       "3      강남구         2304. 신영 ROYAL PALACE 앞  201906.0    559.0    207.0\n",
       "4      강남구              2305. MCM 본사 직영점 앞  201906.0    730.0    905.0"
      ]
     },
     "execution_count": 21,
     "metadata": {},
     "output_type": "execute_result"
    }
   ],
   "source": [
    "df_bike = df_rent.merge(df_return[['station', 'date', 'count']], \n",
    "                        how='left', on=['station', 'date'])\n",
    "print(df_bike.shape)\n",
    "df_bike.head()"
   ]
  },
  {
   "cell_type": "markdown",
   "metadata": {},
   "source": [
    "* 잘 병합되었다.\n",
    "* 이제 count_x와 count_y의 컬럼명을 바꿔주자."
   ]
  },
  {
   "cell_type": "code",
   "execution_count": 22,
   "metadata": {
    "ExecuteTime": {
     "end_time": "2020-05-04T04:27:34.917297Z",
     "start_time": "2020-05-04T04:27:34.908320Z"
    }
   },
   "outputs": [
    {
     "data": {
      "text/html": [
       "<div>\n",
       "<style scoped>\n",
       "    .dataframe tbody tr th:only-of-type {\n",
       "        vertical-align: middle;\n",
       "    }\n",
       "\n",
       "    .dataframe tbody tr th {\n",
       "        vertical-align: top;\n",
       "    }\n",
       "\n",
       "    .dataframe thead th {\n",
       "        text-align: right;\n",
       "    }\n",
       "</style>\n",
       "<table border=\"1\" class=\"dataframe\">\n",
       "  <thead>\n",
       "    <tr style=\"text-align: right;\">\n",
       "      <th></th>\n",
       "      <th>district</th>\n",
       "      <th>station</th>\n",
       "      <th>date</th>\n",
       "      <th>rent</th>\n",
       "      <th>return</th>\n",
       "    </tr>\n",
       "  </thead>\n",
       "  <tbody>\n",
       "    <tr>\n",
       "      <td>0</td>\n",
       "      <td>강남구</td>\n",
       "      <td>2301. 현대고등학교 건너편</td>\n",
       "      <td>201906.0</td>\n",
       "      <td>3909.0</td>\n",
       "      <td>4072.0</td>\n",
       "    </tr>\n",
       "    <tr>\n",
       "      <td>1</td>\n",
       "      <td>강남구</td>\n",
       "      <td>2302. 교보타워 버스정류장(신논현역 3번출구 후면)</td>\n",
       "      <td>201906.0</td>\n",
       "      <td>2432.0</td>\n",
       "      <td>2382.0</td>\n",
       "    </tr>\n",
       "    <tr>\n",
       "      <td>2</td>\n",
       "      <td>강남구</td>\n",
       "      <td>2303. 논현역 7번출구</td>\n",
       "      <td>201906.0</td>\n",
       "      <td>1567.0</td>\n",
       "      <td>1402.0</td>\n",
       "    </tr>\n",
       "    <tr>\n",
       "      <td>3</td>\n",
       "      <td>강남구</td>\n",
       "      <td>2304. 신영 ROYAL PALACE 앞</td>\n",
       "      <td>201906.0</td>\n",
       "      <td>559.0</td>\n",
       "      <td>207.0</td>\n",
       "    </tr>\n",
       "    <tr>\n",
       "      <td>4</td>\n",
       "      <td>강남구</td>\n",
       "      <td>2305. MCM 본사 직영점 앞</td>\n",
       "      <td>201906.0</td>\n",
       "      <td>730.0</td>\n",
       "      <td>905.0</td>\n",
       "    </tr>\n",
       "  </tbody>\n",
       "</table>\n",
       "</div>"
      ],
      "text/plain": [
       "  district                         station      date    rent  return\n",
       "0      강남구                2301. 현대고등학교 건너편  201906.0  3909.0  4072.0\n",
       "1      강남구  2302. 교보타워 버스정류장(신논현역 3번출구 후면)  201906.0  2432.0  2382.0\n",
       "2      강남구                  2303. 논현역 7번출구  201906.0  1567.0  1402.0\n",
       "3      강남구         2304. 신영 ROYAL PALACE 앞  201906.0   559.0   207.0\n",
       "4      강남구              2305. MCM 본사 직영점 앞  201906.0   730.0   905.0"
      ]
     },
     "execution_count": 22,
     "metadata": {},
     "output_type": "execute_result"
    }
   ],
   "source": [
    "df_bike.columns = ['district', 'station', 'date', 'rent', 'return']\n",
    "df_bike.head()"
   ]
  },
  {
   "cell_type": "markdown",
   "metadata": {},
   "source": [
    "### 2-2. 결측값 처리\n",
    "* Null값이 있는지 확인해보자."
   ]
  },
  {
   "cell_type": "code",
   "execution_count": 23,
   "metadata": {
    "ExecuteTime": {
     "end_time": "2020-05-04T04:27:36.138030Z",
     "start_time": "2020-05-04T04:27:34.920289Z"
    }
   },
   "outputs": [
    {
     "data": {
      "text/plain": [
       "<matplotlib.axes._subplots.AxesSubplot at 0x257a1f69848>"
      ]
     },
     "execution_count": 23,
     "metadata": {},
     "output_type": "execute_result"
    },
    {
     "data": {
      "image/png": "[encoded data removed]",
      "text/plain": [
       "<Figure size 864x864 with 6 Axes>"
      ]
     },
     "metadata": {
      "needs_background": "light"
     },
     "output_type": "display_data"
    }
   ],
   "source": [
    "import missingno as msno\n",
    "f, ax = plt.subplots(2, 1, figsize=(12, 12))\n",
    "msno.bar(df_bike, ax=ax[0])\n",
    "msno.bar(df_station, ax=ax[1])"
   ]
  },
  {
   "cell_type": "markdown",
   "metadata": {},
   "source": [
    "* bike데이터에는 25개의 null값이 있다.\n",
    "* station데이터에는 null값이 없다."
   ]
  },
  {
   "cell_type": "code",
   "execution_count": 24,
   "metadata": {
    "ExecuteTime": {
     "end_time": "2020-05-04T04:27:36.149998Z",
     "start_time": "2020-05-04T04:27:36.140053Z"
    }
   },
   "outputs": [
    {
     "data": {
      "text/html": [
       "<div>\n",
       "<style scoped>\n",
       "    .dataframe tbody tr th:only-of-type {\n",
       "        vertical-align: middle;\n",
       "    }\n",
       "\n",
       "    .dataframe tbody tr th {\n",
       "        vertical-align: top;\n",
       "    }\n",
       "\n",
       "    .dataframe thead th {\n",
       "        text-align: right;\n",
       "    }\n",
       "</style>\n",
       "<table border=\"1\" class=\"dataframe\">\n",
       "  <thead>\n",
       "    <tr style=\"text-align: right;\">\n",
       "      <th></th>\n",
       "      <th>district</th>\n",
       "      <th>station</th>\n",
       "      <th>date</th>\n",
       "      <th>rent</th>\n",
       "      <th>return</th>\n",
       "    </tr>\n",
       "  </thead>\n",
       "  <tbody>\n",
       "    <tr>\n",
       "      <td>10799</td>\n",
       "      <td>NaN</td>\n",
       "      <td>NaN</td>\n",
       "      <td>NaN</td>\n",
       "      <td>NaN</td>\n",
       "      <td>NaN</td>\n",
       "    </tr>\n",
       "    <tr>\n",
       "      <td>10800</td>\n",
       "      <td>NaN</td>\n",
       "      <td>NaN</td>\n",
       "      <td>NaN</td>\n",
       "      <td>NaN</td>\n",
       "      <td>NaN</td>\n",
       "    </tr>\n",
       "    <tr>\n",
       "      <td>10801</td>\n",
       "      <td>NaN</td>\n",
       "      <td>NaN</td>\n",
       "      <td>NaN</td>\n",
       "      <td>NaN</td>\n",
       "      <td>NaN</td>\n",
       "    </tr>\n",
       "    <tr>\n",
       "      <td>10802</td>\n",
       "      <td>NaN</td>\n",
       "      <td>NaN</td>\n",
       "      <td>NaN</td>\n",
       "      <td>NaN</td>\n",
       "      <td>NaN</td>\n",
       "    </tr>\n",
       "    <tr>\n",
       "      <td>10803</td>\n",
       "      <td>NaN</td>\n",
       "      <td>NaN</td>\n",
       "      <td>NaN</td>\n",
       "      <td>NaN</td>\n",
       "      <td>NaN</td>\n",
       "    </tr>\n",
       "    <tr>\n",
       "      <td>12332</td>\n",
       "      <td>NaN</td>\n",
       "      <td>NaN</td>\n",
       "      <td>NaN</td>\n",
       "      <td>NaN</td>\n",
       "      <td>NaN</td>\n",
       "    </tr>\n",
       "    <tr>\n",
       "      <td>12333</td>\n",
       "      <td>NaN</td>\n",
       "      <td>NaN</td>\n",
       "      <td>NaN</td>\n",
       "      <td>NaN</td>\n",
       "      <td>NaN</td>\n",
       "    </tr>\n",
       "    <tr>\n",
       "      <td>12334</td>\n",
       "      <td>NaN</td>\n",
       "      <td>NaN</td>\n",
       "      <td>NaN</td>\n",
       "      <td>NaN</td>\n",
       "      <td>NaN</td>\n",
       "    </tr>\n",
       "    <tr>\n",
       "      <td>12335</td>\n",
       "      <td>NaN</td>\n",
       "      <td>NaN</td>\n",
       "      <td>NaN</td>\n",
       "      <td>NaN</td>\n",
       "      <td>NaN</td>\n",
       "    </tr>\n",
       "    <tr>\n",
       "      <td>12336</td>\n",
       "      <td>NaN</td>\n",
       "      <td>NaN</td>\n",
       "      <td>NaN</td>\n",
       "      <td>NaN</td>\n",
       "      <td>NaN</td>\n",
       "    </tr>\n",
       "    <tr>\n",
       "      <td>13863</td>\n",
       "      <td>NaN</td>\n",
       "      <td>NaN</td>\n",
       "      <td>NaN</td>\n",
       "      <td>NaN</td>\n",
       "      <td>NaN</td>\n",
       "    </tr>\n",
       "    <tr>\n",
       "      <td>13864</td>\n",
       "      <td>NaN</td>\n",
       "      <td>NaN</td>\n",
       "      <td>NaN</td>\n",
       "      <td>NaN</td>\n",
       "      <td>NaN</td>\n",
       "    </tr>\n",
       "    <tr>\n",
       "      <td>13865</td>\n",
       "      <td>NaN</td>\n",
       "      <td>NaN</td>\n",
       "      <td>NaN</td>\n",
       "      <td>NaN</td>\n",
       "      <td>NaN</td>\n",
       "    </tr>\n",
       "    <tr>\n",
       "      <td>13866</td>\n",
       "      <td>NaN</td>\n",
       "      <td>NaN</td>\n",
       "      <td>NaN</td>\n",
       "      <td>NaN</td>\n",
       "      <td>NaN</td>\n",
       "    </tr>\n",
       "    <tr>\n",
       "      <td>13867</td>\n",
       "      <td>NaN</td>\n",
       "      <td>NaN</td>\n",
       "      <td>NaN</td>\n",
       "      <td>NaN</td>\n",
       "      <td>NaN</td>\n",
       "    </tr>\n",
       "    <tr>\n",
       "      <td>15404</td>\n",
       "      <td>NaN</td>\n",
       "      <td>NaN</td>\n",
       "      <td>NaN</td>\n",
       "      <td>NaN</td>\n",
       "      <td>NaN</td>\n",
       "    </tr>\n",
       "    <tr>\n",
       "      <td>15405</td>\n",
       "      <td>NaN</td>\n",
       "      <td>NaN</td>\n",
       "      <td>NaN</td>\n",
       "      <td>NaN</td>\n",
       "      <td>NaN</td>\n",
       "    </tr>\n",
       "    <tr>\n",
       "      <td>15406</td>\n",
       "      <td>NaN</td>\n",
       "      <td>NaN</td>\n",
       "      <td>NaN</td>\n",
       "      <td>NaN</td>\n",
       "      <td>NaN</td>\n",
       "    </tr>\n",
       "    <tr>\n",
       "      <td>15407</td>\n",
       "      <td>NaN</td>\n",
       "      <td>NaN</td>\n",
       "      <td>NaN</td>\n",
       "      <td>NaN</td>\n",
       "      <td>NaN</td>\n",
       "    </tr>\n",
       "    <tr>\n",
       "      <td>15408</td>\n",
       "      <td>NaN</td>\n",
       "      <td>NaN</td>\n",
       "      <td>NaN</td>\n",
       "      <td>NaN</td>\n",
       "      <td>NaN</td>\n",
       "    </tr>\n",
       "    <tr>\n",
       "      <td>16944</td>\n",
       "      <td>NaN</td>\n",
       "      <td>NaN</td>\n",
       "      <td>NaN</td>\n",
       "      <td>NaN</td>\n",
       "      <td>NaN</td>\n",
       "    </tr>\n",
       "    <tr>\n",
       "      <td>16945</td>\n",
       "      <td>NaN</td>\n",
       "      <td>NaN</td>\n",
       "      <td>NaN</td>\n",
       "      <td>NaN</td>\n",
       "      <td>NaN</td>\n",
       "    </tr>\n",
       "    <tr>\n",
       "      <td>16946</td>\n",
       "      <td>NaN</td>\n",
       "      <td>NaN</td>\n",
       "      <td>NaN</td>\n",
       "      <td>NaN</td>\n",
       "      <td>NaN</td>\n",
       "    </tr>\n",
       "    <tr>\n",
       "      <td>16947</td>\n",
       "      <td>NaN</td>\n",
       "      <td>NaN</td>\n",
       "      <td>NaN</td>\n",
       "      <td>NaN</td>\n",
       "      <td>NaN</td>\n",
       "    </tr>\n",
       "    <tr>\n",
       "      <td>16948</td>\n",
       "      <td>NaN</td>\n",
       "      <td>NaN</td>\n",
       "      <td>NaN</td>\n",
       "      <td>NaN</td>\n",
       "      <td>NaN</td>\n",
       "    </tr>\n",
       "  </tbody>\n",
       "</table>\n",
       "</div>"
      ],
      "text/plain": [
       "      district station  date  rent  return\n",
       "10799      NaN     NaN   NaN   NaN     NaN\n",
       "10800      NaN     NaN   NaN   NaN     NaN\n",
       "10801      NaN     NaN   NaN   NaN     NaN\n",
       "10802      NaN     NaN   NaN   NaN     NaN\n",
       "10803      NaN     NaN   NaN   NaN     NaN\n",
       "12332      NaN     NaN   NaN   NaN     NaN\n",
       "12333      NaN     NaN   NaN   NaN     NaN\n",
       "12334      NaN     NaN   NaN   NaN     NaN\n",
       "12335      NaN     NaN   NaN   NaN     NaN\n",
       "12336      NaN     NaN   NaN   NaN     NaN\n",
       "13863      NaN     NaN   NaN   NaN     NaN\n",
       "13864      NaN     NaN   NaN   NaN     NaN\n",
       "13865      NaN     NaN   NaN   NaN     NaN\n",
       "13866      NaN     NaN   NaN   NaN     NaN\n",
       "13867      NaN     NaN   NaN   NaN     NaN\n",
       "15404      NaN     NaN   NaN   NaN     NaN\n",
       "15405      NaN     NaN   NaN   NaN     NaN\n",
       "15406      NaN     NaN   NaN   NaN     NaN\n",
       "15407      NaN     NaN   NaN   NaN     NaN\n",
       "15408      NaN     NaN   NaN   NaN     NaN\n",
       "16944      NaN     NaN   NaN   NaN     NaN\n",
       "16945      NaN     NaN   NaN   NaN     NaN\n",
       "16946      NaN     NaN   NaN   NaN     NaN\n",
       "16947      NaN     NaN   NaN   NaN     NaN\n",
       "16948      NaN     NaN   NaN   NaN     NaN"
      ]
     },
     "execution_count": 24,
     "metadata": {},
     "output_type": "execute_result"
    }
   ],
   "source": [
    "pd.set_option('display.max_rows', 30)\n",
    "df_bike[df_bike['district'].isnull()]"
   ]
  },
  {
   "cell_type": "markdown",
   "metadata": {},
   "source": [
    "* 모든 컬럼이 null값인 레코드들이다. 삭제해주자"
   ]
  },
  {
   "cell_type": "code",
   "execution_count": 25,
   "metadata": {
    "ExecuteTime": {
     "end_time": "2020-05-04T04:27:36.161995Z",
     "start_time": "2020-05-04T04:27:36.150996Z"
    }
   },
   "outputs": [],
   "source": [
    "df_bike.dropna(inplace=True)"
   ]
  },
  {
   "cell_type": "code",
   "execution_count": 26,
   "metadata": {
    "ExecuteTime": {
     "end_time": "2020-05-04T04:27:36.171939Z",
     "start_time": "2020-05-04T04:27:36.162963Z"
    }
   },
   "outputs": [
    {
     "name": "stdout",
     "output_type": "stream",
     "text": [
      "(18460, 5)\n"
     ]
    },
    {
     "data": {
      "text/html": [
       "<div>\n",
       "<style scoped>\n",
       "    .dataframe tbody tr th:only-of-type {\n",
       "        vertical-align: middle;\n",
       "    }\n",
       "\n",
       "    .dataframe tbody tr th {\n",
       "        vertical-align: top;\n",
       "    }\n",
       "\n",
       "    .dataframe thead th {\n",
       "        text-align: right;\n",
       "    }\n",
       "</style>\n",
       "<table border=\"1\" class=\"dataframe\">\n",
       "  <thead>\n",
       "    <tr style=\"text-align: right;\">\n",
       "      <th></th>\n",
       "      <th>district</th>\n",
       "      <th>station</th>\n",
       "      <th>date</th>\n",
       "      <th>rent</th>\n",
       "      <th>return</th>\n",
       "    </tr>\n",
       "  </thead>\n",
       "  <tbody>\n",
       "    <tr>\n",
       "      <td>18480</td>\n",
       "      <td>중랑구</td>\n",
       "      <td>1455. 상봉역 2번 출구</td>\n",
       "      <td>201905.0</td>\n",
       "      <td>1362.0</td>\n",
       "      <td>1300.0</td>\n",
       "    </tr>\n",
       "    <tr>\n",
       "      <td>18481</td>\n",
       "      <td>중랑구</td>\n",
       "      <td>1456. 상아빌딩(우림시장 교차로)</td>\n",
       "      <td>201905.0</td>\n",
       "      <td>826.0</td>\n",
       "      <td>867.0</td>\n",
       "    </tr>\n",
       "    <tr>\n",
       "      <td>18482</td>\n",
       "      <td>중랑구</td>\n",
       "      <td>1457. 동원사거리</td>\n",
       "      <td>201905.0</td>\n",
       "      <td>827.0</td>\n",
       "      <td>749.0</td>\n",
       "    </tr>\n",
       "    <tr>\n",
       "      <td>18483</td>\n",
       "      <td>중랑구</td>\n",
       "      <td>1458. 상봉터미널2</td>\n",
       "      <td>201905.0</td>\n",
       "      <td>1421.0</td>\n",
       "      <td>1492.0</td>\n",
       "    </tr>\n",
       "    <tr>\n",
       "      <td>18484</td>\n",
       "      <td>중랑구</td>\n",
       "      <td>1459. 용마한신아파트사거리</td>\n",
       "      <td>201905.0</td>\n",
       "      <td>447.0</td>\n",
       "      <td>320.0</td>\n",
       "    </tr>\n",
       "  </tbody>\n",
       "</table>\n",
       "</div>"
      ],
      "text/plain": [
       "      district               station      date    rent  return\n",
       "18480      중랑구       1455. 상봉역 2번 출구  201905.0  1362.0  1300.0\n",
       "18481      중랑구  1456. 상아빌딩(우림시장 교차로)  201905.0   826.0   867.0\n",
       "18482      중랑구           1457. 동원사거리  201905.0   827.0   749.0\n",
       "18483      중랑구          1458. 상봉터미널2  201905.0  1421.0  1492.0\n",
       "18484      중랑구      1459. 용마한신아파트사거리  201905.0   447.0   320.0"
      ]
     },
     "execution_count": 26,
     "metadata": {},
     "output_type": "execute_result"
    }
   ],
   "source": [
    "print(df_bike.shape)\n",
    "df_bike.tail()"
   ]
  },
  {
   "cell_type": "markdown",
   "metadata": {},
   "source": [
    "* index를 초기화해주자."
   ]
  },
  {
   "cell_type": "code",
   "execution_count": 27,
   "metadata": {
    "ExecuteTime": {
     "end_time": "2020-05-04T04:27:36.181943Z",
     "start_time": "2020-05-04T04:27:36.172937Z"
    }
   },
   "outputs": [
    {
     "data": {
      "text/html": [
       "<div>\n",
       "<style scoped>\n",
       "    .dataframe tbody tr th:only-of-type {\n",
       "        vertical-align: middle;\n",
       "    }\n",
       "\n",
       "    .dataframe tbody tr th {\n",
       "        vertical-align: top;\n",
       "    }\n",
       "\n",
       "    .dataframe thead th {\n",
       "        text-align: right;\n",
       "    }\n",
       "</style>\n",
       "<table border=\"1\" class=\"dataframe\">\n",
       "  <thead>\n",
       "    <tr style=\"text-align: right;\">\n",
       "      <th></th>\n",
       "      <th>district</th>\n",
       "      <th>station</th>\n",
       "      <th>date</th>\n",
       "      <th>rent</th>\n",
       "      <th>return</th>\n",
       "    </tr>\n",
       "  </thead>\n",
       "  <tbody>\n",
       "    <tr>\n",
       "      <td>18457</td>\n",
       "      <td>중랑구</td>\n",
       "      <td>1457. 동원사거리</td>\n",
       "      <td>201905.0</td>\n",
       "      <td>827.0</td>\n",
       "      <td>749.0</td>\n",
       "    </tr>\n",
       "    <tr>\n",
       "      <td>18458</td>\n",
       "      <td>중랑구</td>\n",
       "      <td>1458. 상봉터미널2</td>\n",
       "      <td>201905.0</td>\n",
       "      <td>1421.0</td>\n",
       "      <td>1492.0</td>\n",
       "    </tr>\n",
       "    <tr>\n",
       "      <td>18459</td>\n",
       "      <td>중랑구</td>\n",
       "      <td>1459. 용마한신아파트사거리</td>\n",
       "      <td>201905.0</td>\n",
       "      <td>447.0</td>\n",
       "      <td>320.0</td>\n",
       "    </tr>\n",
       "  </tbody>\n",
       "</table>\n",
       "</div>"
      ],
      "text/plain": [
       "      district           station      date    rent  return\n",
       "18457      중랑구       1457. 동원사거리  201905.0   827.0   749.0\n",
       "18458      중랑구      1458. 상봉터미널2  201905.0  1421.0  1492.0\n",
       "18459      중랑구  1459. 용마한신아파트사거리  201905.0   447.0   320.0"
      ]
     },
     "execution_count": 27,
     "metadata": {},
     "output_type": "execute_result"
    }
   ],
   "source": [
    "df_bike.reset_index(drop=True, inplace=True)\n",
    "df_bike.tail(3)"
   ]
  },
  {
   "cell_type": "code",
   "execution_count": 28,
   "metadata": {
    "ExecuteTime": {
     "end_time": "2020-05-04T04:27:36.192883Z",
     "start_time": "2020-05-04T04:27:36.182910Z"
    }
   },
   "outputs": [
    {
     "data": {
      "text/html": [
       "<div>\n",
       "<style scoped>\n",
       "    .dataframe tbody tr th:only-of-type {\n",
       "        vertical-align: middle;\n",
       "    }\n",
       "\n",
       "    .dataframe tbody tr th {\n",
       "        vertical-align: top;\n",
       "    }\n",
       "\n",
       "    .dataframe thead th {\n",
       "        text-align: right;\n",
       "    }\n",
       "</style>\n",
       "<table border=\"1\" class=\"dataframe\">\n",
       "  <thead>\n",
       "    <tr style=\"text-align: right;\">\n",
       "      <th></th>\n",
       "      <th>대여소_구</th>\n",
       "      <th>대여소ID</th>\n",
       "      <th>대여소명</th>\n",
       "      <th>대여소주소</th>\n",
       "      <th>위도</th>\n",
       "      <th>경도</th>\n",
       "      <th>기준시작일자</th>\n",
       "      <th>거치대수</th>\n",
       "    </tr>\n",
       "  </thead>\n",
       "  <tbody>\n",
       "    <tr>\n",
       "      <td>0</td>\n",
       "      <td>마포구</td>\n",
       "      <td>101.0</td>\n",
       "      <td>101. (구)합정동 주민센터</td>\n",
       "      <td>서울특별시 마포구 동교로8길 58</td>\n",
       "      <td>37.549561</td>\n",
       "      <td>126.905754</td>\n",
       "      <td>2015-09-06 23:40:56</td>\n",
       "      <td>5</td>\n",
       "    </tr>\n",
       "    <tr>\n",
       "      <td>1</td>\n",
       "      <td>마포구</td>\n",
       "      <td>102.0</td>\n",
       "      <td>102. 망원역 1번출구 앞</td>\n",
       "      <td>서울특별시 마포구 월드컵로 72</td>\n",
       "      <td>37.555649</td>\n",
       "      <td>126.910629</td>\n",
       "      <td>2015-09-06 23:42:06</td>\n",
       "      <td>20</td>\n",
       "    </tr>\n",
       "    <tr>\n",
       "      <td>2</td>\n",
       "      <td>마포구</td>\n",
       "      <td>103.0</td>\n",
       "      <td>103. 망원역 2번출구 앞</td>\n",
       "      <td>서울특별시 마포구 월드컵로 79</td>\n",
       "      <td>37.554951</td>\n",
       "      <td>126.910835</td>\n",
       "      <td>2015-09-06 23:43:13</td>\n",
       "      <td>14</td>\n",
       "    </tr>\n",
       "    <tr>\n",
       "      <td>3</td>\n",
       "      <td>마포구</td>\n",
       "      <td>104.0</td>\n",
       "      <td>104. 합정역 1번출구 앞</td>\n",
       "      <td>서울특별시 마포구 양화로 59</td>\n",
       "      <td>37.550629</td>\n",
       "      <td>126.914986</td>\n",
       "      <td>2015-09-06 23:44:31</td>\n",
       "      <td>13</td>\n",
       "    </tr>\n",
       "    <tr>\n",
       "      <td>4</td>\n",
       "      <td>마포구</td>\n",
       "      <td>105.0</td>\n",
       "      <td>105. 합정역 5번출구 앞</td>\n",
       "      <td>서울특별시 마포구 양화로 48</td>\n",
       "      <td>37.550007</td>\n",
       "      <td>126.914825</td>\n",
       "      <td>2015-09-06 23:45:30</td>\n",
       "      <td>5</td>\n",
       "    </tr>\n",
       "  </tbody>\n",
       "</table>\n",
       "</div>"
      ],
      "text/plain": [
       "  대여소_구  대여소ID              대여소명               대여소주소         위도          경도  \\\n",
       "0   마포구  101.0  101. (구)합정동 주민센터  서울특별시 마포구 동교로8길 58  37.549561  126.905754   \n",
       "1   마포구  102.0   102. 망원역 1번출구 앞   서울특별시 마포구 월드컵로 72  37.555649  126.910629   \n",
       "2   마포구  103.0   103. 망원역 2번출구 앞   서울특별시 마포구 월드컵로 79  37.554951  126.910835   \n",
       "3   마포구  104.0   104. 합정역 1번출구 앞    서울특별시 마포구 양화로 59  37.550629  126.914986   \n",
       "4   마포구  105.0   105. 합정역 5번출구 앞    서울특별시 마포구 양화로 48  37.550007  126.914825   \n",
       "\n",
       "                기준시작일자  거치대수  \n",
       "0  2015-09-06 23:40:56     5  \n",
       "1  2015-09-06 23:42:06    20  \n",
       "2  2015-09-06 23:43:13    14  \n",
       "3  2015-09-06 23:44:31    13  \n",
       "4  2015-09-06 23:45:30     5  "
      ]
     },
     "execution_count": 28,
     "metadata": {},
     "output_type": "execute_result"
    }
   ],
   "source": [
    "df_station.head()"
   ]
  },
  {
   "cell_type": "code",
   "execution_count": 29,
   "metadata": {
    "ExecuteTime": {
     "end_time": "2020-05-04T04:27:36.203883Z",
     "start_time": "2020-05-04T04:27:36.193881Z"
    }
   },
   "outputs": [
    {
     "data": {
      "text/html": [
       "<div>\n",
       "<style scoped>\n",
       "    .dataframe tbody tr th:only-of-type {\n",
       "        vertical-align: middle;\n",
       "    }\n",
       "\n",
       "    .dataframe tbody tr th {\n",
       "        vertical-align: top;\n",
       "    }\n",
       "\n",
       "    .dataframe thead th {\n",
       "        text-align: right;\n",
       "    }\n",
       "</style>\n",
       "<table border=\"1\" class=\"dataframe\">\n",
       "  <thead>\n",
       "    <tr style=\"text-align: right;\">\n",
       "      <th></th>\n",
       "      <th>district</th>\n",
       "      <th>id</th>\n",
       "      <th>station</th>\n",
       "      <th>address</th>\n",
       "      <th>lat</th>\n",
       "      <th>lng</th>\n",
       "      <th>date</th>\n",
       "      <th>count</th>\n",
       "    </tr>\n",
       "  </thead>\n",
       "  <tbody>\n",
       "    <tr>\n",
       "      <td>0</td>\n",
       "      <td>마포구</td>\n",
       "      <td>101.0</td>\n",
       "      <td>101. (구)합정동 주민센터</td>\n",
       "      <td>서울특별시 마포구 동교로8길 58</td>\n",
       "      <td>37.549561</td>\n",
       "      <td>126.905754</td>\n",
       "      <td>2015-09-06 23:40:56</td>\n",
       "      <td>5</td>\n",
       "    </tr>\n",
       "    <tr>\n",
       "      <td>1</td>\n",
       "      <td>마포구</td>\n",
       "      <td>102.0</td>\n",
       "      <td>102. 망원역 1번출구 앞</td>\n",
       "      <td>서울특별시 마포구 월드컵로 72</td>\n",
       "      <td>37.555649</td>\n",
       "      <td>126.910629</td>\n",
       "      <td>2015-09-06 23:42:06</td>\n",
       "      <td>20</td>\n",
       "    </tr>\n",
       "    <tr>\n",
       "      <td>2</td>\n",
       "      <td>마포구</td>\n",
       "      <td>103.0</td>\n",
       "      <td>103. 망원역 2번출구 앞</td>\n",
       "      <td>서울특별시 마포구 월드컵로 79</td>\n",
       "      <td>37.554951</td>\n",
       "      <td>126.910835</td>\n",
       "      <td>2015-09-06 23:43:13</td>\n",
       "      <td>14</td>\n",
       "    </tr>\n",
       "  </tbody>\n",
       "</table>\n",
       "</div>"
      ],
      "text/plain": [
       "  district     id           station             address        lat  \\\n",
       "0      마포구  101.0  101. (구)합정동 주민센터  서울특별시 마포구 동교로8길 58  37.549561   \n",
       "1      마포구  102.0   102. 망원역 1번출구 앞   서울특별시 마포구 월드컵로 72  37.555649   \n",
       "2      마포구  103.0   103. 망원역 2번출구 앞   서울특별시 마포구 월드컵로 79  37.554951   \n",
       "\n",
       "          lng                 date  count  \n",
       "0  126.905754  2015-09-06 23:40:56      5  \n",
       "1  126.910629  2015-09-06 23:42:06     20  \n",
       "2  126.910835  2015-09-06 23:43:13     14  "
      ]
     },
     "execution_count": 29,
     "metadata": {},
     "output_type": "execute_result"
    }
   ],
   "source": [
    "# 컬럼명 영어로 변경!\n",
    "df_station.columns = ['district', 'id', 'station',\n",
    "                      'address', 'lat', 'lng', 'date', 'count']\n",
    "df_station.head(3)"
   ]
  },
  {
   "cell_type": "markdown",
   "metadata": {},
   "source": [
    "### 2-3. station컬럼 처리, id컬럼 추가"
   ]
  },
  {
   "cell_type": "code",
   "execution_count": 30,
   "metadata": {
    "ExecuteTime": {
     "end_time": "2020-05-04T04:27:36.211861Z",
     "start_time": "2020-05-04T04:27:36.204851Z"
    }
   },
   "outputs": [
    {
     "name": "stdout",
     "output_type": "stream",
     "text": [
      "<class 'pandas.core.frame.DataFrame'>\n",
      "RangeIndex: 18460 entries, 0 to 18459\n",
      "Data columns (total 5 columns):\n",
      "district    18460 non-null object\n",
      "station     18460 non-null object\n",
      "date        18460 non-null float64\n",
      "rent        18460 non-null float64\n",
      "return      18460 non-null float64\n",
      "dtypes: float64(3), object(2)\n",
      "memory usage: 721.2+ KB\n"
     ]
    }
   ],
   "source": [
    "df_bike.info()"
   ]
  },
  {
   "cell_type": "code",
   "execution_count": 31,
   "metadata": {
    "ExecuteTime": {
     "end_time": "2020-05-04T04:27:36.220809Z",
     "start_time": "2020-05-04T04:27:36.212830Z"
    }
   },
   "outputs": [
    {
     "data": {
      "text/html": [
       "<div>\n",
       "<style scoped>\n",
       "    .dataframe tbody tr th:only-of-type {\n",
       "        vertical-align: middle;\n",
       "    }\n",
       "\n",
       "    .dataframe tbody tr th {\n",
       "        vertical-align: top;\n",
       "    }\n",
       "\n",
       "    .dataframe thead th {\n",
       "        text-align: right;\n",
       "    }\n",
       "</style>\n",
       "<table border=\"1\" class=\"dataframe\">\n",
       "  <thead>\n",
       "    <tr style=\"text-align: right;\">\n",
       "      <th></th>\n",
       "      <th>district</th>\n",
       "      <th>station</th>\n",
       "      <th>date</th>\n",
       "      <th>rent</th>\n",
       "      <th>return</th>\n",
       "    </tr>\n",
       "  </thead>\n",
       "  <tbody>\n",
       "    <tr>\n",
       "      <td>0</td>\n",
       "      <td>강남구</td>\n",
       "      <td>2301. 현대고등학교 건너편</td>\n",
       "      <td>201906.0</td>\n",
       "      <td>3909.0</td>\n",
       "      <td>4072.0</td>\n",
       "    </tr>\n",
       "    <tr>\n",
       "      <td>1</td>\n",
       "      <td>강남구</td>\n",
       "      <td>2302. 교보타워 버스정류장(신논현역 3번출구 후면)</td>\n",
       "      <td>201906.0</td>\n",
       "      <td>2432.0</td>\n",
       "      <td>2382.0</td>\n",
       "    </tr>\n",
       "    <tr>\n",
       "      <td>2</td>\n",
       "      <td>강남구</td>\n",
       "      <td>2303. 논현역 7번출구</td>\n",
       "      <td>201906.0</td>\n",
       "      <td>1567.0</td>\n",
       "      <td>1402.0</td>\n",
       "    </tr>\n",
       "  </tbody>\n",
       "</table>\n",
       "</div>"
      ],
      "text/plain": [
       "  district                         station      date    rent  return\n",
       "0      강남구                2301. 현대고등학교 건너편  201906.0  3909.0  4072.0\n",
       "1      강남구  2302. 교보타워 버스정류장(신논현역 3번출구 후면)  201906.0  2432.0  2382.0\n",
       "2      강남구                  2303. 논현역 7번출구  201906.0  1567.0  1402.0"
      ]
     },
     "execution_count": 31,
     "metadata": {},
     "output_type": "execute_result"
    }
   ],
   "source": [
    "df_bike.head(3)"
   ]
  },
  {
   "cell_type": "markdown",
   "metadata": {},
   "source": [
    "* 대여소 이름을 보면, [id. 대여소명]으로 되어있다.\n",
    "* 이것을 [id], [대여소명]으로 변경하면, 나중에 station 데이터의 id컬럼과 연결 시 편리할 것으로 보인다"
   ]
  },
  {
   "cell_type": "code",
   "execution_count": 32,
   "metadata": {
    "ExecuteTime": {
     "end_time": "2020-05-04T04:28:05.987260Z",
     "start_time": "2020-05-04T04:27:36.221806Z"
    }
   },
   "outputs": [
    {
     "data": {
      "application/vnd.jupyter.widget-view+json": {
       "model_id": "d151188a87064a2f8bbf35831857115c",
       "version_major": 2,
       "version_minor": 0
      },
      "text/plain": [
       "HBox(children=(IntProgress(value=0, max=18460), HTML(value='')))"
      ]
     },
     "metadata": {},
     "output_type": "display_data"
    },
    {
     "name": "stdout",
     "output_type": "stream",
     "text": [
      "\n"
     ]
    }
   ],
   "source": [
    "import re\n",
    "from tqdm import tqdm_notebook\n",
    "\n",
    "p1 = re.compile('\\d+')\n",
    "p2 = re.compile('\\d+[. ]')\n",
    "error_row = []\n",
    "\n",
    "for row in tqdm_notebook(df_bike.index):\n",
    "    try:\n",
    "        m = p1.match(df_bike.loc[row, 'station'])\n",
    "        df_bike.loc[row, 'id'] = m.group()\n",
    "    except:\n",
    "        df_bike.loc[row, 'id'] = 'None'\n",
    "        error_row.append(row)    # 에러행 저장해놓기\n",
    "    try:\n",
    "        df_bike.loc[row, 'station'] = p2.sub('', df_bike.loc[row, 'station'])\n",
    "    except:\n",
    "        error_row.append(row)    # 에러행 저장해놓기"
   ]
  },
  {
   "cell_type": "code",
   "execution_count": 33,
   "metadata": {
    "ExecuteTime": {
     "end_time": "2020-05-04T04:28:05.997233Z",
     "start_time": "2020-05-04T04:28:05.988257Z"
    }
   },
   "outputs": [
    {
     "data": {
      "text/html": [
       "<div>\n",
       "<style scoped>\n",
       "    .dataframe tbody tr th:only-of-type {\n",
       "        vertical-align: middle;\n",
       "    }\n",
       "\n",
       "    .dataframe tbody tr th {\n",
       "        vertical-align: top;\n",
       "    }\n",
       "\n",
       "    .dataframe thead th {\n",
       "        text-align: right;\n",
       "    }\n",
       "</style>\n",
       "<table border=\"1\" class=\"dataframe\">\n",
       "  <thead>\n",
       "    <tr style=\"text-align: right;\">\n",
       "      <th></th>\n",
       "      <th>district</th>\n",
       "      <th>station</th>\n",
       "      <th>date</th>\n",
       "      <th>rent</th>\n",
       "      <th>return</th>\n",
       "      <th>id</th>\n",
       "    </tr>\n",
       "  </thead>\n",
       "  <tbody>\n",
       "    <tr>\n",
       "      <td>0</td>\n",
       "      <td>강남구</td>\n",
       "      <td>현대고등학교 건너편</td>\n",
       "      <td>201906.0</td>\n",
       "      <td>3909.0</td>\n",
       "      <td>4072.0</td>\n",
       "      <td>2301</td>\n",
       "    </tr>\n",
       "    <tr>\n",
       "      <td>1</td>\n",
       "      <td>강남구</td>\n",
       "      <td>교보타워 버스정류장(신논현역 3번출구 후면)</td>\n",
       "      <td>201906.0</td>\n",
       "      <td>2432.0</td>\n",
       "      <td>2382.0</td>\n",
       "      <td>2302</td>\n",
       "    </tr>\n",
       "    <tr>\n",
       "      <td>2</td>\n",
       "      <td>강남구</td>\n",
       "      <td>논현역 7번출구</td>\n",
       "      <td>201906.0</td>\n",
       "      <td>1567.0</td>\n",
       "      <td>1402.0</td>\n",
       "      <td>2303</td>\n",
       "    </tr>\n",
       "    <tr>\n",
       "      <td>3</td>\n",
       "      <td>강남구</td>\n",
       "      <td>신영 ROYAL PALACE 앞</td>\n",
       "      <td>201906.0</td>\n",
       "      <td>559.0</td>\n",
       "      <td>207.0</td>\n",
       "      <td>2304</td>\n",
       "    </tr>\n",
       "    <tr>\n",
       "      <td>4</td>\n",
       "      <td>강남구</td>\n",
       "      <td>MCM 본사 직영점 앞</td>\n",
       "      <td>201906.0</td>\n",
       "      <td>730.0</td>\n",
       "      <td>905.0</td>\n",
       "      <td>2305</td>\n",
       "    </tr>\n",
       "  </tbody>\n",
       "</table>\n",
       "</div>"
      ],
      "text/plain": [
       "  district                    station      date    rent  return    id\n",
       "0      강남구                 현대고등학교 건너편  201906.0  3909.0  4072.0  2301\n",
       "1      강남구   교보타워 버스정류장(신논현역 3번출구 후면)  201906.0  2432.0  2382.0  2302\n",
       "2      강남구                   논현역 7번출구  201906.0  1567.0  1402.0  2303\n",
       "3      강남구          신영 ROYAL PALACE 앞  201906.0   559.0   207.0  2304\n",
       "4      강남구               MCM 본사 직영점 앞  201906.0   730.0   905.0  2305"
      ]
     },
     "execution_count": 33,
     "metadata": {},
     "output_type": "execute_result"
    }
   ],
   "source": [
    "df_bike.head()"
   ]
  },
  {
   "cell_type": "code",
   "execution_count": 34,
   "metadata": {
    "ExecuteTime": {
     "end_time": "2020-05-04T04:28:06.030144Z",
     "start_time": "2020-05-04T04:28:05.998230Z"
    }
   },
   "outputs": [
    {
     "name": "stdout",
     "output_type": "stream",
     "text": [
      "에러행 수: 25개\n",
      "\n",
      "에러행의 대여소명: \n",
      "대여소명 없음     11\n",
      "중랑센터         6\n",
      "상암센터 정비실     6\n",
      "시스템관리팀       2\n",
      "Name: station, dtype: int64\n"
     ]
    },
    {
     "data": {
      "text/html": [
       "<div>\n",
       "<style scoped>\n",
       "    .dataframe tbody tr th:only-of-type {\n",
       "        vertical-align: middle;\n",
       "    }\n",
       "\n",
       "    .dataframe tbody tr th {\n",
       "        vertical-align: top;\n",
       "    }\n",
       "\n",
       "    .dataframe thead th {\n",
       "        text-align: right;\n",
       "    }\n",
       "</style>\n",
       "<table border=\"1\" class=\"dataframe\">\n",
       "  <thead>\n",
       "    <tr style=\"text-align: right;\">\n",
       "      <th></th>\n",
       "      <th>district</th>\n",
       "      <th>station</th>\n",
       "      <th>date</th>\n",
       "      <th>rent</th>\n",
       "      <th>return</th>\n",
       "      <th>id</th>\n",
       "    </tr>\n",
       "  </thead>\n",
       "  <tbody>\n",
       "    <tr>\n",
       "      <td>1381</td>\n",
       "      <td>정비센터</td>\n",
       "      <td>상암센터 정비실</td>\n",
       "      <td>201906.0</td>\n",
       "      <td>2.0</td>\n",
       "      <td>9.0</td>\n",
       "      <td>None</td>\n",
       "    </tr>\n",
       "    <tr>\n",
       "      <td>1382</td>\n",
       "      <td>정비센터</td>\n",
       "      <td>중랑센터</td>\n",
       "      <td>201906.0</td>\n",
       "      <td>36.0</td>\n",
       "      <td>24.0</td>\n",
       "      <td>None</td>\n",
       "    </tr>\n",
       "    <tr>\n",
       "      <td>1543</td>\n",
       "      <td>그룹명 없음</td>\n",
       "      <td>대여소명 없음</td>\n",
       "      <td>201907.0</td>\n",
       "      <td>0.0</td>\n",
       "      <td>1.0</td>\n",
       "      <td>None</td>\n",
       "    </tr>\n",
       "    <tr>\n",
       "      <td>1544</td>\n",
       "      <td>그룹명 없음</td>\n",
       "      <td>대여소명 없음</td>\n",
       "      <td>201907.0</td>\n",
       "      <td>0.0</td>\n",
       "      <td>12537.0</td>\n",
       "      <td>None</td>\n",
       "    </tr>\n",
       "    <tr>\n",
       "      <td>1545</td>\n",
       "      <td>그룹명 없음</td>\n",
       "      <td>대여소명 없음</td>\n",
       "      <td>201907.0</td>\n",
       "      <td>0.0</td>\n",
       "      <td>1.0</td>\n",
       "      <td>None</td>\n",
       "    </tr>\n",
       "    <tr>\n",
       "      <td>1546</td>\n",
       "      <td>그룹명 없음</td>\n",
       "      <td>대여소명 없음</td>\n",
       "      <td>201907.0</td>\n",
       "      <td>0.0</td>\n",
       "      <td>12537.0</td>\n",
       "      <td>None</td>\n",
       "    </tr>\n",
       "    <tr>\n",
       "      <td>2928</td>\n",
       "      <td>정비센터</td>\n",
       "      <td>상암센터 정비실</td>\n",
       "      <td>201907.0</td>\n",
       "      <td>1.0</td>\n",
       "      <td>11.0</td>\n",
       "      <td>None</td>\n",
       "    </tr>\n",
       "    <tr>\n",
       "      <td>2929</td>\n",
       "      <td>정비센터</td>\n",
       "      <td>중랑센터</td>\n",
       "      <td>201907.0</td>\n",
       "      <td>42.0</td>\n",
       "      <td>34.0</td>\n",
       "      <td>None</td>\n",
       "    </tr>\n",
       "    <tr>\n",
       "      <td>3090</td>\n",
       "      <td>그룹명 없음</td>\n",
       "      <td>대여소명 없음</td>\n",
       "      <td>201908.0</td>\n",
       "      <td>0.0</td>\n",
       "      <td>12188.0</td>\n",
       "      <td>None</td>\n",
       "    </tr>\n",
       "    <tr>\n",
       "      <td>4468</td>\n",
       "      <td>정비센터</td>\n",
       "      <td>상암센터 정비실</td>\n",
       "      <td>201908.0</td>\n",
       "      <td>4.0</td>\n",
       "      <td>13.0</td>\n",
       "      <td>None</td>\n",
       "    </tr>\n",
       "    <tr>\n",
       "      <td>4469</td>\n",
       "      <td>정비센터</td>\n",
       "      <td>시스템관리팀</td>\n",
       "      <td>201908.0</td>\n",
       "      <td>2.0</td>\n",
       "      <td>2.0</td>\n",
       "      <td>None</td>\n",
       "    </tr>\n",
       "    <tr>\n",
       "      <td>4470</td>\n",
       "      <td>정비센터</td>\n",
       "      <td>중랑센터</td>\n",
       "      <td>201908.0</td>\n",
       "      <td>36.0</td>\n",
       "      <td>28.0</td>\n",
       "      <td>None</td>\n",
       "    </tr>\n",
       "    <tr>\n",
       "      <td>4633</td>\n",
       "      <td>그룹명 없음</td>\n",
       "      <td>대여소명 없음</td>\n",
       "      <td>201909.0</td>\n",
       "      <td>0.0</td>\n",
       "      <td>10902.0</td>\n",
       "      <td>None</td>\n",
       "    </tr>\n",
       "    <tr>\n",
       "      <td>6015</td>\n",
       "      <td>정비센터</td>\n",
       "      <td>상암센터 정비실</td>\n",
       "      <td>201909.0</td>\n",
       "      <td>0.0</td>\n",
       "      <td>2.0</td>\n",
       "      <td>None</td>\n",
       "    </tr>\n",
       "    <tr>\n",
       "      <td>6016</td>\n",
       "      <td>정비센터</td>\n",
       "      <td>시스템관리팀</td>\n",
       "      <td>201909.0</td>\n",
       "      <td>1.0</td>\n",
       "      <td>1.0</td>\n",
       "      <td>None</td>\n",
       "    </tr>\n",
       "    <tr>\n",
       "      <td>6017</td>\n",
       "      <td>정비센터</td>\n",
       "      <td>중랑센터</td>\n",
       "      <td>201909.0</td>\n",
       "      <td>28.0</td>\n",
       "      <td>33.0</td>\n",
       "      <td>None</td>\n",
       "    </tr>\n",
       "    <tr>\n",
       "      <td>6180</td>\n",
       "      <td>그룹명 없음</td>\n",
       "      <td>대여소명 없음</td>\n",
       "      <td>201910.0</td>\n",
       "      <td>0.0</td>\n",
       "      <td>11726.0</td>\n",
       "      <td>None</td>\n",
       "    </tr>\n",
       "    <tr>\n",
       "      <td>6181</td>\n",
       "      <td>그룹명 없음</td>\n",
       "      <td>대여소명 없음</td>\n",
       "      <td>201910.0</td>\n",
       "      <td>0.0</td>\n",
       "      <td>1.0</td>\n",
       "      <td>None</td>\n",
       "    </tr>\n",
       "    <tr>\n",
       "      <td>6182</td>\n",
       "      <td>그룹명 없음</td>\n",
       "      <td>대여소명 없음</td>\n",
       "      <td>201910.0</td>\n",
       "      <td>0.0</td>\n",
       "      <td>11726.0</td>\n",
       "      <td>None</td>\n",
       "    </tr>\n",
       "    <tr>\n",
       "      <td>6183</td>\n",
       "      <td>그룹명 없음</td>\n",
       "      <td>대여소명 없음</td>\n",
       "      <td>201910.0</td>\n",
       "      <td>0.0</td>\n",
       "      <td>1.0</td>\n",
       "      <td>None</td>\n",
       "    </tr>\n",
       "    <tr>\n",
       "      <td>7567</td>\n",
       "      <td>정비센터</td>\n",
       "      <td>상암센터 정비실</td>\n",
       "      <td>201910.0</td>\n",
       "      <td>1.0</td>\n",
       "      <td>2.0</td>\n",
       "      <td>None</td>\n",
       "    </tr>\n",
       "    <tr>\n",
       "      <td>7568</td>\n",
       "      <td>정비센터</td>\n",
       "      <td>중랑센터</td>\n",
       "      <td>201910.0</td>\n",
       "      <td>25.0</td>\n",
       "      <td>31.0</td>\n",
       "      <td>None</td>\n",
       "    </tr>\n",
       "    <tr>\n",
       "      <td>7729</td>\n",
       "      <td>그룹명 없음</td>\n",
       "      <td>대여소명 없음</td>\n",
       "      <td>201911.0</td>\n",
       "      <td>0.0</td>\n",
       "      <td>8799.0</td>\n",
       "      <td>None</td>\n",
       "    </tr>\n",
       "    <tr>\n",
       "      <td>9113</td>\n",
       "      <td>정비센터</td>\n",
       "      <td>상암센터 정비실</td>\n",
       "      <td>201911.0</td>\n",
       "      <td>6.0</td>\n",
       "      <td>8.0</td>\n",
       "      <td>None</td>\n",
       "    </tr>\n",
       "    <tr>\n",
       "      <td>9114</td>\n",
       "      <td>정비센터</td>\n",
       "      <td>중랑센터</td>\n",
       "      <td>201911.0</td>\n",
       "      <td>9.0</td>\n",
       "      <td>30.0</td>\n",
       "      <td>None</td>\n",
       "    </tr>\n",
       "  </tbody>\n",
       "</table>\n",
       "</div>"
      ],
      "text/plain": [
       "     district   station      date  rent   return    id\n",
       "1381     정비센터  상암센터 정비실  201906.0   2.0      9.0  None\n",
       "1382     정비센터      중랑센터  201906.0  36.0     24.0  None\n",
       "1543   그룹명 없음   대여소명 없음  201907.0   0.0      1.0  None\n",
       "1544   그룹명 없음   대여소명 없음  201907.0   0.0  12537.0  None\n",
       "1545   그룹명 없음   대여소명 없음  201907.0   0.0      1.0  None\n",
       "1546   그룹명 없음   대여소명 없음  201907.0   0.0  12537.0  None\n",
       "2928     정비센터  상암센터 정비실  201907.0   1.0     11.0  None\n",
       "2929     정비센터      중랑센터  201907.0  42.0     34.0  None\n",
       "3090   그룹명 없음   대여소명 없음  201908.0   0.0  12188.0  None\n",
       "4468     정비센터  상암센터 정비실  201908.0   4.0     13.0  None\n",
       "4469     정비센터    시스템관리팀  201908.0   2.0      2.0  None\n",
       "4470     정비센터      중랑센터  201908.0  36.0     28.0  None\n",
       "4633   그룹명 없음   대여소명 없음  201909.0   0.0  10902.0  None\n",
       "6015     정비센터  상암센터 정비실  201909.0   0.0      2.0  None\n",
       "6016     정비센터    시스템관리팀  201909.0   1.0      1.0  None\n",
       "6017     정비센터      중랑센터  201909.0  28.0     33.0  None\n",
       "6180   그룹명 없음   대여소명 없음  201910.0   0.0  11726.0  None\n",
       "6181   그룹명 없음   대여소명 없음  201910.0   0.0      1.0  None\n",
       "6182   그룹명 없음   대여소명 없음  201910.0   0.0  11726.0  None\n",
       "6183   그룹명 없음   대여소명 없음  201910.0   0.0      1.0  None\n",
       "7567     정비센터  상암센터 정비실  201910.0   1.0      2.0  None\n",
       "7568     정비센터      중랑센터  201910.0  25.0     31.0  None\n",
       "7729   그룹명 없음   대여소명 없음  201911.0   0.0   8799.0  None\n",
       "9113     정비센터  상암센터 정비실  201911.0   6.0      8.0  None\n",
       "9114     정비센터      중랑센터  201911.0   9.0     30.0  None"
      ]
     },
     "execution_count": 34,
     "metadata": {},
     "output_type": "execute_result"
    }
   ],
   "source": [
    "print('에러행 수: {}개'.format(len(error_row)))\n",
    "print('\\n에러행의 대여소명: \\n{}'.format(df_bike.loc[error_row,:].station.value_counts()))\n",
    "df_bike.loc[error_row,:]"
   ]
  },
  {
   "cell_type": "markdown",
   "metadata": {},
   "source": [
    "* 정비센터이거나, 그룹명이 없는 경우가 있다. \n",
    "    * 근데센터에서 분출된 자전거는 정말 정비가 되어서 나온 것은 아닐까?\n",
    "* 정비센터는 count 수 자체가 적고, 대여소명이 없는 곳은 추적할 방법이 없기때문에, **삭제하도록 하자.**\n",
    "    * 대여소명이 없는 곳은 대여소가 사라진곳이려나?"
   ]
  },
  {
   "cell_type": "code",
   "execution_count": 35,
   "metadata": {
    "ExecuteTime": {
     "end_time": "2020-05-04T04:28:06.041115Z",
     "start_time": "2020-05-04T04:28:06.032140Z"
    }
   },
   "outputs": [],
   "source": [
    "df_bike.drop(error_row, inplace=True)\n",
    "df_bike.reset_index(drop=True, inplace=True)"
   ]
  },
  {
   "cell_type": "code",
   "execution_count": 36,
   "metadata": {
    "ExecuteTime": {
     "end_time": "2020-05-04T04:28:06.051089Z",
     "start_time": "2020-05-04T04:28:06.042113Z"
    }
   },
   "outputs": [],
   "source": [
    "df_bike.drop(df_bike[df_bike.district=='정비센터'].index, axis=0, inplace=True)"
   ]
  },
  {
   "cell_type": "code",
   "execution_count": 37,
   "metadata": {
    "ExecuteTime": {
     "end_time": "2020-05-04T04:28:06.063058Z",
     "start_time": "2020-05-04T04:28:06.052086Z"
    }
   },
   "outputs": [
    {
     "data": {
      "text/html": [
       "<div>\n",
       "<style scoped>\n",
       "    .dataframe tbody tr th:only-of-type {\n",
       "        vertical-align: middle;\n",
       "    }\n",
       "\n",
       "    .dataframe tbody tr th {\n",
       "        vertical-align: top;\n",
       "    }\n",
       "\n",
       "    .dataframe thead th {\n",
       "        text-align: right;\n",
       "    }\n",
       "</style>\n",
       "<table border=\"1\" class=\"dataframe\">\n",
       "  <thead>\n",
       "    <tr style=\"text-align: right;\">\n",
       "      <th></th>\n",
       "      <th>district</th>\n",
       "      <th>id</th>\n",
       "      <th>station</th>\n",
       "      <th>address</th>\n",
       "      <th>lat</th>\n",
       "      <th>lng</th>\n",
       "      <th>date</th>\n",
       "      <th>count</th>\n",
       "    </tr>\n",
       "  </thead>\n",
       "  <tbody>\n",
       "    <tr>\n",
       "      <td>0</td>\n",
       "      <td>마포구</td>\n",
       "      <td>101.0</td>\n",
       "      <td>101. (구)합정동 주민센터</td>\n",
       "      <td>서울특별시 마포구 동교로8길 58</td>\n",
       "      <td>37.549561</td>\n",
       "      <td>126.905754</td>\n",
       "      <td>2015-09-06 23:40:56</td>\n",
       "      <td>5</td>\n",
       "    </tr>\n",
       "    <tr>\n",
       "      <td>1</td>\n",
       "      <td>마포구</td>\n",
       "      <td>102.0</td>\n",
       "      <td>102. 망원역 1번출구 앞</td>\n",
       "      <td>서울특별시 마포구 월드컵로 72</td>\n",
       "      <td>37.555649</td>\n",
       "      <td>126.910629</td>\n",
       "      <td>2015-09-06 23:42:06</td>\n",
       "      <td>20</td>\n",
       "    </tr>\n",
       "    <tr>\n",
       "      <td>2</td>\n",
       "      <td>마포구</td>\n",
       "      <td>103.0</td>\n",
       "      <td>103. 망원역 2번출구 앞</td>\n",
       "      <td>서울특별시 마포구 월드컵로 79</td>\n",
       "      <td>37.554951</td>\n",
       "      <td>126.910835</td>\n",
       "      <td>2015-09-06 23:43:13</td>\n",
       "      <td>14</td>\n",
       "    </tr>\n",
       "    <tr>\n",
       "      <td>3</td>\n",
       "      <td>마포구</td>\n",
       "      <td>104.0</td>\n",
       "      <td>104. 합정역 1번출구 앞</td>\n",
       "      <td>서울특별시 마포구 양화로 59</td>\n",
       "      <td>37.550629</td>\n",
       "      <td>126.914986</td>\n",
       "      <td>2015-09-06 23:44:31</td>\n",
       "      <td>13</td>\n",
       "    </tr>\n",
       "    <tr>\n",
       "      <td>4</td>\n",
       "      <td>마포구</td>\n",
       "      <td>105.0</td>\n",
       "      <td>105. 합정역 5번출구 앞</td>\n",
       "      <td>서울특별시 마포구 양화로 48</td>\n",
       "      <td>37.550007</td>\n",
       "      <td>126.914825</td>\n",
       "      <td>2015-09-06 23:45:30</td>\n",
       "      <td>5</td>\n",
       "    </tr>\n",
       "  </tbody>\n",
       "</table>\n",
       "</div>"
      ],
      "text/plain": [
       "  district     id           station             address        lat  \\\n",
       "0      마포구  101.0  101. (구)합정동 주민센터  서울특별시 마포구 동교로8길 58  37.549561   \n",
       "1      마포구  102.0   102. 망원역 1번출구 앞   서울특별시 마포구 월드컵로 72  37.555649   \n",
       "2      마포구  103.0   103. 망원역 2번출구 앞   서울특별시 마포구 월드컵로 79  37.554951   \n",
       "3      마포구  104.0   104. 합정역 1번출구 앞    서울특별시 마포구 양화로 59  37.550629   \n",
       "4      마포구  105.0   105. 합정역 5번출구 앞    서울특별시 마포구 양화로 48  37.550007   \n",
       "\n",
       "          lng                 date  count  \n",
       "0  126.905754  2015-09-06 23:40:56      5  \n",
       "1  126.910629  2015-09-06 23:42:06     20  \n",
       "2  126.910835  2015-09-06 23:43:13     14  \n",
       "3  126.914986  2015-09-06 23:44:31     13  \n",
       "4  126.914825  2015-09-06 23:45:30      5  "
      ]
     },
     "execution_count": 37,
     "metadata": {},
     "output_type": "execute_result"
    }
   ],
   "source": [
    "df_station.head()"
   ]
  },
  {
   "cell_type": "markdown",
   "metadata": {},
   "source": [
    "* 이제 station데이터에 있는 station컬럼 내 id를 빼주자."
   ]
  },
  {
   "cell_type": "code",
   "execution_count": 38,
   "metadata": {
    "ExecuteTime": {
     "end_time": "2020-05-04T04:28:06.647523Z",
     "start_time": "2020-05-04T04:28:06.064055Z"
    }
   },
   "outputs": [],
   "source": [
    "p = re.compile('\\d+[. ]')\n",
    "for row in df_station.index:\n",
    "    try:\n",
    "        df_station.loc[row, 'station'] = p2.sub('', df_station.loc[row, 'station'])\n",
    "    except:\n",
    "        print(row)"
   ]
  },
  {
   "cell_type": "code",
   "execution_count": 39,
   "metadata": {
    "ExecuteTime": {
     "end_time": "2020-05-04T04:28:06.657466Z",
     "start_time": "2020-05-04T04:28:06.648490Z"
    }
   },
   "outputs": [
    {
     "data": {
      "text/html": [
       "<div>\n",
       "<style scoped>\n",
       "    .dataframe tbody tr th:only-of-type {\n",
       "        vertical-align: middle;\n",
       "    }\n",
       "\n",
       "    .dataframe tbody tr th {\n",
       "        vertical-align: top;\n",
       "    }\n",
       "\n",
       "    .dataframe thead th {\n",
       "        text-align: right;\n",
       "    }\n",
       "</style>\n",
       "<table border=\"1\" class=\"dataframe\">\n",
       "  <thead>\n",
       "    <tr style=\"text-align: right;\">\n",
       "      <th></th>\n",
       "      <th>district</th>\n",
       "      <th>id</th>\n",
       "      <th>station</th>\n",
       "      <th>address</th>\n",
       "      <th>lat</th>\n",
       "      <th>lng</th>\n",
       "      <th>date</th>\n",
       "      <th>count</th>\n",
       "    </tr>\n",
       "  </thead>\n",
       "  <tbody>\n",
       "    <tr>\n",
       "      <td>0</td>\n",
       "      <td>마포구</td>\n",
       "      <td>101.0</td>\n",
       "      <td>(구)합정동 주민센터</td>\n",
       "      <td>서울특별시 마포구 동교로8길 58</td>\n",
       "      <td>37.549561</td>\n",
       "      <td>126.905754</td>\n",
       "      <td>2015-09-06 23:40:56</td>\n",
       "      <td>5</td>\n",
       "    </tr>\n",
       "    <tr>\n",
       "      <td>1</td>\n",
       "      <td>마포구</td>\n",
       "      <td>102.0</td>\n",
       "      <td>망원역 1번출구 앞</td>\n",
       "      <td>서울특별시 마포구 월드컵로 72</td>\n",
       "      <td>37.555649</td>\n",
       "      <td>126.910629</td>\n",
       "      <td>2015-09-06 23:42:06</td>\n",
       "      <td>20</td>\n",
       "    </tr>\n",
       "    <tr>\n",
       "      <td>2</td>\n",
       "      <td>마포구</td>\n",
       "      <td>103.0</td>\n",
       "      <td>망원역 2번출구 앞</td>\n",
       "      <td>서울특별시 마포구 월드컵로 79</td>\n",
       "      <td>37.554951</td>\n",
       "      <td>126.910835</td>\n",
       "      <td>2015-09-06 23:43:13</td>\n",
       "      <td>14</td>\n",
       "    </tr>\n",
       "    <tr>\n",
       "      <td>3</td>\n",
       "      <td>마포구</td>\n",
       "      <td>104.0</td>\n",
       "      <td>합정역 1번출구 앞</td>\n",
       "      <td>서울특별시 마포구 양화로 59</td>\n",
       "      <td>37.550629</td>\n",
       "      <td>126.914986</td>\n",
       "      <td>2015-09-06 23:44:31</td>\n",
       "      <td>13</td>\n",
       "    </tr>\n",
       "    <tr>\n",
       "      <td>4</td>\n",
       "      <td>마포구</td>\n",
       "      <td>105.0</td>\n",
       "      <td>합정역 5번출구 앞</td>\n",
       "      <td>서울특별시 마포구 양화로 48</td>\n",
       "      <td>37.550007</td>\n",
       "      <td>126.914825</td>\n",
       "      <td>2015-09-06 23:45:30</td>\n",
       "      <td>5</td>\n",
       "    </tr>\n",
       "  </tbody>\n",
       "</table>\n",
       "</div>"
      ],
      "text/plain": [
       "  district     id       station             address        lat         lng  \\\n",
       "0      마포구  101.0   (구)합정동 주민센터  서울특별시 마포구 동교로8길 58  37.549561  126.905754   \n",
       "1      마포구  102.0    망원역 1번출구 앞   서울특별시 마포구 월드컵로 72  37.555649  126.910629   \n",
       "2      마포구  103.0    망원역 2번출구 앞   서울특별시 마포구 월드컵로 79  37.554951  126.910835   \n",
       "3      마포구  104.0    합정역 1번출구 앞    서울특별시 마포구 양화로 59  37.550629  126.914986   \n",
       "4      마포구  105.0    합정역 5번출구 앞    서울특별시 마포구 양화로 48  37.550007  126.914825   \n",
       "\n",
       "                  date  count  \n",
       "0  2015-09-06 23:40:56      5  \n",
       "1  2015-09-06 23:42:06     20  \n",
       "2  2015-09-06 23:43:13     14  \n",
       "3  2015-09-06 23:44:31     13  \n",
       "4  2015-09-06 23:45:30      5  "
      ]
     },
     "execution_count": 39,
     "metadata": {},
     "output_type": "execute_result"
    }
   ],
   "source": [
    "df_station.head()"
   ]
  },
  {
   "cell_type": "markdown",
   "metadata": {},
   "source": [
    "### 2-4. 컬럼 형식 변경"
   ]
  },
  {
   "cell_type": "markdown",
   "metadata": {},
   "source": [
    "#### 2-4-1. df_bike"
   ]
  },
  {
   "cell_type": "code",
   "execution_count": 40,
   "metadata": {
    "ExecuteTime": {
     "end_time": "2020-05-04T04:28:06.667439Z",
     "start_time": "2020-05-04T04:28:06.658464Z"
    }
   },
   "outputs": [
    {
     "data": {
      "text/html": [
       "<div>\n",
       "<style scoped>\n",
       "    .dataframe tbody tr th:only-of-type {\n",
       "        vertical-align: middle;\n",
       "    }\n",
       "\n",
       "    .dataframe tbody tr th {\n",
       "        vertical-align: top;\n",
       "    }\n",
       "\n",
       "    .dataframe thead th {\n",
       "        text-align: right;\n",
       "    }\n",
       "</style>\n",
       "<table border=\"1\" class=\"dataframe\">\n",
       "  <thead>\n",
       "    <tr style=\"text-align: right;\">\n",
       "      <th></th>\n",
       "      <th>district</th>\n",
       "      <th>station</th>\n",
       "      <th>date</th>\n",
       "      <th>rent</th>\n",
       "      <th>return</th>\n",
       "      <th>id</th>\n",
       "    </tr>\n",
       "  </thead>\n",
       "  <tbody>\n",
       "    <tr>\n",
       "      <td>0</td>\n",
       "      <td>강남구</td>\n",
       "      <td>현대고등학교 건너편</td>\n",
       "      <td>201906.0</td>\n",
       "      <td>3909.0</td>\n",
       "      <td>4072.0</td>\n",
       "      <td>2301</td>\n",
       "    </tr>\n",
       "    <tr>\n",
       "      <td>1</td>\n",
       "      <td>강남구</td>\n",
       "      <td>교보타워 버스정류장(신논현역 3번출구 후면)</td>\n",
       "      <td>201906.0</td>\n",
       "      <td>2432.0</td>\n",
       "      <td>2382.0</td>\n",
       "      <td>2302</td>\n",
       "    </tr>\n",
       "    <tr>\n",
       "      <td>2</td>\n",
       "      <td>강남구</td>\n",
       "      <td>논현역 7번출구</td>\n",
       "      <td>201906.0</td>\n",
       "      <td>1567.0</td>\n",
       "      <td>1402.0</td>\n",
       "      <td>2303</td>\n",
       "    </tr>\n",
       "    <tr>\n",
       "      <td>3</td>\n",
       "      <td>강남구</td>\n",
       "      <td>신영 ROYAL PALACE 앞</td>\n",
       "      <td>201906.0</td>\n",
       "      <td>559.0</td>\n",
       "      <td>207.0</td>\n",
       "      <td>2304</td>\n",
       "    </tr>\n",
       "    <tr>\n",
       "      <td>4</td>\n",
       "      <td>강남구</td>\n",
       "      <td>MCM 본사 직영점 앞</td>\n",
       "      <td>201906.0</td>\n",
       "      <td>730.0</td>\n",
       "      <td>905.0</td>\n",
       "      <td>2305</td>\n",
       "    </tr>\n",
       "  </tbody>\n",
       "</table>\n",
       "</div>"
      ],
      "text/plain": [
       "  district                    station      date    rent  return    id\n",
       "0      강남구                 현대고등학교 건너편  201906.0  3909.0  4072.0  2301\n",
       "1      강남구   교보타워 버스정류장(신논현역 3번출구 후면)  201906.0  2432.0  2382.0  2302\n",
       "2      강남구                   논현역 7번출구  201906.0  1567.0  1402.0  2303\n",
       "3      강남구          신영 ROYAL PALACE 앞  201906.0   559.0   207.0  2304\n",
       "4      강남구               MCM 본사 직영점 앞  201906.0   730.0   905.0  2305"
      ]
     },
     "execution_count": 40,
     "metadata": {},
     "output_type": "execute_result"
    }
   ],
   "source": [
    "df_bike.head()"
   ]
  },
  {
   "cell_type": "code",
   "execution_count": 41,
   "metadata": {
    "ExecuteTime": {
     "end_time": "2020-05-04T04:28:06.677413Z",
     "start_time": "2020-05-04T04:28:06.668437Z"
    }
   },
   "outputs": [
    {
     "data": {
      "text/html": [
       "<div>\n",
       "<style scoped>\n",
       "    .dataframe tbody tr th:only-of-type {\n",
       "        vertical-align: middle;\n",
       "    }\n",
       "\n",
       "    .dataframe tbody tr th {\n",
       "        vertical-align: top;\n",
       "    }\n",
       "\n",
       "    .dataframe thead th {\n",
       "        text-align: right;\n",
       "    }\n",
       "</style>\n",
       "<table border=\"1\" class=\"dataframe\">\n",
       "  <thead>\n",
       "    <tr style=\"text-align: right;\">\n",
       "      <th></th>\n",
       "      <th>district</th>\n",
       "      <th>station</th>\n",
       "      <th>date</th>\n",
       "      <th>rent</th>\n",
       "      <th>return</th>\n",
       "      <th>id</th>\n",
       "    </tr>\n",
       "  </thead>\n",
       "  <tbody>\n",
       "    <tr>\n",
       "      <td>0</td>\n",
       "      <td>강남구</td>\n",
       "      <td>현대고등학교 건너편</td>\n",
       "      <td>201906.0</td>\n",
       "      <td>3909.0</td>\n",
       "      <td>4072.0</td>\n",
       "      <td>2301</td>\n",
       "    </tr>\n",
       "    <tr>\n",
       "      <td>1</td>\n",
       "      <td>강남구</td>\n",
       "      <td>교보타워 버스정류장(신논현역 3번출구 후면)</td>\n",
       "      <td>201906.0</td>\n",
       "      <td>2432.0</td>\n",
       "      <td>2382.0</td>\n",
       "      <td>2302</td>\n",
       "    </tr>\n",
       "    <tr>\n",
       "      <td>2</td>\n",
       "      <td>강남구</td>\n",
       "      <td>논현역 7번출구</td>\n",
       "      <td>201906.0</td>\n",
       "      <td>1567.0</td>\n",
       "      <td>1402.0</td>\n",
       "      <td>2303</td>\n",
       "    </tr>\n",
       "    <tr>\n",
       "      <td>3</td>\n",
       "      <td>강남구</td>\n",
       "      <td>신영 ROYAL PALACE 앞</td>\n",
       "      <td>201906.0</td>\n",
       "      <td>559.0</td>\n",
       "      <td>207.0</td>\n",
       "      <td>2304</td>\n",
       "    </tr>\n",
       "    <tr>\n",
       "      <td>4</td>\n",
       "      <td>강남구</td>\n",
       "      <td>MCM 본사 직영점 앞</td>\n",
       "      <td>201906.0</td>\n",
       "      <td>730.0</td>\n",
       "      <td>905.0</td>\n",
       "      <td>2305</td>\n",
       "    </tr>\n",
       "  </tbody>\n",
       "</table>\n",
       "</div>"
      ],
      "text/plain": [
       "  district                    station      date    rent  return    id\n",
       "0      강남구                 현대고등학교 건너편  201906.0  3909.0  4072.0  2301\n",
       "1      강남구   교보타워 버스정류장(신논현역 3번출구 후면)  201906.0  2432.0  2382.0  2302\n",
       "2      강남구                   논현역 7번출구  201906.0  1567.0  1402.0  2303\n",
       "3      강남구          신영 ROYAL PALACE 앞  201906.0   559.0   207.0  2304\n",
       "4      강남구               MCM 본사 직영점 앞  201906.0   730.0   905.0  2305"
      ]
     },
     "execution_count": 41,
     "metadata": {},
     "output_type": "execute_result"
    }
   ],
   "source": [
    "df_bike.columns = ['district', 'station', 'date', 'rent', 'return', 'id']\n",
    "df_bike.head()"
   ]
  },
  {
   "cell_type": "code",
   "execution_count": 42,
   "metadata": {
    "ExecuteTime": {
     "end_time": "2020-05-04T04:28:06.686416Z",
     "start_time": "2020-05-04T04:28:06.678410Z"
    }
   },
   "outputs": [
    {
     "name": "stdout",
     "output_type": "stream",
     "text": [
      "<class 'pandas.core.frame.DataFrame'>\n",
      "Int64Index: 18408 entries, 0 to 18434\n",
      "Data columns (total 6 columns):\n",
      "district    18408 non-null object\n",
      "station     18408 non-null object\n",
      "date        18408 non-null float64\n",
      "rent        18408 non-null float64\n",
      "return      18408 non-null float64\n",
      "id          18408 non-null object\n",
      "dtypes: float64(3), object(3)\n",
      "memory usage: 1006.7+ KB\n"
     ]
    }
   ],
   "source": [
    "df_bike.info()"
   ]
  },
  {
   "cell_type": "markdown",
   "metadata": {},
   "source": [
    "* date\n",
    "    * datetime형식으로 변경\n",
    "* count, id\n",
    "    * int로 변경"
   ]
  },
  {
   "cell_type": "code",
   "execution_count": 43,
   "metadata": {
    "ExecuteTime": {
     "end_time": "2020-05-04T04:28:06.712319Z",
     "start_time": "2020-05-04T04:28:06.687387Z"
    }
   },
   "outputs": [],
   "source": [
    "df_bike['date'] = df_bike['date'] * 100 + 1    # date 내 월까지만 기재되있으므로 이를 모두 1일로 통일\n",
    "df_bike['date'] = pd.to_datetime(df_bike['date'], format='%Y%m%d')\n",
    "df_bike['return'] = df_bike['return'].astype('int')\n",
    "df_bike['rent'] = df_bike['rent'].astype('int')\n",
    "df_bike['id'] = df_bike['id'].astype('int')"
   ]
  },
  {
   "cell_type": "code",
   "execution_count": 44,
   "metadata": {
    "ExecuteTime": {
     "end_time": "2020-05-04T04:28:06.721295Z",
     "start_time": "2020-05-04T04:28:06.713317Z"
    }
   },
   "outputs": [
    {
     "name": "stdout",
     "output_type": "stream",
     "text": [
      "<class 'pandas.core.frame.DataFrame'>\n",
      "Int64Index: 18408 entries, 0 to 18434\n",
      "Data columns (total 6 columns):\n",
      "district    18408 non-null object\n",
      "station     18408 non-null object\n",
      "date        18408 non-null datetime64[ns]\n",
      "rent        18408 non-null int32\n",
      "return      18408 non-null int32\n",
      "id          18408 non-null int32\n",
      "dtypes: datetime64[ns](1), int32(3), object(2)\n",
      "memory usage: 791.0+ KB\n"
     ]
    }
   ],
   "source": [
    "df_bike.info()"
   ]
  },
  {
   "cell_type": "code",
   "execution_count": 45,
   "metadata": {
    "ExecuteTime": {
     "end_time": "2020-05-04T04:28:06.740245Z",
     "start_time": "2020-05-04T04:28:06.722294Z"
    }
   },
   "outputs": [
    {
     "data": {
      "text/html": [
       "<div>\n",
       "<style scoped>\n",
       "    .dataframe tbody tr th:only-of-type {\n",
       "        vertical-align: middle;\n",
       "    }\n",
       "\n",
       "    .dataframe tbody tr th {\n",
       "        vertical-align: top;\n",
       "    }\n",
       "\n",
       "    .dataframe thead th {\n",
       "        text-align: right;\n",
       "    }\n",
       "</style>\n",
       "<table border=\"1\" class=\"dataframe\">\n",
       "  <thead>\n",
       "    <tr style=\"text-align: right;\">\n",
       "      <th></th>\n",
       "      <th>district</th>\n",
       "      <th>station</th>\n",
       "      <th>date</th>\n",
       "      <th>rent</th>\n",
       "      <th>return</th>\n",
       "      <th>id</th>\n",
       "    </tr>\n",
       "  </thead>\n",
       "  <tbody>\n",
       "    <tr>\n",
       "      <td>0</td>\n",
       "      <td>강남구</td>\n",
       "      <td>현대고등학교 건너편</td>\n",
       "      <td>2019-06-01</td>\n",
       "      <td>3909</td>\n",
       "      <td>4072</td>\n",
       "      <td>2301</td>\n",
       "    </tr>\n",
       "    <tr>\n",
       "      <td>1</td>\n",
       "      <td>강남구</td>\n",
       "      <td>교보타워 버스정류장(신논현역 3번출구 후면)</td>\n",
       "      <td>2019-06-01</td>\n",
       "      <td>2432</td>\n",
       "      <td>2382</td>\n",
       "      <td>2302</td>\n",
       "    </tr>\n",
       "    <tr>\n",
       "      <td>2</td>\n",
       "      <td>강남구</td>\n",
       "      <td>논현역 7번출구</td>\n",
       "      <td>2019-06-01</td>\n",
       "      <td>1567</td>\n",
       "      <td>1402</td>\n",
       "      <td>2303</td>\n",
       "    </tr>\n",
       "  </tbody>\n",
       "</table>\n",
       "</div>"
      ],
      "text/plain": [
       "  district                    station       date  rent  return    id\n",
       "0      강남구                 현대고등학교 건너편 2019-06-01  3909    4072  2301\n",
       "1      강남구   교보타워 버스정류장(신논현역 3번출구 후면) 2019-06-01  2432    2382  2302\n",
       "2      강남구                   논현역 7번출구 2019-06-01  1567    1402  2303"
      ]
     },
     "execution_count": 45,
     "metadata": {},
     "output_type": "execute_result"
    }
   ],
   "source": [
    "df_bike.head(3)"
   ]
  },
  {
   "cell_type": "markdown",
   "metadata": {},
   "source": [
    "#### 2-4-2. df_station"
   ]
  },
  {
   "cell_type": "code",
   "execution_count": 46,
   "metadata": {
    "ExecuteTime": {
     "end_time": "2020-05-04T04:28:06.747226Z",
     "start_time": "2020-05-04T04:28:06.741242Z"
    }
   },
   "outputs": [
    {
     "name": "stdout",
     "output_type": "stream",
     "text": [
      "<class 'pandas.core.frame.DataFrame'>\n",
      "Int64Index: 1540 entries, 0 to 1539\n",
      "Data columns (total 8 columns):\n",
      "district    1540 non-null object\n",
      "id          1540 non-null float64\n",
      "station     1540 non-null object\n",
      "address     1540 non-null object\n",
      "lat         1540 non-null float64\n",
      "lng         1540 non-null float64\n",
      "date        1540 non-null object\n",
      "count       1540 non-null int64\n",
      "dtypes: float64(3), int64(1), object(4)\n",
      "memory usage: 148.3+ KB\n"
     ]
    }
   ],
   "source": [
    "df_station.info()"
   ]
  },
  {
   "cell_type": "markdown",
   "metadata": {},
   "source": [
    "* id\n",
    "    * int로 변환\n",
    "* date\n",
    "    * datetime으로 변환"
   ]
  },
  {
   "cell_type": "code",
   "execution_count": 47,
   "metadata": {
    "ExecuteTime": {
     "end_time": "2020-05-04T04:28:06.950682Z",
     "start_time": "2020-05-04T04:28:06.748224Z"
    }
   },
   "outputs": [
    {
     "ename": "ValueError",
     "evalue": "('Unknown string format:', '2018.7.4개통')",
     "output_type": "error",
     "traceback": [
      "\u001b[1;31m---------------------------------------------------------------------------\u001b[0m",
      "\u001b[1;31mTypeError\u001b[0m                                 Traceback (most recent call last)",
      "\u001b[1;32mD:\\Program Files\\Anaconda3\\lib\\site-packages\\pandas\\core\\arrays\\datetimes.py\u001b[0m in \u001b[0;36mobjects_to_datetime64ns\u001b[1;34m(data, dayfirst, yearfirst, utc, errors, require_iso8601, allow_object)\u001b[0m\n\u001b[0;32m   1978\u001b[0m         \u001b[1;32mtry\u001b[0m\u001b[1;33m:\u001b[0m\u001b[1;33m\u001b[0m\u001b[1;33m\u001b[0m\u001b[0m\n\u001b[1;32m-> 1979\u001b[1;33m             \u001b[0mvalues\u001b[0m\u001b[1;33m,\u001b[0m \u001b[0mtz_parsed\u001b[0m \u001b[1;33m=\u001b[0m \u001b[0mconversion\u001b[0m\u001b[1;33m.\u001b[0m\u001b[0mdatetime_to_datetime64\u001b[0m\u001b[1;33m(\u001b[0m\u001b[0mdata\u001b[0m\u001b[1;33m)\u001b[0m\u001b[1;33m\u001b[0m\u001b[1;33m\u001b[0m\u001b[0m\n\u001b[0m\u001b[0;32m   1980\u001b[0m             \u001b[1;31m# If tzaware, these values represent unix timestamps, so we\u001b[0m\u001b[1;33m\u001b[0m\u001b[1;33m\u001b[0m\u001b[1;33m\u001b[0m\u001b[0m\n",
      "\u001b[1;32mpandas\\_libs\\tslibs\\conversion.pyx\u001b[0m in \u001b[0;36mpandas._libs.tslibs.conversion.datetime_to_datetime64\u001b[1;34m()\u001b[0m\n",
      "\u001b[1;31mTypeError\u001b[0m: Unrecognized value type: <class 'str'>",
      "\nDuring handling of the above exception, another exception occurred:\n",
      "\u001b[1;31mValueError\u001b[0m                                Traceback (most recent call last)",
      "\u001b[1;32m<ipython-input-47-9855be6b4f14>\u001b[0m in \u001b[0;36m<module>\u001b[1;34m\u001b[0m\n\u001b[0;32m      1\u001b[0m \u001b[0mdf_station\u001b[0m\u001b[1;33m[\u001b[0m\u001b[1;34m'id'\u001b[0m\u001b[1;33m]\u001b[0m \u001b[1;33m=\u001b[0m \u001b[0mdf_station\u001b[0m\u001b[1;33m[\u001b[0m\u001b[1;34m'id'\u001b[0m\u001b[1;33m]\u001b[0m\u001b[1;33m.\u001b[0m\u001b[0mastype\u001b[0m\u001b[1;33m(\u001b[0m\u001b[1;34m'int'\u001b[0m\u001b[1;33m)\u001b[0m\u001b[1;33m\u001b[0m\u001b[1;33m\u001b[0m\u001b[0m\n\u001b[1;32m----> 2\u001b[1;33m \u001b[0mdf_station\u001b[0m\u001b[1;33m[\u001b[0m\u001b[1;34m'date'\u001b[0m\u001b[1;33m]\u001b[0m \u001b[1;33m=\u001b[0m \u001b[0mpd\u001b[0m\u001b[1;33m.\u001b[0m\u001b[0mto_datetime\u001b[0m\u001b[1;33m(\u001b[0m\u001b[0mdf_station\u001b[0m\u001b[1;33m[\u001b[0m\u001b[1;34m'date'\u001b[0m\u001b[1;33m]\u001b[0m\u001b[1;33m)\u001b[0m\u001b[1;33m\u001b[0m\u001b[1;33m\u001b[0m\u001b[0m\n\u001b[0m\u001b[0;32m      3\u001b[0m \u001b[0mdf_station\u001b[0m\u001b[1;33m\u001b[0m\u001b[1;33m\u001b[0m\u001b[0m\n",
      "\u001b[1;32mD:\\Program Files\\Anaconda3\\lib\\site-packages\\pandas\\util\\_decorators.py\u001b[0m in \u001b[0;36mwrapper\u001b[1;34m(*args, **kwargs)\u001b[0m\n\u001b[0;32m    206\u001b[0m                 \u001b[1;32melse\u001b[0m\u001b[1;33m:\u001b[0m\u001b[1;33m\u001b[0m\u001b[1;33m\u001b[0m\u001b[0m\n\u001b[0;32m    207\u001b[0m                     \u001b[0mkwargs\u001b[0m\u001b[1;33m[\u001b[0m\u001b[0mnew_arg_name\u001b[0m\u001b[1;33m]\u001b[0m \u001b[1;33m=\u001b[0m \u001b[0mnew_arg_value\u001b[0m\u001b[1;33m\u001b[0m\u001b[1;33m\u001b[0m\u001b[0m\n\u001b[1;32m--> 208\u001b[1;33m             \u001b[1;32mreturn\u001b[0m \u001b[0mfunc\u001b[0m\u001b[1;33m(\u001b[0m\u001b[1;33m*\u001b[0m\u001b[0margs\u001b[0m\u001b[1;33m,\u001b[0m \u001b[1;33m**\u001b[0m\u001b[0mkwargs\u001b[0m\u001b[1;33m)\u001b[0m\u001b[1;33m\u001b[0m\u001b[1;33m\u001b[0m\u001b[0m\n\u001b[0m\u001b[0;32m    209\u001b[0m \u001b[1;33m\u001b[0m\u001b[0m\n\u001b[0;32m    210\u001b[0m         \u001b[1;32mreturn\u001b[0m \u001b[0mwrapper\u001b[0m\u001b[1;33m\u001b[0m\u001b[1;33m\u001b[0m\u001b[0m\n",
      "\u001b[1;32mD:\\Program Files\\Anaconda3\\lib\\site-packages\\pandas\\core\\tools\\datetimes.py\u001b[0m in \u001b[0;36mto_datetime\u001b[1;34m(arg, errors, dayfirst, yearfirst, utc, box, format, exact, unit, infer_datetime_format, origin, cache)\u001b[0m\n\u001b[0;32m    772\u001b[0m                 \u001b[0mresult\u001b[0m \u001b[1;33m=\u001b[0m \u001b[0mresult\u001b[0m\u001b[1;33m.\u001b[0m\u001b[0mtz_localize\u001b[0m\u001b[1;33m(\u001b[0m\u001b[0mtz\u001b[0m\u001b[1;33m)\u001b[0m\u001b[1;33m\u001b[0m\u001b[1;33m\u001b[0m\u001b[0m\n\u001b[0;32m    773\u001b[0m     \u001b[1;32melif\u001b[0m \u001b[0misinstance\u001b[0m\u001b[1;33m(\u001b[0m\u001b[0marg\u001b[0m\u001b[1;33m,\u001b[0m \u001b[0mABCSeries\u001b[0m\u001b[1;33m)\u001b[0m\u001b[1;33m:\u001b[0m\u001b[1;33m\u001b[0m\u001b[1;33m\u001b[0m\u001b[0m\n\u001b[1;32m--> 774\u001b[1;33m         \u001b[0mcache_array\u001b[0m \u001b[1;33m=\u001b[0m \u001b[0m_maybe_cache\u001b[0m\u001b[1;33m(\u001b[0m\u001b[0marg\u001b[0m\u001b[1;33m,\u001b[0m \u001b[0mformat\u001b[0m\u001b[1;33m,\u001b[0m \u001b[0mcache\u001b[0m\u001b[1;33m,\u001b[0m \u001b[0mconvert_listlike\u001b[0m\u001b[1;33m)\u001b[0m\u001b[1;33m\u001b[0m\u001b[1;33m\u001b[0m\u001b[0m\n\u001b[0m\u001b[0;32m    775\u001b[0m         \u001b[1;32mif\u001b[0m \u001b[1;32mnot\u001b[0m \u001b[0mcache_array\u001b[0m\u001b[1;33m.\u001b[0m\u001b[0mempty\u001b[0m\u001b[1;33m:\u001b[0m\u001b[1;33m\u001b[0m\u001b[1;33m\u001b[0m\u001b[0m\n\u001b[0;32m    776\u001b[0m             \u001b[0mresult\u001b[0m \u001b[1;33m=\u001b[0m \u001b[0marg\u001b[0m\u001b[1;33m.\u001b[0m\u001b[0mmap\u001b[0m\u001b[1;33m(\u001b[0m\u001b[0mcache_array\u001b[0m\u001b[1;33m)\u001b[0m\u001b[1;33m\u001b[0m\u001b[1;33m\u001b[0m\u001b[0m\n",
      "\u001b[1;32mD:\\Program Files\\Anaconda3\\lib\\site-packages\\pandas\\core\\tools\\datetimes.py\u001b[0m in \u001b[0;36m_maybe_cache\u001b[1;34m(arg, format, cache, convert_listlike)\u001b[0m\n\u001b[0;32m    154\u001b[0m         \u001b[0munique_dates\u001b[0m \u001b[1;33m=\u001b[0m \u001b[0munique\u001b[0m\u001b[1;33m(\u001b[0m\u001b[0marg\u001b[0m\u001b[1;33m)\u001b[0m\u001b[1;33m\u001b[0m\u001b[1;33m\u001b[0m\u001b[0m\n\u001b[0;32m    155\u001b[0m         \u001b[1;32mif\u001b[0m \u001b[0mlen\u001b[0m\u001b[1;33m(\u001b[0m\u001b[0munique_dates\u001b[0m\u001b[1;33m)\u001b[0m \u001b[1;33m<\u001b[0m \u001b[0mlen\u001b[0m\u001b[1;33m(\u001b[0m\u001b[0marg\u001b[0m\u001b[1;33m)\u001b[0m\u001b[1;33m:\u001b[0m\u001b[1;33m\u001b[0m\u001b[1;33m\u001b[0m\u001b[0m\n\u001b[1;32m--> 156\u001b[1;33m             \u001b[0mcache_dates\u001b[0m \u001b[1;33m=\u001b[0m \u001b[0mconvert_listlike\u001b[0m\u001b[1;33m(\u001b[0m\u001b[0munique_dates\u001b[0m\u001b[1;33m,\u001b[0m \u001b[1;32mTrue\u001b[0m\u001b[1;33m,\u001b[0m \u001b[0mformat\u001b[0m\u001b[1;33m)\u001b[0m\u001b[1;33m\u001b[0m\u001b[1;33m\u001b[0m\u001b[0m\n\u001b[0m\u001b[0;32m    157\u001b[0m             \u001b[0mcache_array\u001b[0m \u001b[1;33m=\u001b[0m \u001b[0mSeries\u001b[0m\u001b[1;33m(\u001b[0m\u001b[0mcache_dates\u001b[0m\u001b[1;33m,\u001b[0m \u001b[0mindex\u001b[0m\u001b[1;33m=\u001b[0m\u001b[0munique_dates\u001b[0m\u001b[1;33m)\u001b[0m\u001b[1;33m\u001b[0m\u001b[1;33m\u001b[0m\u001b[0m\n\u001b[0;32m    158\u001b[0m     \u001b[1;32mreturn\u001b[0m \u001b[0mcache_array\u001b[0m\u001b[1;33m\u001b[0m\u001b[1;33m\u001b[0m\u001b[0m\n",
      "\u001b[1;32mD:\\Program Files\\Anaconda3\\lib\\site-packages\\pandas\\core\\tools\\datetimes.py\u001b[0m in \u001b[0;36m_convert_listlike_datetimes\u001b[1;34m(arg, box, format, name, tz, unit, errors, infer_datetime_format, dayfirst, yearfirst, exact)\u001b[0m\n\u001b[0;32m    461\u001b[0m             \u001b[0merrors\u001b[0m\u001b[1;33m=\u001b[0m\u001b[0merrors\u001b[0m\u001b[1;33m,\u001b[0m\u001b[1;33m\u001b[0m\u001b[1;33m\u001b[0m\u001b[0m\n\u001b[0;32m    462\u001b[0m             \u001b[0mrequire_iso8601\u001b[0m\u001b[1;33m=\u001b[0m\u001b[0mrequire_iso8601\u001b[0m\u001b[1;33m,\u001b[0m\u001b[1;33m\u001b[0m\u001b[1;33m\u001b[0m\u001b[0m\n\u001b[1;32m--> 463\u001b[1;33m             \u001b[0mallow_object\u001b[0m\u001b[1;33m=\u001b[0m\u001b[1;32mTrue\u001b[0m\u001b[1;33m,\u001b[0m\u001b[1;33m\u001b[0m\u001b[1;33m\u001b[0m\u001b[0m\n\u001b[0m\u001b[0;32m    464\u001b[0m         )\n\u001b[0;32m    465\u001b[0m \u001b[1;33m\u001b[0m\u001b[0m\n",
      "\u001b[1;32mD:\\Program Files\\Anaconda3\\lib\\site-packages\\pandas\\core\\arrays\\datetimes.py\u001b[0m in \u001b[0;36mobjects_to_datetime64ns\u001b[1;34m(data, dayfirst, yearfirst, utc, errors, require_iso8601, allow_object)\u001b[0m\n\u001b[0;32m   1982\u001b[0m             \u001b[1;32mreturn\u001b[0m \u001b[0mvalues\u001b[0m\u001b[1;33m.\u001b[0m\u001b[0mview\u001b[0m\u001b[1;33m(\u001b[0m\u001b[1;34m\"i8\"\u001b[0m\u001b[1;33m)\u001b[0m\u001b[1;33m,\u001b[0m \u001b[0mtz_parsed\u001b[0m\u001b[1;33m\u001b[0m\u001b[1;33m\u001b[0m\u001b[0m\n\u001b[0;32m   1983\u001b[0m         \u001b[1;32mexcept\u001b[0m \u001b[1;33m(\u001b[0m\u001b[0mValueError\u001b[0m\u001b[1;33m,\u001b[0m \u001b[0mTypeError\u001b[0m\u001b[1;33m)\u001b[0m\u001b[1;33m:\u001b[0m\u001b[1;33m\u001b[0m\u001b[1;33m\u001b[0m\u001b[0m\n\u001b[1;32m-> 1984\u001b[1;33m             \u001b[1;32mraise\u001b[0m \u001b[0me\u001b[0m\u001b[1;33m\u001b[0m\u001b[1;33m\u001b[0m\u001b[0m\n\u001b[0m\u001b[0;32m   1985\u001b[0m \u001b[1;33m\u001b[0m\u001b[0m\n\u001b[0;32m   1986\u001b[0m     \u001b[1;32mif\u001b[0m \u001b[0mtz_parsed\u001b[0m \u001b[1;32mis\u001b[0m \u001b[1;32mnot\u001b[0m \u001b[1;32mNone\u001b[0m\u001b[1;33m:\u001b[0m\u001b[1;33m\u001b[0m\u001b[1;33m\u001b[0m\u001b[0m\n",
      "\u001b[1;32mD:\\Program Files\\Anaconda3\\lib\\site-packages\\pandas\\core\\arrays\\datetimes.py\u001b[0m in \u001b[0;36mobjects_to_datetime64ns\u001b[1;34m(data, dayfirst, yearfirst, utc, errors, require_iso8601, allow_object)\u001b[0m\n\u001b[0;32m   1973\u001b[0m             \u001b[0mdayfirst\u001b[0m\u001b[1;33m=\u001b[0m\u001b[0mdayfirst\u001b[0m\u001b[1;33m,\u001b[0m\u001b[1;33m\u001b[0m\u001b[1;33m\u001b[0m\u001b[0m\n\u001b[0;32m   1974\u001b[0m             \u001b[0myearfirst\u001b[0m\u001b[1;33m=\u001b[0m\u001b[0myearfirst\u001b[0m\u001b[1;33m,\u001b[0m\u001b[1;33m\u001b[0m\u001b[1;33m\u001b[0m\u001b[0m\n\u001b[1;32m-> 1975\u001b[1;33m             \u001b[0mrequire_iso8601\u001b[0m\u001b[1;33m=\u001b[0m\u001b[0mrequire_iso8601\u001b[0m\u001b[1;33m,\u001b[0m\u001b[1;33m\u001b[0m\u001b[1;33m\u001b[0m\u001b[0m\n\u001b[0m\u001b[0;32m   1976\u001b[0m         )\n\u001b[0;32m   1977\u001b[0m     \u001b[1;32mexcept\u001b[0m \u001b[0mValueError\u001b[0m \u001b[1;32mas\u001b[0m \u001b[0me\u001b[0m\u001b[1;33m:\u001b[0m\u001b[1;33m\u001b[0m\u001b[1;33m\u001b[0m\u001b[0m\n",
      "\u001b[1;32mpandas\\_libs\\tslib.pyx\u001b[0m in \u001b[0;36mpandas._libs.tslib.array_to_datetime\u001b[1;34m()\u001b[0m\n",
      "\u001b[1;32mpandas\\_libs\\tslib.pyx\u001b[0m in \u001b[0;36mpandas._libs.tslib.array_to_datetime\u001b[1;34m()\u001b[0m\n",
      "\u001b[1;32mpandas\\_libs\\tslib.pyx\u001b[0m in \u001b[0;36mpandas._libs.tslib.array_to_datetime_object\u001b[1;34m()\u001b[0m\n",
      "\u001b[1;32mpandas\\_libs\\tslib.pyx\u001b[0m in \u001b[0;36mpandas._libs.tslib.array_to_datetime_object\u001b[1;34m()\u001b[0m\n",
      "\u001b[1;32mpandas\\_libs\\tslibs\\parsing.pyx\u001b[0m in \u001b[0;36mpandas._libs.tslibs.parsing.parse_datetime_string\u001b[1;34m()\u001b[0m\n",
      "\u001b[1;32mD:\\Program Files\\Anaconda3\\lib\\site-packages\\dateutil\\parser\\_parser.py\u001b[0m in \u001b[0;36mparse\u001b[1;34m(timestr, parserinfo, **kwargs)\u001b[0m\n\u001b[0;32m   1356\u001b[0m         \u001b[1;32mreturn\u001b[0m \u001b[0mparser\u001b[0m\u001b[1;33m(\u001b[0m\u001b[0mparserinfo\u001b[0m\u001b[1;33m)\u001b[0m\u001b[1;33m.\u001b[0m\u001b[0mparse\u001b[0m\u001b[1;33m(\u001b[0m\u001b[0mtimestr\u001b[0m\u001b[1;33m,\u001b[0m \u001b[1;33m**\u001b[0m\u001b[0mkwargs\u001b[0m\u001b[1;33m)\u001b[0m\u001b[1;33m\u001b[0m\u001b[1;33m\u001b[0m\u001b[0m\n\u001b[0;32m   1357\u001b[0m     \u001b[1;32melse\u001b[0m\u001b[1;33m:\u001b[0m\u001b[1;33m\u001b[0m\u001b[1;33m\u001b[0m\u001b[0m\n\u001b[1;32m-> 1358\u001b[1;33m         \u001b[1;32mreturn\u001b[0m \u001b[0mDEFAULTPARSER\u001b[0m\u001b[1;33m.\u001b[0m\u001b[0mparse\u001b[0m\u001b[1;33m(\u001b[0m\u001b[0mtimestr\u001b[0m\u001b[1;33m,\u001b[0m \u001b[1;33m**\u001b[0m\u001b[0mkwargs\u001b[0m\u001b[1;33m)\u001b[0m\u001b[1;33m\u001b[0m\u001b[1;33m\u001b[0m\u001b[0m\n\u001b[0m\u001b[0;32m   1359\u001b[0m \u001b[1;33m\u001b[0m\u001b[0m\n\u001b[0;32m   1360\u001b[0m \u001b[1;33m\u001b[0m\u001b[0m\n",
      "\u001b[1;32mD:\\Program Files\\Anaconda3\\lib\\site-packages\\dateutil\\parser\\_parser.py\u001b[0m in \u001b[0;36mparse\u001b[1;34m(self, timestr, default, ignoretz, tzinfos, **kwargs)\u001b[0m\n\u001b[0;32m    647\u001b[0m \u001b[1;33m\u001b[0m\u001b[0m\n\u001b[0;32m    648\u001b[0m         \u001b[1;32mif\u001b[0m \u001b[0mres\u001b[0m \u001b[1;32mis\u001b[0m \u001b[1;32mNone\u001b[0m\u001b[1;33m:\u001b[0m\u001b[1;33m\u001b[0m\u001b[1;33m\u001b[0m\u001b[0m\n\u001b[1;32m--> 649\u001b[1;33m             \u001b[1;32mraise\u001b[0m \u001b[0mValueError\u001b[0m\u001b[1;33m(\u001b[0m\u001b[1;34m\"Unknown string format:\"\u001b[0m\u001b[1;33m,\u001b[0m \u001b[0mtimestr\u001b[0m\u001b[1;33m)\u001b[0m\u001b[1;33m\u001b[0m\u001b[1;33m\u001b[0m\u001b[0m\n\u001b[0m\u001b[0;32m    650\u001b[0m \u001b[1;33m\u001b[0m\u001b[0m\n\u001b[0;32m    651\u001b[0m         \u001b[1;32mif\u001b[0m \u001b[0mlen\u001b[0m\u001b[1;33m(\u001b[0m\u001b[0mres\u001b[0m\u001b[1;33m)\u001b[0m \u001b[1;33m==\u001b[0m \u001b[1;36m0\u001b[0m\u001b[1;33m:\u001b[0m\u001b[1;33m\u001b[0m\u001b[1;33m\u001b[0m\u001b[0m\n",
      "\u001b[1;31mValueError\u001b[0m: ('Unknown string format:', '2018.7.4개통')"
     ]
    }
   ],
   "source": [
    "df_station['id'] = df_station['id'].astype('int')\n",
    "df_station['date'] = pd.to_datetime(df_station['date'])\n",
    "df_station"
   ]
  },
  {
   "cell_type": "markdown",
   "metadata": {},
   "source": [
    "* 오류가 나서 살펴보니, date컬럼에 문자가 섞여있는 데이터가 있나보다."
   ]
  },
  {
   "cell_type": "code",
   "execution_count": 48,
   "metadata": {
    "ExecuteTime": {
     "end_time": "2020-05-04T04:35:23.751884Z",
     "start_time": "2020-05-04T04:35:23.734961Z"
    }
   },
   "outputs": [],
   "source": [
    "# 개통이라는 단어가 포함되어있으면, 그 단어를 제외하여 저장\n",
    "for row in df_station.index:\n",
    "    try:\n",
    "        if df_station.loc[row, 'date'][-2:] == '개통': \n",
    "            df_station.loc[row, 'date'] = df_station.loc[row, 'date'][:-2]\n",
    "    except:\n",
    "        pass"
   ]
  },
  {
   "cell_type": "code",
   "execution_count": 49,
   "metadata": {
    "ExecuteTime": {
     "end_time": "2020-05-04T04:35:23.764873Z",
     "start_time": "2020-05-04T04:35:23.752912Z"
    }
   },
   "outputs": [
    {
     "data": {
      "text/html": [
       "<div>\n",
       "<style scoped>\n",
       "    .dataframe tbody tr th:only-of-type {\n",
       "        vertical-align: middle;\n",
       "    }\n",
       "\n",
       "    .dataframe tbody tr th {\n",
       "        vertical-align: top;\n",
       "    }\n",
       "\n",
       "    .dataframe thead th {\n",
       "        text-align: right;\n",
       "    }\n",
       "</style>\n",
       "<table border=\"1\" class=\"dataframe\">\n",
       "  <thead>\n",
       "    <tr style=\"text-align: right;\">\n",
       "      <th></th>\n",
       "      <th>district</th>\n",
       "      <th>id</th>\n",
       "      <th>station</th>\n",
       "      <th>address</th>\n",
       "      <th>lat</th>\n",
       "      <th>lng</th>\n",
       "      <th>date</th>\n",
       "      <th>count</th>\n",
       "    </tr>\n",
       "  </thead>\n",
       "  <tbody>\n",
       "    <tr>\n",
       "      <td>0</td>\n",
       "      <td>마포구</td>\n",
       "      <td>101</td>\n",
       "      <td>(구)합정동 주민센터</td>\n",
       "      <td>서울특별시 마포구 동교로8길 58</td>\n",
       "      <td>37.549561</td>\n",
       "      <td>126.905754</td>\n",
       "      <td>2015-09-06 23:40:56</td>\n",
       "      <td>5</td>\n",
       "    </tr>\n",
       "    <tr>\n",
       "      <td>1</td>\n",
       "      <td>마포구</td>\n",
       "      <td>102</td>\n",
       "      <td>망원역 1번출구 앞</td>\n",
       "      <td>서울특별시 마포구 월드컵로 72</td>\n",
       "      <td>37.555649</td>\n",
       "      <td>126.910629</td>\n",
       "      <td>2015-09-06 23:42:06</td>\n",
       "      <td>20</td>\n",
       "    </tr>\n",
       "    <tr>\n",
       "      <td>2</td>\n",
       "      <td>마포구</td>\n",
       "      <td>103</td>\n",
       "      <td>망원역 2번출구 앞</td>\n",
       "      <td>서울특별시 마포구 월드컵로 79</td>\n",
       "      <td>37.554951</td>\n",
       "      <td>126.910835</td>\n",
       "      <td>2015-09-06 23:43:13</td>\n",
       "      <td>14</td>\n",
       "    </tr>\n",
       "    <tr>\n",
       "      <td>3</td>\n",
       "      <td>마포구</td>\n",
       "      <td>104</td>\n",
       "      <td>합정역 1번출구 앞</td>\n",
       "      <td>서울특별시 마포구 양화로 59</td>\n",
       "      <td>37.550629</td>\n",
       "      <td>126.914986</td>\n",
       "      <td>2015-09-06 23:44:31</td>\n",
       "      <td>13</td>\n",
       "    </tr>\n",
       "    <tr>\n",
       "      <td>4</td>\n",
       "      <td>마포구</td>\n",
       "      <td>105</td>\n",
       "      <td>합정역 5번출구 앞</td>\n",
       "      <td>서울특별시 마포구 양화로 48</td>\n",
       "      <td>37.550007</td>\n",
       "      <td>126.914825</td>\n",
       "      <td>2015-09-06 23:45:30</td>\n",
       "      <td>5</td>\n",
       "    </tr>\n",
       "  </tbody>\n",
       "</table>\n",
       "</div>"
      ],
      "text/plain": [
       "  district   id       station             address        lat         lng  \\\n",
       "0      마포구  101   (구)합정동 주민센터  서울특별시 마포구 동교로8길 58  37.549561  126.905754   \n",
       "1      마포구  102    망원역 1번출구 앞   서울특별시 마포구 월드컵로 72  37.555649  126.910629   \n",
       "2      마포구  103    망원역 2번출구 앞   서울특별시 마포구 월드컵로 79  37.554951  126.910835   \n",
       "3      마포구  104    합정역 1번출구 앞    서울특별시 마포구 양화로 59  37.550629  126.914986   \n",
       "4      마포구  105    합정역 5번출구 앞    서울특별시 마포구 양화로 48  37.550007  126.914825   \n",
       "\n",
       "                 date  count  \n",
       "0 2015-09-06 23:40:56      5  \n",
       "1 2015-09-06 23:42:06     20  \n",
       "2 2015-09-06 23:43:13     14  \n",
       "3 2015-09-06 23:44:31     13  \n",
       "4 2015-09-06 23:45:30      5  "
      ]
     },
     "execution_count": 49,
     "metadata": {},
     "output_type": "execute_result"
    }
   ],
   "source": [
    "df_station['date'] = pd.to_datetime(df_station['date'])\n",
    "df_station.head()"
   ]
  },
  {
   "cell_type": "code",
   "execution_count": 50,
   "metadata": {
    "ExecuteTime": {
     "end_time": "2020-05-04T04:35:23.772828Z",
     "start_time": "2020-05-04T04:35:23.765846Z"
    }
   },
   "outputs": [
    {
     "name": "stdout",
     "output_type": "stream",
     "text": [
      "<class 'pandas.core.frame.DataFrame'>\n",
      "Int64Index: 1540 entries, 0 to 1539\n",
      "Data columns (total 8 columns):\n",
      "district    1540 non-null object\n",
      "id          1540 non-null int32\n",
      "station     1540 non-null object\n",
      "address     1540 non-null object\n",
      "lat         1540 non-null float64\n",
      "lng         1540 non-null float64\n",
      "date        1540 non-null datetime64[ns]\n",
      "count       1540 non-null int64\n",
      "dtypes: datetime64[ns](1), float64(2), int32(1), int64(1), object(3)\n",
      "memory usage: 142.3+ KB\n"
     ]
    }
   ],
   "source": [
    "df_station.info()"
   ]
  },
  {
   "cell_type": "markdown",
   "metadata": {},
   "source": [
    "* 잘 처리가 되었다."
   ]
  },
  {
   "cell_type": "markdown",
   "metadata": {},
   "source": [
    "#### 2-4-3. 컬럼 순서 변경"
   ]
  },
  {
   "cell_type": "code",
   "execution_count": 51,
   "metadata": {
    "ExecuteTime": {
     "end_time": "2020-05-04T04:35:23.781804Z",
     "start_time": "2020-05-04T04:35:23.773825Z"
    }
   },
   "outputs": [
    {
     "data": {
      "text/html": [
       "<div>\n",
       "<style scoped>\n",
       "    .dataframe tbody tr th:only-of-type {\n",
       "        vertical-align: middle;\n",
       "    }\n",
       "\n",
       "    .dataframe tbody tr th {\n",
       "        vertical-align: top;\n",
       "    }\n",
       "\n",
       "    .dataframe thead th {\n",
       "        text-align: right;\n",
       "    }\n",
       "</style>\n",
       "<table border=\"1\" class=\"dataframe\">\n",
       "  <thead>\n",
       "    <tr style=\"text-align: right;\">\n",
       "      <th></th>\n",
       "      <th>district</th>\n",
       "      <th>station</th>\n",
       "      <th>date</th>\n",
       "      <th>rent</th>\n",
       "      <th>return</th>\n",
       "      <th>id</th>\n",
       "    </tr>\n",
       "  </thead>\n",
       "  <tbody>\n",
       "    <tr>\n",
       "      <td>0</td>\n",
       "      <td>강남구</td>\n",
       "      <td>현대고등학교 건너편</td>\n",
       "      <td>2019-06-01</td>\n",
       "      <td>3909</td>\n",
       "      <td>4072</td>\n",
       "      <td>2301</td>\n",
       "    </tr>\n",
       "    <tr>\n",
       "      <td>1</td>\n",
       "      <td>강남구</td>\n",
       "      <td>교보타워 버스정류장(신논현역 3번출구 후면)</td>\n",
       "      <td>2019-06-01</td>\n",
       "      <td>2432</td>\n",
       "      <td>2382</td>\n",
       "      <td>2302</td>\n",
       "    </tr>\n",
       "    <tr>\n",
       "      <td>2</td>\n",
       "      <td>강남구</td>\n",
       "      <td>논현역 7번출구</td>\n",
       "      <td>2019-06-01</td>\n",
       "      <td>1567</td>\n",
       "      <td>1402</td>\n",
       "      <td>2303</td>\n",
       "    </tr>\n",
       "  </tbody>\n",
       "</table>\n",
       "</div>"
      ],
      "text/plain": [
       "  district                    station       date  rent  return    id\n",
       "0      강남구                 현대고등학교 건너편 2019-06-01  3909    4072  2301\n",
       "1      강남구   교보타워 버스정류장(신논현역 3번출구 후면) 2019-06-01  2432    2382  2302\n",
       "2      강남구                   논현역 7번출구 2019-06-01  1567    1402  2303"
      ]
     },
     "execution_count": 51,
     "metadata": {},
     "output_type": "execute_result"
    }
   ],
   "source": [
    "df_bike.head(3)"
   ]
  },
  {
   "cell_type": "code",
   "execution_count": 52,
   "metadata": {
    "ExecuteTime": {
     "end_time": "2020-05-04T04:35:23.791801Z",
     "start_time": "2020-05-04T04:35:23.782801Z"
    }
   },
   "outputs": [
    {
     "data": {
      "text/html": [
       "<div>\n",
       "<style scoped>\n",
       "    .dataframe tbody tr th:only-of-type {\n",
       "        vertical-align: middle;\n",
       "    }\n",
       "\n",
       "    .dataframe tbody tr th {\n",
       "        vertical-align: top;\n",
       "    }\n",
       "\n",
       "    .dataframe thead th {\n",
       "        text-align: right;\n",
       "    }\n",
       "</style>\n",
       "<table border=\"1\" class=\"dataframe\">\n",
       "  <thead>\n",
       "    <tr style=\"text-align: right;\">\n",
       "      <th></th>\n",
       "      <th>district</th>\n",
       "      <th>id</th>\n",
       "      <th>station</th>\n",
       "      <th>date</th>\n",
       "      <th>rent</th>\n",
       "      <th>return</th>\n",
       "    </tr>\n",
       "  </thead>\n",
       "  <tbody>\n",
       "    <tr>\n",
       "      <td>0</td>\n",
       "      <td>강남구</td>\n",
       "      <td>2301</td>\n",
       "      <td>현대고등학교 건너편</td>\n",
       "      <td>2019-06-01</td>\n",
       "      <td>3909</td>\n",
       "      <td>4072</td>\n",
       "    </tr>\n",
       "    <tr>\n",
       "      <td>1</td>\n",
       "      <td>강남구</td>\n",
       "      <td>2302</td>\n",
       "      <td>교보타워 버스정류장(신논현역 3번출구 후면)</td>\n",
       "      <td>2019-06-01</td>\n",
       "      <td>2432</td>\n",
       "      <td>2382</td>\n",
       "    </tr>\n",
       "    <tr>\n",
       "      <td>2</td>\n",
       "      <td>강남구</td>\n",
       "      <td>2303</td>\n",
       "      <td>논현역 7번출구</td>\n",
       "      <td>2019-06-01</td>\n",
       "      <td>1567</td>\n",
       "      <td>1402</td>\n",
       "    </tr>\n",
       "  </tbody>\n",
       "</table>\n",
       "</div>"
      ],
      "text/plain": [
       "  district    id                    station       date  rent  return\n",
       "0      강남구  2301                 현대고등학교 건너편 2019-06-01  3909    4072\n",
       "1      강남구  2302   교보타워 버스정류장(신논현역 3번출구 후면) 2019-06-01  2432    2382\n",
       "2      강남구  2303                   논현역 7번출구 2019-06-01  1567    1402"
      ]
     },
     "execution_count": 52,
     "metadata": {},
     "output_type": "execute_result"
    }
   ],
   "source": [
    "df_bike = df_bike[['district', 'id', 'station', 'date', 'rent', 'return']]\n",
    "df_bike.head(3)"
   ]
  },
  {
   "cell_type": "markdown",
   "metadata": {},
   "source": [
    "## 3. 데이터 분석\n",
    "* 어느 지역에 자전거가 많이 배치되어있는지부터 확인해보자."
   ]
  },
  {
   "cell_type": "markdown",
   "metadata": {},
   "source": [
    "### 3-1. 따릉이가 많이 배치된 지역 찾기\n",
    "* 어느 지역에 따릉이가 많을까?\n",
    "* 서울 중심부에 비교적 많이 배치되어있지 않을까? (정말 서울스러운 생각..)"
   ]
  },
  {
   "cell_type": "markdown",
   "metadata": {
    "ExecuteTime": {
     "end_time": "2020-05-01T04:34:13.348221Z",
     "start_time": "2020-05-01T04:34:13.322291Z"
    }
   },
   "source": [
    "#### 3-1-1. 가장 따릉이가 많이 배치된 대여소는?\n",
    "* 먼저, 자전거 배치 수를 살펴보자."
   ]
  },
  {
   "cell_type": "code",
   "execution_count": 53,
   "metadata": {
    "ExecuteTime": {
     "end_time": "2020-05-04T04:35:23.914479Z",
     "start_time": "2020-05-04T04:35:23.792774Z"
    }
   },
   "outputs": [
    {
     "name": "stdout",
     "output_type": "stream",
     "text": [
      "40      5\n",
      "39      1\n",
      "35      3\n",
      "30     12\n",
      "27      1\n",
      "26      2\n",
      "25      8\n",
      "23      1\n",
      "22      1\n",
      "21      3\n",
      "20    199\n",
      "19      6\n",
      "18      6\n",
      "17      5\n",
      "16      9\n",
      "15    283\n",
      "14     14\n",
      "13     28\n",
      "12     47\n",
      "11     11\n",
      "10    714\n",
      "9      37\n",
      "8      87\n",
      "7      37\n",
      "6       5\n",
      "5      15\n",
      "Name: count, dtype: int64\n"
     ]
    },
    {
     "data": {
      "image/png": "[encoded data removed]",
      "text/plain": [
       "<Figure size 864x288 with 1 Axes>"
      ]
     },
     "metadata": {
      "needs_background": "light"
     },
     "output_type": "display_data"
    }
   ],
   "source": [
    "print(df_station['count'].value_counts().sort_index(ascending=False))\n",
    "plt.figure(figsize=(12, 4))\n",
    "plt.hist(df_station['count'], bins=15)\n",
    "plt.xlim(0, 45)\n",
    "plt.show()"
   ]
  },
  {
   "cell_type": "markdown",
   "metadata": {},
   "source": [
    "* 가장 많이 배치된 곳은 무려 40대나 배치되어있다.\n",
    "    * 40대면 도로 전체에 자전거가 깔려있는건가... 아직 본 적이 없어서 궁금하다.\n",
    "    * 아마 한강 근처나 자전거도로가 잘 되어있는 곳이 아닐까?\n",
    "* 10대가 배치된 곳이 가장 많고, 다음으로는 15대, 20대가 많다.\n",
    "* 가장 적은곳은 5대가 배치되어있다.\n",
    "* **35대 이상 배치된 곳은 어디인지 살펴보자.**"
   ]
  },
  {
   "cell_type": "code",
   "execution_count": 54,
   "metadata": {
    "ExecuteTime": {
     "end_time": "2020-05-04T04:35:23.927415Z",
     "start_time": "2020-05-04T04:35:23.915446Z"
    }
   },
   "outputs": [
    {
     "data": {
      "text/html": [
       "<div>\n",
       "<style scoped>\n",
       "    .dataframe tbody tr th:only-of-type {\n",
       "        vertical-align: middle;\n",
       "    }\n",
       "\n",
       "    .dataframe tbody tr th {\n",
       "        vertical-align: top;\n",
       "    }\n",
       "\n",
       "    .dataframe thead th {\n",
       "        text-align: right;\n",
       "    }\n",
       "</style>\n",
       "<table border=\"1\" class=\"dataframe\">\n",
       "  <thead>\n",
       "    <tr style=\"text-align: right;\">\n",
       "      <th></th>\n",
       "      <th>district</th>\n",
       "      <th>id</th>\n",
       "      <th>station</th>\n",
       "      <th>address</th>\n",
       "      <th>lat</th>\n",
       "      <th>lng</th>\n",
       "      <th>date</th>\n",
       "      <th>count</th>\n",
       "    </tr>\n",
       "  </thead>\n",
       "  <tbody>\n",
       "    <tr>\n",
       "      <td>0</td>\n",
       "      <td>마포구</td>\n",
       "      <td>186</td>\n",
       "      <td>월드컵공원</td>\n",
       "      <td>서울특별시 마포구 하늘공원로 108-1</td>\n",
       "      <td>37.563965</td>\n",
       "      <td>126.898209</td>\n",
       "      <td>2016-07-06 12:00:00</td>\n",
       "      <td>40</td>\n",
       "    </tr>\n",
       "    <tr>\n",
       "      <td>1</td>\n",
       "      <td>영등포구</td>\n",
       "      <td>207</td>\n",
       "      <td>여의나루역 1번출구 앞</td>\n",
       "      <td>서울특별시 영등포구 여의동로 지하343</td>\n",
       "      <td>37.526989</td>\n",
       "      <td>126.932098</td>\n",
       "      <td>2015-09-17 15:33:18</td>\n",
       "      <td>40</td>\n",
       "    </tr>\n",
       "    <tr>\n",
       "      <td>2</td>\n",
       "      <td>마포구</td>\n",
       "      <td>420</td>\n",
       "      <td>서울시 공공자전거 상암센터</td>\n",
       "      <td>서울특별시 마포구 월드컵북로47길 10</td>\n",
       "      <td>37.566246</td>\n",
       "      <td>126.896179</td>\n",
       "      <td>2015-10-07 11:39:12</td>\n",
       "      <td>40</td>\n",
       "    </tr>\n",
       "    <tr>\n",
       "      <td>3</td>\n",
       "      <td>광진구</td>\n",
       "      <td>574</td>\n",
       "      <td>아차산역4번출구</td>\n",
       "      <td>서울특별시 광진구 능동로 216</td>\n",
       "      <td>37.551849</td>\n",
       "      <td>127.088982</td>\n",
       "      <td>2016-07-06 12:00:00</td>\n",
       "      <td>40</td>\n",
       "    </tr>\n",
       "    <tr>\n",
       "      <td>4</td>\n",
       "      <td>용산구</td>\n",
       "      <td>829</td>\n",
       "      <td>베르가모앞</td>\n",
       "      <td>서울특별시 용산구 한강대로 23</td>\n",
       "      <td>37.522930</td>\n",
       "      <td>126.961693</td>\n",
       "      <td>2017-11-28 11:57:57</td>\n",
       "      <td>40</td>\n",
       "    </tr>\n",
       "    <tr>\n",
       "      <td>5</td>\n",
       "      <td>광진구</td>\n",
       "      <td>3507</td>\n",
       "      <td>어린이회관</td>\n",
       "      <td>서울특별시 광진구 능동 465-7</td>\n",
       "      <td>37.545952</td>\n",
       "      <td>127.078003</td>\n",
       "      <td>2017-11-01 16:00:00</td>\n",
       "      <td>39</td>\n",
       "    </tr>\n",
       "    <tr>\n",
       "      <td>6</td>\n",
       "      <td>영등포구</td>\n",
       "      <td>206</td>\n",
       "      <td>KBS 앞</td>\n",
       "      <td>서울특별시 영등포구 여의공원로 13</td>\n",
       "      <td>37.524666</td>\n",
       "      <td>126.918022</td>\n",
       "      <td>2015-09-17 15:09:17</td>\n",
       "      <td>35</td>\n",
       "    </tr>\n",
       "    <tr>\n",
       "      <td>7</td>\n",
       "      <td>영등포구</td>\n",
       "      <td>212</td>\n",
       "      <td>여의도역 1번출구 옆</td>\n",
       "      <td>서울특별시 영등포구 의사당대로 88</td>\n",
       "      <td>37.521362</td>\n",
       "      <td>126.923462</td>\n",
       "      <td>2015-09-17 15:12:54</td>\n",
       "      <td>35</td>\n",
       "    </tr>\n",
       "    <tr>\n",
       "      <td>8</td>\n",
       "      <td>중구</td>\n",
       "      <td>311</td>\n",
       "      <td>서울광장 옆</td>\n",
       "      <td>서울특별시 중구 세종대로 지하 101</td>\n",
       "      <td>37.566612</td>\n",
       "      <td>126.977470</td>\n",
       "      <td>2015-10-07 12:11:56</td>\n",
       "      <td>35</td>\n",
       "    </tr>\n",
       "  </tbody>\n",
       "</table>\n",
       "</div>"
      ],
      "text/plain": [
       "  district    id          station                address        lat  \\\n",
       "0      마포구   186            월드컵공원  서울특별시 마포구 하늘공원로 108-1  37.563965   \n",
       "1     영등포구   207     여의나루역 1번출구 앞  서울특별시 영등포구 여의동로 지하343  37.526989   \n",
       "2      마포구   420   서울시 공공자전거 상암센터  서울특별시 마포구 월드컵북로47길 10  37.566246   \n",
       "3      광진구   574         아차산역4번출구      서울특별시 광진구 능동로 216  37.551849   \n",
       "4      용산구   829            베르가모앞      서울특별시 용산구 한강대로 23  37.522930   \n",
       "5      광진구  3507            어린이회관     서울특별시 광진구 능동 465-7  37.545952   \n",
       "6     영등포구   206            KBS 앞    서울특별시 영등포구 여의공원로 13  37.524666   \n",
       "7     영등포구   212      여의도역 1번출구 옆    서울특별시 영등포구 의사당대로 88  37.521362   \n",
       "8       중구   311           서울광장 옆   서울특별시 중구 세종대로 지하 101  37.566612   \n",
       "\n",
       "          lng                date  count  \n",
       "0  126.898209 2016-07-06 12:00:00     40  \n",
       "1  126.932098 2015-09-17 15:33:18     40  \n",
       "2  126.896179 2015-10-07 11:39:12     40  \n",
       "3  127.088982 2016-07-06 12:00:00     40  \n",
       "4  126.961693 2017-11-28 11:57:57     40  \n",
       "5  127.078003 2017-11-01 16:00:00     39  \n",
       "6  126.918022 2015-09-17 15:09:17     35  \n",
       "7  126.923462 2015-09-17 15:12:54     35  \n",
       "8  126.977470 2015-10-07 12:11:56     35  "
      ]
     },
     "execution_count": 54,
     "metadata": {},
     "output_type": "execute_result"
    }
   ],
   "source": [
    "mt35_station = df_station[df_station['count']>=35].sort_values('count', ascending=False).reset_index(drop=True)\n",
    "mt35_station"
   ]
  },
  {
   "cell_type": "markdown",
   "metadata": {},
   "source": [
    "* 마포구, 영등포구, 광진구 등 한강 근처이거나 자전거도로가 있는 지역이 많다.\n",
    "* 근데 이렇게 텍스트로만 보니, 어디에 있는지 감이 잘 오지는 않는다.\n",
    "* 지도에 나타내서 살펴보자."
   ]
  },
  {
   "cell_type": "code",
   "execution_count": 55,
   "metadata": {
    "ExecuteTime": {
     "end_time": "2020-05-04T04:35:23.995261Z",
     "start_time": "2020-05-04T04:35:23.929433Z"
    }
   },
   "outputs": [
    {
     "data": {
      "text/html": [
       "<div style=\"width:100%;\"><div style=\"position:relative;width:100%;height:0;padding-bottom:60%;\"><iframe src=\"about:blank\" style=\"position:absolute;width:100%;height:100%;left:0;top:0;border:none !important;\" data-html=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 onload=\"this.contentDocument.open();this.contentDocument.write(atob(this.getAttribute('data-html')));this.contentDocument.close();\" allowfullscreen webkitallowfullscreen mozallowfullscreen></iframe></div></div>"
      ],
      "text/plain": [
       "<folium.folium.Map at 0x257a58bd608>"
      ]
     },
     "execution_count": 55,
     "metadata": {},
     "output_type": "execute_result"
    }
   ],
   "source": [
    "import folium\n",
    "\n",
    "map = folium.Map([mt35_station.lat.median(), mt35_station.lng.median()], zoom_start=13)\n",
    "for row in mt35_station.index:\n",
    "    folium.Marker([mt35_station.loc[row, 'lat'], mt35_station.loc[row, 'lng']]).add_to(map)\n",
    "map"
   ]
  },
  {
   "cell_type": "markdown",
   "metadata": {},
   "source": [
    "* 예상대로, 따릉이가 많이 배치된 지역은 대부분 한강 근처에 분포되어있는 것을 알 수 있다.\n",
    "* 다음으로는, **어느 구에** 따릉이가 많이 배치되어있는지 살펴보자."
   ]
  },
  {
   "cell_type": "code",
   "execution_count": 56,
   "metadata": {
    "ExecuteTime": {
     "end_time": "2020-05-04T04:35:24.006228Z",
     "start_time": "2020-05-04T04:35:23.996258Z"
    }
   },
   "outputs": [
    {
     "data": {
      "text/html": [
       "<div>\n",
       "<style scoped>\n",
       "    .dataframe tbody tr th:only-of-type {\n",
       "        vertical-align: middle;\n",
       "    }\n",
       "\n",
       "    .dataframe tbody tr th {\n",
       "        vertical-align: top;\n",
       "    }\n",
       "\n",
       "    .dataframe thead th {\n",
       "        text-align: right;\n",
       "    }\n",
       "</style>\n",
       "<table border=\"1\" class=\"dataframe\">\n",
       "  <thead>\n",
       "    <tr style=\"text-align: right;\">\n",
       "      <th></th>\n",
       "      <th>id</th>\n",
       "      <th>lat</th>\n",
       "      <th>lng</th>\n",
       "      <th>count</th>\n",
       "    </tr>\n",
       "    <tr>\n",
       "      <th>district</th>\n",
       "      <th></th>\n",
       "      <th></th>\n",
       "      <th></th>\n",
       "      <th></th>\n",
       "    </tr>\n",
       "  </thead>\n",
       "  <tbody>\n",
       "    <tr>\n",
       "      <td>강남구</td>\n",
       "      <td>233051</td>\n",
       "      <td>3712.498423</td>\n",
       "      <td>12578.440221</td>\n",
       "      <td>1218</td>\n",
       "    </tr>\n",
       "    <tr>\n",
       "      <td>강동구</td>\n",
       "      <td>61258</td>\n",
       "      <td>2140.213577</td>\n",
       "      <td>7247.300705</td>\n",
       "      <td>763</td>\n",
       "    </tr>\n",
       "    <tr>\n",
       "      <td>강북구</td>\n",
       "      <td>59525</td>\n",
       "      <td>1467.706114</td>\n",
       "      <td>4953.973380</td>\n",
       "      <td>451</td>\n",
       "    </tr>\n",
       "    <tr>\n",
       "      <td>강서구</td>\n",
       "      <td>101004</td>\n",
       "      <td>3192.395109</td>\n",
       "      <td>10781.119844</td>\n",
       "      <td>1002</td>\n",
       "    </tr>\n",
       "    <tr>\n",
       "      <td>관악구</td>\n",
       "      <td>109301</td>\n",
       "      <td>1911.471931</td>\n",
       "      <td>6473.794822</td>\n",
       "      <td>640</td>\n",
       "    </tr>\n",
       "  </tbody>\n",
       "</table>\n",
       "</div>"
      ],
      "text/plain": [
       "              id          lat           lng  count\n",
       "district                                          \n",
       "강남구       233051  3712.498423  12578.440221   1218\n",
       "강동구        61258  2140.213577   7247.300705    763\n",
       "강북구        59525  1467.706114   4953.973380    451\n",
       "강서구       101004  3192.395109  10781.119844   1002\n",
       "관악구       109301  1911.471931   6473.794822    640"
      ]
     },
     "execution_count": 56,
     "metadata": {},
     "output_type": "execute_result"
    }
   ],
   "source": [
    "district_count = df_station.groupby('district').sum()\n",
    "district_count.head()"
   ]
  },
  {
   "cell_type": "code",
   "execution_count": 58,
   "metadata": {
    "ExecuteTime": {
     "end_time": "2020-05-04T04:36:40.516813Z",
     "start_time": "2020-05-04T04:36:40.509831Z"
    }
   },
   "outputs": [],
   "source": [
    "import json\n",
    "geo_data = json.load(open('source/Seoul_district_geo.json', encoding='utf-8'))"
   ]
  },
  {
   "cell_type": "code",
   "execution_count": 59,
   "metadata": {
    "ExecuteTime": {
     "end_time": "2020-05-04T04:36:44.373499Z",
     "start_time": "2020-05-04T04:36:44.344547Z"
    }
   },
   "outputs": [
    {
     "data": {
      "text/html": [
       "<div style=\"width:100%;\"><div style=\"position:relative;width:100%;height:0;padding-bottom:60%;\"><iframe src=\"about:blank\" style=\"position:absolute;width:100%;height:100%;left:0;top:0;border:none !important;\" data-html=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 onload=\"this.contentDocument.open();this.contentDocument.write(atob(this.getAttribute('data-html')));this.contentDocument.close();\" allowfullscreen webkitallowfullscreen mozallowfullscreen></iframe></div></div>"
      ],
      "text/plain": [
       "<folium.folium.Map at 0x257a58f4a08>"
      ]
     },
     "execution_count": 59,
     "metadata": {},
     "output_type": "execute_result"
    }
   ],
   "source": [
    "map = folium.Map([df_station['lat'].median(),\n",
    "                  df_station['lng'].median()], zoom_start=11)\n",
    "\n",
    "map.choropleth(geo_data=geo_data,\n",
    "               data=district_count['count'],\n",
    "               columns=[district_count.index, district_count['count']],\n",
    "               fill_color = 'YlGnBu', #PuRd, YlGnBu\n",
    "               key_on = 'feature.id')\n",
    "map"
   ]
  },
  {
   "cell_type": "code",
   "execution_count": 60,
   "metadata": {
    "ExecuteTime": {
     "end_time": "2020-05-04T04:36:44.387460Z",
     "start_time": "2020-05-04T04:36:44.374495Z"
    }
   },
   "outputs": [
    {
     "data": {
      "text/html": [
       "<div>\n",
       "<style scoped>\n",
       "    .dataframe tbody tr th:only-of-type {\n",
       "        vertical-align: middle;\n",
       "    }\n",
       "\n",
       "    .dataframe tbody tr th {\n",
       "        vertical-align: top;\n",
       "    }\n",
       "\n",
       "    .dataframe thead th {\n",
       "        text-align: right;\n",
       "    }\n",
       "</style>\n",
       "<table border=\"1\" class=\"dataframe\">\n",
       "  <thead>\n",
       "    <tr style=\"text-align: right;\">\n",
       "      <th></th>\n",
       "      <th>district</th>\n",
       "      <th>id</th>\n",
       "      <th>station</th>\n",
       "      <th>address</th>\n",
       "      <th>lat</th>\n",
       "      <th>lng</th>\n",
       "      <th>date</th>\n",
       "      <th>count</th>\n",
       "    </tr>\n",
       "  </thead>\n",
       "  <tbody>\n",
       "    <tr>\n",
       "      <td>0</td>\n",
       "      <td>마포구</td>\n",
       "      <td>101</td>\n",
       "      <td>(구)합정동 주민센터</td>\n",
       "      <td>서울특별시 마포구 동교로8길 58</td>\n",
       "      <td>37.549561</td>\n",
       "      <td>126.905754</td>\n",
       "      <td>2015-09-06 23:40:56</td>\n",
       "      <td>5</td>\n",
       "    </tr>\n",
       "    <tr>\n",
       "      <td>1</td>\n",
       "      <td>마포구</td>\n",
       "      <td>102</td>\n",
       "      <td>망원역 1번출구 앞</td>\n",
       "      <td>서울특별시 마포구 월드컵로 72</td>\n",
       "      <td>37.555649</td>\n",
       "      <td>126.910629</td>\n",
       "      <td>2015-09-06 23:42:06</td>\n",
       "      <td>20</td>\n",
       "    </tr>\n",
       "    <tr>\n",
       "      <td>2</td>\n",
       "      <td>마포구</td>\n",
       "      <td>103</td>\n",
       "      <td>망원역 2번출구 앞</td>\n",
       "      <td>서울특별시 마포구 월드컵로 79</td>\n",
       "      <td>37.554951</td>\n",
       "      <td>126.910835</td>\n",
       "      <td>2015-09-06 23:43:13</td>\n",
       "      <td>14</td>\n",
       "    </tr>\n",
       "    <tr>\n",
       "      <td>3</td>\n",
       "      <td>마포구</td>\n",
       "      <td>104</td>\n",
       "      <td>합정역 1번출구 앞</td>\n",
       "      <td>서울특별시 마포구 양화로 59</td>\n",
       "      <td>37.550629</td>\n",
       "      <td>126.914986</td>\n",
       "      <td>2015-09-06 23:44:31</td>\n",
       "      <td>13</td>\n",
       "    </tr>\n",
       "    <tr>\n",
       "      <td>4</td>\n",
       "      <td>마포구</td>\n",
       "      <td>105</td>\n",
       "      <td>합정역 5번출구 앞</td>\n",
       "      <td>서울특별시 마포구 양화로 48</td>\n",
       "      <td>37.550007</td>\n",
       "      <td>126.914825</td>\n",
       "      <td>2015-09-06 23:45:30</td>\n",
       "      <td>5</td>\n",
       "    </tr>\n",
       "    <tr>\n",
       "      <td>...</td>\n",
       "      <td>...</td>\n",
       "      <td>...</td>\n",
       "      <td>...</td>\n",
       "      <td>...</td>\n",
       "      <td>...</td>\n",
       "      <td>...</td>\n",
       "      <td>...</td>\n",
       "      <td>...</td>\n",
       "    </tr>\n",
       "    <tr>\n",
       "      <td>1535</td>\n",
       "      <td>종로구</td>\n",
       "      <td>464</td>\n",
       "      <td>삼청동 골목</td>\n",
       "      <td>종로구 팔판길 46</td>\n",
       "      <td>37.584190</td>\n",
       "      <td>126.981697</td>\n",
       "      <td>2019-08-16 00:00:00</td>\n",
       "      <td>10</td>\n",
       "    </tr>\n",
       "    <tr>\n",
       "      <td>1536</td>\n",
       "      <td>관악구</td>\n",
       "      <td>2185</td>\n",
       "      <td>대학동 고시촌</td>\n",
       "      <td>서울특별시 관악구 신림로 97 밀라트</td>\n",
       "      <td>37.470467</td>\n",
       "      <td>126.938652</td>\n",
       "      <td>2019-09-26 00:00:00</td>\n",
       "      <td>10</td>\n",
       "    </tr>\n",
       "    <tr>\n",
       "      <td>1537</td>\n",
       "      <td>서초구</td>\n",
       "      <td>2265</td>\n",
       "      <td>이수고가차도 남단</td>\n",
       "      <td>서울특별시 서초구 동작대로 204 청남빌딩</td>\n",
       "      <td>37.494743</td>\n",
       "      <td>126.983063</td>\n",
       "      <td>2017-08-09 11:16:28</td>\n",
       "      <td>10</td>\n",
       "    </tr>\n",
       "    <tr>\n",
       "      <td>1538</td>\n",
       "      <td>종로구</td>\n",
       "      <td>465</td>\n",
       "      <td>삼청공원 앞</td>\n",
       "      <td>서울특별시 종로구 삼청동 25-32</td>\n",
       "      <td>37.587605</td>\n",
       "      <td>126.983597</td>\n",
       "      <td>2019-11-20 00:00:00</td>\n",
       "      <td>5</td>\n",
       "    </tr>\n",
       "    <tr>\n",
       "      <td>1539</td>\n",
       "      <td>종로구</td>\n",
       "      <td>664</td>\n",
       "      <td>서울시립대 대학본부</td>\n",
       "      <td>동대문구 서울시립대로 163 서울시립대학교</td>\n",
       "      <td>37.584129</td>\n",
       "      <td>127.057938</td>\n",
       "      <td>2019-11-20 00:00:00</td>\n",
       "      <td>10</td>\n",
       "    </tr>\n",
       "  </tbody>\n",
       "</table>\n",
       "<p>1540 rows × 8 columns</p>\n",
       "</div>"
      ],
      "text/plain": [
       "     district    id       station                  address        lat  \\\n",
       "0         마포구   101   (구)합정동 주민센터       서울특별시 마포구 동교로8길 58  37.549561   \n",
       "1         마포구   102    망원역 1번출구 앞        서울특별시 마포구 월드컵로 72  37.555649   \n",
       "2         마포구   103    망원역 2번출구 앞        서울특별시 마포구 월드컵로 79  37.554951   \n",
       "3         마포구   104    합정역 1번출구 앞         서울특별시 마포구 양화로 59  37.550629   \n",
       "4         마포구   105    합정역 5번출구 앞         서울특별시 마포구 양화로 48  37.550007   \n",
       "...       ...   ...           ...                      ...        ...   \n",
       "1535      종로구   464        삼청동 골목               종로구 팔판길 46  37.584190   \n",
       "1536      관악구  2185       대학동 고시촌     서울특별시 관악구 신림로 97 밀라트  37.470467   \n",
       "1537      서초구  2265     이수고가차도 남단  서울특별시 서초구 동작대로 204 청남빌딩  37.494743   \n",
       "1538      종로구   465        삼청공원 앞      서울특별시 종로구 삼청동 25-32  37.587605   \n",
       "1539      종로구   664    서울시립대 대학본부  동대문구 서울시립대로 163 서울시립대학교  37.584129   \n",
       "\n",
       "             lng                date  count  \n",
       "0     126.905754 2015-09-06 23:40:56      5  \n",
       "1     126.910629 2015-09-06 23:42:06     20  \n",
       "2     126.910835 2015-09-06 23:43:13     14  \n",
       "3     126.914986 2015-09-06 23:44:31     13  \n",
       "4     126.914825 2015-09-06 23:45:30      5  \n",
       "...          ...                 ...    ...  \n",
       "1535  126.981697 2019-08-16 00:00:00     10  \n",
       "1536  126.938652 2019-09-26 00:00:00     10  \n",
       "1537  126.983063 2017-08-09 11:16:28     10  \n",
       "1538  126.983597 2019-11-20 00:00:00      5  \n",
       "1539  127.057938 2019-11-20 00:00:00     10  \n",
       "\n",
       "[1540 rows x 8 columns]"
      ]
     },
     "execution_count": 60,
     "metadata": {},
     "output_type": "execute_result"
    }
   ],
   "source": [
    "df_station"
   ]
  },
  {
   "cell_type": "code",
   "execution_count": 61,
   "metadata": {
    "ExecuteTime": {
     "end_time": "2020-05-04T04:36:44.596899Z",
     "start_time": "2020-05-04T04:36:44.388430Z"
    }
   },
   "outputs": [
    {
     "data": {
      "text/plain": [
       "<matplotlib.axes._subplots.AxesSubplot at 0x257a58f4708>"
      ]
     },
     "execution_count": 61,
     "metadata": {},
     "output_type": "execute_result"
    },
    {
     "data": {
      "image/png": "[encoded data removed]",
      "text/plain": [
       "<Figure size 864x360 with 1 Axes>"
      ]
     },
     "metadata": {
      "needs_background": "light"
     },
     "output_type": "display_data"
    }
   ],
   "source": [
    "df_station.groupby('district').sum()['count'].sort_values(ascending=False).plot('bar', figsize=(12, 5))"
   ]
  },
  {
   "cell_type": "markdown",
   "metadata": {
    "ExecuteTime": {
     "end_time": "2020-05-01T04:36:48.504394Z",
     "start_time": "2020-05-01T04:36:48.482453Z"
    }
   },
   "source": [
    "* **강남 3구(강남구, 서초구, 송파구)와 영등포구가 가장 따릉이가 많이 배치되어있다.**\n",
    "* 반면 **강북은 전반적으로 따릉이 수가 적은 것을 확인할 수 있다.**\n",
    "    * 그나마 제일 많은 곳은 마포구다.\n",
    "* 놀랐던 것은, 내가 살고있는 **성동구도 상대적으로 따릉이가 많은 편은 아니었다!**\n",
    "    * 서울숲 근처에 따릉이가 많아서 가시적으로는 굉장히 많아보였는데, 아마 서울숲 근처에만 많나보다.\n",
    "    * 음.. 이렇게 끝내면 카더라니까, 실제로 **성동구에는 서울숲 근처에만 따릉이가 많은지 확인해보자!**"
   ]
  },
  {
   "cell_type": "markdown",
   "metadata": {},
   "source": [
    "#### 3-1-2. 성동구 내 따릉이 분포 확인해보기\n",
    "* 정말 서울숲에만 많아서 많아보인건가?\n",
    "* 나는 정녕 우물 안 개구리 혹은 서울숲 안 사슴이었던것인가"
   ]
  },
  {
   "cell_type": "code",
   "execution_count": 62,
   "metadata": {
    "ExecuteTime": {
     "end_time": "2020-05-04T04:36:44.608840Z",
     "start_time": "2020-05-04T04:36:44.597896Z"
    }
   },
   "outputs": [
    {
     "data": {
      "text/html": [
       "<div>\n",
       "<style scoped>\n",
       "    .dataframe tbody tr th:only-of-type {\n",
       "        vertical-align: middle;\n",
       "    }\n",
       "\n",
       "    .dataframe tbody tr th {\n",
       "        vertical-align: top;\n",
       "    }\n",
       "\n",
       "    .dataframe thead th {\n",
       "        text-align: right;\n",
       "    }\n",
       "</style>\n",
       "<table border=\"1\" class=\"dataframe\">\n",
       "  <thead>\n",
       "    <tr style=\"text-align: right;\">\n",
       "      <th></th>\n",
       "      <th>district</th>\n",
       "      <th>id</th>\n",
       "      <th>station</th>\n",
       "      <th>address</th>\n",
       "      <th>lat</th>\n",
       "      <th>lng</th>\n",
       "      <th>date</th>\n",
       "      <th>count</th>\n",
       "    </tr>\n",
       "  </thead>\n",
       "  <tbody>\n",
       "    <tr>\n",
       "      <td>0</td>\n",
       "      <td>성동구</td>\n",
       "      <td>506</td>\n",
       "      <td>금호 어울림 아파트 앞</td>\n",
       "      <td>서울특별시 성동구 광나루로 249</td>\n",
       "      <td>37.549061</td>\n",
       "      <td>127.057793</td>\n",
       "      <td>2015-10-07 11:50:10</td>\n",
       "      <td>7</td>\n",
       "    </tr>\n",
       "    <tr>\n",
       "      <td>1</td>\n",
       "      <td>성동구</td>\n",
       "      <td>507</td>\n",
       "      <td>성수아이에스비즈타워 앞</td>\n",
       "      <td>서울특별시 성동구 성수이로 147</td>\n",
       "      <td>37.548203</td>\n",
       "      <td>127.057114</td>\n",
       "      <td>2015-10-07 11:50:53</td>\n",
       "      <td>7</td>\n",
       "    </tr>\n",
       "    <tr>\n",
       "      <td>2</td>\n",
       "      <td>성동구</td>\n",
       "      <td>508</td>\n",
       "      <td>성수아카데미타워 앞</td>\n",
       "      <td>서울특별시 성동구 성수이로 118</td>\n",
       "      <td>37.545166</td>\n",
       "      <td>127.057510</td>\n",
       "      <td>2015-10-07 11:51:33</td>\n",
       "      <td>10</td>\n",
       "    </tr>\n",
       "    <tr>\n",
       "      <td>3</td>\n",
       "      <td>성동구</td>\n",
       "      <td>509</td>\n",
       "      <td>이마트 버스정류소 옆</td>\n",
       "      <td>서울특별시 성동구 뚝섬로 379</td>\n",
       "      <td>37.539654</td>\n",
       "      <td>127.052589</td>\n",
       "      <td>2015-10-07 11:52:07</td>\n",
       "      <td>20</td>\n",
       "    </tr>\n",
       "    <tr>\n",
       "      <td>4</td>\n",
       "      <td>성동구</td>\n",
       "      <td>510</td>\n",
       "      <td>서울숲 남문 버스정류소 옆</td>\n",
       "      <td>서울특별시 성동구 왕십리로11길 9</td>\n",
       "      <td>37.541222</td>\n",
       "      <td>127.043800</td>\n",
       "      <td>2015-10-07 11:55:30</td>\n",
       "      <td>10</td>\n",
       "    </tr>\n",
       "  </tbody>\n",
       "</table>\n",
       "</div>"
      ],
      "text/plain": [
       "  district   id          station              address        lat         lng  \\\n",
       "0      성동구  506     금호 어울림 아파트 앞   서울특별시 성동구 광나루로 249  37.549061  127.057793   \n",
       "1      성동구  507     성수아이에스비즈타워 앞   서울특별시 성동구 성수이로 147  37.548203  127.057114   \n",
       "2      성동구  508       성수아카데미타워 앞   서울특별시 성동구 성수이로 118  37.545166  127.057510   \n",
       "3      성동구  509      이마트 버스정류소 옆    서울특별시 성동구 뚝섬로 379  37.539654  127.052589   \n",
       "4      성동구  510   서울숲 남문 버스정류소 옆  서울특별시 성동구 왕십리로11길 9  37.541222  127.043800   \n",
       "\n",
       "                 date  count  \n",
       "0 2015-10-07 11:50:10      7  \n",
       "1 2015-10-07 11:50:53      7  \n",
       "2 2015-10-07 11:51:33     10  \n",
       "3 2015-10-07 11:52:07     20  \n",
       "4 2015-10-07 11:55:30     10  "
      ]
     },
     "execution_count": 62,
     "metadata": {},
     "output_type": "execute_result"
    }
   ],
   "source": [
    "seongdong = df_station[df_station['district']=='성동구']\n",
    "seongdong.reset_index(drop=True, inplace=True)\n",
    "seongdong.head()"
   ]
  },
  {
   "cell_type": "code",
   "execution_count": 63,
   "metadata": {
    "ExecuteTime": {
     "end_time": "2020-05-04T04:36:44.618812Z",
     "start_time": "2020-05-04T04:36:44.610835Z"
    }
   },
   "outputs": [
    {
     "name": "stdout",
     "output_type": "stream",
     "text": [
      "<class 'pandas.core.frame.DataFrame'>\n",
      "RangeIndex: 63 entries, 0 to 62\n",
      "Data columns (total 8 columns):\n",
      "district    63 non-null object\n",
      "id          63 non-null int32\n",
      "station     63 non-null object\n",
      "address     63 non-null object\n",
      "lat         63 non-null float64\n",
      "lng         63 non-null float64\n",
      "date        63 non-null datetime64[ns]\n",
      "count       63 non-null int64\n",
      "dtypes: datetime64[ns](1), float64(2), int32(1), int64(1), object(3)\n",
      "memory usage: 3.8+ KB\n"
     ]
    }
   ],
   "source": [
    "seongdong.info()"
   ]
  },
  {
   "cell_type": "code",
   "execution_count": 64,
   "metadata": {
    "ExecuteTime": {
     "end_time": "2020-05-04T04:36:44.861192Z",
     "start_time": "2020-05-04T04:36:44.619811Z"
    },
    "scrolled": false
   },
   "outputs": [
    {
     "data": {
      "text/html": [
       "<div style=\"width:100%;\"><div style=\"position:relative;width:100%;height:0;padding-bottom:60%;\"><iframe src=\"about:blank\" style=\"position:absolute;width:100%;height:100%;left:0;top:0;border:none !important;\" data-html=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 onload=\"this.contentDocument.open();this.contentDocument.write(atob(this.getAttribute('data-html')));this.contentDocument.close();\" allowfullscreen webkitallowfullscreen mozallowfullscreen></iframe></div></div>"
      ],
      "text/plain": [
       "<folium.folium.Map at 0x257a5b45888>"
      ]
     },
     "execution_count": 64,
     "metadata": {},
     "output_type": "execute_result"
    }
   ],
   "source": [
    "from folium.plugins import HeatMap\n",
    "from folium.plugins import MarkerCluster\n",
    "\n",
    "# 성동구 맵 만들기\n",
    "map = folium.Map([seongdong['lat'].median(),\n",
    "                  seongdong['lng'].median()],\n",
    "                 tiles='Stamen Watercolor', zoom_start=14)\n",
    "\n",
    "# 클러스터링 생성\n",
    "MarkerCluster(seongdong[['lat', 'lng']]).add_to(map)\n",
    "# 히트맵 생성\n",
    "HeatMap(seongdong[['lat', 'lng', 'count']]).add_to(map)\n",
    "\n",
    "# 자전거 수가 많은 지역 10군데 표시\n",
    "for row in seongdong.sort_values('count', ascending=False).index[:10]:\n",
    "    lat = seongdong.loc[row, 'lat']\n",
    "    lng = seongdong.loc[row, 'lng']\n",
    "    folium.Marker([lat, lng], icon=folium.Icon(color='black',icon=\"bicycle\", prefix='fa')).add_to(map)\n",
    "\n",
    "# 서울숲 근처 녹색 원 표시\n",
    "folium.CircleMarker([37.544796, 127.039266], radius=90,\n",
    "                    color='#008024', fill_color='#06EB51', fill_opacity=.2).add_to(map)\n",
    "map"
   ]
  },
  {
   "cell_type": "markdown",
   "metadata": {},
   "source": [
    "> *히트맵: 어느 곳에 자전거수가 많은지 확인 가능  \n",
    "클러스터링(지도 내 숫자): 구역 당 대여소의 수를 확인 가능*\n",
    "\n",
    "* 서울숲 근처에는 성동구에서 가장 많은 자전거 대여소 중 하나가 있다.\n",
    "* 그리고 근처에 다섯개의 대여소가 있다. 적다고 할 수는 없다.\n",
    "* **하지만!**\n",
    "    * 서울숲 근처에만 집중적으로 몰려있는 것은 아니다.\n",
    "    * 전반적으로 고르게 퍼져있음을 확인할 수 있다."
   ]
  },
  {
   "cell_type": "markdown",
   "metadata": {},
   "source": [
    "### 3-2. 따릉이를 많이 대여,반납하는 지역 찾기"
   ]
  },
  {
   "cell_type": "markdown",
   "metadata": {},
   "source": [
    "* 앞에서는  \n",
    "    1) 대여소가 어느 구에 많은지 알았고,  \n",
    "    2) 서울숲 근처에 대여소가 몰려있는지 확인해보았다.  \n",
    "* 이제 대여, 반납 수를 분석하여 **실제로 어느 구역에 따릉이가 부족한 지 분석해보자.**"
   ]
  },
  {
   "cell_type": "code",
   "execution_count": 65,
   "metadata": {
    "ExecuteTime": {
     "end_time": "2020-05-04T04:36:44.870169Z",
     "start_time": "2020-05-04T04:36:44.862162Z"
    }
   },
   "outputs": [
    {
     "data": {
      "text/html": [
       "<div>\n",
       "<style scoped>\n",
       "    .dataframe tbody tr th:only-of-type {\n",
       "        vertical-align: middle;\n",
       "    }\n",
       "\n",
       "    .dataframe tbody tr th {\n",
       "        vertical-align: top;\n",
       "    }\n",
       "\n",
       "    .dataframe thead th {\n",
       "        text-align: right;\n",
       "    }\n",
       "</style>\n",
       "<table border=\"1\" class=\"dataframe\">\n",
       "  <thead>\n",
       "    <tr style=\"text-align: right;\">\n",
       "      <th></th>\n",
       "      <th>district</th>\n",
       "      <th>id</th>\n",
       "      <th>station</th>\n",
       "      <th>date</th>\n",
       "      <th>rent</th>\n",
       "      <th>return</th>\n",
       "    </tr>\n",
       "  </thead>\n",
       "  <tbody>\n",
       "    <tr>\n",
       "      <td>0</td>\n",
       "      <td>강남구</td>\n",
       "      <td>2301</td>\n",
       "      <td>현대고등학교 건너편</td>\n",
       "      <td>2019-06-01</td>\n",
       "      <td>3909</td>\n",
       "      <td>4072</td>\n",
       "    </tr>\n",
       "    <tr>\n",
       "      <td>1</td>\n",
       "      <td>강남구</td>\n",
       "      <td>2302</td>\n",
       "      <td>교보타워 버스정류장(신논현역 3번출구 후면)</td>\n",
       "      <td>2019-06-01</td>\n",
       "      <td>2432</td>\n",
       "      <td>2382</td>\n",
       "    </tr>\n",
       "    <tr>\n",
       "      <td>2</td>\n",
       "      <td>강남구</td>\n",
       "      <td>2303</td>\n",
       "      <td>논현역 7번출구</td>\n",
       "      <td>2019-06-01</td>\n",
       "      <td>1567</td>\n",
       "      <td>1402</td>\n",
       "    </tr>\n",
       "    <tr>\n",
       "      <td>3</td>\n",
       "      <td>강남구</td>\n",
       "      <td>2304</td>\n",
       "      <td>신영 ROYAL PALACE 앞</td>\n",
       "      <td>2019-06-01</td>\n",
       "      <td>559</td>\n",
       "      <td>207</td>\n",
       "    </tr>\n",
       "    <tr>\n",
       "      <td>4</td>\n",
       "      <td>강남구</td>\n",
       "      <td>2305</td>\n",
       "      <td>MCM 본사 직영점 앞</td>\n",
       "      <td>2019-06-01</td>\n",
       "      <td>730</td>\n",
       "      <td>905</td>\n",
       "    </tr>\n",
       "  </tbody>\n",
       "</table>\n",
       "</div>"
      ],
      "text/plain": [
       "  district    id                    station       date  rent  return\n",
       "0      강남구  2301                 현대고등학교 건너편 2019-06-01  3909    4072\n",
       "1      강남구  2302   교보타워 버스정류장(신논현역 3번출구 후면) 2019-06-01  2432    2382\n",
       "2      강남구  2303                   논현역 7번출구 2019-06-01  1567    1402\n",
       "3      강남구  2304          신영 ROYAL PALACE 앞 2019-06-01   559     207\n",
       "4      강남구  2305               MCM 본사 직영점 앞 2019-06-01   730     905"
      ]
     },
     "execution_count": 65,
     "metadata": {},
     "output_type": "execute_result"
    }
   ],
   "source": [
    "df_bike.head()"
   ]
  },
  {
   "cell_type": "markdown",
   "metadata": {},
   "source": [
    "* 각 대여소마다 날짜별로 구분되어있으므로, id를 기준으로 합쳐주자.\n",
    "* 지금은 시계열로는 크게 얻을 수 있는 정보가 없으므로 date는 삭제!"
   ]
  },
  {
   "cell_type": "code",
   "execution_count": 66,
   "metadata": {
    "ExecuteTime": {
     "end_time": "2020-05-04T04:36:44.910034Z",
     "start_time": "2020-05-04T04:36:44.872135Z"
    }
   },
   "outputs": [
    {
     "data": {
      "text/html": [
       "<div>\n",
       "<style scoped>\n",
       "    .dataframe tbody tr th:only-of-type {\n",
       "        vertical-align: middle;\n",
       "    }\n",
       "\n",
       "    .dataframe tbody tr th {\n",
       "        vertical-align: top;\n",
       "    }\n",
       "\n",
       "    .dataframe thead th {\n",
       "        text-align: right;\n",
       "    }\n",
       "</style>\n",
       "<table border=\"1\" class=\"dataframe\">\n",
       "  <thead>\n",
       "    <tr style=\"text-align: right;\">\n",
       "      <th></th>\n",
       "      <th>id</th>\n",
       "      <th>rent</th>\n",
       "      <th>return</th>\n",
       "      <th>district</th>\n",
       "      <th>station</th>\n",
       "    </tr>\n",
       "  </thead>\n",
       "  <tbody>\n",
       "    <tr>\n",
       "      <td>0</td>\n",
       "      <td>101</td>\n",
       "      <td>8552</td>\n",
       "      <td>8842</td>\n",
       "      <td>마포구</td>\n",
       "      <td>(구)합정동 주민센터</td>\n",
       "    </tr>\n",
       "    <tr>\n",
       "      <td>1</td>\n",
       "      <td>101</td>\n",
       "      <td>8552</td>\n",
       "      <td>8842</td>\n",
       "      <td>마포구</td>\n",
       "      <td>(구)합정동 주민센터</td>\n",
       "    </tr>\n",
       "    <tr>\n",
       "      <td>2</td>\n",
       "      <td>101</td>\n",
       "      <td>8552</td>\n",
       "      <td>8842</td>\n",
       "      <td>마포구</td>\n",
       "      <td>(구)합정동 주민센터</td>\n",
       "    </tr>\n",
       "    <tr>\n",
       "      <td>3</td>\n",
       "      <td>101</td>\n",
       "      <td>8552</td>\n",
       "      <td>8842</td>\n",
       "      <td>마포구</td>\n",
       "      <td>(구)합정동 주민센터</td>\n",
       "    </tr>\n",
       "    <tr>\n",
       "      <td>4</td>\n",
       "      <td>101</td>\n",
       "      <td>8552</td>\n",
       "      <td>8842</td>\n",
       "      <td>마포구</td>\n",
       "      <td>(구)합정동 주민센터</td>\n",
       "    </tr>\n",
       "    <tr>\n",
       "      <td>...</td>\n",
       "      <td>...</td>\n",
       "      <td>...</td>\n",
       "      <td>...</td>\n",
       "      <td>...</td>\n",
       "      <td>...</td>\n",
       "    </tr>\n",
       "    <tr>\n",
       "      <td>18403</td>\n",
       "      <td>3542</td>\n",
       "      <td>15793</td>\n",
       "      <td>15533</td>\n",
       "      <td>광진구</td>\n",
       "      <td>래미안 구의파크 스위트</td>\n",
       "    </tr>\n",
       "    <tr>\n",
       "      <td>18404</td>\n",
       "      <td>3542</td>\n",
       "      <td>15793</td>\n",
       "      <td>15533</td>\n",
       "      <td>광진구</td>\n",
       "      <td>래미안 구의파크 스위트</td>\n",
       "    </tr>\n",
       "    <tr>\n",
       "      <td>18405</td>\n",
       "      <td>3542</td>\n",
       "      <td>15793</td>\n",
       "      <td>15533</td>\n",
       "      <td>광진구</td>\n",
       "      <td>래미안 구의파크 스위트</td>\n",
       "    </tr>\n",
       "    <tr>\n",
       "      <td>18406</td>\n",
       "      <td>9996</td>\n",
       "      <td>4</td>\n",
       "      <td>4</td>\n",
       "      <td>성동구</td>\n",
       "      <td>시설2</td>\n",
       "    </tr>\n",
       "    <tr>\n",
       "      <td>18407</td>\n",
       "      <td>9996</td>\n",
       "      <td>4</td>\n",
       "      <td>4</td>\n",
       "      <td>성동구</td>\n",
       "      <td>시설2</td>\n",
       "    </tr>\n",
       "  </tbody>\n",
       "</table>\n",
       "<p>18408 rows × 5 columns</p>\n",
       "</div>"
      ],
      "text/plain": [
       "         id   rent  return district        station\n",
       "0       101   8552    8842      마포구    (구)합정동 주민센터\n",
       "1       101   8552    8842      마포구    (구)합정동 주민센터\n",
       "2       101   8552    8842      마포구    (구)합정동 주민센터\n",
       "3       101   8552    8842      마포구    (구)합정동 주민센터\n",
       "4       101   8552    8842      마포구    (구)합정동 주민센터\n",
       "...     ...    ...     ...      ...            ...\n",
       "18403  3542  15793   15533      광진구   래미안 구의파크 스위트\n",
       "18404  3542  15793   15533      광진구   래미안 구의파크 스위트\n",
       "18405  3542  15793   15533      광진구   래미안 구의파크 스위트\n",
       "18406  9996      4       4      성동구            시설2\n",
       "18407  9996      4       4      성동구            시설2\n",
       "\n",
       "[18408 rows x 5 columns]"
      ]
     },
     "execution_count": 66,
     "metadata": {},
     "output_type": "execute_result"
    }
   ],
   "source": [
    "df_bike.groupby('id').sum().merge(df_bike[['district', 'station', 'id']], on='id')"
   ]
  },
  {
   "cell_type": "code",
   "execution_count": 67,
   "metadata": {
    "ExecuteTime": {
     "end_time": "2020-05-04T04:36:44.932973Z",
     "start_time": "2020-05-04T04:36:44.912028Z"
    }
   },
   "outputs": [
    {
     "data": {
      "text/html": [
       "<div>\n",
       "<style scoped>\n",
       "    .dataframe tbody tr th:only-of-type {\n",
       "        vertical-align: middle;\n",
       "    }\n",
       "\n",
       "    .dataframe tbody tr th {\n",
       "        vertical-align: top;\n",
       "    }\n",
       "\n",
       "    .dataframe thead th {\n",
       "        text-align: right;\n",
       "    }\n",
       "</style>\n",
       "<table border=\"1\" class=\"dataframe\">\n",
       "  <thead>\n",
       "    <tr style=\"text-align: right;\">\n",
       "      <th></th>\n",
       "      <th>id</th>\n",
       "      <th>district</th>\n",
       "      <th>station</th>\n",
       "      <th>rent</th>\n",
       "      <th>return</th>\n",
       "    </tr>\n",
       "  </thead>\n",
       "  <tbody>\n",
       "    <tr>\n",
       "      <td>0</td>\n",
       "      <td>101</td>\n",
       "      <td>마포구</td>\n",
       "      <td>(구)합정동 주민센터</td>\n",
       "      <td>8552</td>\n",
       "      <td>8842</td>\n",
       "    </tr>\n",
       "    <tr>\n",
       "      <td>1</td>\n",
       "      <td>102</td>\n",
       "      <td>마포구</td>\n",
       "      <td>망원역 1번출구 앞</td>\n",
       "      <td>34333</td>\n",
       "      <td>32134</td>\n",
       "    </tr>\n",
       "    <tr>\n",
       "      <td>2</td>\n",
       "      <td>103</td>\n",
       "      <td>마포구</td>\n",
       "      <td>망원역 2번출구 앞</td>\n",
       "      <td>23096</td>\n",
       "      <td>22441</td>\n",
       "    </tr>\n",
       "    <tr>\n",
       "      <td>3</td>\n",
       "      <td>104</td>\n",
       "      <td>마포구</td>\n",
       "      <td>합정역 1번출구 앞</td>\n",
       "      <td>20665</td>\n",
       "      <td>18804</td>\n",
       "    </tr>\n",
       "    <tr>\n",
       "      <td>4</td>\n",
       "      <td>105</td>\n",
       "      <td>마포구</td>\n",
       "      <td>합정역 5번출구 앞</td>\n",
       "      <td>11085</td>\n",
       "      <td>9874</td>\n",
       "    </tr>\n",
       "  </tbody>\n",
       "</table>\n",
       "</div>"
      ],
      "text/plain": [
       "    id district       station   rent  return\n",
       "0  101      마포구   (구)합정동 주민센터   8552    8842\n",
       "1  102      마포구    망원역 1번출구 앞  34333   32134\n",
       "2  103      마포구    망원역 2번출구 앞  23096   22441\n",
       "3  104      마포구    합정역 1번출구 앞  20665   18804\n",
       "4  105      마포구    합정역 5번출구 앞  11085    9874"
      ]
     },
     "execution_count": 67,
     "metadata": {},
     "output_type": "execute_result"
    }
   ],
   "source": [
    "df_group = pd.merge(df_bike.groupby('id').sum(), df_bike[[\n",
    "                    'id', 'district', 'station']].drop_duplicates(), on='id', how='left')\n",
    "df_group = df_group[['id', 'district', 'station', 'rent', 'return']]\n",
    "\n",
    "df_group.head()"
   ]
  },
  {
   "cell_type": "code",
   "execution_count": 68,
   "metadata": {
    "ExecuteTime": {
     "end_time": "2020-05-04T04:36:44.940951Z",
     "start_time": "2020-05-04T04:36:44.933970Z"
    }
   },
   "outputs": [
    {
     "name": "stdout",
     "output_type": "stream",
     "text": [
      "(1566, 5)\n"
     ]
    }
   ],
   "source": [
    "print(df_group.shape)\n",
    "dup_index = df_group[df_group['id'].duplicated()].index\n",
    "df_group.drop(dup_index, axis=0, inplace=True)\n"
   ]
  },
  {
   "cell_type": "markdown",
   "metadata": {},
   "source": [
    "#### 3-2-1. 따릉이를 많이 대여하는 구역은?\n",
    "* 먼저, 많이 대여하는 구역은 어디인지 살펴보자."
   ]
  },
  {
   "cell_type": "code",
   "execution_count": 69,
   "metadata": {
    "ExecuteTime": {
     "end_time": "2020-05-04T04:36:44.952919Z",
     "start_time": "2020-05-04T04:36:44.941949Z"
    }
   },
   "outputs": [
    {
     "data": {
      "text/html": [
       "<div>\n",
       "<style scoped>\n",
       "    .dataframe tbody tr th:only-of-type {\n",
       "        vertical-align: middle;\n",
       "    }\n",
       "\n",
       "    .dataframe tbody tr th {\n",
       "        vertical-align: top;\n",
       "    }\n",
       "\n",
       "    .dataframe thead th {\n",
       "        text-align: right;\n",
       "    }\n",
       "</style>\n",
       "<table border=\"1\" class=\"dataframe\">\n",
       "  <thead>\n",
       "    <tr style=\"text-align: right;\">\n",
       "      <th></th>\n",
       "      <th>rent</th>\n",
       "      <th>return</th>\n",
       "    </tr>\n",
       "    <tr>\n",
       "      <th>district</th>\n",
       "      <th></th>\n",
       "      <th></th>\n",
       "    </tr>\n",
       "  </thead>\n",
       "  <tbody>\n",
       "    <tr>\n",
       "      <td>강남구</td>\n",
       "      <td>790737</td>\n",
       "      <td>732815</td>\n",
       "    </tr>\n",
       "    <tr>\n",
       "      <td>강동구</td>\n",
       "      <td>652896</td>\n",
       "      <td>671662</td>\n",
       "    </tr>\n",
       "    <tr>\n",
       "      <td>강북구</td>\n",
       "      <td>327191</td>\n",
       "      <td>328382</td>\n",
       "    </tr>\n",
       "    <tr>\n",
       "      <td>강서구</td>\n",
       "      <td>1128785</td>\n",
       "      <td>1146665</td>\n",
       "    </tr>\n",
       "    <tr>\n",
       "      <td>관악구</td>\n",
       "      <td>667287</td>\n",
       "      <td>666599</td>\n",
       "    </tr>\n",
       "    <tr>\n",
       "      <td>광진구</td>\n",
       "      <td>1169242</td>\n",
       "      <td>1161111</td>\n",
       "    </tr>\n",
       "    <tr>\n",
       "      <td>구로구</td>\n",
       "      <td>664399</td>\n",
       "      <td>662321</td>\n",
       "    </tr>\n",
       "    <tr>\n",
       "      <td>금천구</td>\n",
       "      <td>285370</td>\n",
       "      <td>281703</td>\n",
       "    </tr>\n",
       "    <tr>\n",
       "      <td>노원구</td>\n",
       "      <td>915608</td>\n",
       "      <td>915941</td>\n",
       "    </tr>\n",
       "    <tr>\n",
       "      <td>도봉구</td>\n",
       "      <td>306459</td>\n",
       "      <td>315583</td>\n",
       "    </tr>\n",
       "    <tr>\n",
       "      <td>동대문구</td>\n",
       "      <td>648020</td>\n",
       "      <td>658814</td>\n",
       "    </tr>\n",
       "    <tr>\n",
       "      <td>동작구</td>\n",
       "      <td>466406</td>\n",
       "      <td>476038</td>\n",
       "    </tr>\n",
       "    <tr>\n",
       "      <td>마포구</td>\n",
       "      <td>1323691</td>\n",
       "      <td>1328013</td>\n",
       "    </tr>\n",
       "    <tr>\n",
       "      <td>서대문구</td>\n",
       "      <td>560931</td>\n",
       "      <td>514052</td>\n",
       "    </tr>\n",
       "    <tr>\n",
       "      <td>서초구</td>\n",
       "      <td>836244</td>\n",
       "      <td>820487</td>\n",
       "    </tr>\n",
       "    <tr>\n",
       "      <td>성동구</td>\n",
       "      <td>881792</td>\n",
       "      <td>883816</td>\n",
       "    </tr>\n",
       "    <tr>\n",
       "      <td>성북구</td>\n",
       "      <td>604375</td>\n",
       "      <td>594378</td>\n",
       "    </tr>\n",
       "    <tr>\n",
       "      <td>송파구</td>\n",
       "      <td>1550841</td>\n",
       "      <td>1555244</td>\n",
       "    </tr>\n",
       "    <tr>\n",
       "      <td>양천구</td>\n",
       "      <td>537121</td>\n",
       "      <td>547477</td>\n",
       "    </tr>\n",
       "    <tr>\n",
       "      <td>영등포구</td>\n",
       "      <td>1521902</td>\n",
       "      <td>1504839</td>\n",
       "    </tr>\n",
       "    <tr>\n",
       "      <td>용산구</td>\n",
       "      <td>381281</td>\n",
       "      <td>381442</td>\n",
       "    </tr>\n",
       "    <tr>\n",
       "      <td>은평구</td>\n",
       "      <td>544344</td>\n",
       "      <td>565783</td>\n",
       "    </tr>\n",
       "    <tr>\n",
       "      <td>종로구</td>\n",
       "      <td>776034</td>\n",
       "      <td>738580</td>\n",
       "    </tr>\n",
       "    <tr>\n",
       "      <td>중구</td>\n",
       "      <td>444378</td>\n",
       "      <td>417963</td>\n",
       "    </tr>\n",
       "    <tr>\n",
       "      <td>중랑구</td>\n",
       "      <td>473049</td>\n",
       "      <td>490641</td>\n",
       "    </tr>\n",
       "  </tbody>\n",
       "</table>\n",
       "</div>"
      ],
      "text/plain": [
       "             rent   return\n",
       "district                  \n",
       "강남구        790737   732815\n",
       "강동구        652896   671662\n",
       "강북구        327191   328382\n",
       "강서구       1128785  1146665\n",
       "관악구        667287   666599\n",
       "광진구       1169242  1161111\n",
       "구로구        664399   662321\n",
       "금천구        285370   281703\n",
       "노원구        915608   915941\n",
       "도봉구        306459   315583\n",
       "동대문구       648020   658814\n",
       "동작구        466406   476038\n",
       "마포구       1323691  1328013\n",
       "서대문구       560931   514052\n",
       "서초구        836244   820487\n",
       "성동구        881792   883816\n",
       "성북구        604375   594378\n",
       "송파구       1550841  1555244\n",
       "양천구        537121   547477\n",
       "영등포구      1521902  1504839\n",
       "용산구        381281   381442\n",
       "은평구        544344   565783\n",
       "종로구        776034   738580\n",
       "중구         444378   417963\n",
       "중랑구        473049   490641"
      ]
     },
     "execution_count": 69,
     "metadata": {},
     "output_type": "execute_result"
    }
   ],
   "source": [
    "# 구역으로 groupby\n",
    "sum_district = df_group.groupby('district').sum()[['rent', 'return']]\n",
    "sum_district"
   ]
  },
  {
   "cell_type": "code",
   "execution_count": 70,
   "metadata": {
    "ExecuteTime": {
     "end_time": "2020-05-04T04:36:44.960898Z",
     "start_time": "2020-05-04T04:36:44.953945Z"
    }
   },
   "outputs": [
    {
     "data": {
      "text/html": [
       "<div>\n",
       "<style scoped>\n",
       "    .dataframe tbody tr th:only-of-type {\n",
       "        vertical-align: middle;\n",
       "    }\n",
       "\n",
       "    .dataframe tbody tr th {\n",
       "        vertical-align: top;\n",
       "    }\n",
       "\n",
       "    .dataframe thead th {\n",
       "        text-align: right;\n",
       "    }\n",
       "</style>\n",
       "<table border=\"1\" class=\"dataframe\">\n",
       "  <thead>\n",
       "    <tr style=\"text-align: right;\">\n",
       "      <th></th>\n",
       "      <th>rent</th>\n",
       "      <th>return</th>\n",
       "    </tr>\n",
       "    <tr>\n",
       "      <th>district</th>\n",
       "      <th></th>\n",
       "      <th></th>\n",
       "    </tr>\n",
       "  </thead>\n",
       "  <tbody>\n",
       "    <tr>\n",
       "      <td>송파구</td>\n",
       "      <td>1550841</td>\n",
       "      <td>1555244</td>\n",
       "    </tr>\n",
       "    <tr>\n",
       "      <td>영등포구</td>\n",
       "      <td>1521902</td>\n",
       "      <td>1504839</td>\n",
       "    </tr>\n",
       "    <tr>\n",
       "      <td>마포구</td>\n",
       "      <td>1323691</td>\n",
       "      <td>1328013</td>\n",
       "    </tr>\n",
       "    <tr>\n",
       "      <td>광진구</td>\n",
       "      <td>1169242</td>\n",
       "      <td>1161111</td>\n",
       "    </tr>\n",
       "    <tr>\n",
       "      <td>강서구</td>\n",
       "      <td>1128785</td>\n",
       "      <td>1146665</td>\n",
       "    </tr>\n",
       "  </tbody>\n",
       "</table>\n",
       "</div>"
      ],
      "text/plain": [
       "             rent   return\n",
       "district                  \n",
       "송파구       1550841  1555244\n",
       "영등포구      1521902  1504839\n",
       "마포구       1323691  1328013\n",
       "광진구       1169242  1161111\n",
       "강서구       1128785  1146665"
      ]
     },
     "execution_count": 70,
     "metadata": {},
     "output_type": "execute_result"
    }
   ],
   "source": [
    "sum_district.sort_values('rent', ascending=False).head()"
   ]
  },
  {
   "cell_type": "code",
   "execution_count": 71,
   "metadata": {
    "ExecuteTime": {
     "end_time": "2020-05-04T04:36:44.968877Z",
     "start_time": "2020-05-04T04:36:44.961923Z"
    }
   },
   "outputs": [
    {
     "data": {
      "text/html": [
       "<div>\n",
       "<style scoped>\n",
       "    .dataframe tbody tr th:only-of-type {\n",
       "        vertical-align: middle;\n",
       "    }\n",
       "\n",
       "    .dataframe tbody tr th {\n",
       "        vertical-align: top;\n",
       "    }\n",
       "\n",
       "    .dataframe thead th {\n",
       "        text-align: right;\n",
       "    }\n",
       "</style>\n",
       "<table border=\"1\" class=\"dataframe\">\n",
       "  <thead>\n",
       "    <tr style=\"text-align: right;\">\n",
       "      <th></th>\n",
       "      <th>rent</th>\n",
       "      <th>return</th>\n",
       "    </tr>\n",
       "    <tr>\n",
       "      <th>district</th>\n",
       "      <th></th>\n",
       "      <th></th>\n",
       "    </tr>\n",
       "  </thead>\n",
       "  <tbody>\n",
       "    <tr>\n",
       "      <td>중구</td>\n",
       "      <td>444378</td>\n",
       "      <td>417963</td>\n",
       "    </tr>\n",
       "    <tr>\n",
       "      <td>용산구</td>\n",
       "      <td>381281</td>\n",
       "      <td>381442</td>\n",
       "    </tr>\n",
       "    <tr>\n",
       "      <td>강북구</td>\n",
       "      <td>327191</td>\n",
       "      <td>328382</td>\n",
       "    </tr>\n",
       "    <tr>\n",
       "      <td>도봉구</td>\n",
       "      <td>306459</td>\n",
       "      <td>315583</td>\n",
       "    </tr>\n",
       "    <tr>\n",
       "      <td>금천구</td>\n",
       "      <td>285370</td>\n",
       "      <td>281703</td>\n",
       "    </tr>\n",
       "  </tbody>\n",
       "</table>\n",
       "</div>"
      ],
      "text/plain": [
       "            rent  return\n",
       "district                \n",
       "중구        444378  417963\n",
       "용산구       381281  381442\n",
       "강북구       327191  328382\n",
       "도봉구       306459  315583\n",
       "금천구       285370  281703"
      ]
     },
     "execution_count": 71,
     "metadata": {},
     "output_type": "execute_result"
    }
   ],
   "source": [
    "sum_district.sort_values('rent', ascending=False).tail()"
   ]
  },
  {
   "cell_type": "markdown",
   "metadata": {},
   "source": [
    "* 역시 강남 3구 + 영등포구가 제일 많이 대여가 되고있다. \n",
    "* 금천구가 가장 대여가 적고, 의외로 용산구, 중구도 가장 대여가 적다.\n",
    "* 이번에는 반납수를 볼텐데, **대여와 반납의 상관관계를 파악해보자.**\n",
    "    * 예상하건데, 대여가 많은 구가 당연히 반납도 많지 않을까?"
   ]
  },
  {
   "cell_type": "markdown",
   "metadata": {},
   "source": [
    "#### 3-2-2. 대여가 많으면 반납도 많을까?\n",
    "* 어쩌면 결과가 뻔한 질문이지만, 대여가 많으면 반납도 많을지 눈으로 확인해보고싶다."
   ]
  },
  {
   "cell_type": "code",
   "execution_count": 72,
   "metadata": {
    "ExecuteTime": {
     "end_time": "2020-05-04T04:36:45.127452Z",
     "start_time": "2020-05-04T04:36:44.969901Z"
    }
   },
   "outputs": [
    {
     "data": {
      "text/plain": [
       "Text(0.5, 1.0, 'r=1.00')"
      ]
     },
     "execution_count": 72,
     "metadata": {},
     "output_type": "execute_result"
    },
    {
     "data": {
      "image/png": "[encoded data removed]",
      "text/plain": [
       "<Figure size 504x504 with 1 Axes>"
      ]
     },
     "metadata": {
      "needs_background": "light"
     },
     "output_type": "display_data"
    }
   ],
   "source": [
    "plt.figure(figsize=(7, 7))\n",
    "sns.scatterplot('rent', 'return', s=100, alpha=.8, data=sum_district.sort_index())\n",
    "plt.title('r={:.2f}'.format(sum_district['rent'].corr(sum_district['return'])))"
   ]
  },
  {
   "cell_type": "markdown",
   "metadata": {
    "ExecuteTime": {
     "end_time": "2020-05-02T08:52:41.674833Z",
     "start_time": "2020-05-02T08:52:41.666855Z"
    }
   },
   "source": [
    "* 예상대로, 대여와 반납은 선형관계에 있다.\n",
    "* 그럼 구역 말고 대여소별로는 어떤지 살펴보자."
   ]
  },
  {
   "cell_type": "code",
   "execution_count": 73,
   "metadata": {
    "ExecuteTime": {
     "end_time": "2020-05-04T04:36:45.328942Z",
     "start_time": "2020-05-04T04:36:45.128449Z"
    }
   },
   "outputs": [
    {
     "data": {
      "text/plain": [
       "Text(0.5, 1.0, 'r=0.99')"
      ]
     },
     "execution_count": 73,
     "metadata": {},
     "output_type": "execute_result"
    },
    {
     "data": {
      "image/png": "[encoded data removed]",
      "text/plain": [
       "<Figure size 504x504 with 1 Axes>"
      ]
     },
     "metadata": {
      "needs_background": "light"
     },
     "output_type": "display_data"
    }
   ],
   "source": [
    "plt.figure(figsize=(7, 7))\n",
    "sns.scatterplot('rent', 'return', data=df_group, alpha=.6)\n",
    "plt.title('r={:.2f}'.format(df_group['rent'].corr(df_group['return'])))"
   ]
  },
  {
   "cell_type": "markdown",
   "metadata": {},
   "source": [
    "* 대여소별로도 크게 다르지 않게, 선형관계에 있다.\n",
    "* 하지만, 구별로 보았을 때보다는 선형에서 조금 벗어나는 값들이 몇개 보인다.\n",
    "* 대여수 / 반납수 를 계산하여 **대여보다 반납이,** 혹은 **반납보다 대여가 많은 대여소**를 찾아보자."
   ]
  },
  {
   "cell_type": "markdown",
   "metadata": {},
   "source": [
    "#### 3-2-3. 반납 대비 대여가 높은 대여소는?\n",
    "* 반납보다 대여가 많다면 따릉이 충원 지역 후보라고 볼 수 있을것이다."
   ]
  },
  {
   "cell_type": "code",
   "execution_count": 74,
   "metadata": {
    "ExecuteTime": {
     "end_time": "2020-05-04T04:36:45.339884Z",
     "start_time": "2020-05-04T04:36:45.329911Z"
    }
   },
   "outputs": [
    {
     "data": {
      "text/html": [
       "<div>\n",
       "<style scoped>\n",
       "    .dataframe tbody tr th:only-of-type {\n",
       "        vertical-align: middle;\n",
       "    }\n",
       "\n",
       "    .dataframe tbody tr th {\n",
       "        vertical-align: top;\n",
       "    }\n",
       "\n",
       "    .dataframe thead th {\n",
       "        text-align: right;\n",
       "    }\n",
       "</style>\n",
       "<table border=\"1\" class=\"dataframe\">\n",
       "  <thead>\n",
       "    <tr style=\"text-align: right;\">\n",
       "      <th></th>\n",
       "      <th>id</th>\n",
       "      <th>district</th>\n",
       "      <th>station</th>\n",
       "      <th>rent</th>\n",
       "      <th>return</th>\n",
       "      <th>rent_return_ratio</th>\n",
       "    </tr>\n",
       "  </thead>\n",
       "  <tbody>\n",
       "    <tr>\n",
       "      <td>0</td>\n",
       "      <td>101</td>\n",
       "      <td>마포구</td>\n",
       "      <td>(구)합정동 주민센터</td>\n",
       "      <td>8552</td>\n",
       "      <td>8842</td>\n",
       "      <td>0.967202</td>\n",
       "    </tr>\n",
       "    <tr>\n",
       "      <td>1</td>\n",
       "      <td>102</td>\n",
       "      <td>마포구</td>\n",
       "      <td>망원역 1번출구 앞</td>\n",
       "      <td>34333</td>\n",
       "      <td>32134</td>\n",
       "      <td>1.068432</td>\n",
       "    </tr>\n",
       "    <tr>\n",
       "      <td>2</td>\n",
       "      <td>103</td>\n",
       "      <td>마포구</td>\n",
       "      <td>망원역 2번출구 앞</td>\n",
       "      <td>23096</td>\n",
       "      <td>22441</td>\n",
       "      <td>1.029188</td>\n",
       "    </tr>\n",
       "    <tr>\n",
       "      <td>3</td>\n",
       "      <td>104</td>\n",
       "      <td>마포구</td>\n",
       "      <td>합정역 1번출구 앞</td>\n",
       "      <td>20665</td>\n",
       "      <td>18804</td>\n",
       "      <td>1.098968</td>\n",
       "    </tr>\n",
       "    <tr>\n",
       "      <td>4</td>\n",
       "      <td>105</td>\n",
       "      <td>마포구</td>\n",
       "      <td>합정역 5번출구 앞</td>\n",
       "      <td>11085</td>\n",
       "      <td>9874</td>\n",
       "      <td>1.122645</td>\n",
       "    </tr>\n",
       "  </tbody>\n",
       "</table>\n",
       "</div>"
      ],
      "text/plain": [
       "    id district       station   rent  return  rent_return_ratio\n",
       "0  101      마포구   (구)합정동 주민센터   8552    8842           0.967202\n",
       "1  102      마포구    망원역 1번출구 앞  34333   32134           1.068432\n",
       "2  103      마포구    망원역 2번출구 앞  23096   22441           1.029188\n",
       "3  104      마포구    합정역 1번출구 앞  20665   18804           1.098968\n",
       "4  105      마포구    합정역 5번출구 앞  11085    9874           1.122645"
      ]
     },
     "execution_count": 74,
     "metadata": {},
     "output_type": "execute_result"
    }
   ],
   "source": [
    "df_group['rent_return_ratio'] = df_group['rent'] / df_group['return']\n",
    "df_group.head()"
   ]
  },
  {
   "cell_type": "code",
   "execution_count": 75,
   "metadata": {
    "ExecuteTime": {
     "end_time": "2020-05-04T04:36:45.350855Z",
     "start_time": "2020-05-04T04:36:45.340881Z"
    }
   },
   "outputs": [
    {
     "data": {
      "text/html": [
       "<div>\n",
       "<style scoped>\n",
       "    .dataframe tbody tr th:only-of-type {\n",
       "        vertical-align: middle;\n",
       "    }\n",
       "\n",
       "    .dataframe tbody tr th {\n",
       "        vertical-align: top;\n",
       "    }\n",
       "\n",
       "    .dataframe thead th {\n",
       "        text-align: right;\n",
       "    }\n",
       "</style>\n",
       "<table border=\"1\" class=\"dataframe\">\n",
       "  <thead>\n",
       "    <tr style=\"text-align: right;\">\n",
       "      <th></th>\n",
       "      <th>id</th>\n",
       "      <th>district</th>\n",
       "      <th>station</th>\n",
       "      <th>rent</th>\n",
       "      <th>return</th>\n",
       "      <th>rent_return_ratio</th>\n",
       "    </tr>\n",
       "  </thead>\n",
       "  <tbody>\n",
       "    <tr>\n",
       "      <td>1551</td>\n",
       "      <td>1004</td>\n",
       "      <td>강동구</td>\n",
       "      <td>삼성광나루아파트 버스정류장</td>\n",
       "      <td>12288</td>\n",
       "      <td>16917</td>\n",
       "      <td>0.726370</td>\n",
       "    </tr>\n",
       "    <tr>\n",
       "      <td>1552</td>\n",
       "      <td>1146</td>\n",
       "      <td>강서구</td>\n",
       "      <td>곰달래사거리</td>\n",
       "      <td>8969</td>\n",
       "      <td>12373</td>\n",
       "      <td>0.724885</td>\n",
       "    </tr>\n",
       "    <tr>\n",
       "      <td>1553</td>\n",
       "      <td>2060</td>\n",
       "      <td>동작구</td>\n",
       "      <td>남성역3번출구 뒤</td>\n",
       "      <td>10945</td>\n",
       "      <td>15193</td>\n",
       "      <td>0.720398</td>\n",
       "    </tr>\n",
       "    <tr>\n",
       "      <td>1554</td>\n",
       "      <td>1444</td>\n",
       "      <td>중랑구</td>\n",
       "      <td>면목4치안센터</td>\n",
       "      <td>7161</td>\n",
       "      <td>10340</td>\n",
       "      <td>0.692553</td>\n",
       "    </tr>\n",
       "    <tr>\n",
       "      <td>1555</td>\n",
       "      <td>1141</td>\n",
       "      <td>강서구</td>\n",
       "      <td>곰달래 문화복지센터 1-1</td>\n",
       "      <td>11938</td>\n",
       "      <td>17377</td>\n",
       "      <td>0.687000</td>\n",
       "    </tr>\n",
       "  </tbody>\n",
       "</table>\n",
       "</div>"
      ],
      "text/plain": [
       "        id district          station   rent  return  rent_return_ratio\n",
       "1551  1004      강동구   삼성광나루아파트 버스정류장  12288   16917           0.726370\n",
       "1552  1146      강서구           곰달래사거리   8969   12373           0.724885\n",
       "1553  2060      동작구        남성역3번출구 뒤  10945   15193           0.720398\n",
       "1554  1444      중랑구          면목4치안센터   7161   10340           0.692553\n",
       "1555  1141      강서구   곰달래 문화복지센터 1-1  11938   17377           0.687000"
      ]
     },
     "execution_count": 75,
     "metadata": {},
     "output_type": "execute_result"
    }
   ],
   "source": [
    "df_group.sort_values('rent_return_ratio', ascending=False, inplace=True)\n",
    "df_group.reset_index(drop=True, inplace=True)\n",
    "df_group.tail()"
   ]
  },
  {
   "cell_type": "markdown",
   "metadata": {},
   "source": [
    "* rent_return_ratio이라는 지표를 통해, 반납 대비 대여가 얼마나 많은지 알 수 있다. \n",
    "* 가장 비율이 높은 신당 래미안 앞은, 반납 대비 대여가 5.5배나 높다.\n",
    "* 반면, 가장 낮은 비율을 가진 곳은 강서구의 곰달래 문화복지센터이다.\n",
    "    * 4번째로 낮은 곳인 곰달래사거리도 0.72로 대여보다 반납이 많다.\n",
    "    * 곰달래라고 하는 곳의 근처에서 사람들이 따릉이 반납을 많이 하나보다.\n",
    "- - - -\n",
    "* **반납보다 대여를 2배 이상 많은 곳**이 있다면, 수요-공급이 안 맞는 것 아닐까?\n",
    "* 계수가 2 이상인 곳을 찾아보자."
   ]
  },
  {
   "cell_type": "code",
   "execution_count": 76,
   "metadata": {
    "ExecuteTime": {
     "end_time": "2020-05-04T04:36:45.362823Z",
     "start_time": "2020-05-04T04:36:45.351852Z"
    }
   },
   "outputs": [
    {
     "data": {
      "text/html": [
       "<div>\n",
       "<style scoped>\n",
       "    .dataframe tbody tr th:only-of-type {\n",
       "        vertical-align: middle;\n",
       "    }\n",
       "\n",
       "    .dataframe tbody tr th {\n",
       "        vertical-align: top;\n",
       "    }\n",
       "\n",
       "    .dataframe thead th {\n",
       "        text-align: right;\n",
       "    }\n",
       "</style>\n",
       "<table border=\"1\" class=\"dataframe\">\n",
       "  <thead>\n",
       "    <tr style=\"text-align: right;\">\n",
       "      <th></th>\n",
       "      <th>id</th>\n",
       "      <th>district</th>\n",
       "      <th>station</th>\n",
       "      <th>rent</th>\n",
       "      <th>return</th>\n",
       "      <th>rent_return_ratio</th>\n",
       "    </tr>\n",
       "  </thead>\n",
       "  <tbody>\n",
       "    <tr>\n",
       "      <td>0</td>\n",
       "      <td>434</td>\n",
       "      <td>중구</td>\n",
       "      <td>신당 래미안 버스정류장</td>\n",
       "      <td>2616</td>\n",
       "      <td>471</td>\n",
       "      <td>5.554140</td>\n",
       "    </tr>\n",
       "    <tr>\n",
       "      <td>1</td>\n",
       "      <td>167</td>\n",
       "      <td>서대문구</td>\n",
       "      <td>연가초등학교 옆</td>\n",
       "      <td>7075</td>\n",
       "      <td>1396</td>\n",
       "      <td>5.068052</td>\n",
       "    </tr>\n",
       "    <tr>\n",
       "      <td>2</td>\n",
       "      <td>2286</td>\n",
       "      <td>서초구</td>\n",
       "      <td>탑성마을입구</td>\n",
       "      <td>821</td>\n",
       "      <td>168</td>\n",
       "      <td>4.886905</td>\n",
       "    </tr>\n",
       "    <tr>\n",
       "      <td>3</td>\n",
       "      <td>3527</td>\n",
       "      <td>성동구</td>\n",
       "      <td>왕십리 자이아파트</td>\n",
       "      <td>1194</td>\n",
       "      <td>258</td>\n",
       "      <td>4.627907</td>\n",
       "    </tr>\n",
       "    <tr>\n",
       "      <td>4</td>\n",
       "      <td>1304</td>\n",
       "      <td>성북구</td>\n",
       "      <td>만해공원</td>\n",
       "      <td>3310</td>\n",
       "      <td>754</td>\n",
       "      <td>4.389920</td>\n",
       "    </tr>\n",
       "    <tr>\n",
       "      <td>...</td>\n",
       "      <td>...</td>\n",
       "      <td>...</td>\n",
       "      <td>...</td>\n",
       "      <td>...</td>\n",
       "      <td>...</td>\n",
       "      <td>...</td>\n",
       "    </tr>\n",
       "    <tr>\n",
       "      <td>45</td>\n",
       "      <td>1545</td>\n",
       "      <td>강북구</td>\n",
       "      <td>솔샘역 2번 출구</td>\n",
       "      <td>3980</td>\n",
       "      <td>1935</td>\n",
       "      <td>2.056848</td>\n",
       "    </tr>\n",
       "    <tr>\n",
       "      <td>46</td>\n",
       "      <td>159</td>\n",
       "      <td>서대문구</td>\n",
       "      <td>이대역 4번 출구</td>\n",
       "      <td>6626</td>\n",
       "      <td>3248</td>\n",
       "      <td>2.040025</td>\n",
       "    </tr>\n",
       "    <tr>\n",
       "      <td>47</td>\n",
       "      <td>139</td>\n",
       "      <td>서대문구</td>\n",
       "      <td>연세대 정문 건너편</td>\n",
       "      <td>7836</td>\n",
       "      <td>3849</td>\n",
       "      <td>2.035853</td>\n",
       "    </tr>\n",
       "    <tr>\n",
       "      <td>48</td>\n",
       "      <td>572</td>\n",
       "      <td>광진구</td>\n",
       "      <td>국립정신 건강센터 앞</td>\n",
       "      <td>5500</td>\n",
       "      <td>2721</td>\n",
       "      <td>2.021316</td>\n",
       "    </tr>\n",
       "    <tr>\n",
       "      <td>49</td>\n",
       "      <td>2392</td>\n",
       "      <td>강남구</td>\n",
       "      <td>구룡산 입구 (구룡산 서울둘레길 입구)</td>\n",
       "      <td>1457</td>\n",
       "      <td>721</td>\n",
       "      <td>2.020804</td>\n",
       "    </tr>\n",
       "  </tbody>\n",
       "</table>\n",
       "<p>50 rows × 6 columns</p>\n",
       "</div>"
      ],
      "text/plain": [
       "      id district                 station  rent  return  rent_return_ratio\n",
       "0    434       중구            신당 래미안 버스정류장  2616     471           5.554140\n",
       "1    167     서대문구                연가초등학교 옆  7075    1396           5.068052\n",
       "2   2286      서초구                  탑성마을입구   821     168           4.886905\n",
       "3   3527      성동구               왕십리 자이아파트  1194     258           4.627907\n",
       "4   1304      성북구                    만해공원  3310     754           4.389920\n",
       "..   ...      ...                     ...   ...     ...                ...\n",
       "45  1545      강북구               솔샘역 2번 출구  3980    1935           2.056848\n",
       "46   159     서대문구               이대역 4번 출구  6626    3248           2.040025\n",
       "47   139     서대문구              연세대 정문 건너편  7836    3849           2.035853\n",
       "48   572      광진구             국립정신 건강센터 앞  5500    2721           2.021316\n",
       "49  2392      강남구   구룡산 입구 (구룡산 서울둘레길 입구)  1457     721           2.020804\n",
       "\n",
       "[50 rows x 6 columns]"
      ]
     },
     "execution_count": 76,
     "metadata": {},
     "output_type": "execute_result"
    }
   ],
   "source": [
    "df_twotimes = df_group[df_group.rent_return_ratio >= 2]\n",
    "df_twotimes"
   ]
  },
  {
   "cell_type": "markdown",
   "metadata": {},
   "source": [
    "* 의도한 것은 아닌데, 정확하게 50개의 대여소가 2보다 높다.\n",
    "* 어느 구가 가장 많은지 살펴보자."
   ]
  },
  {
   "cell_type": "code",
   "execution_count": 77,
   "metadata": {
    "ExecuteTime": {
     "end_time": "2020-05-04T04:36:45.534363Z",
     "start_time": "2020-05-04T04:36:45.363820Z"
    }
   },
   "outputs": [
    {
     "data": {
      "text/plain": [
       "<matplotlib.axes._subplots.AxesSubplot at 0x257a1eafe48>"
      ]
     },
     "execution_count": 77,
     "metadata": {},
     "output_type": "execute_result"
    },
    {
     "data": {
      "image/png": "[encoded data removed]",
      "text/plain": [
       "<Figure size 864x432 with 1 Axes>"
      ]
     },
     "metadata": {
      "needs_background": "light"
     },
     "output_type": "display_data"
    }
   ],
   "source": [
    "df_twotimes['district'].value_counts().sort_values().plot('barh', figsize=(12, 6))"
   ]
  },
  {
   "cell_type": "markdown",
   "metadata": {},
   "source": [
    "* 강남구가 가장 많음을 확인할 수 있다.\n",
    "* 이제 이 대여소들이 어디있는지 시각화해서 더 자세히 분석해보자."
   ]
  },
  {
   "cell_type": "markdown",
   "metadata": {},
   "source": [
    "#### 3-2-3. 대여가 많은 지역 시각화하기\n",
    "* 먼저, 대여소의 위치정보를 join하자."
   ]
  },
  {
   "cell_type": "code",
   "execution_count": 78,
   "metadata": {
    "ExecuteTime": {
     "end_time": "2020-05-04T04:36:45.543340Z",
     "start_time": "2020-05-04T04:36:45.535361Z"
    }
   },
   "outputs": [
    {
     "data": {
      "text/html": [
       "<div>\n",
       "<style scoped>\n",
       "    .dataframe tbody tr th:only-of-type {\n",
       "        vertical-align: middle;\n",
       "    }\n",
       "\n",
       "    .dataframe tbody tr th {\n",
       "        vertical-align: top;\n",
       "    }\n",
       "\n",
       "    .dataframe thead th {\n",
       "        text-align: right;\n",
       "    }\n",
       "</style>\n",
       "<table border=\"1\" class=\"dataframe\">\n",
       "  <thead>\n",
       "    <tr style=\"text-align: right;\">\n",
       "      <th></th>\n",
       "      <th>id</th>\n",
       "      <th>district</th>\n",
       "      <th>station</th>\n",
       "      <th>rent</th>\n",
       "      <th>return</th>\n",
       "      <th>rent_return_ratio</th>\n",
       "    </tr>\n",
       "  </thead>\n",
       "  <tbody>\n",
       "    <tr>\n",
       "      <td>0</td>\n",
       "      <td>434</td>\n",
       "      <td>중구</td>\n",
       "      <td>신당 래미안 버스정류장</td>\n",
       "      <td>2616</td>\n",
       "      <td>471</td>\n",
       "      <td>5.554140</td>\n",
       "    </tr>\n",
       "    <tr>\n",
       "      <td>1</td>\n",
       "      <td>167</td>\n",
       "      <td>서대문구</td>\n",
       "      <td>연가초등학교 옆</td>\n",
       "      <td>7075</td>\n",
       "      <td>1396</td>\n",
       "      <td>5.068052</td>\n",
       "    </tr>\n",
       "    <tr>\n",
       "      <td>2</td>\n",
       "      <td>2286</td>\n",
       "      <td>서초구</td>\n",
       "      <td>탑성마을입구</td>\n",
       "      <td>821</td>\n",
       "      <td>168</td>\n",
       "      <td>4.886905</td>\n",
       "    </tr>\n",
       "    <tr>\n",
       "      <td>3</td>\n",
       "      <td>3527</td>\n",
       "      <td>성동구</td>\n",
       "      <td>왕십리 자이아파트</td>\n",
       "      <td>1194</td>\n",
       "      <td>258</td>\n",
       "      <td>4.627907</td>\n",
       "    </tr>\n",
       "    <tr>\n",
       "      <td>4</td>\n",
       "      <td>1304</td>\n",
       "      <td>성북구</td>\n",
       "      <td>만해공원</td>\n",
       "      <td>3310</td>\n",
       "      <td>754</td>\n",
       "      <td>4.389920</td>\n",
       "    </tr>\n",
       "  </tbody>\n",
       "</table>\n",
       "</div>"
      ],
      "text/plain": [
       "     id district        station  rent  return  rent_return_ratio\n",
       "0   434       중구   신당 래미안 버스정류장  2616     471           5.554140\n",
       "1   167     서대문구       연가초등학교 옆  7075    1396           5.068052\n",
       "2  2286      서초구         탑성마을입구   821     168           4.886905\n",
       "3  3527      성동구      왕십리 자이아파트  1194     258           4.627907\n",
       "4  1304      성북구           만해공원  3310     754           4.389920"
      ]
     },
     "execution_count": 78,
     "metadata": {},
     "output_type": "execute_result"
    }
   ],
   "source": [
    "df_group.head()"
   ]
  },
  {
   "cell_type": "markdown",
   "metadata": {},
   "source": [
    "* 각 대여소의 좌표정보와 대여소 수를 얻기 위해 station과 bike데이터를 join해주자"
   ]
  },
  {
   "cell_type": "markdown",
   "metadata": {},
   "source": [
    "##### 3-2-3-1. df_bike + df_station"
   ]
  },
  {
   "cell_type": "code",
   "execution_count": 79,
   "metadata": {
    "ExecuteTime": {
     "end_time": "2020-05-04T04:36:45.560294Z",
     "start_time": "2020-05-04T04:36:45.544337Z"
    }
   },
   "outputs": [
    {
     "data": {
      "text/html": [
       "<div>\n",
       "<style scoped>\n",
       "    .dataframe tbody tr th:only-of-type {\n",
       "        vertical-align: middle;\n",
       "    }\n",
       "\n",
       "    .dataframe tbody tr th {\n",
       "        vertical-align: top;\n",
       "    }\n",
       "\n",
       "    .dataframe thead th {\n",
       "        text-align: right;\n",
       "    }\n",
       "</style>\n",
       "<table border=\"1\" class=\"dataframe\">\n",
       "  <thead>\n",
       "    <tr style=\"text-align: right;\">\n",
       "      <th></th>\n",
       "      <th>id</th>\n",
       "      <th>district</th>\n",
       "      <th>station</th>\n",
       "      <th>rent</th>\n",
       "      <th>return</th>\n",
       "      <th>rent_return_ratio</th>\n",
       "      <th>lat</th>\n",
       "      <th>lng</th>\n",
       "      <th>count</th>\n",
       "    </tr>\n",
       "  </thead>\n",
       "  <tbody>\n",
       "    <tr>\n",
       "      <td>0</td>\n",
       "      <td>434</td>\n",
       "      <td>중구</td>\n",
       "      <td>신당 래미안 버스정류장</td>\n",
       "      <td>2616</td>\n",
       "      <td>471</td>\n",
       "      <td>5.554140</td>\n",
       "      <td>37.561489</td>\n",
       "      <td>127.023933</td>\n",
       "      <td>10.0</td>\n",
       "    </tr>\n",
       "    <tr>\n",
       "      <td>1</td>\n",
       "      <td>167</td>\n",
       "      <td>서대문구</td>\n",
       "      <td>연가초등학교 옆</td>\n",
       "      <td>7075</td>\n",
       "      <td>1396</td>\n",
       "      <td>5.068052</td>\n",
       "      <td>37.579460</td>\n",
       "      <td>126.917130</td>\n",
       "      <td>15.0</td>\n",
       "    </tr>\n",
       "    <tr>\n",
       "      <td>2</td>\n",
       "      <td>2286</td>\n",
       "      <td>서초구</td>\n",
       "      <td>탑성마을입구</td>\n",
       "      <td>821</td>\n",
       "      <td>168</td>\n",
       "      <td>4.886905</td>\n",
       "      <td>37.458549</td>\n",
       "      <td>127.055885</td>\n",
       "      <td>10.0</td>\n",
       "    </tr>\n",
       "    <tr>\n",
       "      <td>3</td>\n",
       "      <td>3527</td>\n",
       "      <td>성동구</td>\n",
       "      <td>왕십리 자이아파트</td>\n",
       "      <td>1194</td>\n",
       "      <td>258</td>\n",
       "      <td>4.627907</td>\n",
       "      <td>37.561790</td>\n",
       "      <td>127.024391</td>\n",
       "      <td>8.0</td>\n",
       "    </tr>\n",
       "    <tr>\n",
       "      <td>4</td>\n",
       "      <td>1304</td>\n",
       "      <td>성북구</td>\n",
       "      <td>만해공원</td>\n",
       "      <td>3310</td>\n",
       "      <td>754</td>\n",
       "      <td>4.389920</td>\n",
       "      <td>37.594402</td>\n",
       "      <td>126.992310</td>\n",
       "      <td>15.0</td>\n",
       "    </tr>\n",
       "  </tbody>\n",
       "</table>\n",
       "</div>"
      ],
      "text/plain": [
       "     id district        station  rent  return  rent_return_ratio        lat  \\\n",
       "0   434       중구   신당 래미안 버스정류장  2616     471           5.554140  37.561489   \n",
       "1   167     서대문구       연가초등학교 옆  7075    1396           5.068052  37.579460   \n",
       "2  2286      서초구         탑성마을입구   821     168           4.886905  37.458549   \n",
       "3  3527      성동구      왕십리 자이아파트  1194     258           4.627907  37.561790   \n",
       "4  1304      성북구           만해공원  3310     754           4.389920  37.594402   \n",
       "\n",
       "          lng  count  \n",
       "0  127.023933   10.0  \n",
       "1  126.917130   15.0  \n",
       "2  127.055885   10.0  \n",
       "3  127.024391    8.0  \n",
       "4  126.992310   15.0  "
      ]
     },
     "execution_count": 79,
     "metadata": {},
     "output_type": "execute_result"
    }
   ],
   "source": [
    "df_bike = df_group.merge(df_station[['id', 'lat', 'lng', 'count']], how='left', on='id')\n",
    "df_bike.head()"
   ]
  },
  {
   "cell_type": "code",
   "execution_count": 80,
   "metadata": {
    "ExecuteTime": {
     "end_time": "2020-05-04T04:36:45.572262Z",
     "start_time": "2020-05-04T04:36:45.561291Z"
    }
   },
   "outputs": [
    {
     "data": {
      "text/html": [
       "<div>\n",
       "<style scoped>\n",
       "    .dataframe tbody tr th:only-of-type {\n",
       "        vertical-align: middle;\n",
       "    }\n",
       "\n",
       "    .dataframe tbody tr th {\n",
       "        vertical-align: top;\n",
       "    }\n",
       "\n",
       "    .dataframe thead th {\n",
       "        text-align: right;\n",
       "    }\n",
       "</style>\n",
       "<table border=\"1\" class=\"dataframe\">\n",
       "  <thead>\n",
       "    <tr style=\"text-align: right;\">\n",
       "      <th></th>\n",
       "      <th>id</th>\n",
       "      <th>district</th>\n",
       "      <th>station</th>\n",
       "      <th>rent</th>\n",
       "      <th>return</th>\n",
       "      <th>rent_return_ratio</th>\n",
       "      <th>lat</th>\n",
       "      <th>lng</th>\n",
       "      <th>count</th>\n",
       "    </tr>\n",
       "  </thead>\n",
       "  <tbody>\n",
       "    <tr>\n",
       "      <td>12</td>\n",
       "      <td>1317</td>\n",
       "      <td>성북구</td>\n",
       "      <td>정릉동 교통광장</td>\n",
       "      <td>130</td>\n",
       "      <td>42</td>\n",
       "      <td>3.095238</td>\n",
       "      <td>NaN</td>\n",
       "      <td>NaN</td>\n",
       "      <td>NaN</td>\n",
       "    </tr>\n",
       "    <tr>\n",
       "      <td>44</td>\n",
       "      <td>2386</td>\n",
       "      <td>강남구</td>\n",
       "      <td>sk 동우주유소 앞</td>\n",
       "      <td>189</td>\n",
       "      <td>91</td>\n",
       "      <td>2.076923</td>\n",
       "      <td>NaN</td>\n",
       "      <td>NaN</td>\n",
       "      <td>NaN</td>\n",
       "    </tr>\n",
       "    <tr>\n",
       "      <td>60</td>\n",
       "      <td>174</td>\n",
       "      <td>서대문구</td>\n",
       "      <td>명지대학교 학생회관</td>\n",
       "      <td>162</td>\n",
       "      <td>91</td>\n",
       "      <td>1.780220</td>\n",
       "      <td>NaN</td>\n",
       "      <td>NaN</td>\n",
       "      <td>NaN</td>\n",
       "    </tr>\n",
       "    <tr>\n",
       "      <td>141</td>\n",
       "      <td>172</td>\n",
       "      <td>서대문구</td>\n",
       "      <td>서대문소방서</td>\n",
       "      <td>2303</td>\n",
       "      <td>1681</td>\n",
       "      <td>1.370018</td>\n",
       "      <td>NaN</td>\n",
       "      <td>NaN</td>\n",
       "      <td>NaN</td>\n",
       "    </tr>\n",
       "    <tr>\n",
       "      <td>203</td>\n",
       "      <td>1687</td>\n",
       "      <td>마포구</td>\n",
       "      <td>서울월드컵경기장 테스트</td>\n",
       "      <td>20</td>\n",
       "      <td>16</td>\n",
       "      <td>1.250000</td>\n",
       "      <td>NaN</td>\n",
       "      <td>NaN</td>\n",
       "      <td>NaN</td>\n",
       "    </tr>\n",
       "  </tbody>\n",
       "</table>\n",
       "</div>"
      ],
      "text/plain": [
       "       id district        station  rent  return  rent_return_ratio  lat  lng  \\\n",
       "12   1317      성북구       정릉동 교통광장   130      42           3.095238  NaN  NaN   \n",
       "44   2386      강남구     sk 동우주유소 앞   189      91           2.076923  NaN  NaN   \n",
       "60    174     서대문구     명지대학교 학생회관   162      91           1.780220  NaN  NaN   \n",
       "141   172     서대문구         서대문소방서  2303    1681           1.370018  NaN  NaN   \n",
       "203  1687      마포구   서울월드컵경기장 테스트    20      16           1.250000  NaN  NaN   \n",
       "\n",
       "     count  \n",
       "12     NaN  \n",
       "44     NaN  \n",
       "60     NaN  \n",
       "141    NaN  \n",
       "203    NaN  "
      ]
     },
     "execution_count": 80,
     "metadata": {},
     "output_type": "execute_result"
    }
   ],
   "source": [
    "df_bike[df_bike['lat'].isnull()].head()"
   ]
  },
  {
   "cell_type": "code",
   "execution_count": 81,
   "metadata": {
    "ExecuteTime": {
     "end_time": "2020-05-04T04:36:45.580240Z",
     "start_time": "2020-05-04T04:36:45.574257Z"
    }
   },
   "outputs": [
    {
     "data": {
      "text/plain": [
       "array([' 정릉동 교통광장', ' sk 동우주유소 앞', ' 명지대학교 학생회관', ' 서대문소방서',\n",
       "       ' 서울월드컵경기장 테스트', ' 더샵스타시티 C동 앞', ' 창동역공영주차장앞', ' 창천문화공원',\n",
       "       ' 삼청동 주민센터', ' 난곡 사거리', ' 시설2', ' 서울역 5번출구 앞', ' 서울남부초등학교 옆',\n",
       "       ' 정릉교회 앞', ' 남성역 2번출구 뒷편', ' 창동한신', ' 강일동 에너지 마루'], dtype=object)"
      ]
     },
     "execution_count": 81,
     "metadata": {},
     "output_type": "execute_result"
    }
   ],
   "source": [
    "error_station = df_bike[df_bike['lat'].isnull()]['station'].unique()\n",
    "error_station"
   ]
  },
  {
   "cell_type": "markdown",
   "metadata": {},
   "source": [
    "* join을 했는데, 정보가 없는 대여소가 발견되었다.\n",
    "* 따릉이 사이트에서도 id가 조회되지 않는다.\n",
    "    * 대여소가 폐지된 것으로 예상된다.\n",
    "* 일단 station명으로 좌표를 검색하여 채워넣고, count값은 통계량으로 채워넣자."
   ]
  },
  {
   "cell_type": "code",
   "execution_count": 82,
   "metadata": {
    "ExecuteTime": {
     "end_time": "2020-05-04T04:36:45.632102Z",
     "start_time": "2020-05-04T04:36:45.582236Z"
    }
   },
   "outputs": [],
   "source": [
    "# 구글에서 찾아서 직접 수치 입력하기\n",
    "# googlemaps 라이브러리를 활용할 수도 있지만, 주소명이 정확하게 나와있지 않기 때문에 수기로 보정\n",
    "\n",
    "row = df_bike[df_bike['station'] == error_station[0]].index\n",
    "df_bike.loc[row, 'lat'] = 37.608491 \n",
    "df_bike.loc[row, 'lng'] = 127.006892\n",
    "\n",
    "row = df_bike[df_bike['station'] == error_station[1]].index\n",
    "df_bike.loc[row, 'lat'] = 37.509497\n",
    "df_bike.loc[row, 'lng'] = 127.040466\n",
    "\n",
    "row = df_bike[df_bike['station'] == error_station[2]].index\n",
    "df_bike.loc[row, 'lat'] = 37.580213\n",
    "df_bike.loc[row, 'lng'] = 126.923509\n",
    "\n",
    "row = df_bike[df_bike['station'] == error_station[3]].index\n",
    "df_bike.loc[row, 'lat'] = 37.5731167\n",
    "df_bike.loc[row, 'lng'] = 126.9340639\n",
    "\n",
    "row = df_bike[df_bike['station'] == error_station[4]].index\n",
    "df_bike.loc[row, 'lat'] = 37.5682588\n",
    "df_bike.loc[row, 'lng'] = 126.8950887\n",
    "\n",
    "row = df_bike[df_bike['station'] == error_station[5]].index\n",
    "df_bike.loc[row, 'lat'] = 37.5380488\n",
    "df_bike.loc[row, 'lng'] = 127.0705414\n",
    "\n",
    "row = df_bike[df_bike['station'] == error_station[6]].index\n",
    "df_bike.loc[row, 'lat'] = 37.6544976\n",
    "df_bike.loc[row, 'lng'] = 127.0474658\n",
    "\n",
    "row = df_bike[df_bike['station'] == error_station[7]].index\n",
    "df_bike.loc[row, 'lat'] = 37.5567852\n",
    "df_bike.loc[row, 'lng'] = 126.933313\n",
    "\n",
    "row = df_bike[df_bike['station'] == error_station[8]].index\n",
    "df_bike.loc[row, 'lat'] = 37.5845386\n",
    "df_bike.loc[row, 'lng'] = 126.979615\n",
    "\n",
    "row = df_bike[df_bike['station'] == error_station[9]].index\n",
    "df_bike.loc[row, 'lat'] = 37.481794\n",
    "df_bike.loc[row, 'lng'] = 126.9123172\n",
    "\n",
    "row = df_bike[df_bike['station'] == error_station[10]].index\n",
    "df_bike.drop(row, axis=0, inplace=True)\n",
    "\n",
    "row = df_bike[df_bike['station'] == error_station[11]].index\n",
    "df_bike.loc[row, 'lat'] = 37.4817888\n",
    "df_bike.loc[row, 'lng'] = 126.8794864\n",
    "\n",
    "row = df_bike[df_bike['station'] == error_station[12]].index\n",
    "df_bike.loc[row, 'lat'] = 37.4848216\n",
    "df_bike.loc[row, 'lng'] = 126.9199275\n",
    "\n",
    "row = df_bike[df_bike['station'] == error_station[13]].index\n",
    "df_bike.loc[row, 'lat'] = 37.6053723\n",
    "df_bike.loc[row, 'lng'] = 127.0106539\n",
    "\n",
    "row = df_bike[df_bike['station'] == error_station[14]].index\n",
    "df_bike.loc[row, 'lat'] = 37.4902357\n",
    "df_bike.loc[row, 'lng'] = 126.9652447\n",
    "\n",
    "row = df_bike[df_bike['station'] == error_station[15]].index\n",
    "df_bike.loc[row, 'lat'] = 37.638916\n",
    "df_bike.loc[row, 'lng'] = 127.0388004\n",
    "\n",
    "row = df_bike[df_bike['station'] == error_station[16]].index\n",
    "df_bike.loc[row, 'lat'] = 37.563288\n",
    "df_bike.loc[row, 'lng'] = 127.174808"
   ]
  },
  {
   "cell_type": "markdown",
   "metadata": {},
   "source": [
    "* 좌표를 모두 채웠다.\n",
    "    * 사실 이런 노가다를 재미있어하는 편이다. 많이 해봤어서..\n",
    "    * 더 좋은 방법이 분명 있겠지만...\n",
    "    * 고민할 시간에 직접 채우자!\n",
    "* 이제는 count를 채워줄 시간.\n",
    "    * 내 아이디어는 **구별 평균값을 채워주는 것이다.**"
   ]
  },
  {
   "cell_type": "code",
   "execution_count": 83,
   "metadata": {
    "ExecuteTime": {
     "end_time": "2020-05-04T04:36:45.638086Z",
     "start_time": "2020-05-04T04:36:45.633100Z"
    }
   },
   "outputs": [
    {
     "data": {
      "text/plain": [
       "array(['성북구', '강남구', '서대문구', '마포구', '광진구', '도봉구', '종로구', '관악구', '중구',\n",
       "       '동작구', '강동구'], dtype=object)"
      ]
     },
     "execution_count": 83,
     "metadata": {},
     "output_type": "execute_result"
    }
   ],
   "source": [
    "error_district = df_bike[df_bike['count'].isnull()]['district'].unique()\n",
    "error_district"
   ]
  },
  {
   "cell_type": "code",
   "execution_count": 84,
   "metadata": {
    "ExecuteTime": {
     "end_time": "2020-05-04T04:36:45.677979Z",
     "start_time": "2020-05-04T04:36:45.639083Z"
    }
   },
   "outputs": [],
   "source": [
    "# count값이 없는 대여소의 count값을 해당 구의 평균값으로 대체\n",
    "for dis in error_district:\n",
    "    mean_tmp = int(df_bike[df_bike.district==dis]['count'].mean())\n",
    "    df_bike.loc[df_bike.district==dis, 'count'] = mean_tmp"
   ]
  },
  {
   "cell_type": "code",
   "execution_count": 85,
   "metadata": {
    "ExecuteTime": {
     "end_time": "2020-05-04T04:36:45.685958Z",
     "start_time": "2020-05-04T04:36:45.678976Z"
    }
   },
   "outputs": [
    {
     "data": {
      "text/plain": [
       "id                   0.0\n",
       "district             0.0\n",
       "station              0.0\n",
       "rent                 0.0\n",
       "return               0.0\n",
       "rent_return_ratio    0.0\n",
       "lat                  0.0\n",
       "lng                  0.0\n",
       "count                0.0\n",
       "dtype: float64"
      ]
     },
     "execution_count": 85,
     "metadata": {},
     "output_type": "execute_result"
    }
   ],
   "source": [
    "df_bike[df_bike['count'].isnull()].sum()"
   ]
  },
  {
   "cell_type": "markdown",
   "metadata": {},
   "source": [
    "* 완료!"
   ]
  },
  {
   "cell_type": "markdown",
   "metadata": {},
   "source": [
    "##### 3-2-3-2. 시각화"
   ]
  },
  {
   "cell_type": "code",
   "execution_count": 123,
   "metadata": {
    "ExecuteTime": {
     "end_time": "2020-05-04T05:06:15.516217Z",
     "start_time": "2020-05-04T05:06:15.449374Z"
    }
   },
   "outputs": [
    {
     "data": {
      "text/html": [
       "<div style=\"width:100%;\"><div style=\"position:relative;width:100%;height:0;padding-bottom:60%;\"><iframe src=\"about:blank\" style=\"position:absolute;width:100%;height:100%;left:0;top:0;border:none !important;\" data-html=PCFET0NUWVBFIGh0bWw+CjxoZWFkPiAgICAKICAgIDxtZXRhIGh0dHAtZXF1aXY9ImNvbnRlbnQtdHlwZSIgY29udGVudD0idGV4dC9odG1sOyBjaGFyc2V0PVVURi04IiAvPgogICAgCiAgICAgICAgPHNjcmlwdD4KICAgICAgICAgICAgTF9OT19UT1VDSCA9IGZhbHNlOwogICAgICAgICAgICBMX0RJU0FCTEVfM0QgPSBmYWxzZTsKICAgICAgICA8L3NjcmlwdD4KICAgIAogICAgPHNjcmlwdCBzcmM9Imh0dHBzOi8vY2RuLmpzZGVsaXZyLm5ldC9ucG0vbGVhZmxldEAxLjUuMS9kaXN0L2xlYWZsZXQuanMiPjwvc2NyaXB0PgogICAgPHNjcmlwdCBzcmM9Imh0dHBzOi8vY29kZS5qcXVlcnkuY29tL2pxdWVyeS0xLjEyLjQubWluLmpzIj48L3NjcmlwdD4KICAgIDxzY3JpcHQgc3JjPSJodHRwczovL21heGNkbi5ib290c3RyYXBjZG4uY29tL2Jvb3RzdHJhcC8zLjIuMC9qcy9ib290c3RyYXAubWluLmpzIj48L3NjcmlwdD4KICAgIDxzY3JpcHQgc3JjPSJodHRwczovL2NkbmpzLmNsb3VkZmxhcmUuY29tL2FqYXgvbGlicy9MZWFmbGV0LmF3ZXNvbWUtbWFya2Vycy8yLjAuMi9sZWFmbGV0LmF3ZXNvbWUtbWFya2Vycy5qcyI+PC9zY3JpcHQ+CiAgICA8bGluayByZWw9InN0eWxlc2hlZXQiIGhyZWY9Imh0dHBzOi8vY2RuLmpzZGVsaXZyLm5ldC9ucG0vbGVhZmxldEAxLjUuMS9kaXN0L2xlYWZsZXQuY3NzIi8+CiAgICA8bGluayByZWw9InN0eWxlc2hlZXQiIGhyZWY9Imh0dHBzOi8vbWF4Y2RuLmJvb3RzdHJhcGNkbi5jb20vYm9vdHN0cmFwLzMuMi4wL2Nzcy9ib290c3RyYXAubWluLmNzcyIvPgogICAgPGxpbmsgcmVsPSJzdHlsZXNoZWV0IiBocmVmPSJodHRwczovL21heGNkbi5ib290c3RyYXBjZG4uY29tL2Jvb3RzdHJhcC8zLjIuMC9jc3MvYm9vdHN0cmFwLXRoZW1lLm1pbi5jc3MiLz4KICAgIDxsaW5rIHJlbD0ic3R5bGVzaGVldCIgaHJlZj0iaHR0cHM6Ly9tYXhjZG4uYm9vdHN0cmFwY2RuLmNvbS9mb250LWF3ZXNvbWUvNC42LjMvY3NzL2ZvbnQtYXdlc29tZS5taW4uY3NzIi8+CiAgICA8bGluayByZWw9InN0eWxlc2hlZXQiIGhyZWY9Imh0dHBzOi8vY2RuanMuY2xvdWRmbGFyZS5jb20vYWpheC9saWJzL0xlYWZsZXQuYXdlc29tZS1tYXJrZXJzLzIuMC4yL2xlYWZsZXQuYXdlc29tZS1tYXJrZXJzLmNzcyIvPgogICAgPGxpbmsgcmVsPSJzdHlsZXNoZWV0IiBocmVmPSJodHRwczovL3Jhd2Nkbi5naXRoYWNrLmNvbS9weXRob24tdmlzdWFsaXphdGlvbi9mb2xpdW0vbWFzdGVyL2ZvbGl1bS90ZW1wbGF0ZXMvbGVhZmxldC5hd2Vzb21lLnJvdGF0ZS5jc3MiLz4KICAgIDxzdHlsZT5odG1sLCBib2R5IHt3aWR0aDogMTAwJTtoZWlnaHQ6IDEwMCU7bWFyZ2luOiAwO3BhZGRpbmc6IDA7fTwvc3R5bGU+CiAgICA8c3R5bGU+I21hcCB7cG9zaXRpb246YWJzb2x1dGU7dG9wOjA7Ym90dG9tOjA7cmlnaHQ6MDtsZWZ0OjA7fTwvc3R5bGU+CiAgICAKICAgICAgICAgICAgPG1ldGEgbmFtZT0idmlld3BvcnQiIGNvbnRlbnQ9IndpZHRoPWRldmljZS13aWR0aCwKICAgICAgICAgICAgICAgIGluaXRpYWwtc2NhbGU9MS4wLCBtYXhpbXVtLXNjYWxlPTEuMCwgdXNlci1zY2FsYWJsZT1ubyIgLz4KICAgICAgICAgICAgPHN0eWxlPgogICAgICAgICAgICAgICAgI21hcF83YTYzNDZhNzkxYTc0NDNlOGY4MjAzOWU0ZWRlMjk5MyB7CiAgICAgICAgICAgICAgICAgICAgcG9zaXRpb246IHJlbGF0aXZlOwogICAgICAgICAgICAgICAgICAgIHdpZHRoOiAxMDAuMCU7CiAgICAgICAgICAgICAgICAgICAgaGVpZ2h0OiAxMDAuMCU7CiAgICAgICAgICAgICAgICAgICAgbGVmdDogMC4wJTsKICAgICAgICAgICAgICAgICAgICB0b3A6IDAuMCU7CiAgICAgICAgICAgICAgICB9CiAgICAgICAgICAgIDwvc3R5bGU+CiAgICAgICAgCiAgICA8c2NyaXB0IHNyYz0iaHR0cHM6Ly9jZG5qcy5jbG91ZGZsYXJlLmNvbS9hamF4L2xpYnMvZDMvMy41LjUvZDMubWluLmpzIj48L3NjcmlwdD4KICAgIDxzY3JpcHQgc3JjPSJodHRwczovL2NkbmpzLmNsb3VkZmxhcmUuY29tL2FqYXgvbGlicy9sZWFmbGV0Lm1hcmtlcmNsdXN0ZXIvMS4xLjAvbGVhZmxldC5tYXJrZXJjbHVzdGVyLmpzIj48L3NjcmlwdD4KICAgIDxsaW5rIHJlbD0ic3R5bGVzaGVldCIgaHJlZj0iaHR0cHM6Ly9jZG5qcy5jbG91ZGZsYXJlLmNvbS9hamF4L2xpYnMvbGVhZmxldC5tYXJrZXJjbHVzdGVyLzEuMS4wL01hcmtlckNsdXN0ZXIuY3NzIi8+CiAgICA8bGluayByZWw9InN0eWxlc2hlZXQiIGhyZWY9Imh0dHBzOi8vY2RuanMuY2xvdWRmbGFyZS5jb20vYWpheC9saWJzL2xlYWZsZXQubWFya2VyY2x1c3Rlci8xLjEuMC9NYXJrZXJDbHVzdGVyLkRlZmF1bHQuY3NzIi8+CjwvaGVhZD4KPGJvZHk+ICAgIAogICAgCiAgICAgICAgICAgIDxkaXYgY2xhc3M9ImZvbGl1bS1tYXAiIGlkPSJtYXBfN2E2MzQ2YTc5MWE3NDQzZThmODIwMzllNGVkZTI5OTMiID48L2Rpdj4KICAgICAgICAKPC9ib2R5Pgo8c2NyaXB0PiAgICAKICAgIAogICAgICAgICAgICB2YXIgbWFwXzdhNjM0NmE3OTFhNzQ0M2U4ZjgyMDM5ZTRlZGUyOTkzID0gTC5tYXAoCiAgICAgICAgICAgICAgICAibWFwXzdhNjM0NmE3OTFhNzQ0M2U4ZjgyMDM5ZTRlZGUyOTkzIiwKICAgICAgICAgICAgICAgIHsKICAgICAgICAgICAgICAgICAgICBjZW50ZXI6IFszNy41NDcwNywgMTI3LjAwMjUzM10sCiAgICAgICAgICAgICAgICAgICAgY3JzOiBMLkNSUy5FUFNHMzg1NywKICAgICAgICAgICAgICAgICAgICB6b29tOiAxMiwKICAgICAgICAgICAgICAgICAgICB6b29tQ29udHJvbDogdHJ1ZSwKICAgICAgICAgICAgICAgICAgICBwcmVmZXJDYW52YXM6IGZhbHNlLAogICAgICAgICAgICAgICAgfQogICAgICAgICAgICApOwoKICAgICAgICAgICAgCgogICAgICAgIAogICAgCiAgICAgICAgICAgIHZhciB0aWxlX2xheWVyXzI1OTdhMjBkYmZkODQyYzhiMzc2NDA5NmJiZmExYWI4ID0gTC50aWxlTGF5ZXIoCiAgICAgICAgICAgICAgICAiaHR0cHM6Ly97c30udGlsZS5vcGVuc3RyZWV0bWFwLm9yZy97en0ve3h9L3t5fS5wbmciLAogICAgICAgICAgICAgICAgeyJhdHRyaWJ1dGlvbiI6ICJEYXRhIGJ5IFx1MDAyNmNvcHk7IFx1MDAzY2EgaHJlZj1cImh0dHA6Ly9vcGVuc3RyZWV0bWFwLm9yZ1wiXHUwMDNlT3BlblN0cmVldE1hcFx1MDAzYy9hXHUwMDNlLCB1bmRlciBcdTAwM2NhIGhyZWY9XCJodHRwOi8vd3d3Lm9wZW5zdHJlZXRtYXAub3JnL2NvcHlyaWdodFwiXHUwMDNlT0RiTFx1MDAzYy9hXHUwMDNlLiIsICJkZXRlY3RSZXRpbmEiOiBmYWxzZSwgIm1heE5hdGl2ZVpvb20iOiAxOCwgIm1heFpvb20iOiAxOCwgIm1pblpvb20iOiAwLCAibm9XcmFwIjogZmFsc2UsICJvcGFjaXR5IjogMSwgInN1YmRvbWFpbnMiOiAiYWJjIiwgInRtcyI6IGZhbHNlfQogICAgICAgICAgICApLmFkZFRvKG1hcF83YTYzNDZhNzkxYTc0NDNlOGY4MjAzOWU0ZWRlMjk5Myk7CiAgICAgICAgCiAgICAKICAgICAgICAgICAgdmFyIGNob3JvcGxldGhfZWNhZDBkNjkxNzJlNDAwY2JhZWUwMWE1YTA2OWFkNzkgPSBMLmZlYXR1cmVHcm91cCgKICAgICAgICAgICAgICAgIHt9CiAgICAgICAgICAgICkuYWRkVG8obWFwXzdhNjM0NmE3OTFhNzQ0M2U4ZjgyMDM5ZTRlZGUyOTkzKTsKICAgICAgICAKICAgIAogICAgICAgIGZ1bmN0aW9uIGdlb19qc29uX2FjZTg2YTI5YmEwMTRiZjhhNjlhOWUwNTNkNmI0OTE0X3N0eWxlcihmZWF0dXJlKSB7CiAgICAgICAgICAgIHN3aXRjaChmZWF0dXJlLmlkKSB7CiAgICAgICAgICAgICAgICBjYXNlICJcdWMxYTFcdWQzMGNcdWFkNmMiOiBjYXNlICJcdWM2MDFcdWI0ZjFcdWQzZWNcdWFkNmMiOiAKICAgICAgICAgICAgICAgICAgICByZXR1cm4geyJjb2xvciI6ICJibGFjayIsICJmaWxsQ29sb3IiOiAiIzI1MzQ5NCIsICJmaWxsT3BhY2l0eSI6IDAuNiwgIm9wYWNpdHkiOiAxLCAid2VpZ2h0IjogMX07CiAgICAgICAgICAgICAgICBjYXNlICJcdWFjMTVcdWIwYThcdWFkNmMiOiBjYXNlICJcdWMxMWNcdWNkMDhcdWFkNmMiOiBjYXNlICJcdWIxNzhcdWM2ZDBcdWFkNmMiOiBjYXNlICJcdWMxMzFcdWIzZDlcdWFkNmMiOiBjYXNlICJcdWM4ODVcdWI4NWNcdWFkNmMiOiAKICAgICAgICAgICAgICAgICAgICByZXR1cm4geyJjb2xvciI6ICJibGFjayIsICJmaWxsQ29sb3IiOiAiIzdmY2RiYiIsICJmaWxsT3BhY2l0eSI6IDAuNiwgIm9wYWNpdHkiOiAxLCAid2VpZ2h0IjogMX07CiAgICAgICAgICAgICAgICBjYXNlICJcdWIzZDlcdWM3OTFcdWFkNmMiOiBjYXNlICJcdWFlMDhcdWNjOWNcdWFkNmMiOiBjYXNlICJcdWIzYzRcdWJkMDlcdWFkNmMiOiBjYXNlICJcdWFjMTVcdWJkODFcdWFkNmMiOiBjYXNlICJcdWM5MTFcdWI3OTFcdWFkNmMiOiBjYXNlICJcdWM2YTlcdWMwYjBcdWFkNmMiOiBjYXNlICJcdWM5MTFcdWFkNmMiOiAKICAgICAgICAgICAgICAgICAgICByZXR1cm4geyJjb2xvciI6ICJibGFjayIsICJmaWxsQ29sb3IiOiAiI2ZmZmZjYyIsICJmaWxsT3BhY2l0eSI6IDAuNiwgIm9wYWNpdHkiOiAxLCAid2VpZ2h0IjogMX07CiAgICAgICAgICAgICAgICBjYXNlICJcdWFjMTVcdWMxMWNcdWFkNmMiOiAKICAgICAgICAgICAgICAgICAgICByZXR1cm4geyJjb2xvciI6ICJibGFjayIsICJmaWxsQ29sb3IiOiAiIzQxYjZjNCIsICJmaWxsT3BhY2l0eSI6IDAuNiwgIm9wYWNpdHkiOiAxLCAid2VpZ2h0IjogMX07CiAgICAgICAgICAgICAgICBjYXNlICJcdWI5YzhcdWQzZWNcdWFkNmMiOiBjYXNlICJcdWFkMTFcdWM5YzRcdWFkNmMiOiAKICAgICAgICAgICAgICAgICAgICByZXR1cm4geyJjb2xvciI6ICJibGFjayIsICJmaWxsQ29sb3IiOiAiIzJjN2ZiOCIsICJmaWxsT3BhY2l0eSI6IDAuNiwgIm9wYWNpdHkiOiAxLCAid2VpZ2h0IjogMX07CiAgICAgICAgICAgICAgICBkZWZhdWx0OgogICAgICAgICAgICAgICAgICAgIHJldHVybiB7ImNvbG9yIjogImJsYWNrIiwgImZpbGxDb2xvciI6ICIjYzdlOWI0IiwgImZpbGxPcGFjaXR5IjogMC42LCAib3BhY2l0eSI6IDEsICJ3ZWlnaHQiOiAxfTsKICAgICAgICAgICAgfQogICAgICAgIH0KICAgICAgICBmdW5jdGlvbiBnZW9fanNvbl9hY2U4NmEyOWJhMDE0YmY4YTY5YTllMDUzZDZiNDkxNF9vbkVhY2hGZWF0dXJlKGZlYXR1cmUsIGxheWVyKSB7CiAgICAgICAgICAgIGxheWVyLm9uKHsKICAgICAgICAgICAgICAgIGNsaWNrOiBmdW5jdGlvbihlKSB7CiAgICAgICAgICAgICAgICAgICAgbWFwXzdhNjM0NmE3OTFhNzQ0M2U4ZjgyMDM5ZTRlZGUyOTkzLmZpdEJvdW5kcyhlLnRhcmdldC5nZXRCb3VuZHMoKSk7CiAgICAgICAgICAgICAgICB9CiAgICAgICAgICAgIH0pOwogICAgICAgIH07CiAgICAgICAgdmFyIGdlb19qc29uX2FjZTg2YTI5YmEwMTRiZjhhNjlhOWUwNTNkNmI0OTE0ID0gTC5nZW9Kc29uKG51bGwsIHsKICAgICAgICAgICAgICAgIG9uRWFjaEZlYXR1cmU6IGdlb19qc29uX2FjZTg2YTI5YmEwMTRiZjhhNjlhOWUwNTNkNmI0OTE0X29uRWFjaEZlYXR1cmUsCiAgICAgICAgICAgIAogICAgICAgICAgICAgICAgc3R5bGU6IGdlb19qc29uX2FjZTg2YTI5YmEwMTRiZjhhNjlhOWUwNTNkNmI0OTE0X3N0eWxlciwKICAgICAgICB9KTsKICAgICAgICBmdW5jdGlvbiBnZW9fanNvbl9hY2U4NmEyOWJhMDE0YmY4YTY5YTllMDUzZDZiNDkxNF9hZGQgKGRhdGEpIHsKICAgICAgICAgICAgZ2VvX2pzb25fYWNlODZhMjliYTAxNGJmOGE2OWE5ZTA1M2Q2YjQ5MTQuYWRkRGF0YShkYXRhKQogICAgICAgICAgICAgICAgLmFkZFRvKGNob3JvcGxldGhfZWNhZDBkNjkxNzJlNDAwY2JhZWUwMWE1YTA2OWFkNzkpOwogICAgICAgIH0KICAgICAgICAgICAgZ2VvX2pzb25fYWNlODZhMjliYTAxNGJmOGE2OWE5ZTA1M2Q2YjQ5MTRfYWRkKHsiZmVhdHVyZXMiOiBbeyJnZW9tZXRyeSI6IHsiY29vcmRpbmF0ZXMiOiBbW1sxMjcuMTE1MTk1ODQ5ODE2MDYsIDM3LjU1NzUzMzE4MDcwNDkxNV0sIFsxMjcuMTY2ODMxODQzNjYxMjksIDM3LjU3NjcyNDg3Mzg4NjI3XSwgWzEyNy4xODQwODc5MjMzMDE1MiwgMzcuNTU4MTQyODAzNjk1NzVdLCBbMTI3LjE2NTMwOTg0MzA3NDQ3LCAzNy41NDIyMTg1MTI1ODY5M10sIFsxMjcuMTQ2NzI4MDY4MjM1MDIsIDM3LjUxNDE1NjgwNjgwMjkxXSwgWzEyNy4xMjEyMzE2NTcxOTYxNSwgMzcuNTI1MjgyNzAwODldLCBbMTI3LjExMTY3NjQyMDM2MDgsIDM3LjU0MDY2OTk1NTMyNDk2NV0sIFsxMjcuMTE1MTk1ODQ5ODE2MDYsIDM3LjU1NzUzMzE4MDcwNDkxNV1dXSwgInR5cGUiOiAiUG9seWdvbiJ9LCAiaWQiOiAiXHVhYzE1XHViM2Q5XHVhZDZjIiwgInByb3BlcnRpZXMiOiB7ImJhc2VfeWVhciI6ICIyMDEzIiwgImNvZGUiOiAiMTEyNTAiLCAibmFtZSI6ICJcdWFjMTVcdWIzZDlcdWFkNmMiLCAibmFtZV9lbmciOiAiR2FuZ2RvbmctZ3UifSwgInR5cGUiOiAiRmVhdHVyZSJ9LCB7Imdlb21ldHJ5IjogeyJjb29yZGluYXRlcyI6IFtbWzEyNy4wNjkwNjk4MTMwMzcyLCAzNy41MjIyNzk0MjM1MDUwMjZdLCBbMTI3LjEwMDg3NTE5NzkxOTYyLCAzNy41MjQ4NDEyMjAxNjcwNTVdLCBbMTI3LjExMTY3NjQyMDM2MDgsIDM3LjU0MDY2OTk1NTMyNDk2NV0sIFsxMjcuMTIxMjMxNjU3MTk2MTUsIDM3LjUyNTI4MjcwMDg5XSwgWzEyNy4xNDY3MjgwNjgyMzUwMiwgMzcuNTE0MTU2ODA2ODAyOTFdLCBbMTI3LjE2MzQ5NDQyMTU3NjUsIDM3LjQ5NzQ0NTQwNjA5NzQ4NF0sIFsxMjcuMTQyMDYwNTg0MTMyNzQsIDM3LjQ3MDg5ODE5MDk4NTAxXSwgWzEyNy4xMjQ0MDU3MTA4MDg5MywgMzcuNDYyNDA0NDU1ODcwNDhdLCBbMTI3LjExMTE3MDg1MjAxMjM4LCAzNy40ODU3MDgzODE1MTI0NDVdLCBbMTI3LjA3MTkxNDYwMDA3MjQsIDM3LjUwMjI0MDEzNTg3NjY5XSwgWzEyNy4wNjkwNjk4MTMwMzcyLCAzNy41MjIyNzk0MjM1MDUwMjZdXV0sICJ0eXBlIjogIlBvbHlnb24ifSwgImlkIjogIlx1YzFhMVx1ZDMwY1x1YWQ2YyIsICJwcm9wZXJ0aWVzIjogeyJiYXNlX3llYXIiOiAiMjAxMyIsICJjb2RlIjogIjExMjQwIiwgIm5hbWUiOiAiXHVjMWExXHVkMzBjXHVhZDZjIiwgIm5hbWVfZW5nIjogIlNvbmdwYS1ndSJ9LCAidHlwZSI6ICJGZWF0dXJlIn0sIHsiZ2VvbWV0cnkiOiB7ImNvb3JkaW5hdGVzIjogW1tbMTI3LjA1ODY3MzU5Mjg4Mzk4LCAzNy41MjYyOTk3NDkyMjU2OF0sIFsxMjcuMDY5MDY5ODEzMDM3MiwgMzcuNTIyMjc5NDIzNTA1MDI2XSwgWzEyNy4wNzE5MTQ2MDAwNzI0LCAzNy41MDIyNDAxMzU4NzY2OV0sIFsxMjcuMTExMTcwODUyMDEyMzgsIDM3LjQ4NTcwODM4MTUxMjQ0NV0sIFsxMjcuMTI0NDA1NzEwODA4OTMsIDM3LjQ2MjQwNDQ1NTg3MDQ4XSwgWzEyNy4wOTg0Mjc1OTMxODc1MSwgMzcuNDU4NjIyNTM4NTc0NjFdLCBbMTI3LjA4NjQwNDQwNTc4MTU2LCAzNy40NzI2OTc5MzUxODQ2NTVdLCBbMTI3LjA1NTkxNzA0ODE5MDQsIDM3LjQ2NTkyMjg5MTQwNzddLCBbMTI3LjAzNjIxOTE1MDk4Nzk4LCAzNy40ODE3NTgwMjQyNzYwM10sIFsxMjcuMDEzOTcxMTk2Njc1MTMsIDM3LjUyNTAzOTg4Mjg5NjY5XSwgWzEyNy4wMjMwMjgzMTg5MDU1OSwgMzcuNTMyMzE4OTk1ODI2NjNdLCBbMTI3LjA1ODY3MzU5Mjg4Mzk4LCAzNy41MjYyOTk3NDkyMjU2OF1dXSwgInR5cGUiOiAiUG9seWdvbiJ9LCAiaWQiOiAiXHVhYzE1XHViMGE4XHVhZDZjIiwgInByb3BlcnRpZXMiOiB7ImJhc2VfeWVhciI6ICIyMDEzIiwgImNvZGUiOiAiMTEyMzAiLCAibmFtZSI6ICJcdWFjMTVcdWIwYThcdWFkNmMiLCAibmFtZV9lbmciOiAiR2FuZ25hbS1ndSJ9LCAidHlwZSI6ICJGZWF0dXJlIn0sIHsiZ2VvbWV0cnkiOiB7ImNvb3JkaW5hdGVzIjogW1tbMTI3LjAxMzk3MTE5NjY3NTEzLCAzNy41MjUwMzk4ODI4OTY2OV0sIFsxMjcuMDM2MjE5MTUwOTg3OTgsIDM3LjQ4MTc1ODAyNDI3NjAzXSwgWzEyNy4wNTU5MTcwNDgxOTA0LCAzNy40NjU5MjI4OTE0MDc3XSwgWzEyNy4wODY0MDQ0MDU3ODE1NiwgMzcuNDcyNjk3OTM1MTg0NjU1XSwgWzEyNy4wOTg0Mjc1OTMxODc1MSwgMzcuNDU4NjIyNTM4NTc0NjFdLCBbMTI3LjA5MDQ2OTI4NTY1OTUxLCAzNy40NDI5NjgyNjExNDE4NV0sIFsxMjcuMDY3NzgxMDc2MDU0MzMsIDM3LjQyNjE5NzQyNDA1NzMxNF0sIFsxMjcuMDQ5NTcyMzI5ODcxNDIsIDM3LjQyODA1ODM2ODQ1Njk0XSwgWzEyNy4wMzg4MTc4MjU5NzkyMiwgMzcuNDUzODIwMzk4NTE3MTVdLCBbMTI2Ljk5MDcyMDczMTk1NDYyLCAzNy40NTUzMjYxNDMzMTAwMjVdLCBbMTI2Ljk4MzY3NjY4MjkxODAyLCAzNy40NzM4NTY0OTI2OTIwODZdLCBbMTI2Ljk4MjIzODA3OTE2MDgxLCAzNy41MDkzMTQ5NjY3NzAzMjZdLCBbMTI3LjAxMzk3MTE5NjY3NTEzLCAzNy41MjUwMzk4ODI4OTY2OV1dXSwgInR5cGUiOiAiUG9seWdvbiJ9LCAiaWQiOiAiXHVjMTFjXHVjZDA4XHVhZDZjIiwgInByb3BlcnRpZXMiOiB7ImJhc2VfeWVhciI6ICIyMDEzIiwgImNvZGUiOiAiMTEyMjAiLCAibmFtZSI6ICJcdWMxMWNcdWNkMDhcdWFkNmMiLCAibmFtZV9lbmciOiAiU2VvY2hvLWd1In0sICJ0eXBlIjogIkZlYXR1cmUifSwgeyJnZW9tZXRyeSI6IHsiY29vcmRpbmF0ZXMiOiBbW1sxMjYuOTgzNjc2NjgyOTE4MDIsIDM3LjQ3Mzg1NjQ5MjY5MjA4Nl0sIFsxMjYuOTkwNzIwNzMxOTU0NjIsIDM3LjQ1NTMyNjE0MzMxMDAyNV0sIFsxMjYuOTY1MjA0MzkwODUxNDMsIDM3LjQzODI0OTc4NDAwNjI0Nl0sIFsxMjYuOTUwMDAwMDEwMTAxODIsIDM3LjQzNjEzNDUxMTY1NzE5XSwgWzEyNi45MzA4NDQwODA1NjUyNSwgMzcuNDQ3MzgyOTI4MzMzOTk0XSwgWzEyNi45MTY3NzI4MTQ2NjAxLCAzNy40NTQ5MDU2NjQyMzc4OV0sIFsxMjYuOTAxNTYwOTQxMjk4OTUsIDM3LjQ3NzUzODQyNzg5OTAxXSwgWzEyNi45MDUzMTk3NTgwMTgxMiwgMzcuNDgyMTgwODc1NzU0MjldLCBbMTI2Ljk0OTIyNjYxMzg5NTA4LCAzNy40OTEyNTQzNzQ5NTY0OV0sIFsxMjYuOTcyNTg5MTg1MDY2MiwgMzcuNDcyNTYxMzYzMjc4MTI1XSwgWzEyNi45ODM2NzY2ODI5MTgwMiwgMzcuNDczODU2NDkyNjkyMDg2XV1dLCAidHlwZSI6ICJQb2x5Z29uIn0sICJpZCI6ICJcdWFkMDBcdWM1NDVcdWFkNmMiLCAicHJvcGVydGllcyI6IHsiYmFzZV95ZWFyIjogIjIwMTMiLCAiY29kZSI6ICIxMTIxMCIsICJuYW1lIjogIlx1YWQwMFx1YzU0NVx1YWQ2YyIsICJuYW1lX2VuZyI6ICJHd2FuYWstZ3UifSwgInR5cGUiOiAiRmVhdHVyZSJ9LCB7Imdlb21ldHJ5IjogeyJjb29yZGluYXRlcyI6IFtbWzEyNi45ODIyMzgwNzkxNjA4MSwgMzcuNTA5MzE0OTY2NzcwMzI2XSwgWzEyNi45ODM2NzY2ODI5MTgwMiwgMzcuNDczODU2NDkyNjkyMDg2XSwgWzEyNi45NzI1ODkxODUwNjYyLCAzNy40NzI1NjEzNjMyNzgxMjVdLCBbMTI2Ljk0OTIyNjYxMzg5NTA4LCAzNy40OTEyNTQzNzQ5NTY0OV0sIFsxMjYuOTA1MzE5NzU4MDE4MTIsIDM3LjQ4MjE4MDg3NTc1NDI5XSwgWzEyNi45MjE3Nzg5MzE3NDgyNSwgMzcuNDk0ODg5ODc3NDE1MTc2XSwgWzEyNi45MjgxMDYyODgyODI3OSwgMzcuNTEzMjk1OTU3MzIwMTVdLCBbMTI2Ljk1MjQ5OTkwMjk4MTU5LCAzNy41MTcyMjUwMDc0MTgxM10sIFsxMjYuOTgyMjM4MDc5MTYwODEsIDM3LjUwOTMxNDk2Njc3MDMyNl1dXSwgInR5cGUiOiAiUG9seWdvbiJ9LCAiaWQiOiAiXHViM2Q5XHVjNzkxXHVhZDZjIiwgInByb3BlcnRpZXMiOiB7ImJhc2VfeWVhciI6ICIyMDEzIiwgImNvZGUiOiAiMTEyMDAiLCAibmFtZSI6ICJcdWIzZDlcdWM3OTFcdWFkNmMiLCAibmFtZV9lbmciOiAiRG9uZ2phay1ndSJ9LCAidHlwZSI6ICJGZWF0dXJlIn0sIHsiZ2VvbWV0cnkiOiB7ImNvb3JkaW5hdGVzIjogW1tbMTI2Ljg5MTg0NjYzODYyNzY0LCAzNy41NDczNzM5NzQ5OTcxMTRdLCBbMTI2Ljk0NTY2NzMzMDgzMjEyLCAzNy41MjY2MTc1NDI0NTMzNjZdLCBbMTI2Ljk1MjQ5OTkwMjk4MTU5LCAzNy41MTcyMjUwMDc0MTgxM10sIFsxMjYuOTI4MTA2Mjg4MjgyNzksIDM3LjUxMzI5NTk1NzMyMDE1XSwgWzEyNi45MjE3Nzg5MzE3NDgyNSwgMzcuNDk0ODg5ODc3NDE1MTc2XSwgWzEyNi45MDUzMTk3NTgwMTgxMiwgMzcuNDgyMTgwODc1NzU0MjldLCBbMTI2Ljg5NTk0Nzc2NzgyNDg1LCAzNy41MDQ2NzUyODEzMDkxNzZdLCBbMTI2Ljg4MTU2NDAyMzUzODYyLCAzNy41MTM5NzAwMzQ3NjU2ODRdLCBbMTI2Ljg4ODI1NzU3ODYwMDk5LCAzNy41NDA3OTczMzYzMDIzMl0sIFsxMjYuODkxODQ2NjM4NjI3NjQsIDM3LjU0NzM3Mzk3NDk5NzExNF1dXSwgInR5cGUiOiAiUG9seWdvbiJ9LCAiaWQiOiAiXHVjNjAxXHViNGYxXHVkM2VjXHVhZDZjIiwgInByb3BlcnRpZXMiOiB7ImJhc2VfeWVhciI6ICIyMDEzIiwgImNvZGUiOiAiMTExOTAiLCAibmFtZSI6ICJcdWM2MDFcdWI0ZjFcdWQzZWNcdWFkNmMiLCAibmFtZV9lbmciOiAiWWVvbmdkZXVuZ3BvLWd1In0sICJ0eXBlIjogIkZlYXR1cmUifSwgeyJnZW9tZXRyeSI6IHsiY29vcmRpbmF0ZXMiOiBbW1sxMjYuOTAxNTYwOTQxMjk4OTUsIDM3LjQ3NzUzODQyNzg5OTAxXSwgWzEyNi45MTY3NzI4MTQ2NjAxLCAzNy40NTQ5MDU2NjQyMzc4OV0sIFsxMjYuOTMwODQ0MDgwNTY1MjUsIDM3LjQ0NzM4MjkyODMzMzk5NF0sIFsxMjYuOTAyNTgzMTcxMTY5NywgMzcuNDM0NTQ5MzY2MzQ5MTI0XSwgWzEyNi44NzY4MzI3MTUwMjQyOCwgMzcuNDgyNTc2NTkxNjA3MzA1XSwgWzEyNi45MDE1NjA5NDEyOTg5NSwgMzcuNDc3NTM4NDI3ODk5MDFdXV0sICJ0eXBlIjogIlBvbHlnb24ifSwgImlkIjogIlx1YWUwOFx1Y2M5Y1x1YWQ2YyIsICJwcm9wZXJ0aWVzIjogeyJiYXNlX3llYXIiOiAiMjAxMyIsICJjb2RlIjogIjExMTgwIiwgIm5hbWUiOiAiXHVhZTA4XHVjYzljXHVhZDZjIiwgIm5hbWVfZW5nIjogIkdldW1jaGVvbi1ndSJ9LCAidHlwZSI6ICJGZWF0dXJlIn0sIHsiZ2VvbWV0cnkiOiB7ImNvb3JkaW5hdGVzIjogW1tbMTI2LjgyNjg4MDgxNTE3MzE0LCAzNy41MDU0ODk3MjIzMjg5Nl0sIFsxMjYuODgxNTY0MDIzNTM4NjIsIDM3LjUxMzk3MDAzNDc2NTY4NF0sIFsxMjYuODk1OTQ3NzY3ODI0ODUsIDM3LjUwNDY3NTI4MTMwOTE3Nl0sIFsxMjYuOTA1MzE5NzU4MDE4MTIsIDM3LjQ4MjE4MDg3NTc1NDI5XSwgWzEyNi45MDE1NjA5NDEyOTg5NSwgMzcuNDc3NTM4NDI3ODk5MDFdLCBbMTI2Ljg3NjgzMjcxNTAyNDI4LCAzNy40ODI1NzY1OTE2MDczMDVdLCBbMTI2Ljg0NzYyNjc2MDU0OTUzLCAzNy40NzE0NjcyMzkzNjMyM10sIFsxMjYuODM1NDk0ODUwNzYxOTYsIDM3LjQ3NDA5ODIzNjk3NTA5NV0sIFsxMjYuODIyNjQ3OTY3OTEzNDgsIDM3LjQ4Nzg0NzY0OTIxNDddLCBbMTI2LjgyNTA0NzM2MzMxNDA2LCAzNy41MDMwMjYxMjY0MDQ0M10sIFsxMjYuODI2ODgwODE1MTczMTQsIDM3LjUwNTQ4OTcyMjMyODk2XV1dLCAidHlwZSI6ICJQb2x5Z29uIn0sICJpZCI6ICJcdWFkNmNcdWI4NWNcdWFkNmMiLCAicHJvcGVydGllcyI6IHsiYmFzZV95ZWFyIjogIjIwMTMiLCAiY29kZSI6ICIxMTE3MCIsICJuYW1lIjogIlx1YWQ2Y1x1Yjg1Y1x1YWQ2YyIsICJuYW1lX2VuZyI6ICJHdXJvLWd1In0sICJ0eXBlIjogIkZlYXR1cmUifSwgeyJnZW9tZXRyeSI6IHsiY29vcmRpbmF0ZXMiOiBbW1sxMjYuNzk1NzU3Njg1NTI5MDcsIDM3LjU3ODgxMDg3NjMzMjAyXSwgWzEyNi44MDcwMjExNTAyMzU5NywgMzcuNjAxMjMwMDEwMTMyMjhdLCBbMTI2LjgyMjUxNDM4NDc3MTA1LCAzNy41ODgwNDMwODEwMDgyXSwgWzEyNi44NTk4NDE5OTM5OTY2NywgMzcuNTcxODQ3ODU1MjkyNzQ1XSwgWzEyNi44OTE4NDY2Mzg2Mjc2NCwgMzcuNTQ3MzczOTc0OTk3MTE0XSwgWzEyNi44ODgyNTc1Nzg2MDA5OSwgMzcuNTQwNzk3MzM2MzAyMzJdLCBbMTI2Ljg2NjM3NDY0MzIxMjM4LCAzNy41NDg1OTE5MTA5NDgyM10sIFsxMjYuODY2MTAwNzM0NzYzOTUsIDM3LjUyNjk5OTY0MTQ0NjY5XSwgWzEyNi44NDI1NzI5MTk0MzE1MywgMzcuNTIzNzM3MDc4MDU1OTZdLCBbMTI2LjgyNDIzMzE0MjY3MjIsIDM3LjUzNzg4MDc4NzUzMjQ4XSwgWzEyNi43NzMyNDQxNzcxNzcwMywgMzcuNTQ1OTEyMzQ1MDU1NF0sIFsxMjYuNzY5NzkxODA1NzkzNTIsIDM3LjU1MTM5MTgzMDA4ODA5XSwgWzEyNi43OTU3NTc2ODU1MjkwNywgMzcuNTc4ODEwODc2MzMyMDJdXV0sICJ0eXBlIjogIlBvbHlnb24ifSwgImlkIjogIlx1YWMxNVx1YzExY1x1YWQ2YyIsICJwcm9wZXJ0aWVzIjogeyJiYXNlX3llYXIiOiAiMjAxMyIsICJjb2RlIjogIjExMTYwIiwgIm5hbWUiOiAiXHVhYzE1XHVjMTFjXHVhZDZjIiwgIm5hbWVfZW5nIjogIkdhbmdzZW8tZ3UifSwgInR5cGUiOiAiRmVhdHVyZSJ9LCB7Imdlb21ldHJ5IjogeyJjb29yZGluYXRlcyI6IFtbWzEyNi44MjQyMzMxNDI2NzIyLCAzNy41Mzc4ODA3ODc1MzI0OF0sIFsxMjYuODQyNTcyOTE5NDMxNTMsIDM3LjUyMzczNzA3ODA1NTk2XSwgWzEyNi44NjYxMDA3MzQ3NjM5NSwgMzcuNTI2OTk5NjQxNDQ2NjldLCBbMTI2Ljg2NjM3NDY0MzIxMjM4LCAzNy41NDg1OTE5MTA5NDgyM10sIFsxMjYuODg4MjU3NTc4NjAwOTksIDM3LjU0MDc5NzMzNjMwMjMyXSwgWzEyNi44ODE1NjQwMjM1Mzg2MiwgMzcuNTEzOTcwMDM0NzY1Njg0XSwgWzEyNi44MjY4ODA4MTUxNzMxNCwgMzcuNTA1NDg5NzIyMzI4OTZdLCBbMTI2LjgyNDIzMzE0MjY3MjIsIDM3LjUzNzg4MDc4NzUzMjQ4XV1dLCAidHlwZSI6ICJQb2x5Z29uIn0sICJpZCI6ICJcdWM1OTFcdWNjOWNcdWFkNmMiLCAicHJvcGVydGllcyI6IHsiYmFzZV95ZWFyIjogIjIwMTMiLCAiY29kZSI6ICIxMTE1MCIsICJuYW1lIjogIlx1YzU5MVx1Y2M5Y1x1YWQ2YyIsICJuYW1lX2VuZyI6ICJZYW5nY2hlb24tZ3UifSwgInR5cGUiOiAiRmVhdHVyZSJ9LCB7Imdlb21ldHJ5IjogeyJjb29yZGluYXRlcyI6IFtbWzEyNi45MDUyMjA2NTgzMTA1MywgMzcuNTc0MDk3MDA1MjI1NzRdLCBbMTI2LjkzODk4MTYxNzk4OTczLCAzNy41NTIzMTAwMDM3MjgxMjRdLCBbMTI2Ljk2MzU4MjI2NzEwODEyLCAzNy41NTYwNTYzNTQ3NTE1NF0sIFsxMjYuOTY0NDg1NzA1NTMwNTUsIDM3LjU0ODcwNTY5MjAyMTYzNV0sIFsxMjYuOTQ1NjY3MzMwODMyMTIsIDM3LjUyNjYxNzU0MjQ1MzM2Nl0sIFsxMjYuODkxODQ2NjM4NjI3NjQsIDM3LjU0NzM3Mzk3NDk5NzExNF0sIFsxMjYuODU5ODQxOTkzOTk2NjcsIDM3LjU3MTg0Nzg1NTI5Mjc0NV0sIFsxMjYuODg0MzMyODQ3NzMyODgsIDM3LjU4ODE0MzMyMjg4MDUyNl0sIFsxMjYuOTA1MjIwNjU4MzEwNTMsIDM3LjU3NDA5NzAwNTIyNTc0XV1dLCAidHlwZSI6ICJQb2x5Z29uIn0sICJpZCI6ICJcdWI5YzhcdWQzZWNcdWFkNmMiLCAicHJvcGVydGllcyI6IHsiYmFzZV95ZWFyIjogIjIwMTMiLCAiY29kZSI6ICIxMTE0MCIsICJuYW1lIjogIlx1YjljOFx1ZDNlY1x1YWQ2YyIsICJuYW1lX2VuZyI6ICJNYXBvLWd1In0sICJ0eXBlIjogIkZlYXR1cmUifSwgeyJnZW9tZXRyeSI6IHsiY29vcmRpbmF0ZXMiOiBbW1sxMjYuOTUyNDc1MjAzMDU3MiwgMzcuNjA1MDg2OTI3MzcwNDVdLCBbMTI2Ljk1NTY1NDI1ODQ2NDYzLCAzNy41NzYwODA3OTA4ODE0NTZdLCBbMTI2Ljk2ODczNjMzMjc5MDc1LCAzNy41NjMxMzYwNDY5MDgyN10sIFsxMjYuOTYzNTgyMjY3MTA4MTIsIDM3LjU1NjA1NjM1NDc1MTU0XSwgWzEyNi45Mzg5ODE2MTc5ODk3MywgMzcuNTUyMzEwMDAzNzI4MTI0XSwgWzEyNi45MDUyMjA2NTgzMTA1MywgMzcuNTc0MDk3MDA1MjI1NzRdLCBbMTI2Ljk1MjQ3NTIwMzA1NzIsIDM3LjYwNTA4NjkyNzM3MDQ1XV1dLCAidHlwZSI6ICJQb2x5Z29uIn0sICJpZCI6ICJcdWMxMWNcdWIzMDBcdWJiMzhcdWFkNmMiLCAicHJvcGVydGllcyI6IHsiYmFzZV95ZWFyIjogIjIwMTMiLCAiY29kZSI6ICIxMTEzMCIsICJuYW1lIjogIlx1YzExY1x1YjMwMFx1YmIzOFx1YWQ2YyIsICJuYW1lX2VuZyI6ICJTZW9kYWVtdW4tZ3UifSwgInR5cGUiOiAiRmVhdHVyZSJ9LCB7Imdlb21ldHJ5IjogeyJjb29yZGluYXRlcyI6IFtbWzEyNi45NzM4ODY0MTI4NzAyLCAzNy42Mjk0OTYzNDc4Njg4OF0sIFsxMjYuOTU0MjcwMTcwMDYxMjksIDM3LjYyMjAzMzQzMTMzOTQyNV0sIFsxMjYuOTUyNDc1MjAzMDU3MiwgMzcuNjA1MDg2OTI3MzcwNDVdLCBbMTI2LjkwNTIyMDY1ODMxMDUzLCAzNy41NzQwOTcwMDUyMjU3NF0sIFsxMjYuODg0MzMyODQ3NzMyODgsIDM3LjU4ODE0MzMyMjg4MDUyNl0sIFsxMjYuOTAzOTY2ODEwMDM1OTUsIDM3LjU5MjI3NDAzNDE5OTQyXSwgWzEyNi45MDMwMzA2NjE3NzY2OCwgMzcuNjA5OTc3OTExNDAxMzQ0XSwgWzEyNi45MTQ1NTQ4MTQyOTY0OCwgMzcuNjQxNTAwNTA5OTY5MzVdLCBbMTI2Ljk1NjQ3Mzc5NzM4NywgMzcuNjUyNDgwNzM3MzM5NDQ1XSwgWzEyNi45NzM4ODY0MTI4NzAyLCAzNy42Mjk0OTYzNDc4Njg4OF1dXSwgInR5cGUiOiAiUG9seWdvbiJ9LCAiaWQiOiAiXHVjNzQwXHVkM2M5XHVhZDZjIiwgInByb3BlcnRpZXMiOiB7ImJhc2VfeWVhciI6ICIyMDEzIiwgImNvZGUiOiAiMTExMjAiLCAibmFtZSI6ICJcdWM3NDBcdWQzYzlcdWFkNmMiLCAibmFtZV9lbmciOiAiRXVucHllb25nLWd1In0sICJ0eXBlIjogIkZlYXR1cmUifSwgeyJnZW9tZXRyeSI6IHsiY29vcmRpbmF0ZXMiOiBbW1sxMjcuMDgzODc1MjcwMzE5NSwgMzcuNjkzNTk1MzQyMDIwMzRdLCBbMTI3LjA5NzA2MzkxMzA5Njk1LCAzNy42ODYzODM3MTkzNzIyOTRdLCBbMTI3LjA5NDQwNzY2Mjk4NzE3LCAzNy42NDcxMzQ5MDQ3MzA0NV0sIFsxMjcuMTEzMjY3OTU4NTUxOTksIDM3LjYzOTYyMjkwNTMxNTkyNV0sIFsxMjcuMTA3ODIyNzc2ODgxMjksIDM3LjYxODA0MjQ0MjQxMDY5XSwgWzEyNy4wNzM1MTI0MzgyNTI3OCwgMzcuNjEyODM2NjAzNDIzMTNdLCBbMTI3LjA1MjA5MzczNTY4NjE5LCAzNy42MjE2NDA2NTQ4Nzc4Ml0sIFsxMjcuMDQzNTg4MDA4OTU2MDksIDM3LjYyODQ4OTMxMjk4NzE1XSwgWzEyNy4wNTgwMDA3NTIyMDA5MSwgMzcuNjQzMTgyNjM4NzgyNzZdLCBbMTI3LjA1Mjg4NDc5NzEwNDg1LCAzNy42ODQyMzg1NzA4NDM0N10sIFsxMjcuMDgzODc1MjcwMzE5NSwgMzcuNjkzNTk1MzQyMDIwMzRdXV0sICJ0eXBlIjogIlBvbHlnb24ifSwgImlkIjogIlx1YjE3OFx1YzZkMFx1YWQ2YyIsICJwcm9wZXJ0aWVzIjogeyJiYXNlX3llYXIiOiAiMjAxMyIsICJjb2RlIjogIjExMTEwIiwgIm5hbWUiOiAiXHViMTc4XHVjNmQwXHVhZDZjIiwgIm5hbWVfZW5nIjogIk5vd29uLWd1In0sICJ0eXBlIjogIkZlYXR1cmUifSwgeyJnZW9tZXRyeSI6IHsiY29vcmRpbmF0ZXMiOiBbW1sxMjcuMDUyODg0Nzk3MTA0ODUsIDM3LjY4NDIzODU3MDg0MzQ3XSwgWzEyNy4wNTgwMDA3NTIyMDA5MSwgMzcuNjQzMTgyNjM4NzgyNzZdLCBbMTI3LjA0MzU4ODAwODk1NjA5LCAzNy42Mjg0ODkzMTI5ODcxNV0sIFsxMjcuMDE0NjU5MzU4OTI0NjYsIDM3LjY0OTQzNjg3NDk2ODEyXSwgWzEyNy4wMjA2MjExNjE0MTM4OSwgMzcuNjY3MTczNTc1OTcxMjA1XSwgWzEyNy4wMTAzOTY2NjA0MjA3MSwgMzcuNjgxODk0NTg5NjAzNTk0XSwgWzEyNy4wMTc5NTA5OTIwMzQzMiwgMzcuNjk4MjQ0MTI3NzU2NjJdLCBbMTI3LjA1Mjg4NDc5NzEwNDg1LCAzNy42ODQyMzg1NzA4NDM0N11dXSwgInR5cGUiOiAiUG9seWdvbiJ9LCAiaWQiOiAiXHViM2M0XHViZDA5XHVhZDZjIiwgInByb3BlcnRpZXMiOiB7ImJhc2VfeWVhciI6ICIyMDEzIiwgImNvZGUiOiAiMTExMDAiLCAibmFtZSI6ICJcdWIzYzRcdWJkMDlcdWFkNmMiLCAibmFtZV9lbmciOiAiRG9ib25nLWd1In0sICJ0eXBlIjogIkZlYXR1cmUifSwgeyJnZW9tZXRyeSI6IHsiY29vcmRpbmF0ZXMiOiBbW1sxMjYuOTkzODM5MDM0MjQsIDM3LjY3NjY4MTc2MTE5OTA4NV0sIFsxMjcuMDEwMzk2NjYwNDIwNzEsIDM3LjY4MTg5NDU4OTYwMzU5NF0sIFsxMjcuMDIwNjIxMTYxNDEzODksIDM3LjY2NzE3MzU3NTk3MTIwNV0sIFsxMjcuMDE0NjU5MzU4OTI0NjYsIDM3LjY0OTQzNjg3NDk2ODEyXSwgWzEyNy4wNDM1ODgwMDg5NTYwOSwgMzcuNjI4NDg5MzEyOTg3MTVdLCBbMTI3LjA1MjA5MzczNTY4NjE5LCAzNy42MjE2NDA2NTQ4Nzc4Ml0sIFsxMjcuMDM4OTI0MDA5OTIzMDEsIDM3LjYwOTcxNTYxMTAyMzgxNl0sIFsxMjcuMDEyODE1NDc0OTUyMywgMzcuNjEzNjUyMjQzNDcwMjU2XSwgWzEyNi45ODY3MjcwNTUxMzg2OSwgMzcuNjMzNzc2NDEyODgxOTZdLCBbMTI2Ljk4MTc0NTI2NzY1NTEsIDM3LjY1MjA5NzY5Mzg3Nzc2XSwgWzEyNi45OTM4MzkwMzQyNCwgMzcuNjc2NjgxNzYxMTk5MDg1XV1dLCAidHlwZSI6ICJQb2x5Z29uIn0sICJpZCI6ICJcdWFjMTVcdWJkODFcdWFkNmMiLCAicHJvcGVydGllcyI6IHsiYmFzZV95ZWFyIjogIjIwMTMiLCAiY29kZSI6ICIxMTA5MCIsICJuYW1lIjogIlx1YWMxNVx1YmQ4MVx1YWQ2YyIsICJuYW1lX2VuZyI6ICJHYW5nYnVrLWd1In0sICJ0eXBlIjogIkZlYXR1cmUifSwgeyJnZW9tZXRyeSI6IHsiY29vcmRpbmF0ZXMiOiBbW1sxMjYuOTc3MTc1NDA2NDE2LCAzNy42Mjg1OTcxNTQwMDM4OF0sIFsxMjYuOTg2NzI3MDU1MTM4NjksIDM3LjYzMzc3NjQxMjg4MTk2XSwgWzEyNy4wMTI4MTU0NzQ5NTIzLCAzNy42MTM2NTIyNDM0NzAyNTZdLCBbMTI3LjAzODkyNDAwOTkyMzAxLCAzNy42MDk3MTU2MTEwMjM4MTZdLCBbMTI3LjA1MjA5MzczNTY4NjE5LCAzNy42MjE2NDA2NTQ4Nzc4Ml0sIFsxMjcuMDczNTEyNDM4MjUyNzgsIDM3LjYxMjgzNjYwMzQyMzEzXSwgWzEyNy4wNzM4MjcwNzA5OTIyNywgMzcuNjA0MDE5Mjg5ODY0MTldLCBbMTI3LjA0MjcwNTIyMjA5NCwgMzcuNTkyMzk0Mzc1OTMzOTFdLCBbMTI3LjAyNTI3MjU0NTI4MDAzLCAzNy41NzUyNDYxNjI0NTI0OV0sIFsxMjYuOTkzNDgyOTMzNTgzMTQsIDM3LjU4ODU2NTQ1NzIxNjE1Nl0sIFsxMjYuOTg4Nzk4NjU5OTIzODQsIDM3LjYxMTg5MjczMTk3NTZdLCBbMTI2Ljk3NzE3NTQwNjQxNiwgMzcuNjI4NTk3MTU0MDAzODhdXV0sICJ0eXBlIjogIlBvbHlnb24ifSwgImlkIjogIlx1YzEzMVx1YmQ4MVx1YWQ2YyIsICJwcm9wZXJ0aWVzIjogeyJiYXNlX3llYXIiOiAiMjAxMyIsICJjb2RlIjogIjExMDgwIiwgIm5hbWUiOiAiXHVjMTMxXHViZDgxXHVhZDZjIiwgIm5hbWVfZW5nIjogIlNlb25nYnVrLWd1In0sICJ0eXBlIjogIkZlYXR1cmUifSwgeyJnZW9tZXRyeSI6IHsiY29vcmRpbmF0ZXMiOiBbW1sxMjcuMDczNTEyNDM4MjUyNzgsIDM3LjYxMjgzNjYwMzQyMzEzXSwgWzEyNy4xMDc4MjI3NzY4ODEyOSwgMzcuNjE4MDQyNDQyNDEwNjldLCBbMTI3LjEyMDEyNDYwMjAxMTQsIDM3LjYwMTc4NDU3NTk4MTg4XSwgWzEyNy4xMDMwNDE3NDI0OTIxNCwgMzcuNTcwNzYzNDIyOTA5NTVdLCBbMTI3LjA4MDY4NTQxMjgwNDAzLCAzNy41NjkwNjQyNTUxOTAxN10sIFsxMjcuMDczODI3MDcwOTkyMjcsIDM3LjYwNDAxOTI4OTg2NDE5XSwgWzEyNy4wNzM1MTI0MzgyNTI3OCwgMzcuNjEyODM2NjAzNDIzMTNdXV0sICJ0eXBlIjogIlBvbHlnb24ifSwgImlkIjogIlx1YzkxMVx1Yjc5MVx1YWQ2YyIsICJwcm9wZXJ0aWVzIjogeyJiYXNlX3llYXIiOiAiMjAxMyIsICJjb2RlIjogIjExMDcwIiwgIm5hbWUiOiAiXHVjOTExXHViNzkxXHVhZDZjIiwgIm5hbWVfZW5nIjogIkp1bmduYW5nLWd1In0sICJ0eXBlIjogIkZlYXR1cmUifSwgeyJnZW9tZXRyeSI6IHsiY29vcmRpbmF0ZXMiOiBbW1sxMjcuMDI1MjcyNTQ1MjgwMDMsIDM3LjU3NTI0NjE2MjQ1MjQ5XSwgWzEyNy4wNDI3MDUyMjIwOTQsIDM3LjU5MjM5NDM3NTkzMzkxXSwgWzEyNy4wNzM4MjcwNzA5OTIyNywgMzcuNjA0MDE5Mjg5ODY0MTldLCBbMTI3LjA4MDY4NTQxMjgwNDAzLCAzNy41NjkwNjQyNTUxOTAxN10sIFsxMjcuMDc0MjEwNTMwMjQzNjIsIDM3LjU1NzI0NzY5NzEyMDg1XSwgWzEyNy4wNTAwNTYwMTA4MTU2NywgMzcuNTY3NTc3NjEyNTkwODQ2XSwgWzEyNy4wMjU0NzI2NjM0OTk3NiwgMzcuNTY4OTQzNTUyMjM3NzM0XSwgWzEyNy4wMjUyNzI1NDUyODAwMywgMzcuNTc1MjQ2MTYyNDUyNDldXV0sICJ0eXBlIjogIlBvbHlnb24ifSwgImlkIjogIlx1YjNkOVx1YjMwMFx1YmIzOFx1YWQ2YyIsICJwcm9wZXJ0aWVzIjogeyJiYXNlX3llYXIiOiAiMjAxMyIsICJjb2RlIjogIjExMDYwIiwgIm5hbWUiOiAiXHViM2Q5XHViMzAwXHViYjM4XHVhZDZjIiwgIm5hbWVfZW5nIjogIkRvbmdkYWVtdW4tZ3UifSwgInR5cGUiOiAiRmVhdHVyZSJ9LCB7Imdlb21ldHJ5IjogeyJjb29yZGluYXRlcyI6IFtbWzEyNy4wODA2ODU0MTI4MDQwMywgMzcuNTY5MDY0MjU1MTkwMTddLCBbMTI3LjEwMzA0MTc0MjQ5MjE0LCAzNy41NzA3NjM0MjI5MDk1NV0sIFsxMjcuMTE1MTk1ODQ5ODE2MDYsIDM3LjU1NzUzMzE4MDcwNDkxNV0sIFsxMjcuMTExNjc2NDIwMzYwOCwgMzcuNTQwNjY5OTU1MzI0OTY1XSwgWzEyNy4xMDA4NzUxOTc5MTk2MiwgMzcuNTI0ODQxMjIwMTY3MDU1XSwgWzEyNy4wNjkwNjk4MTMwMzcyLCAzNy41MjIyNzk0MjM1MDUwMjZdLCBbMTI3LjA1ODY3MzU5Mjg4Mzk4LCAzNy41MjYyOTk3NDkyMjU2OF0sIFsxMjcuMDc0MjEwNTMwMjQzNjIsIDM3LjU1NzI0NzY5NzEyMDg1XSwgWzEyNy4wODA2ODU0MTI4MDQwMywgMzcuNTY5MDY0MjU1MTkwMTddXV0sICJ0eXBlIjogIlBvbHlnb24ifSwgImlkIjogIlx1YWQxMVx1YzljNFx1YWQ2YyIsICJwcm9wZXJ0aWVzIjogeyJiYXNlX3llYXIiOiAiMjAxMyIsICJjb2RlIjogIjExMDUwIiwgIm5hbWUiOiAiXHVhZDExXHVjOWM0XHVhZDZjIiwgIm5hbWVfZW5nIjogIkd3YW5namluLWd1In0sICJ0eXBlIjogIkZlYXR1cmUifSwgeyJnZW9tZXRyeSI6IHsiY29vcmRpbmF0ZXMiOiBbW1sxMjcuMDI1NDcyNjYzNDk5NzYsIDM3LjU2ODk0MzU1MjIzNzczNF0sIFsxMjcuMDUwMDU2MDEwODE1NjcsIDM3LjU2NzU3NzYxMjU5MDg0Nl0sIFsxMjcuMDc0MjEwNTMwMjQzNjIsIDM3LjU1NzI0NzY5NzEyMDg1XSwgWzEyNy4wNTg2NzM1OTI4ODM5OCwgMzcuNTI2Mjk5NzQ5MjI1NjhdLCBbMTI3LjAyMzAyODMxODkwNTU5LCAzNy41MzIzMTg5OTU4MjY2M10sIFsxMjcuMDEwNzA4OTQxNzc0ODIsIDM3LjU0MTE4MDQ4OTY0NzYyXSwgWzEyNy4wMjU0NzI2NjM0OTk3NiwgMzcuNTY4OTQzNTUyMjM3NzM0XV1dLCAidHlwZSI6ICJQb2x5Z29uIn0sICJpZCI6ICJcdWMxMzFcdWIzZDlcdWFkNmMiLCAicHJvcGVydGllcyI6IHsiYmFzZV95ZWFyIjogIjIwMTMiLCAiY29kZSI6ICIxMTA0MCIsICJuYW1lIjogIlx1YzEzMVx1YjNkOVx1YWQ2YyIsICJuYW1lX2VuZyI6ICJTZW9uZ2RvbmctZ3UifSwgInR5cGUiOiAiRmVhdHVyZSJ9LCB7Imdlb21ldHJ5IjogeyJjb29yZGluYXRlcyI6IFtbWzEyNy4wMTA3MDg5NDE3NzQ4MiwgMzcuNTQxMTgwNDg5NjQ3NjJdLCBbMTI3LjAyMzAyODMxODkwNTU5LCAzNy41MzIzMTg5OTU4MjY2M10sIFsxMjcuMDEzOTcxMTk2Njc1MTMsIDM3LjUyNTAzOTg4Mjg5NjY5XSwgWzEyNi45ODIyMzgwNzkxNjA4MSwgMzcuNTA5MzE0OTY2NzcwMzI2XSwgWzEyNi45NTI0OTk5MDI5ODE1OSwgMzcuNTE3MjI1MDA3NDE4MTNdLCBbMTI2Ljk0NTY2NzMzMDgzMjEyLCAzNy41MjY2MTc1NDI0NTMzNjZdLCBbMTI2Ljk2NDQ4NTcwNTUzMDU1LCAzNy41NDg3MDU2OTIwMjE2MzVdLCBbMTI2Ljk4NzUyOTk2OTAzMzI4LCAzNy41NTA5NDgxODgwNzEzOV0sIFsxMjcuMDEwNzA4OTQxNzc0ODIsIDM3LjU0MTE4MDQ4OTY0NzYyXV1dLCAidHlwZSI6ICJQb2x5Z29uIn0sICJpZCI6ICJcdWM2YTlcdWMwYjBcdWFkNmMiLCAicHJvcGVydGllcyI6IHsiYmFzZV95ZWFyIjogIjIwMTMiLCAiY29kZSI6ICIxMTAzMCIsICJuYW1lIjogIlx1YzZhOVx1YzBiMFx1YWQ2YyIsICJuYW1lX2VuZyI6ICJZb25nc2FuLWd1In0sICJ0eXBlIjogIkZlYXR1cmUifSwgeyJnZW9tZXRyeSI6IHsiY29vcmRpbmF0ZXMiOiBbW1sxMjcuMDI1NDcyNjYzNDk5NzYsIDM3LjU2ODk0MzU1MjIzNzczNF0sIFsxMjcuMDEwNzA4OTQxNzc0ODIsIDM3LjU0MTE4MDQ4OTY0NzYyXSwgWzEyNi45ODc1Mjk5NjkwMzMyOCwgMzcuNTUwOTQ4MTg4MDcxMzldLCBbMTI2Ljk2NDQ4NTcwNTUzMDU1LCAzNy41NDg3MDU2OTIwMjE2MzVdLCBbMTI2Ljk2MzU4MjI2NzEwODEyLCAzNy41NTYwNTYzNTQ3NTE1NF0sIFsxMjYuOTY4NzM2MzMyNzkwNzUsIDM3LjU2MzEzNjA0NjkwODI3XSwgWzEyNy4wMjU0NzI2NjM0OTk3NiwgMzcuNTY4OTQzNTUyMjM3NzM0XV1dLCAidHlwZSI6ICJQb2x5Z29uIn0sICJpZCI6ICJcdWM5MTFcdWFkNmMiLCAicHJvcGVydGllcyI6IHsiYmFzZV95ZWFyIjogIjIwMTMiLCAiY29kZSI6ICIxMTAyMCIsICJuYW1lIjogIlx1YzkxMVx1YWQ2YyIsICJuYW1lX2VuZyI6ICJKdW5nLWd1In0sICJ0eXBlIjogIkZlYXR1cmUifSwgeyJnZW9tZXRyeSI6IHsiY29vcmRpbmF0ZXMiOiBbW1sxMjYuOTczODg2NDEyODcwMiwgMzcuNjI5NDk2MzQ3ODY4ODhdLCBbMTI2Ljk3NzE3NTQwNjQxNiwgMzcuNjI4NTk3MTU0MDAzODhdLCBbMTI2Ljk4ODc5ODY1OTkyMzg0LCAzNy42MTE4OTI3MzE5NzU2XSwgWzEyNi45OTM0ODI5MzM1ODMxNCwgMzcuNTg4NTY1NDU3MjE2MTU2XSwgWzEyNy4wMjUyNzI1NDUyODAwMywgMzcuNTc1MjQ2MTYyNDUyNDldLCBbMTI3LjAyNTQ3MjY2MzQ5OTc2LCAzNy41Njg5NDM1NTIyMzc3MzRdLCBbMTI2Ljk2ODczNjMzMjc5MDc1LCAzNy41NjMxMzYwNDY5MDgyN10sIFsxMjYuOTU1NjU0MjU4NDY0NjMsIDM3LjU3NjA4MDc5MDg4MTQ1Nl0sIFsxMjYuOTUyNDc1MjAzMDU3MiwgMzcuNjA1MDg2OTI3MzcwNDVdLCBbMTI2Ljk1NDI3MDE3MDA2MTI5LCAzNy42MjIwMzM0MzEzMzk0MjVdLCBbMTI2Ljk3Mzg4NjQxMjg3MDIsIDM3LjYyOTQ5NjM0Nzg2ODg4XV1dLCAidHlwZSI6ICJQb2x5Z29uIn0sICJpZCI6ICJcdWM4ODVcdWI4NWNcdWFkNmMiLCAicHJvcGVydGllcyI6IHsiYmFzZV95ZWFyIjogIjIwMTMiLCAiY29kZSI6ICIxMTAxMCIsICJuYW1lIjogIlx1Yzg4NVx1Yjg1Y1x1YWQ2YyIsICJuYW1lX2VuZyI6ICJKb25nbm8tZ3UifSwgInR5cGUiOiAiRmVhdHVyZSJ9XSwgInR5cGUiOiAiRmVhdHVyZUNvbGxlY3Rpb24ifSk7CiAgICAgICAgCiAgICAKICAgIHZhciBjb2xvcl9tYXBfYTRhYzk4OWJkMmRlNDljZmI2MmJlY2RiNGJlMzA0ZTQgPSB7fTsKCiAgICAKICAgIGNvbG9yX21hcF9hNGFjOTg5YmQyZGU0OWNmYjYyYmVjZGI0YmUzMDRlNC5jb2xvciA9IGQzLnNjYWxlLnRocmVzaG9sZCgpCiAgICAgICAgICAgICAgLmRvbWFpbihbMjg1MzcwLjAsIDI4NzkwNi4wMTQwMjgwNTYxLCAyOTA0NDIuMDI4MDU2MTEyMjMsIDI5Mjk3OC4wNDIwODQxNjgzNSwgMjk1NTE0LjA1NjExMjIyNDQ3LCAyOTgwNTAuMDcwMTQwMjgwNiwgMzAwNTg2LjA4NDE2ODMzNjY1LCAzMDMxMjIuMDk4MTk2MzkyNzYsIDMwNTY1OC4xMTIyMjQ0NDg5LCAzMDgxOTQuMTI2MjUyNTA1LCAzMTA3MzAuMTQwMjgwNTYxMSwgMzEzMjY2LjE1NDMwODYxNzIzLCAzMTU4MDIuMTY4MzM2NjczMzUsIDMxODMzOC4xODIzNjQ3Mjk0NywgMzIwODc0LjE5NjM5Mjc4NTYsIDMyMzQxMC4yMTA0MjA4NDE3LCAzMjU5NDYuMjI0NDQ4ODk3OCwgMzI4NDgyLjIzODQ3Njk1MzkzLCAzMzEwMTguMjUyNTA1MDEsIDMzMzU1NC4yNjY1MzMwNjYxLCAzMzYwOTAuMjgwNTYxMTIyMiwgMzM4NjI2LjI5NDU4OTE3ODM1LCAzNDExNjIuMzA4NjE3MjM0NDYsIDM0MzY5OC4zMjI2NDUyOTA2LCAzNDYyMzQuMzM2NjczMzQ2NywgMzQ4NzcwLjM1MDcwMTQwMjgsIDM1MTMwNi4zNjQ3Mjk0NTg5MywgMzUzODQyLjM3ODc1NzUxNTA1LCAzNTYzNzguMzkyNzg1NTcxMTcsIDM1ODkxNC40MDY4MTM2MjcyLCAzNjE0NTAuNDIwODQxNjgzNCwgMzYzOTg2LjQzNDg2OTczOTQ2LCAzNjY1MjIuNDQ4ODk3Nzk1NiwgMzY5MDU4LjQ2MjkyNTg1MTcsIDM3MTU5NC40NzY5NTM5MDc4LCAzNzQxMzAuNDkwOTgxOTYzOSwgMzc2NjY2LjUwNTAxMDAyMDA1LCAzNzkyMDIuNTE5MDM4MDc2MTYsIDM4MTczOC41MzMwNjYxMzIzLCAzODQyNzQuNTQ3MDk0MTg4NCwgMzg2ODEwLjU2MTEyMjI0NDQ2LCAzODkzNDYuNTc1MTUwMzAwNjMsIDM5MTg4Mi41ODkxNzgzNTY3LCAzOTQ0MTguNjAzMjA2NDEyOCwgMzk2OTU0LjYxNzIzNDQ2ODksIDM5OTQ5MC42MzEyNjI1MjUwNCwgNDAyMDI2LjY0NTI5MDU4MTE2LCA0MDQ1NjIuNjU5MzE4NjM3MywgNDA3MDk4LjY3MzM0NjY5MzQsIDQwOTYzNC42ODczNzQ3NDk1LCA0MTIxNzAuNzAxNDAyODA1NjMsIDQxNDcwNi43MTU0MzA4NjE3LCA0MTcyNDIuNzI5NDU4OTE3ODYsIDQxOTc3OC43NDM0ODY5NzM5LCA0MjIzMTQuNzU3NTE1MDMwMSwgNDI0ODUwLjc3MTU0MzA4NjE2LCA0MjczODYuNzg1NTcxMTQyMywgNDI5OTIyLjc5OTU5OTE5ODQsIDQzMjQ1OC44MTM2MjcyNTQ1LCA0MzQ5OTQuODI3NjU1MzEwNiwgNDM3NTMwLjg0MTY4MzM2Njc0LCA0NDAwNjYuODU1NzExNDIyODYsIDQ0MjYwMi44Njk3Mzk0Nzg5LCA0NDUxMzguODgzNzY3NTM1MSwgNDQ3Njc0Ljg5Nzc5NTU5MTE1LCA0NTAyMTAuOTExODIzNjQ3MzMsIDQ1Mjc0Ni45MjU4NTE3MDM0LCA0NTUyODIuOTM5ODc5NzU5NSwgNDU3ODE4Ljk1MzkwNzgxNTYsIDQ2MDM1NC45Njc5MzU4NzE3NCwgNDYyODkwLjk4MTk2MzkyNzg2LCA0NjU0MjYuOTk1OTkxOTg0LCA0Njc5NjMuMDEwMDIwMDQwMSwgNDcwNDk5LjAyNDA0ODA5NjE1LCA0NzMwMzUuMDM4MDc2MTUyMywgNDc1NTcxLjA1MjEwNDIwODQsIDQ3ODEwNy4wNjYxMzIyNjQ1NiwgNDgwNjQzLjA4MDE2MDMyMDYsIDQ4MzE3OS4wOTQxODgzNzY4LCA0ODU3MTUuMTA4MjE2NDMyODUsIDQ4ODI1MS4xMjIyNDQ0ODksIDQ5MDc4Ny4xMzYyNzI1NDUxLCA0OTMzMjMuMTUwMzAwNjAxMiwgNDk1ODU5LjE2NDMyODY1NzMsIDQ5ODM5NS4xNzgzNTY3MTM0NCwgNTAwOTMxLjE5MjM4NDc2OTU2LCA1MDM0NjcuMjA2NDEyODI1NiwgNTA2MDAzLjIyMDQ0MDg4MTgsIDUwODUzOS4yMzQ0Njg5Mzc4NSwgNTExMDc1LjI0ODQ5Njk5NCwgNTEzNjExLjI2MjUyNTA1MDEsIDUxNjE0Ny4yNzY1NTMxMDYyLCA1MTg2ODMuMjkwNTgxMTYyMywgNTIxMjE5LjMwNDYwOTIxODQ0LCA1MjM3NTUuMzE4NjM3Mjc0NTUsIDUyNjI5MS4zMzI2NjUzMzA3LCA1Mjg4MjcuMzQ2NjkzMzg2OCwgNTMxMzYzLjM2MDcyMTQ0MjgsIDUzMzg5OS4zNzQ3NDk0OTksIDUzNjQzNS4zODg3Nzc1NTUxLCA1Mzg5NzEuNDAyODA1NjExMywgNTQxNTA3LjQxNjgzMzY2NzMsIDU0NDA0My40MzA4NjE3MjM0LCA1NDY1NzkuNDQ0ODg5Nzc5NiwgNTQ5MTE1LjQ1ODkxNzgzNTcsIDU1MTY1MS40NzI5NDU4OTE4LCA1NTQxODcuNDg2OTczOTQ3OCwgNTU2NzIzLjUwMTAwMjAwNCwgNTU5MjU5LjUxNTAzMDA2MDIsIDU2MTc5NS41MjkwNTgxMTYzLCA1NjQzMzEuNTQzMDg2MTcyMywgNTY2ODY3LjU1NzExNDIyODQsIDU2OTQwMy41NzExNDIyODQ1LCA1NzE5MzkuNTg1MTcwMzQwNywgNTc0NDc1LjU5OTE5ODM5NjgsIDU3NzAxMS42MTMyMjY0NTI4LCA1Nzk1NDcuNjI3MjU0NTA5LCA1ODIwODMuNjQxMjgyNTY1MiwgNTg0NjE5LjY1NTMxMDYyMTMsIDU4NzE1NS42NjkzMzg2NzczLCA1ODk2OTEuNjgzMzY2NzMzNSwgNTkyMjI3LjY5NzM5NDc4OTcsIDU5NDc2My43MTE0MjI4NDU3LCA1OTcyOTkuNzI1NDUwOTAxOCwgNTk5ODM1LjczOTQ3ODk1NzgsIDYwMjM3MS43NTM1MDcwMTQsIDYwNDkwNy43Njc1MzUwNzAyLCA2MDc0NDMuNzgxNTYzMTI2MiwgNjA5OTc5Ljc5NTU5MTE4MjMsIDYxMjUxNS44MDk2MTkyMzg1LCA2MTUwNTEuODIzNjQ3Mjk0NywgNjE3NTg3LjgzNzY3NTM1MDcsIDYyMDEyMy44NTE3MDM0MDY4LCA2MjI2NTkuODY1NzMxNDYzLCA2MjUxOTUuODc5NzU5NTE5LCA2Mjc3MzEuODkzNzg3NTc1MiwgNjMwMjY3LjkwNzgxNTYzMTIsIDYzMjgwMy45MjE4NDM2ODczLCA2MzUzMzkuOTM1ODcxNzQzNSwgNjM3ODc1Ljk0OTg5OTc5OTcsIDY0MDQxMS45NjM5Mjc4NTU3LCA2NDI5NDcuOTc3OTU1OTExOCwgNjQ1NDgzLjk5MTk4Mzk2OCwgNjQ4MDIwLjAwNjAxMjAyNDEsIDY1MDU1Ni4wMjAwNDAwODAyLCA2NTMwOTIuMDM0MDY4MTM2MiwgNjU1NjI4LjA0ODA5NjE5MjMsIDY1ODE2NC4wNjIxMjQyNDg1LCA2NjA3MDAuMDc2MTUyMzA0NywgNjYzMjM2LjA5MDE4MDM2MDcsIDY2NTc3Mi4xMDQyMDg0MTY4LCA2NjgzMDguMTE4MjM2NDczLCA2NzA4NDQuMTMyMjY0NTI5MSwgNjczMzgwLjE0NjI5MjU4NTIsIDY3NTkxNi4xNjAzMjA2NDEyLCA2Nzg0NTIuMTc0MzQ4Njk3NCwgNjgwOTg4LjE4ODM3Njc1MzYsIDY4MzUyNC4yMDI0MDQ4MDk3LCA2ODYwNjAuMjE2NDMyODY1NywgNjg4NTk2LjIzMDQ2MDkyMTgsIDY5MTEzMi4yNDQ0ODg5NzgsIDY5MzY2OC4yNTg1MTcwMzQxLCA2OTYyMDQuMjcyNTQ1MDkwMiwgNjk4NzQwLjI4NjU3MzE0NjIsIDcwMTI3Ni4zMDA2MDEyMDI0LCA3MDM4MTIuMzE0NjI5MjU4NiwgNzA2MzQ4LjMyODY1NzMxNDYsIDcwODg4NC4zNDI2ODUzNzA3LCA3MTE0MjAuMzU2NzEzNDI2OSwgNzEzOTU2LjM3MDc0MTQ4MjksIDcxNjQ5Mi4zODQ3Njk1MzkxLCA3MTkwMjguMzk4Nzk3NTk1MiwgNzIxNTY0LjQxMjgyNTY1MTIsIDcyNDEwMC40MjY4NTM3MDc0LCA3MjY2MzYuNDQwODgxNzYzNiwgNzI5MTcyLjQ1NDkwOTgxOTYsIDczMTcwOC40Njg5Mzc4NzU3LCA3MzQyNDQuNDgyOTY1OTMxOSwgNzM2NzgwLjQ5Njk5Mzk4OCwgNzM5MzE2LjUxMTAyMjA0NDEsIDc0MTg1Mi41MjUwNTAxMDAyLCA3NDQzODguNTM5MDc4MTU2MiwgNzQ2OTI0LjU1MzEwNjIxMjQsIDc0OTQ2MC41NjcxMzQyNjg2LCA3NTE5OTYuNTgxMTYyMzI0NiwgNzU0NTMyLjU5NTE5MDM4MDcsIDc1NzA2OC42MDkyMTg0MzY5LCA3NTk2MDQuNjIzMjQ2NDkzLCA3NjIxNDAuNjM3Mjc0NTQ5MSwgNzY0Njc2LjY1MTMwMjYwNTIsIDc2NzIxMi42NjUzMzA2NjEzLCA3Njk3NDguNjc5MzU4NzE3NSwgNzcyMjg0LjY5MzM4Njc3MzYsIDc3NDgyMC43MDc0MTQ4Mjk2LCA3NzczNTYuNzIxNDQyODg1NywgNzc5ODkyLjczNTQ3MDk0MTksIDc4MjQyOC43NDk0OTg5OTgsIDc4NDk2NC43NjM1MjcwNTQxLCA3ODc1MDAuNzc3NTU1MTEwMiwgNzkwMDM2Ljc5MTU4MzE2NjMsIDc5MjU3Mi44MDU2MTEyMjI1LCA3OTUxMDguODE5NjM5Mjc4NiwgNzk3NjQ0LjgzMzY2NzMzNDYsIDgwMDE4MC44NDc2OTUzOTA4LCA4MDI3MTYuODYxNzIzNDQ2OSwgODA1MjUyLjg3NTc1MTUwMywgODA3Nzg4Ljg4OTc3OTU1OTEsIDgxMDMyNC45MDM4MDc2MTUzLCA4MTI4NjAuOTE3ODM1NjcxMywgODE1Mzk2LjkzMTg2MzcyNzQsIDgxNzkzMi45NDU4OTE3ODM2LCA4MjA0NjguOTU5OTE5ODM5NiwgODIzMDA0Ljk3Mzk0Nzg5NTgsIDgyNTU0MC45ODc5NzU5NTE5LCA4MjgwNzcuMDAyMDA0MDA4LCA4MzA2MTMuMDE2MDMyMDY0MSwgODMzMTQ5LjAzMDA2MDEyMDMsIDgzNTY4NS4wNDQwODgxNzYzLCA4MzgyMjEuMDU4MTE2MjMyNSwgODQwNzU3LjA3MjE0NDI4ODYsIDg0MzI5My4wODYxNzIzNDQ3LCA4NDU4MjkuMTAwMjAwNDAwOCwgODQ4MzY1LjExNDIyODQ1NjksIDg1MDkwMS4xMjgyNTY1MTMsIDg1MzQzNy4xNDIyODQ1NjkxLCA4NTU5NzMuMTU2MzEyNjI1MywgODU4NTA5LjE3MDM0MDY4MTMsIDg2MTA0NS4xODQzNjg3Mzc1LCA4NjM1ODEuMTk4Mzk2NzkzNiwgODY2MTE3LjIxMjQyNDg0OTcsIDg2ODY1My4yMjY0NTI5MDU4LCA4NzExODkuMjQwNDgwOTYyLCA4NzM3MjUuMjU0NTA5MDE4LCA4NzYyNjEuMjY4NTM3MDc0MSwgODc4Nzk3LjI4MjU2NTEzMDMsIDg4MTMzMy4yOTY1OTMxODYzLCA4ODM4NjkuMzEwNjIxMjQyNSwgODg2NDA1LjMyNDY0OTI5ODYsIDg4ODk0MS4zMzg2NzczNTQ3LCA4OTE0NzcuMzUyNzA1NDEwOCwgODk0MDEzLjM2NjczMzQ2NywgODk2NTQ5LjM4MDc2MTUyMywgODk5MDg1LjM5NDc4OTU3OTIsIDkwMTYyMS40MDg4MTc2MzUzLCA5MDQxNTcuNDIyODQ1NjkxMywgOTA2NjkzLjQzNjg3Mzc0NzUsIDkwOTIyOS40NTA5MDE4MDM2LCA5MTE3NjUuNDY0OTI5ODU5NywgOTE0MzAxLjQ3ODk1NzkxNTgsIDkxNjgzNy40OTI5ODU5NzIsIDkxOTM3My41MDcwMTQwMjgsIDkyMTkwOS41MjEwNDIwODQyLCA5MjQ0NDUuNTM1MDcwMTQwMywgOTI2OTgxLjU0OTA5ODE5NjQsIDkyOTUxNy41NjMxMjYyNTI1LCA5MzIwNTMuNTc3MTU0MzA4NywgOTM0NTg5LjU5MTE4MjM2NDcsIDkzNzEyNS42MDUyMTA0MjA4LCA5Mzk2NjEuNjE5MjM4NDc3LCA5NDIxOTcuNjMzMjY2NTMzLCA5NDQ3MzMuNjQ3Mjk0NTg5MiwgOTQ3MjY5LjY2MTMyMjY0NTMsIDk0OTgwNS42NzUzNTA3MDE0LCA5NTIzNDEuNjg5Mzc4NzU3NSwgOTU0ODc3LjcwMzQwNjgxMzcsIDk1NzQxMy43MTc0MzQ4Njk3LCA5NTk5NDkuNzMxNDYyOTI1OSwgOTYyNDg1Ljc0NTQ5MDk4MiwgOTY1MDIxLjc1OTUxOTAzOCwgOTY3NTU3Ljc3MzU0NzA5NDIsIDk3MDA5My43ODc1NzUxNTAzLCA5NzI2MjkuODAxNjAzMjA2NCwgOTc1MTY1LjgxNTYzMTI2MjUsIDk3NzcwMS44Mjk2NTkzMTg3LCA5ODAyMzcuODQzNjg3Mzc0NywgOTgyNzczLjg1NzcxNTQzMDksIDk4NTMwOS44NzE3NDM0ODcsIDk4Nzg0NS44ODU3NzE1NDMxLCA5OTAzODEuODk5Nzk5NTk5MiwgOTkyOTE3LjkxMzgyNzY1NTMsIDk5NTQ1My45Mjc4NTU3MTE0LCA5OTc5ODkuOTQxODgzNzY3NSwgMTAwMDUyNS45NTU5MTE4MjM3LCAxMDAzMDYxLjk2OTkzOTg3OTcsIDEwMDU1OTcuOTgzOTY3OTM1OSwgMTAwODEzMy45OTc5OTU5OTIsIDEwMTA2NzAuMDEyMDI0MDQ4MSwgMTAxMzIwNi4wMjYwNTIxMDQyLCAxMDE1NzQyLjA0MDA4MDE2MDQsIDEwMTgyNzguMDU0MTA4MjE2NCwgMTAyMDgxNC4wNjgxMzYyNzI2LCAxMDIzMzUwLjA4MjE2NDMyODcsIDEwMjU4ODYuMDk2MTkyMzg0NywgMTAyODQyMi4xMTAyMjA0NDA5LCAxMDMwOTU4LjEyNDI0ODQ5NywgMTAzMzQ5NC4xMzgyNzY1NTMxLCAxMDM2MDMwLjE1MjMwNDYwOTIsIDEwMzg1NjYuMTY2MzMyNjY1NCwgMTA0MTEwMi4xODAzNjA3MjE0LCAxMDQzNjM4LjE5NDM4ODc3NzYsIDEwNDYxNzQuMjA4NDE2ODMzNywgMTA0ODcxMC4yMjI0NDQ4ODk4LCAxMDUxMjQ2LjIzNjQ3Mjk0NiwgMTA1Mzc4Mi4yNTA1MDEwMDIsIDEwNTYzMTguMjY0NTI5MDU4MiwgMTA1ODg1NC4yNzg1NTcxMTQzLCAxMDYxMzkwLjI5MjU4NTE3MDQsIDEwNjM5MjYuMzA2NjEzMjI2NCwgMTA2NjQ2Mi4zMjA2NDEyODI1LCAxMDY4OTk4LjMzNDY2OTMzODUsIDEwNzE1MzQuMzQ4Njk3Mzk0OCwgMTA3NDA3MC4zNjI3MjU0NTEsIDEwNzY2MDYuMzc2NzUzNTA3MiwgMTA3OTE0Mi4zOTA3ODE1NjMyLCAxMDgxNjc4LjQwNDgwOTYxOTMsIDEwODQyMTQuNDE4ODM3Njc1NCwgMTA4Njc1MC40MzI4NjU3MzE0LCAxMDg5Mjg2LjQ0Njg5Mzc4NzUsIDEwOTE4MjIuNDYwOTIxODQzNSwgMTA5NDM1OC40NzQ5NDk4OTk4LCAxMDk2ODk0LjQ4ODk3Nzk1NiwgMTA5OTQzMC41MDMwMDYwMTIyLCAxMTAxOTY2LjUxNzAzNDA2ODIsIDExMDQ1MDIuNTMxMDYyMTI0MywgMTEwNzAzOC41NDUwOTAxODA0LCAxMTA5NTc0LjU1OTExODIzNjQsIDExMTIxMTAuNTczMTQ2MjkyNSwgMTExNDY0Ni41ODcxNzQzNDg1LCAxMTE3MTgyLjYwMTIwMjQwNDgsIDExMTk3MTguNjE1MjMwNDYxLCAxMTIyMjU0LjYyOTI1ODUxNzIsIDExMjQ3OTAuNjQzMjg2NTczMiwgMTEyNzMyNi42NTczMTQ2MjkzLCAxMTI5ODYyLjY3MTM0MjY4NTQsIDExMzIzOTguNjg1MzcwNzQxNCwgMTEzNDkzNC42OTkzOTg3OTc1LCAxMTM3NDcwLjcxMzQyNjg1MzgsIDExNDAwMDYuNzI3NDU0OTA5OCwgMTE0MjU0Mi43NDE0ODI5NjU5LCAxMTQ1MDc4Ljc1NTUxMTAyMjIsIDExNDc2MTQuNzY5NTM5MDc4MiwgMTE1MDE1MC43ODM1NjcxMzQzLCAxMTUyNjg2Ljc5NzU5NTE5MDMsIDExNTUyMjIuODExNjIzMjQ2NCwgMTE1Nzc1OC44MjU2NTEzMDI1LCAxMTYwMjk0LjgzOTY3OTM1ODgsIDExNjI4MzAuODUzNzA3NDE0OCwgMTE2NTM2Ni44Njc3MzU0NzEsIDExNjc5MDIuODgxNzYzNTI3MiwgMTE3MDQzOC44OTU3OTE1ODMyLCAxMTcyOTc0LjkwOTgxOTYzOTMsIDExNzU1MTAuOTIzODQ3Njk1MywgMTE3ODA0Ni45Mzc4NzU3NTE0LCAxMTgwNTgyLjk1MTkwMzgwNzUsIDExODMxMTguOTY1OTMxODYzOCwgMTE4NTY1NC45Nzk5NTk5MTk4LCAxMTg4MTkwLjk5Mzk4Nzk3NiwgMTE5MDcyNy4wMDgwMTYwMzIyLCAxMTkzMjYzLjAyMjA0NDA4ODIsIDExOTU3OTkuMDM2MDcyMTQ0MywgMTE5ODMzNS4wNTAxMDAyMDAzLCAxMjAwODcxLjA2NDEyODI1NjQsIDEyMDM0MDcuMDc4MTU2MzEyNSwgMTIwNTk0My4wOTIxODQzNjg4LCAxMjA4NDc5LjEwNjIxMjQyNDgsIDEyMTEwMTUuMTIwMjQwNDgxLCAxMjEzNTUxLjEzNDI2ODUzNzIsIDEyMTYwODcuMTQ4Mjk2NTkzMiwgMTIxODYyMy4xNjIzMjQ2NDkzLCAxMjIxMTU5LjE3NjM1MjcwNTMsIDEyMjM2OTUuMTkwMzgwNzYxNCwgMTIyNjIzMS4yMDQ0MDg4MTc3LCAxMjI4NzY3LjIxODQzNjg3MzgsIDEyMzEzMDMuMjMyNDY0OTI5OCwgMTIzMzgzOS4yNDY0OTI5ODYsIDEyMzYzNzUuMjYwNTIxMDQyMiwgMTIzODkxMS4yNzQ1NDkwOTgyLCAxMjQxNDQ3LjI4ODU3NzE1NDMsIDEyNDM5ODMuMzAyNjA1MjEwMywgMTI0NjUxOS4zMTY2MzMyNjY0LCAxMjQ5MDU1LjMzMDY2MTMyMjcsIDEyNTE1OTEuMzQ0Njg5Mzc4NywgMTI1NDEyNy4zNTg3MTc0MzUsIDEyNTY2NjMuMzcyNzQ1NDkxLCAxMjU5MTk5LjM4Njc3MzU0NzIsIDEyNjE3MzUuNDAwODAxNjAzMiwgMTI2NDI3MS40MTQ4Mjk2NTkzLCAxMjY2ODA3LjQyODg1NzcxNTMsIDEyNjkzNDMuNDQyODg1NzcxNCwgMTI3MTg3OS40NTY5MTM4Mjc3LCAxMjc0NDE1LjQ3MDk0MTg4MzcsIDEyNzY5NTEuNDg0OTY5OTQsIDEyNzk0ODcuNDk4OTk3OTk2LCAxMjgyMDIzLjUxMzAyNjA1MjIsIDEyODQ1NTkuNTI3MDU0MTA4MiwgMTI4NzA5NS41NDEwODIxNjQzLCAxMjg5NjMxLjU1NTExMDIyMDMsIDEyOTIxNjcuNTY5MTM4Mjc2NCwgMTI5NDcwMy41ODMxNjYzMzI3LCAxMjk3MjM5LjU5NzE5NDM4ODcsIDEyOTk3NzUuNjExMjIyNDQ1LCAxMzAyMzExLjYyNTI1MDUwMSwgMTMwNDg0Ny42MzkyNzg1NTcyLCAxMzA3MzgzLjY1MzMwNjYxMzIsIDEzMDk5MTkuNjY3MzM0NjY5MywgMTMxMjQ1NS42ODEzNjI3MjUzLCAxMzE0OTkxLjY5NTM5MDc4MTYsIDEzMTc1MjcuNzA5NDE4ODM3NywgMTMyMDA2My43MjM0NDY4OTM3LCAxMzIyNTk5LjczNzQ3NDk1LCAxMzI1MTM1Ljc1MTUwMzAwNiwgMTMyNzY3MS43NjU1MzEwNjIxLCAxMzMwMjA3Ljc3OTU1OTExODIsIDEzMzI3NDMuNzkzNTg3MTc0MywgMTMzNTI3OS44MDc2MTUyMzA2LCAxMzM3ODE1LjgyMTY0MzI4NjYsIDEzNDAzNTEuODM1NjcxMzQyNywgMTM0Mjg4Ny44NDk2OTkzOTg3LCAxMzQ1NDIzLjg2MzcyNzQ1NDgsIDEzNDc5NTkuODc3NzU1NTExLCAxMzUwNDk1Ljg5MTc4MzU2NzEsIDEzNTMwMzEuOTA1ODExNjIzMiwgMTM1NTU2Ny45MTk4Mzk2NzkzLCAxMzU4MTAzLjkzMzg2NzczNTYsIDEzNjA2MzkuOTQ3ODk1NzkxNiwgMTM2MzE3NS45NjE5MjM4NDc3LCAxMzY1NzExLjk3NTk1MTkwMzcsIDEzNjgyNDcuOTg5OTc5OTYsIDEzNzA3ODQuMDA0MDA4MDE2LCAxMzczMzIwLjAxODAzNjA3MjEsIDEzNzU4NTYuMDMyMDY0MTI4MiwgMTM3ODM5Mi4wNDYwOTIxODQzLCAxMzgwOTI4LjA2MDEyMDI0MDYsIDEzODM0NjQuMDc0MTQ4Mjk2NiwgMTM4NjAwMC4wODgxNzYzNTI3LCAxMzg4NTM2LjEwMjIwNDQwODcsIDEzOTEwNzIuMTE2MjMyNDY1LCAxMzkzNjA4LjEzMDI2MDUyMSwgMTM5NjE0NC4xNDQyODg1NzcxLCAxMzk4NjgwLjE1ODMxNjYzMzIsIDE0MDEyMTYuMTcyMzQ0Njg5NSwgMTQwMzc1Mi4xODYzNzI3NDU1LCAxNDA2Mjg4LjIwMDQwMDgwMTYsIDE0MDg4MjQuMjE0NDI4ODU3NywgMTQxMTM2MC4yMjg0NTY5MTM3LCAxNDEzODk2LjI0MjQ4NDk3LCAxNDE2NDMyLjI1NjUxMzAyNiwgMTQxODk2OC4yNzA1NDEwODIxLCAxNDIxNTA0LjI4NDU2OTEzODIsIDE0MjQwNDAuMjk4NTk3MTk0NSwgMTQyNjU3Ni4zMTI2MjUyNTA1LCAxNDI5MTEyLjMyNjY1MzMwNjYsIDE0MzE2NDguMzQwNjgxMzYyNywgMTQzNDE4NC4zNTQ3MDk0MTg3LCAxNDM2NzIwLjM2ODczNzQ3NSwgMTQzOTI1Ni4zODI3NjU1MzEsIDE0NDE3OTIuMzk2NzkzNTg3MSwgMTQ0NDMyOC40MTA4MjE2NDMyLCAxNDQ2ODY0LjQyNDg0OTY5OTUsIDE0NDk0MDAuNDM4ODc3NzU1NSwgMTQ1MTkzNi40NTI5MDU4MTE2LCAxNDU0NDcyLjQ2NjkzMzg2NzcsIDE0NTcwMDguNDgwOTYxOTI0LCAxNDU5NTQ0LjQ5NDk4OTk4LCAxNDYyMDgwLjUwOTAxODAzNiwgMTQ2NDYxNi41MjMwNDYwOTIxLCAxNDY3MTUyLjUzNzA3NDE0ODIsIDE0Njk2ODguNTUxMTAyMjA0NSwgMTQ3MjIyNC41NjUxMzAyNjA1LCAxNDc0NzYwLjU3OTE1ODMxNjYsIDE0NzcyOTYuNTkzMTg2MzcyNywgMTQ3OTgzMi42MDcyMTQ0MjksIDE0ODIzNjguNjIxMjQyNDg1LCAxNDg0OTA0LjYzNTI3MDU0MSwgMTQ4NzQ0MC42NDkyOTg1OTcxLCAxNDg5OTc2LjY2MzMyNjY1MzQsIDE0OTI1MTIuNjc3MzU0NzA5NSwgMTQ5NTA0OC42OTEzODI3NjU1LCAxNDk3NTg0LjcwNTQxMDgyMTYsIDE1MDAxMjAuNzE5NDM4ODc3NywgMTUwMjY1Ni43MzM0NjY5MzQsIDE1MDUxOTIuNzQ3NDk0OTksIDE1MDc3MjguNzYxNTIzMDQ2LCAxNTEwMjY0Ljc3NTU1MTEwMjEsIDE1MTI4MDAuNzg5NTc5MTU4NCwgMTUxNTMzNi44MDM2MDcyMTQ1LCAxNTE3ODcyLjgxNzYzNTI3MDUsIDE1MjA0MDguODMxNjYzMzI2NiwgMTUyMjk0NC44NDU2OTEzODI3LCAxNTI1NDgwLjg1OTcxOTQzOSwgMTUyODAxNi44NzM3NDc0OTUsIDE1MzA1NTIuODg3Nzc1NTUxLCAxNTMzMDg4LjkwMTgwMzYwNzEsIDE1MzU2MjQuOTE1ODMxNjYzNCwgMTUzODE2MC45Mjk4NTk3MTk1LCAxNTQwNjk2Ljk0Mzg4Nzc3NTUsIDE1NDMyMzIuOTU3OTE1ODMxNiwgMTU0NTc2OC45NzE5NDM4ODc5LCAxNTQ4MzA0Ljk4NTk3MTk0NCwgMTU1MDg0MS4wXSkKICAgICAgICAgICAgICAucmFuZ2UoWycjZmZmZmNjZmYnLCAnI2ZmZmZjY2ZmJywgJyNmZmZmY2NmZicsICcjZmZmZmNjZmYnLCAnI2ZmZmZjY2ZmJywgJyNmZmZmY2NmZicsICcjZmZmZmNjZmYnLCAnI2ZmZmZjY2ZmJywgJyNmZmZmY2NmZicsICcjZmZmZmNjZmYnLCAnI2ZmZmZjY2ZmJywgJyNmZmZmY2NmZicsICcjZmZmZmNjZmYnLCAnI2ZmZmZjY2ZmJywgJyNmZmZmY2NmZicsICcjZmZmZmNjZmYnLCAnI2ZmZmZjY2ZmJywgJyNmZmZmY2NmZicsICcjZmZmZmNjZmYnLCAnI2ZmZmZjY2ZmJywgJyNmZmZmY2NmZicsICcjZmZmZmNjZmYnLCAnI2ZmZmZjY2ZmJywgJyNmZmZmY2NmZicsICcjZmZmZmNjZmYnLCAnI2ZmZmZjY2ZmJywgJyNmZmZmY2NmZicsICcjZmZmZmNjZmYnLCAnI2ZmZmZjY2ZmJywgJyNmZmZmY2NmZicsICcjZmZmZmNjZmYnLCAnI2ZmZmZjY2ZmJywgJyNmZmZmY2NmZicsICcjZmZmZmNjZmYnLCAnI2ZmZmZjY2ZmJywgJyNmZmZmY2NmZicsICcjZmZmZmNjZmYnLCAnI2ZmZmZjY2ZmJywgJyNmZmZmY2NmZicsICcjZmZmZmNjZmYnLCAnI2ZmZmZjY2ZmJywgJyNmZmZmY2NmZicsICcjZmZmZmNjZmYnLCAnI2ZmZmZjY2ZmJywgJyNmZmZmY2NmZicsICcjZmZmZmNjZmYnLCAnI2ZmZmZjY2ZmJywgJyNmZmZmY2NmZicsICcjZmZmZmNjZmYnLCAnI2ZmZmZjY2ZmJywgJyNmZmZmY2NmZicsICcjZmZmZmNjZmYnLCAnI2ZmZmZjY2ZmJywgJyNmZmZmY2NmZicsICcjZmZmZmNjZmYnLCAnI2ZmZmZjY2ZmJywgJyNmZmZmY2NmZicsICcjZmZmZmNjZmYnLCAnI2ZmZmZjY2ZmJywgJyNmZmZmY2NmZicsICcjZmZmZmNjZmYnLCAnI2ZmZmZjY2ZmJywgJyNmZmZmY2NmZicsICcjZmZmZmNjZmYnLCAnI2ZmZmZjY2ZmJywgJyNmZmZmY2NmZicsICcjZmZmZmNjZmYnLCAnI2ZmZmZjY2ZmJywgJyNmZmZmY2NmZicsICcjZmZmZmNjZmYnLCAnI2ZmZmZjY2ZmJywgJyNmZmZmY2NmZicsICcjZmZmZmNjZmYnLCAnI2ZmZmZjY2ZmJywgJyNmZmZmY2NmZicsICcjZmZmZmNjZmYnLCAnI2ZmZmZjY2ZmJywgJyNmZmZmY2NmZicsICcjZmZmZmNjZmYnLCAnI2ZmZmZjY2ZmJywgJyNmZmZmY2NmZicsICcjZmZmZmNjZmYnLCAnI2ZmZmZjY2ZmJywgJyNmZmZmY2NmZicsICcjYzdlOWI0ZmYnLCAnI2M3ZTliNGZmJywgJyNjN2U5YjRmZicsICcjYzdlOWI0ZmYnLCAnI2M3ZTliNGZmJywgJyNjN2U5YjRmZicsICcjYzdlOWI0ZmYnLCAnI2M3ZTliNGZmJywgJyNjN2U5YjRmZicsICcjYzdlOWI0ZmYnLCAnI2M3ZTliNGZmJywgJyNjN2U5YjRmZicsICcjYzdlOWI0ZmYnLCAnI2M3ZTliNGZmJywgJyNjN2U5YjRmZicsICcjYzdlOWI0ZmYnLCAnI2M3ZTliNGZmJywgJyNjN2U5YjRmZicsICcjYzdlOWI0ZmYnLCAnI2M3ZTliNGZmJywgJyNjN2U5YjRmZicsICcjYzdlOWI0ZmYnLCAnI2M3ZTliNGZmJywgJyNjN2U5YjRmZicsICcjYzdlOWI0ZmYnLCAnI2M3ZTliNGZmJywgJyNjN2U5YjRmZicsICcjYzdlOWI0ZmYnLCAnI2M3ZTliNGZmJywgJyNjN2U5YjRmZicsICcjYzdlOWI0ZmYnLCAnI2M3ZTliNGZmJywgJyNjN2U5YjRmZicsICcjYzdlOWI0ZmYnLCAnI2M3ZTliNGZmJywgJyNjN2U5YjRmZicsICcjYzdlOWI0ZmYnLCAnI2M3ZTliNGZmJywgJyNjN2U5YjRmZicsICcjYzdlOWI0ZmYnLCAnI2M3ZTliNGZmJywgJyNjN2U5YjRmZicsICcjYzdlOWI0ZmYnLCAnI2M3ZTliNGZmJywgJyNjN2U5YjRmZicsICcjYzdlOWI0ZmYnLCAnI2M3ZTliNGZmJywgJyNjN2U5YjRmZicsICcjYzdlOWI0ZmYnLCAnI2M3ZTliNGZmJywgJyNjN2U5YjRmZicsICcjYzdlOWI0ZmYnLCAnI2M3ZTliNGZmJywgJyNjN2U5YjRmZicsICcjYzdlOWI0ZmYnLCAnI2M3ZTliNGZmJywgJyNjN2U5YjRmZicsICcjYzdlOWI0ZmYnLCAnI2M3ZTliNGZmJywgJyNjN2U5YjRmZicsICcjYzdlOWI0ZmYnLCAnI2M3ZTliNGZmJywgJyNjN2U5YjRmZicsICcjYzdlOWI0ZmYnLCAnI2M3ZTliNGZmJywgJyNjN2U5YjRmZicsICcjYzdlOWI0ZmYnLCAnI2M3ZTliNGZmJywgJyNjN2U5YjRmZicsICcjYzdlOWI0ZmYnLCAnI2M3ZTliNGZmJywgJyNjN2U5YjRmZicsICcjYzdlOWI0ZmYnLCAnI2M3ZTliNGZmJywgJyNjN2U5YjRmZicsICcjYzdlOWI0ZmYnLCAnI2M3ZTliNGZmJywgJyNjN2U5YjRmZicsICcjYzdlOWI0ZmYnLCAnI2M3ZTliNGZmJywgJyNjN2U5YjRmZicsICcjYzdlOWI0ZmYnLCAnI2M3ZTliNGZmJywgJyM3ZmNkYmJmZicsICcjN2ZjZGJiZmYnLCAnIzdmY2RiYmZmJywgJyM3ZmNkYmJmZicsICcjN2ZjZGJiZmYnLCAnIzdmY2RiYmZmJywgJyM3ZmNkYmJmZicsICcjN2ZjZGJiZmYnLCAnIzdmY2RiYmZmJywgJyM3ZmNkYmJmZicsICcjN2ZjZGJiZmYnLCAnIzdmY2RiYmZmJywgJyM3ZmNkYmJmZicsICcjN2ZjZGJiZmYnLCAnIzdmY2RiYmZmJywgJyM3ZmNkYmJmZicsICcjN2ZjZGJiZmYnLCAnIzdmY2RiYmZmJywgJyM3ZmNkYmJmZicsICcjN2ZjZGJiZmYnLCAnIzdmY2RiYmZmJywgJyM3ZmNkYmJmZicsICcjN2ZjZGJiZmYnLCAnIzdmY2RiYmZmJywgJyM3ZmNkYmJmZicsICcjN2ZjZGJiZmYnLCAnIzdmY2RiYmZmJywgJyM3ZmNkYmJmZicsICcjN2ZjZGJiZmYnLCAnIzdmY2RiYmZmJywgJyM3ZmNkYmJmZicsICcjN2ZjZGJiZmYnLCAnIzdmY2RiYmZmJywgJyM3ZmNkYmJmZicsICcjN2ZjZGJiZmYnLCAnIzdmY2RiYmZmJywgJyM3ZmNkYmJmZicsICcjN2ZjZGJiZmYnLCAnIzdmY2RiYmZmJywgJyM3ZmNkYmJmZicsICcjN2ZjZGJiZmYnLCAnIzdmY2RiYmZmJywgJyM3ZmNkYmJmZicsICcjN2ZjZGJiZmYnLCAnIzdmY2RiYmZmJywgJyM3ZmNkYmJmZicsICcjN2ZjZGJiZmYnLCAnIzdmY2RiYmZmJywgJyM3ZmNkYmJmZicsICcjN2ZjZGJiZmYnLCAnIzdmY2RiYmZmJywgJyM3ZmNkYmJmZicsICcjN2ZjZGJiZmYnLCAnIzdmY2RiYmZmJywgJyM3ZmNkYmJmZicsICcjN2ZjZGJiZmYnLCAnIzdmY2RiYmZmJywgJyM3ZmNkYmJmZicsICcjN2ZjZGJiZmYnLCAnIzdmY2RiYmZmJywgJyM3ZmNkYmJmZicsICcjN2ZjZGJiZmYnLCAnIzdmY2RiYmZmJywgJyM3ZmNkYmJmZicsICcjN2ZjZGJiZmYnLCAnIzdmY2RiYmZmJywgJyM3ZmNkYmJmZicsICcjN2ZjZGJiZmYnLCAnIzdmY2RiYmZmJywgJyM3ZmNkYmJmZicsICcjN2ZjZGJiZmYnLCAnIzdmY2RiYmZmJywgJyM3ZmNkYmJmZicsICcjN2ZjZGJiZmYnLCAnIzdmY2RiYmZmJywgJyM3ZmNkYmJmZicsICcjN2ZjZGJiZmYnLCAnIzdmY2RiYmZmJywgJyM3ZmNkYmJmZicsICcjN2ZjZGJiZmYnLCAnIzdmY2RiYmZmJywgJyM3ZmNkYmJmZicsICcjN2ZjZGJiZmYnLCAnIzQxYjZjNGZmJywgJyM0MWI2YzRmZicsICcjNDFiNmM0ZmYnLCAnIzQxYjZjNGZmJywgJyM0MWI2YzRmZicsICcjNDFiNmM0ZmYnLCAnIzQxYjZjNGZmJywgJyM0MWI2YzRmZicsICcjNDFiNmM0ZmYnLCAnIzQxYjZjNGZmJywgJyM0MWI2YzRmZicsICcjNDFiNmM0ZmYnLCAnIzQxYjZjNGZmJywgJyM0MWI2YzRmZicsICcjNDFiNmM0ZmYnLCAnIzQxYjZjNGZmJywgJyM0MWI2YzRmZicsICcjNDFiNmM0ZmYnLCAnIzQxYjZjNGZmJywgJyM0MWI2YzRmZicsICcjNDFiNmM0ZmYnLCAnIzQxYjZjNGZmJywgJyM0MWI2YzRmZicsICcjNDFiNmM0ZmYnLCAnIzQxYjZjNGZmJywgJyM0MWI2YzRmZicsICcjNDFiNmM0ZmYnLCAnIzQxYjZjNGZmJywgJyM0MWI2YzRmZicsICcjNDFiNmM0ZmYnLCAnIzQxYjZjNGZmJywgJyM0MWI2YzRmZicsICcjNDFiNmM0ZmYnLCAnIzQxYjZjNGZmJywgJyM0MWI2YzRmZicsICcjNDFiNmM0ZmYnLCAnIzQxYjZjNGZmJywgJyM0MWI2YzRmZicsICcjNDFiNmM0ZmYnLCAnIzQxYjZjNGZmJywgJyM0MWI2YzRmZicsICcjNDFiNmM0ZmYnLCAnIzQxYjZjNGZmJywgJyM0MWI2YzRmZicsICcjNDFiNmM0ZmYnLCAnIzQxYjZjNGZmJywgJyM0MWI2YzRmZicsICcjNDFiNmM0ZmYnLCAnIzQxYjZjNGZmJywgJyM0MWI2YzRmZicsICcjNDFiNmM0ZmYnLCAnIzQxYjZjNGZmJywgJyM0MWI2YzRmZicsICcjNDFiNmM0ZmYnLCAnIzQxYjZjNGZmJywgJyM0MWI2YzRmZicsICcjNDFiNmM0ZmYnLCAnIzQxYjZjNGZmJywgJyM0MWI2YzRmZicsICcjNDFiNmM0ZmYnLCAnIzQxYjZjNGZmJywgJyM0MWI2YzRmZicsICcjNDFiNmM0ZmYnLCAnIzQxYjZjNGZmJywgJyM0MWI2YzRmZicsICcjNDFiNmM0ZmYnLCAnIzQxYjZjNGZmJywgJyM0MWI2YzRmZicsICcjNDFiNmM0ZmYnLCAnIzQxYjZjNGZmJywgJyM0MWI2YzRmZicsICcjNDFiNmM0ZmYnLCAnIzQxYjZjNGZmJywgJyM0MWI2YzRmZicsICcjNDFiNmM0ZmYnLCAnIzQxYjZjNGZmJywgJyM0MWI2YzRmZicsICcjNDFiNmM0ZmYnLCAnIzQxYjZjNGZmJywgJyM0MWI2YzRmZicsICcjNDFiNmM0ZmYnLCAnIzQxYjZjNGZmJywgJyM0MWI2YzRmZicsICcjMmM3ZmI4ZmYnLCAnIzJjN2ZiOGZmJywgJyMyYzdmYjhmZicsICcjMmM3ZmI4ZmYnLCAnIzJjN2ZiOGZmJywgJyMyYzdmYjhmZicsICcjMmM3ZmI4ZmYnLCAnIzJjN2ZiOGZmJywgJyMyYzdmYjhmZicsICcjMmM3ZmI4ZmYnLCAnIzJjN2ZiOGZmJywgJyMyYzdmYjhmZicsICcjMmM3ZmI4ZmYnLCAnIzJjN2ZiOGZmJywgJyMyYzdmYjhmZicsICcjMmM3ZmI4ZmYnLCAnIzJjN2ZiOGZmJywgJyMyYzdmYjhmZicsICcjMmM3ZmI4ZmYnLCAnIzJjN2ZiOGZmJywgJyMyYzdmYjhmZicsICcjMmM3ZmI4ZmYnLCAnIzJjN2ZiOGZmJywgJyMyYzdmYjhmZicsICcjMmM3ZmI4ZmYnLCAnIzJjN2ZiOGZmJywgJyMyYzdmYjhmZicsICcjMmM3ZmI4ZmYnLCAnIzJjN2ZiOGZmJywgJyMyYzdmYjhmZicsICcjMmM3ZmI4ZmYnLCAnIzJjN2ZiOGZmJywgJyMyYzdmYjhmZicsICcjMmM3ZmI4ZmYnLCAnIzJjN2ZiOGZmJywgJyMyYzdmYjhmZicsICcjMmM3ZmI4ZmYnLCAnIzJjN2ZiOGZmJywgJyMyYzdmYjhmZicsICcjMmM3ZmI4ZmYnLCAnIzJjN2ZiOGZmJywgJyMyYzdmYjhmZicsICcjMmM3ZmI4ZmYnLCAnIzJjN2ZiOGZmJywgJyMyYzdmYjhmZicsICcjMmM3ZmI4ZmYnLCAnIzJjN2ZiOGZmJywgJyMyYzdmYjhmZicsICcjMmM3ZmI4ZmYnLCAnIzJjN2ZiOGZmJywgJyMyYzdmYjhmZicsICcjMmM3ZmI4ZmYnLCAnIzJjN2ZiOGZmJywgJyMyYzdmYjhmZicsICcjMmM3ZmI4ZmYnLCAnIzJjN2ZiOGZmJywgJyMyYzdmYjhmZicsICcjMmM3ZmI4ZmYnLCAnIzJjN2ZiOGZmJywgJyMyYzdmYjhmZicsICcjMmM3ZmI4ZmYnLCAnIzJjN2ZiOGZmJywgJyMyYzdmYjhmZicsICcjMmM3ZmI4ZmYnLCAnIzJjN2ZiOGZmJywgJyMyYzdmYjhmZicsICcjMmM3ZmI4ZmYnLCAnIzJjN2ZiOGZmJywgJyMyYzdmYjhmZicsICcjMmM3ZmI4ZmYnLCAnIzJjN2ZiOGZmJywgJyMyYzdmYjhmZicsICcjMmM3ZmI4ZmYnLCAnIzJjN2ZiOGZmJywgJyMyYzdmYjhmZicsICcjMmM3ZmI4ZmYnLCAnIzJjN2ZiOGZmJywgJyMyYzdmYjhmZicsICcjMmM3ZmI4ZmYnLCAnIzJjN2ZiOGZmJywgJyMyYzdmYjhmZicsICcjMmM3ZmI4ZmYnLCAnIzJjN2ZiOGZmJywgJyMyNTM0OTRmZicsICcjMjUzNDk0ZmYnLCAnIzI1MzQ5NGZmJywgJyMyNTM0OTRmZicsICcjMjUzNDk0ZmYnLCAnIzI1MzQ5NGZmJywgJyMyNTM0OTRmZicsICcjMjUzNDk0ZmYnLCAnIzI1MzQ5NGZmJywgJyMyNTM0OTRmZicsICcjMjUzNDk0ZmYnLCAnIzI1MzQ5NGZmJywgJyMyNTM0OTRmZicsICcjMjUzNDk0ZmYnLCAnIzI1MzQ5NGZmJywgJyMyNTM0OTRmZicsICcjMjUzNDk0ZmYnLCAnIzI1MzQ5NGZmJywgJyMyNTM0OTRmZicsICcjMjUzNDk0ZmYnLCAnIzI1MzQ5NGZmJywgJyMyNTM0OTRmZicsICcjMjUzNDk0ZmYnLCAnIzI1MzQ5NGZmJywgJyMyNTM0OTRmZicsICcjMjUzNDk0ZmYnLCAnIzI1MzQ5NGZmJywgJyMyNTM0OTRmZicsICcjMjUzNDk0ZmYnLCAnIzI1MzQ5NGZmJywgJyMyNTM0OTRmZicsICcjMjUzNDk0ZmYnLCAnIzI1MzQ5NGZmJywgJyMyNTM0OTRmZicsICcjMjUzNDk0ZmYnLCAnIzI1MzQ5NGZmJywgJyMyNTM0OTRmZicsICcjMjUzNDk0ZmYnLCAnIzI1MzQ5NGZmJywgJyMyNTM0OTRmZicsICcjMjUzNDk0ZmYnLCAnIzI1MzQ5NGZmJywgJyMyNTM0OTRmZicsICcjMjUzNDk0ZmYnLCAnIzI1MzQ5NGZmJywgJyMyNTM0OTRmZicsICcjMjUzNDk0ZmYnLCAnIzI1MzQ5NGZmJywgJyMyNTM0OTRmZicsICcjMjUzNDk0ZmYnLCAnIzI1MzQ5NGZmJywgJyMyNTM0OTRmZicsICcjMjUzNDk0ZmYnLCAnIzI1MzQ5NGZmJywgJyMyNTM0OTRmZicsICcjMjUzNDk0ZmYnLCAnIzI1MzQ5NGZmJywgJyMyNTM0OTRmZicsICcjMjUzNDk0ZmYnLCAnIzI1MzQ5NGZmJywgJyMyNTM0OTRmZicsICcjMjUzNDk0ZmYnLCAnIzI1MzQ5NGZmJywgJyMyNTM0OTRmZicsICcjMjUzNDk0ZmYnLCAnIzI1MzQ5NGZmJywgJyMyNTM0OTRmZicsICcjMjUzNDk0ZmYnLCAnIzI1MzQ5NGZmJywgJyMyNTM0OTRmZicsICcjMjUzNDk0ZmYnLCAnIzI1MzQ5NGZmJywgJyMyNTM0OTRmZicsICcjMjUzNDk0ZmYnLCAnIzI1MzQ5NGZmJywgJyMyNTM0OTRmZicsICcjMjUzNDk0ZmYnLCAnIzI1MzQ5NGZmJywgJyMyNTM0OTRmZicsICcjMjUzNDk0ZmYnLCAnIzI1MzQ5NGZmJywgJyMyNTM0OTRmZicsICcjMjUzNDk0ZmYnLCAnIzI1MzQ5NGZmJ10pOwogICAgCgogICAgY29sb3JfbWFwX2E0YWM5ODliZDJkZTQ5Y2ZiNjJiZWNkYjRiZTMwNGU0LnggPSBkMy5zY2FsZS5saW5lYXIoKQogICAgICAgICAgICAgIC5kb21haW4oWzI4NTM3MC4wLCAxNTUwODQxLjBdKQogICAgICAgICAgICAgIC5yYW5nZShbMCwgNDAwXSk7CgogICAgY29sb3JfbWFwX2E0YWM5ODliZDJkZTQ5Y2ZiNjJiZWNkYjRiZTMwNGU0LmxlZ2VuZCA9IEwuY29udHJvbCh7cG9zaXRpb246ICd0b3ByaWdodCd9KTsKICAgIGNvbG9yX21hcF9hNGFjOTg5YmQyZGU0OWNmYjYyYmVjZGI0YmUzMDRlNC5sZWdlbmQub25BZGQgPSBmdW5jdGlvbiAobWFwKSB7dmFyIGRpdiA9IEwuRG9tVXRpbC5jcmVhdGUoJ2RpdicsICdsZWdlbmQnKTsgcmV0dXJuIGRpdn07CiAgICBjb2xvcl9tYXBfYTRhYzk4OWJkMmRlNDljZmI2MmJlY2RiNGJlMzA0ZTQubGVnZW5kLmFkZFRvKG1hcF83YTYzNDZhNzkxYTc0NDNlOGY4MjAzOWU0ZWRlMjk5Myk7CgogICAgY29sb3JfbWFwX2E0YWM5ODliZDJkZTQ5Y2ZiNjJiZWNkYjRiZTMwNGU0LnhBeGlzID0gZDMuc3ZnLmF4aXMoKQogICAgICAgIC5zY2FsZShjb2xvcl9tYXBfYTRhYzk4OWJkMmRlNDljZmI2MmJlY2RiNGJlMzA0ZTQueCkKICAgICAgICAub3JpZW50KCJ0b3AiKQogICAgICAgIC50aWNrU2l6ZSgxKQogICAgICAgIC50aWNrVmFsdWVzKFsyODUzNzAuMCwgNDk2MjgxLjgzMzMzMzMzMzQsIDcwNzE5My42NjY2NjY2NjY3LCA5MTgxMDUuNSwgMTEyOTAxNy4zMzMzMzMzMzM1LCAxMzM5OTI5LjE2NjY2NjY2NjcsIDE1NTA4NDEuMF0pOwoKICAgIGNvbG9yX21hcF9hNGFjOTg5YmQyZGU0OWNmYjYyYmVjZGI0YmUzMDRlNC5zdmcgPSBkMy5zZWxlY3QoIi5sZWdlbmQubGVhZmxldC1jb250cm9sIikuYXBwZW5kKCJzdmciKQogICAgICAgIC5hdHRyKCJpZCIsICdsZWdlbmQnKQogICAgICAgIC5hdHRyKCJ3aWR0aCIsIDQ1MCkKICAgICAgICAuYXR0cigiaGVpZ2h0IiwgNDApOwoKICAgIGNvbG9yX21hcF9hNGFjOTg5YmQyZGU0OWNmYjYyYmVjZGI0YmUzMDRlNC5nID0gY29sb3JfbWFwX2E0YWM5ODliZDJkZTQ5Y2ZiNjJiZWNkYjRiZTMwNGU0LnN2Zy5hcHBlbmQoImciKQogICAgICAgIC5hdHRyKCJjbGFzcyIsICJrZXkiKQogICAgICAgIC5hdHRyKCJ0cmFuc2Zvcm0iLCAidHJhbnNsYXRlKDI1LDE2KSIpOwoKICAgIGNvbG9yX21hcF9hNGFjOTg5YmQyZGU0OWNmYjYyYmVjZGI0YmUzMDRlNC5nLnNlbGVjdEFsbCgicmVjdCIpCiAgICAgICAgLmRhdGEoY29sb3JfbWFwX2E0YWM5ODliZDJkZTQ5Y2ZiNjJiZWNkYjRiZTMwNGU0LmNvbG9yLnJhbmdlKCkubWFwKGZ1bmN0aW9uKGQsIGkpIHsKICAgICAgICAgIHJldHVybiB7CiAgICAgICAgICAgIHgwOiBpID8gY29sb3JfbWFwX2E0YWM5ODliZDJkZTQ5Y2ZiNjJiZWNkYjRiZTMwNGU0LngoY29sb3JfbWFwX2E0YWM5ODliZDJkZTQ5Y2ZiNjJiZWNkYjRiZTMwNGU0LmNvbG9yLmRvbWFpbigpW2kgLSAxXSkgOiBjb2xvcl9tYXBfYTRhYzk4OWJkMmRlNDljZmI2MmJlY2RiNGJlMzA0ZTQueC5yYW5nZSgpWzBdLAogICAgICAgICAgICB4MTogaSA8IGNvbG9yX21hcF9hNGFjOTg5YmQyZGU0OWNmYjYyYmVjZGI0YmUzMDRlNC5jb2xvci5kb21haW4oKS5sZW5ndGggPyBjb2xvcl9tYXBfYTRhYzk4OWJkMmRlNDljZmI2MmJlY2RiNGJlMzA0ZTQueChjb2xvcl9tYXBfYTRhYzk4OWJkMmRlNDljZmI2MmJlY2RiNGJlMzA0ZTQuY29sb3IuZG9tYWluKClbaV0pIDogY29sb3JfbWFwX2E0YWM5ODliZDJkZTQ5Y2ZiNjJiZWNkYjRiZTMwNGU0LngucmFuZ2UoKVsxXSwKICAgICAgICAgICAgejogZAogICAgICAgICAgfTsKICAgICAgICB9KSkKICAgICAgLmVudGVyKCkuYXBwZW5kKCJyZWN0IikKICAgICAgICAuYXR0cigiaGVpZ2h0IiwgMTApCiAgICAgICAgLmF0dHIoIngiLCBmdW5jdGlvbihkKSB7IHJldHVybiBkLngwOyB9KQogICAgICAgIC5hdHRyKCJ3aWR0aCIsIGZ1bmN0aW9uKGQpIHsgcmV0dXJuIGQueDEgLSBkLngwOyB9KQogICAgICAgIC5zdHlsZSgiZmlsbCIsIGZ1bmN0aW9uKGQpIHsgcmV0dXJuIGQuejsgfSk7CgogICAgY29sb3JfbWFwX2E0YWM5ODliZDJkZTQ5Y2ZiNjJiZWNkYjRiZTMwNGU0LmcuY2FsbChjb2xvcl9tYXBfYTRhYzk4OWJkMmRlNDljZmI2MmJlY2RiNGJlMzA0ZTQueEF4aXMpLmFwcGVuZCgidGV4dCIpCiAgICAgICAgLmF0dHIoImNsYXNzIiwgImNhcHRpb24iKQogICAgICAgIC5hdHRyKCJ5IiwgMjEpCiAgICAgICAgLnRleHQoJycpOwogICAgCiAgICAgICAgICAgIHZhciBtYXJrZXJfY2x1c3Rlcl8zMzFjNjQ4ZWFkYzU0YzkzODgyMGU1OTNhY2MyNmZlMiA9IEwubWFya2VyQ2x1c3Rlckdyb3VwKAogICAgICAgICAgICAgICAge30KICAgICAgICAgICAgKTsKICAgICAgICAgICAgbWFwXzdhNjM0NmE3OTFhNzQ0M2U4ZjgyMDM5ZTRlZGUyOTkzLmFkZExheWVyKG1hcmtlcl9jbHVzdGVyXzMzMWM2NDhlYWRjNTRjOTM4ODIwZTU5M2FjYzI2ZmUyKTsKICAgICAgICAKICAgIAogICAgICAgICAgICB2YXIgbWFya2VyX2E5NzIyNWU1YzRiMzRmMjU5ZjdjZDk2OTlmNmNjZGFlID0gTC5tYXJrZXIoCiAgICAgICAgICAgICAgICBbMzcuNTYxNDg5LCAxMjcuMDIzOTMzXSwKICAgICAgICAgICAgICAgIHt9CiAgICAgICAgICAgICkuYWRkVG8obWFya2VyX2NsdXN0ZXJfMzMxYzY0OGVhZGM1NGM5Mzg4MjBlNTkzYWNjMjZmZTIpOwogICAgICAgIAogICAgCiAgICAgICAgICAgIHZhciBtYXJrZXJfYjRjNjJmYzgyZjk1NGQ3MmI1MzdhMWZiYTlhMzc1MGEgPSBMLm1hcmtlcigKICAgICAgICAgICAgICAgIFszNy41Nzk0NiwgMTI2LjkxNzEzXSwKICAgICAgICAgICAgICAgIHt9CiAgICAgICAgICAgICkuYWRkVG8obWFya2VyX2NsdXN0ZXJfMzMxYzY0OGVhZGM1NGM5Mzg4MjBlNTkzYWNjMjZmZTIpOwogICAgICAgIAogICAgCiAgICAgICAgICAgIHZhciBtYXJrZXJfOTA5ZTVhYTdiZTc4NGE4OGIzZWIwZjc4NTk4YjBiM2YgPSBMLm1hcmtlcigKICAgICAgICAgICAgICAgIFszNy40NTg1NDksIDEyNy4wNTU4ODVdLAogICAgICAgICAgICAgICAge30KICAgICAgICAgICAgKS5hZGRUbyhtYXJrZXJfY2x1c3Rlcl8zMzFjNjQ4ZWFkYzU0YzkzODgyMGU1OTNhY2MyNmZlMik7CiAgICAgICAgCiAgICAKICAgICAgICAgICAgdmFyIG1hcmtlcl9mNTE4NGZiYTlmZWI0NjliOWRmMTQwNDhkODI0N2FkMCA9IEwubWFya2VyKAogICAgICAgICAgICAgICAgWzM3LjU2MTc5LCAxMjcuMDI0MzkxXSwKICAgICAgICAgICAgICAgIHt9CiAgICAgICAgICAgICkuYWRkVG8obWFya2VyX2NsdXN0ZXJfMzMxYzY0OGVhZGM1NGM5Mzg4MjBlNTkzYWNjMjZmZTIpOwogICAgICAgIAogICAgCiAgICAgICAgICAgIHZhciBtYXJrZXJfYjRjMzgzMjNlMDUxNGVjZTk4YjJiNWQ5NjYyODM5N2QgPSBMLm1hcmtlcigKICAgICAgICAgICAgICAgIFszNy41OTQ0MDIsIDEyNi45OTIzMV0sCiAgICAgICAgICAgICAgICB7fQogICAgICAgICAgICApLmFkZFRvKG1hcmtlcl9jbHVzdGVyXzMzMWM2NDhlYWRjNTRjOTM4ODIwZTU5M2FjYzI2ZmUyKTsKICAgICAgICAKICAgIAogICAgICAgICAgICB2YXIgbWFya2VyX2Q5YzFlM2IyZTBmZjRiYmRiOTMyNTE0M2E5Mjk4ZTYxID0gTC5tYXJrZXIoCiAgICAgICAgICAgICAgICBbMzcuNTU0Nzc5LCAxMjcuMDI0ODQxXSwKICAgICAgICAgICAgICAgIHt9CiAgICAgICAgICAgICkuYWRkVG8obWFya2VyX2NsdXN0ZXJfMzMxYzY0OGVhZGM1NGM5Mzg4MjBlNTkzYWNjMjZmZTIpOwogICAgICAgIAogICAgCiAgICAgICAgICAgIHZhciBtYXJrZXJfYjg4NzQxODIyMWIwNDE4ZmIxZjJmNDA2MGI2YTY0MmUgPSBMLm1hcmtlcigKICAgICAgICAgICAgICAgIFszNy40NzUxODIsIDEyNy4wMDEzODldLAogICAgICAgICAgICAgICAge30KICAgICAgICAgICAgKS5hZGRUbyhtYXJrZXJfY2x1c3Rlcl8zMzFjNjQ4ZWFkYzU0YzkzODgyMGU1OTNhY2MyNmZlMik7CiAgICAgICAgCiAgICAKICAgICAgICAgICAgdmFyIG1hcmtlcl8xZDk2YjE3ZWQ3NDc0Y2JlYTliNWE4NjNjZmQwYjc1NyA9IEwubWFya2VyKAogICAgICAgICAgICAgICAgWzM3LjU1MDQ4OCwgMTI3LjEwODk1NV0sCiAgICAgICAgICAgICAgICB7fQogICAgICAgICAgICApLmFkZFRvKG1hcmtlcl9jbHVzdGVyXzMzMWM2NDhlYWRjNTRjOTM4ODIwZTU5M2FjYzI2ZmUyKTsKICAgICAgICAKICAgIAogICAgICAgICAgICB2YXIgbWFya2VyXzgxZjhjYzI3ODk1ZTQwYjhiMTYxY2UwMzhlOTc1NWJlID0gTC5tYXJrZXIoCiAgICAgICAgICAgICAgICBbMzcuNDc3MjAzLCAxMjcuMDA1ODM2XSwKICAgICAgICAgICAgICAgIHt9CiAgICAgICAgICAgICkuYWRkVG8obWFya2VyX2NsdXN0ZXJfMzMxYzY0OGVhZGM1NGM5Mzg4MjBlNTkzYWNjMjZmZTIpOwogICAgICAgIAogICAgCiAgICAgICAgICAgIHZhciBtYXJrZXJfNDliNWI1YTllOTBlNDQ1NjhmZmI0OTY3OTY5NDA2N2EgPSBMLm1hcmtlcigKICAgICAgICAgICAgICAgIFszNy40NjQyOTgsIDEyNi45ODg1MjVdLAogICAgICAgICAgICAgICAge30KICAgICAgICAgICAgKS5hZGRUbyhtYXJrZXJfY2x1c3Rlcl8zMzFjNjQ4ZWFkYzU0YzkzODgyMGU1OTNhY2MyNmZlMik7CiAgICAgICAgCiAgICAKICAgICAgICAgICAgdmFyIG1hcmtlcl9lNGEzMGUzN2YxZjk0MzYzODlhNGI1OGY2M2RjMWRhMCA9IEwubWFya2VyKAogICAgICAgICAgICAgICAgWzM3LjU4MjU2MSwgMTI3LjA1NDM2N10sCiAgICAgICAgICAgICAgICB7fQogICAgICAgICAgICApLmFkZFRvKG1hcmtlcl9jbHVzdGVyXzMzMWM2NDhlYWRjNTRjOTM4ODIwZTU5M2FjYzI2ZmUyKTsKICAgICAgICAKICAgIAogICAgICAgICAgICB2YXIgbWFya2VyX2ZhZmIzOWQ5ZDM4ZDQ0YWM5ZDc1YzJiZDQ2NDU1ZmVlID0gTC5tYXJrZXIoCiAgICAgICAgICAgICAgICBbMzcuNTc3NzgyLCAxMjcuMDkwMTg3XSwKICAgICAgICAgICAgICAgIHt9CiAgICAgICAgICAgICkuYWRkVG8obWFya2VyX2NsdXN0ZXJfMzMxYzY0OGVhZGM1NGM5Mzg4MjBlNTkzYWNjMjZmZTIpOwogICAgICAgIAogICAgCiAgICAgICAgICAgIHZhciBtYXJrZXJfNGQxZWExNzEwZGQ5NDVhMmFiZDIzNTk5YTdmZTdjYTkgPSBMLm1hcmtlcigKICAgICAgICAgICAgICAgIFszNy42MDg0OTEsIDEyNy4wMDY4OTJdLAogICAgICAgICAgICAgICAge30KICAgICAgICAgICAgKS5hZGRUbyhtYXJrZXJfY2x1c3Rlcl8zMzFjNjQ4ZWFkYzU0YzkzODgyMGU1OTNhY2MyNmZlMik7CiAgICAgICAgCiAgICAKICAgICAgICAgICAgdmFyIG1hcmtlcl8zOGJlYWZkMWVjMWU0ZjM1YWY1NmEyZTg5OTNjZWI3ZSA9IEwubWFya2VyKAogICAgICAgICAgICAgICAgWzM3LjU1NjAwNCwgMTI2Ljk0MjI5OV0sCiAgICAgICAgICAgICAgICB7fQogICAgICAgICAgICApLmFkZFRvKG1hcmtlcl9jbHVzdGVyXzMzMWM2NDhlYWRjNTRjOTM4ODIwZTU5M2FjYzI2ZmUyKTsKICAgICAgICAKICAgIAogICAgICAgICAgICB2YXIgbWFya2VyX2E0M2JhMjc2ZjEzZDRlNWZhMGI2OWE5ZjA4YTcwNjM0ID0gTC5tYXJrZXIoCiAgICAgICAgICAgICAgICBbMzcuNTE0NzQ4LCAxMjcuMDM1MTMzXSwKICAgICAgICAgICAgICAgIHt9CiAgICAgICAgICAgICkuYWRkVG8obWFya2VyX2NsdXN0ZXJfMzMxYzY0OGVhZGM1NGM5Mzg4MjBlNTkzYWNjMjZmZTIpOwogICAgICAgIAogICAgCiAgICAgICAgICAgIHZhciBtYXJrZXJfNTc0MzJkMzIyYTkxNGJmNThlOTc1YTJkYzg2MjBhYmMgPSBMLm1hcmtlcigKICAgICAgICAgICAgICAgIFszNy41MTc3NzMsIDEyNy4wNDMwMjJdLAogICAgICAgICAgICAgICAge30KICAgICAgICAgICAgKS5hZGRUbyhtYXJrZXJfY2x1c3Rlcl8zMzFjNjQ4ZWFkYzU0YzkzODgyMGU1OTNhY2MyNmZlMik7CiAgICAgICAgCiAgICAKICAgICAgICAgICAgdmFyIG1hcmtlcl9lZTEzMWU1N2M4NjA0ZjVjODYwZWI5OTYxMGVkNmVhZSA9IEwubWFya2VyKAogICAgICAgICAgICAgICAgWzM3LjU5NzE0OSwgMTI2LjkzODUzXSwKICAgICAgICAgICAgICAgIHt9CiAgICAgICAgICAgICkuYWRkVG8obWFya2VyX2NsdXN0ZXJfMzMxYzY0OGVhZGM1NGM5Mzg4MjBlNTkzYWNjMjZmZTIpOwogICAgICAgIAogICAgCiAgICAgICAgICAgIHZhciBtYXJrZXJfOGViODNkMzE2ZmRmNDlhZDgzODcwY2Y2OGZkOTBlNTggPSBMLm1hcmtlcigKICAgICAgICAgICAgICAgIFszNy40ODY1MjYsIDEyNi45ODkxNjZdLAogICAgICAgICAgICAgICAge30KICAgICAgICAgICAgKS5hZGRUbyhtYXJrZXJfY2x1c3Rlcl8zMzFjNjQ4ZWFkYzU0YzkzODgyMGU1OTNhY2MyNmZlMik7CiAgICAgICAgCiAgICAKICAgICAgICAgICAgdmFyIG1hcmtlcl82NWI0MjEzNGVhYTQ0OTllYWI2ZjczZTNiZTEzOTMxNiA9IEwubWFya2VyKAogICAgICAgICAgICAgICAgWzM3LjUxNzA1OSwgMTI2Ljg0ODQ4OF0sCiAgICAgICAgICAgICAgICB7fQogICAgICAgICAgICApLmFkZFRvKG1hcmtlcl9jbHVzdGVyXzMzMWM2NDhlYWRjNTRjOTM4ODIwZTU5M2FjYzI2ZmUyKTsKICAgICAgICAKICAgIAogICAgICAgICAgICB2YXIgbWFya2VyX2YwZjgyNzBiODYxNjQ2NjNhZjRkMGUwYjJlZGY0MGY4ID0gTC5tYXJrZXIoCiAgICAgICAgICAgICAgICBbMzcuNTY1MjY5LCAxMjYuOTQ2MjQzXSwKICAgICAgICAgICAgICAgIHt9CiAgICAgICAgICAgICkuYWRkVG8obWFya2VyX2NsdXN0ZXJfMzMxYzY0OGVhZGM1NGM5Mzg4MjBlNTkzYWNjMjZmZTIpOwogICAgICAgIAogICAgCiAgICAgICAgICAgIHZhciBtYXJrZXJfMDE4OTQ3NThiMDNlNGZjNzk5OTczODI3ZjdhMjM2YmEgPSBMLm1hcmtlcigKICAgICAgICAgICAgICAgIFszNy41MTI1MjcsIDEyNy4wMzU4MzVdLAogICAgICAgICAgICAgICAge30KICAgICAgICAgICAgKS5hZGRUbyhtYXJrZXJfY2x1c3Rlcl8zMzFjNjQ4ZWFkYzU0YzkzODgyMGU1OTNhY2MyNmZlMik7CiAgICAgICAgCiAgICAKICAgICAgICAgICAgdmFyIG1hcmtlcl8xYzA4YzAxMDE2Yjg0NzQ2Yjc4ZjM2ZTFiOGJmZDM1MiA9IEwubWFya2VyKAogICAgICAgICAgICAgICAgWzM3LjYyMDA5OCwgMTI3LjEwNjQ2MV0sCiAgICAgICAgICAgICAgICB7fQogICAgICAgICAgICApLmFkZFRvKG1hcmtlcl9jbHVzdGVyXzMzMWM2NDhlYWRjNTRjOTM4ODIwZTU5M2FjYzI2ZmUyKTsKICAgICAgICAKICAgIAogICAgICAgICAgICB2YXIgbWFya2VyXzFiZjAzODQzNGU4ZTRiODFiN2ZkMTc3MzJlOTE1YTcyID0gTC5tYXJrZXIoCiAgICAgICAgICAgICAgICBbMzcuNTkzNDc5LCAxMjYuOTIzMTg3XSwKICAgICAgICAgICAgICAgIHt9CiAgICAgICAgICAgICkuYWRkVG8obWFya2VyX2NsdXN0ZXJfMzMxYzY0OGVhZGM1NGM5Mzg4MjBlNTkzYWNjMjZmZTIpOwogICAgICAgIAogICAgCiAgICAgICAgICAgIHZhciBtYXJrZXJfMDUxM2I2NTRlZTY0NDM5ZjgwMTgwNzM2ODk4MzNiYmYgPSBMLm1hcmtlcigKICAgICAgICAgICAgICAgIFszNy41NDM2NjMsIDEyNy4wMTQwNjFdLAogICAgICAgICAgICAgICAge30KICAgICAgICAgICAgKS5hZGRUbyhtYXJrZXJfY2x1c3Rlcl8zMzFjNjQ4ZWFkYzU0YzkzODgyMGU1OTNhY2MyNmZlMik7CiAgICAgICAgCiAgICAKICAgICAgICAgICAgdmFyIG1hcmtlcl81Mjc4NWIyZDBmYmY0MzA0YWU2NTNhZmQ3YmRlZWUxMyA9IEwubWFya2VyKAogICAgICAgICAgICAgICAgWzM3LjUxODYzOSwgMTI3LjAzNTRdLAogICAgICAgICAgICAgICAge30KICAgICAgICAgICAgKS5hZGRUbyhtYXJrZXJfY2x1c3Rlcl8zMzFjNjQ4ZWFkYzU0YzkzODgyMGU1OTNhY2MyNmZlMik7CiAgICAgICAgCiAgICAKICAgICAgICAgICAgdmFyIG1hcmtlcl9jMzA4MWU3MmNhZmY0MzAxOGIxN2MzMTk2ZjI0NmVhYiA9IEwubWFya2VyKAogICAgICAgICAgICAgICAgWzM3LjUxNzU5LCAxMjcuMDM1MDI3XSwKICAgICAgICAgICAgICAgIHt9CiAgICAgICAgICAgICkuYWRkVG8obWFya2VyX2NsdXN0ZXJfMzMxYzY0OGVhZGM1NGM5Mzg4MjBlNTkzYWNjMjZmZTIpOwogICAgICAgIAogICAgCiAgICAgICAgICAgIHZhciBtYXJrZXJfOWVlZTMxYzA3NGQwNDlkZmEwY2NkZGMzN2M1MGI1YTAgPSBMLm1hcmtlcigKICAgICAgICAgICAgICAgIFszNy41ODY5OTQsIDEyNi45MjI4ODJdLAogICAgICAgICAgICAgICAge30KICAgICAgICAgICAgKS5hZGRUbyhtYXJrZXJfY2x1c3Rlcl8zMzFjNjQ4ZWFkYzU0YzkzODgyMGU1OTNhY2MyNmZlMik7CiAgICAgICAgCiAgICAKICAgICAgICAgICAgdmFyIG1hcmtlcl9jMGJmMWY0YjI4MGY0MjFjODE5YWYxODJjNjZiMzAxOCA9IEwubWFya2VyKAogICAgICAgICAgICAgICAgWzM3LjUxODcxMSwgMTI3LjA1MDg1XSwKICAgICAgICAgICAgICAgIHt9CiAgICAgICAgICAgICkuYWRkVG8obWFya2VyX2NsdXN0ZXJfMzMxYzY0OGVhZGM1NGM5Mzg4MjBlNTkzYWNjMjZmZTIpOwogICAgICAgIAogICAgCiAgICAgICAgICAgIHZhciBtYXJrZXJfODhlMmVmYzdlZjQ0NGFkNmJjODNkNmZmNDJmZWM0YzcgPSBMLm1hcmtlcigKICAgICAgICAgICAgICAgIFszNy42NDQ2MywgMTI3LjA0NDYwOV0sCiAgICAgICAgICAgICAgICB7fQogICAgICAgICAgICApLmFkZFRvKG1hcmtlcl9jbHVzdGVyXzMzMWM2NDhlYWRjNTRjOTM4ODIwZTU5M2FjYzI2ZmUyKTsKICAgICAgICAKICAgIAogICAgICAgICAgICB2YXIgbWFya2VyX2U1ODcyZWVkMzdkNDQyMTFiYzAwYjlkMDUxZDcyYzMzID0gTC5tYXJrZXIoCiAgICAgICAgICAgICAgICBbMzcuNTczNTg5LCAxMjcuMDg2ODIzXSwKICAgICAgICAgICAgICAgIHt9CiAgICAgICAgICAgICkuYWRkVG8obWFya2VyX2NsdXN0ZXJfMzMxYzY0OGVhZGM1NGM5Mzg4MjBlNTkzYWNjMjZmZTIpOwogICAgICAgIAogICAgCiAgICAgICAgICAgIHZhciBtYXJrZXJfNzM5MTdjMTNhMWRhNDExNGFmMzZmZTBiYWFiNTllZmMgPSBMLm1hcmtlcigKICAgICAgICAgICAgICAgIFszNy41OTQ1NCwgMTI2Ljk5NTIwOV0sCiAgICAgICAgICAgICAgICB7fQogICAgICAgICAgICApLmFkZFRvKG1hcmtlcl9jbHVzdGVyXzMzMWM2NDhlYWRjNTRjOTM4ODIwZTU5M2FjYzI2ZmUyKTsKICAgICAgICAKICAgIAogICAgICAgICAgICB2YXIgbWFya2VyX2IxOGIyMDVkYzc5MDRhYzBiMjlhMzMyZWY3NmJkZWRmID0gTC5tYXJrZXIoCiAgICAgICAgICAgICAgICBbMzcuNTc1NjY1LCAxMjYuODk0NDQ3XSwKICAgICAgICAgICAgICAgIHt9CiAgICAgICAgICAgICkuYWRkVG8obWFya2VyX2NsdXN0ZXJfMzMxYzY0OGVhZGM1NGM5Mzg4MjBlNTkzYWNjMjZmZTIpOwogICAgICAgIAogICAgCiAgICAgICAgICAgIHZhciBtYXJrZXJfNjU5OTQ2OGE0NGE0NDBlN2IxYTcxMTAwMzI0NjJjMzYgPSBMLm1hcmtlcigKICAgICAgICAgICAgICAgIFszNy42MzQxNCwgMTI2LjkzMjM0M10sCiAgICAgICAgICAgICAgICB7fQogICAgICAgICAgICApLmFkZFRvKG1hcmtlcl9jbHVzdGVyXzMzMWM2NDhlYWRjNTRjOTM4ODIwZTU5M2FjYzI2ZmUyKTsKICAgICAgICAKICAgIAogICAgICAgICAgICB2YXIgbWFya2VyXzBiNTI4OWViZGJmNTRmMDM4NDkzMzcwMjdjODNmYjdhID0gTC5tYXJrZXIoCiAgICAgICAgICAgICAgICBbMzcuNTI0MzM0LCAxMjYuODUwNTQ4XSwKICAgICAgICAgICAgICAgIHt9CiAgICAgICAgICAgICkuYWRkVG8obWFya2VyX2NsdXN0ZXJfMzMxYzY0OGVhZGM1NGM5Mzg4MjBlNTkzYWNjMjZmZTIpOwogICAgICAgIAogICAgCiAgICAgICAgICAgIHZhciBtYXJrZXJfYWMzYmM1ZmI2ZmZjNDVlYzkwMzNiM2NjMjI0NjIyNzYgPSBMLm1hcmtlcigKICAgICAgICAgICAgICAgIFszNy41NTY1OTEsIDEyNi45NDYxOV0sCiAgICAgICAgICAgICAgICB7fQogICAgICAgICAgICApLmFkZFRvKG1hcmtlcl9jbHVzdGVyXzMzMWM2NDhlYWRjNTRjOTM4ODIwZTU5M2FjYzI2ZmUyKTsKICAgICAgICAKICAgIAogICAgICAgICAgICB2YXIgbWFya2VyX2FmY2ZjYjA0OGQ3YTRiYzNhODAyOTE5NmJlNjgxODA0ID0gTC5tYXJrZXIoCiAgICAgICAgICAgICAgICBbMzcuNTkyNjE3LCAxMjYuOTk3OTMyXSwKICAgICAgICAgICAgICAgIHt9CiAgICAgICAgICAgICkuYWRkVG8obWFya2VyX2NsdXN0ZXJfMzMxYzY0OGVhZGM1NGM5Mzg4MjBlNTkzYWNjMjZmZTIpOwogICAgICAgIAogICAgCiAgICAgICAgICAgIHZhciBtYXJrZXJfNmM0MDFiZjZmMWE0NGMzMDlkMjUwZTczZGQxODhlNDggPSBMLm1hcmtlcigKICAgICAgICAgICAgICAgIFszNy40Njc0MDMsIDEyNi45MDgxNDJdLAogICAgICAgICAgICAgICAge30KICAgICAgICAgICAgKS5hZGRUbyhtYXJrZXJfY2x1c3Rlcl8zMzFjNjQ4ZWFkYzU0YzkzODgyMGU1OTNhY2MyNmZlMik7CiAgICAgICAgCiAgICAKICAgICAgICAgICAgdmFyIG1hcmtlcl9lZWQ3YzFmOGM4Njk0Yjk2YjcxMDdlZmVkOGFjZGZmZCA9IEwubWFya2VyKAogICAgICAgICAgICAgICAgWzM3LjQ4ODg2OSwgMTI2Ljk3MTkwOV0sCiAgICAgICAgICAgICAgICB7fQogICAgICAgICAgICApLmFkZFRvKG1hcmtlcl9jbHVzdGVyXzMzMWM2NDhlYWRjNTRjOTM4ODIwZTU5M2FjYzI2ZmUyKTsKICAgICAgICAKICAgIAogICAgICAgICAgICB2YXIgbWFya2VyX2Y2Yzg2OTRhMGRiNTRlZjQ4OTI4NDNhNzRiZDBkMWI3ID0gTC5tYXJrZXIoCiAgICAgICAgICAgICAgICBbMzcuNjM3MjIyLCAxMjYuOTMzMzA0XSwKICAgICAgICAgICAgICAgIHt9CiAgICAgICAgICAgICkuYWRkVG8obWFya2VyX2NsdXN0ZXJfMzMxYzY0OGVhZGM1NGM5Mzg4MjBlNTkzYWNjMjZmZTIpOwogICAgICAgIAogICAgCiAgICAgICAgICAgIHZhciBtYXJrZXJfOTI5NzVhNWQyMDU3NDg5NDliMGRhMjVmZDI5NDVmNGIgPSBMLm1hcmtlcigKICAgICAgICAgICAgICAgIFszNy41MTYxOTcsIDEyNi44MzQ5XSwKICAgICAgICAgICAgICAgIHt9CiAgICAgICAgICAgICkuYWRkVG8obWFya2VyX2NsdXN0ZXJfMzMxYzY0OGVhZGM1NGM5Mzg4MjBlNTkzYWNjMjZmZTIpOwogICAgICAgIAogICAgCiAgICAgICAgICAgIHZhciBtYXJrZXJfZjFiYjc2Y2RlMWNhNGZiYWFmMjJhYWYxM2U1MDU5NWIgPSBMLm1hcmtlcigKICAgICAgICAgICAgICAgIFszNy40NTU2MiwgMTI3LjA2NzEwMV0sCiAgICAgICAgICAgICAgICB7fQogICAgICAgICAgICApLmFkZFRvKG1hcmtlcl9jbHVzdGVyXzMzMWM2NDhlYWRjNTRjOTM4ODIwZTU5M2FjYzI2ZmUyKTsKICAgICAgICAKICAgIAogICAgICAgICAgICB2YXIgbWFya2VyXzk5MjFlMDc2NDNmODRhODM5ZjJiYjUyNWU1ZWJjMWQ3ID0gTC5tYXJrZXIoCiAgICAgICAgICAgICAgICBbMzcuNTIxMzYyLCAxMjYuOTIzNDYyXSwKICAgICAgICAgICAgICAgIHt9CiAgICAgICAgICAgICkuYWRkVG8obWFya2VyX2NsdXN0ZXJfMzMxYzY0OGVhZGM1NGM5Mzg4MjBlNTkzYWNjMjZmZTIpOwogICAgICAgIAogICAgCiAgICAgICAgICAgIHZhciBtYXJrZXJfMGFiMTIyMTExNTYxNDI1Zjk1Mjc4OTBhMmNmMTQ2M2IgPSBMLm1hcmtlcigKICAgICAgICAgICAgICAgIFszNy41ODU1OSwgMTI2Ljg4NDcyN10sCiAgICAgICAgICAgICAgICB7fQogICAgICAgICAgICApLmFkZFRvKG1hcmtlcl9jbHVzdGVyXzMzMWM2NDhlYWRjNTRjOTM4ODIwZTU5M2FjYzI2ZmUyKTsKICAgICAgICAKICAgIAogICAgICAgICAgICB2YXIgbWFya2VyXzI4ZWNlOWEwODgzOTQ3MTM5OTY3ZjQ5MDFjYWE5NjI5ID0gTC5tYXJrZXIoCiAgICAgICAgICAgICAgICBbMzcuNDc4MTgsIDEyNi44OTc0MDhdLAogICAgICAgICAgICAgICAge30KICAgICAgICAgICAgKS5hZGRUbyhtYXJrZXJfY2x1c3Rlcl8zMzFjNjQ4ZWFkYzU0YzkzODgyMGU1OTNhY2MyNmZlMik7CiAgICAgICAgCiAgICAKICAgICAgICAgICAgdmFyIG1hcmtlcl81ZjUyMjgxZGU2NmQ0ZmJlOGUyZWQ5NjJhNzc5MWIyYyA9IEwubWFya2VyKAogICAgICAgICAgICAgICAgWzM3LjUwOTQ5NywgMTI3LjA0MDQ2Nl0sCiAgICAgICAgICAgICAgICB7fQogICAgICAgICAgICApLmFkZFRvKG1hcmtlcl9jbHVzdGVyXzMzMWM2NDhlYWRjNTRjOTM4ODIwZTU5M2FjYzI2ZmUyKTsKICAgICAgICAKICAgIAogICAgICAgICAgICB2YXIgbWFya2VyX2Q2ZWNmNmVlY2M3ODQ3ZjRhMDE5YjA4NmEyZDg0YmVhID0gTC5tYXJrZXIoCiAgICAgICAgICAgICAgICBbMzcuNjIwMzgsIDEyNy4wMTM2OF0sCiAgICAgICAgICAgICAgICB7fQogICAgICAgICAgICApLmFkZFRvKG1hcmtlcl9jbHVzdGVyXzMzMWM2NDhlYWRjNTRjOTM4ODIwZTU5M2FjYzI2ZmUyKTsKICAgICAgICAKICAgIAogICAgICAgICAgICB2YXIgbWFya2VyXzk3ODE3ZjNlMzQ4MTRlMzRiNGQ1Mjk3ZDYzZDFiMjhmID0gTC5tYXJrZXIoCiAgICAgICAgICAgICAgICBbMzcuNTU2OTUzLCAxMjYuOTQ2MzQyXSwKICAgICAgICAgICAgICAgIHt9CiAgICAgICAgICAgICkuYWRkVG8obWFya2VyX2NsdXN0ZXJfMzMxYzY0OGVhZGM1NGM5Mzg4MjBlNTkzYWNjMjZmZTIpOwogICAgICAgIAogICAgCiAgICAgICAgICAgIHZhciBtYXJrZXJfNThmNmM3OTMxNmU1NDY0MThiNDM5Y2U3MzQzNDM1YTQgPSBMLm1hcmtlcigKICAgICAgICAgICAgICAgIFszNy41NTk3OTUsIDEyNi45MzQ0NzldLAogICAgICAgICAgICAgICAge30KICAgICAgICAgICAgKS5hZGRUbyhtYXJrZXJfY2x1c3Rlcl8zMzFjNjQ4ZWFkYzU0YzkzODgyMGU1OTNhY2MyNmZlMik7CiAgICAgICAgCiAgICAKICAgICAgICAgICAgdmFyIG1hcmtlcl8wYzZhMTI0NmIzZWM0OTAzYjExNTllODFkYmU4YWVkYiA9IEwubWFya2VyKAogICAgICAgICAgICAgICAgWzM3LjU2NTM4LCAxMjcuMDg2NTFdLAogICAgICAgICAgICAgICAge30KICAgICAgICAgICAgKS5hZGRUbyhtYXJrZXJfY2x1c3Rlcl8zMzFjNjQ4ZWFkYzU0YzkzODgyMGU1OTNhY2MyNmZlMik7CiAgICAgICAgCiAgICAKICAgICAgICAgICAgdmFyIG1hcmtlcl83Y2JkYTRiYjRiOGI0MzAwOTExMzFjY2UxOTlmOWVjZSA9IEwubWFya2VyKAogICAgICAgICAgICAgICAgWzM3LjQ3NDU3OSwgMTI3LjA1NTQ1XSwKICAgICAgICAgICAgICAgIHt9CiAgICAgICAgICAgICkuYWRkVG8obWFya2VyX2NsdXN0ZXJfMzMxYzY0OGVhZGM1NGM5Mzg4MjBlNTkzYWNjMjZmZTIpOwogICAgICAgIAogICAgCiAgICAgICAgICAgIHZhciBtYXJrZXJfYjhjYmJhZTMzYzUwNGI1Yjk1N2NlYzQ3N2VkMjU5OWQgPSBMLm1hcmtlcigKICAgICAgICAgICAgICAgIFszNy41NjE0ODksIDEyNy4wMjM5MzNdLAogICAgICAgICAgICAgICAge30KICAgICAgICAgICAgKS5hZGRUbyhtYXBfN2E2MzQ2YTc5MWE3NDQzZThmODIwMzllNGVkZTI5OTMpOwogICAgICAgIAogICAgCiAgICAgICAgICAgIHZhciBpY29uXzQ2OTYyMGM5ZWY2NzRjMTNiNTAxY2UwZjFmOGZlOTc2ID0gTC5Bd2Vzb21lTWFya2Vycy5pY29uKAogICAgICAgICAgICAgICAgeyJleHRyYUNsYXNzZXMiOiAiZmEtcm90YXRlLTAiLCAiaWNvbiI6ICJiaWN5Y2xlIiwgImljb25Db2xvciI6ICJ3aGl0ZSIsICJtYXJrZXJDb2xvciI6ICJibGFjayIsICJwcmVmaXgiOiAiZmEifQogICAgICAgICAgICApOwogICAgICAgICAgICBtYXJrZXJfYjhjYmJhZTMzYzUwNGI1Yjk1N2NlYzQ3N2VkMjU5OWQuc2V0SWNvbihpY29uXzQ2OTYyMGM5ZWY2NzRjMTNiNTAxY2UwZjFmOGZlOTc2KTsKICAgICAgICAKICAgIAogICAgICAgICAgICB2YXIgbWFya2VyX2ZkMzdiY2NkYTJiZDQ1NjA5ZGM1MDg3ZTRlZDExNWE3ID0gTC5tYXJrZXIoCiAgICAgICAgICAgICAgICBbMzcuNTc5NDYsIDEyNi45MTcxM10sCiAgICAgICAgICAgICAgICB7fQogICAgICAgICAgICApLmFkZFRvKG1hcF83YTYzNDZhNzkxYTc0NDNlOGY4MjAzOWU0ZWRlMjk5Myk7CiAgICAgICAgCiAgICAKICAgICAgICAgICAgdmFyIGljb25fNzVjOTdhNjY2ZDUyNDE0NGI5ODY3NTg3ZDhiNjc0ZGUgPSBMLkF3ZXNvbWVNYXJrZXJzLmljb24oCiAgICAgICAgICAgICAgICB7ImV4dHJhQ2xhc3NlcyI6ICJmYS1yb3RhdGUtMCIsICJpY29uIjogImJpY3ljbGUiLCAiaWNvbkNvbG9yIjogIndoaXRlIiwgIm1hcmtlckNvbG9yIjogImJsYWNrIiwgInByZWZpeCI6ICJmYSJ9CiAgICAgICAgICAgICk7CiAgICAgICAgICAgIG1hcmtlcl9mZDM3YmNjZGEyYmQ0NTYwOWRjNTA4N2U0ZWQxMTVhNy5zZXRJY29uKGljb25fNzVjOTdhNjY2ZDUyNDE0NGI5ODY3NTg3ZDhiNjc0ZGUpOwogICAgICAgIAogICAgCiAgICAgICAgICAgIHZhciBtYXJrZXJfNjRkMWRhYzZjNjkzNDY4ZDk0NjY1MWU5MGE3ZjlmYzkgPSBMLm1hcmtlcigKICAgICAgICAgICAgICAgIFszNy40NTg1NDksIDEyNy4wNTU4ODVdLAogICAgICAgICAgICAgICAge30KICAgICAgICAgICAgKS5hZGRUbyhtYXBfN2E2MzQ2YTc5MWE3NDQzZThmODIwMzllNGVkZTI5OTMpOwogICAgICAgIAogICAgCiAgICAgICAgICAgIHZhciBpY29uXzlhODA3OGM3ZjE0NTQ4NTI5ZTA1YWU5NmZiMWJiMDQ5ID0gTC5Bd2Vzb21lTWFya2Vycy5pY29uKAogICAgICAgICAgICAgICAgeyJleHRyYUNsYXNzZXMiOiAiZmEtcm90YXRlLTAiLCAiaWNvbiI6ICJiaWN5Y2xlIiwgImljb25Db2xvciI6ICJ3aGl0ZSIsICJtYXJrZXJDb2xvciI6ICJibGFjayIsICJwcmVmaXgiOiAiZmEifQogICAgICAgICAgICApOwogICAgICAgICAgICBtYXJrZXJfNjRkMWRhYzZjNjkzNDY4ZDk0NjY1MWU5MGE3ZjlmYzkuc2V0SWNvbihpY29uXzlhODA3OGM3ZjE0NTQ4NTI5ZTA1YWU5NmZiMWJiMDQ5KTsKICAgICAgICAKICAgIAogICAgICAgICAgICB2YXIgbWFya2VyX2ZiZTEyYTljMzI3MTQ0ZmM5ZTZmYThhM2U5OTRiZmU2ID0gTC5tYXJrZXIoCiAgICAgICAgICAgICAgICBbMzcuNTYxNzksIDEyNy4wMjQzOTFdLAogICAgICAgICAgICAgICAge30KICAgICAgICAgICAgKS5hZGRUbyhtYXBfN2E2MzQ2YTc5MWE3NDQzZThmODIwMzllNGVkZTI5OTMpOwogICAgICAgIAogICAgCiAgICAgICAgICAgIHZhciBpY29uX2QwMTViZjlhMjllOTQ2ZjM4MDFjM2EzNDczZmU4Y2M2ID0gTC5Bd2Vzb21lTWFya2Vycy5pY29uKAogICAgICAgICAgICAgICAgeyJleHRyYUNsYXNzZXMiOiAiZmEtcm90YXRlLTAiLCAiaWNvbiI6ICJiaWN5Y2xlIiwgImljb25Db2xvciI6ICJ3aGl0ZSIsICJtYXJrZXJDb2xvciI6ICJibGFjayIsICJwcmVmaXgiOiAiZmEifQogICAgICAgICAgICApOwogICAgICAgICAgICBtYXJrZXJfZmJlMTJhOWMzMjcxNDRmYzllNmZhOGEzZTk5NGJmZTYuc2V0SWNvbihpY29uX2QwMTViZjlhMjllOTQ2ZjM4MDFjM2EzNDczZmU4Y2M2KTsKICAgICAgICAKICAgIAogICAgICAgICAgICB2YXIgbWFya2VyX2Y3MGFhZDQ4MmFiZTQ0NTk4OTFmODIxMmMwMjMzNThlID0gTC5tYXJrZXIoCiAgICAgICAgICAgICAgICBbMzcuNTk0NDAyLCAxMjYuOTkyMzFdLAogICAgICAgICAgICAgICAge30KICAgICAgICAgICAgKS5hZGRUbyhtYXBfN2E2MzQ2YTc5MWE3NDQzZThmODIwMzllNGVkZTI5OTMpOwogICAgICAgIAogICAgCiAgICAgICAgICAgIHZhciBpY29uXzYwMWRlZjQyY2I2NDQ2Y2FhMTQ4M2YyY2ZjMDMwMmU2ID0gTC5Bd2Vzb21lTWFya2Vycy5pY29uKAogICAgICAgICAgICAgICAgeyJleHRyYUNsYXNzZXMiOiAiZmEtcm90YXRlLTAiLCAiaWNvbiI6ICJiaWN5Y2xlIiwgImljb25Db2xvciI6ICJ3aGl0ZSIsICJtYXJrZXJDb2xvciI6ICJibGFjayIsICJwcmVmaXgiOiAiZmEifQogICAgICAgICAgICApOwogICAgICAgICAgICBtYXJrZXJfZjcwYWFkNDgyYWJlNDQ1OTg5MWY4MjEyYzAyMzM1OGUuc2V0SWNvbihpY29uXzYwMWRlZjQyY2I2NDQ2Y2FhMTQ4M2YyY2ZjMDMwMmU2KTsKICAgICAgICAKICAgIAogICAgICAgICAgICB2YXIgbWFya2VyX2FmZGEyMTEwOTkxNTRkNmRiMGYyY2JiNjRmZmYzY2Q3ID0gTC5tYXJrZXIoCiAgICAgICAgICAgICAgICBbMzcuNTU0Nzc5LCAxMjcuMDI0ODQxXSwKICAgICAgICAgICAgICAgIHt9CiAgICAgICAgICAgICkuYWRkVG8obWFwXzdhNjM0NmE3OTFhNzQ0M2U4ZjgyMDM5ZTRlZGUyOTkzKTsKICAgICAgICAKICAgIAogICAgICAgICAgICB2YXIgaWNvbl8zMDFhNjI5NjExNDU0Mjg2YmVhNmFhZjUzMGNmYzMyMCA9IEwuQXdlc29tZU1hcmtlcnMuaWNvbigKICAgICAgICAgICAgICAgIHsiZXh0cmFDbGFzc2VzIjogImZhLXJvdGF0ZS0wIiwgImljb24iOiAiYmljeWNsZSIsICJpY29uQ29sb3IiOiAid2hpdGUiLCAibWFya2VyQ29sb3IiOiAiYmxhY2siLCAicHJlZml4IjogImZhIn0KICAgICAgICAgICAgKTsKICAgICAgICAgICAgbWFya2VyX2FmZGEyMTEwOTkxNTRkNmRiMGYyY2JiNjRmZmYzY2Q3LnNldEljb24oaWNvbl8zMDFhNjI5NjExNDU0Mjg2YmVhNmFhZjUzMGNmYzMyMCk7CiAgICAgICAgCiAgICAKICAgICAgICAgICAgdmFyIG1hcmtlcl84YzA4YjNlMzI5M2E0MTkwYTNlZGU2NDMzNDdkOWFkZCA9IEwubWFya2VyKAogICAgICAgICAgICAgICAgWzM3LjQ3NTE4MiwgMTI3LjAwMTM4OV0sCiAgICAgICAgICAgICAgICB7fQogICAgICAgICAgICApLmFkZFRvKG1hcF83YTYzNDZhNzkxYTc0NDNlOGY4MjAzOWU0ZWRlMjk5Myk7CiAgICAgICAgCiAgICAKICAgICAgICAgICAgdmFyIGljb25fOTZmNzA0ZGFkMTNiNGVhNDhiYWU3ZTU2MGNhMDg4ZGMgPSBMLkF3ZXNvbWVNYXJrZXJzLmljb24oCiAgICAgICAgICAgICAgICB7ImV4dHJhQ2xhc3NlcyI6ICJmYS1yb3RhdGUtMCIsICJpY29uIjogImJpY3ljbGUiLCAiaWNvbkNvbG9yIjogIndoaXRlIiwgIm1hcmtlckNvbG9yIjogImJsYWNrIiwgInByZWZpeCI6ICJmYSJ9CiAgICAgICAgICAgICk7CiAgICAgICAgICAgIG1hcmtlcl84YzA4YjNlMzI5M2E0MTkwYTNlZGU2NDMzNDdkOWFkZC5zZXRJY29uKGljb25fOTZmNzA0ZGFkMTNiNGVhNDhiYWU3ZTU2MGNhMDg4ZGMpOwogICAgICAgIAogICAgCiAgICAgICAgICAgIHZhciBtYXJrZXJfNGU1NmViZGUyNGVkNGQyYjg4Yjc3ZDZkNzk1YTE4MjIgPSBMLm1hcmtlcigKICAgICAgICAgICAgICAgIFszNy41NTA0ODgsIDEyNy4xMDg5NTVdLAogICAgICAgICAgICAgICAge30KICAgICAgICAgICAgKS5hZGRUbyhtYXBfN2E2MzQ2YTc5MWE3NDQzZThmODIwMzllNGVkZTI5OTMpOwogICAgICAgIAogICAgCiAgICAgICAgICAgIHZhciBpY29uX2Q5Yjk1OGE2M2U1MzQzYzNiZmNjYTg4YjUxODEwYTM0ID0gTC5Bd2Vzb21lTWFya2Vycy5pY29uKAogICAgICAgICAgICAgICAgeyJleHRyYUNsYXNzZXMiOiAiZmEtcm90YXRlLTAiLCAiaWNvbiI6ICJiaWN5Y2xlIiwgImljb25Db2xvciI6ICJ3aGl0ZSIsICJtYXJrZXJDb2xvciI6ICJibGFjayIsICJwcmVmaXgiOiAiZmEifQogICAgICAgICAgICApOwogICAgICAgICAgICBtYXJrZXJfNGU1NmViZGUyNGVkNGQyYjg4Yjc3ZDZkNzk1YTE4MjIuc2V0SWNvbihpY29uX2Q5Yjk1OGE2M2U1MzQzYzNiZmNjYTg4YjUxODEwYTM0KTsKICAgICAgICAKICAgIAogICAgICAgICAgICB2YXIgbWFya2VyXzc3YTY1NTU3ZjJiMjRhMTBhMmY2YmIwZDA3Y2NjZWZjID0gTC5tYXJrZXIoCiAgICAgICAgICAgICAgICBbMzcuNDc3MjAzLCAxMjcuMDA1ODM2XSwKICAgICAgICAgICAgICAgIHt9CiAgICAgICAgICAgICkuYWRkVG8obWFwXzdhNjM0NmE3OTFhNzQ0M2U4ZjgyMDM5ZTRlZGUyOTkzKTsKICAgICAgICAKICAgIAogICAgICAgICAgICB2YXIgaWNvbl8zYjM2OTRhM2E4YmY0MGYyOTY2ODRjOGIwMjM3NmVhYyA9IEwuQXdlc29tZU1hcmtlcnMuaWNvbigKICAgICAgICAgICAgICAgIHsiZXh0cmFDbGFzc2VzIjogImZhLXJvdGF0ZS0wIiwgImljb24iOiAiYmljeWNsZSIsICJpY29uQ29sb3IiOiAid2hpdGUiLCAibWFya2VyQ29sb3IiOiAiYmxhY2siLCAicHJlZml4IjogImZhIn0KICAgICAgICAgICAgKTsKICAgICAgICAgICAgbWFya2VyXzc3YTY1NTU3ZjJiMjRhMTBhMmY2YmIwZDA3Y2NjZWZjLnNldEljb24oaWNvbl8zYjM2OTRhM2E4YmY0MGYyOTY2ODRjOGIwMjM3NmVhYyk7CiAgICAgICAgCiAgICAKICAgICAgICAgICAgdmFyIG1hcmtlcl84NmEyYTExZmZiMTg0YWVjOGQ2YjNiZGFjNTc5ZjE1MiA9IEwubWFya2VyKAogICAgICAgICAgICAgICAgWzM3LjQ2NDI5OCwgMTI2Ljk4ODUyNV0sCiAgICAgICAgICAgICAgICB7fQogICAgICAgICAgICApLmFkZFRvKG1hcF83YTYzNDZhNzkxYTc0NDNlOGY4MjAzOWU0ZWRlMjk5Myk7CiAgICAgICAgCiAgICAKICAgICAgICAgICAgdmFyIGljb25fZjE2MDMxMTdmNTFjNGUzODliYTRmYzhmYjI5YmUxYjMgPSBMLkF3ZXNvbWVNYXJrZXJzLmljb24oCiAgICAgICAgICAgICAgICB7ImV4dHJhQ2xhc3NlcyI6ICJmYS1yb3RhdGUtMCIsICJpY29uIjogImJpY3ljbGUiLCAiaWNvbkNvbG9yIjogIndoaXRlIiwgIm1hcmtlckNvbG9yIjogImJsYWNrIiwgInByZWZpeCI6ICJmYSJ9CiAgICAgICAgICAgICk7CiAgICAgICAgICAgIG1hcmtlcl84NmEyYTExZmZiMTg0YWVjOGQ2YjNiZGFjNTc5ZjE1Mi5zZXRJY29uKGljb25fZjE2MDMxMTdmNTFjNGUzODliYTRmYzhmYjI5YmUxYjMpOwogICAgICAgIAo8L3NjcmlwdD4= onload=\"this.contentDocument.open();this.contentDocument.write(atob(this.getAttribute('data-html')));this.contentDocument.close();\" allowfullscreen webkitallowfullscreen mozallowfullscreen></iframe></div></div>"
      ],
      "text/plain": [
       "<folium.folium.Map at 0x257aea15cc8>"
      ]
     },
     "execution_count": 123,
     "metadata": {},
     "output_type": "execute_result"
    }
   ],
   "source": [
    "# 서울 지도 그리기\n",
    "map = folium.Map([df_bike.lat.median(), df_bike.lng.median()], zoom_start=12)\n",
    "\n",
    "# 구별 대여량을 색으로 표현\n",
    "map.choropleth(geo_data=geo_data,\n",
    "               data=df_bike.groupby('district').sum()['rent'],\n",
    "               columns=[df_bike.groupby('district').sum().index, df_bike.groupby('district').sum()['rent']],\n",
    "               fill_color='YlGnBu',  # PuRd, YlGnBu\n",
    "               key_on='feature.id')\n",
    "\n",
    "# 반납 대비 대여가 2.0 이상인 대여소 저장\n",
    "df_twotimes = df_bike[df_bike.rent_return_ratio >= 2]\n",
    "\n",
    "# 위에서 저장한 대여소를 클러스터로 표현\n",
    "MarkerCluster(df_twotimes[['lat', 'lng']]).add_to(map)\n",
    "\n",
    "# 가장 반납 대비 대여가 높은 대여소 10개는 자전거 모양으로 따로 마커 표시\n",
    "for row in df_twotimes[:10].index:\n",
    "    lat = df_twotimes.lat[row]\n",
    "    lng = df_twotimes.lng[row]\n",
    "    folium.Marker([lat, lng], icon=folium.Icon(color='black',icon=\"bicycle\", prefix='fa')).add_to(map)\n",
    "map"
   ]
  },
  {
   "cell_type": "markdown",
   "metadata": {
    "ExecuteTime": {
     "end_time": "2020-05-04T04:36:45.803643Z",
     "start_time": "2020-05-04T04:36:44.435Z"
    }
   },
   "source": [
    "* **어느 구역에 따릉이를 확충해야할까?**\n",
    "    * 내가 담당자라면, **검은색 자전거 마크가 있는 곳을 우선적으로 검토**할 것이다.\n",
    "        * 검은색 마크가 있는 곳은 반납 대비 대여가 가장 높은 10곳이다.\n",
    "    * 다음으로는, **대여가 많은 구 중 반납 대비 대여가 높은 곳들**을 후보에 넣을 것 같다.\n",
    "* 추가로, 특이점이 보인 곳들을 아래에 정리해보았다.\n",
    "- - - -\n",
    "* 반납 대비 대여가 많은 대여소는 **강남구에 가장 많이 밀집되어**있다.\n",
    "    * 특히, **회사가 밀집된 강남구청-학동사거리 부근**에 몰려있다.\n",
    "    * **출퇴근 시에 이용자가 몰려서 나타난 현상**이 아닐까 추측된다.\n",
    "    * 해당 지역에 따릉이 대여소를 추가로 설치하면, 출퇴근 따릉이 전쟁이 줄어들지 않을까 싶다.\n",
    "        * 어쩌면 이런 현상때문에 킥고잉과 같은 전동킥보드 공유 서비스가 강남구를 일대로 서비스를 시작했을 가능성이 있다.\n",
    "* **서초구에는 가장 따릉이 부족이 심한 대여소 10곳 중 4곳이 존재**한다.\n",
    "    * 특히 남부순환로에 이어져있는 두 곳의 대여소는 **모두 아파트 앞이라는 공통점**이 있다.\n",
    "    * **주거민들이 이용하는 비율이 높을 것**으로 예상된다.\n",
    "        * 추측이지만, 래미안에 살면서 강남에 회사가 있는 직장인은 웬만하면 저 대여소의 따릉이를 타고자 할 것이다.\n",
    "        * 아침에 따릉이 쟁탈전에서 패하고 터벅터벅 버스를 타러 가는데, 전동 자전거 대여 서비스가 집앞에서 시작했다면?! (이렇게 충성고객이 만들어지나요)\n",
    "* **영등포와 송파구**는 따릉이 이용이 가장 많은 구이지만, **따릉이 부족 현상을 보이는 대여소는 단 한 곳**에 그친다.\n",
    "    * 특히 영등포구는 여의도를 중심으로 자전거길이 잘 나있는데도 부족 현상이 적다는 것이 신기하다.\n",
    "    * 다른 구에서 이런 구들의 따릉이 이용 행태를 벤치마킹하면 어떨까?\n",
    "* **강북구와 도봉구**는 서울에서 가장 따릉이 대여가 적은 곳들이고, **반납 대비 대여가 많은 대여소도 두 곳**에 불과하다.\n",
    "    * 내가 성수동에서 쌍문동으로 갔을 때 반납할 대여소가 적다고 느낀것은,\n",
    "        * **쌍문동은 대여량 자체가 적다보니 대여소 자체가 적었기 때문일 것**이다.\n",
    "    * 아무래도 두 곳 모두 회사가 몰려있지도 않고, 한강, 공원보다는 산이 많기때문에 따릉이 이용이 적을 것 같기는 하다.    "
   ]
  },
  {
   "cell_type": "markdown",
   "metadata": {},
   "source": [
    "- - - -\n",
    "- - - -\n",
    "## 4. 결론\n",
    ">*이 분석은 서울숲에서 쌍문동까지 따릉이를 타고갔을때,  \n",
    "'성수동엔 따릉이 대여소가 많은데 왜 쌍문동엔 별로 없을까?'라는 질문에서 시작됐다.*\n",
    "\n",
    "* 서울에서 따릉이 대여소가 어느 구역에 밀집되어있는지 살펴보았다.\n",
    "    * 더 나아가서, 현재 거주하고있는 서울숲 근처에 대여소가 밀집되어있는지 확인해보았다.\n",
    "* 그리고 반납 대비 대여가 높은 대여소가 어디에 있는지 찾아보았다.\n",
    "    * 이 데이터를 바탕으로 어느 구역에 따릉이를 확충하면 좋을지도 분석해보았다.\n",
    "* 요즘에는 모빌리티 공유 서비스가 많이 늘어나고있다.\n",
    "    * 자전거, 자동차, 킥보드 등 공유되는 이동 수단도 다양해지고있다.\n",
    "    * 나는 맛보기로 따릉이 데이터를 분석해보았지만, \n",
    "        * 추후 모빌리티에서 나오는 다양한 데이터들을 통해 재미있는 인사이트가 많이 나올 것 같다.\n",
    "\n",
    "\n",
    "끝!!"
   ]
  }
 ],
 "metadata": {
  "kernelspec": {
   "display_name": "Python 3",
   "language": "python",
   "name": "python3"
  },
  "language_info": {
   "codemirror_mode": {
    "name": "ipython",
    "version": 3
   },
   "file_extension": ".py",
   "mimetype": "text/x-python",
   "name": "python",
   "nbconvert_exporter": "python",
   "pygments_lexer": "ipython3",
   "version": "3.7.4"
  },
  "toc": {
   "base_numbering": 1,
   "nav_menu": {},
   "number_sections": false,
   "sideBar": true,
   "skip_h1_title": true,
   "title_cell": "Table of Contents",
   "title_sidebar": "Contents",
   "toc_cell": true,
   "toc_position": {},
   "toc_section_display": true,
   "toc_window_display": true
  }
 },
 "nbformat": 4,
 "nbformat_minor": 2
}
