{
 "cells": [
  {
   "cell_type": "markdown",
   "metadata": {},
   "source": [
    "# 빌릴 땐 마음대로지만 반납할 땐 아니란다\n",
    "by Sean Park, 20-04-16  \n",
    "[블로그]()  \n",
    "[Github](https://github.com/Sean-Parkk)\n",
    "> *성수동에는 따릉이가 정말 많다.*  \n",
    "카페 거리, 서울숲 산책, 한강 자전거길 등 주변에 자전거로 즐길 콘텐츠가 많아서 일 것이다.  \n",
    "반면, 성수동에서 따릉이를 타고 본가인 쌍문동까지 가면, 따릉이를 반납할 곳이 참 없다고 느꼈었다.  \n",
    "**지역마다 따릉이 분포가 어떤지** 살펴보고, **어느 구역에 확충하면 좋을 지** 살펴보자.\n",
    "\n",
    "* 목적: 서울 지역 따릉이 분포 분석하기"
   ]
  },
  {
   "cell_type": "markdown",
   "metadata": {
    "toc": true
   },
   "source": [
    "<h1>Table of Contents<span class=\"tocSkip\"></span></h1>\n",
    "<div class=\"toc\"><ul class=\"toc-item\"><li><span><a href=\"#1.-데이터-가져오기\" data-toc-modified-id=\"1.-데이터-가져오기-1\">1. 데이터 가져오기</a></span></li><li><span><a href=\"#2.-데이터-전처리\" data-toc-modified-id=\"2.-데이터-전처리-2\">2. 데이터 전처리</a></span><ul class=\"toc-item\"><li><span><a href=\"#2-1.-데이터-병합\" data-toc-modified-id=\"2-1.-데이터-병합-2.1\">2-1. 데이터 병합</a></span></li><li><span><a href=\"#2-2.-결측값-처리\" data-toc-modified-id=\"2-2.-결측값-처리-2.2\">2-2. 결측값 처리</a></span></li><li><span><a href=\"#2-3.-station컬럼-처리,-id컬럼-추가\" data-toc-modified-id=\"2-3.-station컬럼-처리,-id컬럼-추가-2.3\">2-3. station컬럼 처리, id컬럼 추가</a></span></li><li><span><a href=\"#2-4.-컬럼-형식-변경\" data-toc-modified-id=\"2-4.-컬럼-형식-변경-2.4\">2-4. 컬럼 형식 변경</a></span><ul class=\"toc-item\"><li><span><a href=\"#2-4-1.-df_rent,-df_return\" data-toc-modified-id=\"2-4-1.-df_rent,-df_return-2.4.1\">2-4-1. df_rent, df_return</a></span></li><li><span><a href=\"#2-4-2.-df_station\" data-toc-modified-id=\"2-4-2.-df_station-2.4.2\">2-4-2. df_station</a></span></li><li><span><a href=\"#2-4-3.-컬럼-순서-변경\" data-toc-modified-id=\"2-4-3.-컬럼-순서-변경-2.4.3\">2-4-3. 컬럼 순서 변경</a></span></li></ul></li></ul></li><li><span><a href=\"#3.-데이터-분석\" data-toc-modified-id=\"3.-데이터-분석-3\">3. 데이터 분석</a></span><ul class=\"toc-item\"><li><span><a href=\"#3-1.-따릉이가-많이-배치된-지역-찾기\" data-toc-modified-id=\"3-1.-따릉이가-많이-배치된-지역-찾기-3.1\">3-1. 따릉이가 많이 배치된 지역 찾기</a></span><ul class=\"toc-item\"><li><span><a href=\"#3-1-1.-가장-따릉이가-많이-배치된-대여소는?\" data-toc-modified-id=\"3-1-1.-가장-따릉이가-많이-배치된-대여소는?-3.1.1\">3-1-1. 가장 따릉이가 많이 배치된 대여소는?</a></span></li><li><span><a href=\"#3-1-2.-성동구-내-따릉이-분포-확인해보기\" data-toc-modified-id=\"3-1-2.-성동구-내-따릉이-분포-확인해보기-3.1.2\">3-1-2. 성동구 내 따릉이 분포 확인해보기</a></span></li></ul></li><li><span><a href=\"#3-2.-따릉이를-많이-대여하는-지역-찾기\" data-toc-modified-id=\"3-2.-따릉이를-많이-대여하는-지역-찾기-3.2\">3-2. 따릉이를 많이 대여하는 지역 찾기</a></span></li></ul></li></ul></div>"
   ]
  },
  {
   "cell_type": "markdown",
   "metadata": {},
   "source": [
    "## 1. 데이터 가져오기\n",
    "* 대여소 정보: [링크](https://data.seoul.go.kr/dataList/OA-13252/F/1/datasetView.do)\n",
    "    * 19.12.09 기준 데이터를 사용\n",
    "* 이용 정보: [링크](https://data.seoul.go.kr/dataList/OA-15249/F/1/datasetView.do)\n",
    "    * 18.12~19.11 간 데이터를 사용 (두 개의 파일 사용)"
   ]
  },
  {
   "cell_type": "code",
   "execution_count": 1,
   "metadata": {
    "ExecuteTime": {
     "end_time": "2020-05-01T03:37:13.585888Z",
     "start_time": "2020-05-01T03:37:08.766806Z"
    }
   },
   "outputs": [],
   "source": [
    "import pandas as pd\n",
    "import numpy as np\n",
    "import matplotlib.pyplot as plt\n",
    "import seaborn as sns\n",
    "plt.style.use('seaborn-whitegrid')\n",
    "import folium\n",
    "import googlemaps\n",
    "import warnings\n",
    "warnings.filterwarnings('ignore')"
   ]
  },
  {
   "cell_type": "code",
   "execution_count": 2,
   "metadata": {
    "ExecuteTime": {
     "end_time": "2020-05-01T03:37:13.597856Z",
     "start_time": "2020-05-01T03:37:13.590875Z"
    }
   },
   "outputs": [],
   "source": [
    "plt.rc('font', size=14)\n",
    "plt.rc('font', family='NanumGothic')"
   ]
  },
  {
   "cell_type": "code",
   "execution_count": 3,
   "metadata": {
    "ExecuteTime": {
     "end_time": "2020-05-01T03:37:22.764206Z",
     "start_time": "2020-05-01T03:37:13.602843Z"
    }
   },
   "outputs": [],
   "source": [
    "# 파일 불러오기\n",
    "df_rent1 = pd.read_excel('source/Seoulbike/공공자전거 대여소별 이용정보_201906_201911.xlsx', sheet_name='대여')\n",
    "df_rent2 = pd.read_excel('source/Seoulbike/공공자전거 대여소별 이용정보_201812_201905.xlsx', sheet_name='대여')\n",
    "df_return1 = pd.read_excel('source/Seoulbike/공공자전거 대여소별 이용정보_201906_201911.xlsx', sheet_name='반납')\n",
    "df_return2 = pd.read_excel('source/Seoulbike/공공자전거 대여소별 이용정보_201812_201905.xlsx', sheet_name='반납')\n",
    "df_station = pd.read_excel('source/Seoulbike/서울특별시 공공자전거 대여소 정보(19.12.9).xlsx')"
   ]
  },
  {
   "cell_type": "code",
   "execution_count": 4,
   "metadata": {
    "ExecuteTime": {
     "end_time": "2020-05-01T03:37:22.809089Z",
     "start_time": "2020-05-01T03:37:22.766202Z"
    }
   },
   "outputs": [
    {
     "data": {
      "text/html": [
       "<div>\n",
       "<style scoped>\n",
       "    .dataframe tbody tr th:only-of-type {\n",
       "        vertical-align: middle;\n",
       "    }\n",
       "\n",
       "    .dataframe tbody tr th {\n",
       "        vertical-align: top;\n",
       "    }\n",
       "\n",
       "    .dataframe thead th {\n",
       "        text-align: right;\n",
       "    }\n",
       "</style>\n",
       "<table border=\"1\" class=\"dataframe\">\n",
       "  <thead>\n",
       "    <tr style=\"text-align: right;\">\n",
       "      <th></th>\n",
       "      <th>대여소 그룹</th>\n",
       "      <th>대여소 명</th>\n",
       "      <th>대여 일자 / 월</th>\n",
       "      <th>대여 건수</th>\n",
       "    </tr>\n",
       "  </thead>\n",
       "  <tbody>\n",
       "    <tr>\n",
       "      <td>0</td>\n",
       "      <td>강남구</td>\n",
       "      <td>2301. 현대고등학교 건너편</td>\n",
       "      <td>201906</td>\n",
       "      <td>3909</td>\n",
       "    </tr>\n",
       "    <tr>\n",
       "      <td>1</td>\n",
       "      <td>강남구</td>\n",
       "      <td>2302. 교보타워 버스정류장(신논현역 3번출구 후면)</td>\n",
       "      <td>201906</td>\n",
       "      <td>2432</td>\n",
       "    </tr>\n",
       "    <tr>\n",
       "      <td>2</td>\n",
       "      <td>강남구</td>\n",
       "      <td>2303. 논현역 7번출구</td>\n",
       "      <td>201906</td>\n",
       "      <td>1567</td>\n",
       "    </tr>\n",
       "  </tbody>\n",
       "</table>\n",
       "</div>"
      ],
      "text/plain": [
       "  대여소 그룹                           대여소 명  대여 일자 / 월  대여 건수\n",
       "0    강남구                2301. 현대고등학교 건너편     201906   3909\n",
       "1    강남구  2302. 교보타워 버스정류장(신논현역 3번출구 후면)     201906   2432\n",
       "2    강남구                  2303. 논현역 7번출구     201906   1567"
      ]
     },
     "execution_count": 4,
     "metadata": {},
     "output_type": "execute_result"
    }
   ],
   "source": [
    "df_rent1.head(3)"
   ]
  },
  {
   "cell_type": "code",
   "execution_count": 5,
   "metadata": {
    "ExecuteTime": {
     "end_time": "2020-05-01T03:37:22.835019Z",
     "start_time": "2020-05-01T03:37:22.813077Z"
    }
   },
   "outputs": [
    {
     "data": {
      "text/html": [
       "<div>\n",
       "<style scoped>\n",
       "    .dataframe tbody tr th:only-of-type {\n",
       "        vertical-align: middle;\n",
       "    }\n",
       "\n",
       "    .dataframe tbody tr th {\n",
       "        vertical-align: top;\n",
       "    }\n",
       "\n",
       "    .dataframe thead th {\n",
       "        text-align: right;\n",
       "    }\n",
       "</style>\n",
       "<table border=\"1\" class=\"dataframe\">\n",
       "  <thead>\n",
       "    <tr style=\"text-align: right;\">\n",
       "      <th></th>\n",
       "      <th>대여소 그룹</th>\n",
       "      <th>대여소 명</th>\n",
       "      <th>대여 일자 / 월</th>\n",
       "      <th>대여 건수</th>\n",
       "    </tr>\n",
       "  </thead>\n",
       "  <tbody>\n",
       "    <tr>\n",
       "      <td>9269</td>\n",
       "      <td>중랑구</td>\n",
       "      <td>1457. 동원사거리</td>\n",
       "      <td>201911</td>\n",
       "      <td>577</td>\n",
       "    </tr>\n",
       "    <tr>\n",
       "      <td>9270</td>\n",
       "      <td>중랑구</td>\n",
       "      <td>1458. 상봉터미널2</td>\n",
       "      <td>201911</td>\n",
       "      <td>1243</td>\n",
       "    </tr>\n",
       "    <tr>\n",
       "      <td>9271</td>\n",
       "      <td>중랑구</td>\n",
       "      <td>1459. 용마한신아파트사거리</td>\n",
       "      <td>201911</td>\n",
       "      <td>339</td>\n",
       "    </tr>\n",
       "  </tbody>\n",
       "</table>\n",
       "</div>"
      ],
      "text/plain": [
       "     대여소 그룹             대여소 명  대여 일자 / 월  대여 건수\n",
       "9269    중랑구       1457. 동원사거리     201911    577\n",
       "9270    중랑구      1458. 상봉터미널2     201911   1243\n",
       "9271    중랑구  1459. 용마한신아파트사거리     201911    339"
      ]
     },
     "execution_count": 5,
     "metadata": {},
     "output_type": "execute_result"
    }
   ],
   "source": [
    "df_rent1.tail(3)"
   ]
  },
  {
   "cell_type": "code",
   "execution_count": 6,
   "metadata": {
    "ExecuteTime": {
     "end_time": "2020-05-01T03:37:22.865936Z",
     "start_time": "2020-05-01T03:37:22.842998Z"
    }
   },
   "outputs": [
    {
     "data": {
      "text/html": [
       "<div>\n",
       "<style scoped>\n",
       "    .dataframe tbody tr th:only-of-type {\n",
       "        vertical-align: middle;\n",
       "    }\n",
       "\n",
       "    .dataframe tbody tr th {\n",
       "        vertical-align: top;\n",
       "    }\n",
       "\n",
       "    .dataframe thead th {\n",
       "        text-align: right;\n",
       "    }\n",
       "</style>\n",
       "<table border=\"1\" class=\"dataframe\">\n",
       "  <thead>\n",
       "    <tr style=\"text-align: right;\">\n",
       "      <th></th>\n",
       "      <th>구분</th>\n",
       "      <th>대여소명</th>\n",
       "      <th>대여일자</th>\n",
       "      <th>대여건수</th>\n",
       "    </tr>\n",
       "  </thead>\n",
       "  <tbody>\n",
       "    <tr>\n",
       "      <td>0</td>\n",
       "      <td>강남구</td>\n",
       "      <td>2301. 현대고등학교 건너편</td>\n",
       "      <td>201812.0</td>\n",
       "      <td>364.0</td>\n",
       "    </tr>\n",
       "    <tr>\n",
       "      <td>1</td>\n",
       "      <td>강남구</td>\n",
       "      <td>2302. 교보타워 버스정류장(신논현역 3번출구 후면)</td>\n",
       "      <td>201812.0</td>\n",
       "      <td>500.0</td>\n",
       "    </tr>\n",
       "    <tr>\n",
       "      <td>2</td>\n",
       "      <td>강남구</td>\n",
       "      <td>2303. 논현역 7번출구</td>\n",
       "      <td>201812.0</td>\n",
       "      <td>286.0</td>\n",
       "    </tr>\n",
       "  </tbody>\n",
       "</table>\n",
       "</div>"
      ],
      "text/plain": [
       "    구분                            대여소명      대여일자   대여건수\n",
       "0  강남구                2301. 현대고등학교 건너편  201812.0  364.0\n",
       "1  강남구  2302. 교보타워 버스정류장(신논현역 3번출구 후면)  201812.0  500.0\n",
       "2  강남구                  2303. 논현역 7번출구  201812.0  286.0"
      ]
     },
     "execution_count": 6,
     "metadata": {},
     "output_type": "execute_result"
    }
   ],
   "source": [
    "df_rent2.head(3)"
   ]
  },
  {
   "cell_type": "code",
   "execution_count": 7,
   "metadata": {
    "ExecuteTime": {
     "end_time": "2020-05-01T03:37:22.897850Z",
     "start_time": "2020-05-01T03:37:22.874913Z"
    }
   },
   "outputs": [
    {
     "data": {
      "text/html": [
       "<div>\n",
       "<style scoped>\n",
       "    .dataframe tbody tr th:only-of-type {\n",
       "        vertical-align: middle;\n",
       "    }\n",
       "\n",
       "    .dataframe tbody tr th {\n",
       "        vertical-align: top;\n",
       "    }\n",
       "\n",
       "    .dataframe thead th {\n",
       "        text-align: right;\n",
       "    }\n",
       "</style>\n",
       "<table border=\"1\" class=\"dataframe\">\n",
       "  <thead>\n",
       "    <tr style=\"text-align: right;\">\n",
       "      <th></th>\n",
       "      <th>구분</th>\n",
       "      <th>대여소명</th>\n",
       "      <th>대여일자</th>\n",
       "      <th>대여건수</th>\n",
       "    </tr>\n",
       "  </thead>\n",
       "  <tbody>\n",
       "    <tr>\n",
       "      <td>9186</td>\n",
       "      <td>중랑구</td>\n",
       "      <td>1457. 동원사거리</td>\n",
       "      <td>201905.0</td>\n",
       "      <td>827.0</td>\n",
       "    </tr>\n",
       "    <tr>\n",
       "      <td>9187</td>\n",
       "      <td>중랑구</td>\n",
       "      <td>1458. 상봉터미널2</td>\n",
       "      <td>201905.0</td>\n",
       "      <td>1421.0</td>\n",
       "    </tr>\n",
       "    <tr>\n",
       "      <td>9188</td>\n",
       "      <td>중랑구</td>\n",
       "      <td>1459. 용마한신아파트사거리</td>\n",
       "      <td>201905.0</td>\n",
       "      <td>447.0</td>\n",
       "    </tr>\n",
       "  </tbody>\n",
       "</table>\n",
       "</div>"
      ],
      "text/plain": [
       "       구분              대여소명      대여일자    대여건수\n",
       "9186  중랑구       1457. 동원사거리  201905.0   827.0\n",
       "9187  중랑구      1458. 상봉터미널2  201905.0  1421.0\n",
       "9188  중랑구  1459. 용마한신아파트사거리  201905.0   447.0"
      ]
     },
     "execution_count": 7,
     "metadata": {},
     "output_type": "execute_result"
    }
   ],
   "source": [
    "df_rent2.tail(3)"
   ]
  },
  {
   "cell_type": "code",
   "execution_count": 8,
   "metadata": {
    "ExecuteTime": {
     "end_time": "2020-05-01T03:37:22.924780Z",
     "start_time": "2020-05-01T03:37:22.904834Z"
    }
   },
   "outputs": [
    {
     "data": {
      "text/html": [
       "<div>\n",
       "<style scoped>\n",
       "    .dataframe tbody tr th:only-of-type {\n",
       "        vertical-align: middle;\n",
       "    }\n",
       "\n",
       "    .dataframe tbody tr th {\n",
       "        vertical-align: top;\n",
       "    }\n",
       "\n",
       "    .dataframe thead th {\n",
       "        text-align: right;\n",
       "    }\n",
       "</style>\n",
       "<table border=\"1\" class=\"dataframe\">\n",
       "  <thead>\n",
       "    <tr style=\"text-align: right;\">\n",
       "      <th></th>\n",
       "      <th>대여소 그룹</th>\n",
       "      <th>대여소 명</th>\n",
       "      <th>반납 일자 / 월</th>\n",
       "      <th>반납 건수</th>\n",
       "    </tr>\n",
       "  </thead>\n",
       "  <tbody>\n",
       "    <tr>\n",
       "      <td>0</td>\n",
       "      <td>강남구</td>\n",
       "      <td>2301. 현대고등학교 건너편</td>\n",
       "      <td>201906</td>\n",
       "      <td>4072</td>\n",
       "    </tr>\n",
       "    <tr>\n",
       "      <td>1</td>\n",
       "      <td>강남구</td>\n",
       "      <td>2302. 교보타워 버스정류장(신논현역 3번출구 후면)</td>\n",
       "      <td>201906</td>\n",
       "      <td>2382</td>\n",
       "    </tr>\n",
       "    <tr>\n",
       "      <td>2</td>\n",
       "      <td>강남구</td>\n",
       "      <td>2303. 논현역 7번출구</td>\n",
       "      <td>201906</td>\n",
       "      <td>1402</td>\n",
       "    </tr>\n",
       "  </tbody>\n",
       "</table>\n",
       "</div>"
      ],
      "text/plain": [
       "  대여소 그룹                           대여소 명  반납 일자 / 월  반납 건수\n",
       "0    강남구                2301. 현대고등학교 건너편     201906   4072\n",
       "1    강남구  2302. 교보타워 버스정류장(신논현역 3번출구 후면)     201906   2382\n",
       "2    강남구                  2303. 논현역 7번출구     201906   1402"
      ]
     },
     "execution_count": 8,
     "metadata": {},
     "output_type": "execute_result"
    }
   ],
   "source": [
    "df_return1.head(3)"
   ]
  },
  {
   "cell_type": "code",
   "execution_count": 9,
   "metadata": {
    "ExecuteTime": {
     "end_time": "2020-05-01T03:37:22.948714Z",
     "start_time": "2020-05-01T03:37:22.928767Z"
    }
   },
   "outputs": [
    {
     "data": {
      "text/html": [
       "<div>\n",
       "<style scoped>\n",
       "    .dataframe tbody tr th:only-of-type {\n",
       "        vertical-align: middle;\n",
       "    }\n",
       "\n",
       "    .dataframe tbody tr th {\n",
       "        vertical-align: top;\n",
       "    }\n",
       "\n",
       "    .dataframe thead th {\n",
       "        text-align: right;\n",
       "    }\n",
       "</style>\n",
       "<table border=\"1\" class=\"dataframe\">\n",
       "  <thead>\n",
       "    <tr style=\"text-align: right;\">\n",
       "      <th></th>\n",
       "      <th>대여소 그룹</th>\n",
       "      <th>대여소 명</th>\n",
       "      <th>반납 일자 / 월</th>\n",
       "      <th>반납 건수</th>\n",
       "    </tr>\n",
       "  </thead>\n",
       "  <tbody>\n",
       "    <tr>\n",
       "      <td>9270</td>\n",
       "      <td>중랑구</td>\n",
       "      <td>1457. 동원사거리</td>\n",
       "      <td>201911</td>\n",
       "      <td>572</td>\n",
       "    </tr>\n",
       "    <tr>\n",
       "      <td>9271</td>\n",
       "      <td>중랑구</td>\n",
       "      <td>1458. 상봉터미널2</td>\n",
       "      <td>201911</td>\n",
       "      <td>1305</td>\n",
       "    </tr>\n",
       "    <tr>\n",
       "      <td>9272</td>\n",
       "      <td>중랑구</td>\n",
       "      <td>1459. 용마한신아파트사거리</td>\n",
       "      <td>201911</td>\n",
       "      <td>316</td>\n",
       "    </tr>\n",
       "  </tbody>\n",
       "</table>\n",
       "</div>"
      ],
      "text/plain": [
       "     대여소 그룹             대여소 명  반납 일자 / 월  반납 건수\n",
       "9270    중랑구       1457. 동원사거리     201911    572\n",
       "9271    중랑구      1458. 상봉터미널2     201911   1305\n",
       "9272    중랑구  1459. 용마한신아파트사거리     201911    316"
      ]
     },
     "execution_count": 9,
     "metadata": {},
     "output_type": "execute_result"
    }
   ],
   "source": [
    "df_return1.tail(3)"
   ]
  },
  {
   "cell_type": "code",
   "execution_count": 10,
   "metadata": {
    "ExecuteTime": {
     "end_time": "2020-05-01T03:37:22.975642Z",
     "start_time": "2020-05-01T03:37:22.953701Z"
    }
   },
   "outputs": [
    {
     "data": {
      "text/html": [
       "<div>\n",
       "<style scoped>\n",
       "    .dataframe tbody tr th:only-of-type {\n",
       "        vertical-align: middle;\n",
       "    }\n",
       "\n",
       "    .dataframe tbody tr th {\n",
       "        vertical-align: top;\n",
       "    }\n",
       "\n",
       "    .dataframe thead th {\n",
       "        text-align: right;\n",
       "    }\n",
       "</style>\n",
       "<table border=\"1\" class=\"dataframe\">\n",
       "  <thead>\n",
       "    <tr style=\"text-align: right;\">\n",
       "      <th></th>\n",
       "      <th>구분</th>\n",
       "      <th>대여소명</th>\n",
       "      <th>반납일자</th>\n",
       "      <th>반납건수</th>\n",
       "    </tr>\n",
       "  </thead>\n",
       "  <tbody>\n",
       "    <tr>\n",
       "      <td>0</td>\n",
       "      <td>강남구</td>\n",
       "      <td>2301. 현대고등학교 건너편</td>\n",
       "      <td>201812.0</td>\n",
       "      <td>437.0</td>\n",
       "    </tr>\n",
       "    <tr>\n",
       "      <td>1</td>\n",
       "      <td>강남구</td>\n",
       "      <td>2302. 교보타워 버스정류장(신논현역 3번출구 후면)</td>\n",
       "      <td>201812.0</td>\n",
       "      <td>556.0</td>\n",
       "    </tr>\n",
       "    <tr>\n",
       "      <td>2</td>\n",
       "      <td>강남구</td>\n",
       "      <td>2303. 논현역 7번출구</td>\n",
       "      <td>201812.0</td>\n",
       "      <td>273.0</td>\n",
       "    </tr>\n",
       "  </tbody>\n",
       "</table>\n",
       "</div>"
      ],
      "text/plain": [
       "    구분                            대여소명      반납일자   반납건수\n",
       "0  강남구                2301. 현대고등학교 건너편  201812.0  437.0\n",
       "1  강남구  2302. 교보타워 버스정류장(신논현역 3번출구 후면)  201812.0  556.0\n",
       "2  강남구                  2303. 논현역 7번출구  201812.0  273.0"
      ]
     },
     "execution_count": 10,
     "metadata": {},
     "output_type": "execute_result"
    }
   ],
   "source": [
    "df_return2.head(3)"
   ]
  },
  {
   "cell_type": "code",
   "execution_count": 11,
   "metadata": {
    "ExecuteTime": {
     "end_time": "2020-05-01T03:37:23.003084Z",
     "start_time": "2020-05-01T03:37:22.979160Z"
    }
   },
   "outputs": [
    {
     "data": {
      "text/html": [
       "<div>\n",
       "<style scoped>\n",
       "    .dataframe tbody tr th:only-of-type {\n",
       "        vertical-align: middle;\n",
       "    }\n",
       "\n",
       "    .dataframe tbody tr th {\n",
       "        vertical-align: top;\n",
       "    }\n",
       "\n",
       "    .dataframe thead th {\n",
       "        text-align: right;\n",
       "    }\n",
       "</style>\n",
       "<table border=\"1\" class=\"dataframe\">\n",
       "  <thead>\n",
       "    <tr style=\"text-align: right;\">\n",
       "      <th></th>\n",
       "      <th>구분</th>\n",
       "      <th>대여소명</th>\n",
       "      <th>반납일자</th>\n",
       "      <th>반납건수</th>\n",
       "    </tr>\n",
       "  </thead>\n",
       "  <tbody>\n",
       "    <tr>\n",
       "      <td>9186</td>\n",
       "      <td>중랑구</td>\n",
       "      <td>1457. 동원사거리</td>\n",
       "      <td>201905.0</td>\n",
       "      <td>749.0</td>\n",
       "    </tr>\n",
       "    <tr>\n",
       "      <td>9187</td>\n",
       "      <td>중랑구</td>\n",
       "      <td>1458. 상봉터미널2</td>\n",
       "      <td>201905.0</td>\n",
       "      <td>1492.0</td>\n",
       "    </tr>\n",
       "    <tr>\n",
       "      <td>9188</td>\n",
       "      <td>중랑구</td>\n",
       "      <td>1459. 용마한신아파트사거리</td>\n",
       "      <td>201905.0</td>\n",
       "      <td>320.0</td>\n",
       "    </tr>\n",
       "  </tbody>\n",
       "</table>\n",
       "</div>"
      ],
      "text/plain": [
       "       구분              대여소명      반납일자    반납건수\n",
       "9186  중랑구       1457. 동원사거리  201905.0   749.0\n",
       "9187  중랑구      1458. 상봉터미널2  201905.0  1492.0\n",
       "9188  중랑구  1459. 용마한신아파트사거리  201905.0   320.0"
      ]
     },
     "execution_count": 11,
     "metadata": {},
     "output_type": "execute_result"
    }
   ],
   "source": [
    "df_return2.tail(3)"
   ]
  },
  {
   "cell_type": "code",
   "execution_count": 12,
   "metadata": {
    "ExecuteTime": {
     "end_time": "2020-05-01T03:37:23.038986Z",
     "start_time": "2020-05-01T03:37:23.008070Z"
    }
   },
   "outputs": [
    {
     "data": {
      "text/html": [
       "<div>\n",
       "<style scoped>\n",
       "    .dataframe tbody tr th:only-of-type {\n",
       "        vertical-align: middle;\n",
       "    }\n",
       "\n",
       "    .dataframe tbody tr th {\n",
       "        vertical-align: top;\n",
       "    }\n",
       "\n",
       "    .dataframe thead th {\n",
       "        text-align: right;\n",
       "    }\n",
       "</style>\n",
       "<table border=\"1\" class=\"dataframe\">\n",
       "  <thead>\n",
       "    <tr style=\"text-align: right;\">\n",
       "      <th></th>\n",
       "      <th>대여소_구</th>\n",
       "      <th>대여소ID</th>\n",
       "      <th>대여소명</th>\n",
       "      <th>대여소주소</th>\n",
       "      <th>위도</th>\n",
       "      <th>경도</th>\n",
       "      <th>기준시작일자</th>\n",
       "      <th>거치대수</th>\n",
       "    </tr>\n",
       "  </thead>\n",
       "  <tbody>\n",
       "    <tr>\n",
       "      <td>0</td>\n",
       "      <td>마포구</td>\n",
       "      <td>101.0</td>\n",
       "      <td>101. (구)합정동 주민센터</td>\n",
       "      <td>서울특별시 마포구 동교로8길 58</td>\n",
       "      <td>37.549561</td>\n",
       "      <td>126.905754</td>\n",
       "      <td>2015-09-06 23:40:56</td>\n",
       "      <td>5</td>\n",
       "    </tr>\n",
       "    <tr>\n",
       "      <td>1</td>\n",
       "      <td>마포구</td>\n",
       "      <td>102.0</td>\n",
       "      <td>102. 망원역 1번출구 앞</td>\n",
       "      <td>서울특별시 마포구 월드컵로 72</td>\n",
       "      <td>37.555649</td>\n",
       "      <td>126.910629</td>\n",
       "      <td>2015-09-06 23:42:06</td>\n",
       "      <td>20</td>\n",
       "    </tr>\n",
       "    <tr>\n",
       "      <td>2</td>\n",
       "      <td>마포구</td>\n",
       "      <td>103.0</td>\n",
       "      <td>103. 망원역 2번출구 앞</td>\n",
       "      <td>서울특별시 마포구 월드컵로 79</td>\n",
       "      <td>37.554951</td>\n",
       "      <td>126.910835</td>\n",
       "      <td>2015-09-06 23:43:13</td>\n",
       "      <td>14</td>\n",
       "    </tr>\n",
       "  </tbody>\n",
       "</table>\n",
       "</div>"
      ],
      "text/plain": [
       "  대여소_구  대여소ID              대여소명               대여소주소         위도          경도  \\\n",
       "0   마포구  101.0  101. (구)합정동 주민센터  서울특별시 마포구 동교로8길 58  37.549561  126.905754   \n",
       "1   마포구  102.0   102. 망원역 1번출구 앞   서울특별시 마포구 월드컵로 72  37.555649  126.910629   \n",
       "2   마포구  103.0   103. 망원역 2번출구 앞   서울특별시 마포구 월드컵로 79  37.554951  126.910835   \n",
       "\n",
       "                기준시작일자  거치대수  \n",
       "0  2015-09-06 23:40:56     5  \n",
       "1  2015-09-06 23:42:06    20  \n",
       "2  2015-09-06 23:43:13    14  "
      ]
     },
     "execution_count": 12,
     "metadata": {},
     "output_type": "execute_result"
    }
   ],
   "source": [
    "df_station.head(3)"
   ]
  },
  {
   "cell_type": "code",
   "execution_count": 13,
   "metadata": {
    "ExecuteTime": {
     "end_time": "2020-05-01T03:37:23.073896Z",
     "start_time": "2020-05-01T03:37:23.042977Z"
    }
   },
   "outputs": [
    {
     "data": {
      "text/html": [
       "<div>\n",
       "<style scoped>\n",
       "    .dataframe tbody tr th:only-of-type {\n",
       "        vertical-align: middle;\n",
       "    }\n",
       "\n",
       "    .dataframe tbody tr th {\n",
       "        vertical-align: top;\n",
       "    }\n",
       "\n",
       "    .dataframe thead th {\n",
       "        text-align: right;\n",
       "    }\n",
       "</style>\n",
       "<table border=\"1\" class=\"dataframe\">\n",
       "  <thead>\n",
       "    <tr style=\"text-align: right;\">\n",
       "      <th></th>\n",
       "      <th>대여소_구</th>\n",
       "      <th>대여소ID</th>\n",
       "      <th>대여소명</th>\n",
       "      <th>대여소주소</th>\n",
       "      <th>위도</th>\n",
       "      <th>경도</th>\n",
       "      <th>기준시작일자</th>\n",
       "      <th>거치대수</th>\n",
       "    </tr>\n",
       "  </thead>\n",
       "  <tbody>\n",
       "    <tr>\n",
       "      <td>1538</td>\n",
       "      <td>종로구</td>\n",
       "      <td>465.0</td>\n",
       "      <td>465. 삼청공원 앞</td>\n",
       "      <td>서울특별시 종로구 삼청동 25-32</td>\n",
       "      <td>37.587605</td>\n",
       "      <td>126.983597</td>\n",
       "      <td>2019.11.20</td>\n",
       "      <td>5</td>\n",
       "    </tr>\n",
       "    <tr>\n",
       "      <td>1539</td>\n",
       "      <td>종로구</td>\n",
       "      <td>664.0</td>\n",
       "      <td>서울시립대 대학본부</td>\n",
       "      <td>동대문구 서울시립대로 163 서울시립대학교</td>\n",
       "      <td>37.584129</td>\n",
       "      <td>127.057938</td>\n",
       "      <td>2019.11.20</td>\n",
       "      <td>10</td>\n",
       "    </tr>\n",
       "    <tr>\n",
       "      <td>1540</td>\n",
       "      <td>합계</td>\n",
       "      <td>NaN</td>\n",
       "      <td>1540</td>\n",
       "      <td>NaN</td>\n",
       "      <td>NaN</td>\n",
       "      <td>NaN</td>\n",
       "      <td>NaN</td>\n",
       "      <td>19545</td>\n",
       "    </tr>\n",
       "  </tbody>\n",
       "</table>\n",
       "</div>"
      ],
      "text/plain": [
       "     대여소_구  대여소ID         대여소명                    대여소주소         위도  \\\n",
       "1538   종로구  465.0  465. 삼청공원 앞      서울특별시 종로구 삼청동 25-32  37.587605   \n",
       "1539   종로구  664.0   서울시립대 대학본부  동대문구 서울시립대로 163 서울시립대학교  37.584129   \n",
       "1540    합계    NaN         1540                      NaN        NaN   \n",
       "\n",
       "              경도      기준시작일자   거치대수  \n",
       "1538  126.983597  2019.11.20      5  \n",
       "1539  127.057938  2019.11.20     10  \n",
       "1540         NaN         NaN  19545  "
      ]
     },
     "execution_count": 13,
     "metadata": {},
     "output_type": "execute_result"
    }
   ],
   "source": [
    "df_station.tail(3)"
   ]
  },
  {
   "cell_type": "markdown",
   "metadata": {},
   "source": [
    "* station 마지막 레코드인 합계를 지워주자."
   ]
  },
  {
   "cell_type": "code",
   "execution_count": 14,
   "metadata": {
    "ExecuteTime": {
     "end_time": "2020-05-01T03:37:23.089850Z",
     "start_time": "2020-05-01T03:37:23.078882Z"
    }
   },
   "outputs": [],
   "source": [
    "df_station.drop(1540, axis=0, inplace=True)"
   ]
  },
  {
   "cell_type": "markdown",
   "metadata": {},
   "source": [
    "## 2. 데이터 전처리"
   ]
  },
  {
   "cell_type": "markdown",
   "metadata": {},
   "source": [
    "### 2-1. 데이터 병합"
   ]
  },
  {
   "cell_type": "markdown",
   "metadata": {},
   "source": [
    "* 서로 컬럼명이 다름, 병합을 위해 컬럼명을 맞춰줘야함\n",
    "* 코딩 편의를 위해 컬럼명 영어로 통일하기!\n",
    "    * 한글명은 한영키를 한 번 더 눌러줘야해서 오타 확률이 더 높은듯"
   ]
  },
  {
   "cell_type": "code",
   "execution_count": 15,
   "metadata": {
    "ExecuteTime": {
     "end_time": "2020-05-01T03:37:23.105621Z",
     "start_time": "2020-05-01T03:37:23.093842Z"
    }
   },
   "outputs": [
    {
     "name": "stdout",
     "output_type": "stream",
     "text": [
      "(9272, 4) \n",
      " (9189, 4)\n"
     ]
    }
   ],
   "source": [
    "# 데이터 형태 출력\n",
    "print(df_rent1.shape,'\\n',df_rent2.shape)"
   ]
  },
  {
   "cell_type": "code",
   "execution_count": 16,
   "metadata": {
    "ExecuteTime": {
     "end_time": "2020-05-01T03:37:23.149503Z",
     "start_time": "2020-05-01T03:37:23.109611Z"
    }
   },
   "outputs": [
    {
     "name": "stdout",
     "output_type": "stream",
     "text": [
      "(18461, 4)\n"
     ]
    },
    {
     "data": {
      "text/html": [
       "<div>\n",
       "<style scoped>\n",
       "    .dataframe tbody tr th:only-of-type {\n",
       "        vertical-align: middle;\n",
       "    }\n",
       "\n",
       "    .dataframe tbody tr th {\n",
       "        vertical-align: top;\n",
       "    }\n",
       "\n",
       "    .dataframe thead th {\n",
       "        text-align: right;\n",
       "    }\n",
       "</style>\n",
       "<table border=\"1\" class=\"dataframe\">\n",
       "  <thead>\n",
       "    <tr style=\"text-align: right;\">\n",
       "      <th></th>\n",
       "      <th>district</th>\n",
       "      <th>station</th>\n",
       "      <th>date</th>\n",
       "      <th>count</th>\n",
       "    </tr>\n",
       "  </thead>\n",
       "  <tbody>\n",
       "    <tr>\n",
       "      <td>0</td>\n",
       "      <td>강남구</td>\n",
       "      <td>2301. 현대고등학교 건너편</td>\n",
       "      <td>201906.0</td>\n",
       "      <td>3909.0</td>\n",
       "    </tr>\n",
       "    <tr>\n",
       "      <td>1</td>\n",
       "      <td>강남구</td>\n",
       "      <td>2302. 교보타워 버스정류장(신논현역 3번출구 후면)</td>\n",
       "      <td>201906.0</td>\n",
       "      <td>2432.0</td>\n",
       "    </tr>\n",
       "    <tr>\n",
       "      <td>2</td>\n",
       "      <td>강남구</td>\n",
       "      <td>2303. 논현역 7번출구</td>\n",
       "      <td>201906.0</td>\n",
       "      <td>1567.0</td>\n",
       "    </tr>\n",
       "    <tr>\n",
       "      <td>3</td>\n",
       "      <td>강남구</td>\n",
       "      <td>2304. 신영 ROYAL PALACE 앞</td>\n",
       "      <td>201906.0</td>\n",
       "      <td>559.0</td>\n",
       "    </tr>\n",
       "    <tr>\n",
       "      <td>4</td>\n",
       "      <td>강남구</td>\n",
       "      <td>2305. MCM 본사 직영점 앞</td>\n",
       "      <td>201906.0</td>\n",
       "      <td>730.0</td>\n",
       "    </tr>\n",
       "  </tbody>\n",
       "</table>\n",
       "</div>"
      ],
      "text/plain": [
       "  district                         station      date   count\n",
       "0      강남구                2301. 현대고등학교 건너편  201906.0  3909.0\n",
       "1      강남구  2302. 교보타워 버스정류장(신논현역 3번출구 후면)  201906.0  2432.0\n",
       "2      강남구                  2303. 논현역 7번출구  201906.0  1567.0\n",
       "3      강남구         2304. 신영 ROYAL PALACE 앞  201906.0   559.0\n",
       "4      강남구              2305. MCM 본사 직영점 앞  201906.0   730.0"
      ]
     },
     "execution_count": 16,
     "metadata": {},
     "output_type": "execute_result"
    }
   ],
   "source": [
    "# 컬럼명 변경, 데이터 합치기\n",
    "df_rent1.columns=['district','station','date','count']\n",
    "df_rent2.columns=['district','station','date','count']\n",
    "df_rent = pd.concat([df_rent1, df_rent2])\n",
    "print(df_rent.shape)\n",
    "df_rent.head()"
   ]
  },
  {
   "cell_type": "markdown",
   "metadata": {},
   "source": [
    "* 이번엔 반납 데이터를 확인해보자!"
   ]
  },
  {
   "cell_type": "code",
   "execution_count": 17,
   "metadata": {
    "ExecuteTime": {
     "end_time": "2020-05-01T03:37:23.182414Z",
     "start_time": "2020-05-01T03:37:23.155488Z"
    }
   },
   "outputs": [
    {
     "data": {
      "text/html": [
       "<div>\n",
       "<style scoped>\n",
       "    .dataframe tbody tr th:only-of-type {\n",
       "        vertical-align: middle;\n",
       "    }\n",
       "\n",
       "    .dataframe tbody tr th {\n",
       "        vertical-align: top;\n",
       "    }\n",
       "\n",
       "    .dataframe thead th {\n",
       "        text-align: right;\n",
       "    }\n",
       "</style>\n",
       "<table border=\"1\" class=\"dataframe\">\n",
       "  <thead>\n",
       "    <tr style=\"text-align: right;\">\n",
       "      <th></th>\n",
       "      <th>대여소 그룹</th>\n",
       "      <th>대여소 명</th>\n",
       "      <th>반납 일자 / 월</th>\n",
       "      <th>반납 건수</th>\n",
       "    </tr>\n",
       "  </thead>\n",
       "  <tbody>\n",
       "    <tr>\n",
       "      <td>0</td>\n",
       "      <td>강남구</td>\n",
       "      <td>2301. 현대고등학교 건너편</td>\n",
       "      <td>201906</td>\n",
       "      <td>4072</td>\n",
       "    </tr>\n",
       "    <tr>\n",
       "      <td>1</td>\n",
       "      <td>강남구</td>\n",
       "      <td>2302. 교보타워 버스정류장(신논현역 3번출구 후면)</td>\n",
       "      <td>201906</td>\n",
       "      <td>2382</td>\n",
       "    </tr>\n",
       "    <tr>\n",
       "      <td>2</td>\n",
       "      <td>강남구</td>\n",
       "      <td>2303. 논현역 7번출구</td>\n",
       "      <td>201906</td>\n",
       "      <td>1402</td>\n",
       "    </tr>\n",
       "    <tr>\n",
       "      <td>3</td>\n",
       "      <td>강남구</td>\n",
       "      <td>2304. 신영 ROYAL PALACE 앞</td>\n",
       "      <td>201906</td>\n",
       "      <td>207</td>\n",
       "    </tr>\n",
       "    <tr>\n",
       "      <td>4</td>\n",
       "      <td>강남구</td>\n",
       "      <td>2305. MCM 본사 직영점 앞</td>\n",
       "      <td>201906</td>\n",
       "      <td>905</td>\n",
       "    </tr>\n",
       "  </tbody>\n",
       "</table>\n",
       "</div>"
      ],
      "text/plain": [
       "  대여소 그룹                           대여소 명  반납 일자 / 월  반납 건수\n",
       "0    강남구                2301. 현대고등학교 건너편     201906   4072\n",
       "1    강남구  2302. 교보타워 버스정류장(신논현역 3번출구 후면)     201906   2382\n",
       "2    강남구                  2303. 논현역 7번출구     201906   1402\n",
       "3    강남구         2304. 신영 ROYAL PALACE 앞     201906    207\n",
       "4    강남구              2305. MCM 본사 직영점 앞     201906    905"
      ]
     },
     "execution_count": 17,
     "metadata": {},
     "output_type": "execute_result"
    }
   ],
   "source": [
    "df_return1.head()"
   ]
  },
  {
   "cell_type": "code",
   "execution_count": 18,
   "metadata": {
    "ExecuteTime": {
     "end_time": "2020-05-01T03:37:23.212335Z",
     "start_time": "2020-05-01T03:37:23.188400Z"
    }
   },
   "outputs": [
    {
     "data": {
      "text/html": [
       "<div>\n",
       "<style scoped>\n",
       "    .dataframe tbody tr th:only-of-type {\n",
       "        vertical-align: middle;\n",
       "    }\n",
       "\n",
       "    .dataframe tbody tr th {\n",
       "        vertical-align: top;\n",
       "    }\n",
       "\n",
       "    .dataframe thead th {\n",
       "        text-align: right;\n",
       "    }\n",
       "</style>\n",
       "<table border=\"1\" class=\"dataframe\">\n",
       "  <thead>\n",
       "    <tr style=\"text-align: right;\">\n",
       "      <th></th>\n",
       "      <th>구분</th>\n",
       "      <th>대여소명</th>\n",
       "      <th>반납일자</th>\n",
       "      <th>반납건수</th>\n",
       "    </tr>\n",
       "  </thead>\n",
       "  <tbody>\n",
       "    <tr>\n",
       "      <td>0</td>\n",
       "      <td>강남구</td>\n",
       "      <td>2301. 현대고등학교 건너편</td>\n",
       "      <td>201812.0</td>\n",
       "      <td>437.0</td>\n",
       "    </tr>\n",
       "    <tr>\n",
       "      <td>1</td>\n",
       "      <td>강남구</td>\n",
       "      <td>2302. 교보타워 버스정류장(신논현역 3번출구 후면)</td>\n",
       "      <td>201812.0</td>\n",
       "      <td>556.0</td>\n",
       "    </tr>\n",
       "    <tr>\n",
       "      <td>2</td>\n",
       "      <td>강남구</td>\n",
       "      <td>2303. 논현역 7번출구</td>\n",
       "      <td>201812.0</td>\n",
       "      <td>273.0</td>\n",
       "    </tr>\n",
       "    <tr>\n",
       "      <td>3</td>\n",
       "      <td>강남구</td>\n",
       "      <td>2304. 신영 ROYAL PALACE 앞</td>\n",
       "      <td>201812.0</td>\n",
       "      <td>62.0</td>\n",
       "    </tr>\n",
       "    <tr>\n",
       "      <td>4</td>\n",
       "      <td>강남구</td>\n",
       "      <td>2305. MCM 본사 직영점 앞</td>\n",
       "      <td>201812.0</td>\n",
       "      <td>218.0</td>\n",
       "    </tr>\n",
       "  </tbody>\n",
       "</table>\n",
       "</div>"
      ],
      "text/plain": [
       "    구분                            대여소명      반납일자   반납건수\n",
       "0  강남구                2301. 현대고등학교 건너편  201812.0  437.0\n",
       "1  강남구  2302. 교보타워 버스정류장(신논현역 3번출구 후면)  201812.0  556.0\n",
       "2  강남구                  2303. 논현역 7번출구  201812.0  273.0\n",
       "3  강남구         2304. 신영 ROYAL PALACE 앞  201812.0   62.0\n",
       "4  강남구              2305. MCM 본사 직영점 앞  201812.0  218.0"
      ]
     },
     "execution_count": 18,
     "metadata": {},
     "output_type": "execute_result"
    }
   ],
   "source": [
    "df_return2.head()"
   ]
  },
  {
   "cell_type": "code",
   "execution_count": 19,
   "metadata": {
    "ExecuteTime": {
     "end_time": "2020-05-01T03:37:23.234276Z",
     "start_time": "2020-05-01T03:37:23.216325Z"
    }
   },
   "outputs": [],
   "source": [
    "# 컬럼명 통일, 데이터 합치기\n",
    "df_return1.columns = ['district', 'station', 'date', 'count']\n",
    "df_return2.columns = ['district', 'station', 'date', 'count']\n",
    "\n",
    "df_return = pd.concat([df_return1, df_return2])"
   ]
  },
  {
   "cell_type": "code",
   "execution_count": 20,
   "metadata": {
    "ExecuteTime": {
     "end_time": "2020-05-01T03:37:23.269189Z",
     "start_time": "2020-05-01T03:37:23.240261Z"
    }
   },
   "outputs": [
    {
     "name": "stdout",
     "output_type": "stream",
     "text": [
      "(9273, 4) (9189, 4)\n",
      "총 레코드 수: 18462\n",
      "(18462, 4)\n"
     ]
    },
    {
     "data": {
      "text/html": [
       "<div>\n",
       "<style scoped>\n",
       "    .dataframe tbody tr th:only-of-type {\n",
       "        vertical-align: middle;\n",
       "    }\n",
       "\n",
       "    .dataframe tbody tr th {\n",
       "        vertical-align: top;\n",
       "    }\n",
       "\n",
       "    .dataframe thead th {\n",
       "        text-align: right;\n",
       "    }\n",
       "</style>\n",
       "<table border=\"1\" class=\"dataframe\">\n",
       "  <thead>\n",
       "    <tr style=\"text-align: right;\">\n",
       "      <th></th>\n",
       "      <th>district</th>\n",
       "      <th>station</th>\n",
       "      <th>date</th>\n",
       "      <th>count</th>\n",
       "    </tr>\n",
       "  </thead>\n",
       "  <tbody>\n",
       "    <tr>\n",
       "      <td>0</td>\n",
       "      <td>강남구</td>\n",
       "      <td>2301. 현대고등학교 건너편</td>\n",
       "      <td>201906.0</td>\n",
       "      <td>4072.0</td>\n",
       "    </tr>\n",
       "    <tr>\n",
       "      <td>1</td>\n",
       "      <td>강남구</td>\n",
       "      <td>2302. 교보타워 버스정류장(신논현역 3번출구 후면)</td>\n",
       "      <td>201906.0</td>\n",
       "      <td>2382.0</td>\n",
       "    </tr>\n",
       "    <tr>\n",
       "      <td>2</td>\n",
       "      <td>강남구</td>\n",
       "      <td>2303. 논현역 7번출구</td>\n",
       "      <td>201906.0</td>\n",
       "      <td>1402.0</td>\n",
       "    </tr>\n",
       "    <tr>\n",
       "      <td>3</td>\n",
       "      <td>강남구</td>\n",
       "      <td>2304. 신영 ROYAL PALACE 앞</td>\n",
       "      <td>201906.0</td>\n",
       "      <td>207.0</td>\n",
       "    </tr>\n",
       "    <tr>\n",
       "      <td>4</td>\n",
       "      <td>강남구</td>\n",
       "      <td>2305. MCM 본사 직영점 앞</td>\n",
       "      <td>201906.0</td>\n",
       "      <td>905.0</td>\n",
       "    </tr>\n",
       "    <tr>\n",
       "      <td>...</td>\n",
       "      <td>...</td>\n",
       "      <td>...</td>\n",
       "      <td>...</td>\n",
       "      <td>...</td>\n",
       "    </tr>\n",
       "    <tr>\n",
       "      <td>9184</td>\n",
       "      <td>중랑구</td>\n",
       "      <td>1455. 상봉역 2번 출구</td>\n",
       "      <td>201905.0</td>\n",
       "      <td>1300.0</td>\n",
       "    </tr>\n",
       "    <tr>\n",
       "      <td>9185</td>\n",
       "      <td>중랑구</td>\n",
       "      <td>1456. 상아빌딩(우림시장 교차로)</td>\n",
       "      <td>201905.0</td>\n",
       "      <td>867.0</td>\n",
       "    </tr>\n",
       "    <tr>\n",
       "      <td>9186</td>\n",
       "      <td>중랑구</td>\n",
       "      <td>1457. 동원사거리</td>\n",
       "      <td>201905.0</td>\n",
       "      <td>749.0</td>\n",
       "    </tr>\n",
       "    <tr>\n",
       "      <td>9187</td>\n",
       "      <td>중랑구</td>\n",
       "      <td>1458. 상봉터미널2</td>\n",
       "      <td>201905.0</td>\n",
       "      <td>1492.0</td>\n",
       "    </tr>\n",
       "    <tr>\n",
       "      <td>9188</td>\n",
       "      <td>중랑구</td>\n",
       "      <td>1459. 용마한신아파트사거리</td>\n",
       "      <td>201905.0</td>\n",
       "      <td>320.0</td>\n",
       "    </tr>\n",
       "  </tbody>\n",
       "</table>\n",
       "<p>18462 rows × 4 columns</p>\n",
       "</div>"
      ],
      "text/plain": [
       "     district                         station      date   count\n",
       "0         강남구                2301. 현대고등학교 건너편  201906.0  4072.0\n",
       "1         강남구  2302. 교보타워 버스정류장(신논현역 3번출구 후면)  201906.0  2382.0\n",
       "2         강남구                  2303. 논현역 7번출구  201906.0  1402.0\n",
       "3         강남구         2304. 신영 ROYAL PALACE 앞  201906.0   207.0\n",
       "4         강남구              2305. MCM 본사 직영점 앞  201906.0   905.0\n",
       "...       ...                             ...       ...     ...\n",
       "9184      중랑구                 1455. 상봉역 2번 출구  201905.0  1300.0\n",
       "9185      중랑구            1456. 상아빌딩(우림시장 교차로)  201905.0   867.0\n",
       "9186      중랑구                     1457. 동원사거리  201905.0   749.0\n",
       "9187      중랑구                    1458. 상봉터미널2  201905.0  1492.0\n",
       "9188      중랑구                1459. 용마한신아파트사거리  201905.0   320.0\n",
       "\n",
       "[18462 rows x 4 columns]"
      ]
     },
     "execution_count": 20,
     "metadata": {},
     "output_type": "execute_result"
    }
   ],
   "source": [
    "# 제대로 합쳐졌는지 확인하기!\n",
    "print(df_return1.shape, df_return2.shape)\n",
    "print('총 레코드 수: {}'.format(df_return1.shape[0] + df_return2.shape[0]))\n",
    "print(df_return.shape)\n",
    "df_return"
   ]
  },
  {
   "cell_type": "markdown",
   "metadata": {},
   "source": [
    "### 2-2. 결측값 처리\n",
    "* Null값이 있는지 확인해보자."
   ]
  },
  {
   "cell_type": "code",
   "execution_count": 21,
   "metadata": {
    "ExecuteTime": {
     "end_time": "2020-05-01T03:37:26.213779Z",
     "start_time": "2020-05-01T03:37:23.274172Z"
    }
   },
   "outputs": [
    {
     "data": {
      "text/plain": [
       "<matplotlib.axes._subplots.AxesSubplot at 0x141016358c8>"
      ]
     },
     "execution_count": 21,
     "metadata": {},
     "output_type": "execute_result"
    },
    {
     "data": {
      "image/png": "[encoded data removed]",
      "text/plain": [
       "<Figure size 864x1440 with 9 Axes>"
      ]
     },
     "metadata": {
      "needs_background": "light"
     },
     "output_type": "display_data"
    }
   ],
   "source": [
    "import missingno as msno\n",
    "f, ax = plt.subplots(3, 1, figsize=(12, 20))\n",
    "msno.bar(df_rent, ax=ax[0])\n",
    "msno.bar(df_return, ax=ax[1])\n",
    "msno.bar(df_station, ax=ax[2])"
   ]
  },
  {
   "cell_type": "code",
   "execution_count": 22,
   "metadata": {
    "ExecuteTime": {
     "end_time": "2020-05-01T03:37:26.243698Z",
     "start_time": "2020-05-01T03:37:26.221755Z"
    }
   },
   "outputs": [
    {
     "data": {
      "text/html": [
       "<div>\n",
       "<style scoped>\n",
       "    .dataframe tbody tr th:only-of-type {\n",
       "        vertical-align: middle;\n",
       "    }\n",
       "\n",
       "    .dataframe tbody tr th {\n",
       "        vertical-align: top;\n",
       "    }\n",
       "\n",
       "    .dataframe thead th {\n",
       "        text-align: right;\n",
       "    }\n",
       "</style>\n",
       "<table border=\"1\" class=\"dataframe\">\n",
       "  <thead>\n",
       "    <tr style=\"text-align: right;\">\n",
       "      <th></th>\n",
       "      <th>district</th>\n",
       "      <th>station</th>\n",
       "      <th>date</th>\n",
       "      <th>count</th>\n",
       "    </tr>\n",
       "  </thead>\n",
       "  <tbody>\n",
       "    <tr>\n",
       "      <td>1523</td>\n",
       "      <td>NaN</td>\n",
       "      <td>NaN</td>\n",
       "      <td>NaN</td>\n",
       "      <td>NaN</td>\n",
       "    </tr>\n",
       "    <tr>\n",
       "      <td>3052</td>\n",
       "      <td>NaN</td>\n",
       "      <td>NaN</td>\n",
       "      <td>NaN</td>\n",
       "      <td>NaN</td>\n",
       "    </tr>\n",
       "    <tr>\n",
       "      <td>4579</td>\n",
       "      <td>NaN</td>\n",
       "      <td>NaN</td>\n",
       "      <td>NaN</td>\n",
       "      <td>NaN</td>\n",
       "    </tr>\n",
       "    <tr>\n",
       "      <td>6116</td>\n",
       "      <td>NaN</td>\n",
       "      <td>NaN</td>\n",
       "      <td>NaN</td>\n",
       "      <td>NaN</td>\n",
       "    </tr>\n",
       "    <tr>\n",
       "      <td>7652</td>\n",
       "      <td>NaN</td>\n",
       "      <td>NaN</td>\n",
       "      <td>NaN</td>\n",
       "      <td>NaN</td>\n",
       "    </tr>\n",
       "  </tbody>\n",
       "</table>\n",
       "</div>"
      ],
      "text/plain": [
       "     district station  date  count\n",
       "1523      NaN     NaN   NaN    NaN\n",
       "3052      NaN     NaN   NaN    NaN\n",
       "4579      NaN     NaN   NaN    NaN\n",
       "6116      NaN     NaN   NaN    NaN\n",
       "7652      NaN     NaN   NaN    NaN"
      ]
     },
     "execution_count": 22,
     "metadata": {},
     "output_type": "execute_result"
    }
   ],
   "source": [
    "df_return[df_return['count'].isnull()]"
   ]
  },
  {
   "cell_type": "code",
   "execution_count": 23,
   "metadata": {
    "ExecuteTime": {
     "end_time": "2020-05-01T03:37:26.267631Z",
     "start_time": "2020-05-01T03:37:26.247688Z"
    }
   },
   "outputs": [
    {
     "data": {
      "text/html": [
       "<div>\n",
       "<style scoped>\n",
       "    .dataframe tbody tr th:only-of-type {\n",
       "        vertical-align: middle;\n",
       "    }\n",
       "\n",
       "    .dataframe tbody tr th {\n",
       "        vertical-align: top;\n",
       "    }\n",
       "\n",
       "    .dataframe thead th {\n",
       "        text-align: right;\n",
       "    }\n",
       "</style>\n",
       "<table border=\"1\" class=\"dataframe\">\n",
       "  <thead>\n",
       "    <tr style=\"text-align: right;\">\n",
       "      <th></th>\n",
       "      <th>district</th>\n",
       "      <th>station</th>\n",
       "      <th>date</th>\n",
       "      <th>count</th>\n",
       "    </tr>\n",
       "  </thead>\n",
       "  <tbody>\n",
       "    <tr>\n",
       "      <td>1523</td>\n",
       "      <td>NaN</td>\n",
       "      <td>NaN</td>\n",
       "      <td>NaN</td>\n",
       "      <td>NaN</td>\n",
       "    </tr>\n",
       "    <tr>\n",
       "      <td>3052</td>\n",
       "      <td>NaN</td>\n",
       "      <td>NaN</td>\n",
       "      <td>NaN</td>\n",
       "      <td>NaN</td>\n",
       "    </tr>\n",
       "    <tr>\n",
       "      <td>4579</td>\n",
       "      <td>NaN</td>\n",
       "      <td>NaN</td>\n",
       "      <td>NaN</td>\n",
       "      <td>NaN</td>\n",
       "    </tr>\n",
       "    <tr>\n",
       "      <td>6116</td>\n",
       "      <td>NaN</td>\n",
       "      <td>NaN</td>\n",
       "      <td>NaN</td>\n",
       "      <td>NaN</td>\n",
       "    </tr>\n",
       "    <tr>\n",
       "      <td>7652</td>\n",
       "      <td>NaN</td>\n",
       "      <td>NaN</td>\n",
       "      <td>NaN</td>\n",
       "      <td>NaN</td>\n",
       "    </tr>\n",
       "  </tbody>\n",
       "</table>\n",
       "</div>"
      ],
      "text/plain": [
       "     district station  date  count\n",
       "1523      NaN     NaN   NaN    NaN\n",
       "3052      NaN     NaN   NaN    NaN\n",
       "4579      NaN     NaN   NaN    NaN\n",
       "6116      NaN     NaN   NaN    NaN\n",
       "7652      NaN     NaN   NaN    NaN"
      ]
     },
     "execution_count": 23,
     "metadata": {},
     "output_type": "execute_result"
    }
   ],
   "source": [
    "df_rent[df_rent['count'].isnull()]"
   ]
  },
  {
   "cell_type": "markdown",
   "metadata": {},
   "source": [
    "* 모든 컬럼이 null값인 레코드들이다. 삭제해주자"
   ]
  },
  {
   "cell_type": "code",
   "execution_count": 24,
   "metadata": {
    "ExecuteTime": {
     "end_time": "2020-05-01T03:37:26.293564Z",
     "start_time": "2020-05-01T03:37:26.271622Z"
    }
   },
   "outputs": [],
   "source": [
    "df_return.dropna(inplace=True)\n",
    "df_rent.dropna(inplace=True)"
   ]
  },
  {
   "cell_type": "code",
   "execution_count": 25,
   "metadata": {
    "ExecuteTime": {
     "end_time": "2020-05-01T03:37:26.313509Z",
     "start_time": "2020-05-01T03:37:26.297554Z"
    }
   },
   "outputs": [
    {
     "data": {
      "text/html": [
       "<div>\n",
       "<style scoped>\n",
       "    .dataframe tbody tr th:only-of-type {\n",
       "        vertical-align: middle;\n",
       "    }\n",
       "\n",
       "    .dataframe tbody tr th {\n",
       "        vertical-align: top;\n",
       "    }\n",
       "\n",
       "    .dataframe thead th {\n",
       "        text-align: right;\n",
       "    }\n",
       "</style>\n",
       "<table border=\"1\" class=\"dataframe\">\n",
       "  <thead>\n",
       "    <tr style=\"text-align: right;\">\n",
       "      <th></th>\n",
       "      <th>district</th>\n",
       "      <th>station</th>\n",
       "      <th>date</th>\n",
       "      <th>count</th>\n",
       "    </tr>\n",
       "  </thead>\n",
       "  <tbody>\n",
       "    <tr>\n",
       "      <td>9184</td>\n",
       "      <td>중랑구</td>\n",
       "      <td>1455. 상봉역 2번 출구</td>\n",
       "      <td>201905.0</td>\n",
       "      <td>1362.0</td>\n",
       "    </tr>\n",
       "    <tr>\n",
       "      <td>9185</td>\n",
       "      <td>중랑구</td>\n",
       "      <td>1456. 상아빌딩(우림시장 교차로)</td>\n",
       "      <td>201905.0</td>\n",
       "      <td>826.0</td>\n",
       "    </tr>\n",
       "    <tr>\n",
       "      <td>9186</td>\n",
       "      <td>중랑구</td>\n",
       "      <td>1457. 동원사거리</td>\n",
       "      <td>201905.0</td>\n",
       "      <td>827.0</td>\n",
       "    </tr>\n",
       "    <tr>\n",
       "      <td>9187</td>\n",
       "      <td>중랑구</td>\n",
       "      <td>1458. 상봉터미널2</td>\n",
       "      <td>201905.0</td>\n",
       "      <td>1421.0</td>\n",
       "    </tr>\n",
       "    <tr>\n",
       "      <td>9188</td>\n",
       "      <td>중랑구</td>\n",
       "      <td>1459. 용마한신아파트사거리</td>\n",
       "      <td>201905.0</td>\n",
       "      <td>447.0</td>\n",
       "    </tr>\n",
       "  </tbody>\n",
       "</table>\n",
       "</div>"
      ],
      "text/plain": [
       "     district               station      date   count\n",
       "9184      중랑구       1455. 상봉역 2번 출구  201905.0  1362.0\n",
       "9185      중랑구  1456. 상아빌딩(우림시장 교차로)  201905.0   826.0\n",
       "9186      중랑구           1457. 동원사거리  201905.0   827.0\n",
       "9187      중랑구          1458. 상봉터미널2  201905.0  1421.0\n",
       "9188      중랑구      1459. 용마한신아파트사거리  201905.0   447.0"
      ]
     },
     "execution_count": 25,
     "metadata": {},
     "output_type": "execute_result"
    }
   ],
   "source": [
    "df_rent.tail()"
   ]
  },
  {
   "cell_type": "markdown",
   "metadata": {},
   "source": [
    "* 그런데, index가 중복되어있다. 인덱스를 다시 설정해주자."
   ]
  },
  {
   "cell_type": "code",
   "execution_count": 26,
   "metadata": {
    "ExecuteTime": {
     "end_time": "2020-05-01T03:37:26.324483Z",
     "start_time": "2020-05-01T03:37:26.316505Z"
    }
   },
   "outputs": [],
   "source": [
    "df_return.reset_index(drop=True, inplace=True)\n",
    "df_rent.reset_index(drop=True, inplace=True)"
   ]
  },
  {
   "cell_type": "code",
   "execution_count": 27,
   "metadata": {
    "ExecuteTime": {
     "end_time": "2020-05-01T03:37:26.355399Z",
     "start_time": "2020-05-01T03:37:26.328470Z"
    }
   },
   "outputs": [
    {
     "data": {
      "text/html": [
       "<div>\n",
       "<style scoped>\n",
       "    .dataframe tbody tr th:only-of-type {\n",
       "        vertical-align: middle;\n",
       "    }\n",
       "\n",
       "    .dataframe tbody tr th {\n",
       "        vertical-align: top;\n",
       "    }\n",
       "\n",
       "    .dataframe thead th {\n",
       "        text-align: right;\n",
       "    }\n",
       "</style>\n",
       "<table border=\"1\" class=\"dataframe\">\n",
       "  <thead>\n",
       "    <tr style=\"text-align: right;\">\n",
       "      <th></th>\n",
       "      <th>대여소_구</th>\n",
       "      <th>대여소ID</th>\n",
       "      <th>대여소명</th>\n",
       "      <th>대여소주소</th>\n",
       "      <th>위도</th>\n",
       "      <th>경도</th>\n",
       "      <th>기준시작일자</th>\n",
       "      <th>거치대수</th>\n",
       "    </tr>\n",
       "  </thead>\n",
       "  <tbody>\n",
       "    <tr>\n",
       "      <td>0</td>\n",
       "      <td>마포구</td>\n",
       "      <td>101.0</td>\n",
       "      <td>101. (구)합정동 주민센터</td>\n",
       "      <td>서울특별시 마포구 동교로8길 58</td>\n",
       "      <td>37.549561</td>\n",
       "      <td>126.905754</td>\n",
       "      <td>2015-09-06 23:40:56</td>\n",
       "      <td>5</td>\n",
       "    </tr>\n",
       "    <tr>\n",
       "      <td>1</td>\n",
       "      <td>마포구</td>\n",
       "      <td>102.0</td>\n",
       "      <td>102. 망원역 1번출구 앞</td>\n",
       "      <td>서울특별시 마포구 월드컵로 72</td>\n",
       "      <td>37.555649</td>\n",
       "      <td>126.910629</td>\n",
       "      <td>2015-09-06 23:42:06</td>\n",
       "      <td>20</td>\n",
       "    </tr>\n",
       "    <tr>\n",
       "      <td>2</td>\n",
       "      <td>마포구</td>\n",
       "      <td>103.0</td>\n",
       "      <td>103. 망원역 2번출구 앞</td>\n",
       "      <td>서울특별시 마포구 월드컵로 79</td>\n",
       "      <td>37.554951</td>\n",
       "      <td>126.910835</td>\n",
       "      <td>2015-09-06 23:43:13</td>\n",
       "      <td>14</td>\n",
       "    </tr>\n",
       "    <tr>\n",
       "      <td>3</td>\n",
       "      <td>마포구</td>\n",
       "      <td>104.0</td>\n",
       "      <td>104. 합정역 1번출구 앞</td>\n",
       "      <td>서울특별시 마포구 양화로 59</td>\n",
       "      <td>37.550629</td>\n",
       "      <td>126.914986</td>\n",
       "      <td>2015-09-06 23:44:31</td>\n",
       "      <td>13</td>\n",
       "    </tr>\n",
       "    <tr>\n",
       "      <td>4</td>\n",
       "      <td>마포구</td>\n",
       "      <td>105.0</td>\n",
       "      <td>105. 합정역 5번출구 앞</td>\n",
       "      <td>서울특별시 마포구 양화로 48</td>\n",
       "      <td>37.550007</td>\n",
       "      <td>126.914825</td>\n",
       "      <td>2015-09-06 23:45:30</td>\n",
       "      <td>5</td>\n",
       "    </tr>\n",
       "  </tbody>\n",
       "</table>\n",
       "</div>"
      ],
      "text/plain": [
       "  대여소_구  대여소ID              대여소명               대여소주소         위도          경도  \\\n",
       "0   마포구  101.0  101. (구)합정동 주민센터  서울특별시 마포구 동교로8길 58  37.549561  126.905754   \n",
       "1   마포구  102.0   102. 망원역 1번출구 앞   서울특별시 마포구 월드컵로 72  37.555649  126.910629   \n",
       "2   마포구  103.0   103. 망원역 2번출구 앞   서울특별시 마포구 월드컵로 79  37.554951  126.910835   \n",
       "3   마포구  104.0   104. 합정역 1번출구 앞    서울특별시 마포구 양화로 59  37.550629  126.914986   \n",
       "4   마포구  105.0   105. 합정역 5번출구 앞    서울특별시 마포구 양화로 48  37.550007  126.914825   \n",
       "\n",
       "                기준시작일자  거치대수  \n",
       "0  2015-09-06 23:40:56     5  \n",
       "1  2015-09-06 23:42:06    20  \n",
       "2  2015-09-06 23:43:13    14  \n",
       "3  2015-09-06 23:44:31    13  \n",
       "4  2015-09-06 23:45:30     5  "
      ]
     },
     "execution_count": 27,
     "metadata": {},
     "output_type": "execute_result"
    }
   ],
   "source": [
    "df_station.head()"
   ]
  },
  {
   "cell_type": "code",
   "execution_count": 28,
   "metadata": {
    "ExecuteTime": {
     "end_time": "2020-05-01T03:37:26.366369Z",
     "start_time": "2020-05-01T03:37:26.360384Z"
    }
   },
   "outputs": [],
   "source": [
    "# 컬럼명 영어로 변경!\n",
    "df_station.columns = ['district', 'id', 'station',\n",
    "                      'address', 'lat', 'lng', 'date', 'count']"
   ]
  },
  {
   "cell_type": "markdown",
   "metadata": {},
   "source": [
    "### 2-3. station컬럼 처리, id컬럼 추가"
   ]
  },
  {
   "cell_type": "code",
   "execution_count": 29,
   "metadata": {
    "ExecuteTime": {
     "end_time": "2020-05-01T03:37:26.387312Z",
     "start_time": "2020-05-01T03:37:26.370357Z"
    }
   },
   "outputs": [
    {
     "name": "stdout",
     "output_type": "stream",
     "text": [
      "<class 'pandas.core.frame.DataFrame'>\n",
      "RangeIndex: 18456 entries, 0 to 18455\n",
      "Data columns (total 4 columns):\n",
      "district    18456 non-null object\n",
      "station     18456 non-null object\n",
      "date        18456 non-null float64\n",
      "count       18456 non-null float64\n",
      "dtypes: float64(2), object(2)\n",
      "memory usage: 576.9+ KB\n"
     ]
    }
   ],
   "source": [
    "df_rent.info()"
   ]
  },
  {
   "cell_type": "code",
   "execution_count": 30,
   "metadata": {
    "ExecuteTime": {
     "end_time": "2020-05-01T03:37:26.411250Z",
     "start_time": "2020-05-01T03:37:26.391302Z"
    }
   },
   "outputs": [
    {
     "data": {
      "text/html": [
       "<div>\n",
       "<style scoped>\n",
       "    .dataframe tbody tr th:only-of-type {\n",
       "        vertical-align: middle;\n",
       "    }\n",
       "\n",
       "    .dataframe tbody tr th {\n",
       "        vertical-align: top;\n",
       "    }\n",
       "\n",
       "    .dataframe thead th {\n",
       "        text-align: right;\n",
       "    }\n",
       "</style>\n",
       "<table border=\"1\" class=\"dataframe\">\n",
       "  <thead>\n",
       "    <tr style=\"text-align: right;\">\n",
       "      <th></th>\n",
       "      <th>district</th>\n",
       "      <th>station</th>\n",
       "      <th>date</th>\n",
       "      <th>count</th>\n",
       "    </tr>\n",
       "  </thead>\n",
       "  <tbody>\n",
       "    <tr>\n",
       "      <td>0</td>\n",
       "      <td>강남구</td>\n",
       "      <td>2301. 현대고등학교 건너편</td>\n",
       "      <td>201906.0</td>\n",
       "      <td>3909.0</td>\n",
       "    </tr>\n",
       "    <tr>\n",
       "      <td>1</td>\n",
       "      <td>강남구</td>\n",
       "      <td>2302. 교보타워 버스정류장(신논현역 3번출구 후면)</td>\n",
       "      <td>201906.0</td>\n",
       "      <td>2432.0</td>\n",
       "    </tr>\n",
       "    <tr>\n",
       "      <td>2</td>\n",
       "      <td>강남구</td>\n",
       "      <td>2303. 논현역 7번출구</td>\n",
       "      <td>201906.0</td>\n",
       "      <td>1567.0</td>\n",
       "    </tr>\n",
       "  </tbody>\n",
       "</table>\n",
       "</div>"
      ],
      "text/plain": [
       "  district                         station      date   count\n",
       "0      강남구                2301. 현대고등학교 건너편  201906.0  3909.0\n",
       "1      강남구  2302. 교보타워 버스정류장(신논현역 3번출구 후면)  201906.0  2432.0\n",
       "2      강남구                  2303. 논현역 7번출구  201906.0  1567.0"
      ]
     },
     "execution_count": 30,
     "metadata": {},
     "output_type": "execute_result"
    }
   ],
   "source": [
    "df_rent.head(3)"
   ]
  },
  {
   "cell_type": "markdown",
   "metadata": {},
   "source": [
    "* 대여소 이름을 보면, [id. 대여소명]으로 되어있다.\n",
    "* 이것을 [id], [대여소명]으로 변경하면, 나중에 station 데이터의 id컬럼과 연결 시 편리할 것으로 보인다"
   ]
  },
  {
   "cell_type": "code",
   "execution_count": 31,
   "metadata": {
    "ExecuteTime": {
     "end_time": "2020-05-01T03:37:26.442166Z",
     "start_time": "2020-05-01T03:37:26.415240Z"
    }
   },
   "outputs": [
    {
     "data": {
      "text/html": [
       "<div>\n",
       "<style scoped>\n",
       "    .dataframe tbody tr th:only-of-type {\n",
       "        vertical-align: middle;\n",
       "    }\n",
       "\n",
       "    .dataframe tbody tr th {\n",
       "        vertical-align: top;\n",
       "    }\n",
       "\n",
       "    .dataframe thead th {\n",
       "        text-align: right;\n",
       "    }\n",
       "</style>\n",
       "<table border=\"1\" class=\"dataframe\">\n",
       "  <thead>\n",
       "    <tr style=\"text-align: right;\">\n",
       "      <th></th>\n",
       "      <th>district</th>\n",
       "      <th>station</th>\n",
       "      <th>date</th>\n",
       "      <th>count</th>\n",
       "    </tr>\n",
       "  </thead>\n",
       "  <tbody>\n",
       "    <tr>\n",
       "      <td>1380</td>\n",
       "      <td>정비센터</td>\n",
       "      <td>9998. 영남주차장 정비센터</td>\n",
       "      <td>201906.0</td>\n",
       "      <td>5.0</td>\n",
       "    </tr>\n",
       "    <tr>\n",
       "      <td>1381</td>\n",
       "      <td>정비센터</td>\n",
       "      <td>상암센터 정비실</td>\n",
       "      <td>201906.0</td>\n",
       "      <td>2.0</td>\n",
       "    </tr>\n",
       "    <tr>\n",
       "      <td>1382</td>\n",
       "      <td>정비센터</td>\n",
       "      <td>중랑센터</td>\n",
       "      <td>201906.0</td>\n",
       "      <td>36.0</td>\n",
       "    </tr>\n",
       "    <tr>\n",
       "      <td>1383</td>\n",
       "      <td>종로구</td>\n",
       "      <td>301. 경복궁역 7번출구 앞</td>\n",
       "      <td>201906.0</td>\n",
       "      <td>1312.0</td>\n",
       "    </tr>\n",
       "    <tr>\n",
       "      <td>1384</td>\n",
       "      <td>종로구</td>\n",
       "      <td>302. 경복궁역 4번출구 뒤</td>\n",
       "      <td>201906.0</td>\n",
       "      <td>2446.0</td>\n",
       "    </tr>\n",
       "    <tr>\n",
       "      <td>1385</td>\n",
       "      <td>종로구</td>\n",
       "      <td>303. 광화문역 1번출구 앞</td>\n",
       "      <td>201906.0</td>\n",
       "      <td>1386.0</td>\n",
       "    </tr>\n",
       "    <tr>\n",
       "      <td>1386</td>\n",
       "      <td>종로구</td>\n",
       "      <td>304. 광화문역 2번출구 앞</td>\n",
       "      <td>201906.0</td>\n",
       "      <td>1010.0</td>\n",
       "    </tr>\n",
       "    <tr>\n",
       "      <td>1387</td>\n",
       "      <td>종로구</td>\n",
       "      <td>305. 종로구청 옆</td>\n",
       "      <td>201906.0</td>\n",
       "      <td>2018.0</td>\n",
       "    </tr>\n",
       "    <tr>\n",
       "      <td>1388</td>\n",
       "      <td>종로구</td>\n",
       "      <td>306. 광화문역 7번출구 앞</td>\n",
       "      <td>201906.0</td>\n",
       "      <td>1159.0</td>\n",
       "    </tr>\n",
       "    <tr>\n",
       "      <td>1389</td>\n",
       "      <td>종로구</td>\n",
       "      <td>307. 서울역사박물관 앞</td>\n",
       "      <td>201906.0</td>\n",
       "      <td>1335.0</td>\n",
       "    </tr>\n",
       "    <tr>\n",
       "      <td>1390</td>\n",
       "      <td>종로구</td>\n",
       "      <td>308. 광화문 S타워 앞</td>\n",
       "      <td>201906.0</td>\n",
       "      <td>1561.0</td>\n",
       "    </tr>\n",
       "    <tr>\n",
       "      <td>1391</td>\n",
       "      <td>종로구</td>\n",
       "      <td>309. 광화문역 6번출구 옆</td>\n",
       "      <td>201906.0</td>\n",
       "      <td>981.0</td>\n",
       "    </tr>\n",
       "    <tr>\n",
       "      <td>1392</td>\n",
       "      <td>종로구</td>\n",
       "      <td>314. 국립현대미술관</td>\n",
       "      <td>201906.0</td>\n",
       "      <td>1393.0</td>\n",
       "    </tr>\n",
       "    <tr>\n",
       "      <td>1393</td>\n",
       "      <td>종로구</td>\n",
       "      <td>315. 신한은행 안국역지점 옆</td>\n",
       "      <td>201906.0</td>\n",
       "      <td>1562.0</td>\n",
       "    </tr>\n",
       "    <tr>\n",
       "      <td>1394</td>\n",
       "      <td>종로구</td>\n",
       "      <td>316. 종각역 1번출구 앞</td>\n",
       "      <td>201906.0</td>\n",
       "      <td>2498.0</td>\n",
       "    </tr>\n",
       "    <tr>\n",
       "      <td>1395</td>\n",
       "      <td>종로구</td>\n",
       "      <td>326. 안국역 5번출구 앞</td>\n",
       "      <td>201906.0</td>\n",
       "      <td>1754.0</td>\n",
       "    </tr>\n",
       "    <tr>\n",
       "      <td>1396</td>\n",
       "      <td>종로구</td>\n",
       "      <td>327. 낙원상가 옆</td>\n",
       "      <td>201906.0</td>\n",
       "      <td>1537.0</td>\n",
       "    </tr>\n",
       "    <tr>\n",
       "      <td>1397</td>\n",
       "      <td>종로구</td>\n",
       "      <td>328. 탑골공원 앞</td>\n",
       "      <td>201906.0</td>\n",
       "      <td>1609.0</td>\n",
       "    </tr>\n",
       "    <tr>\n",
       "      <td>1398</td>\n",
       "      <td>종로구</td>\n",
       "      <td>329. 청계2가 사거리 옆</td>\n",
       "      <td>201906.0</td>\n",
       "      <td>1920.0</td>\n",
       "    </tr>\n",
       "    <tr>\n",
       "      <td>1399</td>\n",
       "      <td>종로구</td>\n",
       "      <td>334. 종로3가역 2번출구 뒤</td>\n",
       "      <td>201906.0</td>\n",
       "      <td>2291.0</td>\n",
       "    </tr>\n",
       "  </tbody>\n",
       "</table>\n",
       "</div>"
      ],
      "text/plain": [
       "     district            station      date   count\n",
       "1380     정비센터   9998. 영남주차장 정비센터  201906.0     5.0\n",
       "1381     정비센터           상암센터 정비실  201906.0     2.0\n",
       "1382     정비센터               중랑센터  201906.0    36.0\n",
       "1383      종로구   301. 경복궁역 7번출구 앞  201906.0  1312.0\n",
       "1384      종로구   302. 경복궁역 4번출구 뒤  201906.0  2446.0\n",
       "1385      종로구   303. 광화문역 1번출구 앞  201906.0  1386.0\n",
       "1386      종로구   304. 광화문역 2번출구 앞  201906.0  1010.0\n",
       "1387      종로구        305. 종로구청 옆  201906.0  2018.0\n",
       "1388      종로구   306. 광화문역 7번출구 앞  201906.0  1159.0\n",
       "1389      종로구     307. 서울역사박물관 앞  201906.0  1335.0\n",
       "1390      종로구     308. 광화문 S타워 앞  201906.0  1561.0\n",
       "1391      종로구   309. 광화문역 6번출구 옆  201906.0   981.0\n",
       "1392      종로구       314. 국립현대미술관  201906.0  1393.0\n",
       "1393      종로구  315. 신한은행 안국역지점 옆  201906.0  1562.0\n",
       "1394      종로구    316. 종각역 1번출구 앞  201906.0  2498.0\n",
       "1395      종로구    326. 안국역 5번출구 앞  201906.0  1754.0\n",
       "1396      종로구        327. 낙원상가 옆  201906.0  1537.0\n",
       "1397      종로구        328. 탑골공원 앞  201906.0  1609.0\n",
       "1398      종로구    329. 청계2가 사거리 옆  201906.0  1920.0\n",
       "1399      종로구  334. 종로3가역 2번출구 뒤  201906.0  2291.0"
      ]
     },
     "execution_count": 31,
     "metadata": {},
     "output_type": "execute_result"
    }
   ],
   "source": [
    "df_rent[1380:1400]"
   ]
  },
  {
   "cell_type": "code",
   "execution_count": 32,
   "metadata": {
    "ExecuteTime": {
     "end_time": "2020-05-01T03:38:59.560652Z",
     "start_time": "2020-05-01T03:37:26.445159Z"
    }
   },
   "outputs": [
    {
     "data": {
      "application/vnd.jupyter.widget-view+json": {
       "model_id": "3de1ee108427487a9b599238c82dd765",
       "version_major": 2,
       "version_minor": 0
      },
      "text/plain": [
       "HBox(children=(IntProgress(value=0, max=18456), HTML(value='')))"
      ]
     },
     "metadata": {},
     "output_type": "display_data"
    },
    {
     "name": "stdout",
     "output_type": "stream",
     "text": [
      "\n"
     ]
    }
   ],
   "source": [
    "import re\n",
    "from tqdm import tqdm_notebook\n",
    "p1 = re.compile('\\d+')\n",
    "p2 = re.compile('\\d+[. ]')\n",
    "error_row = []\n",
    "for row in tqdm_notebook(df_rent.index):\n",
    "    try:\n",
    "        m = p1.match(df_rent.loc[row, 'station'])\n",
    "        df_rent.loc[row, 'id'] = m.group()\n",
    "    except:\n",
    "        df_rent.loc[row, 'id'] = 'None'\n",
    "        error_row.append(row)    # 에러행 저장해놓기\n",
    "    try:\n",
    "        df_rent.loc[row, 'station'] = p2.sub('', df_rent.loc[row, 'station'])\n",
    "    except:\n",
    "        error_row.append(row)    # 에러행 저장해놓기"
   ]
  },
  {
   "cell_type": "code",
   "execution_count": 33,
   "metadata": {
    "ExecuteTime": {
     "end_time": "2020-05-01T03:38:59.572621Z",
     "start_time": "2020-05-01T03:38:59.563646Z"
    }
   },
   "outputs": [
    {
     "data": {
      "text/plain": [
       "[1381,\n",
       " 1382,\n",
       " 1543,\n",
       " 1544,\n",
       " 2926,\n",
       " 2927,\n",
       " 3088,\n",
       " 4466,\n",
       " 4467,\n",
       " 4468,\n",
       " 4631,\n",
       " 6013,\n",
       " 6014,\n",
       " 6015,\n",
       " 6178,\n",
       " 6179,\n",
       " 7563,\n",
       " 7564,\n",
       " 7725,\n",
       " 9109,\n",
       " 9110]"
      ]
     },
     "execution_count": 33,
     "metadata": {},
     "output_type": "execute_result"
    }
   ],
   "source": [
    "error_row"
   ]
  },
  {
   "cell_type": "code",
   "execution_count": 34,
   "metadata": {
    "ExecuteTime": {
     "end_time": "2020-05-01T03:38:59.589576Z",
     "start_time": "2020-05-01T03:38:59.577607Z"
    }
   },
   "outputs": [
    {
     "data": {
      "text/plain": [
       "<bound method Series.unique of 1381    상암센터 정비실\n",
       "1382        중랑센터\n",
       "1543     대여소명 없음\n",
       "1544     대여소명 없음\n",
       "2926    상암센터 정비실\n",
       "2927        중랑센터\n",
       "3088     대여소명 없음\n",
       "4466    상암센터 정비실\n",
       "4467      시스템관리팀\n",
       "4468        중랑센터\n",
       "4631     대여소명 없음\n",
       "6013    상암센터 정비실\n",
       "6014      시스템관리팀\n",
       "6015        중랑센터\n",
       "6178     대여소명 없음\n",
       "6179     대여소명 없음\n",
       "7563    상암센터 정비실\n",
       "7564        중랑센터\n",
       "7725     대여소명 없음\n",
       "9109    상암센터 정비실\n",
       "9110        중랑센터\n",
       "Name: station, dtype: object>"
      ]
     },
     "execution_count": 34,
     "metadata": {},
     "output_type": "execute_result"
    }
   ],
   "source": [
    "df_rent.loc[error_row,:].station.unique"
   ]
  },
  {
   "cell_type": "markdown",
   "metadata": {},
   "source": [
    "* 정비센터이거나, 그룹명이 없는 경우가 있다. "
   ]
  },
  {
   "cell_type": "code",
   "execution_count": 35,
   "metadata": {
    "ExecuteTime": {
     "end_time": "2020-05-01T03:40:10.461051Z",
     "start_time": "2020-05-01T03:38:59.594563Z"
    }
   },
   "outputs": [
    {
     "data": {
      "application/vnd.jupyter.widget-view+json": {
       "model_id": "2065dc2c5fda48708e72a50be2ca5de6",
       "version_major": 2,
       "version_minor": 0
      },
      "text/plain": [
       "HBox(children=(IntProgress(value=0, max=18457), HTML(value='')))"
      ]
     },
     "metadata": {},
     "output_type": "display_data"
    },
    {
     "name": "stdout",
     "output_type": "stream",
     "text": [
      "\n"
     ]
    }
   ],
   "source": [
    "p1 = re.compile('\\d+')\n",
    "p2 = re.compile('\\d+[. ]')\n",
    "error_row_return = []\n",
    "for row in tqdm_notebook(df_return.index):\n",
    "    try:\n",
    "        m = p1.match(df_return.loc[row, 'station'])\n",
    "        df_return.loc[row, 'id'] = m.group()\n",
    "    except:\n",
    "        df_return.loc[row, 'id'] = 'None'\n",
    "        error_row_return.append(row)    # 에러행 저장해놓기\n",
    "    try:\n",
    "        df_return.loc[row, 'station'] = p2.sub('', df_return.loc[row, 'station'])\n",
    "    except:\n",
    "        error_row_return.append(row)    # 에러행 저장해놓기"
   ]
  },
  {
   "cell_type": "code",
   "execution_count": 36,
   "metadata": {
    "ExecuteTime": {
     "end_time": "2020-05-01T03:40:10.469994Z",
     "start_time": "2020-05-01T03:40:10.464007Z"
    }
   },
   "outputs": [
    {
     "data": {
      "text/plain": [
       "22"
      ]
     },
     "execution_count": 36,
     "metadata": {},
     "output_type": "execute_result"
    }
   ],
   "source": [
    "len(error_row_return)"
   ]
  },
  {
   "cell_type": "code",
   "execution_count": 37,
   "metadata": {
    "ExecuteTime": {
     "end_time": "2020-05-01T03:40:10.508886Z",
     "start_time": "2020-05-01T03:40:10.473980Z"
    }
   },
   "outputs": [
    {
     "data": {
      "text/html": [
       "<div>\n",
       "<style scoped>\n",
       "    .dataframe tbody tr th:only-of-type {\n",
       "        vertical-align: middle;\n",
       "    }\n",
       "\n",
       "    .dataframe tbody tr th {\n",
       "        vertical-align: top;\n",
       "    }\n",
       "\n",
       "    .dataframe thead th {\n",
       "        text-align: right;\n",
       "    }\n",
       "</style>\n",
       "<table border=\"1\" class=\"dataframe\">\n",
       "  <thead>\n",
       "    <tr style=\"text-align: right;\">\n",
       "      <th></th>\n",
       "      <th>district</th>\n",
       "      <th>station</th>\n",
       "      <th>date</th>\n",
       "      <th>count</th>\n",
       "      <th>id</th>\n",
       "    </tr>\n",
       "  </thead>\n",
       "  <tbody>\n",
       "    <tr>\n",
       "      <td>1381</td>\n",
       "      <td>정비센터</td>\n",
       "      <td>상암센터 정비실</td>\n",
       "      <td>201906.0</td>\n",
       "      <td>9.0</td>\n",
       "      <td>None</td>\n",
       "    </tr>\n",
       "    <tr>\n",
       "      <td>1382</td>\n",
       "      <td>정비센터</td>\n",
       "      <td>중랑센터</td>\n",
       "      <td>201906.0</td>\n",
       "      <td>24.0</td>\n",
       "      <td>None</td>\n",
       "    </tr>\n",
       "    <tr>\n",
       "      <td>1543</td>\n",
       "      <td>그룹명 없음</td>\n",
       "      <td>대여소명 없음</td>\n",
       "      <td>201906.0</td>\n",
       "      <td>12644.0</td>\n",
       "      <td>None</td>\n",
       "    </tr>\n",
       "    <tr>\n",
       "      <td>1544</td>\n",
       "      <td>그룹명 없음</td>\n",
       "      <td>대여소명 없음</td>\n",
       "      <td>201907.0</td>\n",
       "      <td>1.0</td>\n",
       "      <td>None</td>\n",
       "    </tr>\n",
       "    <tr>\n",
       "      <td>1545</td>\n",
       "      <td>그룹명 없음</td>\n",
       "      <td>대여소명 없음</td>\n",
       "      <td>201907.0</td>\n",
       "      <td>12537.0</td>\n",
       "      <td>None</td>\n",
       "    </tr>\n",
       "    <tr>\n",
       "      <td>2927</td>\n",
       "      <td>정비센터</td>\n",
       "      <td>상암센터 정비실</td>\n",
       "      <td>201907.0</td>\n",
       "      <td>11.0</td>\n",
       "      <td>None</td>\n",
       "    </tr>\n",
       "    <tr>\n",
       "      <td>2928</td>\n",
       "      <td>정비센터</td>\n",
       "      <td>중랑센터</td>\n",
       "      <td>201907.0</td>\n",
       "      <td>34.0</td>\n",
       "      <td>None</td>\n",
       "    </tr>\n",
       "    <tr>\n",
       "      <td>3089</td>\n",
       "      <td>그룹명 없음</td>\n",
       "      <td>대여소명 없음</td>\n",
       "      <td>201908.0</td>\n",
       "      <td>12188.0</td>\n",
       "      <td>None</td>\n",
       "    </tr>\n",
       "    <tr>\n",
       "      <td>4467</td>\n",
       "      <td>정비센터</td>\n",
       "      <td>상암센터 정비실</td>\n",
       "      <td>201908.0</td>\n",
       "      <td>13.0</td>\n",
       "      <td>None</td>\n",
       "    </tr>\n",
       "    <tr>\n",
       "      <td>4468</td>\n",
       "      <td>정비센터</td>\n",
       "      <td>시스템관리팀</td>\n",
       "      <td>201908.0</td>\n",
       "      <td>2.0</td>\n",
       "      <td>None</td>\n",
       "    </tr>\n",
       "    <tr>\n",
       "      <td>4469</td>\n",
       "      <td>정비센터</td>\n",
       "      <td>중랑센터</td>\n",
       "      <td>201908.0</td>\n",
       "      <td>28.0</td>\n",
       "      <td>None</td>\n",
       "    </tr>\n",
       "    <tr>\n",
       "      <td>4632</td>\n",
       "      <td>그룹명 없음</td>\n",
       "      <td>대여소명 없음</td>\n",
       "      <td>201909.0</td>\n",
       "      <td>10902.0</td>\n",
       "      <td>None</td>\n",
       "    </tr>\n",
       "    <tr>\n",
       "      <td>6014</td>\n",
       "      <td>정비센터</td>\n",
       "      <td>상암센터 정비실</td>\n",
       "      <td>201909.0</td>\n",
       "      <td>2.0</td>\n",
       "      <td>None</td>\n",
       "    </tr>\n",
       "    <tr>\n",
       "      <td>6015</td>\n",
       "      <td>정비센터</td>\n",
       "      <td>시스템관리팀</td>\n",
       "      <td>201909.0</td>\n",
       "      <td>1.0</td>\n",
       "      <td>None</td>\n",
       "    </tr>\n",
       "    <tr>\n",
       "      <td>6016</td>\n",
       "      <td>정비센터</td>\n",
       "      <td>중랑센터</td>\n",
       "      <td>201909.0</td>\n",
       "      <td>33.0</td>\n",
       "      <td>None</td>\n",
       "    </tr>\n",
       "    <tr>\n",
       "      <td>6179</td>\n",
       "      <td>그룹명 없음</td>\n",
       "      <td>대여소명 없음</td>\n",
       "      <td>201910.0</td>\n",
       "      <td>11726.0</td>\n",
       "      <td>None</td>\n",
       "    </tr>\n",
       "    <tr>\n",
       "      <td>6180</td>\n",
       "      <td>그룹명 없음</td>\n",
       "      <td>대여소명 없음</td>\n",
       "      <td>201910.0</td>\n",
       "      <td>1.0</td>\n",
       "      <td>None</td>\n",
       "    </tr>\n",
       "    <tr>\n",
       "      <td>7564</td>\n",
       "      <td>정비센터</td>\n",
       "      <td>상암센터 정비실</td>\n",
       "      <td>201910.0</td>\n",
       "      <td>2.0</td>\n",
       "      <td>None</td>\n",
       "    </tr>\n",
       "    <tr>\n",
       "      <td>7565</td>\n",
       "      <td>정비센터</td>\n",
       "      <td>중랑센터</td>\n",
       "      <td>201910.0</td>\n",
       "      <td>31.0</td>\n",
       "      <td>None</td>\n",
       "    </tr>\n",
       "    <tr>\n",
       "      <td>7726</td>\n",
       "      <td>그룹명 없음</td>\n",
       "      <td>대여소명 없음</td>\n",
       "      <td>201911.0</td>\n",
       "      <td>8799.0</td>\n",
       "      <td>None</td>\n",
       "    </tr>\n",
       "    <tr>\n",
       "      <td>9110</td>\n",
       "      <td>정비센터</td>\n",
       "      <td>상암센터 정비실</td>\n",
       "      <td>201911.0</td>\n",
       "      <td>8.0</td>\n",
       "      <td>None</td>\n",
       "    </tr>\n",
       "    <tr>\n",
       "      <td>9111</td>\n",
       "      <td>정비센터</td>\n",
       "      <td>중랑센터</td>\n",
       "      <td>201911.0</td>\n",
       "      <td>30.0</td>\n",
       "      <td>None</td>\n",
       "    </tr>\n",
       "  </tbody>\n",
       "</table>\n",
       "</div>"
      ],
      "text/plain": [
       "     district   station      date    count    id\n",
       "1381     정비센터  상암센터 정비실  201906.0      9.0  None\n",
       "1382     정비센터      중랑센터  201906.0     24.0  None\n",
       "1543   그룹명 없음   대여소명 없음  201906.0  12644.0  None\n",
       "1544   그룹명 없음   대여소명 없음  201907.0      1.0  None\n",
       "1545   그룹명 없음   대여소명 없음  201907.0  12537.0  None\n",
       "2927     정비센터  상암센터 정비실  201907.0     11.0  None\n",
       "2928     정비센터      중랑센터  201907.0     34.0  None\n",
       "3089   그룹명 없음   대여소명 없음  201908.0  12188.0  None\n",
       "4467     정비센터  상암센터 정비실  201908.0     13.0  None\n",
       "4468     정비센터    시스템관리팀  201908.0      2.0  None\n",
       "4469     정비센터      중랑센터  201908.0     28.0  None\n",
       "4632   그룹명 없음   대여소명 없음  201909.0  10902.0  None\n",
       "6014     정비센터  상암센터 정비실  201909.0      2.0  None\n",
       "6015     정비센터    시스템관리팀  201909.0      1.0  None\n",
       "6016     정비센터      중랑센터  201909.0     33.0  None\n",
       "6179   그룹명 없음   대여소명 없음  201910.0  11726.0  None\n",
       "6180   그룹명 없음   대여소명 없음  201910.0      1.0  None\n",
       "7564     정비센터  상암센터 정비실  201910.0      2.0  None\n",
       "7565     정비센터      중랑센터  201910.0     31.0  None\n",
       "7726   그룹명 없음   대여소명 없음  201911.0   8799.0  None\n",
       "9110     정비센터  상암센터 정비실  201911.0      8.0  None\n",
       "9111     정비센터      중랑센터  201911.0     30.0  None"
      ]
     },
     "execution_count": 37,
     "metadata": {},
     "output_type": "execute_result"
    }
   ],
   "source": [
    "df_return.loc[error_row_return]"
   ]
  },
  {
   "cell_type": "markdown",
   "metadata": {},
   "source": [
    "* return데이터에도 역시 정비소거나 그룹명이 없는 경우가 존재한다.\n",
    "    * 근데센터에서 분출된 자전거는 정말 정비가 되어서 나온 것은 아닐까?\n",
    "* 정비센터는 count 수 자체가 적고, 대여소명이 없는 곳은 추적할 방법이 없기때문에, **삭제하도록 하자.**\n",
    "    * 대여소명이 없는 곳은 대여소가 사라진곳이려나?"
   ]
  },
  {
   "cell_type": "code",
   "execution_count": 38,
   "metadata": {
    "ExecuteTime": {
     "end_time": "2020-05-01T03:40:10.531826Z",
     "start_time": "2020-05-01T03:40:10.512877Z"
    }
   },
   "outputs": [],
   "source": [
    "df_rent.drop(error_row, inplace=True)\n",
    "df_rent.reset_index(drop=True, inplace=True)\n",
    "\n",
    "df_return.drop(error_row_return, inplace=True)\n",
    "df_return.reset_index(drop=True, inplace=True)"
   ]
  },
  {
   "cell_type": "code",
   "execution_count": 39,
   "metadata": {
    "ExecuteTime": {
     "end_time": "2020-05-01T03:40:10.562745Z",
     "start_time": "2020-05-01T03:40:10.535816Z"
    }
   },
   "outputs": [
    {
     "data": {
      "text/html": [
       "<div>\n",
       "<style scoped>\n",
       "    .dataframe tbody tr th:only-of-type {\n",
       "        vertical-align: middle;\n",
       "    }\n",
       "\n",
       "    .dataframe tbody tr th {\n",
       "        vertical-align: top;\n",
       "    }\n",
       "\n",
       "    .dataframe thead th {\n",
       "        text-align: right;\n",
       "    }\n",
       "</style>\n",
       "<table border=\"1\" class=\"dataframe\">\n",
       "  <thead>\n",
       "    <tr style=\"text-align: right;\">\n",
       "      <th></th>\n",
       "      <th>district</th>\n",
       "      <th>id</th>\n",
       "      <th>station</th>\n",
       "      <th>address</th>\n",
       "      <th>lat</th>\n",
       "      <th>lng</th>\n",
       "      <th>date</th>\n",
       "      <th>count</th>\n",
       "    </tr>\n",
       "  </thead>\n",
       "  <tbody>\n",
       "    <tr>\n",
       "      <td>0</td>\n",
       "      <td>마포구</td>\n",
       "      <td>101.0</td>\n",
       "      <td>101. (구)합정동 주민센터</td>\n",
       "      <td>서울특별시 마포구 동교로8길 58</td>\n",
       "      <td>37.549561</td>\n",
       "      <td>126.905754</td>\n",
       "      <td>2015-09-06 23:40:56</td>\n",
       "      <td>5</td>\n",
       "    </tr>\n",
       "    <tr>\n",
       "      <td>1</td>\n",
       "      <td>마포구</td>\n",
       "      <td>102.0</td>\n",
       "      <td>102. 망원역 1번출구 앞</td>\n",
       "      <td>서울특별시 마포구 월드컵로 72</td>\n",
       "      <td>37.555649</td>\n",
       "      <td>126.910629</td>\n",
       "      <td>2015-09-06 23:42:06</td>\n",
       "      <td>20</td>\n",
       "    </tr>\n",
       "    <tr>\n",
       "      <td>2</td>\n",
       "      <td>마포구</td>\n",
       "      <td>103.0</td>\n",
       "      <td>103. 망원역 2번출구 앞</td>\n",
       "      <td>서울특별시 마포구 월드컵로 79</td>\n",
       "      <td>37.554951</td>\n",
       "      <td>126.910835</td>\n",
       "      <td>2015-09-06 23:43:13</td>\n",
       "      <td>14</td>\n",
       "    </tr>\n",
       "    <tr>\n",
       "      <td>3</td>\n",
       "      <td>마포구</td>\n",
       "      <td>104.0</td>\n",
       "      <td>104. 합정역 1번출구 앞</td>\n",
       "      <td>서울특별시 마포구 양화로 59</td>\n",
       "      <td>37.550629</td>\n",
       "      <td>126.914986</td>\n",
       "      <td>2015-09-06 23:44:31</td>\n",
       "      <td>13</td>\n",
       "    </tr>\n",
       "    <tr>\n",
       "      <td>4</td>\n",
       "      <td>마포구</td>\n",
       "      <td>105.0</td>\n",
       "      <td>105. 합정역 5번출구 앞</td>\n",
       "      <td>서울특별시 마포구 양화로 48</td>\n",
       "      <td>37.550007</td>\n",
       "      <td>126.914825</td>\n",
       "      <td>2015-09-06 23:45:30</td>\n",
       "      <td>5</td>\n",
       "    </tr>\n",
       "  </tbody>\n",
       "</table>\n",
       "</div>"
      ],
      "text/plain": [
       "  district     id           station             address        lat  \\\n",
       "0      마포구  101.0  101. (구)합정동 주민센터  서울특별시 마포구 동교로8길 58  37.549561   \n",
       "1      마포구  102.0   102. 망원역 1번출구 앞   서울특별시 마포구 월드컵로 72  37.555649   \n",
       "2      마포구  103.0   103. 망원역 2번출구 앞   서울특별시 마포구 월드컵로 79  37.554951   \n",
       "3      마포구  104.0   104. 합정역 1번출구 앞    서울특별시 마포구 양화로 59  37.550629   \n",
       "4      마포구  105.0   105. 합정역 5번출구 앞    서울특별시 마포구 양화로 48  37.550007   \n",
       "\n",
       "          lng                 date  count  \n",
       "0  126.905754  2015-09-06 23:40:56      5  \n",
       "1  126.910629  2015-09-06 23:42:06     20  \n",
       "2  126.910835  2015-09-06 23:43:13     14  \n",
       "3  126.914986  2015-09-06 23:44:31     13  \n",
       "4  126.914825  2015-09-06 23:45:30      5  "
      ]
     },
     "execution_count": 39,
     "metadata": {},
     "output_type": "execute_result"
    }
   ],
   "source": [
    "df_station.head()"
   ]
  },
  {
   "cell_type": "markdown",
   "metadata": {},
   "source": [
    "* 이제 station데이터 내 대여소명 내 id를 빼주자."
   ]
  },
  {
   "cell_type": "code",
   "execution_count": 40,
   "metadata": {
    "ExecuteTime": {
     "end_time": "2020-05-01T03:40:11.934596Z",
     "start_time": "2020-05-01T03:40:10.566733Z"
    }
   },
   "outputs": [],
   "source": [
    "p = re.compile('\\d+[. ]')\n",
    "for row in df_station.index:\n",
    "    try:\n",
    "        df_station.loc[row, 'station'] = p2.sub('', df_station.loc[row, 'station'])\n",
    "    except:\n",
    "        print(row)"
   ]
  },
  {
   "cell_type": "code",
   "execution_count": 41,
   "metadata": {
    "ExecuteTime": {
     "end_time": "2020-05-01T03:40:11.976483Z",
     "start_time": "2020-05-01T03:40:11.939584Z"
    }
   },
   "outputs": [
    {
     "data": {
      "text/html": [
       "<div>\n",
       "<style scoped>\n",
       "    .dataframe tbody tr th:only-of-type {\n",
       "        vertical-align: middle;\n",
       "    }\n",
       "\n",
       "    .dataframe tbody tr th {\n",
       "        vertical-align: top;\n",
       "    }\n",
       "\n",
       "    .dataframe thead th {\n",
       "        text-align: right;\n",
       "    }\n",
       "</style>\n",
       "<table border=\"1\" class=\"dataframe\">\n",
       "  <thead>\n",
       "    <tr style=\"text-align: right;\">\n",
       "      <th></th>\n",
       "      <th>district</th>\n",
       "      <th>id</th>\n",
       "      <th>station</th>\n",
       "      <th>address</th>\n",
       "      <th>lat</th>\n",
       "      <th>lng</th>\n",
       "      <th>date</th>\n",
       "      <th>count</th>\n",
       "    </tr>\n",
       "  </thead>\n",
       "  <tbody>\n",
       "    <tr>\n",
       "      <td>0</td>\n",
       "      <td>마포구</td>\n",
       "      <td>101.0</td>\n",
       "      <td>(구)합정동 주민센터</td>\n",
       "      <td>서울특별시 마포구 동교로8길 58</td>\n",
       "      <td>37.549561</td>\n",
       "      <td>126.905754</td>\n",
       "      <td>2015-09-06 23:40:56</td>\n",
       "      <td>5</td>\n",
       "    </tr>\n",
       "    <tr>\n",
       "      <td>1</td>\n",
       "      <td>마포구</td>\n",
       "      <td>102.0</td>\n",
       "      <td>망원역 1번출구 앞</td>\n",
       "      <td>서울특별시 마포구 월드컵로 72</td>\n",
       "      <td>37.555649</td>\n",
       "      <td>126.910629</td>\n",
       "      <td>2015-09-06 23:42:06</td>\n",
       "      <td>20</td>\n",
       "    </tr>\n",
       "    <tr>\n",
       "      <td>2</td>\n",
       "      <td>마포구</td>\n",
       "      <td>103.0</td>\n",
       "      <td>망원역 2번출구 앞</td>\n",
       "      <td>서울특별시 마포구 월드컵로 79</td>\n",
       "      <td>37.554951</td>\n",
       "      <td>126.910835</td>\n",
       "      <td>2015-09-06 23:43:13</td>\n",
       "      <td>14</td>\n",
       "    </tr>\n",
       "    <tr>\n",
       "      <td>3</td>\n",
       "      <td>마포구</td>\n",
       "      <td>104.0</td>\n",
       "      <td>합정역 1번출구 앞</td>\n",
       "      <td>서울특별시 마포구 양화로 59</td>\n",
       "      <td>37.550629</td>\n",
       "      <td>126.914986</td>\n",
       "      <td>2015-09-06 23:44:31</td>\n",
       "      <td>13</td>\n",
       "    </tr>\n",
       "    <tr>\n",
       "      <td>4</td>\n",
       "      <td>마포구</td>\n",
       "      <td>105.0</td>\n",
       "      <td>합정역 5번출구 앞</td>\n",
       "      <td>서울특별시 마포구 양화로 48</td>\n",
       "      <td>37.550007</td>\n",
       "      <td>126.914825</td>\n",
       "      <td>2015-09-06 23:45:30</td>\n",
       "      <td>5</td>\n",
       "    </tr>\n",
       "  </tbody>\n",
       "</table>\n",
       "</div>"
      ],
      "text/plain": [
       "  district     id       station             address        lat         lng  \\\n",
       "0      마포구  101.0   (구)합정동 주민센터  서울특별시 마포구 동교로8길 58  37.549561  126.905754   \n",
       "1      마포구  102.0    망원역 1번출구 앞   서울특별시 마포구 월드컵로 72  37.555649  126.910629   \n",
       "2      마포구  103.0    망원역 2번출구 앞   서울특별시 마포구 월드컵로 79  37.554951  126.910835   \n",
       "3      마포구  104.0    합정역 1번출구 앞    서울특별시 마포구 양화로 59  37.550629  126.914986   \n",
       "4      마포구  105.0    합정역 5번출구 앞    서울특별시 마포구 양화로 48  37.550007  126.914825   \n",
       "\n",
       "                  date  count  \n",
       "0  2015-09-06 23:40:56      5  \n",
       "1  2015-09-06 23:42:06     20  \n",
       "2  2015-09-06 23:43:13     14  \n",
       "3  2015-09-06 23:44:31     13  \n",
       "4  2015-09-06 23:45:30      5  "
      ]
     },
     "execution_count": 41,
     "metadata": {},
     "output_type": "execute_result"
    }
   ],
   "source": [
    "df_station.head()"
   ]
  },
  {
   "cell_type": "markdown",
   "metadata": {},
   "source": [
    "### 2-4. 컬럼 형식 변경"
   ]
  },
  {
   "cell_type": "markdown",
   "metadata": {},
   "source": [
    "#### 2-4-1. df_rent, df_return"
   ]
  },
  {
   "cell_type": "code",
   "execution_count": 42,
   "metadata": {
    "ExecuteTime": {
     "end_time": "2020-05-01T03:40:12.041311Z",
     "start_time": "2020-05-01T03:40:11.982468Z"
    }
   },
   "outputs": [
    {
     "name": "stdout",
     "output_type": "stream",
     "text": [
      "<class 'pandas.core.frame.DataFrame'>\n",
      "RangeIndex: 18435 entries, 0 to 18434\n",
      "Data columns (total 5 columns):\n",
      "district    18435 non-null object\n",
      "station     18435 non-null object\n",
      "date        18435 non-null float64\n",
      "count       18435 non-null float64\n",
      "id          18435 non-null object\n",
      "dtypes: float64(2), object(3)\n",
      "memory usage: 720.2+ KB\n",
      "- - - - - -\n",
      "<class 'pandas.core.frame.DataFrame'>\n",
      "RangeIndex: 18435 entries, 0 to 18434\n",
      "Data columns (total 5 columns):\n",
      "district    18435 non-null object\n",
      "station     18435 non-null object\n",
      "date        18435 non-null float64\n",
      "count       18435 non-null float64\n",
      "id          18435 non-null object\n",
      "dtypes: float64(2), object(3)\n",
      "memory usage: 720.2+ KB\n"
     ]
    }
   ],
   "source": [
    "df_rent.info()\n",
    "print('- - - - - -')\n",
    "df_return.info()"
   ]
  },
  {
   "cell_type": "markdown",
   "metadata": {},
   "source": [
    "* date\n",
    "    * datetime형식으로 변경\n",
    "* count, id\n",
    "    * int로 변경"
   ]
  },
  {
   "cell_type": "code",
   "execution_count": 83,
   "metadata": {
    "ExecuteTime": {
     "end_time": "2020-05-01T03:47:15.655114Z",
     "start_time": "2020-05-01T03:47:15.590292Z"
    }
   },
   "outputs": [
    {
     "data": {
      "application/vnd.jupyter.widget-view+json": {
       "model_id": "33ceef2a0f5b45508242c3a9e7c53c03",
       "version_major": 2,
       "version_minor": 0
      },
      "text/plain": [
       "HBox(children=(IntProgress(value=0, max=2), HTML(value='')))"
      ]
     },
     "metadata": {},
     "output_type": "display_data"
    },
    {
     "name": "stdout",
     "output_type": "stream",
     "text": [
      "\n"
     ]
    }
   ],
   "source": [
    "for df in tqdm_notebook([df_rent, df_return]):\n",
    "    df['date'] = df['date'] * 100 + 1    # date 내 월까지만 기재되있으므로 이를 모두 1일로 통일\n",
    "    df['date'] = pd.to_datetime(df['date'], format='%Y%m%d')\n",
    "    df['count'] = df['count'].astype('int')\n",
    "    df['id'] = df['id'].astype('int')"
   ]
  },
  {
   "cell_type": "code",
   "execution_count": 84,
   "metadata": {
    "ExecuteTime": {
     "end_time": "2020-05-01T03:47:17.942077Z",
     "start_time": "2020-05-01T03:47:17.915149Z"
    }
   },
   "outputs": [
    {
     "name": "stdout",
     "output_type": "stream",
     "text": [
      "<class 'pandas.core.frame.DataFrame'>\n",
      "RangeIndex: 18435 entries, 0 to 18434\n",
      "Data columns (total 5 columns):\n",
      "district    18435 non-null object\n",
      "station     18435 non-null object\n",
      "date        18435 non-null datetime64[ns]\n",
      "count       18435 non-null int32\n",
      "id          18435 non-null int32\n",
      "dtypes: datetime64[ns](1), int32(2), object(2)\n",
      "memory usage: 576.2+ KB\n",
      "- - - - - -\n",
      "<class 'pandas.core.frame.DataFrame'>\n",
      "RangeIndex: 18435 entries, 0 to 18434\n",
      "Data columns (total 5 columns):\n",
      "district    18435 non-null object\n",
      "station     18435 non-null object\n",
      "date        18435 non-null datetime64[ns]\n",
      "count       18435 non-null int32\n",
      "id          18435 non-null int32\n",
      "dtypes: datetime64[ns](1), int32(2), object(2)\n",
      "memory usage: 576.2+ KB\n"
     ]
    }
   ],
   "source": [
    "df_rent.info()\n",
    "print('- - - - - -')\n",
    "df_return.info()"
   ]
  },
  {
   "cell_type": "code",
   "execution_count": 87,
   "metadata": {
    "ExecuteTime": {
     "end_time": "2020-05-01T03:48:26.011160Z",
     "start_time": "2020-05-01T03:48:25.998195Z"
    }
   },
   "outputs": [
    {
     "data": {
      "text/html": [
       "<div>\n",
       "<style scoped>\n",
       "    .dataframe tbody tr th:only-of-type {\n",
       "        vertical-align: middle;\n",
       "    }\n",
       "\n",
       "    .dataframe tbody tr th {\n",
       "        vertical-align: top;\n",
       "    }\n",
       "\n",
       "    .dataframe thead th {\n",
       "        text-align: right;\n",
       "    }\n",
       "</style>\n",
       "<table border=\"1\" class=\"dataframe\">\n",
       "  <thead>\n",
       "    <tr style=\"text-align: right;\">\n",
       "      <th></th>\n",
       "      <th>district</th>\n",
       "      <th>station</th>\n",
       "      <th>date</th>\n",
       "      <th>count</th>\n",
       "      <th>id</th>\n",
       "    </tr>\n",
       "  </thead>\n",
       "  <tbody>\n",
       "    <tr>\n",
       "      <td>0</td>\n",
       "      <td>강남구</td>\n",
       "      <td>현대고등학교 건너편</td>\n",
       "      <td>2019-06-01</td>\n",
       "      <td>3909</td>\n",
       "      <td>2301</td>\n",
       "    </tr>\n",
       "    <tr>\n",
       "      <td>1</td>\n",
       "      <td>강남구</td>\n",
       "      <td>교보타워 버스정류장(신논현역 3번출구 후면)</td>\n",
       "      <td>2019-06-01</td>\n",
       "      <td>2432</td>\n",
       "      <td>2302</td>\n",
       "    </tr>\n",
       "    <tr>\n",
       "      <td>2</td>\n",
       "      <td>강남구</td>\n",
       "      <td>논현역 7번출구</td>\n",
       "      <td>2019-06-01</td>\n",
       "      <td>1567</td>\n",
       "      <td>2303</td>\n",
       "    </tr>\n",
       "    <tr>\n",
       "      <td>3</td>\n",
       "      <td>강남구</td>\n",
       "      <td>신영 ROYAL PALACE 앞</td>\n",
       "      <td>2019-06-01</td>\n",
       "      <td>559</td>\n",
       "      <td>2304</td>\n",
       "    </tr>\n",
       "    <tr>\n",
       "      <td>4</td>\n",
       "      <td>강남구</td>\n",
       "      <td>MCM 본사 직영점 앞</td>\n",
       "      <td>2019-06-01</td>\n",
       "      <td>730</td>\n",
       "      <td>2305</td>\n",
       "    </tr>\n",
       "  </tbody>\n",
       "</table>\n",
       "</div>"
      ],
      "text/plain": [
       "  district                    station       date  count    id\n",
       "0      강남구                 현대고등학교 건너편 2019-06-01   3909  2301\n",
       "1      강남구   교보타워 버스정류장(신논현역 3번출구 후면) 2019-06-01   2432  2302\n",
       "2      강남구                   논현역 7번출구 2019-06-01   1567  2303\n",
       "3      강남구          신영 ROYAL PALACE 앞 2019-06-01    559  2304\n",
       "4      강남구               MCM 본사 직영점 앞 2019-06-01    730  2305"
      ]
     },
     "execution_count": 87,
     "metadata": {},
     "output_type": "execute_result"
    }
   ],
   "source": [
    "df_rent.head()"
   ]
  },
  {
   "cell_type": "code",
   "execution_count": 86,
   "metadata": {
    "ExecuteTime": {
     "end_time": "2020-05-01T03:48:18.836172Z",
     "start_time": "2020-05-01T03:48:18.823208Z"
    }
   },
   "outputs": [
    {
     "data": {
      "text/html": [
       "<div>\n",
       "<style scoped>\n",
       "    .dataframe tbody tr th:only-of-type {\n",
       "        vertical-align: middle;\n",
       "    }\n",
       "\n",
       "    .dataframe tbody tr th {\n",
       "        vertical-align: top;\n",
       "    }\n",
       "\n",
       "    .dataframe thead th {\n",
       "        text-align: right;\n",
       "    }\n",
       "</style>\n",
       "<table border=\"1\" class=\"dataframe\">\n",
       "  <thead>\n",
       "    <tr style=\"text-align: right;\">\n",
       "      <th></th>\n",
       "      <th>district</th>\n",
       "      <th>station</th>\n",
       "      <th>date</th>\n",
       "      <th>count</th>\n",
       "      <th>id</th>\n",
       "    </tr>\n",
       "  </thead>\n",
       "  <tbody>\n",
       "    <tr>\n",
       "      <td>0</td>\n",
       "      <td>강남구</td>\n",
       "      <td>현대고등학교 건너편</td>\n",
       "      <td>2019-06-01</td>\n",
       "      <td>4072</td>\n",
       "      <td>2301</td>\n",
       "    </tr>\n",
       "    <tr>\n",
       "      <td>1</td>\n",
       "      <td>강남구</td>\n",
       "      <td>교보타워 버스정류장(신논현역 3번출구 후면)</td>\n",
       "      <td>2019-06-01</td>\n",
       "      <td>2382</td>\n",
       "      <td>2302</td>\n",
       "    </tr>\n",
       "    <tr>\n",
       "      <td>2</td>\n",
       "      <td>강남구</td>\n",
       "      <td>논현역 7번출구</td>\n",
       "      <td>2019-06-01</td>\n",
       "      <td>1402</td>\n",
       "      <td>2303</td>\n",
       "    </tr>\n",
       "    <tr>\n",
       "      <td>3</td>\n",
       "      <td>강남구</td>\n",
       "      <td>신영 ROYAL PALACE 앞</td>\n",
       "      <td>2019-06-01</td>\n",
       "      <td>207</td>\n",
       "      <td>2304</td>\n",
       "    </tr>\n",
       "    <tr>\n",
       "      <td>4</td>\n",
       "      <td>강남구</td>\n",
       "      <td>MCM 본사 직영점 앞</td>\n",
       "      <td>2019-06-01</td>\n",
       "      <td>905</td>\n",
       "      <td>2305</td>\n",
       "    </tr>\n",
       "  </tbody>\n",
       "</table>\n",
       "</div>"
      ],
      "text/plain": [
       "  district                    station       date  count    id\n",
       "0      강남구                 현대고등학교 건너편 2019-06-01   4072  2301\n",
       "1      강남구   교보타워 버스정류장(신논현역 3번출구 후면) 2019-06-01   2382  2302\n",
       "2      강남구                   논현역 7번출구 2019-06-01   1402  2303\n",
       "3      강남구          신영 ROYAL PALACE 앞 2019-06-01    207  2304\n",
       "4      강남구               MCM 본사 직영점 앞 2019-06-01    905  2305"
      ]
     },
     "execution_count": 86,
     "metadata": {},
     "output_type": "execute_result"
    }
   ],
   "source": [
    "df_return.head()"
   ]
  },
  {
   "cell_type": "markdown",
   "metadata": {},
   "source": [
    "#### 2-4-2. df_station"
   ]
  },
  {
   "cell_type": "code",
   "execution_count": 89,
   "metadata": {
    "ExecuteTime": {
     "end_time": "2020-05-01T03:48:46.263554Z",
     "start_time": "2020-05-01T03:48:46.250593Z"
    }
   },
   "outputs": [
    {
     "name": "stdout",
     "output_type": "stream",
     "text": [
      "<class 'pandas.core.frame.DataFrame'>\n",
      "Int64Index: 1540 entries, 0 to 1539\n",
      "Data columns (total 8 columns):\n",
      "district    1540 non-null object\n",
      "id          1540 non-null float64\n",
      "station     1540 non-null object\n",
      "address     1540 non-null object\n",
      "lat         1540 non-null float64\n",
      "lng         1540 non-null float64\n",
      "date        1540 non-null object\n",
      "count       1540 non-null int64\n",
      "dtypes: float64(3), int64(1), object(4)\n",
      "memory usage: 148.3+ KB\n"
     ]
    }
   ],
   "source": [
    "df_station.info()"
   ]
  },
  {
   "cell_type": "markdown",
   "metadata": {},
   "source": [
    "* id\n",
    "    * int로 변환\n",
    "* date\n",
    "    * datetime으로 변환"
   ]
  },
  {
   "cell_type": "code",
   "execution_count": 90,
   "metadata": {
    "ExecuteTime": {
     "end_time": "2020-05-01T03:52:58.614298Z",
     "start_time": "2020-05-01T03:52:58.520500Z"
    }
   },
   "outputs": [
    {
     "ename": "ValueError",
     "evalue": "('Unknown string format:', '2018.7.4개통')",
     "output_type": "error",
     "traceback": [
      "\u001b[1;31m---------------------------------------------------------------------------\u001b[0m",
      "\u001b[1;31mTypeError\u001b[0m                                 Traceback (most recent call last)",
      "\u001b[1;32m~\\Anaconda3\\lib\\site-packages\\pandas\\core\\arrays\\datetimes.py\u001b[0m in \u001b[0;36mobjects_to_datetime64ns\u001b[1;34m(data, dayfirst, yearfirst, utc, errors, require_iso8601, allow_object)\u001b[0m\n\u001b[0;32m   1978\u001b[0m         \u001b[1;32mtry\u001b[0m\u001b[1;33m:\u001b[0m\u001b[1;33m\u001b[0m\u001b[1;33m\u001b[0m\u001b[0m\n\u001b[1;32m-> 1979\u001b[1;33m             \u001b[0mvalues\u001b[0m\u001b[1;33m,\u001b[0m \u001b[0mtz_parsed\u001b[0m \u001b[1;33m=\u001b[0m \u001b[0mconversion\u001b[0m\u001b[1;33m.\u001b[0m\u001b[0mdatetime_to_datetime64\u001b[0m\u001b[1;33m(\u001b[0m\u001b[0mdata\u001b[0m\u001b[1;33m)\u001b[0m\u001b[1;33m\u001b[0m\u001b[1;33m\u001b[0m\u001b[0m\n\u001b[0m\u001b[0;32m   1980\u001b[0m             \u001b[1;31m# If tzaware, these values represent unix timestamps, so we\u001b[0m\u001b[1;33m\u001b[0m\u001b[1;33m\u001b[0m\u001b[1;33m\u001b[0m\u001b[0m\n",
      "\u001b[1;32mpandas\\_libs\\tslibs\\conversion.pyx\u001b[0m in \u001b[0;36mpandas._libs.tslibs.conversion.datetime_to_datetime64\u001b[1;34m()\u001b[0m\n",
      "\u001b[1;31mTypeError\u001b[0m: Unrecognized value type: <class 'str'>",
      "\nDuring handling of the above exception, another exception occurred:\n",
      "\u001b[1;31mValueError\u001b[0m                                Traceback (most recent call last)",
      "\u001b[1;32m<ipython-input-90-9855be6b4f14>\u001b[0m in \u001b[0;36m<module>\u001b[1;34m\u001b[0m\n\u001b[0;32m      1\u001b[0m \u001b[0mdf_station\u001b[0m\u001b[1;33m[\u001b[0m\u001b[1;34m'id'\u001b[0m\u001b[1;33m]\u001b[0m \u001b[1;33m=\u001b[0m \u001b[0mdf_station\u001b[0m\u001b[1;33m[\u001b[0m\u001b[1;34m'id'\u001b[0m\u001b[1;33m]\u001b[0m\u001b[1;33m.\u001b[0m\u001b[0mastype\u001b[0m\u001b[1;33m(\u001b[0m\u001b[1;34m'int'\u001b[0m\u001b[1;33m)\u001b[0m\u001b[1;33m\u001b[0m\u001b[1;33m\u001b[0m\u001b[0m\n\u001b[1;32m----> 2\u001b[1;33m \u001b[0mdf_station\u001b[0m\u001b[1;33m[\u001b[0m\u001b[1;34m'date'\u001b[0m\u001b[1;33m]\u001b[0m \u001b[1;33m=\u001b[0m \u001b[0mpd\u001b[0m\u001b[1;33m.\u001b[0m\u001b[0mto_datetime\u001b[0m\u001b[1;33m(\u001b[0m\u001b[0mdf_station\u001b[0m\u001b[1;33m[\u001b[0m\u001b[1;34m'date'\u001b[0m\u001b[1;33m]\u001b[0m\u001b[1;33m)\u001b[0m\u001b[1;33m\u001b[0m\u001b[1;33m\u001b[0m\u001b[0m\n\u001b[0m\u001b[0;32m      3\u001b[0m \u001b[0mdf_station\u001b[0m\u001b[1;33m\u001b[0m\u001b[1;33m\u001b[0m\u001b[0m\n",
      "\u001b[1;32m~\\Anaconda3\\lib\\site-packages\\pandas\\util\\_decorators.py\u001b[0m in \u001b[0;36mwrapper\u001b[1;34m(*args, **kwargs)\u001b[0m\n\u001b[0;32m    206\u001b[0m                 \u001b[1;32melse\u001b[0m\u001b[1;33m:\u001b[0m\u001b[1;33m\u001b[0m\u001b[1;33m\u001b[0m\u001b[0m\n\u001b[0;32m    207\u001b[0m                     \u001b[0mkwargs\u001b[0m\u001b[1;33m[\u001b[0m\u001b[0mnew_arg_name\u001b[0m\u001b[1;33m]\u001b[0m \u001b[1;33m=\u001b[0m \u001b[0mnew_arg_value\u001b[0m\u001b[1;33m\u001b[0m\u001b[1;33m\u001b[0m\u001b[0m\n\u001b[1;32m--> 208\u001b[1;33m             \u001b[1;32mreturn\u001b[0m \u001b[0mfunc\u001b[0m\u001b[1;33m(\u001b[0m\u001b[1;33m*\u001b[0m\u001b[0margs\u001b[0m\u001b[1;33m,\u001b[0m \u001b[1;33m**\u001b[0m\u001b[0mkwargs\u001b[0m\u001b[1;33m)\u001b[0m\u001b[1;33m\u001b[0m\u001b[1;33m\u001b[0m\u001b[0m\n\u001b[0m\u001b[0;32m    209\u001b[0m \u001b[1;33m\u001b[0m\u001b[0m\n\u001b[0;32m    210\u001b[0m         \u001b[1;32mreturn\u001b[0m \u001b[0mwrapper\u001b[0m\u001b[1;33m\u001b[0m\u001b[1;33m\u001b[0m\u001b[0m\n",
      "\u001b[1;32m~\\Anaconda3\\lib\\site-packages\\pandas\\core\\tools\\datetimes.py\u001b[0m in \u001b[0;36mto_datetime\u001b[1;34m(arg, errors, dayfirst, yearfirst, utc, box, format, exact, unit, infer_datetime_format, origin, cache)\u001b[0m\n\u001b[0;32m    772\u001b[0m                 \u001b[0mresult\u001b[0m \u001b[1;33m=\u001b[0m \u001b[0mresult\u001b[0m\u001b[1;33m.\u001b[0m\u001b[0mtz_localize\u001b[0m\u001b[1;33m(\u001b[0m\u001b[0mtz\u001b[0m\u001b[1;33m)\u001b[0m\u001b[1;33m\u001b[0m\u001b[1;33m\u001b[0m\u001b[0m\n\u001b[0;32m    773\u001b[0m     \u001b[1;32melif\u001b[0m \u001b[0misinstance\u001b[0m\u001b[1;33m(\u001b[0m\u001b[0marg\u001b[0m\u001b[1;33m,\u001b[0m \u001b[0mABCSeries\u001b[0m\u001b[1;33m)\u001b[0m\u001b[1;33m:\u001b[0m\u001b[1;33m\u001b[0m\u001b[1;33m\u001b[0m\u001b[0m\n\u001b[1;32m--> 774\u001b[1;33m         \u001b[0mcache_array\u001b[0m \u001b[1;33m=\u001b[0m \u001b[0m_maybe_cache\u001b[0m\u001b[1;33m(\u001b[0m\u001b[0marg\u001b[0m\u001b[1;33m,\u001b[0m \u001b[0mformat\u001b[0m\u001b[1;33m,\u001b[0m \u001b[0mcache\u001b[0m\u001b[1;33m,\u001b[0m \u001b[0mconvert_listlike\u001b[0m\u001b[1;33m)\u001b[0m\u001b[1;33m\u001b[0m\u001b[1;33m\u001b[0m\u001b[0m\n\u001b[0m\u001b[0;32m    775\u001b[0m         \u001b[1;32mif\u001b[0m \u001b[1;32mnot\u001b[0m \u001b[0mcache_array\u001b[0m\u001b[1;33m.\u001b[0m\u001b[0mempty\u001b[0m\u001b[1;33m:\u001b[0m\u001b[1;33m\u001b[0m\u001b[1;33m\u001b[0m\u001b[0m\n\u001b[0;32m    776\u001b[0m             \u001b[0mresult\u001b[0m \u001b[1;33m=\u001b[0m \u001b[0marg\u001b[0m\u001b[1;33m.\u001b[0m\u001b[0mmap\u001b[0m\u001b[1;33m(\u001b[0m\u001b[0mcache_array\u001b[0m\u001b[1;33m)\u001b[0m\u001b[1;33m\u001b[0m\u001b[1;33m\u001b[0m\u001b[0m\n",
      "\u001b[1;32m~\\Anaconda3\\lib\\site-packages\\pandas\\core\\tools\\datetimes.py\u001b[0m in \u001b[0;36m_maybe_cache\u001b[1;34m(arg, format, cache, convert_listlike)\u001b[0m\n\u001b[0;32m    154\u001b[0m         \u001b[0munique_dates\u001b[0m \u001b[1;33m=\u001b[0m \u001b[0munique\u001b[0m\u001b[1;33m(\u001b[0m\u001b[0marg\u001b[0m\u001b[1;33m)\u001b[0m\u001b[1;33m\u001b[0m\u001b[1;33m\u001b[0m\u001b[0m\n\u001b[0;32m    155\u001b[0m         \u001b[1;32mif\u001b[0m \u001b[0mlen\u001b[0m\u001b[1;33m(\u001b[0m\u001b[0munique_dates\u001b[0m\u001b[1;33m)\u001b[0m \u001b[1;33m<\u001b[0m \u001b[0mlen\u001b[0m\u001b[1;33m(\u001b[0m\u001b[0marg\u001b[0m\u001b[1;33m)\u001b[0m\u001b[1;33m:\u001b[0m\u001b[1;33m\u001b[0m\u001b[1;33m\u001b[0m\u001b[0m\n\u001b[1;32m--> 156\u001b[1;33m             \u001b[0mcache_dates\u001b[0m \u001b[1;33m=\u001b[0m \u001b[0mconvert_listlike\u001b[0m\u001b[1;33m(\u001b[0m\u001b[0munique_dates\u001b[0m\u001b[1;33m,\u001b[0m \u001b[1;32mTrue\u001b[0m\u001b[1;33m,\u001b[0m \u001b[0mformat\u001b[0m\u001b[1;33m)\u001b[0m\u001b[1;33m\u001b[0m\u001b[1;33m\u001b[0m\u001b[0m\n\u001b[0m\u001b[0;32m    157\u001b[0m             \u001b[0mcache_array\u001b[0m \u001b[1;33m=\u001b[0m \u001b[0mSeries\u001b[0m\u001b[1;33m(\u001b[0m\u001b[0mcache_dates\u001b[0m\u001b[1;33m,\u001b[0m \u001b[0mindex\u001b[0m\u001b[1;33m=\u001b[0m\u001b[0munique_dates\u001b[0m\u001b[1;33m)\u001b[0m\u001b[1;33m\u001b[0m\u001b[1;33m\u001b[0m\u001b[0m\n\u001b[0;32m    158\u001b[0m     \u001b[1;32mreturn\u001b[0m \u001b[0mcache_array\u001b[0m\u001b[1;33m\u001b[0m\u001b[1;33m\u001b[0m\u001b[0m\n",
      "\u001b[1;32m~\\Anaconda3\\lib\\site-packages\\pandas\\core\\tools\\datetimes.py\u001b[0m in \u001b[0;36m_convert_listlike_datetimes\u001b[1;34m(arg, box, format, name, tz, unit, errors, infer_datetime_format, dayfirst, yearfirst, exact)\u001b[0m\n\u001b[0;32m    461\u001b[0m             \u001b[0merrors\u001b[0m\u001b[1;33m=\u001b[0m\u001b[0merrors\u001b[0m\u001b[1;33m,\u001b[0m\u001b[1;33m\u001b[0m\u001b[1;33m\u001b[0m\u001b[0m\n\u001b[0;32m    462\u001b[0m             \u001b[0mrequire_iso8601\u001b[0m\u001b[1;33m=\u001b[0m\u001b[0mrequire_iso8601\u001b[0m\u001b[1;33m,\u001b[0m\u001b[1;33m\u001b[0m\u001b[1;33m\u001b[0m\u001b[0m\n\u001b[1;32m--> 463\u001b[1;33m             \u001b[0mallow_object\u001b[0m\u001b[1;33m=\u001b[0m\u001b[1;32mTrue\u001b[0m\u001b[1;33m,\u001b[0m\u001b[1;33m\u001b[0m\u001b[1;33m\u001b[0m\u001b[0m\n\u001b[0m\u001b[0;32m    464\u001b[0m         )\n\u001b[0;32m    465\u001b[0m \u001b[1;33m\u001b[0m\u001b[0m\n",
      "\u001b[1;32m~\\Anaconda3\\lib\\site-packages\\pandas\\core\\arrays\\datetimes.py\u001b[0m in \u001b[0;36mobjects_to_datetime64ns\u001b[1;34m(data, dayfirst, yearfirst, utc, errors, require_iso8601, allow_object)\u001b[0m\n\u001b[0;32m   1982\u001b[0m             \u001b[1;32mreturn\u001b[0m \u001b[0mvalues\u001b[0m\u001b[1;33m.\u001b[0m\u001b[0mview\u001b[0m\u001b[1;33m(\u001b[0m\u001b[1;34m\"i8\"\u001b[0m\u001b[1;33m)\u001b[0m\u001b[1;33m,\u001b[0m \u001b[0mtz_parsed\u001b[0m\u001b[1;33m\u001b[0m\u001b[1;33m\u001b[0m\u001b[0m\n\u001b[0;32m   1983\u001b[0m         \u001b[1;32mexcept\u001b[0m \u001b[1;33m(\u001b[0m\u001b[0mValueError\u001b[0m\u001b[1;33m,\u001b[0m \u001b[0mTypeError\u001b[0m\u001b[1;33m)\u001b[0m\u001b[1;33m:\u001b[0m\u001b[1;33m\u001b[0m\u001b[1;33m\u001b[0m\u001b[0m\n\u001b[1;32m-> 1984\u001b[1;33m             \u001b[1;32mraise\u001b[0m \u001b[0me\u001b[0m\u001b[1;33m\u001b[0m\u001b[1;33m\u001b[0m\u001b[0m\n\u001b[0m\u001b[0;32m   1985\u001b[0m \u001b[1;33m\u001b[0m\u001b[0m\n\u001b[0;32m   1986\u001b[0m     \u001b[1;32mif\u001b[0m \u001b[0mtz_parsed\u001b[0m \u001b[1;32mis\u001b[0m \u001b[1;32mnot\u001b[0m \u001b[1;32mNone\u001b[0m\u001b[1;33m:\u001b[0m\u001b[1;33m\u001b[0m\u001b[1;33m\u001b[0m\u001b[0m\n",
      "\u001b[1;32m~\\Anaconda3\\lib\\site-packages\\pandas\\core\\arrays\\datetimes.py\u001b[0m in \u001b[0;36mobjects_to_datetime64ns\u001b[1;34m(data, dayfirst, yearfirst, utc, errors, require_iso8601, allow_object)\u001b[0m\n\u001b[0;32m   1973\u001b[0m             \u001b[0mdayfirst\u001b[0m\u001b[1;33m=\u001b[0m\u001b[0mdayfirst\u001b[0m\u001b[1;33m,\u001b[0m\u001b[1;33m\u001b[0m\u001b[1;33m\u001b[0m\u001b[0m\n\u001b[0;32m   1974\u001b[0m             \u001b[0myearfirst\u001b[0m\u001b[1;33m=\u001b[0m\u001b[0myearfirst\u001b[0m\u001b[1;33m,\u001b[0m\u001b[1;33m\u001b[0m\u001b[1;33m\u001b[0m\u001b[0m\n\u001b[1;32m-> 1975\u001b[1;33m             \u001b[0mrequire_iso8601\u001b[0m\u001b[1;33m=\u001b[0m\u001b[0mrequire_iso8601\u001b[0m\u001b[1;33m,\u001b[0m\u001b[1;33m\u001b[0m\u001b[1;33m\u001b[0m\u001b[0m\n\u001b[0m\u001b[0;32m   1976\u001b[0m         )\n\u001b[0;32m   1977\u001b[0m     \u001b[1;32mexcept\u001b[0m \u001b[0mValueError\u001b[0m \u001b[1;32mas\u001b[0m \u001b[0me\u001b[0m\u001b[1;33m:\u001b[0m\u001b[1;33m\u001b[0m\u001b[1;33m\u001b[0m\u001b[0m\n",
      "\u001b[1;32mpandas\\_libs\\tslib.pyx\u001b[0m in \u001b[0;36mpandas._libs.tslib.array_to_datetime\u001b[1;34m()\u001b[0m\n",
      "\u001b[1;32mpandas\\_libs\\tslib.pyx\u001b[0m in \u001b[0;36mpandas._libs.tslib.array_to_datetime\u001b[1;34m()\u001b[0m\n",
      "\u001b[1;32mpandas\\_libs\\tslib.pyx\u001b[0m in \u001b[0;36mpandas._libs.tslib.array_to_datetime_object\u001b[1;34m()\u001b[0m\n",
      "\u001b[1;32mpandas\\_libs\\tslib.pyx\u001b[0m in \u001b[0;36mpandas._libs.tslib.array_to_datetime_object\u001b[1;34m()\u001b[0m\n",
      "\u001b[1;32mpandas\\_libs\\tslibs\\parsing.pyx\u001b[0m in \u001b[0;36mpandas._libs.tslibs.parsing.parse_datetime_string\u001b[1;34m()\u001b[0m\n",
      "\u001b[1;32m~\\Anaconda3\\lib\\site-packages\\dateutil\\parser\\_parser.py\u001b[0m in \u001b[0;36mparse\u001b[1;34m(timestr, parserinfo, **kwargs)\u001b[0m\n\u001b[0;32m   1356\u001b[0m         \u001b[1;32mreturn\u001b[0m \u001b[0mparser\u001b[0m\u001b[1;33m(\u001b[0m\u001b[0mparserinfo\u001b[0m\u001b[1;33m)\u001b[0m\u001b[1;33m.\u001b[0m\u001b[0mparse\u001b[0m\u001b[1;33m(\u001b[0m\u001b[0mtimestr\u001b[0m\u001b[1;33m,\u001b[0m \u001b[1;33m**\u001b[0m\u001b[0mkwargs\u001b[0m\u001b[1;33m)\u001b[0m\u001b[1;33m\u001b[0m\u001b[1;33m\u001b[0m\u001b[0m\n\u001b[0;32m   1357\u001b[0m     \u001b[1;32melse\u001b[0m\u001b[1;33m:\u001b[0m\u001b[1;33m\u001b[0m\u001b[1;33m\u001b[0m\u001b[0m\n\u001b[1;32m-> 1358\u001b[1;33m         \u001b[1;32mreturn\u001b[0m \u001b[0mDEFAULTPARSER\u001b[0m\u001b[1;33m.\u001b[0m\u001b[0mparse\u001b[0m\u001b[1;33m(\u001b[0m\u001b[0mtimestr\u001b[0m\u001b[1;33m,\u001b[0m \u001b[1;33m**\u001b[0m\u001b[0mkwargs\u001b[0m\u001b[1;33m)\u001b[0m\u001b[1;33m\u001b[0m\u001b[1;33m\u001b[0m\u001b[0m\n\u001b[0m\u001b[0;32m   1359\u001b[0m \u001b[1;33m\u001b[0m\u001b[0m\n\u001b[0;32m   1360\u001b[0m \u001b[1;33m\u001b[0m\u001b[0m\n",
      "\u001b[1;32m~\\Anaconda3\\lib\\site-packages\\dateutil\\parser\\_parser.py\u001b[0m in \u001b[0;36mparse\u001b[1;34m(self, timestr, default, ignoretz, tzinfos, **kwargs)\u001b[0m\n\u001b[0;32m    647\u001b[0m \u001b[1;33m\u001b[0m\u001b[0m\n\u001b[0;32m    648\u001b[0m         \u001b[1;32mif\u001b[0m \u001b[0mres\u001b[0m \u001b[1;32mis\u001b[0m \u001b[1;32mNone\u001b[0m\u001b[1;33m:\u001b[0m\u001b[1;33m\u001b[0m\u001b[1;33m\u001b[0m\u001b[0m\n\u001b[1;32m--> 649\u001b[1;33m             \u001b[1;32mraise\u001b[0m \u001b[0mValueError\u001b[0m\u001b[1;33m(\u001b[0m\u001b[1;34m\"Unknown string format:\"\u001b[0m\u001b[1;33m,\u001b[0m \u001b[0mtimestr\u001b[0m\u001b[1;33m)\u001b[0m\u001b[1;33m\u001b[0m\u001b[1;33m\u001b[0m\u001b[0m\n\u001b[0m\u001b[0;32m    650\u001b[0m \u001b[1;33m\u001b[0m\u001b[0m\n\u001b[0;32m    651\u001b[0m         \u001b[1;32mif\u001b[0m \u001b[0mlen\u001b[0m\u001b[1;33m(\u001b[0m\u001b[0mres\u001b[0m\u001b[1;33m)\u001b[0m \u001b[1;33m==\u001b[0m \u001b[1;36m0\u001b[0m\u001b[1;33m:\u001b[0m\u001b[1;33m\u001b[0m\u001b[1;33m\u001b[0m\u001b[0m\n",
      "\u001b[1;31mValueError\u001b[0m: ('Unknown string format:', '2018.7.4개통')"
     ]
    }
   ],
   "source": [
    "df_station['id'] = df_station['id'].astype('int')\n",
    "df_station['date'] = pd.to_datetime(df_station['date'])\n",
    "df_station"
   ]
  },
  {
   "cell_type": "markdown",
   "metadata": {},
   "source": [
    "* 오류가 나서 살펴보니, date컬럼에 문자가 섞여있는 데이터가 있나보다."
   ]
  },
  {
   "cell_type": "code",
   "execution_count": 111,
   "metadata": {
    "ExecuteTime": {
     "end_time": "2020-05-01T03:59:20.141188Z",
     "start_time": "2020-05-01T03:59:20.101298Z"
    }
   },
   "outputs": [],
   "source": [
    "# 개통이라는 단어가 포함되어있으면, 그 단어를 제외하여 저장\n",
    "for row in df_station.index:\n",
    "    try:\n",
    "        if df_station.loc[row, 'date'][-2:] == '개통': \n",
    "            df_station.loc[row, 'date'] = df_station.loc[row, 'date'][:-2]\n",
    "    except:\n",
    "        pass"
   ]
  },
  {
   "cell_type": "code",
   "execution_count": 115,
   "metadata": {
    "ExecuteTime": {
     "end_time": "2020-05-01T04:00:21.623028Z",
     "start_time": "2020-05-01T04:00:21.601085Z"
    }
   },
   "outputs": [
    {
     "data": {
      "text/html": [
       "<div>\n",
       "<style scoped>\n",
       "    .dataframe tbody tr th:only-of-type {\n",
       "        vertical-align: middle;\n",
       "    }\n",
       "\n",
       "    .dataframe tbody tr th {\n",
       "        vertical-align: top;\n",
       "    }\n",
       "\n",
       "    .dataframe thead th {\n",
       "        text-align: right;\n",
       "    }\n",
       "</style>\n",
       "<table border=\"1\" class=\"dataframe\">\n",
       "  <thead>\n",
       "    <tr style=\"text-align: right;\">\n",
       "      <th></th>\n",
       "      <th>district</th>\n",
       "      <th>id</th>\n",
       "      <th>station</th>\n",
       "      <th>address</th>\n",
       "      <th>lat</th>\n",
       "      <th>lng</th>\n",
       "      <th>date</th>\n",
       "      <th>count</th>\n",
       "    </tr>\n",
       "  </thead>\n",
       "  <tbody>\n",
       "    <tr>\n",
       "      <td>0</td>\n",
       "      <td>마포구</td>\n",
       "      <td>101</td>\n",
       "      <td>(구)합정동 주민센터</td>\n",
       "      <td>서울특별시 마포구 동교로8길 58</td>\n",
       "      <td>37.549561</td>\n",
       "      <td>126.905754</td>\n",
       "      <td>2015-09-06 23:40:56</td>\n",
       "      <td>5</td>\n",
       "    </tr>\n",
       "    <tr>\n",
       "      <td>1</td>\n",
       "      <td>마포구</td>\n",
       "      <td>102</td>\n",
       "      <td>망원역 1번출구 앞</td>\n",
       "      <td>서울특별시 마포구 월드컵로 72</td>\n",
       "      <td>37.555649</td>\n",
       "      <td>126.910629</td>\n",
       "      <td>2015-09-06 23:42:06</td>\n",
       "      <td>20</td>\n",
       "    </tr>\n",
       "    <tr>\n",
       "      <td>2</td>\n",
       "      <td>마포구</td>\n",
       "      <td>103</td>\n",
       "      <td>망원역 2번출구 앞</td>\n",
       "      <td>서울특별시 마포구 월드컵로 79</td>\n",
       "      <td>37.554951</td>\n",
       "      <td>126.910835</td>\n",
       "      <td>2015-09-06 23:43:13</td>\n",
       "      <td>14</td>\n",
       "    </tr>\n",
       "    <tr>\n",
       "      <td>3</td>\n",
       "      <td>마포구</td>\n",
       "      <td>104</td>\n",
       "      <td>합정역 1번출구 앞</td>\n",
       "      <td>서울특별시 마포구 양화로 59</td>\n",
       "      <td>37.550629</td>\n",
       "      <td>126.914986</td>\n",
       "      <td>2015-09-06 23:44:31</td>\n",
       "      <td>13</td>\n",
       "    </tr>\n",
       "    <tr>\n",
       "      <td>4</td>\n",
       "      <td>마포구</td>\n",
       "      <td>105</td>\n",
       "      <td>합정역 5번출구 앞</td>\n",
       "      <td>서울특별시 마포구 양화로 48</td>\n",
       "      <td>37.550007</td>\n",
       "      <td>126.914825</td>\n",
       "      <td>2015-09-06 23:45:30</td>\n",
       "      <td>5</td>\n",
       "    </tr>\n",
       "  </tbody>\n",
       "</table>\n",
       "</div>"
      ],
      "text/plain": [
       "  district   id       station             address        lat         lng  \\\n",
       "0      마포구  101   (구)합정동 주민센터  서울특별시 마포구 동교로8길 58  37.549561  126.905754   \n",
       "1      마포구  102    망원역 1번출구 앞   서울특별시 마포구 월드컵로 72  37.555649  126.910629   \n",
       "2      마포구  103    망원역 2번출구 앞   서울특별시 마포구 월드컵로 79  37.554951  126.910835   \n",
       "3      마포구  104    합정역 1번출구 앞    서울특별시 마포구 양화로 59  37.550629  126.914986   \n",
       "4      마포구  105    합정역 5번출구 앞    서울특별시 마포구 양화로 48  37.550007  126.914825   \n",
       "\n",
       "                 date  count  \n",
       "0 2015-09-06 23:40:56      5  \n",
       "1 2015-09-06 23:42:06     20  \n",
       "2 2015-09-06 23:43:13     14  \n",
       "3 2015-09-06 23:44:31     13  \n",
       "4 2015-09-06 23:45:30      5  "
      ]
     },
     "execution_count": 115,
     "metadata": {},
     "output_type": "execute_result"
    }
   ],
   "source": [
    "df_station['date'] = pd.to_datetime(df_station['date'])\n",
    "df_station.head()"
   ]
  },
  {
   "cell_type": "markdown",
   "metadata": {},
   "source": [
    "* 잘 처리가 되었다."
   ]
  },
  {
   "cell_type": "markdown",
   "metadata": {},
   "source": [
    "#### 2-4-3. 컬럼 순서 변경"
   ]
  },
  {
   "cell_type": "code",
   "execution_count": 119,
   "metadata": {
    "ExecuteTime": {
     "end_time": "2020-05-01T04:02:13.791633Z",
     "start_time": "2020-05-01T04:02:13.776706Z"
    }
   },
   "outputs": [
    {
     "data": {
      "text/html": [
       "<div>\n",
       "<style scoped>\n",
       "    .dataframe tbody tr th:only-of-type {\n",
       "        vertical-align: middle;\n",
       "    }\n",
       "\n",
       "    .dataframe tbody tr th {\n",
       "        vertical-align: top;\n",
       "    }\n",
       "\n",
       "    .dataframe thead th {\n",
       "        text-align: right;\n",
       "    }\n",
       "</style>\n",
       "<table border=\"1\" class=\"dataframe\">\n",
       "  <thead>\n",
       "    <tr style=\"text-align: right;\">\n",
       "      <th></th>\n",
       "      <th>district</th>\n",
       "      <th>station</th>\n",
       "      <th>date</th>\n",
       "      <th>count</th>\n",
       "      <th>id</th>\n",
       "    </tr>\n",
       "  </thead>\n",
       "  <tbody>\n",
       "    <tr>\n",
       "      <td>0</td>\n",
       "      <td>강남구</td>\n",
       "      <td>현대고등학교 건너편</td>\n",
       "      <td>2019-06-01</td>\n",
       "      <td>4072</td>\n",
       "      <td>2301</td>\n",
       "    </tr>\n",
       "    <tr>\n",
       "      <td>1</td>\n",
       "      <td>강남구</td>\n",
       "      <td>교보타워 버스정류장(신논현역 3번출구 후면)</td>\n",
       "      <td>2019-06-01</td>\n",
       "      <td>2382</td>\n",
       "      <td>2302</td>\n",
       "    </tr>\n",
       "    <tr>\n",
       "      <td>2</td>\n",
       "      <td>강남구</td>\n",
       "      <td>논현역 7번출구</td>\n",
       "      <td>2019-06-01</td>\n",
       "      <td>1402</td>\n",
       "      <td>2303</td>\n",
       "    </tr>\n",
       "  </tbody>\n",
       "</table>\n",
       "</div>"
      ],
      "text/plain": [
       "  district                    station       date  count    id\n",
       "0      강남구                 현대고등학교 건너편 2019-06-01   4072  2301\n",
       "1      강남구   교보타워 버스정류장(신논현역 3번출구 후면) 2019-06-01   2382  2302\n",
       "2      강남구                   논현역 7번출구 2019-06-01   1402  2303"
      ]
     },
     "execution_count": 119,
     "metadata": {},
     "output_type": "execute_result"
    }
   ],
   "source": [
    "df_return.head(3)"
   ]
  },
  {
   "cell_type": "code",
   "execution_count": 127,
   "metadata": {
    "ExecuteTime": {
     "end_time": "2020-05-01T04:04:02.517861Z",
     "start_time": "2020-05-01T04:04:02.506873Z"
    }
   },
   "outputs": [],
   "source": [
    "df_rent = df_rent[['district', 'id', 'station', 'date', 'count']]\n",
    "df_return = df_return[['district', 'id', 'station', 'date', 'count']]"
   ]
  },
  {
   "cell_type": "code",
   "execution_count": 129,
   "metadata": {
    "ExecuteTime": {
     "end_time": "2020-05-01T04:04:08.498740Z",
     "start_time": "2020-05-01T04:04:08.481784Z"
    }
   },
   "outputs": [
    {
     "data": {
      "text/html": [
       "<div>\n",
       "<style scoped>\n",
       "    .dataframe tbody tr th:only-of-type {\n",
       "        vertical-align: middle;\n",
       "    }\n",
       "\n",
       "    .dataframe tbody tr th {\n",
       "        vertical-align: top;\n",
       "    }\n",
       "\n",
       "    .dataframe thead th {\n",
       "        text-align: right;\n",
       "    }\n",
       "</style>\n",
       "<table border=\"1\" class=\"dataframe\">\n",
       "  <thead>\n",
       "    <tr style=\"text-align: right;\">\n",
       "      <th></th>\n",
       "      <th>district</th>\n",
       "      <th>id</th>\n",
       "      <th>station</th>\n",
       "      <th>date</th>\n",
       "      <th>count</th>\n",
       "    </tr>\n",
       "  </thead>\n",
       "  <tbody>\n",
       "    <tr>\n",
       "      <td>0</td>\n",
       "      <td>강남구</td>\n",
       "      <td>2301</td>\n",
       "      <td>현대고등학교 건너편</td>\n",
       "      <td>2019-06-01</td>\n",
       "      <td>3909</td>\n",
       "    </tr>\n",
       "    <tr>\n",
       "      <td>1</td>\n",
       "      <td>강남구</td>\n",
       "      <td>2302</td>\n",
       "      <td>교보타워 버스정류장(신논현역 3번출구 후면)</td>\n",
       "      <td>2019-06-01</td>\n",
       "      <td>2432</td>\n",
       "    </tr>\n",
       "  </tbody>\n",
       "</table>\n",
       "</div>"
      ],
      "text/plain": [
       "  district    id                    station       date  count\n",
       "0      강남구  2301                 현대고등학교 건너편 2019-06-01   3909\n",
       "1      강남구  2302   교보타워 버스정류장(신논현역 3번출구 후면) 2019-06-01   2432"
      ]
     },
     "execution_count": 129,
     "metadata": {},
     "output_type": "execute_result"
    }
   ],
   "source": [
    "df_rent.head(2)"
   ]
  },
  {
   "cell_type": "code",
   "execution_count": 130,
   "metadata": {
    "ExecuteTime": {
     "end_time": "2020-05-01T04:04:13.196722Z",
     "start_time": "2020-05-01T04:04:13.183758Z"
    }
   },
   "outputs": [
    {
     "data": {
      "text/html": [
       "<div>\n",
       "<style scoped>\n",
       "    .dataframe tbody tr th:only-of-type {\n",
       "        vertical-align: middle;\n",
       "    }\n",
       "\n",
       "    .dataframe tbody tr th {\n",
       "        vertical-align: top;\n",
       "    }\n",
       "\n",
       "    .dataframe thead th {\n",
       "        text-align: right;\n",
       "    }\n",
       "</style>\n",
       "<table border=\"1\" class=\"dataframe\">\n",
       "  <thead>\n",
       "    <tr style=\"text-align: right;\">\n",
       "      <th></th>\n",
       "      <th>district</th>\n",
       "      <th>id</th>\n",
       "      <th>station</th>\n",
       "      <th>date</th>\n",
       "      <th>count</th>\n",
       "    </tr>\n",
       "  </thead>\n",
       "  <tbody>\n",
       "    <tr>\n",
       "      <td>0</td>\n",
       "      <td>강남구</td>\n",
       "      <td>2301</td>\n",
       "      <td>현대고등학교 건너편</td>\n",
       "      <td>2019-06-01</td>\n",
       "      <td>4072</td>\n",
       "    </tr>\n",
       "    <tr>\n",
       "      <td>1</td>\n",
       "      <td>강남구</td>\n",
       "      <td>2302</td>\n",
       "      <td>교보타워 버스정류장(신논현역 3번출구 후면)</td>\n",
       "      <td>2019-06-01</td>\n",
       "      <td>2382</td>\n",
       "    </tr>\n",
       "  </tbody>\n",
       "</table>\n",
       "</div>"
      ],
      "text/plain": [
       "  district    id                    station       date  count\n",
       "0      강남구  2301                 현대고등학교 건너편 2019-06-01   4072\n",
       "1      강남구  2302   교보타워 버스정류장(신논현역 3번출구 후면) 2019-06-01   2382"
      ]
     },
     "execution_count": 130,
     "metadata": {},
     "output_type": "execute_result"
    }
   ],
   "source": [
    "df_return.head(2)"
   ]
  },
  {
   "cell_type": "markdown",
   "metadata": {},
   "source": [
    "## 3. 데이터 분석\n",
    "* 어느 지역에 자전거가 많이 배치되어있는지부터 확인해보자."
   ]
  },
  {
   "cell_type": "markdown",
   "metadata": {},
   "source": [
    "### 3-1. 따릉이가 많이 배치된 지역 찾기\n",
    "* 어느 지역에 따릉이가 많을까?\n",
    "* 서울 중심부에 비교적 많이 배치되어있지 않을까? (정말 서울스러운 생각..)"
   ]
  },
  {
   "cell_type": "markdown",
   "metadata": {
    "ExecuteTime": {
     "end_time": "2020-05-01T04:34:13.348221Z",
     "start_time": "2020-05-01T04:34:13.322291Z"
    }
   },
   "source": [
    "#### 3-1-1. 가장 따릉이가 많이 배치된 대여소는?\n",
    "* 먼저, 자전거 배치 수를 살펴보자."
   ]
  },
  {
   "cell_type": "code",
   "execution_count": 193,
   "metadata": {
    "ExecuteTime": {
     "end_time": "2020-05-01T05:08:33.746178Z",
     "start_time": "2020-05-01T05:08:33.496318Z"
    }
   },
   "outputs": [
    {
     "name": "stdout",
     "output_type": "stream",
     "text": [
      "40      5\n",
      "39      1\n",
      "35      3\n",
      "30     12\n",
      "27      1\n",
      "26      2\n",
      "25      8\n",
      "23      1\n",
      "22      1\n",
      "21      3\n",
      "20    199\n",
      "19      6\n",
      "18      6\n",
      "17      5\n",
      "16      9\n",
      "15    283\n",
      "14     14\n",
      "13     28\n",
      "12     47\n",
      "11     11\n",
      "10    714\n",
      "9      37\n",
      "8      87\n",
      "7      37\n",
      "6       5\n",
      "5      15\n",
      "Name: count, dtype: int64\n"
     ]
    },
    {
     "data": {
      "image/png": "[encoded data removed]",
      "text/plain": [
       "<Figure size 864x288 with 1 Axes>"
      ]
     },
     "metadata": {
      "needs_background": "light"
     },
     "output_type": "display_data"
    }
   ],
   "source": [
    "print(df_station['count'].value_counts().sort_index(ascending=False))\n",
    "plt.figure(figsize=(12, 4))\n",
    "plt.hist(df_station['count'], bins=15)\n",
    "plt.xlim(0, 45)\n",
    "plt.show()"
   ]
  },
  {
   "cell_type": "markdown",
   "metadata": {},
   "source": [
    "* 가장 많이 배치된 곳은 무려 40대나 배치되어있다.\n",
    "    * 40대면 도로 전체에 자전거가 깔려있는건가... 아직 본 적이 없어서 궁금하다.\n",
    "    * 아마 한강 근처나 자전거도로가 잘 되어있는 곳이 아닐까?\n",
    "* 10대가 배치된 곳이 가장 많고, 다음으로는 15대, 20대가 많다.\n",
    "* 가장 적은곳은 5대가 배치되어있다.\n",
    "* **35대 이상 배치된 곳은 어디인지 살펴보자.**"
   ]
  },
  {
   "cell_type": "code",
   "execution_count": 199,
   "metadata": {
    "ExecuteTime": {
     "end_time": "2020-05-01T05:39:20.703520Z",
     "start_time": "2020-05-01T05:39:20.678590Z"
    }
   },
   "outputs": [
    {
     "data": {
      "text/html": [
       "<div>\n",
       "<style scoped>\n",
       "    .dataframe tbody tr th:only-of-type {\n",
       "        vertical-align: middle;\n",
       "    }\n",
       "\n",
       "    .dataframe tbody tr th {\n",
       "        vertical-align: top;\n",
       "    }\n",
       "\n",
       "    .dataframe thead th {\n",
       "        text-align: right;\n",
       "    }\n",
       "</style>\n",
       "<table border=\"1\" class=\"dataframe\">\n",
       "  <thead>\n",
       "    <tr style=\"text-align: right;\">\n",
       "      <th></th>\n",
       "      <th>district</th>\n",
       "      <th>id</th>\n",
       "      <th>station</th>\n",
       "      <th>address</th>\n",
       "      <th>lat</th>\n",
       "      <th>lng</th>\n",
       "      <th>date</th>\n",
       "      <th>count</th>\n",
       "    </tr>\n",
       "  </thead>\n",
       "  <tbody>\n",
       "    <tr>\n",
       "      <td>0</td>\n",
       "      <td>마포구</td>\n",
       "      <td>186</td>\n",
       "      <td>월드컵공원</td>\n",
       "      <td>서울특별시 마포구 하늘공원로 108-1</td>\n",
       "      <td>37.563965</td>\n",
       "      <td>126.898209</td>\n",
       "      <td>2016-07-06 12:00:00</td>\n",
       "      <td>40</td>\n",
       "    </tr>\n",
       "    <tr>\n",
       "      <td>1</td>\n",
       "      <td>영등포구</td>\n",
       "      <td>207</td>\n",
       "      <td>여의나루역 1번출구 앞</td>\n",
       "      <td>서울특별시 영등포구 여의동로 지하343</td>\n",
       "      <td>37.526989</td>\n",
       "      <td>126.932098</td>\n",
       "      <td>2015-09-17 15:33:18</td>\n",
       "      <td>40</td>\n",
       "    </tr>\n",
       "    <tr>\n",
       "      <td>2</td>\n",
       "      <td>마포구</td>\n",
       "      <td>420</td>\n",
       "      <td>서울시 공공자전거 상암센터</td>\n",
       "      <td>서울특별시 마포구 월드컵북로47길 10</td>\n",
       "      <td>37.566246</td>\n",
       "      <td>126.896179</td>\n",
       "      <td>2015-10-07 11:39:12</td>\n",
       "      <td>40</td>\n",
       "    </tr>\n",
       "    <tr>\n",
       "      <td>3</td>\n",
       "      <td>광진구</td>\n",
       "      <td>574</td>\n",
       "      <td>아차산역4번출구</td>\n",
       "      <td>서울특별시 광진구 능동로 216</td>\n",
       "      <td>37.551849</td>\n",
       "      <td>127.088982</td>\n",
       "      <td>2016-07-06 12:00:00</td>\n",
       "      <td>40</td>\n",
       "    </tr>\n",
       "    <tr>\n",
       "      <td>4</td>\n",
       "      <td>용산구</td>\n",
       "      <td>829</td>\n",
       "      <td>베르가모앞</td>\n",
       "      <td>서울특별시 용산구 한강대로 23</td>\n",
       "      <td>37.522930</td>\n",
       "      <td>126.961693</td>\n",
       "      <td>2017-11-28 11:57:57</td>\n",
       "      <td>40</td>\n",
       "    </tr>\n",
       "    <tr>\n",
       "      <td>5</td>\n",
       "      <td>광진구</td>\n",
       "      <td>3507</td>\n",
       "      <td>어린이회관</td>\n",
       "      <td>서울특별시 광진구 능동 465-7</td>\n",
       "      <td>37.545952</td>\n",
       "      <td>127.078003</td>\n",
       "      <td>2017-11-01 16:00:00</td>\n",
       "      <td>39</td>\n",
       "    </tr>\n",
       "    <tr>\n",
       "      <td>6</td>\n",
       "      <td>영등포구</td>\n",
       "      <td>206</td>\n",
       "      <td>KBS 앞</td>\n",
       "      <td>서울특별시 영등포구 여의공원로 13</td>\n",
       "      <td>37.524666</td>\n",
       "      <td>126.918022</td>\n",
       "      <td>2015-09-17 15:09:17</td>\n",
       "      <td>35</td>\n",
       "    </tr>\n",
       "    <tr>\n",
       "      <td>7</td>\n",
       "      <td>영등포구</td>\n",
       "      <td>212</td>\n",
       "      <td>여의도역 1번출구 옆</td>\n",
       "      <td>서울특별시 영등포구 의사당대로 88</td>\n",
       "      <td>37.521362</td>\n",
       "      <td>126.923462</td>\n",
       "      <td>2015-09-17 15:12:54</td>\n",
       "      <td>35</td>\n",
       "    </tr>\n",
       "    <tr>\n",
       "      <td>8</td>\n",
       "      <td>중구</td>\n",
       "      <td>311</td>\n",
       "      <td>서울광장 옆</td>\n",
       "      <td>서울특별시 중구 세종대로 지하 101</td>\n",
       "      <td>37.566612</td>\n",
       "      <td>126.977470</td>\n",
       "      <td>2015-10-07 12:11:56</td>\n",
       "      <td>35</td>\n",
       "    </tr>\n",
       "  </tbody>\n",
       "</table>\n",
       "</div>"
      ],
      "text/plain": [
       "  district    id          station                address        lat  \\\n",
       "0      마포구   186            월드컵공원  서울특별시 마포구 하늘공원로 108-1  37.563965   \n",
       "1     영등포구   207     여의나루역 1번출구 앞  서울특별시 영등포구 여의동로 지하343  37.526989   \n",
       "2      마포구   420   서울시 공공자전거 상암센터  서울특별시 마포구 월드컵북로47길 10  37.566246   \n",
       "3      광진구   574         아차산역4번출구      서울특별시 광진구 능동로 216  37.551849   \n",
       "4      용산구   829            베르가모앞      서울특별시 용산구 한강대로 23  37.522930   \n",
       "5      광진구  3507            어린이회관     서울특별시 광진구 능동 465-7  37.545952   \n",
       "6     영등포구   206            KBS 앞    서울특별시 영등포구 여의공원로 13  37.524666   \n",
       "7     영등포구   212      여의도역 1번출구 옆    서울특별시 영등포구 의사당대로 88  37.521362   \n",
       "8       중구   311           서울광장 옆   서울특별시 중구 세종대로 지하 101  37.566612   \n",
       "\n",
       "          lng                date  count  \n",
       "0  126.898209 2016-07-06 12:00:00     40  \n",
       "1  126.932098 2015-09-17 15:33:18     40  \n",
       "2  126.896179 2015-10-07 11:39:12     40  \n",
       "3  127.088982 2016-07-06 12:00:00     40  \n",
       "4  126.961693 2017-11-28 11:57:57     40  \n",
       "5  127.078003 2017-11-01 16:00:00     39  \n",
       "6  126.918022 2015-09-17 15:09:17     35  \n",
       "7  126.923462 2015-09-17 15:12:54     35  \n",
       "8  126.977470 2015-10-07 12:11:56     35  "
      ]
     },
     "execution_count": 199,
     "metadata": {},
     "output_type": "execute_result"
    }
   ],
   "source": [
    "mt35_station = df_station[df_station['count']>=35].sort_values('count', ascending=False).reset_index(drop=True)\n",
    "mt35_station"
   ]
  },
  {
   "cell_type": "markdown",
   "metadata": {},
   "source": [
    "* 마포구, 영등포구, 광진구 등 한강 근처이거나 자전거도로가 있는 지역이 많다.\n",
    "* 근데 이렇게 텍스트로만 보니, 어디에 있는지 감이 잘 오지는 않는다.\n",
    "* 지도에 나타내서 살펴보자."
   ]
  },
  {
   "cell_type": "code",
   "execution_count": 206,
   "metadata": {
    "ExecuteTime": {
     "end_time": "2020-05-01T07:22:27.699976Z",
     "start_time": "2020-05-01T07:22:27.659052Z"
    }
   },
   "outputs": [
    {
     "data": {
      "text/html": [
       "<div style=\"width:100%;\"><div style=\"position:relative;width:100%;height:0;padding-bottom:60%;\"><iframe src=\"about:blank\" style=\"position:absolute;width:100%;height:100%;left:0;top:0;border:none !important;\" data-html=PCFET0NUWVBFIGh0bWw+CjxoZWFkPiAgICAKICAgIDxtZXRhIGh0dHAtZXF1aXY9ImNvbnRlbnQtdHlwZSIgY29udGVudD0idGV4dC9odG1sOyBjaGFyc2V0PVVURi04IiAvPgogICAgCiAgICAgICAgPHNjcmlwdD4KICAgICAgICAgICAgTF9OT19UT1VDSCA9IGZhbHNlOwogICAgICAgICAgICBMX0RJU0FCTEVfM0QgPSBmYWxzZTsKICAgICAgICA8L3NjcmlwdD4KICAgIAogICAgPHNjcmlwdCBzcmM9Imh0dHBzOi8vY2RuLmpzZGVsaXZyLm5ldC9ucG0vbGVhZmxldEAxLjUuMS9kaXN0L2xlYWZsZXQuanMiPjwvc2NyaXB0PgogICAgPHNjcmlwdCBzcmM9Imh0dHBzOi8vY29kZS5qcXVlcnkuY29tL2pxdWVyeS0xLjEyLjQubWluLmpzIj48L3NjcmlwdD4KICAgIDxzY3JpcHQgc3JjPSJodHRwczovL21heGNkbi5ib290c3RyYXBjZG4uY29tL2Jvb3RzdHJhcC8zLjIuMC9qcy9ib290c3RyYXAubWluLmpzIj48L3NjcmlwdD4KICAgIDxzY3JpcHQgc3JjPSJodHRwczovL2NkbmpzLmNsb3VkZmxhcmUuY29tL2FqYXgvbGlicy9MZWFmbGV0LmF3ZXNvbWUtbWFya2Vycy8yLjAuMi9sZWFmbGV0LmF3ZXNvbWUtbWFya2Vycy5qcyI+PC9zY3JpcHQ+CiAgICA8bGluayByZWw9InN0eWxlc2hlZXQiIGhyZWY9Imh0dHBzOi8vY2RuLmpzZGVsaXZyLm5ldC9ucG0vbGVhZmxldEAxLjUuMS9kaXN0L2xlYWZsZXQuY3NzIi8+CiAgICA8bGluayByZWw9InN0eWxlc2hlZXQiIGhyZWY9Imh0dHBzOi8vbWF4Y2RuLmJvb3RzdHJhcGNkbi5jb20vYm9vdHN0cmFwLzMuMi4wL2Nzcy9ib290c3RyYXAubWluLmNzcyIvPgogICAgPGxpbmsgcmVsPSJzdHlsZXNoZWV0IiBocmVmPSJodHRwczovL21heGNkbi5ib290c3RyYXBjZG4uY29tL2Jvb3RzdHJhcC8zLjIuMC9jc3MvYm9vdHN0cmFwLXRoZW1lLm1pbi5jc3MiLz4KICAgIDxsaW5rIHJlbD0ic3R5bGVzaGVldCIgaHJlZj0iaHR0cHM6Ly9tYXhjZG4uYm9vdHN0cmFwY2RuLmNvbS9mb250LWF3ZXNvbWUvNC42LjMvY3NzL2ZvbnQtYXdlc29tZS5taW4uY3NzIi8+CiAgICA8bGluayByZWw9InN0eWxlc2hlZXQiIGhyZWY9Imh0dHBzOi8vY2RuanMuY2xvdWRmbGFyZS5jb20vYWpheC9saWJzL0xlYWZsZXQuYXdlc29tZS1tYXJrZXJzLzIuMC4yL2xlYWZsZXQuYXdlc29tZS1tYXJrZXJzLmNzcyIvPgogICAgPGxpbmsgcmVsPSJzdHlsZXNoZWV0IiBocmVmPSJodHRwczovL3Jhd2Nkbi5naXRoYWNrLmNvbS9weXRob24tdmlzdWFsaXphdGlvbi9mb2xpdW0vbWFzdGVyL2ZvbGl1bS90ZW1wbGF0ZXMvbGVhZmxldC5hd2Vzb21lLnJvdGF0ZS5jc3MiLz4KICAgIDxzdHlsZT5odG1sLCBib2R5IHt3aWR0aDogMTAwJTtoZWlnaHQ6IDEwMCU7bWFyZ2luOiAwO3BhZGRpbmc6IDA7fTwvc3R5bGU+CiAgICA8c3R5bGU+I21hcCB7cG9zaXRpb246YWJzb2x1dGU7dG9wOjA7Ym90dG9tOjA7cmlnaHQ6MDtsZWZ0OjA7fTwvc3R5bGU+CiAgICAKICAgICAgICAgICAgPG1ldGEgbmFtZT0idmlld3BvcnQiIGNvbnRlbnQ9IndpZHRoPWRldmljZS13aWR0aCwKICAgICAgICAgICAgICAgIGluaXRpYWwtc2NhbGU9MS4wLCBtYXhpbXVtLXNjYWxlPTEuMCwgdXNlci1zY2FsYWJsZT1ubyIgLz4KICAgICAgICAgICAgPHN0eWxlPgogICAgICAgICAgICAgICAgI21hcF8yNTg2M2E5ODgxMjY0ZGM4ODYzMTYwOWVjOTI3YjBkMyB7CiAgICAgICAgICAgICAgICAgICAgcG9zaXRpb246IHJlbGF0aXZlOwogICAgICAgICAgICAgICAgICAgIHdpZHRoOiAxMDAuMCU7CiAgICAgICAgICAgICAgICAgICAgaGVpZ2h0OiAxMDAuMCU7CiAgICAgICAgICAgICAgICAgICAgbGVmdDogMC4wJTsKICAgICAgICAgICAgICAgICAgICB0b3A6IDAuMCU7CiAgICAgICAgICAgICAgICB9CiAgICAgICAgICAgIDwvc3R5bGU+CiAgICAgICAgCjwvaGVhZD4KPGJvZHk+ICAgIAogICAgCiAgICAgICAgICAgIDxkaXYgY2xhc3M9ImZvbGl1bS1tYXAiIGlkPSJtYXBfMjU4NjNhOTg4MTI2NGRjODg2MzE2MDllYzkyN2IwZDMiID48L2Rpdj4KICAgICAgICAKPC9ib2R5Pgo8c2NyaXB0PiAgICAKICAgIAogICAgICAgICAgICB2YXIgbWFwXzI1ODYzYTk4ODEyNjRkYzg4NjMxNjA5ZWM5MjdiMGQzID0gTC5tYXAoCiAgICAgICAgICAgICAgICAibWFwXzI1ODYzYTk4ODEyNjRkYzg4NjMxNjA5ZWM5MjdiMGQzIiwKICAgICAgICAgICAgICAgIHsKICAgICAgICAgICAgICAgICAgICBjZW50ZXI6IFszNy41NDU5NTIsIDEyNi45MzIwOThdLAogICAgICAgICAgICAgICAgICAgIGNyczogTC5DUlMuRVBTRzM4NTcsCiAgICAgICAgICAgICAgICAgICAgem9vbTogMTMsCiAgICAgICAgICAgICAgICAgICAgem9vbUNvbnRyb2w6IHRydWUsCiAgICAgICAgICAgICAgICAgICAgcHJlZmVyQ2FudmFzOiBmYWxzZSwKICAgICAgICAgICAgICAgIH0KICAgICAgICAgICAgKTsKCiAgICAgICAgICAgIAoKICAgICAgICAKICAgIAogICAgICAgICAgICB2YXIgdGlsZV9sYXllcl9jNzVmYzlkNmVhMTQ0OTQ5YjExZDFlZGUyNzE4MzM1NSA9IEwudGlsZUxheWVyKAogICAgICAgICAgICAgICAgImh0dHBzOi8ve3N9LnRpbGUub3BlbnN0cmVldG1hcC5vcmcve3p9L3t4fS97eX0ucG5nIiwKICAgICAgICAgICAgICAgIHsiYXR0cmlidXRpb24iOiAiRGF0YSBieSBcdTAwMjZjb3B5OyBcdTAwM2NhIGhyZWY9XCJodHRwOi8vb3BlbnN0cmVldG1hcC5vcmdcIlx1MDAzZU9wZW5TdHJlZXRNYXBcdTAwM2MvYVx1MDAzZSwgdW5kZXIgXHUwMDNjYSBocmVmPVwiaHR0cDovL3d3dy5vcGVuc3RyZWV0bWFwLm9yZy9jb3B5cmlnaHRcIlx1MDAzZU9EYkxcdTAwM2MvYVx1MDAzZS4iLCAiZGV0ZWN0UmV0aW5hIjogZmFsc2UsICJtYXhOYXRpdmVab29tIjogMTgsICJtYXhab29tIjogMTgsICJtaW5ab29tIjogMCwgIm5vV3JhcCI6IGZhbHNlLCAib3BhY2l0eSI6IDEsICJzdWJkb21haW5zIjogImFiYyIsICJ0bXMiOiBmYWxzZX0KICAgICAgICAgICAgKS5hZGRUbyhtYXBfMjU4NjNhOTg4MTI2NGRjODg2MzE2MDllYzkyN2IwZDMpOwogICAgICAgIAogICAgCiAgICAgICAgICAgIHZhciBtYXJrZXJfMDA0YmE5MTUxZDgyNGE5ZGFiZDEyODMzYmM0ZDA5Y2MgPSBMLm1hcmtlcigKICAgICAgICAgICAgICAgIFszNy41NjM5NjUsIDEyNi44OTgyMDldLAogICAgICAgICAgICAgICAge30KICAgICAgICAgICAgKS5hZGRUbyhtYXBfMjU4NjNhOTg4MTI2NGRjODg2MzE2MDllYzkyN2IwZDMpOwogICAgICAgIAogICAgCiAgICAgICAgICAgIHZhciBtYXJrZXJfYmI3OTE0YzMyZDM1NGJiZWJkNzIzOGEyNjEzOWE0NjQgPSBMLm1hcmtlcigKICAgICAgICAgICAgICAgIFszNy41MjY5ODksIDEyNi45MzIwOThdLAogICAgICAgICAgICAgICAge30KICAgICAgICAgICAgKS5hZGRUbyhtYXBfMjU4NjNhOTg4MTI2NGRjODg2MzE2MDllYzkyN2IwZDMpOwogICAgICAgIAogICAgCiAgICAgICAgICAgIHZhciBtYXJrZXJfNDNkZjQ0MjVkMjRlNDRlZGJjNGVjNDE0NmUyZWJmZjMgPSBMLm1hcmtlcigKICAgICAgICAgICAgICAgIFszNy41NjYyNDYsIDEyNi44OTYxNzldLAogICAgICAgICAgICAgICAge30KICAgICAgICAgICAgKS5hZGRUbyhtYXBfMjU4NjNhOTg4MTI2NGRjODg2MzE2MDllYzkyN2IwZDMpOwogICAgICAgIAogICAgCiAgICAgICAgICAgIHZhciBtYXJrZXJfMzg1MTg2NGUwMjU2NGQxYjg5ZDE1NTI5Y2QxYzM3ZjMgPSBMLm1hcmtlcigKICAgICAgICAgICAgICAgIFszNy41NTE4NDksIDEyNy4wODg5ODJdLAogICAgICAgICAgICAgICAge30KICAgICAgICAgICAgKS5hZGRUbyhtYXBfMjU4NjNhOTg4MTI2NGRjODg2MzE2MDllYzkyN2IwZDMpOwogICAgICAgIAogICAgCiAgICAgICAgICAgIHZhciBtYXJrZXJfZTYyZDRkOTQwMzY2NDRhYWEwNzdlYWM3ODMyYjUxMjUgPSBMLm1hcmtlcigKICAgICAgICAgICAgICAgIFszNy41MjI5MywgMTI2Ljk2MTY5M10sCiAgICAgICAgICAgICAgICB7fQogICAgICAgICAgICApLmFkZFRvKG1hcF8yNTg2M2E5ODgxMjY0ZGM4ODYzMTYwOWVjOTI3YjBkMyk7CiAgICAgICAgCiAgICAKICAgICAgICAgICAgdmFyIG1hcmtlcl82M2Y5MDdlNTNhNTc0YWIwOGE2MmQyODk5NzVhNzY4MyA9IEwubWFya2VyKAogICAgICAgICAgICAgICAgWzM3LjU0NTk1MiwgMTI3LjA3ODAwM10sCiAgICAgICAgICAgICAgICB7fQogICAgICAgICAgICApLmFkZFRvKG1hcF8yNTg2M2E5ODgxMjY0ZGM4ODYzMTYwOWVjOTI3YjBkMyk7CiAgICAgICAgCiAgICAKICAgICAgICAgICAgdmFyIG1hcmtlcl9mYWJjMjVkN2FlZWM0ZTAyOTViMmVkYjYxNjQzMGMwMyA9IEwubWFya2VyKAogICAgICAgICAgICAgICAgWzM3LjUyNDY2NiwgMTI2LjkxODAyMl0sCiAgICAgICAgICAgICAgICB7fQogICAgICAgICAgICApLmFkZFRvKG1hcF8yNTg2M2E5ODgxMjY0ZGM4ODYzMTYwOWVjOTI3YjBkMyk7CiAgICAgICAgCiAgICAKICAgICAgICAgICAgdmFyIG1hcmtlcl85OGMxODExOTRmOTg0Zjg0YmQzMGZlZmMxNzhhZDY2NCA9IEwubWFya2VyKAogICAgICAgICAgICAgICAgWzM3LjUyMTM2MiwgMTI2LjkyMzQ2Ml0sCiAgICAgICAgICAgICAgICB7fQogICAgICAgICAgICApLmFkZFRvKG1hcF8yNTg2M2E5ODgxMjY0ZGM4ODYzMTYwOWVjOTI3YjBkMyk7CiAgICAgICAgCiAgICAKICAgICAgICAgICAgdmFyIG1hcmtlcl9mOTViMWNhZTZiOWQ0YmQ5YTA3YzAzMzVjZmI1M2ZkNCA9IEwubWFya2VyKAogICAgICAgICAgICAgICAgWzM3LjU2NjYxMiwgMTI2Ljk3NzQ3XSwKICAgICAgICAgICAgICAgIHt9CiAgICAgICAgICAgICkuYWRkVG8obWFwXzI1ODYzYTk4ODEyNjRkYzg4NjMxNjA5ZWM5MjdiMGQzKTsKICAgICAgICAKPC9zY3JpcHQ+ onload=\"this.contentDocument.open();this.contentDocument.write(atob(this.getAttribute('data-html')));this.contentDocument.close();\" allowfullscreen webkitallowfullscreen mozallowfullscreen></iframe></div></div>"
      ],
      "text/plain": [
       "<folium.folium.Map at 0x1410b2554c8>"
      ]
     },
     "execution_count": 206,
     "metadata": {},
     "output_type": "execute_result"
    }
   ],
   "source": [
    "import folium\n",
    "\n",
    "map = folium.Map([mt35_station.lat.median(), mt35_station.lng.median()], zoom_start=13)\n",
    "for row in mt35_station.index:\n",
    "    folium.Marker([mt35_station.loc[row, 'lat'], mt35_station.loc[row, 'lng']]).add_to(map)\n",
    "map"
   ]
  },
  {
   "cell_type": "markdown",
   "metadata": {},
   "source": [
    "* 예상대로, 따릉이가 많이 배치된 지역은 대부분 한강 근처에 분포되어있는 것을 알 수 있다.\n",
    "* 다음으로는, **어느 구에** 따릉이가 많이 배치되어있는지 살펴보자."
   ]
  },
  {
   "cell_type": "code",
   "execution_count": 235,
   "metadata": {
    "ExecuteTime": {
     "end_time": "2020-05-01T09:22:18.516819Z",
     "start_time": "2020-05-01T09:22:18.493628Z"
    }
   },
   "outputs": [
    {
     "data": {
      "text/html": [
       "<div>\n",
       "<style scoped>\n",
       "    .dataframe tbody tr th:only-of-type {\n",
       "        vertical-align: middle;\n",
       "    }\n",
       "\n",
       "    .dataframe tbody tr th {\n",
       "        vertical-align: top;\n",
       "    }\n",
       "\n",
       "    .dataframe thead th {\n",
       "        text-align: right;\n",
       "    }\n",
       "</style>\n",
       "<table border=\"1\" class=\"dataframe\">\n",
       "  <thead>\n",
       "    <tr style=\"text-align: right;\">\n",
       "      <th></th>\n",
       "      <th>id</th>\n",
       "      <th>lat</th>\n",
       "      <th>lng</th>\n",
       "      <th>count</th>\n",
       "    </tr>\n",
       "    <tr>\n",
       "      <th>district</th>\n",
       "      <th></th>\n",
       "      <th></th>\n",
       "      <th></th>\n",
       "      <th></th>\n",
       "    </tr>\n",
       "  </thead>\n",
       "  <tbody>\n",
       "    <tr>\n",
       "      <td>강남구</td>\n",
       "      <td>233051</td>\n",
       "      <td>3712.498423</td>\n",
       "      <td>12578.440221</td>\n",
       "      <td>1218</td>\n",
       "    </tr>\n",
       "    <tr>\n",
       "      <td>강동구</td>\n",
       "      <td>61258</td>\n",
       "      <td>2140.213577</td>\n",
       "      <td>7247.300705</td>\n",
       "      <td>763</td>\n",
       "    </tr>\n",
       "    <tr>\n",
       "      <td>강북구</td>\n",
       "      <td>59525</td>\n",
       "      <td>1467.706114</td>\n",
       "      <td>4953.973380</td>\n",
       "      <td>451</td>\n",
       "    </tr>\n",
       "    <tr>\n",
       "      <td>강서구</td>\n",
       "      <td>101004</td>\n",
       "      <td>3192.395109</td>\n",
       "      <td>10781.119844</td>\n",
       "      <td>1002</td>\n",
       "    </tr>\n",
       "    <tr>\n",
       "      <td>관악구</td>\n",
       "      <td>109301</td>\n",
       "      <td>1911.471931</td>\n",
       "      <td>6473.794822</td>\n",
       "      <td>640</td>\n",
       "    </tr>\n",
       "  </tbody>\n",
       "</table>\n",
       "</div>"
      ],
      "text/plain": [
       "              id          lat           lng  count\n",
       "district                                          \n",
       "강남구       233051  3712.498423  12578.440221   1218\n",
       "강동구        61258  2140.213577   7247.300705    763\n",
       "강북구        59525  1467.706114   4953.973380    451\n",
       "강서구       101004  3192.395109  10781.119844   1002\n",
       "관악구       109301  1911.471931   6473.794822    640"
      ]
     },
     "execution_count": 235,
     "metadata": {},
     "output_type": "execute_result"
    }
   ],
   "source": [
    "district_count = df_station.groupby('district').sum()\n",
    "district_count.head()"
   ]
  },
  {
   "cell_type": "code",
   "execution_count": 215,
   "metadata": {
    "ExecuteTime": {
     "end_time": "2020-05-01T09:17:00.399668Z",
     "start_time": "2020-05-01T09:17:00.391722Z"
    }
   },
   "outputs": [],
   "source": [
    "import json\n",
    "geo_data = json.load(open('source/Seoul_district_geo.json', encoding='utf-8'))"
   ]
  },
  {
   "cell_type": "code",
   "execution_count": 242,
   "metadata": {
    "ExecuteTime": {
     "end_time": "2020-05-01T09:24:18.189868Z",
     "start_time": "2020-05-01T09:24:18.131028Z"
    }
   },
   "outputs": [
    {
     "data": {
      "text/html": [
       "<div style=\"width:100%;\"><div style=\"position:relative;width:100%;height:0;padding-bottom:60%;\"><iframe src=\"about:blank\" style=\"position:absolute;width:100%;height:100%;left:0;top:0;border:none !important;\" data-html=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 onload=\"this.contentDocument.open();this.contentDocument.write(atob(this.getAttribute('data-html')));this.contentDocument.close();\" allowfullscreen webkitallowfullscreen mozallowfullscreen></iframe></div></div>"
      ],
      "text/plain": [
       "<folium.folium.Map at 0x141097af808>"
      ]
     },
     "execution_count": 242,
     "metadata": {},
     "output_type": "execute_result"
    }
   ],
   "source": [
    "map = folium.Map([df_station['lat'].median(),\n",
    "                  df_station['lng'].median()], zoom_start=11)\n",
    "\n",
    "map.choropleth(geo_data=geo_data,\n",
    "               data=district_count['count'],\n",
    "               columns=[district_count.index, district_count['count']],\n",
    "               fill_color = 'YlGnBu', #PuRd, YlGnBu\n",
    "               key_on = 'feature.id')\n",
    "map"
   ]
  },
  {
   "cell_type": "markdown",
   "metadata": {
    "ExecuteTime": {
     "end_time": "2020-05-01T04:36:48.504394Z",
     "start_time": "2020-05-01T04:36:48.482453Z"
    }
   },
   "source": [
    "* **강남 3구(강남구, 서초구, 송파구)와 영등포구가 가장 따릉이가 많이 배치되어있다.**\n",
    "* 반면 **강북은 전반적으로 따릉이 수가 적은 것을 확인할 수 있다.**\n",
    "    * 그나마 제일 많은 곳은 마포구다.\n",
    "* 놀랐던 것은, 내가 살고있는 **성동구도 상대적으로 따릉이가 많은 편은 아니었다!**\n",
    "    * 서울숲 근처에 따릉이가 많아서 가시적으로는 굉장히 많아보였는데, 아마 서울숲 근처에만 많나보다.\n",
    "    * 음.. 이렇게 끝내면 카더라니까, 실제로 **성동구에는 서울숲 근처에만 따릉이가 많은지 확인해보자!**"
   ]
  },
  {
   "cell_type": "markdown",
   "metadata": {},
   "source": [
    "#### 3-1-2. 성동구 내 따릉이 분포 확인해보기\n",
    "* 정말 서울숲에만 많아서 많아보인건가?\n",
    "* 나는 정녕 우물 안 개구리 혹은 서울숲 안 사슴이었던것인가"
   ]
  },
  {
   "cell_type": "code",
   "execution_count": 276,
   "metadata": {
    "ExecuteTime": {
     "end_time": "2020-05-01T09:54:55.952736Z",
     "start_time": "2020-05-01T09:54:55.932788Z"
    }
   },
   "outputs": [
    {
     "data": {
      "text/html": [
       "<div>\n",
       "<style scoped>\n",
       "    .dataframe tbody tr th:only-of-type {\n",
       "        vertical-align: middle;\n",
       "    }\n",
       "\n",
       "    .dataframe tbody tr th {\n",
       "        vertical-align: top;\n",
       "    }\n",
       "\n",
       "    .dataframe thead th {\n",
       "        text-align: right;\n",
       "    }\n",
       "</style>\n",
       "<table border=\"1\" class=\"dataframe\">\n",
       "  <thead>\n",
       "    <tr style=\"text-align: right;\">\n",
       "      <th></th>\n",
       "      <th>district</th>\n",
       "      <th>id</th>\n",
       "      <th>station</th>\n",
       "      <th>address</th>\n",
       "      <th>lat</th>\n",
       "      <th>lng</th>\n",
       "      <th>date</th>\n",
       "      <th>count</th>\n",
       "    </tr>\n",
       "  </thead>\n",
       "  <tbody>\n",
       "    <tr>\n",
       "      <td>0</td>\n",
       "      <td>성동구</td>\n",
       "      <td>506</td>\n",
       "      <td>금호 어울림 아파트 앞</td>\n",
       "      <td>서울특별시 성동구 광나루로 249</td>\n",
       "      <td>37.549061</td>\n",
       "      <td>127.057793</td>\n",
       "      <td>2015-10-07 11:50:10</td>\n",
       "      <td>7</td>\n",
       "    </tr>\n",
       "    <tr>\n",
       "      <td>1</td>\n",
       "      <td>성동구</td>\n",
       "      <td>507</td>\n",
       "      <td>성수아이에스비즈타워 앞</td>\n",
       "      <td>서울특별시 성동구 성수이로 147</td>\n",
       "      <td>37.548203</td>\n",
       "      <td>127.057114</td>\n",
       "      <td>2015-10-07 11:50:53</td>\n",
       "      <td>7</td>\n",
       "    </tr>\n",
       "    <tr>\n",
       "      <td>2</td>\n",
       "      <td>성동구</td>\n",
       "      <td>508</td>\n",
       "      <td>성수아카데미타워 앞</td>\n",
       "      <td>서울특별시 성동구 성수이로 118</td>\n",
       "      <td>37.545166</td>\n",
       "      <td>127.057510</td>\n",
       "      <td>2015-10-07 11:51:33</td>\n",
       "      <td>10</td>\n",
       "    </tr>\n",
       "    <tr>\n",
       "      <td>3</td>\n",
       "      <td>성동구</td>\n",
       "      <td>509</td>\n",
       "      <td>이마트 버스정류소 옆</td>\n",
       "      <td>서울특별시 성동구 뚝섬로 379</td>\n",
       "      <td>37.539654</td>\n",
       "      <td>127.052589</td>\n",
       "      <td>2015-10-07 11:52:07</td>\n",
       "      <td>20</td>\n",
       "    </tr>\n",
       "    <tr>\n",
       "      <td>4</td>\n",
       "      <td>성동구</td>\n",
       "      <td>510</td>\n",
       "      <td>서울숲 남문 버스정류소 옆</td>\n",
       "      <td>서울특별시 성동구 왕십리로11길 9</td>\n",
       "      <td>37.541222</td>\n",
       "      <td>127.043800</td>\n",
       "      <td>2015-10-07 11:55:30</td>\n",
       "      <td>10</td>\n",
       "    </tr>\n",
       "  </tbody>\n",
       "</table>\n",
       "</div>"
      ],
      "text/plain": [
       "  district   id          station              address        lat         lng  \\\n",
       "0      성동구  506     금호 어울림 아파트 앞   서울특별시 성동구 광나루로 249  37.549061  127.057793   \n",
       "1      성동구  507     성수아이에스비즈타워 앞   서울특별시 성동구 성수이로 147  37.548203  127.057114   \n",
       "2      성동구  508       성수아카데미타워 앞   서울특별시 성동구 성수이로 118  37.545166  127.057510   \n",
       "3      성동구  509      이마트 버스정류소 옆    서울특별시 성동구 뚝섬로 379  37.539654  127.052589   \n",
       "4      성동구  510   서울숲 남문 버스정류소 옆  서울특별시 성동구 왕십리로11길 9  37.541222  127.043800   \n",
       "\n",
       "                 date  count  \n",
       "0 2015-10-07 11:50:10      7  \n",
       "1 2015-10-07 11:50:53      7  \n",
       "2 2015-10-07 11:51:33     10  \n",
       "3 2015-10-07 11:52:07     20  \n",
       "4 2015-10-07 11:55:30     10  "
      ]
     },
     "execution_count": 276,
     "metadata": {},
     "output_type": "execute_result"
    }
   ],
   "source": [
    "seongdong = df_station[df_station['district']=='성동구']\n",
    "seongdong.reset_index(drop=True, inplace=True)\n",
    "seongdong.head()"
   ]
  },
  {
   "cell_type": "code",
   "execution_count": 264,
   "metadata": {
    "ExecuteTime": {
     "end_time": "2020-05-01T09:51:30.922638Z",
     "start_time": "2020-05-01T09:51:30.909659Z"
    }
   },
   "outputs": [
    {
     "name": "stdout",
     "output_type": "stream",
     "text": [
      "<class 'pandas.core.frame.DataFrame'>\n",
      "Int64Index: 63 entries, 321 to 1517\n",
      "Data columns (total 8 columns):\n",
      "district    63 non-null object\n",
      "id          63 non-null int32\n",
      "station     63 non-null object\n",
      "address     63 non-null object\n",
      "lat         63 non-null float64\n",
      "lng         63 non-null float64\n",
      "date        63 non-null datetime64[ns]\n",
      "count       63 non-null int64\n",
      "dtypes: datetime64[ns](1), float64(2), int32(1), int64(1), object(3)\n",
      "memory usage: 6.7+ KB\n"
     ]
    }
   ],
   "source": [
    "seongdong.info()"
   ]
  },
  {
   "cell_type": "code",
   "execution_count": 377,
   "metadata": {
    "ExecuteTime": {
     "end_time": "2020-05-01T14:07:25.028953Z",
     "start_time": "2020-05-01T14:07:24.919250Z"
    }
   },
   "outputs": [
    {
     "data": {
      "text/html": [
       "<div style=\"width:100%;\"><div style=\"position:relative;width:100%;height:0;padding-bottom:60%;\"><iframe src=\"about:blank\" style=\"position:absolute;width:100%;height:100%;left:0;top:0;border:none !important;\" data-html=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 onload=\"this.contentDocument.open();this.contentDocument.write(atob(this.getAttribute('data-html')));this.contentDocument.close();\" allowfullscreen webkitallowfullscreen mozallowfullscreen></iframe></div></div>"
      ],
      "text/plain": [
       "<folium.folium.Map at 0x1410dce7888>"
      ]
     },
     "execution_count": 377,
     "metadata": {},
     "output_type": "execute_result"
    }
   ],
   "source": [
    "from folium.plugins import HeatMap\n",
    "from folium.plugins import MarkerCluster\n",
    "\n",
    "# 성동구 맵 만들기\n",
    "map = folium.Map([seongdong['lat'].median(),\n",
    "                  seongdong['lng'].median()],\n",
    "                 tiles='Stamen Watercolor', zoom_start=14)\n",
    "\n",
    "# 클러스터링 생성\n",
    "MarkerCluster(seongdong[['lat', 'lng']]).add_to(map)\n",
    "# 히트맵 생성\n",
    "HeatMap(seongdong[['lat', 'lng', 'count']]).add_to(map)\n",
    "\n",
    "# 자전거 수가 많은 지역 10군데 표시\n",
    "for row in seongdong.sort_values('count', ascending=False).index[:10]:\n",
    "    lat = seongdong.loc[row, 'lat']\n",
    "    lng = seongdong.loc[row, 'lng']\n",
    "    folium.Marker([lat, lng], icon=folium.Icon(color='black',icon=\"bicycle\", prefix='fa')).add_to(map)\n",
    "\n",
    "# 서울숲 근처 녹색 원 표시\n",
    "folium.CircleMarker([37.544796, 127.039266], radius=90,\n",
    "                    color='#008024', fill_color='#06EB51', fill_opacity=.2).add_to(map)\n",
    "map"
   ]
  },
  {
   "cell_type": "markdown",
   "metadata": {},
   "source": [
    "> *히트맵: 어느 곳에 자전거수가 많은지 확인 가능  \n",
    "클러스터링(지도 내 숫자): 구역 당 대여소의 수를 확인 가능*\n",
    "\n",
    "* 서울숲 근처에는 성동구에서 가장 많은 자전거 대여소 중 하나가 있다.\n",
    "* 그리고 근처에 다섯개의 대여소가 있다. 적다고 할 수는 없다.\n",
    "* **하지만!**\n",
    "    * 서울숲 근처에만 집중적으로 몰려있는 것은 아니다.\n",
    "    * 전반적으로 고르게 퍼져있음을 확인할 수 있다."
   ]
  },
  {
   "cell_type": "markdown",
   "metadata": {},
   "source": [
    "### 3-2. 따릉이를 많이 대여하는 지역 찾기"
   ]
  },
  {
   "cell_type": "markdown",
   "metadata": {},
   "source": [
    "* 앞에서는  \n",
    "    1) 대여소가 어디 구에 많은지 알았고,  \n",
    "    2) 서울숲 근처에 대여소가 몰려있는지 확인해보았다.  \n",
    "* 이제 대여, 반납 수를 분석하여 **실제로 어느 구역에 따릉이가 부족한 지 분석해보자.**"
   ]
  },
  {
   "cell_type": "code",
   "execution_count": 378,
   "metadata": {
    "ExecuteTime": {
     "end_time": "2020-05-01T14:42:32.530370Z",
     "start_time": "2020-05-01T14:42:32.506434Z"
    }
   },
   "outputs": [
    {
     "data": {
      "text/html": [
       "<div>\n",
       "<style scoped>\n",
       "    .dataframe tbody tr th:only-of-type {\n",
       "        vertical-align: middle;\n",
       "    }\n",
       "\n",
       "    .dataframe tbody tr th {\n",
       "        vertical-align: top;\n",
       "    }\n",
       "\n",
       "    .dataframe thead th {\n",
       "        text-align: right;\n",
       "    }\n",
       "</style>\n",
       "<table border=\"1\" class=\"dataframe\">\n",
       "  <thead>\n",
       "    <tr style=\"text-align: right;\">\n",
       "      <th></th>\n",
       "      <th>district</th>\n",
       "      <th>id</th>\n",
       "      <th>station</th>\n",
       "      <th>date</th>\n",
       "      <th>count</th>\n",
       "    </tr>\n",
       "  </thead>\n",
       "  <tbody>\n",
       "    <tr>\n",
       "      <td>0</td>\n",
       "      <td>강남구</td>\n",
       "      <td>2301</td>\n",
       "      <td>현대고등학교 건너편</td>\n",
       "      <td>2019-06-01</td>\n",
       "      <td>3909</td>\n",
       "    </tr>\n",
       "    <tr>\n",
       "      <td>1</td>\n",
       "      <td>강남구</td>\n",
       "      <td>2302</td>\n",
       "      <td>교보타워 버스정류장(신논현역 3번출구 후면)</td>\n",
       "      <td>2019-06-01</td>\n",
       "      <td>2432</td>\n",
       "    </tr>\n",
       "    <tr>\n",
       "      <td>2</td>\n",
       "      <td>강남구</td>\n",
       "      <td>2303</td>\n",
       "      <td>논현역 7번출구</td>\n",
       "      <td>2019-06-01</td>\n",
       "      <td>1567</td>\n",
       "    </tr>\n",
       "    <tr>\n",
       "      <td>3</td>\n",
       "      <td>강남구</td>\n",
       "      <td>2304</td>\n",
       "      <td>신영 ROYAL PALACE 앞</td>\n",
       "      <td>2019-06-01</td>\n",
       "      <td>559</td>\n",
       "    </tr>\n",
       "    <tr>\n",
       "      <td>4</td>\n",
       "      <td>강남구</td>\n",
       "      <td>2305</td>\n",
       "      <td>MCM 본사 직영점 앞</td>\n",
       "      <td>2019-06-01</td>\n",
       "      <td>730</td>\n",
       "    </tr>\n",
       "  </tbody>\n",
       "</table>\n",
       "</div>"
      ],
      "text/plain": [
       "  district    id                    station       date  count\n",
       "0      강남구  2301                 현대고등학교 건너편 2019-06-01   3909\n",
       "1      강남구  2302   교보타워 버스정류장(신논현역 3번출구 후면) 2019-06-01   2432\n",
       "2      강남구  2303                   논현역 7번출구 2019-06-01   1567\n",
       "3      강남구  2304          신영 ROYAL PALACE 앞 2019-06-01    559\n",
       "4      강남구  2305               MCM 본사 직영점 앞 2019-06-01    730"
      ]
     },
     "execution_count": 378,
     "metadata": {},
     "output_type": "execute_result"
    }
   ],
   "source": [
    "df_rent.head()"
   ]
  }
 ],
 "metadata": {
  "kernelspec": {
   "display_name": "Python 3",
   "language": "python",
   "name": "python3"
  },
  "language_info": {
   "codemirror_mode": {
    "name": "ipython",
    "version": 3
   },
   "file_extension": ".py",
   "mimetype": "text/x-python",
   "name": "python",
   "nbconvert_exporter": "python",
   "pygments_lexer": "ipython3",
   "version": "3.7.4"
  },
  "toc": {
   "base_numbering": 1,
   "nav_menu": {},
   "number_sections": false,
   "sideBar": true,
   "skip_h1_title": true,
   "title_cell": "Table of Contents",
   "title_sidebar": "Contents",
   "toc_cell": true,
   "toc_position": {},
   "toc_section_display": true,
   "toc_window_display": true
  }
 },
 "nbformat": 4,
 "nbformat_minor": 2
}
