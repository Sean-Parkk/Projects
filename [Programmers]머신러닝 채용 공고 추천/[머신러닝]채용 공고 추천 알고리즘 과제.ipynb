{
 "cells": [
  {
   "cell_type": "markdown",
   "metadata": {},
   "source": [
    "# 프로그래머스 과제 풀어보기"
   ]
  },
  {
   "cell_type": "markdown",
   "metadata": {
    "toc": true
   },
   "source": [
    "<h1>Table of Contents<span class=\"tocSkip\"></span></h1>\n",
    "<div class=\"toc\"><ul class=\"toc-item\"></ul></div>"
   ]
  },
  {
   "cell_type": "markdown",
   "metadata": {},
   "source": [
    "|userID|jobID|usertags|jobtags|companyID|companySize|applied|\n",
    "|---|---|---|---|---|---|---|\n",
    "\n",
    "아니면\n",
    "\n",
    "|userID|jobID|공통 키워드 수|companyID|companySize|applied|\n",
    "|---|---|---|---|---|---|"
   ]
  },
  {
   "cell_type": "code",
   "execution_count": 1,
   "metadata": {
    "ExecuteTime": {
     "end_time": "2020-09-28T09:32:52.821414Z",
     "start_time": "2020-09-28T09:32:48.491673Z"
    }
   },
   "outputs": [],
   "source": [
    "import pandas as pd\n",
    "import numpy as np\n",
    "import matplotlib.pyplot as plt\n",
    "import seaborn as sns\n",
    "plt.style.use('seaborn-whitegrid')\n",
    "import warnings\n",
    "warnings.filterwarnings('ignore')\n",
    "from tqdm.notebook import tqdm"
   ]
  },
  {
   "cell_type": "code",
   "execution_count": 2,
   "metadata": {
    "ExecuteTime": {
     "end_time": "2020-09-28T09:33:07.895767Z",
     "start_time": "2020-09-28T09:33:07.875821Z"
    }
   },
   "outputs": [],
   "source": [
    "plt.rc('font', size=13)\n",
    "plt.rc('font', family='NanumGothic')"
   ]
  },
  {
   "cell_type": "code",
   "execution_count": 3,
   "metadata": {
    "ExecuteTime": {
     "end_time": "2020-09-28T09:35:14.839026Z",
     "start_time": "2020-09-28T09:35:14.752258Z"
    }
   },
   "outputs": [],
   "source": [
    "df_train = pd.read_csv('../source/Applypredict(programmers)/train_job/train.csv')\n",
    "df_test = pd.read_csv('../source/Applypredict(programmers)/test_job.csv')\n",
    "df_companies = pd.read_csv('../source/Applypredict(programmers)/train_job/job_companies.csv')\n",
    "df_jobtags = pd.read_csv('../source/Applypredict(programmers)/train_job/job_tags.csv')\n",
    "df_tags = pd.read_csv('../source/Applypredict(programmers)/train_job/tags.csv')\n",
    "df_usertags = pd.read_csv('../source/Applypredict(programmers)/train_job/user_tags.csv')"
   ]
  },
  {
   "cell_type": "code",
   "execution_count": 8,
   "metadata": {
    "ExecuteTime": {
     "end_time": "2020-09-28T09:36:17.525990Z",
     "start_time": "2020-09-28T09:36:17.501539Z"
    }
   },
   "outputs": [
    {
     "data": {
      "text/html": [
       "<div>\n",
       "<style scoped>\n",
       "    .dataframe tbody tr th:only-of-type {\n",
       "        vertical-align: middle;\n",
       "    }\n",
       "\n",
       "    .dataframe tbody tr th {\n",
       "        vertical-align: top;\n",
       "    }\n",
       "\n",
       "    .dataframe thead th {\n",
       "        text-align: right;\n",
       "    }\n",
       "</style>\n",
       "<table border=\"1\" class=\"dataframe\">\n",
       "  <thead>\n",
       "    <tr style=\"text-align: right;\">\n",
       "      <th></th>\n",
       "      <th>userID</th>\n",
       "      <th>jobID</th>\n",
       "      <th>applied</th>\n",
       "    </tr>\n",
       "  </thead>\n",
       "  <tbody>\n",
       "    <tr>\n",
       "      <td>0</td>\n",
       "      <td>fe292163d06253b716e9a0099b42031d</td>\n",
       "      <td>15de21c670ae7c3f6f3f1f37029303c9</td>\n",
       "      <td>0</td>\n",
       "    </tr>\n",
       "    <tr>\n",
       "      <td>1</td>\n",
       "      <td>6377fa90618fae77571e8dc90d98d409</td>\n",
       "      <td>55b37c5c270e5d84c793e486d798c01d</td>\n",
       "      <td>0</td>\n",
       "    </tr>\n",
       "    <tr>\n",
       "      <td>2</td>\n",
       "      <td>8ec0888a5b04139be0dfe942c7eb4199</td>\n",
       "      <td>0fcbc61acd0479dc77e3cccc0f5ffca7</td>\n",
       "      <td>1</td>\n",
       "    </tr>\n",
       "    <tr>\n",
       "      <td>3</td>\n",
       "      <td>f862b39f767d3a1991bdeb2ea1401c9c</td>\n",
       "      <td>3b5dca501ee1e6d8cd7b905f4e1bf723</td>\n",
       "      <td>0</td>\n",
       "    </tr>\n",
       "    <tr>\n",
       "      <td>4</td>\n",
       "      <td>cac14930c65d72c16efac2c51a6b7f71</td>\n",
       "      <td>287e03db1d99e0ec2edb90d079e142f3</td>\n",
       "      <td>0</td>\n",
       "    </tr>\n",
       "    <tr>\n",
       "      <td>...</td>\n",
       "      <td>...</td>\n",
       "      <td>...</td>\n",
       "      <td>...</td>\n",
       "    </tr>\n",
       "    <tr>\n",
       "      <td>5995</td>\n",
       "      <td>68cb94b97d00979f4e8127915885b641</td>\n",
       "      <td>b9228e0962a78b84f3d5d92f4faa000b</td>\n",
       "      <td>0</td>\n",
       "    </tr>\n",
       "    <tr>\n",
       "      <td>5996</td>\n",
       "      <td>c0b199d73bdf390c2f4c3150b6ee1574</td>\n",
       "      <td>e3796ae838835da0b6f6ea37bcf8bcb7</td>\n",
       "      <td>0</td>\n",
       "    </tr>\n",
       "    <tr>\n",
       "      <td>5997</td>\n",
       "      <td>3ab88dd28f749fe4ec90c0b6f9896eb5</td>\n",
       "      <td>e2a2dcc36a08a345332c751b2f2e476c</td>\n",
       "      <td>0</td>\n",
       "    </tr>\n",
       "    <tr>\n",
       "      <td>5998</td>\n",
       "      <td>75b4af0dacbc119eadf4eeb096738405</td>\n",
       "      <td>3b712de48137572f3849aabd5666a4e3</td>\n",
       "      <td>0</td>\n",
       "    </tr>\n",
       "    <tr>\n",
       "      <td>5999</td>\n",
       "      <td>67adefb430df142b099bed89bd491524</td>\n",
       "      <td>65cc2c8205a05d7379fa3a6386f710e1</td>\n",
       "      <td>0</td>\n",
       "    </tr>\n",
       "  </tbody>\n",
       "</table>\n",
       "<p>6000 rows × 3 columns</p>\n",
       "</div>"
      ],
      "text/plain": [
       "                                userID                             jobID  \\\n",
       "0     fe292163d06253b716e9a0099b42031d  15de21c670ae7c3f6f3f1f37029303c9   \n",
       "1     6377fa90618fae77571e8dc90d98d409  55b37c5c270e5d84c793e486d798c01d   \n",
       "2     8ec0888a5b04139be0dfe942c7eb4199  0fcbc61acd0479dc77e3cccc0f5ffca7   \n",
       "3     f862b39f767d3a1991bdeb2ea1401c9c  3b5dca501ee1e6d8cd7b905f4e1bf723   \n",
       "4     cac14930c65d72c16efac2c51a6b7f71  287e03db1d99e0ec2edb90d079e142f3   \n",
       "...                                ...                               ...   \n",
       "5995  68cb94b97d00979f4e8127915885b641  b9228e0962a78b84f3d5d92f4faa000b   \n",
       "5996  c0b199d73bdf390c2f4c3150b6ee1574  e3796ae838835da0b6f6ea37bcf8bcb7   \n",
       "5997  3ab88dd28f749fe4ec90c0b6f9896eb5  e2a2dcc36a08a345332c751b2f2e476c   \n",
       "5998  75b4af0dacbc119eadf4eeb096738405  3b712de48137572f3849aabd5666a4e3   \n",
       "5999  67adefb430df142b099bed89bd491524  65cc2c8205a05d7379fa3a6386f710e1   \n",
       "\n",
       "      applied  \n",
       "0           0  \n",
       "1           0  \n",
       "2           1  \n",
       "3           0  \n",
       "4           0  \n",
       "...       ...  \n",
       "5995        0  \n",
       "5996        0  \n",
       "5997        0  \n",
       "5998        0  \n",
       "5999        0  \n",
       "\n",
       "[6000 rows x 3 columns]"
      ]
     },
     "execution_count": 8,
     "metadata": {},
     "output_type": "execute_result"
    }
   ],
   "source": [
    "df_train"
   ]
  },
  {
   "cell_type": "code",
   "execution_count": 14,
   "metadata": {
    "ExecuteTime": {
     "end_time": "2020-09-28T09:38:08.427016Z",
     "start_time": "2020-09-28T09:38:08.360196Z"
    }
   },
   "outputs": [
    {
     "data": {
      "text/html": [
       "<div>\n",
       "<style scoped>\n",
       "    .dataframe tbody tr th:only-of-type {\n",
       "        vertical-align: middle;\n",
       "    }\n",
       "\n",
       "    .dataframe tbody tr th {\n",
       "        vertical-align: top;\n",
       "    }\n",
       "\n",
       "    .dataframe thead th {\n",
       "        text-align: right;\n",
       "    }\n",
       "</style>\n",
       "<table border=\"1\" class=\"dataframe\">\n",
       "  <thead>\n",
       "    <tr style=\"text-align: right;\">\n",
       "      <th></th>\n",
       "      <th>userID</th>\n",
       "    </tr>\n",
       "    <tr>\n",
       "      <th>tagID</th>\n",
       "      <th></th>\n",
       "    </tr>\n",
       "  </thead>\n",
       "  <tbody>\n",
       "    <tr>\n",
       "      <td>03e7ef47cee6fa4ae7567394b99912b7</td>\n",
       "      <td>3</td>\n",
       "    </tr>\n",
       "    <tr>\n",
       "      <td>03f544613917945245041ea1581df0c2</td>\n",
       "      <td>206</td>\n",
       "    </tr>\n",
       "    <tr>\n",
       "      <td>045117b0e0a11a242b9765e79cbf113f</td>\n",
       "      <td>14</td>\n",
       "    </tr>\n",
       "    <tr>\n",
       "      <td>06eb61b839a0cefee4967c67ccb099dc</td>\n",
       "      <td>51</td>\n",
       "    </tr>\n",
       "    <tr>\n",
       "      <td>07042ac7d03d3b9911a00da43ce0079a</td>\n",
       "      <td>1</td>\n",
       "    </tr>\n",
       "    <tr>\n",
       "      <td>...</td>\n",
       "      <td>...</td>\n",
       "    </tr>\n",
       "    <tr>\n",
       "      <td>fe70c36866add1572a8e2b96bfede7bf</td>\n",
       "      <td>5</td>\n",
       "    </tr>\n",
       "    <tr>\n",
       "      <td>feab05aa91085b7a8012516bc3533958</td>\n",
       "      <td>5</td>\n",
       "    </tr>\n",
       "    <tr>\n",
       "      <td>fec87a37cdeec1c6ecf8181c0aa2d3bf</td>\n",
       "      <td>10</td>\n",
       "    </tr>\n",
       "    <tr>\n",
       "      <td>ffeabd223de0d4eacb9a3e6e53e5448d</td>\n",
       "      <td>15</td>\n",
       "    </tr>\n",
       "    <tr>\n",
       "      <td>ffeed84c7cb1ae7bf4ec4bd78275bb98</td>\n",
       "      <td>326</td>\n",
       "    </tr>\n",
       "  </tbody>\n",
       "</table>\n",
       "<p>345 rows × 1 columns</p>\n",
       "</div>"
      ],
      "text/plain": [
       "                                  userID\n",
       "tagID                                   \n",
       "03e7ef47cee6fa4ae7567394b99912b7       3\n",
       "03f544613917945245041ea1581df0c2     206\n",
       "045117b0e0a11a242b9765e79cbf113f      14\n",
       "06eb61b839a0cefee4967c67ccb099dc      51\n",
       "07042ac7d03d3b9911a00da43ce0079a       1\n",
       "...                                  ...\n",
       "fe70c36866add1572a8e2b96bfede7bf       5\n",
       "feab05aa91085b7a8012516bc3533958       5\n",
       "fec87a37cdeec1c6ecf8181c0aa2d3bf      10\n",
       "ffeabd223de0d4eacb9a3e6e53e5448d      15\n",
       "ffeed84c7cb1ae7bf4ec4bd78275bb98     326\n",
       "\n",
       "[345 rows x 1 columns]"
      ]
     },
     "execution_count": 14,
     "metadata": {},
     "output_type": "execute_result"
    }
   ],
   "source": [
    "df_usertags.groupby(['tagID']).count()"
   ]
  },
  {
   "cell_type": "code",
   "execution_count": 35,
   "metadata": {
    "ExecuteTime": {
     "end_time": "2020-09-28T09:50:20.960811Z",
     "start_time": "2020-09-28T09:50:20.936875Z"
    }
   },
   "outputs": [
    {
     "data": {
      "text/plain": [
       "5804"
      ]
     },
     "execution_count": 35,
     "metadata": {},
     "output_type": "execute_result"
    }
   ],
   "source": []
  }
 ],
 "metadata": {
  "kernelspec": {
   "display_name": "Python 3",
   "language": "python",
   "name": "python3"
  },
  "language_info": {
   "codemirror_mode": {
    "name": "ipython",
    "version": 3
   },
   "file_extension": ".py",
   "mimetype": "text/x-python",
   "name": "python",
   "nbconvert_exporter": "python",
   "pygments_lexer": "ipython3",
   "version": "3.7.4"
  },
  "toc": {
   "base_numbering": 1,
   "nav_menu": {},
   "number_sections": false,
   "sideBar": true,
   "skip_h1_title": true,
   "title_cell": "Table of Contents",
   "title_sidebar": "Contents",
   "toc_cell": true,
   "toc_position": {},
   "toc_section_display": true,
   "toc_window_display": false
  }
 },
 "nbformat": 4,
 "nbformat_minor": 2
}
